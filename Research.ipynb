{
 "cells": [
  {
   "cell_type": "code",
   "execution_count": 1,
   "id": "8c8d9f93",
   "metadata": {},
   "outputs": [
    {
     "data": {
      "text/html": [
       "<style>.container { width:90% !important; }</style>"
      ],
      "text/plain": [
       "<IPython.core.display.HTML object>"
      ]
     },
     "metadata": {},
     "output_type": "display_data"
    }
   ],
   "source": [
    "from IPython.core.display import display, HTML\n",
    "display(HTML(\"<style>.container { width:90% !important; }</style>\"))\n",
    "import plotly.graph_objects as go\n",
    "import plotly.express as px\n",
    "import numpy as np\n",
    "import pandas as pd\n",
    "from datetime import datetime\n",
    "pd.options.display.max_columns = None\n",
    "from pybaseball import batting_stats, pitching_stats, cache, playerid_lookup, statcast_batter, statcast_pitcher, statcast\n",
    "\n",
    "cache.enable()\n",
    "cache.config.cache_type='csv'\n",
    "cache.config.save()\n",
    "\n",
    "from sqlalchemy import MetaData, text, Column, Integer, String, ForeignKey, Table, create_engine, Float, Boolean, DateTime\n",
    "from sqlalchemy.orm import relationship, backref, sessionmaker\n",
    "from sqlalchemy.ext.declarative import declarative_base\n",
    "\n",
    "meta = MetaData()\n",
    "engine = create_engine('sqlite:///fantasy_data.db', echo=False)"
   ]
  },
  {
   "cell_type": "code",
   "execution_count": 3,
   "id": "db0babf3",
   "metadata": {},
   "outputs": [],
   "source": [
    "n_teams = 13\n",
    "tm_players = 23\n",
    "tm_dollars = 260\n",
    "player_split = .65\n",
    "pitcher_split = 1 - player_split\n",
    "tot_dollars = n_teams * tm_dollars\n",
    "tot_players = n_teams * tm_players\n",
    "tot_hitters = n_teams * 14\n",
    "tot_pitchers = n_teams * 9\n",
    "\n",
    "def owners(conv):\n",
    "    df = pd.read_sql('players', engine)\n",
    "    owners_df = df.groupby('Owner').agg({'Name':'count', 'Paid':'sum', 'z':'sum', 'H':'sum', 'AB':'sum', 'HR':'sum', 'R':'sum', 'RBI':'sum', 'SB':'sum', 'W':'sum', 'Sv+Hld':'sum', 'SO':'sum'}).reset_index()\n",
    "    owners_df.rename(columns={'Name':'Drafted'},inplace=True)\n",
    "    owners_df['$/unit'] = owners_df['Paid']/owners_df['z']\n",
    "    owners_df['$ Left'] = tm_dollars - owners_df['Paid']\n",
    "    owners_df['$ Left / Plyr'] = owners_df['$ Left'] / (tm_players -owners_df['Drafted'])\n",
    "    owners_df['Value'] = (owners_df['z']*conv)-owners_df['Paid']\n",
    "    owners_df['BA'] = owners_df['H']/owners_df['AB']\n",
    "    owners_df['Pts'] = 0\n",
    "    for i in ['BA', 'HR', 'R', 'RBI', 'SB', 'W', 'Sv+Hld', 'SO']:\n",
    "        owners_df['Pts'] += owners_df[i].rank()\n",
    "    owners_df['Rank'] = owners_df['Pts'].rank()\n",
    "    return df.sort_values('z', ascending=False), owners_df\n",
    "\n",
    "conv = 4.818971892407433\n",
    "df, owners_df = owners(conv)\n",
    "df['diff'] = df['Value'] - df['Dollars']"
   ]
  },
  {
   "cell_type": "code",
   "execution_count": 46,
   "id": "d0fda4c3",
   "metadata": {},
   "outputs": [],
   "source": [
    "sc = pd.read_csv('data/statcast-exit_velocity.csv')\n",
    "sc = sc.sort_values('brl_pa', ascending=False)\n",
    "sc = sc.merge(df[['playerid', 'Name', 'Primary_Pos', 'z', 'Value']], on='playerid', how='left')\n",
    "sc.Name.fillna(sc['first_name']+' '+sc['last_name'],inplace=True)\n",
    "sc = sc[~sc['Primary_Pos'].isin(['SP', 'RP'])]\n",
    "sc['brl_pa_rank'] = sc.brl_pa.rank(pct=True)"
   ]
  },
  {
   "cell_type": "code",
   "execution_count": 11,
   "id": "7fe7d76b",
   "metadata": {},
   "outputs": [],
   "source": [
    "from sklearn.cluster import OPTICS, DBSCAN"
   ]
  },
  {
   "cell_type": "code",
   "execution_count": 110,
   "id": "0104e99e",
   "metadata": {},
   "outputs": [],
   "source": [
    "X = sc[['anglesweetspotpercent', 'ev95percent', 'brl_pa']]"
   ]
  },
  {
   "cell_type": "code",
   "execution_count": 121,
   "id": "50b0c7e0",
   "metadata": {},
   "outputs": [
    {
     "name": "stdout",
     "output_type": "stream",
     "text": [
      "57\n",
      "39\n"
     ]
    }
   ],
   "source": [
    "optics = OPTICS(min_samples=5).fit(X)\n",
    "dbscan = DBSCAN(eps=1, min_samples=5).fit(X)\n",
    "sc['optics'] = optics.labels_\n",
    "sc['dbscan'] = dbscan.labels_\n",
    "print(len(sc['optics'].value_counts()))\n",
    "print(len(sc['dbscan'].value_counts()))"
   ]
  },
  {
   "cell_type": "code",
   "execution_count": 122,
   "id": "22e39e76",
   "metadata": {},
   "outputs": [
    {
     "data": {
      "text/plain": [
       "-1     937\n",
       " 10    171\n",
       " 0     131\n",
       " 11     40\n",
       " 6      22\n",
       " 4      18\n",
       " 26     10\n",
       " 2      10\n",
       " 15      8\n",
       " 27      8\n",
       " 36      8\n",
       " 35      8\n",
       " 7       8\n",
       " 33      8\n",
       " 29      7\n",
       " 1       7\n",
       " 24      7\n",
       " 21      7\n",
       " 9       7\n",
       " 32      7\n",
       " 12      7\n",
       " 3       6\n",
       " 19      6\n",
       " 31      6\n",
       " 16      5\n",
       " 14      5\n",
       " 13      5\n",
       " 17      5\n",
       " 37      5\n",
       " 20      5\n",
       " 8       5\n",
       " 22      5\n",
       " 34      5\n",
       " 5       5\n",
       " 23      5\n",
       " 25      5\n",
       " 28      5\n",
       " 18      4\n",
       " 30      4\n",
       "Name: dbscan, dtype: int64"
      ]
     },
     "execution_count": 122,
     "metadata": {},
     "output_type": "execute_result"
    }
   ],
   "source": [
    "sc.dbscan.value_counts()"
   ]
  },
  {
   "cell_type": "code",
   "execution_count": 128,
   "id": "d04c1a1d",
   "metadata": {},
   "outputs": [
    {
     "data": {
      "text/plain": [
       "dbscan\n",
       " 19   -34.575109\n",
       " 35   -33.476452\n",
       " 25   -30.771144\n",
       " 34   -26.356247\n",
       " 22   -26.275456\n",
       " 27   -25.572614\n",
       " 32   -23.803004\n",
       " 5    -18.850637\n",
       " 29   -18.264357\n",
       " 28   -17.657460\n",
       " 37   -15.726575\n",
       " 16   -12.817111\n",
       " 33   -12.561029\n",
       " 24   -11.939041\n",
       " 36   -11.823249\n",
       " 15   -11.722316\n",
       " 10   -11.554837\n",
       " 23   -10.199643\n",
       "-1    -10.003129\n",
       " 31    -9.637822\n",
       " 11    -9.063883\n",
       " 12    -6.863034\n",
       " 30    -6.860451\n",
       " 20    -6.713214\n",
       " 18    -6.654697\n",
       " 26    -6.361071\n",
       " 7     -3.417392\n",
       " 14    -2.898107\n",
       " 0     -1.775202\n",
       " 4     -1.514089\n",
       " 21    -1.096644\n",
       " 6     -0.446365\n",
       " 13     0.763880\n",
       " 1      1.083382\n",
       " 17     1.786212\n",
       " 3      2.002396\n",
       " 2      8.827477\n",
       " 9      9.385388\n",
       " 8     17.983151\n",
       "Name: Value, dtype: float64"
      ]
     },
     "execution_count": 128,
     "metadata": {},
     "output_type": "execute_result"
    }
   ],
   "source": [
    "sc.groupby('dbscan')['Value'].mean().sort_values()"
   ]
  },
  {
   "cell_type": "code",
   "execution_count": 147,
   "id": "f6f9b0b5",
   "metadata": {},
   "outputs": [
    {
     "data": {
      "application/vnd.plotly.v1+json": {
       "config": {
        "plotlyServerURL": "https://plot.ly"
       },
       "data": [
        {
         "marker": {
          "color": [
           null,
           31.398756685848827,
           -0.12185475710313652,
           -2.8109739421935607,
           10.622213511801892,
           -20.499699546949042,
           11.264866422519832,
           39.58327332662507,
           18.546024673955362,
           -8.535308929092459
          ],
          "colorscale": [
           [
            0,
            "rgb(0,0,255)"
           ],
           [
            1,
            "rgb(255,0,0)"
           ]
          ]
         },
         "mode": "markers",
         "text": [
          " Edwin Encarnación<br>2019<br>nan<br>2151",
          "Jose Ramirez<br>2021<br>31.398756685848827<br>13510",
          "Gary Sanchez<br>2021<br>-0.12185475710313652<br>11442",
          "Elias Diaz<br>2020<br>-2.8109739421935607<br>11680",
          "Avisail Garcia<br>2019<br>10.622213511801892<br>5760",
          "Keston Hiura<br>2021<br>-20.499699546949042<br>20003",
          "Jared Walsh<br>2021<br>11.264866422519832<br>18607",
          "Trea Turner<br>2020<br>39.58327332662507<br>16252",
          "Ketel Marte<br>2019<br>18.546024673955362<br>13613",
          "Roberto Perez<br>2019<br>-8.535308929092459<br>2900"
         ],
         "type": "scatter",
         "x": [
          8.4,
          8.2,
          8.2,
          8.2,
          8.1,
          7.6,
          7.4,
          7.3,
          7.2,
          6.7
         ],
         "y": [
          34.3,
          33.4,
          34.4,
          34,
          34.1,
          34.3,
          33.6,
          34.2,
          34.6,
          33
         ]
        }
       ],
       "layout": {
        "template": {
         "data": {
          "bar": [
           {
            "error_x": {
             "color": "#2a3f5f"
            },
            "error_y": {
             "color": "#2a3f5f"
            },
            "marker": {
             "line": {
              "color": "#E5ECF6",
              "width": 0.5
             }
            },
            "type": "bar"
           }
          ],
          "barpolar": [
           {
            "marker": {
             "line": {
              "color": "#E5ECF6",
              "width": 0.5
             }
            },
            "type": "barpolar"
           }
          ],
          "carpet": [
           {
            "aaxis": {
             "endlinecolor": "#2a3f5f",
             "gridcolor": "white",
             "linecolor": "white",
             "minorgridcolor": "white",
             "startlinecolor": "#2a3f5f"
            },
            "baxis": {
             "endlinecolor": "#2a3f5f",
             "gridcolor": "white",
             "linecolor": "white",
             "minorgridcolor": "white",
             "startlinecolor": "#2a3f5f"
            },
            "type": "carpet"
           }
          ],
          "choropleth": [
           {
            "colorbar": {
             "outlinewidth": 0,
             "ticks": ""
            },
            "type": "choropleth"
           }
          ],
          "contour": [
           {
            "colorbar": {
             "outlinewidth": 0,
             "ticks": ""
            },
            "colorscale": [
             [
              0,
              "#0d0887"
             ],
             [
              0.1111111111111111,
              "#46039f"
             ],
             [
              0.2222222222222222,
              "#7201a8"
             ],
             [
              0.3333333333333333,
              "#9c179e"
             ],
             [
              0.4444444444444444,
              "#bd3786"
             ],
             [
              0.5555555555555556,
              "#d8576b"
             ],
             [
              0.6666666666666666,
              "#ed7953"
             ],
             [
              0.7777777777777778,
              "#fb9f3a"
             ],
             [
              0.8888888888888888,
              "#fdca26"
             ],
             [
              1,
              "#f0f921"
             ]
            ],
            "type": "contour"
           }
          ],
          "contourcarpet": [
           {
            "colorbar": {
             "outlinewidth": 0,
             "ticks": ""
            },
            "type": "contourcarpet"
           }
          ],
          "heatmap": [
           {
            "colorbar": {
             "outlinewidth": 0,
             "ticks": ""
            },
            "colorscale": [
             [
              0,
              "#0d0887"
             ],
             [
              0.1111111111111111,
              "#46039f"
             ],
             [
              0.2222222222222222,
              "#7201a8"
             ],
             [
              0.3333333333333333,
              "#9c179e"
             ],
             [
              0.4444444444444444,
              "#bd3786"
             ],
             [
              0.5555555555555556,
              "#d8576b"
             ],
             [
              0.6666666666666666,
              "#ed7953"
             ],
             [
              0.7777777777777778,
              "#fb9f3a"
             ],
             [
              0.8888888888888888,
              "#fdca26"
             ],
             [
              1,
              "#f0f921"
             ]
            ],
            "type": "heatmap"
           }
          ],
          "heatmapgl": [
           {
            "colorbar": {
             "outlinewidth": 0,
             "ticks": ""
            },
            "colorscale": [
             [
              0,
              "#0d0887"
             ],
             [
              0.1111111111111111,
              "#46039f"
             ],
             [
              0.2222222222222222,
              "#7201a8"
             ],
             [
              0.3333333333333333,
              "#9c179e"
             ],
             [
              0.4444444444444444,
              "#bd3786"
             ],
             [
              0.5555555555555556,
              "#d8576b"
             ],
             [
              0.6666666666666666,
              "#ed7953"
             ],
             [
              0.7777777777777778,
              "#fb9f3a"
             ],
             [
              0.8888888888888888,
              "#fdca26"
             ],
             [
              1,
              "#f0f921"
             ]
            ],
            "type": "heatmapgl"
           }
          ],
          "histogram": [
           {
            "marker": {
             "colorbar": {
              "outlinewidth": 0,
              "ticks": ""
             }
            },
            "type": "histogram"
           }
          ],
          "histogram2d": [
           {
            "colorbar": {
             "outlinewidth": 0,
             "ticks": ""
            },
            "colorscale": [
             [
              0,
              "#0d0887"
             ],
             [
              0.1111111111111111,
              "#46039f"
             ],
             [
              0.2222222222222222,
              "#7201a8"
             ],
             [
              0.3333333333333333,
              "#9c179e"
             ],
             [
              0.4444444444444444,
              "#bd3786"
             ],
             [
              0.5555555555555556,
              "#d8576b"
             ],
             [
              0.6666666666666666,
              "#ed7953"
             ],
             [
              0.7777777777777778,
              "#fb9f3a"
             ],
             [
              0.8888888888888888,
              "#fdca26"
             ],
             [
              1,
              "#f0f921"
             ]
            ],
            "type": "histogram2d"
           }
          ],
          "histogram2dcontour": [
           {
            "colorbar": {
             "outlinewidth": 0,
             "ticks": ""
            },
            "colorscale": [
             [
              0,
              "#0d0887"
             ],
             [
              0.1111111111111111,
              "#46039f"
             ],
             [
              0.2222222222222222,
              "#7201a8"
             ],
             [
              0.3333333333333333,
              "#9c179e"
             ],
             [
              0.4444444444444444,
              "#bd3786"
             ],
             [
              0.5555555555555556,
              "#d8576b"
             ],
             [
              0.6666666666666666,
              "#ed7953"
             ],
             [
              0.7777777777777778,
              "#fb9f3a"
             ],
             [
              0.8888888888888888,
              "#fdca26"
             ],
             [
              1,
              "#f0f921"
             ]
            ],
            "type": "histogram2dcontour"
           }
          ],
          "mesh3d": [
           {
            "colorbar": {
             "outlinewidth": 0,
             "ticks": ""
            },
            "type": "mesh3d"
           }
          ],
          "parcoords": [
           {
            "line": {
             "colorbar": {
              "outlinewidth": 0,
              "ticks": ""
             }
            },
            "type": "parcoords"
           }
          ],
          "pie": [
           {
            "automargin": true,
            "type": "pie"
           }
          ],
          "scatter": [
           {
            "marker": {
             "colorbar": {
              "outlinewidth": 0,
              "ticks": ""
             }
            },
            "type": "scatter"
           }
          ],
          "scatter3d": [
           {
            "line": {
             "colorbar": {
              "outlinewidth": 0,
              "ticks": ""
             }
            },
            "marker": {
             "colorbar": {
              "outlinewidth": 0,
              "ticks": ""
             }
            },
            "type": "scatter3d"
           }
          ],
          "scattercarpet": [
           {
            "marker": {
             "colorbar": {
              "outlinewidth": 0,
              "ticks": ""
             }
            },
            "type": "scattercarpet"
           }
          ],
          "scattergeo": [
           {
            "marker": {
             "colorbar": {
              "outlinewidth": 0,
              "ticks": ""
             }
            },
            "type": "scattergeo"
           }
          ],
          "scattergl": [
           {
            "marker": {
             "colorbar": {
              "outlinewidth": 0,
              "ticks": ""
             }
            },
            "type": "scattergl"
           }
          ],
          "scattermapbox": [
           {
            "marker": {
             "colorbar": {
              "outlinewidth": 0,
              "ticks": ""
             }
            },
            "type": "scattermapbox"
           }
          ],
          "scatterpolar": [
           {
            "marker": {
             "colorbar": {
              "outlinewidth": 0,
              "ticks": ""
             }
            },
            "type": "scatterpolar"
           }
          ],
          "scatterpolargl": [
           {
            "marker": {
             "colorbar": {
              "outlinewidth": 0,
              "ticks": ""
             }
            },
            "type": "scatterpolargl"
           }
          ],
          "scatterternary": [
           {
            "marker": {
             "colorbar": {
              "outlinewidth": 0,
              "ticks": ""
             }
            },
            "type": "scatterternary"
           }
          ],
          "surface": [
           {
            "colorbar": {
             "outlinewidth": 0,
             "ticks": ""
            },
            "colorscale": [
             [
              0,
              "#0d0887"
             ],
             [
              0.1111111111111111,
              "#46039f"
             ],
             [
              0.2222222222222222,
              "#7201a8"
             ],
             [
              0.3333333333333333,
              "#9c179e"
             ],
             [
              0.4444444444444444,
              "#bd3786"
             ],
             [
              0.5555555555555556,
              "#d8576b"
             ],
             [
              0.6666666666666666,
              "#ed7953"
             ],
             [
              0.7777777777777778,
              "#fb9f3a"
             ],
             [
              0.8888888888888888,
              "#fdca26"
             ],
             [
              1,
              "#f0f921"
             ]
            ],
            "type": "surface"
           }
          ],
          "table": [
           {
            "cells": {
             "fill": {
              "color": "#EBF0F8"
             },
             "line": {
              "color": "white"
             }
            },
            "header": {
             "fill": {
              "color": "#C8D4E3"
             },
             "line": {
              "color": "white"
             }
            },
            "type": "table"
           }
          ]
         },
         "layout": {
          "annotationdefaults": {
           "arrowcolor": "#2a3f5f",
           "arrowhead": 0,
           "arrowwidth": 1
          },
          "autotypenumbers": "strict",
          "coloraxis": {
           "colorbar": {
            "outlinewidth": 0,
            "ticks": ""
           }
          },
          "colorscale": {
           "diverging": [
            [
             0,
             "#8e0152"
            ],
            [
             0.1,
             "#c51b7d"
            ],
            [
             0.2,
             "#de77ae"
            ],
            [
             0.3,
             "#f1b6da"
            ],
            [
             0.4,
             "#fde0ef"
            ],
            [
             0.5,
             "#f7f7f7"
            ],
            [
             0.6,
             "#e6f5d0"
            ],
            [
             0.7,
             "#b8e186"
            ],
            [
             0.8,
             "#7fbc41"
            ],
            [
             0.9,
             "#4d9221"
            ],
            [
             1,
             "#276419"
            ]
           ],
           "sequential": [
            [
             0,
             "#0d0887"
            ],
            [
             0.1111111111111111,
             "#46039f"
            ],
            [
             0.2222222222222222,
             "#7201a8"
            ],
            [
             0.3333333333333333,
             "#9c179e"
            ],
            [
             0.4444444444444444,
             "#bd3786"
            ],
            [
             0.5555555555555556,
             "#d8576b"
            ],
            [
             0.6666666666666666,
             "#ed7953"
            ],
            [
             0.7777777777777778,
             "#fb9f3a"
            ],
            [
             0.8888888888888888,
             "#fdca26"
            ],
            [
             1,
             "#f0f921"
            ]
           ],
           "sequentialminus": [
            [
             0,
             "#0d0887"
            ],
            [
             0.1111111111111111,
             "#46039f"
            ],
            [
             0.2222222222222222,
             "#7201a8"
            ],
            [
             0.3333333333333333,
             "#9c179e"
            ],
            [
             0.4444444444444444,
             "#bd3786"
            ],
            [
             0.5555555555555556,
             "#d8576b"
            ],
            [
             0.6666666666666666,
             "#ed7953"
            ],
            [
             0.7777777777777778,
             "#fb9f3a"
            ],
            [
             0.8888888888888888,
             "#fdca26"
            ],
            [
             1,
             "#f0f921"
            ]
           ]
          },
          "colorway": [
           "#636efa",
           "#EF553B",
           "#00cc96",
           "#ab63fa",
           "#FFA15A",
           "#19d3f3",
           "#FF6692",
           "#B6E880",
           "#FF97FF",
           "#FECB52"
          ],
          "font": {
           "color": "#2a3f5f"
          },
          "geo": {
           "bgcolor": "white",
           "lakecolor": "white",
           "landcolor": "#E5ECF6",
           "showlakes": true,
           "showland": true,
           "subunitcolor": "white"
          },
          "hoverlabel": {
           "align": "left"
          },
          "hovermode": "closest",
          "mapbox": {
           "style": "light"
          },
          "paper_bgcolor": "white",
          "plot_bgcolor": "#E5ECF6",
          "polar": {
           "angularaxis": {
            "gridcolor": "white",
            "linecolor": "white",
            "ticks": ""
           },
           "bgcolor": "#E5ECF6",
           "radialaxis": {
            "gridcolor": "white",
            "linecolor": "white",
            "ticks": ""
           }
          },
          "scene": {
           "xaxis": {
            "backgroundcolor": "#E5ECF6",
            "gridcolor": "white",
            "gridwidth": 2,
            "linecolor": "white",
            "showbackground": true,
            "ticks": "",
            "zerolinecolor": "white"
           },
           "yaxis": {
            "backgroundcolor": "#E5ECF6",
            "gridcolor": "white",
            "gridwidth": 2,
            "linecolor": "white",
            "showbackground": true,
            "ticks": "",
            "zerolinecolor": "white"
           },
           "zaxis": {
            "backgroundcolor": "#E5ECF6",
            "gridcolor": "white",
            "gridwidth": 2,
            "linecolor": "white",
            "showbackground": true,
            "ticks": "",
            "zerolinecolor": "white"
           }
          },
          "shapedefaults": {
           "line": {
            "color": "#2a3f5f"
           }
          },
          "ternary": {
           "aaxis": {
            "gridcolor": "white",
            "linecolor": "white",
            "ticks": ""
           },
           "baxis": {
            "gridcolor": "white",
            "linecolor": "white",
            "ticks": ""
           },
           "bgcolor": "#E5ECF6",
           "caxis": {
            "gridcolor": "white",
            "linecolor": "white",
            "ticks": ""
           }
          },
          "title": {
           "x": 0.05
          },
          "xaxis": {
           "automargin": true,
           "gridcolor": "white",
           "linecolor": "white",
           "ticks": "",
           "title": {
            "standoff": 15
           },
           "zerolinecolor": "white",
           "zerolinewidth": 2
          },
          "yaxis": {
           "automargin": true,
           "gridcolor": "white",
           "linecolor": "white",
           "ticks": "",
           "title": {
            "standoff": 15
           },
           "zerolinecolor": "white",
           "zerolinewidth": 2
          }
         }
        }
       }
      },
      "text/html": [
       "<div>                            <div id=\"496fe085-3f47-4ae5-a71c-3f1eca6097ac\" class=\"plotly-graph-div\" style=\"height:525px; width:100%;\"></div>            <script type=\"text/javascript\">                require([\"plotly\"], function(Plotly) {                    window.PLOTLYENV=window.PLOTLYENV || {};                                    if (document.getElementById(\"496fe085-3f47-4ae5-a71c-3f1eca6097ac\")) {                    Plotly.newPlot(                        \"496fe085-3f47-4ae5-a71c-3f1eca6097ac\",                        [{\"marker\": {\"color\": [null, 31.398756685848827, -0.12185475710313652, -2.8109739421935607, 10.622213511801892, -20.499699546949042, 11.264866422519832, 39.58327332662507, 18.546024673955362, -8.535308929092459], \"colorscale\": [[0.0, \"rgb(0,0,255)\"], [1.0, \"rgb(255,0,0)\"]]}, \"mode\": \"markers\", \"text\": [\" Edwin Encarnaci\\u00f3n<br>2019<br>nan<br>2151\", \"Jose Ramirez<br>2021<br>31.398756685848827<br>13510\", \"Gary Sanchez<br>2021<br>-0.12185475710313652<br>11442\", \"Elias Diaz<br>2020<br>-2.8109739421935607<br>11680\", \"Avisail Garcia<br>2019<br>10.622213511801892<br>5760\", \"Keston Hiura<br>2021<br>-20.499699546949042<br>20003\", \"Jared Walsh<br>2021<br>11.264866422519832<br>18607\", \"Trea Turner<br>2020<br>39.58327332662507<br>16252\", \"Ketel Marte<br>2019<br>18.546024673955362<br>13613\", \"Roberto Perez<br>2019<br>-8.535308929092459<br>2900\"], \"type\": \"scatter\", \"x\": [8.4, 8.2, 8.2, 8.2, 8.1, 7.6, 7.4, 7.3, 7.2, 6.7], \"y\": [34.3, 33.4, 34.4, 34.0, 34.1, 34.3, 33.6, 34.2, 34.6, 33.0]}],                        {\"template\": {\"data\": {\"bar\": [{\"error_x\": {\"color\": \"#2a3f5f\"}, \"error_y\": {\"color\": \"#2a3f5f\"}, \"marker\": {\"line\": {\"color\": \"#E5ECF6\", \"width\": 0.5}}, \"type\": \"bar\"}], \"barpolar\": [{\"marker\": {\"line\": {\"color\": \"#E5ECF6\", \"width\": 0.5}}, \"type\": \"barpolar\"}], \"carpet\": [{\"aaxis\": {\"endlinecolor\": \"#2a3f5f\", \"gridcolor\": \"white\", \"linecolor\": \"white\", \"minorgridcolor\": \"white\", \"startlinecolor\": \"#2a3f5f\"}, \"baxis\": {\"endlinecolor\": \"#2a3f5f\", \"gridcolor\": \"white\", \"linecolor\": \"white\", \"minorgridcolor\": \"white\", \"startlinecolor\": \"#2a3f5f\"}, \"type\": \"carpet\"}], \"choropleth\": [{\"colorbar\": {\"outlinewidth\": 0, \"ticks\": \"\"}, \"type\": \"choropleth\"}], \"contour\": [{\"colorbar\": {\"outlinewidth\": 0, \"ticks\": \"\"}, \"colorscale\": [[0.0, \"#0d0887\"], [0.1111111111111111, \"#46039f\"], [0.2222222222222222, \"#7201a8\"], [0.3333333333333333, \"#9c179e\"], [0.4444444444444444, \"#bd3786\"], [0.5555555555555556, \"#d8576b\"], [0.6666666666666666, \"#ed7953\"], [0.7777777777777778, \"#fb9f3a\"], [0.8888888888888888, \"#fdca26\"], [1.0, \"#f0f921\"]], \"type\": \"contour\"}], \"contourcarpet\": [{\"colorbar\": {\"outlinewidth\": 0, \"ticks\": \"\"}, \"type\": \"contourcarpet\"}], \"heatmap\": [{\"colorbar\": {\"outlinewidth\": 0, \"ticks\": \"\"}, \"colorscale\": [[0.0, \"#0d0887\"], [0.1111111111111111, \"#46039f\"], [0.2222222222222222, \"#7201a8\"], [0.3333333333333333, \"#9c179e\"], [0.4444444444444444, \"#bd3786\"], [0.5555555555555556, \"#d8576b\"], [0.6666666666666666, \"#ed7953\"], [0.7777777777777778, \"#fb9f3a\"], [0.8888888888888888, \"#fdca26\"], [1.0, \"#f0f921\"]], \"type\": \"heatmap\"}], \"heatmapgl\": [{\"colorbar\": {\"outlinewidth\": 0, \"ticks\": \"\"}, \"colorscale\": [[0.0, \"#0d0887\"], [0.1111111111111111, \"#46039f\"], [0.2222222222222222, \"#7201a8\"], [0.3333333333333333, \"#9c179e\"], [0.4444444444444444, \"#bd3786\"], [0.5555555555555556, \"#d8576b\"], [0.6666666666666666, \"#ed7953\"], [0.7777777777777778, \"#fb9f3a\"], [0.8888888888888888, \"#fdca26\"], [1.0, \"#f0f921\"]], \"type\": \"heatmapgl\"}], \"histogram\": [{\"marker\": {\"colorbar\": {\"outlinewidth\": 0, \"ticks\": \"\"}}, \"type\": \"histogram\"}], \"histogram2d\": [{\"colorbar\": {\"outlinewidth\": 0, \"ticks\": \"\"}, \"colorscale\": [[0.0, \"#0d0887\"], [0.1111111111111111, \"#46039f\"], [0.2222222222222222, \"#7201a8\"], [0.3333333333333333, \"#9c179e\"], [0.4444444444444444, \"#bd3786\"], [0.5555555555555556, \"#d8576b\"], [0.6666666666666666, \"#ed7953\"], [0.7777777777777778, \"#fb9f3a\"], [0.8888888888888888, \"#fdca26\"], [1.0, \"#f0f921\"]], \"type\": \"histogram2d\"}], \"histogram2dcontour\": [{\"colorbar\": {\"outlinewidth\": 0, \"ticks\": \"\"}, \"colorscale\": [[0.0, \"#0d0887\"], [0.1111111111111111, \"#46039f\"], [0.2222222222222222, \"#7201a8\"], [0.3333333333333333, \"#9c179e\"], [0.4444444444444444, \"#bd3786\"], [0.5555555555555556, \"#d8576b\"], [0.6666666666666666, \"#ed7953\"], [0.7777777777777778, \"#fb9f3a\"], [0.8888888888888888, \"#fdca26\"], [1.0, \"#f0f921\"]], \"type\": \"histogram2dcontour\"}], \"mesh3d\": [{\"colorbar\": {\"outlinewidth\": 0, \"ticks\": \"\"}, \"type\": \"mesh3d\"}], \"parcoords\": [{\"line\": {\"colorbar\": {\"outlinewidth\": 0, \"ticks\": \"\"}}, \"type\": \"parcoords\"}], \"pie\": [{\"automargin\": true, \"type\": \"pie\"}], \"scatter\": [{\"marker\": {\"colorbar\": {\"outlinewidth\": 0, \"ticks\": \"\"}}, \"type\": \"scatter\"}], \"scatter3d\": [{\"line\": {\"colorbar\": {\"outlinewidth\": 0, \"ticks\": \"\"}}, \"marker\": {\"colorbar\": {\"outlinewidth\": 0, \"ticks\": \"\"}}, \"type\": \"scatter3d\"}], \"scattercarpet\": [{\"marker\": {\"colorbar\": {\"outlinewidth\": 0, \"ticks\": \"\"}}, \"type\": \"scattercarpet\"}], \"scattergeo\": [{\"marker\": {\"colorbar\": {\"outlinewidth\": 0, \"ticks\": \"\"}}, \"type\": \"scattergeo\"}], \"scattergl\": [{\"marker\": {\"colorbar\": {\"outlinewidth\": 0, \"ticks\": \"\"}}, \"type\": \"scattergl\"}], \"scattermapbox\": [{\"marker\": {\"colorbar\": {\"outlinewidth\": 0, \"ticks\": \"\"}}, \"type\": \"scattermapbox\"}], \"scatterpolar\": [{\"marker\": {\"colorbar\": {\"outlinewidth\": 0, \"ticks\": \"\"}}, \"type\": \"scatterpolar\"}], \"scatterpolargl\": [{\"marker\": {\"colorbar\": {\"outlinewidth\": 0, \"ticks\": \"\"}}, \"type\": \"scatterpolargl\"}], \"scatterternary\": [{\"marker\": {\"colorbar\": {\"outlinewidth\": 0, \"ticks\": \"\"}}, \"type\": \"scatterternary\"}], \"surface\": [{\"colorbar\": {\"outlinewidth\": 0, \"ticks\": \"\"}, \"colorscale\": [[0.0, \"#0d0887\"], [0.1111111111111111, \"#46039f\"], [0.2222222222222222, \"#7201a8\"], [0.3333333333333333, \"#9c179e\"], [0.4444444444444444, \"#bd3786\"], [0.5555555555555556, \"#d8576b\"], [0.6666666666666666, \"#ed7953\"], [0.7777777777777778, \"#fb9f3a\"], [0.8888888888888888, \"#fdca26\"], [1.0, \"#f0f921\"]], \"type\": \"surface\"}], \"table\": [{\"cells\": {\"fill\": {\"color\": \"#EBF0F8\"}, \"line\": {\"color\": \"white\"}}, \"header\": {\"fill\": {\"color\": \"#C8D4E3\"}, \"line\": {\"color\": \"white\"}}, \"type\": \"table\"}]}, \"layout\": {\"annotationdefaults\": {\"arrowcolor\": \"#2a3f5f\", \"arrowhead\": 0, \"arrowwidth\": 1}, \"autotypenumbers\": \"strict\", \"coloraxis\": {\"colorbar\": {\"outlinewidth\": 0, \"ticks\": \"\"}}, \"colorscale\": {\"diverging\": [[0, \"#8e0152\"], [0.1, \"#c51b7d\"], [0.2, \"#de77ae\"], [0.3, \"#f1b6da\"], [0.4, \"#fde0ef\"], [0.5, \"#f7f7f7\"], [0.6, \"#e6f5d0\"], [0.7, \"#b8e186\"], [0.8, \"#7fbc41\"], [0.9, \"#4d9221\"], [1, \"#276419\"]], \"sequential\": [[0.0, \"#0d0887\"], [0.1111111111111111, \"#46039f\"], [0.2222222222222222, \"#7201a8\"], [0.3333333333333333, \"#9c179e\"], [0.4444444444444444, \"#bd3786\"], [0.5555555555555556, \"#d8576b\"], [0.6666666666666666, \"#ed7953\"], [0.7777777777777778, \"#fb9f3a\"], [0.8888888888888888, \"#fdca26\"], [1.0, \"#f0f921\"]], \"sequentialminus\": [[0.0, \"#0d0887\"], [0.1111111111111111, \"#46039f\"], [0.2222222222222222, \"#7201a8\"], [0.3333333333333333, \"#9c179e\"], [0.4444444444444444, \"#bd3786\"], [0.5555555555555556, \"#d8576b\"], [0.6666666666666666, \"#ed7953\"], [0.7777777777777778, \"#fb9f3a\"], [0.8888888888888888, \"#fdca26\"], [1.0, \"#f0f921\"]]}, \"colorway\": [\"#636efa\", \"#EF553B\", \"#00cc96\", \"#ab63fa\", \"#FFA15A\", \"#19d3f3\", \"#FF6692\", \"#B6E880\", \"#FF97FF\", \"#FECB52\"], \"font\": {\"color\": \"#2a3f5f\"}, \"geo\": {\"bgcolor\": \"white\", \"lakecolor\": \"white\", \"landcolor\": \"#E5ECF6\", \"showlakes\": true, \"showland\": true, \"subunitcolor\": \"white\"}, \"hoverlabel\": {\"align\": \"left\"}, \"hovermode\": \"closest\", \"mapbox\": {\"style\": \"light\"}, \"paper_bgcolor\": \"white\", \"plot_bgcolor\": \"#E5ECF6\", \"polar\": {\"angularaxis\": {\"gridcolor\": \"white\", \"linecolor\": \"white\", \"ticks\": \"\"}, \"bgcolor\": \"#E5ECF6\", \"radialaxis\": {\"gridcolor\": \"white\", \"linecolor\": \"white\", \"ticks\": \"\"}}, \"scene\": {\"xaxis\": {\"backgroundcolor\": \"#E5ECF6\", \"gridcolor\": \"white\", \"gridwidth\": 2, \"linecolor\": \"white\", \"showbackground\": true, \"ticks\": \"\", \"zerolinecolor\": \"white\"}, \"yaxis\": {\"backgroundcolor\": \"#E5ECF6\", \"gridcolor\": \"white\", \"gridwidth\": 2, \"linecolor\": \"white\", \"showbackground\": true, \"ticks\": \"\", \"zerolinecolor\": \"white\"}, \"zaxis\": {\"backgroundcolor\": \"#E5ECF6\", \"gridcolor\": \"white\", \"gridwidth\": 2, \"linecolor\": \"white\", \"showbackground\": true, \"ticks\": \"\", \"zerolinecolor\": \"white\"}}, \"shapedefaults\": {\"line\": {\"color\": \"#2a3f5f\"}}, \"ternary\": {\"aaxis\": {\"gridcolor\": \"white\", \"linecolor\": \"white\", \"ticks\": \"\"}, \"baxis\": {\"gridcolor\": \"white\", \"linecolor\": \"white\", \"ticks\": \"\"}, \"bgcolor\": \"#E5ECF6\", \"caxis\": {\"gridcolor\": \"white\", \"linecolor\": \"white\", \"ticks\": \"\"}}, \"title\": {\"x\": 0.05}, \"xaxis\": {\"automargin\": true, \"gridcolor\": \"white\", \"linecolor\": \"white\", \"ticks\": \"\", \"title\": {\"standoff\": 15}, \"zerolinecolor\": \"white\", \"zerolinewidth\": 2}, \"yaxis\": {\"automargin\": true, \"gridcolor\": \"white\", \"linecolor\": \"white\", \"ticks\": \"\", \"title\": {\"standoff\": 15}, \"zerolinecolor\": \"white\", \"zerolinewidth\": 2}}}},                        {\"responsive\": true}                    ).then(function(){\n",
       "                            \n",
       "var gd = document.getElementById('496fe085-3f47-4ae5-a71c-3f1eca6097ac');\n",
       "var x = new MutationObserver(function (mutations, observer) {{\n",
       "        var display = window.getComputedStyle(gd).display;\n",
       "        if (!display || display === 'none') {{\n",
       "            console.log([gd, 'removed!']);\n",
       "            Plotly.purge(gd);\n",
       "            observer.disconnect();\n",
       "        }}\n",
       "}});\n",
       "\n",
       "// Listen for the removal of the full notebook cells\n",
       "var notebookContainer = gd.closest('#notebook-container');\n",
       "if (notebookContainer) {{\n",
       "    x.observe(notebookContainer, {childList: true});\n",
       "}}\n",
       "\n",
       "// Listen for the clearing of the current output cell\n",
       "var outputEl = gd.closest('.output');\n",
       "if (outputEl) {{\n",
       "    x.observe(outputEl, {childList: true});\n",
       "}}\n",
       "\n",
       "                        })                };                });            </script>        </div>"
      ]
     },
     "metadata": {},
     "output_type": "display_data"
    }
   ],
   "source": [
    "mask = (sc['dbscan'] == 2)\n",
    "\n",
    "fig = go.Figure()\n",
    "fig.add_trace(\n",
    "    go.Scatter(\n",
    "        x=sc[mask]['brl_pa'],\n",
    "        y=sc[mask]['anglesweetspotpercent'],\n",
    "        mode='markers',\n",
    "        marker=dict(color=sc[mask]['Value'], colorscale='bluered'),\n",
    "        text=sc[mask]['Name']+'<br>'+sc[mask]['year'].astype(str)+'<br>'+sc[mask]['Value'].astype(str)+'<br>'+sc[mask]['playerid']\n",
    "    )\n",
    ")\n",
    "fig.show()"
   ]
  },
  {
   "cell_type": "code",
   "execution_count": 24,
   "id": "6c7a981a",
   "metadata": {},
   "outputs": [],
   "source": [
    "from sklearn.preprocessing import MinMaxScaler\n",
    "from scipy.stats.stats import pearsonr\n",
    "def scale_data(df, cols):\n",
    "    \"\"\"\n",
    "    INPUT: \n",
    "        df: original dataframe\n",
    "        list: subset of columns to scale\n",
    "    OUTPUT:\n",
    "        df: scaled data\n",
    "    \"\"\"\n",
    "    scaler = MinMaxScaler()\n",
    "    scaler.fit(df[cols])\n",
    "    scaled_df = scaler.transform(df[cols])\n",
    "    scaled_df = pd.DataFrame(scaled_df, index=df.index)\n",
    "    scaled_df.columns=[df[cols].columns.tolist()]\n",
    "    return scaled_df\n",
    "\n",
    "def add_distance_metrics(h, player_id, col_list):\n",
    "    scaled_df = scale_data(h.set_index('playerid'), col_list)\n",
    "    df2 = h.loc[:,['playerid', 'Name', 'Value']+col_list].set_index('playerid')\n",
    "    for j, row in scaled_df.iterrows():\n",
    "        #df2.at[j,'corr'] = pearsonr(scaled_df.loc[player_id,col_list],row[col_list])[0]\n",
    "        df2.at[j,'eucl_dist'] = np.linalg.norm(scaled_df.loc[player_id,col_list] - row[col_list])\n",
    "        #df2.at[j,'manh_dist']= sum(abs(e - s) for s, e in zip(scaled_df.loc[player_id,col_list], row[col_list]))\n",
    "    return df2.sort_values('eucl_dist').iloc[:10]"
   ]
  },
  {
   "cell_type": "code",
   "execution_count": 175,
   "id": "13a593b4",
   "metadata": {},
   "outputs": [],
   "source": [
    "cols = X.columns.tolist()"
   ]
  },
  {
   "cell_type": "code",
   "execution_count": 176,
   "id": "62af26e3",
   "metadata": {},
   "outputs": [
    {
     "data": {
      "text/html": [
       "<div>\n",
       "<style scoped>\n",
       "    .dataframe tbody tr th:only-of-type {\n",
       "        vertical-align: middle;\n",
       "    }\n",
       "\n",
       "    .dataframe tbody tr th {\n",
       "        vertical-align: top;\n",
       "    }\n",
       "\n",
       "    .dataframe thead th {\n",
       "        text-align: right;\n",
       "    }\n",
       "</style>\n",
       "<table border=\"1\" class=\"dataframe\">\n",
       "  <thead>\n",
       "    <tr style=\"text-align: right;\">\n",
       "      <th></th>\n",
       "      <th>Name</th>\n",
       "      <th>Value</th>\n",
       "      <th>anglesweetspotpercent</th>\n",
       "      <th>ev95percent</th>\n",
       "      <th>brl_pa</th>\n",
       "      <th>eucl_dist</th>\n",
       "    </tr>\n",
       "    <tr>\n",
       "      <th>playerid</th>\n",
       "      <th></th>\n",
       "      <th></th>\n",
       "      <th></th>\n",
       "      <th></th>\n",
       "      <th></th>\n",
       "      <th></th>\n",
       "    </tr>\n",
       "  </thead>\n",
       "  <tbody>\n",
       "    <tr>\n",
       "      <th>20003</th>\n",
       "      <td>Keston Hiura</td>\n",
       "      <td>-20.499700</td>\n",
       "      <td>34.3</td>\n",
       "      <td>41.4</td>\n",
       "      <td>7.6</td>\n",
       "      <td>0.000000</td>\n",
       "    </tr>\n",
       "    <tr>\n",
       "      <th>18607</th>\n",
       "      <td>Jared Walsh</td>\n",
       "      <td>11.264866</td>\n",
       "      <td>33.6</td>\n",
       "      <td>41.2</td>\n",
       "      <td>7.4</td>\n",
       "      <td>0.024980</td>\n",
       "    </tr>\n",
       "    <tr>\n",
       "      <th>12144</th>\n",
       "      <td>Max Kepler</td>\n",
       "      <td>4.859777</td>\n",
       "      <td>35.3</td>\n",
       "      <td>42.5</td>\n",
       "      <td>7.3</td>\n",
       "      <td>0.042449</td>\n",
       "    </tr>\n",
       "    <tr>\n",
       "      <th>11442</th>\n",
       "      <td>Gary Sanchez</td>\n",
       "      <td>-0.121855</td>\n",
       "      <td>34.4</td>\n",
       "      <td>42.0</td>\n",
       "      <td>8.2</td>\n",
       "      <td>0.047523</td>\n",
       "    </tr>\n",
       "    <tr>\n",
       "      <th>13510</th>\n",
       "      <td>Jose Ramirez</td>\n",
       "      <td>31.398757</td>\n",
       "      <td>33.4</td>\n",
       "      <td>42.3</td>\n",
       "      <td>8.2</td>\n",
       "      <td>0.055319</td>\n",
       "    </tr>\n",
       "    <tr>\n",
       "      <th>12533</th>\n",
       "      <td>Marcus Semien</td>\n",
       "      <td>22.290029</td>\n",
       "      <td>35.2</td>\n",
       "      <td>41.3</td>\n",
       "      <td>6.9</td>\n",
       "      <td>0.058972</td>\n",
       "    </tr>\n",
       "  </tbody>\n",
       "</table>\n",
       "</div>"
      ],
      "text/plain": [
       "                   Name      Value  anglesweetspotpercent  ev95percent  \\\n",
       "playerid                                                                 \n",
       "20003      Keston Hiura -20.499700                   34.3         41.4   \n",
       "18607       Jared Walsh  11.264866                   33.6         41.2   \n",
       "12144        Max Kepler   4.859777                   35.3         42.5   \n",
       "11442      Gary Sanchez  -0.121855                   34.4         42.0   \n",
       "13510      Jose Ramirez  31.398757                   33.4         42.3   \n",
       "12533     Marcus Semien  22.290029                   35.2         41.3   \n",
       "\n",
       "          brl_pa  eucl_dist  \n",
       "playerid                     \n",
       "20003        7.6   0.000000  \n",
       "18607        7.4   0.024980  \n",
       "12144        7.3   0.042449  \n",
       "11442        8.2   0.047523  \n",
       "13510        8.2   0.055319  \n",
       "12533        6.9   0.058972  "
      ]
     },
     "execution_count": 176,
     "metadata": {},
     "output_type": "execute_result"
    }
   ],
   "source": [
    "add_distance_metrics(sc[(sc['year']==2021) & (sc['playerid'].notna())], '20003', cols)"
   ]
  },
  {
   "cell_type": "code",
   "execution_count": 25,
   "id": "db07d255",
   "metadata": {},
   "outputs": [],
   "source": [
    "cols = ['HR', 'R', 'RBI', 'SB', 'BA']"
   ]
  },
  {
   "cell_type": "code",
   "execution_count": 31,
   "id": "c63ba419",
   "metadata": {},
   "outputs": [
    {
     "data": {
      "text/html": [
       "<div>\n",
       "<style scoped>\n",
       "    .dataframe tbody tr th:only-of-type {\n",
       "        vertical-align: middle;\n",
       "    }\n",
       "\n",
       "    .dataframe tbody tr th {\n",
       "        vertical-align: top;\n",
       "    }\n",
       "\n",
       "    .dataframe thead th {\n",
       "        text-align: right;\n",
       "    }\n",
       "</style>\n",
       "<table border=\"1\" class=\"dataframe\">\n",
       "  <thead>\n",
       "    <tr style=\"text-align: right;\">\n",
       "      <th></th>\n",
       "      <th>Name</th>\n",
       "      <th>Value</th>\n",
       "      <th>HR</th>\n",
       "      <th>R</th>\n",
       "      <th>RBI</th>\n",
       "      <th>SB</th>\n",
       "      <th>BA</th>\n",
       "      <th>eucl_dist</th>\n",
       "    </tr>\n",
       "    <tr>\n",
       "      <th>playerid</th>\n",
       "      <th></th>\n",
       "      <th></th>\n",
       "      <th></th>\n",
       "      <th></th>\n",
       "      <th></th>\n",
       "      <th></th>\n",
       "      <th></th>\n",
       "      <th></th>\n",
       "    </tr>\n",
       "  </thead>\n",
       "  <tbody>\n",
       "    <tr>\n",
       "      <th>11739</th>\n",
       "      <td>J.T. Realmuto</td>\n",
       "      <td>25.364503</td>\n",
       "      <td>21.0</td>\n",
       "      <td>76.0</td>\n",
       "      <td>81.0</td>\n",
       "      <td>10.0</td>\n",
       "      <td>0.258941</td>\n",
       "      <td>0.000000</td>\n",
       "    </tr>\n",
       "    <tr>\n",
       "      <th>16997</th>\n",
       "      <td>Gleyber Torres</td>\n",
       "      <td>13.626992</td>\n",
       "      <td>21.0</td>\n",
       "      <td>74.0</td>\n",
       "      <td>76.0</td>\n",
       "      <td>12.0</td>\n",
       "      <td>0.263818</td>\n",
       "      <td>0.073975</td>\n",
       "    </tr>\n",
       "    <tr>\n",
       "      <th>5760</th>\n",
       "      <td>Avisaíl García</td>\n",
       "      <td>10.418367</td>\n",
       "      <td>22.0</td>\n",
       "      <td>68.0</td>\n",
       "      <td>75.0</td>\n",
       "      <td>8.0</td>\n",
       "      <td>0.260638</td>\n",
       "      <td>0.104101</td>\n",
       "    </tr>\n",
       "    <tr>\n",
       "      <th>18314</th>\n",
       "      <td>Dansby Swanson</td>\n",
       "      <td>12.661707</td>\n",
       "      <td>23.0</td>\n",
       "      <td>82.0</td>\n",
       "      <td>77.0</td>\n",
       "      <td>10.0</td>\n",
       "      <td>0.248169</td>\n",
       "      <td>0.105489</td>\n",
       "    </tr>\n",
       "    <tr>\n",
       "      <th>12155</th>\n",
       "      <td>Eddie Rosario</td>\n",
       "      <td>14.347798</td>\n",
       "      <td>24.0</td>\n",
       "      <td>68.0</td>\n",
       "      <td>82.0</td>\n",
       "      <td>8.0</td>\n",
       "      <td>0.266899</td>\n",
       "      <td>0.124373</td>\n",
       "    </tr>\n",
       "    <tr>\n",
       "      <th>19566</th>\n",
       "      <td>Nathaniel Lowe</td>\n",
       "      <td>2.591434</td>\n",
       "      <td>21.0</td>\n",
       "      <td>77.0</td>\n",
       "      <td>76.0</td>\n",
       "      <td>5.0</td>\n",
       "      <td>0.260626</td>\n",
       "      <td>0.127749</td>\n",
       "    </tr>\n",
       "    <tr>\n",
       "      <th>19363</th>\n",
       "      <td>Austin Hays</td>\n",
       "      <td>9.770525</td>\n",
       "      <td>23.0</td>\n",
       "      <td>72.0</td>\n",
       "      <td>73.0</td>\n",
       "      <td>6.0</td>\n",
       "      <td>0.256731</td>\n",
       "      <td>0.134266</td>\n",
       "    </tr>\n",
       "    <tr>\n",
       "      <th>15112</th>\n",
       "      <td>Ryan McMahon</td>\n",
       "      <td>2.353070</td>\n",
       "      <td>23.0</td>\n",
       "      <td>73.0</td>\n",
       "      <td>80.0</td>\n",
       "      <td>5.0</td>\n",
       "      <td>0.254296</td>\n",
       "      <td>0.135288</td>\n",
       "    </tr>\n",
       "    <tr>\n",
       "      <th>3473</th>\n",
       "      <td>Anthony Rizzo</td>\n",
       "      <td>4.087522</td>\n",
       "      <td>24.0</td>\n",
       "      <td>76.0</td>\n",
       "      <td>78.0</td>\n",
       "      <td>5.0</td>\n",
       "      <td>0.258258</td>\n",
       "      <td>0.143250</td>\n",
       "    </tr>\n",
       "    <tr>\n",
       "      <th>11477</th>\n",
       "      <td>Christian Yelich</td>\n",
       "      <td>21.388996</td>\n",
       "      <td>24.0</td>\n",
       "      <td>87.0</td>\n",
       "      <td>79.0</td>\n",
       "      <td>14.0</td>\n",
       "      <td>0.262925</td>\n",
       "      <td>0.158454</td>\n",
       "    </tr>\n",
       "  </tbody>\n",
       "</table>\n",
       "</div>"
      ],
      "text/plain": [
       "                      Name      Value    HR     R   RBI    SB        BA  \\\n",
       "playerid                                                                  \n",
       "11739        J.T. Realmuto  25.364503  21.0  76.0  81.0  10.0  0.258941   \n",
       "16997       Gleyber Torres  13.626992  21.0  74.0  76.0  12.0  0.263818   \n",
       "5760        Avisaíl García  10.418367  22.0  68.0  75.0   8.0  0.260638   \n",
       "18314       Dansby Swanson  12.661707  23.0  82.0  77.0  10.0  0.248169   \n",
       "12155        Eddie Rosario  14.347798  24.0  68.0  82.0   8.0  0.266899   \n",
       "19566       Nathaniel Lowe   2.591434  21.0  77.0  76.0   5.0  0.260626   \n",
       "19363          Austin Hays   9.770525  23.0  72.0  73.0   6.0  0.256731   \n",
       "15112         Ryan McMahon   2.353070  23.0  73.0  80.0   5.0  0.254296   \n",
       "3473         Anthony Rizzo   4.087522  24.0  76.0  78.0   5.0  0.258258   \n",
       "11477     Christian Yelich  21.388996  24.0  87.0  79.0  14.0  0.262925   \n",
       "\n",
       "          eucl_dist  \n",
       "playerid             \n",
       "11739      0.000000  \n",
       "16997      0.073975  \n",
       "5760       0.104101  \n",
       "18314      0.105489  \n",
       "12155      0.124373  \n",
       "19566      0.127749  \n",
       "19363      0.134266  \n",
       "15112      0.135288  \n",
       "3473       0.143250  \n",
       "11477      0.158454  "
      ]
     },
     "execution_count": 31,
     "metadata": {},
     "output_type": "execute_result"
    }
   ],
   "source": [
    "add_distance_metrics(df[df['Owner'].isna()], '11739', cols)"
   ]
  },
  {
   "cell_type": "code",
   "execution_count": 60,
   "id": "c7fc4be1",
   "metadata": {},
   "outputs": [
    {
     "data": {
      "text/html": [
       "<div>\n",
       "<style scoped>\n",
       "    .dataframe tbody tr th:only-of-type {\n",
       "        vertical-align: middle;\n",
       "    }\n",
       "\n",
       "    .dataframe tbody tr th {\n",
       "        vertical-align: top;\n",
       "    }\n",
       "\n",
       "    .dataframe thead th {\n",
       "        text-align: right;\n",
       "    }\n",
       "</style>\n",
       "<table border=\"1\" class=\"dataframe\">\n",
       "  <thead>\n",
       "    <tr style=\"text-align: right;\">\n",
       "      <th></th>\n",
       "      <th>playerid</th>\n",
       "      <th>Name</th>\n",
       "      <th>Primary_Pos</th>\n",
       "      <th>Pos</th>\n",
       "      <th>z</th>\n",
       "      <th>Dollars</th>\n",
       "      <th>Value</th>\n",
       "      <th>diff</th>\n",
       "      <th>HR</th>\n",
       "      <th>R</th>\n",
       "      <th>RBI</th>\n",
       "      <th>SB</th>\n",
       "      <th>BA</th>\n",
       "      <th>PA</th>\n",
       "      <th>W</th>\n",
       "      <th>SO</th>\n",
       "      <th>ERA</th>\n",
       "      <th>WHIP</th>\n",
       "      <th>Sv+Hld</th>\n",
       "    </tr>\n",
       "  </thead>\n",
       "  <tbody>\n",
       "    <tr>\n",
       "      <th>677</th>\n",
       "      <td>13164</td>\n",
       "      <td>Eduardo Rodriguez</td>\n",
       "      <td>SP</td>\n",
       "      <td>SP</td>\n",
       "      <td>3.039927</td>\n",
       "      <td>4.0</td>\n",
       "      <td>14.649325</td>\n",
       "      <td>10.649325</td>\n",
       "      <td>NaN</td>\n",
       "      <td>NaN</td>\n",
       "      <td>NaN</td>\n",
       "      <td>NaN</td>\n",
       "      <td>NaN</td>\n",
       "      <td>NaN</td>\n",
       "      <td>11.0</td>\n",
       "      <td>186.0</td>\n",
       "      <td>3.657401</td>\n",
       "      <td>1.236066</td>\n",
       "      <td>0.0</td>\n",
       "    </tr>\n",
       "    <tr>\n",
       "      <th>696</th>\n",
       "      <td>14444</td>\n",
       "      <td>Hyun Jin Ryu</td>\n",
       "      <td>SP</td>\n",
       "      <td>SP</td>\n",
       "      <td>2.272612</td>\n",
       "      <td>1.0</td>\n",
       "      <td>10.951651</td>\n",
       "      <td>9.951651</td>\n",
       "      <td>NaN</td>\n",
       "      <td>NaN</td>\n",
       "      <td>NaN</td>\n",
       "      <td>NaN</td>\n",
       "      <td>NaN</td>\n",
       "      <td>NaN</td>\n",
       "      <td>12.0</td>\n",
       "      <td>143.0</td>\n",
       "      <td>3.901852</td>\n",
       "      <td>1.216318</td>\n",
       "      <td>0.0</td>\n",
       "    </tr>\n",
       "    <tr>\n",
       "      <th>650</th>\n",
       "      <td>15873</td>\n",
       "      <td>Sean Manaea</td>\n",
       "      <td>SP</td>\n",
       "      <td>SP</td>\n",
       "      <td>3.431770</td>\n",
       "      <td>8.0</td>\n",
       "      <td>16.537602</td>\n",
       "      <td>8.537602</td>\n",
       "      <td>NaN</td>\n",
       "      <td>NaN</td>\n",
       "      <td>NaN</td>\n",
       "      <td>NaN</td>\n",
       "      <td>NaN</td>\n",
       "      <td>NaN</td>\n",
       "      <td>11.0</td>\n",
       "      <td>169.0</td>\n",
       "      <td>3.656705</td>\n",
       "      <td>1.165906</td>\n",
       "      <td>0.0</td>\n",
       "    </tr>\n",
       "    <tr>\n",
       "      <th>638</th>\n",
       "      <td>8700</td>\n",
       "      <td>Justin Verlander</td>\n",
       "      <td>SP</td>\n",
       "      <td>SP</td>\n",
       "      <td>5.075417</td>\n",
       "      <td>16.0</td>\n",
       "      <td>24.458293</td>\n",
       "      <td>8.458293</td>\n",
       "      <td>NaN</td>\n",
       "      <td>NaN</td>\n",
       "      <td>NaN</td>\n",
       "      <td>NaN</td>\n",
       "      <td>NaN</td>\n",
       "      <td>NaN</td>\n",
       "      <td>11.0</td>\n",
       "      <td>191.0</td>\n",
       "      <td>3.560440</td>\n",
       "      <td>1.042386</td>\n",
       "      <td>0.0</td>\n",
       "    </tr>\n",
       "    <tr>\n",
       "      <th>669</th>\n",
       "      <td>13781</td>\n",
       "      <td>Alex Wood</td>\n",
       "      <td>SP</td>\n",
       "      <td>SP</td>\n",
       "      <td>1.756188</td>\n",
       "      <td>1.0</td>\n",
       "      <td>8.463021</td>\n",
       "      <td>7.463021</td>\n",
       "      <td>NaN</td>\n",
       "      <td>NaN</td>\n",
       "      <td>NaN</td>\n",
       "      <td>NaN</td>\n",
       "      <td>NaN</td>\n",
       "      <td>NaN</td>\n",
       "      <td>9.0</td>\n",
       "      <td>148.0</td>\n",
       "      <td>3.759474</td>\n",
       "      <td>1.239683</td>\n",
       "      <td>0.0</td>\n",
       "    </tr>\n",
       "    <tr>\n",
       "      <th>701</th>\n",
       "      <td>23550</td>\n",
       "      <td>Aaron Ashby</td>\n",
       "      <td>SP</td>\n",
       "      <td>SP</td>\n",
       "      <td>1.515641</td>\n",
       "      <td>0.0</td>\n",
       "      <td>7.303834</td>\n",
       "      <td>7.303834</td>\n",
       "      <td>NaN</td>\n",
       "      <td>NaN</td>\n",
       "      <td>NaN</td>\n",
       "      <td>NaN</td>\n",
       "      <td>NaN</td>\n",
       "      <td>NaN</td>\n",
       "      <td>7.0</td>\n",
       "      <td>111.0</td>\n",
       "      <td>3.554844</td>\n",
       "      <td>1.291700</td>\n",
       "      <td>9.0</td>\n",
       "    </tr>\n",
       "    <tr>\n",
       "      <th>685</th>\n",
       "      <td>14120</td>\n",
       "      <td>Lance McCullers Jr.</td>\n",
       "      <td>SP</td>\n",
       "      <td>SP</td>\n",
       "      <td>1.868237</td>\n",
       "      <td>2.0</td>\n",
       "      <td>9.002983</td>\n",
       "      <td>7.002983</td>\n",
       "      <td>NaN</td>\n",
       "      <td>NaN</td>\n",
       "      <td>NaN</td>\n",
       "      <td>NaN</td>\n",
       "      <td>NaN</td>\n",
       "      <td>NaN</td>\n",
       "      <td>9.0</td>\n",
       "      <td>152.0</td>\n",
       "      <td>3.608377</td>\n",
       "      <td>1.267227</td>\n",
       "      <td>0.0</td>\n",
       "    </tr>\n",
       "    <tr>\n",
       "      <th>708</th>\n",
       "      <td>12703</td>\n",
       "      <td>Trevor Bauer</td>\n",
       "      <td>SP</td>\n",
       "      <td>SP</td>\n",
       "      <td>2.253248</td>\n",
       "      <td>4.0</td>\n",
       "      <td>10.858337</td>\n",
       "      <td>6.858337</td>\n",
       "      <td>NaN</td>\n",
       "      <td>NaN</td>\n",
       "      <td>NaN</td>\n",
       "      <td>NaN</td>\n",
       "      <td>NaN</td>\n",
       "      <td>NaN</td>\n",
       "      <td>8.0</td>\n",
       "      <td>145.0</td>\n",
       "      <td>3.696099</td>\n",
       "      <td>1.149897</td>\n",
       "      <td>0.0</td>\n",
       "    </tr>\n",
       "    <tr>\n",
       "      <th>706</th>\n",
       "      <td>16511</td>\n",
       "      <td>Jordan Montgomery</td>\n",
       "      <td>SP</td>\n",
       "      <td>SP</td>\n",
       "      <td>1.385593</td>\n",
       "      <td>1.0</td>\n",
       "      <td>6.677131</td>\n",
       "      <td>5.677131</td>\n",
       "      <td>NaN</td>\n",
       "      <td>NaN</td>\n",
       "      <td>NaN</td>\n",
       "      <td>NaN</td>\n",
       "      <td>NaN</td>\n",
       "      <td>NaN</td>\n",
       "      <td>9.0</td>\n",
       "      <td>158.0</td>\n",
       "      <td>3.991644</td>\n",
       "      <td>1.253415</td>\n",
       "      <td>0.0</td>\n",
       "    </tr>\n",
       "    <tr>\n",
       "      <th>740</th>\n",
       "      <td>16269</td>\n",
       "      <td>John Means</td>\n",
       "      <td>SP</td>\n",
       "      <td>SP</td>\n",
       "      <td>1.579859</td>\n",
       "      <td>2.0</td>\n",
       "      <td>7.613295</td>\n",
       "      <td>5.613295</td>\n",
       "      <td>NaN</td>\n",
       "      <td>NaN</td>\n",
       "      <td>NaN</td>\n",
       "      <td>NaN</td>\n",
       "      <td>NaN</td>\n",
       "      <td>NaN</td>\n",
       "      <td>10.0</td>\n",
       "      <td>147.0</td>\n",
       "      <td>4.271186</td>\n",
       "      <td>1.177196</td>\n",
       "      <td>0.0</td>\n",
       "    </tr>\n",
       "    <tr>\n",
       "      <th>699</th>\n",
       "      <td>22267</td>\n",
       "      <td>Tarik Skubal</td>\n",
       "      <td>SP</td>\n",
       "      <td>SP</td>\n",
       "      <td>1.345359</td>\n",
       "      <td>1.0</td>\n",
       "      <td>6.483247</td>\n",
       "      <td>5.483247</td>\n",
       "      <td>NaN</td>\n",
       "      <td>NaN</td>\n",
       "      <td>NaN</td>\n",
       "      <td>NaN</td>\n",
       "      <td>NaN</td>\n",
       "      <td>NaN</td>\n",
       "      <td>9.0</td>\n",
       "      <td>167.0</td>\n",
       "      <td>4.133916</td>\n",
       "      <td>1.248585</td>\n",
       "      <td>0.0</td>\n",
       "    </tr>\n",
       "    <tr>\n",
       "      <th>673</th>\n",
       "      <td>9132</td>\n",
       "      <td>Nathan Eovaldi</td>\n",
       "      <td>SP</td>\n",
       "      <td>SP</td>\n",
       "      <td>2.918907</td>\n",
       "      <td>9.0</td>\n",
       "      <td>14.066130</td>\n",
       "      <td>5.066130</td>\n",
       "      <td>NaN</td>\n",
       "      <td>NaN</td>\n",
       "      <td>NaN</td>\n",
       "      <td>NaN</td>\n",
       "      <td>NaN</td>\n",
       "      <td>NaN</td>\n",
       "      <td>11.0</td>\n",
       "      <td>176.0</td>\n",
       "      <td>3.834817</td>\n",
       "      <td>1.196556</td>\n",
       "      <td>0.0</td>\n",
       "    </tr>\n",
       "    <tr>\n",
       "      <th>702</th>\n",
       "      <td>15423</td>\n",
       "      <td>Andrew Heaney</td>\n",
       "      <td>SP</td>\n",
       "      <td>SP</td>\n",
       "      <td>1.017602</td>\n",
       "      <td>0.0</td>\n",
       "      <td>4.903793</td>\n",
       "      <td>4.903793</td>\n",
       "      <td>NaN</td>\n",
       "      <td>NaN</td>\n",
       "      <td>NaN</td>\n",
       "      <td>NaN</td>\n",
       "      <td>NaN</td>\n",
       "      <td>NaN</td>\n",
       "      <td>9.0</td>\n",
       "      <td>144.0</td>\n",
       "      <td>4.338983</td>\n",
       "      <td>1.220339</td>\n",
       "      <td>0.0</td>\n",
       "    </tr>\n",
       "    <tr>\n",
       "      <th>653</th>\n",
       "      <td>22286</td>\n",
       "      <td>Trevor Rogers</td>\n",
       "      <td>SP</td>\n",
       "      <td>SP</td>\n",
       "      <td>2.998608</td>\n",
       "      <td>10.0</td>\n",
       "      <td>14.450208</td>\n",
       "      <td>4.450208</td>\n",
       "      <td>NaN</td>\n",
       "      <td>NaN</td>\n",
       "      <td>NaN</td>\n",
       "      <td>NaN</td>\n",
       "      <td>NaN</td>\n",
       "      <td>NaN</td>\n",
       "      <td>10.0</td>\n",
       "      <td>169.0</td>\n",
       "      <td>3.540000</td>\n",
       "      <td>1.206667</td>\n",
       "      <td>0.0</td>\n",
       "    </tr>\n",
       "    <tr>\n",
       "      <th>630</th>\n",
       "      <td>10954</td>\n",
       "      <td>Jacob deGrom</td>\n",
       "      <td>SP</td>\n",
       "      <td>SP</td>\n",
       "      <td>7.802738</td>\n",
       "      <td>34.0</td>\n",
       "      <td>37.601174</td>\n",
       "      <td>3.601174</td>\n",
       "      <td>NaN</td>\n",
       "      <td>NaN</td>\n",
       "      <td>NaN</td>\n",
       "      <td>NaN</td>\n",
       "      <td>NaN</td>\n",
       "      <td>NaN</td>\n",
       "      <td>10.0</td>\n",
       "      <td>206.0</td>\n",
       "      <td>2.433276</td>\n",
       "      <td>0.915078</td>\n",
       "      <td>0.0</td>\n",
       "    </tr>\n",
       "    <tr>\n",
       "      <th>748</th>\n",
       "      <td>10131</td>\n",
       "      <td>Stephen Strasburg</td>\n",
       "      <td>SP</td>\n",
       "      <td>SP</td>\n",
       "      <td>0.927780</td>\n",
       "      <td>1.0</td>\n",
       "      <td>4.470944</td>\n",
       "      <td>3.470944</td>\n",
       "      <td>NaN</td>\n",
       "      <td>NaN</td>\n",
       "      <td>NaN</td>\n",
       "      <td>NaN</td>\n",
       "      <td>NaN</td>\n",
       "      <td>NaN</td>\n",
       "      <td>9.0</td>\n",
       "      <td>136.0</td>\n",
       "      <td>4.094723</td>\n",
       "      <td>1.260489</td>\n",
       "      <td>0.0</td>\n",
       "    </tr>\n",
       "    <tr>\n",
       "      <th>769</th>\n",
       "      <td>14916</td>\n",
       "      <td>Jon Gray</td>\n",
       "      <td>SP</td>\n",
       "      <td>SP</td>\n",
       "      <td>0.923946</td>\n",
       "      <td>1.0</td>\n",
       "      <td>4.452468</td>\n",
       "      <td>3.452468</td>\n",
       "      <td>NaN</td>\n",
       "      <td>NaN</td>\n",
       "      <td>NaN</td>\n",
       "      <td>NaN</td>\n",
       "      <td>NaN</td>\n",
       "      <td>NaN</td>\n",
       "      <td>10.0</td>\n",
       "      <td>166.0</td>\n",
       "      <td>4.151745</td>\n",
       "      <td>1.305008</td>\n",
       "      <td>0.0</td>\n",
       "    </tr>\n",
       "    <tr>\n",
       "      <th>664</th>\n",
       "      <td>12808</td>\n",
       "      <td>Mike Clevinger</td>\n",
       "      <td>SP</td>\n",
       "      <td>SP</td>\n",
       "      <td>2.104704</td>\n",
       "      <td>7.0</td>\n",
       "      <td>10.142510</td>\n",
       "      <td>3.142510</td>\n",
       "      <td>NaN</td>\n",
       "      <td>NaN</td>\n",
       "      <td>NaN</td>\n",
       "      <td>NaN</td>\n",
       "      <td>NaN</td>\n",
       "      <td>NaN</td>\n",
       "      <td>8.0</td>\n",
       "      <td>140.0</td>\n",
       "      <td>3.576856</td>\n",
       "      <td>1.184492</td>\n",
       "      <td>0.0</td>\n",
       "    </tr>\n",
       "    <tr>\n",
       "      <th>694</th>\n",
       "      <td>13361</td>\n",
       "      <td>Steven Matz</td>\n",
       "      <td>SP</td>\n",
       "      <td>SP</td>\n",
       "      <td>0.618502</td>\n",
       "      <td>0.0</td>\n",
       "      <td>2.980542</td>\n",
       "      <td>2.980542</td>\n",
       "      <td>NaN</td>\n",
       "      <td>NaN</td>\n",
       "      <td>NaN</td>\n",
       "      <td>NaN</td>\n",
       "      <td>NaN</td>\n",
       "      <td>NaN</td>\n",
       "      <td>10.0</td>\n",
       "      <td>137.0</td>\n",
       "      <td>4.171699</td>\n",
       "      <td>1.292639</td>\n",
       "      <td>0.0</td>\n",
       "    </tr>\n",
       "    <tr>\n",
       "      <th>1174</th>\n",
       "      <td>12730</td>\n",
       "      <td>Nick Martínez</td>\n",
       "      <td>SP</td>\n",
       "      <td>SP</td>\n",
       "      <td>0.607400</td>\n",
       "      <td>0.0</td>\n",
       "      <td>2.927045</td>\n",
       "      <td>2.927045</td>\n",
       "      <td>NaN</td>\n",
       "      <td>NaN</td>\n",
       "      <td>NaN</td>\n",
       "      <td>NaN</td>\n",
       "      <td>NaN</td>\n",
       "      <td>NaN</td>\n",
       "      <td>7.0</td>\n",
       "      <td>115.0</td>\n",
       "      <td>3.846575</td>\n",
       "      <td>1.249315</td>\n",
       "      <td>0.0</td>\n",
       "    </tr>\n",
       "    <tr>\n",
       "      <th>744</th>\n",
       "      <td>25385</td>\n",
       "      <td>Drew Rasmussen</td>\n",
       "      <td>SP</td>\n",
       "      <td>SP</td>\n",
       "      <td>0.467675</td>\n",
       "      <td>0.0</td>\n",
       "      <td>2.253712</td>\n",
       "      <td>2.253712</td>\n",
       "      <td>NaN</td>\n",
       "      <td>NaN</td>\n",
       "      <td>NaN</td>\n",
       "      <td>NaN</td>\n",
       "      <td>NaN</td>\n",
       "      <td>NaN</td>\n",
       "      <td>6.0</td>\n",
       "      <td>128.0</td>\n",
       "      <td>3.836066</td>\n",
       "      <td>1.270492</td>\n",
       "      <td>0.0</td>\n",
       "    </tr>\n",
       "    <tr>\n",
       "      <th>781</th>\n",
       "      <td>2429</td>\n",
       "      <td>Corey Kluber</td>\n",
       "      <td>SP</td>\n",
       "      <td>SP</td>\n",
       "      <td>0.464797</td>\n",
       "      <td>0.0</td>\n",
       "      <td>2.239842</td>\n",
       "      <td>2.239842</td>\n",
       "      <td>NaN</td>\n",
       "      <td>NaN</td>\n",
       "      <td>NaN</td>\n",
       "      <td>NaN</td>\n",
       "      <td>NaN</td>\n",
       "      <td>NaN</td>\n",
       "      <td>8.0</td>\n",
       "      <td>123.0</td>\n",
       "      <td>4.072557</td>\n",
       "      <td>1.271699</td>\n",
       "      <td>0.0</td>\n",
       "    </tr>\n",
       "    <tr>\n",
       "      <th>728</th>\n",
       "      <td>21390</td>\n",
       "      <td>Joe Ryan</td>\n",
       "      <td>SP</td>\n",
       "      <td>SP</td>\n",
       "      <td>0.866553</td>\n",
       "      <td>2.0</td>\n",
       "      <td>4.175895</td>\n",
       "      <td>2.175895</td>\n",
       "      <td>NaN</td>\n",
       "      <td>NaN</td>\n",
       "      <td>NaN</td>\n",
       "      <td>NaN</td>\n",
       "      <td>NaN</td>\n",
       "      <td>NaN</td>\n",
       "      <td>7.0</td>\n",
       "      <td>131.0</td>\n",
       "      <td>4.236984</td>\n",
       "      <td>1.172950</td>\n",
       "      <td>0.0</td>\n",
       "    </tr>\n",
       "    <tr>\n",
       "      <th>663</th>\n",
       "      <td>2036</td>\n",
       "      <td>Clayton Kershaw</td>\n",
       "      <td>SP</td>\n",
       "      <td>SP</td>\n",
       "      <td>3.314558</td>\n",
       "      <td>14.0</td>\n",
       "      <td>15.972761</td>\n",
       "      <td>1.972761</td>\n",
       "      <td>NaN</td>\n",
       "      <td>NaN</td>\n",
       "      <td>NaN</td>\n",
       "      <td>NaN</td>\n",
       "      <td>NaN</td>\n",
       "      <td>NaN</td>\n",
       "      <td>10.0</td>\n",
       "      <td>147.0</td>\n",
       "      <td>3.513465</td>\n",
       "      <td>1.120549</td>\n",
       "      <td>0.0</td>\n",
       "    </tr>\n",
       "    <tr>\n",
       "      <th>684</th>\n",
       "      <td>12304</td>\n",
       "      <td>Chris Bassitt</td>\n",
       "      <td>SP</td>\n",
       "      <td>SP</td>\n",
       "      <td>2.436708</td>\n",
       "      <td>10.0</td>\n",
       "      <td>11.742427</td>\n",
       "      <td>1.742427</td>\n",
       "      <td>NaN</td>\n",
       "      <td>NaN</td>\n",
       "      <td>NaN</td>\n",
       "      <td>NaN</td>\n",
       "      <td>NaN</td>\n",
       "      <td>NaN</td>\n",
       "      <td>10.0</td>\n",
       "      <td>158.0</td>\n",
       "      <td>3.803571</td>\n",
       "      <td>1.196429</td>\n",
       "      <td>0.0</td>\n",
       "    </tr>\n",
       "    <tr>\n",
       "      <th>780</th>\n",
       "      <td>21224</td>\n",
       "      <td>Bailey Ober</td>\n",
       "      <td>SP</td>\n",
       "      <td>SP</td>\n",
       "      <td>0.254601</td>\n",
       "      <td>0.0</td>\n",
       "      <td>1.226914</td>\n",
       "      <td>1.226914</td>\n",
       "      <td>NaN</td>\n",
       "      <td>NaN</td>\n",
       "      <td>NaN</td>\n",
       "      <td>NaN</td>\n",
       "      <td>NaN</td>\n",
       "      <td>NaN</td>\n",
       "      <td>7.0</td>\n",
       "      <td>127.0</td>\n",
       "      <td>4.331457</td>\n",
       "      <td>1.226470</td>\n",
       "      <td>0.0</td>\n",
       "    </tr>\n",
       "    <tr>\n",
       "      <th>761</th>\n",
       "      <td>20099</td>\n",
       "      <td>Chris Paddack</td>\n",
       "      <td>SP</td>\n",
       "      <td>SP/RP</td>\n",
       "      <td>0.240897</td>\n",
       "      <td>0.0</td>\n",
       "      <td>1.160874</td>\n",
       "      <td>1.160874</td>\n",
       "      <td>NaN</td>\n",
       "      <td>NaN</td>\n",
       "      <td>NaN</td>\n",
       "      <td>NaN</td>\n",
       "      <td>NaN</td>\n",
       "      <td>NaN</td>\n",
       "      <td>6.0</td>\n",
       "      <td>87.0</td>\n",
       "      <td>4.092043</td>\n",
       "      <td>1.175492</td>\n",
       "      <td>1.0</td>\n",
       "    </tr>\n",
       "    <tr>\n",
       "      <th>733</th>\n",
       "      <td>12768</td>\n",
       "      <td>Sonny Gray</td>\n",
       "      <td>SP</td>\n",
       "      <td>SP</td>\n",
       "      <td>1.026194</td>\n",
       "      <td>4.0</td>\n",
       "      <td>4.945198</td>\n",
       "      <td>0.945198</td>\n",
       "      <td>NaN</td>\n",
       "      <td>NaN</td>\n",
       "      <td>NaN</td>\n",
       "      <td>NaN</td>\n",
       "      <td>NaN</td>\n",
       "      <td>NaN</td>\n",
       "      <td>10.0</td>\n",
       "      <td>164.0</td>\n",
       "      <td>4.178623</td>\n",
       "      <td>1.296147</td>\n",
       "      <td>0.0</td>\n",
       "    </tr>\n",
       "    <tr>\n",
       "      <th>645</th>\n",
       "      <td>12970</td>\n",
       "      <td>Joe Musgrove</td>\n",
       "      <td>SP</td>\n",
       "      <td>SP</td>\n",
       "      <td>3.687639</td>\n",
       "      <td>17.0</td>\n",
       "      <td>17.770627</td>\n",
       "      <td>0.770627</td>\n",
       "      <td>NaN</td>\n",
       "      <td>NaN</td>\n",
       "      <td>NaN</td>\n",
       "      <td>NaN</td>\n",
       "      <td>NaN</td>\n",
       "      <td>NaN</td>\n",
       "      <td>11.0</td>\n",
       "      <td>190.0</td>\n",
       "      <td>3.697763</td>\n",
       "      <td>1.170677</td>\n",
       "      <td>0.0</td>\n",
       "    </tr>\n",
       "    <tr>\n",
       "      <th>752</th>\n",
       "      <td>10021</td>\n",
       "      <td>Mike Minor</td>\n",
       "      <td>SP</td>\n",
       "      <td>SP</td>\n",
       "      <td>0.155847</td>\n",
       "      <td>0.0</td>\n",
       "      <td>0.751020</td>\n",
       "      <td>0.751020</td>\n",
       "      <td>NaN</td>\n",
       "      <td>NaN</td>\n",
       "      <td>NaN</td>\n",
       "      <td>NaN</td>\n",
       "      <td>NaN</td>\n",
       "      <td>NaN</td>\n",
       "      <td>9.0</td>\n",
       "      <td>149.0</td>\n",
       "      <td>4.445783</td>\n",
       "      <td>1.271084</td>\n",
       "      <td>0.0</td>\n",
       "    </tr>\n",
       "    <tr>\n",
       "      <th>874</th>\n",
       "      <td>11674</td>\n",
       "      <td>Jameson Taillon</td>\n",
       "      <td>SP</td>\n",
       "      <td>SP</td>\n",
       "      <td>0.147384</td>\n",
       "      <td>0.0</td>\n",
       "      <td>0.710240</td>\n",
       "      <td>0.710240</td>\n",
       "      <td>NaN</td>\n",
       "      <td>NaN</td>\n",
       "      <td>NaN</td>\n",
       "      <td>NaN</td>\n",
       "      <td>NaN</td>\n",
       "      <td>NaN</td>\n",
       "      <td>8.0</td>\n",
       "      <td>135.0</td>\n",
       "      <td>4.415630</td>\n",
       "      <td>1.254600</td>\n",
       "      <td>0.0</td>\n",
       "    </tr>\n",
       "    <tr>\n",
       "      <th>680</th>\n",
       "      <td>18525</td>\n",
       "      <td>Dylan Cease</td>\n",
       "      <td>SP</td>\n",
       "      <td>SP</td>\n",
       "      <td>2.633661</td>\n",
       "      <td>12.0</td>\n",
       "      <td>12.691538</td>\n",
       "      <td>0.691538</td>\n",
       "      <td>NaN</td>\n",
       "      <td>NaN</td>\n",
       "      <td>NaN</td>\n",
       "      <td>NaN</td>\n",
       "      <td>NaN</td>\n",
       "      <td>NaN</td>\n",
       "      <td>11.0</td>\n",
       "      <td>203.0</td>\n",
       "      <td>3.913634</td>\n",
       "      <td>1.262268</td>\n",
       "      <td>0.0</td>\n",
       "    </tr>\n",
       "    <tr>\n",
       "      <th>835</th>\n",
       "      <td>18413</td>\n",
       "      <td>José Urquidy</td>\n",
       "      <td>SP</td>\n",
       "      <td>SP</td>\n",
       "      <td>0.342271</td>\n",
       "      <td>1.0</td>\n",
       "      <td>1.649394</td>\n",
       "      <td>0.649394</td>\n",
       "      <td>NaN</td>\n",
       "      <td>NaN</td>\n",
       "      <td>NaN</td>\n",
       "      <td>NaN</td>\n",
       "      <td>NaN</td>\n",
       "      <td>NaN</td>\n",
       "      <td>8.0</td>\n",
       "      <td>121.0</td>\n",
       "      <td>4.411926</td>\n",
       "      <td>1.207243</td>\n",
       "      <td>0.0</td>\n",
       "    </tr>\n",
       "    <tr>\n",
       "      <th>719</th>\n",
       "      <td>20468</td>\n",
       "      <td>Huascar Ynoa</td>\n",
       "      <td>SP</td>\n",
       "      <td>SP</td>\n",
       "      <td>0.122340</td>\n",
       "      <td>0.0</td>\n",
       "      <td>0.589551</td>\n",
       "      <td>0.589551</td>\n",
       "      <td>NaN</td>\n",
       "      <td>NaN</td>\n",
       "      <td>NaN</td>\n",
       "      <td>NaN</td>\n",
       "      <td>NaN</td>\n",
       "      <td>NaN</td>\n",
       "      <td>7.0</td>\n",
       "      <td>124.0</td>\n",
       "      <td>4.157044</td>\n",
       "      <td>1.284904</td>\n",
       "      <td>0.0</td>\n",
       "    </tr>\n",
       "    <tr>\n",
       "      <th>641</th>\n",
       "      <td>16137</td>\n",
       "      <td>Carlos Rodón</td>\n",
       "      <td>SP</td>\n",
       "      <td>SP</td>\n",
       "      <td>2.815057</td>\n",
       "      <td>13.0</td>\n",
       "      <td>13.565681</td>\n",
       "      <td>0.565681</td>\n",
       "      <td>NaN</td>\n",
       "      <td>NaN</td>\n",
       "      <td>NaN</td>\n",
       "      <td>NaN</td>\n",
       "      <td>NaN</td>\n",
       "      <td>NaN</td>\n",
       "      <td>9.0</td>\n",
       "      <td>167.0</td>\n",
       "      <td>3.661920</td>\n",
       "      <td>1.168855</td>\n",
       "      <td>0.0</td>\n",
       "    </tr>\n",
       "    <tr>\n",
       "      <th>742</th>\n",
       "      <td>23735</td>\n",
       "      <td>Luis Garcia</td>\n",
       "      <td>SP</td>\n",
       "      <td>SP</td>\n",
       "      <td>1.712002</td>\n",
       "      <td>8.0</td>\n",
       "      <td>8.250091</td>\n",
       "      <td>0.250091</td>\n",
       "      <td>NaN</td>\n",
       "      <td>NaN</td>\n",
       "      <td>NaN</td>\n",
       "      <td>NaN</td>\n",
       "      <td>NaN</td>\n",
       "      <td>NaN</td>\n",
       "      <td>10.0</td>\n",
       "      <td>168.0</td>\n",
       "      <td>4.025197</td>\n",
       "      <td>1.253543</td>\n",
       "      <td>0.0</td>\n",
       "    </tr>\n",
       "    <tr>\n",
       "      <th>789</th>\n",
       "      <td>17149</td>\n",
       "      <td>Domingo Germán</td>\n",
       "      <td>SP</td>\n",
       "      <td>SP</td>\n",
       "      <td>0.051030</td>\n",
       "      <td>0.0</td>\n",
       "      <td>0.245911</td>\n",
       "      <td>0.245911</td>\n",
       "      <td>NaN</td>\n",
       "      <td>NaN</td>\n",
       "      <td>NaN</td>\n",
       "      <td>NaN</td>\n",
       "      <td>NaN</td>\n",
       "      <td>NaN</td>\n",
       "      <td>6.0</td>\n",
       "      <td>115.0</td>\n",
       "      <td>4.330326</td>\n",
       "      <td>1.230627</td>\n",
       "      <td>1.0</td>\n",
       "    </tr>\n",
       "    <tr>\n",
       "      <th>735</th>\n",
       "      <td>13050</td>\n",
       "      <td>Anthony DeSclafani</td>\n",
       "      <td>SP</td>\n",
       "      <td>SP</td>\n",
       "      <td>0.819972</td>\n",
       "      <td>4.0</td>\n",
       "      <td>3.951420</td>\n",
       "      <td>-0.048580</td>\n",
       "      <td>NaN</td>\n",
       "      <td>NaN</td>\n",
       "      <td>NaN</td>\n",
       "      <td>NaN</td>\n",
       "      <td>NaN</td>\n",
       "      <td>NaN</td>\n",
       "      <td>10.0</td>\n",
       "      <td>144.0</td>\n",
       "      <td>4.223678</td>\n",
       "      <td>1.261618</td>\n",
       "      <td>0.0</td>\n",
       "    </tr>\n",
       "    <tr>\n",
       "      <th>717</th>\n",
       "      <td>19680</td>\n",
       "      <td>Sixto Sánchez</td>\n",
       "      <td>SP</td>\n",
       "      <td>SP</td>\n",
       "      <td>-0.015743</td>\n",
       "      <td>0.0</td>\n",
       "      <td>-0.075866</td>\n",
       "      <td>-0.075866</td>\n",
       "      <td>NaN</td>\n",
       "      <td>NaN</td>\n",
       "      <td>NaN</td>\n",
       "      <td>NaN</td>\n",
       "      <td>NaN</td>\n",
       "      <td>NaN</td>\n",
       "      <td>6.0</td>\n",
       "      <td>76.0</td>\n",
       "      <td>3.773371</td>\n",
       "      <td>1.235127</td>\n",
       "      <td>0.0</td>\n",
       "    </tr>\n",
       "    <tr>\n",
       "      <th>1025</th>\n",
       "      <td>15467</td>\n",
       "      <td>Marco Gonzales</td>\n",
       "      <td>SP</td>\n",
       "      <td>SP</td>\n",
       "      <td>-0.040606</td>\n",
       "      <td>0.0</td>\n",
       "      <td>-0.195677</td>\n",
       "      <td>-0.195677</td>\n",
       "      <td>NaN</td>\n",
       "      <td>NaN</td>\n",
       "      <td>NaN</td>\n",
       "      <td>NaN</td>\n",
       "      <td>NaN</td>\n",
       "      <td>NaN</td>\n",
       "      <td>10.0</td>\n",
       "      <td>132.0</td>\n",
       "      <td>4.440529</td>\n",
       "      <td>1.280470</td>\n",
       "      <td>0.0</td>\n",
       "    </tr>\n",
       "    <tr>\n",
       "      <th>732</th>\n",
       "      <td>15890</td>\n",
       "      <td>Luis Severino</td>\n",
       "      <td>SP</td>\n",
       "      <td>SP</td>\n",
       "      <td>1.616072</td>\n",
       "      <td>8.0</td>\n",
       "      <td>7.787804</td>\n",
       "      <td>-0.212196</td>\n",
       "      <td>NaN</td>\n",
       "      <td>NaN</td>\n",
       "      <td>NaN</td>\n",
       "      <td>NaN</td>\n",
       "      <td>NaN</td>\n",
       "      <td>NaN</td>\n",
       "      <td>9.0</td>\n",
       "      <td>135.0</td>\n",
       "      <td>3.854685</td>\n",
       "      <td>1.216061</td>\n",
       "      <td>0.0</td>\n",
       "    </tr>\n",
       "    <tr>\n",
       "      <th>802</th>\n",
       "      <td>6397</td>\n",
       "      <td>Jake Odorizzi</td>\n",
       "      <td>SP</td>\n",
       "      <td>SP</td>\n",
       "      <td>-0.048073</td>\n",
       "      <td>0.0</td>\n",
       "      <td>-0.231663</td>\n",
       "      <td>-0.231663</td>\n",
       "      <td>NaN</td>\n",
       "      <td>NaN</td>\n",
       "      <td>NaN</td>\n",
       "      <td>NaN</td>\n",
       "      <td>NaN</td>\n",
       "      <td>NaN</td>\n",
       "      <td>6.0</td>\n",
       "      <td>90.0</td>\n",
       "      <td>4.183784</td>\n",
       "      <td>1.254054</td>\n",
       "      <td>3.0</td>\n",
       "    </tr>\n",
       "    <tr>\n",
       "      <th>768</th>\n",
       "      <td>19879</td>\n",
       "      <td>Tanner Houck</td>\n",
       "      <td>SP</td>\n",
       "      <td>SP</td>\n",
       "      <td>0.142901</td>\n",
       "      <td>1.0</td>\n",
       "      <td>0.688635</td>\n",
       "      <td>-0.311365</td>\n",
       "      <td>NaN</td>\n",
       "      <td>NaN</td>\n",
       "      <td>NaN</td>\n",
       "      <td>NaN</td>\n",
       "      <td>NaN</td>\n",
       "      <td>NaN</td>\n",
       "      <td>7.0</td>\n",
       "      <td>125.0</td>\n",
       "      <td>4.214177</td>\n",
       "      <td>1.292001</td>\n",
       "      <td>1.0</td>\n",
       "    </tr>\n",
       "    <tr>\n",
       "      <th>736</th>\n",
       "      <td>9323</td>\n",
       "      <td>Patrick Corbin</td>\n",
       "      <td>SP</td>\n",
       "      <td>SP</td>\n",
       "      <td>-0.096771</td>\n",
       "      <td>0.0</td>\n",
       "      <td>-0.466339</td>\n",
       "      <td>-0.466339</td>\n",
       "      <td>NaN</td>\n",
       "      <td>NaN</td>\n",
       "      <td>NaN</td>\n",
       "      <td>NaN</td>\n",
       "      <td>NaN</td>\n",
       "      <td>NaN</td>\n",
       "      <td>10.0</td>\n",
       "      <td>159.0</td>\n",
       "      <td>4.390881</td>\n",
       "      <td>1.341658</td>\n",
       "      <td>0.0</td>\n",
       "    </tr>\n",
       "    <tr>\n",
       "      <th>678</th>\n",
       "      <td>6632</td>\n",
       "      <td>Carlos Carrasco</td>\n",
       "      <td>SP</td>\n",
       "      <td>SP</td>\n",
       "      <td>0.732244</td>\n",
       "      <td>4.0</td>\n",
       "      <td>3.528663</td>\n",
       "      <td>-0.471337</td>\n",
       "      <td>NaN</td>\n",
       "      <td>NaN</td>\n",
       "      <td>NaN</td>\n",
       "      <td>NaN</td>\n",
       "      <td>NaN</td>\n",
       "      <td>NaN</td>\n",
       "      <td>8.0</td>\n",
       "      <td>127.0</td>\n",
       "      <td>4.064516</td>\n",
       "      <td>1.250000</td>\n",
       "      <td>0.0</td>\n",
       "    </tr>\n",
       "    <tr>\n",
       "      <th>700</th>\n",
       "      <td>21318</td>\n",
       "      <td>Tylor Megill</td>\n",
       "      <td>SP</td>\n",
       "      <td>SP</td>\n",
       "      <td>-0.101265</td>\n",
       "      <td>0.0</td>\n",
       "      <td>-0.487994</td>\n",
       "      <td>-0.487994</td>\n",
       "      <td>NaN</td>\n",
       "      <td>NaN</td>\n",
       "      <td>NaN</td>\n",
       "      <td>NaN</td>\n",
       "      <td>NaN</td>\n",
       "      <td>NaN</td>\n",
       "      <td>6.0</td>\n",
       "      <td>123.0</td>\n",
       "      <td>4.177950</td>\n",
       "      <td>1.280894</td>\n",
       "      <td>0.0</td>\n",
       "    </tr>\n",
       "    <tr>\n",
       "      <th>690</th>\n",
       "      <td>19291</td>\n",
       "      <td>Zac Gallen</td>\n",
       "      <td>SP</td>\n",
       "      <td>SP</td>\n",
       "      <td>1.116571</td>\n",
       "      <td>6.0</td>\n",
       "      <td>5.380723</td>\n",
       "      <td>-0.619277</td>\n",
       "      <td>NaN</td>\n",
       "      <td>NaN</td>\n",
       "      <td>NaN</td>\n",
       "      <td>NaN</td>\n",
       "      <td>NaN</td>\n",
       "      <td>NaN</td>\n",
       "      <td>9.0</td>\n",
       "      <td>175.0</td>\n",
       "      <td>4.136663</td>\n",
       "      <td>1.280833</td>\n",
       "      <td>0.0</td>\n",
       "    </tr>\n",
       "    <tr>\n",
       "      <th>681</th>\n",
       "      <td>17295</td>\n",
       "      <td>Framber Valdez</td>\n",
       "      <td>SP</td>\n",
       "      <td>SP</td>\n",
       "      <td>1.735564</td>\n",
       "      <td>9.0</td>\n",
       "      <td>8.363635</td>\n",
       "      <td>-0.636365</td>\n",
       "      <td>NaN</td>\n",
       "      <td>NaN</td>\n",
       "      <td>NaN</td>\n",
       "      <td>NaN</td>\n",
       "      <td>NaN</td>\n",
       "      <td>NaN</td>\n",
       "      <td>12.0</td>\n",
       "      <td>159.0</td>\n",
       "      <td>3.733022</td>\n",
       "      <td>1.331970</td>\n",
       "      <td>0.0</td>\n",
       "    </tr>\n",
       "    <tr>\n",
       "      <th>885</th>\n",
       "      <td>17606</td>\n",
       "      <td>Cristian Javier</td>\n",
       "      <td>SP</td>\n",
       "      <td>SP</td>\n",
       "      <td>-0.136819</td>\n",
       "      <td>0.0</td>\n",
       "      <td>-0.659325</td>\n",
       "      <td>-0.659325</td>\n",
       "      <td>NaN</td>\n",
       "      <td>NaN</td>\n",
       "      <td>NaN</td>\n",
       "      <td>NaN</td>\n",
       "      <td>NaN</td>\n",
       "      <td>NaN</td>\n",
       "      <td>4.0</td>\n",
       "      <td>126.0</td>\n",
       "      <td>4.160315</td>\n",
       "      <td>1.258913</td>\n",
       "      <td>1.0</td>\n",
       "    </tr>\n",
       "    <tr>\n",
       "      <th>647</th>\n",
       "      <td>17085</td>\n",
       "      <td>Pablo López</td>\n",
       "      <td>SP</td>\n",
       "      <td>SP</td>\n",
       "      <td>2.334962</td>\n",
       "      <td>12.0</td>\n",
       "      <td>11.252116</td>\n",
       "      <td>-0.747884</td>\n",
       "      <td>NaN</td>\n",
       "      <td>NaN</td>\n",
       "      <td>NaN</td>\n",
       "      <td>NaN</td>\n",
       "      <td>NaN</td>\n",
       "      <td>NaN</td>\n",
       "      <td>9.0</td>\n",
       "      <td>143.0</td>\n",
       "      <td>3.674740</td>\n",
       "      <td>1.176471</td>\n",
       "      <td>0.0</td>\n",
       "    </tr>\n",
       "  </tbody>\n",
       "</table>\n",
       "</div>"
      ],
      "text/plain": [
       "     playerid                 Name Primary_Pos    Pos         z  Dollars  \\\n",
       "677     13164    Eduardo Rodriguez          SP     SP  3.039927      4.0   \n",
       "696     14444         Hyun Jin Ryu          SP     SP  2.272612      1.0   \n",
       "650     15873          Sean Manaea          SP     SP  3.431770      8.0   \n",
       "638      8700     Justin Verlander          SP     SP  5.075417     16.0   \n",
       "669     13781            Alex Wood          SP     SP  1.756188      1.0   \n",
       "701     23550          Aaron Ashby          SP     SP  1.515641      0.0   \n",
       "685     14120  Lance McCullers Jr.          SP     SP  1.868237      2.0   \n",
       "708     12703         Trevor Bauer          SP     SP  2.253248      4.0   \n",
       "706     16511    Jordan Montgomery          SP     SP  1.385593      1.0   \n",
       "740     16269           John Means          SP     SP  1.579859      2.0   \n",
       "699     22267         Tarik Skubal          SP     SP  1.345359      1.0   \n",
       "673      9132       Nathan Eovaldi          SP     SP  2.918907      9.0   \n",
       "702     15423        Andrew Heaney          SP     SP  1.017602      0.0   \n",
       "653     22286        Trevor Rogers          SP     SP  2.998608     10.0   \n",
       "630     10954         Jacob deGrom          SP     SP  7.802738     34.0   \n",
       "748     10131    Stephen Strasburg          SP     SP  0.927780      1.0   \n",
       "769     14916             Jon Gray          SP     SP  0.923946      1.0   \n",
       "664     12808       Mike Clevinger          SP     SP  2.104704      7.0   \n",
       "694     13361          Steven Matz          SP     SP  0.618502      0.0   \n",
       "1174    12730        Nick Martínez          SP     SP  0.607400      0.0   \n",
       "744     25385       Drew Rasmussen          SP     SP  0.467675      0.0   \n",
       "781      2429         Corey Kluber          SP     SP  0.464797      0.0   \n",
       "728     21390             Joe Ryan          SP     SP  0.866553      2.0   \n",
       "663      2036      Clayton Kershaw          SP     SP  3.314558     14.0   \n",
       "684     12304        Chris Bassitt          SP     SP  2.436708     10.0   \n",
       "780     21224          Bailey Ober          SP     SP  0.254601      0.0   \n",
       "761     20099        Chris Paddack          SP  SP/RP  0.240897      0.0   \n",
       "733     12768           Sonny Gray          SP     SP  1.026194      4.0   \n",
       "645     12970         Joe Musgrove          SP     SP  3.687639     17.0   \n",
       "752     10021           Mike Minor          SP     SP  0.155847      0.0   \n",
       "874     11674      Jameson Taillon          SP     SP  0.147384      0.0   \n",
       "680     18525          Dylan Cease          SP     SP  2.633661     12.0   \n",
       "835     18413         José Urquidy          SP     SP  0.342271      1.0   \n",
       "719     20468         Huascar Ynoa          SP     SP  0.122340      0.0   \n",
       "641     16137         Carlos Rodón          SP     SP  2.815057     13.0   \n",
       "742     23735          Luis Garcia          SP     SP  1.712002      8.0   \n",
       "789     17149       Domingo Germán          SP     SP  0.051030      0.0   \n",
       "735     13050   Anthony DeSclafani          SP     SP  0.819972      4.0   \n",
       "717     19680        Sixto Sánchez          SP     SP -0.015743      0.0   \n",
       "1025    15467       Marco Gonzales          SP     SP -0.040606      0.0   \n",
       "732     15890        Luis Severino          SP     SP  1.616072      8.0   \n",
       "802      6397        Jake Odorizzi          SP     SP -0.048073      0.0   \n",
       "768     19879         Tanner Houck          SP     SP  0.142901      1.0   \n",
       "736      9323       Patrick Corbin          SP     SP -0.096771      0.0   \n",
       "678      6632      Carlos Carrasco          SP     SP  0.732244      4.0   \n",
       "700     21318         Tylor Megill          SP     SP -0.101265      0.0   \n",
       "690     19291           Zac Gallen          SP     SP  1.116571      6.0   \n",
       "681     17295       Framber Valdez          SP     SP  1.735564      9.0   \n",
       "885     17606      Cristian Javier          SP     SP -0.136819      0.0   \n",
       "647     17085          Pablo López          SP     SP  2.334962     12.0   \n",
       "\n",
       "          Value       diff  HR   R  RBI  SB  BA  PA     W     SO       ERA  \\\n",
       "677   14.649325  10.649325 NaN NaN  NaN NaN NaN NaN  11.0  186.0  3.657401   \n",
       "696   10.951651   9.951651 NaN NaN  NaN NaN NaN NaN  12.0  143.0  3.901852   \n",
       "650   16.537602   8.537602 NaN NaN  NaN NaN NaN NaN  11.0  169.0  3.656705   \n",
       "638   24.458293   8.458293 NaN NaN  NaN NaN NaN NaN  11.0  191.0  3.560440   \n",
       "669    8.463021   7.463021 NaN NaN  NaN NaN NaN NaN   9.0  148.0  3.759474   \n",
       "701    7.303834   7.303834 NaN NaN  NaN NaN NaN NaN   7.0  111.0  3.554844   \n",
       "685    9.002983   7.002983 NaN NaN  NaN NaN NaN NaN   9.0  152.0  3.608377   \n",
       "708   10.858337   6.858337 NaN NaN  NaN NaN NaN NaN   8.0  145.0  3.696099   \n",
       "706    6.677131   5.677131 NaN NaN  NaN NaN NaN NaN   9.0  158.0  3.991644   \n",
       "740    7.613295   5.613295 NaN NaN  NaN NaN NaN NaN  10.0  147.0  4.271186   \n",
       "699    6.483247   5.483247 NaN NaN  NaN NaN NaN NaN   9.0  167.0  4.133916   \n",
       "673   14.066130   5.066130 NaN NaN  NaN NaN NaN NaN  11.0  176.0  3.834817   \n",
       "702    4.903793   4.903793 NaN NaN  NaN NaN NaN NaN   9.0  144.0  4.338983   \n",
       "653   14.450208   4.450208 NaN NaN  NaN NaN NaN NaN  10.0  169.0  3.540000   \n",
       "630   37.601174   3.601174 NaN NaN  NaN NaN NaN NaN  10.0  206.0  2.433276   \n",
       "748    4.470944   3.470944 NaN NaN  NaN NaN NaN NaN   9.0  136.0  4.094723   \n",
       "769    4.452468   3.452468 NaN NaN  NaN NaN NaN NaN  10.0  166.0  4.151745   \n",
       "664   10.142510   3.142510 NaN NaN  NaN NaN NaN NaN   8.0  140.0  3.576856   \n",
       "694    2.980542   2.980542 NaN NaN  NaN NaN NaN NaN  10.0  137.0  4.171699   \n",
       "1174   2.927045   2.927045 NaN NaN  NaN NaN NaN NaN   7.0  115.0  3.846575   \n",
       "744    2.253712   2.253712 NaN NaN  NaN NaN NaN NaN   6.0  128.0  3.836066   \n",
       "781    2.239842   2.239842 NaN NaN  NaN NaN NaN NaN   8.0  123.0  4.072557   \n",
       "728    4.175895   2.175895 NaN NaN  NaN NaN NaN NaN   7.0  131.0  4.236984   \n",
       "663   15.972761   1.972761 NaN NaN  NaN NaN NaN NaN  10.0  147.0  3.513465   \n",
       "684   11.742427   1.742427 NaN NaN  NaN NaN NaN NaN  10.0  158.0  3.803571   \n",
       "780    1.226914   1.226914 NaN NaN  NaN NaN NaN NaN   7.0  127.0  4.331457   \n",
       "761    1.160874   1.160874 NaN NaN  NaN NaN NaN NaN   6.0   87.0  4.092043   \n",
       "733    4.945198   0.945198 NaN NaN  NaN NaN NaN NaN  10.0  164.0  4.178623   \n",
       "645   17.770627   0.770627 NaN NaN  NaN NaN NaN NaN  11.0  190.0  3.697763   \n",
       "752    0.751020   0.751020 NaN NaN  NaN NaN NaN NaN   9.0  149.0  4.445783   \n",
       "874    0.710240   0.710240 NaN NaN  NaN NaN NaN NaN   8.0  135.0  4.415630   \n",
       "680   12.691538   0.691538 NaN NaN  NaN NaN NaN NaN  11.0  203.0  3.913634   \n",
       "835    1.649394   0.649394 NaN NaN  NaN NaN NaN NaN   8.0  121.0  4.411926   \n",
       "719    0.589551   0.589551 NaN NaN  NaN NaN NaN NaN   7.0  124.0  4.157044   \n",
       "641   13.565681   0.565681 NaN NaN  NaN NaN NaN NaN   9.0  167.0  3.661920   \n",
       "742    8.250091   0.250091 NaN NaN  NaN NaN NaN NaN  10.0  168.0  4.025197   \n",
       "789    0.245911   0.245911 NaN NaN  NaN NaN NaN NaN   6.0  115.0  4.330326   \n",
       "735    3.951420  -0.048580 NaN NaN  NaN NaN NaN NaN  10.0  144.0  4.223678   \n",
       "717   -0.075866  -0.075866 NaN NaN  NaN NaN NaN NaN   6.0   76.0  3.773371   \n",
       "1025  -0.195677  -0.195677 NaN NaN  NaN NaN NaN NaN  10.0  132.0  4.440529   \n",
       "732    7.787804  -0.212196 NaN NaN  NaN NaN NaN NaN   9.0  135.0  3.854685   \n",
       "802   -0.231663  -0.231663 NaN NaN  NaN NaN NaN NaN   6.0   90.0  4.183784   \n",
       "768    0.688635  -0.311365 NaN NaN  NaN NaN NaN NaN   7.0  125.0  4.214177   \n",
       "736   -0.466339  -0.466339 NaN NaN  NaN NaN NaN NaN  10.0  159.0  4.390881   \n",
       "678    3.528663  -0.471337 NaN NaN  NaN NaN NaN NaN   8.0  127.0  4.064516   \n",
       "700   -0.487994  -0.487994 NaN NaN  NaN NaN NaN NaN   6.0  123.0  4.177950   \n",
       "690    5.380723  -0.619277 NaN NaN  NaN NaN NaN NaN   9.0  175.0  4.136663   \n",
       "681    8.363635  -0.636365 NaN NaN  NaN NaN NaN NaN  12.0  159.0  3.733022   \n",
       "885   -0.659325  -0.659325 NaN NaN  NaN NaN NaN NaN   4.0  126.0  4.160315   \n",
       "647   11.252116  -0.747884 NaN NaN  NaN NaN NaN NaN   9.0  143.0  3.674740   \n",
       "\n",
       "          WHIP  Sv+Hld  \n",
       "677   1.236066     0.0  \n",
       "696   1.216318     0.0  \n",
       "650   1.165906     0.0  \n",
       "638   1.042386     0.0  \n",
       "669   1.239683     0.0  \n",
       "701   1.291700     9.0  \n",
       "685   1.267227     0.0  \n",
       "708   1.149897     0.0  \n",
       "706   1.253415     0.0  \n",
       "740   1.177196     0.0  \n",
       "699   1.248585     0.0  \n",
       "673   1.196556     0.0  \n",
       "702   1.220339     0.0  \n",
       "653   1.206667     0.0  \n",
       "630   0.915078     0.0  \n",
       "748   1.260489     0.0  \n",
       "769   1.305008     0.0  \n",
       "664   1.184492     0.0  \n",
       "694   1.292639     0.0  \n",
       "1174  1.249315     0.0  \n",
       "744   1.270492     0.0  \n",
       "781   1.271699     0.0  \n",
       "728   1.172950     0.0  \n",
       "663   1.120549     0.0  \n",
       "684   1.196429     0.0  \n",
       "780   1.226470     0.0  \n",
       "761   1.175492     1.0  \n",
       "733   1.296147     0.0  \n",
       "645   1.170677     0.0  \n",
       "752   1.271084     0.0  \n",
       "874   1.254600     0.0  \n",
       "680   1.262268     0.0  \n",
       "835   1.207243     0.0  \n",
       "719   1.284904     0.0  \n",
       "641   1.168855     0.0  \n",
       "742   1.253543     0.0  \n",
       "789   1.230627     1.0  \n",
       "735   1.261618     0.0  \n",
       "717   1.235127     0.0  \n",
       "1025  1.280470     0.0  \n",
       "732   1.216061     0.0  \n",
       "802   1.254054     3.0  \n",
       "768   1.292001     1.0  \n",
       "736   1.341658     0.0  \n",
       "678   1.250000     0.0  \n",
       "700   1.280894     0.0  \n",
       "690   1.280833     0.0  \n",
       "681   1.331970     0.0  \n",
       "885   1.258913     1.0  \n",
       "647   1.176471     0.0  "
      ]
     },
     "execution_count": 60,
     "metadata": {},
     "output_type": "execute_result"
    }
   ],
   "source": [
    "df[(df['Owner'].isna()) & (df['Pos'].str.contains('SP'))][['playerid', 'Name', 'Primary_Pos', 'Pos', 'z', 'Dollars', 'Value', 'diff', 'HR', 'R', 'RBI', 'SB', 'BA', 'PA', 'W', 'SO', 'ERA', 'WHIP', 'Sv+Hld']].sort_values('diff', ascending=False).iloc[:50]"
   ]
  },
  {
   "cell_type": "code",
   "execution_count": 43,
   "id": "bac27b59",
   "metadata": {},
   "outputs": [
    {
     "name": "stdout",
     "output_type": "stream",
     "text": [
      "HR 3777.0\n",
      "R 12269.0\n",
      "RBI 12205.0\n",
      "SB 1274.0\n",
      "H 21085.0\n"
     ]
    }
   ],
   "source": [
    "for i in ['HR', 'R', 'RBI', 'SB', 'H']:\n",
    "    print(i, df[(df['z']>0) & (~df['Primary_Pos'].isin(['SP', 'RP']))][i].sum())"
   ]
  },
  {
   "cell_type": "code",
   "execution_count": 48,
   "id": "4d0e2789",
   "metadata": {},
   "outputs": [
    {
     "name": "stdout",
     "output_type": "stream",
     "text": [
      "ER 6252.0\n",
      "HA 13235.0\n",
      "BB 4750.0\n",
      "W 957.0\n",
      "SO 16328.0\n",
      "Sv+Hld 843.0\n"
     ]
    }
   ],
   "source": [
    "for i in ['ER', 'HA', 'BB', 'W', 'SO', 'Sv+Hld']:\n",
    "    print(i, df[(df['z']>0) & (df['Primary_Pos'].isin(['SP', 'RP']))][i].sum())"
   ]
  },
  {
   "cell_type": "code",
   "execution_count": null,
   "id": "8bc0eaad",
   "metadata": {},
   "outputs": [],
   "source": []
  }
 ],
 "metadata": {
  "hide_input": false,
  "kernelspec": {
   "display_name": "Python 3",
   "language": "python",
   "name": "python3"
  },
  "language_info": {
   "codemirror_mode": {
    "name": "ipython",
    "version": 3
   },
   "file_extension": ".py",
   "mimetype": "text/x-python",
   "name": "python",
   "nbconvert_exporter": "python",
   "pygments_lexer": "ipython3",
   "version": "3.7.4"
  }
 },
 "nbformat": 4,
 "nbformat_minor": 5
}
