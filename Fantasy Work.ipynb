{
 "cells": [
  {
   "cell_type": "code",
   "execution_count": 1,
   "id": "fccbff49",
   "metadata": {},
   "outputs": [
    {
     "data": {
      "text/html": [
       "<style>.container { width:90% !important; }</style>"
      ],
      "text/plain": [
       "<IPython.core.display.HTML object>"
      ]
     },
     "metadata": {},
     "output_type": "display_data"
    }
   ],
   "source": [
    "from IPython.core.display import display, HTML\n",
    "display(HTML(\"<style>.container { width:90% !important; }</style>\"))\n",
    "import plotly.graph_objects as go\n",
    "import plotly.express as px\n",
    "import numpy as np\n",
    "import pandas as pd\n",
    "from datetime import datetime\n",
    "pd.options.display.max_columns = None\n",
    "from pybaseball import batting_stats, pitching_stats, cache, playerid_lookup, statcast_batter, statcast_pitcher, statcast\n",
    "\n",
    "cache.enable()\n",
    "cache.config.cache_type='csv'\n",
    "cache.config.save()"
   ]
  },
  {
   "cell_type": "code",
   "execution_count": 2,
   "id": "479e1744",
   "metadata": {},
   "outputs": [],
   "source": [
    "from sqlalchemy import MetaData, text, Column, Integer, String, ForeignKey, Table, create_engine, Float, Boolean, DateTime\n",
    "from sqlalchemy.orm import relationship, backref, sessionmaker\n",
    "from sqlalchemy.ext.declarative import declarative_base\n",
    "\n",
    "meta = MetaData()\n",
    "engine = create_engine('sqlite:///fantasy_data.db', echo=False)\n",
    "Session = sessionmaker(bind=engine)\n",
    "session = Session()\n",
    "Base = declarative_base()"
   ]
  },
  {
   "cell_type": "code",
   "execution_count": 95,
   "id": "d69750ff",
   "metadata": {},
   "outputs": [],
   "source": [
    "n_teams = 13\n",
    "tm_players = 23\n",
    "tm_dollars = 260\n",
    "player_split = .6\n",
    "pitcher_split = 1 - player_split\n",
    "tot_dollars = n_teams * tm_dollars\n",
    "tot_players = n_teams * tm_players\n",
    "tot_hitters = n_teams * 14\n",
    "tot_pitchers = n_teams * 9\n",
    "\n",
    "drafted_by_pos = {\n",
    "    'C':n_teams,\n",
    "    '1B':round(n_teams*1.5),\n",
    "    '2B':round(n_teams*1.5),\n",
    "    '3B':math.floor(n_teams*1.5),\n",
    "    'SS':math.floor(n_teams*1.5),\n",
    "    'OF':n_teams*5,\n",
    "    'MI':n_teams,\n",
    "    'CI':n_teams,\n",
    "    'DH':n_teams*2, \n",
    "    'P':n_teams*9,\n",
    "    'SP':round(n_teams*6.5),\n",
    "    'RP':math.floor(n_teams*2.5),\n",
    "}\n",
    "\n",
    "def load_data():\n",
    "    atc = pd.read_csv('data/2022-atc-proj-h.csv', encoding=\"latin-1\")\n",
    "    dc = pd.read_csv('data/2022-dc-proj-h.csv', encoding=\"latin-1\")\n",
    "    steamer = pd.read_csv('data/2022-steamer-proj-h.csv', encoding=\"latin-1\")\n",
    "    zips = pd.read_csv('data/2022-zips-proj-h.csv', encoding=\"latin-1\")\n",
    "    val_h = pd.read_csv('data/2022-fangraphs-auction-calculator-h.csv')\n",
    "    val_h.rename(columns={'PlayerId':'playerid', 'POS':'Pos'},inplace=True)\n",
    "    cbs = pd.read_csv('data/2022-cbs-values.csv', encoding=\"latin-1\")\n",
    "    h = atc.append(dc).append(steamer).append(zips).sort_values('playerid')\n",
    "    h = h.merge(val_h[['playerid', 'Pos', 'Dollars']]).merge(cbs[['playerid', 'CBS']], on='playerid', how='left')\n",
    "    h.drop(columns=['wOBA', 'CS', 'Fld', 'BsR', 'ADP'],inplace=True)\n",
    "    h['Primary_Pos'] = h.apply(lambda x: find_primary_pos(x['Pos']), axis=1)\n",
    "    proj = pd.pivot_table(h, index='playerid', values=['G', 'PA', 'AB', 'H', 'HR', 'R', 'RBI', 'SB'], aggfunc='mean').merge(h[['playerid', 'Name', 'Team', 'Pos', 'Primary_Pos', 'Dollars', 'CBS']], on='playerid', how='inner').drop_duplicates()\n",
    "    proj['sorter'] = proj['HR']+proj['R']+proj['RBI']+proj['H']+proj['SB']\n",
    "    proj['BA'] = proj['H']/proj['AB']\n",
    "    proj = proj.drop_duplicates(subset='playerid')\n",
    "\n",
    "    atc = pd.read_csv('data/2022-atc-proj-p.csv', encoding=\"latin-1\")\n",
    "    dc = pd.read_csv('data/2022-dc-proj-p.csv', encoding=\"latin-1\")\n",
    "    steamer = pd.read_csv('data/2022-steamer-proj-p.csv', encoding=\"latin-1\")\n",
    "    zips = pd.read_csv('data/2022-zips-proj-p.csv', encoding=\"latin-1\")\n",
    "    val_p = pd.read_csv('data/2022-fangraphs-auction-calculator-p.csv')\n",
    "    val_p.rename(columns={'PlayerId':'playerid', 'POS':'Pos'},inplace=True)\n",
    "    p = atc.append(dc).append(steamer).append(zips).sort_values('playerid')\n",
    "    p = p.merge(val_p[['playerid', 'Pos', 'Dollars']]).merge(cbs[['playerid', 'CBS']], on='playerid', how='left')\n",
    "    p.rename(columns={'H':'HA'},inplace=True)\n",
    "    p['Sv+Hld'] = p['SV']+p['HLD']\n",
    "    p['Primary_Pos'] = p['Pos'].apply(lambda x: ', '.join(x.split('/')))\n",
    "\n",
    "    pproj = pd.pivot_table(p, index='playerid', values=['GS', 'G', 'IP', 'ER', 'HA', 'SO', 'BB', 'W', 'SV', 'HLD', 'Sv+Hld'], aggfunc='mean').merge(p[['playerid', 'Name', 'Team', 'Pos', 'Dollars', 'CBS']], on='playerid', how='inner').drop_duplicates()\n",
    "    pproj['sorter'] = pproj['SO']+(pproj['Sv+Hld']*4)+pproj['W']\n",
    "    pproj['Primary_Pos'] = pproj.apply(lambda x: find_primary_pos(x['Pos']), axis=1)\n",
    "    #proj = proj.append(pproj)\n",
    "    pproj['IP'].fillna(0, inplace=True)\n",
    "    for i in ['PA', 'AB', 'G', 'H', 'HR', 'R', 'RBI', 'SB']:\n",
    "        proj[i].fillna(0,inplace=True)\n",
    "        proj[i] = proj[i].apply(lambda x: int(x))\n",
    "    for i in ['GS', 'G', 'HA', 'SO', 'ER', 'BB', 'W', 'SV', 'HLD', 'Sv+Hld']:\n",
    "        pproj[i].fillna(0,inplace=True)\n",
    "        pproj[i] = pproj[i].apply(lambda x: int(x))\n",
    "    pproj['ERA'] = pproj['ER']/pproj['IP']*9\n",
    "    pproj['WHIP'] = (pproj['HA']+pproj['BB'])/pproj['IP']\n",
    "    pproj = pproj.drop_duplicates(subset='playerid')\n",
    "    \n",
    "    return proj.sort_values('Dollars', ascending=False), pproj.sort_values('Dollars', ascending=False)\n",
    "\n",
    "def calc_z(x, stat):\n",
    "    z = (x - drafted[stat].mean()) / drafted[stat].std()\n",
    "    return z\n",
    "\n",
    "def find_primary_pos(p):\n",
    "    pos_list = p.split('/')\n",
    "    pos_hierarchy = ['C', '3B', '2B', '1B', 'SS', 'OF', 'DH', 'SP', 'RP', 'P']\n",
    "    for i in pos_hierarchy:\n",
    "        if i in pos_list:\n",
    "            return i\n",
    "\n",
    "def owners(conv):\n",
    "    df = pd.read_sql('players', engine)\n",
    "    owners_df = df.groupby('Owner').agg({'Name':'count', 'Paid':'sum', 'z':'sum', 'H':'sum', 'AB':'sum', 'HR':'sum', 'R':'sum', 'RBI':'sum', 'SB':'sum', 'W':'sum', 'Sv+Hld':'sum', 'SO':'sum'}).reset_index()\n",
    "    owners_df.rename(columns={'Name':'Drafted'},inplace=True)\n",
    "    owners_df['$/unit'] = owners_df['Paid']/owners_df['z']\n",
    "    owners_df['$ Left'] = tm_dollars - owners_df['Paid']\n",
    "    owners_df['$ Left / Plyr'] = owners_df['$ Left'] / (tm_players -owners_df['Drafted'])\n",
    "    owners_df['Cash Sitch'] = owners_df['$ Left / Plyr'] / (((tot_dollars - owners_df.Paid.sum()) + owners_df['Paid']) / ((tot_players - owners_df.Drafted.sum()) + owners_df['Drafted']))\n",
    "    owners_df['Value'] = (owners_df['z']*conv)-owners_df['Paid']\n",
    "    owners_df['BA'] = owners_df['H']/owners_df['AB']\n",
    "    owners_df['Pts'] = 0\n",
    "    for i in ['BA', 'HR', 'R', 'RBI', 'SB', 'W', 'Sv+Hld', 'SO']:\n",
    "        owners_df['Pts'] += owners_df[i].rank()\n",
    "    owners_df['Rank'] = owners_df['Pts'].rank()\n",
    "    return df.sort_values('z', ascending=False), owners_df\n",
    "\n",
    "def check_roster_pos(roster, name, team_name, pos, eligible):\n",
    "    eligible_at = eligible.split('/')\n",
    "    eligibility = []\n",
    "    for p in eligible.split('/'):\n",
    "        if p=='C':\n",
    "            eligibility.extend(['C'])\n",
    "        if p=='1B':\n",
    "            eligibility.extend(['1B', 'CI'])\n",
    "        if p=='2B':\n",
    "            eligibility.extend(['2B', 'MI'])\n",
    "        if p=='3B':\n",
    "            eligibility.extend(['3B', 'CI'])\n",
    "        if p=='SS':\n",
    "            eligibility.extend(['SS', 'MI'])\n",
    "        if p=='OF':\n",
    "            eligibility.extend(['OF1', 'OF2', 'OF3', 'OF4', 'OF5'])\n",
    "        if p in ['SP', 'RP']:\n",
    "            eligibility.extend(['P1', 'P2', 'P3', 'P4', 'P5', 'P6', 'P7', 'P8', 'P9'])\n",
    "        \n",
    "    eligibility = list(dict.fromkeys(eligibility))\n",
    "    if 'SP' in eligible_at or 'RP' in eligible_at: \n",
    "        pos_list = eligibility\n",
    "    else:\n",
    "        pos_list = eligibility+['DH1', 'DH2']\n",
    "    for p in pos_list:\n",
    "        if roster.loc[p, team_name]==0:\n",
    "            roster.loc[p, team_name] = name\n",
    "            return p\n",
    "    \n",
    "    return pos_list\n",
    "\n",
    "def next_closest_in_tier(df, pos, playerid):\n",
    "    try:\n",
    "        i = df[(df['Primary_Pos']==pos) & (df['playerid']==playerid) & (df['Owner'].isna())].index[0]\n",
    "        val = df[(df['Primary_Pos']==pos) & (df['Owner'].isna()) & (df['playerid']==playerid)]['Value'].iloc[0]\n",
    "        return df[df['playerid']==playerid]['Value'].iloc[0] - df[(df['Primary_Pos']==pos) & (df['Owner'].isna()) & (df['Value']<=val)].iloc[1]['Value']\n",
    "    except:\n",
    "        return 0\n",
    "    \n",
    "def big_board(row, stat):\n",
    "    # qual_avgs comes from 2019 and 2021 qualified players' averages and stdevs for each stat\n",
    "    qual_avgs = {'G':[145.0, 10.8], 'PA':[600.4, 59.6], 'AB':[533.4, 53.6], 'H':[143.7, 22.5], 'HR':[24.4, 10.4], 'zlgBA':[0.20, 13.9],\n",
    "            'R':[82.5, 17.6], 'RBI':[78.9, 19.9], 'SB':[8.6, 8.8], 'AVG':[.269, .026], 'W':[6.1, 4.3], 'GS':[7.6, 13.5], 'Sv+Hld':[12.9, 11.6],\n",
    "            'ER':[37.3, 23.7], 'IP':[91.2, 53.2], 'SO':[95.7, 57.4], 'BB':[30.2, 15.7], 'HA':[79.7, 50.9], 'zlgERA':[.1235, 89.55], 'zlgWHIP':[-.1512, 17.63368]}\n",
    "    if stat == 'BA':\n",
    "        ba_pts = row['H']-(row['AB']*(qual_avgs['H'][0]/qual_avgs['AB'][0]))\n",
    "        zBA = (ba_pts-qual_avgs['zlgBA'][0])/qual_avgs['zlgBA'][1]\n",
    "        #return ((row['AB'] * (((row['H']/row['AB'])-qual_avgs['AVG'][0])/qual_avgs['AVG'][1])) - qual_avgs['zlgBA'][0])/qual_avgs['zlgBA'][1]\n",
    "        return zBA\n",
    "    elif stat=='ERA':\n",
    "        pts = ((row['ER']*9) - ((row['IP']*qual_avgs['ER'][0]*9)/qual_avgs['IP'][0])) * -1\n",
    "        zERA = (pts-qual_avgs['zlgERA'][0])/qual_avgs['zlgERA'][1]\n",
    "        return zERA\n",
    "    elif stat=='WHIP':\n",
    "        pts = ((row['HA']+row['BB'])-(row['IP']*((qual_avgs['HA'][0]+qual_avgs['BB'][0])/qual_avgs['IP'][0]))) * -1\n",
    "        zWHIP = (pts-qual_avgs['zlgWHIP'][0])/qual_avgs['zlgWHIP'][1]\n",
    "        return zWHIP\n",
    "    else:\n",
    "        return (row[stat] - qual_avgs[stat][0]) / qual_avgs[stat][1]"
   ]
  },
  {
   "cell_type": "code",
   "execution_count": 96,
   "id": "795a52c2",
   "metadata": {},
   "outputs": [],
   "source": [
    "h, p = load_data()"
   ]
  },
  {
   "cell_type": "code",
   "execution_count": 97,
   "id": "1e040a68",
   "metadata": {},
   "outputs": [
    {
     "name": "stdout",
     "output_type": "stream",
     "text": [
      "Positional adjustment applied by primary position\n",
      "C -6.153191339388657\n",
      "MI -3.6228684092310233\n",
      "CI -2.1155278202895724\n",
      "OF -3.8751151846441028\n",
      "SP -1.6972569973871898\n",
      "RP -0.3461899290585227\n",
      "\n",
      "Total z: 701.3944209397413\n",
      "\n",
      "H/P split: 0.6579266945868755\n",
      "Conversion to $: 4.818971892407433\n"
     ]
    }
   ],
   "source": [
    "h['zR'] = h.apply(lambda row: big_board(row, 'R'), axis=1)\n",
    "h['zHR'] = h.apply(lambda row: big_board(row, 'HR'), axis=1)\n",
    "h['zRBI'] = h.apply(lambda row: big_board(row, 'RBI'), axis=1)\n",
    "h['zSB'] = h.apply(lambda row: big_board(row, 'SB'), axis=1)\n",
    "h['zBA'] = h.apply(lambda row: big_board(row, 'BA'), axis=1)\n",
    "h['BIGAA'] = h['zR']+h['zRBI']+h['zHR']+h['zSB']+h['zBA']\n",
    "\n",
    "p['zSO'] = p.apply(lambda row: big_board(row, 'SO'), axis=1)\n",
    "p['zW'] = p.apply(lambda row: big_board(row, 'W'), axis=1)\n",
    "p['zSv+Hld'] = p.apply(lambda row: big_board(row, 'Sv+Hld'), axis=1)\n",
    "p['zERA'] = p.apply(lambda row: big_board(row, 'ERA'), axis=1)\n",
    "p['zWHIP'] = p.apply(lambda row: big_board(row, 'WHIP'), axis=1)\n",
    "p['BIGAA'] = p['zSv+Hld']+p['zSO']+p['zW']+p['zERA']+p['zWHIP']\n",
    "\n",
    "print('Positional adjustment applied by primary position')\n",
    "c_adjust = abs(h[h['Primary_Pos']=='C'].sort_values('BIGAA',ascending=False).iloc[drafted_by_pos['C']]['BIGAA'])\n",
    "h.loc[h['Primary_Pos']=='C', 'Pos_adj'] = c_adjust\n",
    "ci_adjust = abs(h[h['Primary_Pos'].isin(['1B', '3B'])].sort_values('BIGAA',ascending=False).iloc[drafted_by_pos['1B']+drafted_by_pos['3B']]['BIGAA'])\n",
    "h.loc[h['Primary_Pos'].isin(['1B', '3B']), 'Pos_adj'] = ci_adjust\n",
    "mi_adjust = abs(h[h['Primary_Pos'].isin(['2B', 'SS'])].sort_values('BIGAA',ascending=False).iloc[drafted_by_pos['SS']+drafted_by_pos['2B']]['BIGAA'])\n",
    "h.loc[h['Primary_Pos'].isin(['2B', 'SS']), 'Pos_adj'] = mi_adjust\n",
    "of_adjust = abs(h[h['Primary_Pos'].isin(['OF', 'DH'])].sort_values('BIGAA',ascending=False).iloc[drafted_by_pos['OF']]['BIGAA'])\n",
    "h.loc[h['Primary_Pos'].isin(['OF', 'DH']), 'Pos_adj'] = of_adjust\n",
    "\n",
    "print('C',h[h['Primary_Pos']=='C'].sort_values('BIGAA',ascending=False).iloc[drafted_by_pos['C']]['BIGAA'])\n",
    "print('MI',h[h['Primary_Pos'].isin(['2B', 'SS'])].sort_values('BIGAA',ascending=False).iloc[drafted_by_pos['1B']+drafted_by_pos['3B']]['BIGAA'])\n",
    "print('CI',h[h['Primary_Pos'].isin(['1B', '3B'])].sort_values('BIGAA',ascending=False).iloc[drafted_by_pos['SS']+drafted_by_pos['2B']]['BIGAA'])\n",
    "print('OF',h[h['Primary_Pos'].isin(['OF', 'DH'])].sort_values('BIGAA',ascending=False).iloc[drafted_by_pos['OF']]['BIGAA'])\n",
    "\n",
    "sp_adjust = abs(p[p['Primary_Pos']=='SP'].sort_values('BIGAA',ascending=False).iloc[drafted_by_pos['SP']]['BIGAA'])\n",
    "p.loc[p['Primary_Pos']=='SP', 'Pos_adj'] = sp_adjust\n",
    "rp_adjust = abs(p[p['Primary_Pos']=='RP'].sort_values('BIGAA',ascending=False).iloc[drafted_by_pos['RP']]['BIGAA'])\n",
    "p.loc[p['Primary_Pos']=='RP', 'Pos_adj'] = rp_adjust\n",
    "print('SP',p[p['Primary_Pos'].isin(['SP'])].sort_values('BIGAA',ascending=False).iloc[drafted_by_pos['SP']]['BIGAA'])\n",
    "print('RP',p[p['Primary_Pos'].isin(['RP'])].sort_values('BIGAA',ascending=False).iloc[drafted_by_pos['RP']]['BIGAA'])\n",
    "\n",
    "# Apply Positional adjustment\n",
    "h['z'] = h['BIGAA'] + h['Pos_adj']\n",
    "p['z'] = p['BIGAA'] + p['Pos_adj']\n",
    "\n",
    "# Apply H/P split\n",
    "# Commented out the split conversion because the dollar converter works this in by using total dollar / total z of both hitters and pitchers\n",
    "#p['z'] = p['BIGAA']*(p[p['BIGAA']>0]['BIGAA'].sum()/(h[h['BIGAA']>0]['BIGAA'].sum()+p[p['BIGAA']>0]['BIGAA'].sum()))\n",
    "#h['z'] = h['BIGAA']*(h[h['BIGAA']>0]['BIGAA'].sum()/(h[h['BIGAA']>0]['BIGAA'].sum()+p[p['BIGAA']>0]['BIGAA'].sum()))\n",
    "#p['z'] = p['BIGAA']# * pitcher_split\n",
    "#h['z'] = h['BIGAA']# * player_split\n",
    "\n",
    "conv = (tm_dollars/tm_players)*(tot_players/(h[h['z']>0]['z'].sum()+p[p['z']>0]['z'].sum()))\n",
    "print('\\nTotal z:',h[h['z']>0]['z'].sum()+p[p['z']>0]['z'].sum())\n",
    "print('\\nH/P split:',h[h['z']>0]['z'].sum()/(h[h['z']>0]['z'].sum()+p[p['z']>0]['z'].sum()))\n",
    "print('Conversion to $:',conv)\n",
    "\n",
    "h['Value'] = h['z']*conv\n",
    "p['Value'] = p['z']*conv\n",
    "\n",
    "p.loc[p['Name']=='Shohei Ohtani', 'playerid'] = 'p19755'\n",
    "\n",
    "b = h.append(p)\n",
    "b['Outs'] = b['IP']*3\n",
    "b['K/9'] = b['SO']*9/(b['Outs']/3)\n",
    "b['Timestamp'] = None\n",
    "b['Paid'] = 0\n",
    "b['Owner'] = None\n",
    "b['Used'] = None"
   ]
  },
  {
   "cell_type": "code",
   "execution_count": null,
   "id": "15013abc",
   "metadata": {},
   "outputs": [],
   "source": [
    "# Update data with Keepers\n",
    "#b = b.drop(columns=['Paid', 'Timestamp', 'Owner']).merge(pd.DataFrame(keepers), on='playerid', how='left')\n",
    "#b['Paid'].fillna(0,inplace=True)\n",
    "#b[\"Paid\"] = pd.to_numeric(b.Paid, downcast='integer')"
   ]
  },
  {
   "cell_type": "code",
   "execution_count": 137,
   "id": "81474406",
   "metadata": {},
   "outputs": [],
   "source": [
    "# Uploads data to table\n",
    "#b.set_index('playerid')[['Name', 'Team', 'Pos', 'Primary_Pos', 'G', 'GS', 'PA', 'AB', 'H', 'HR', 'R', 'RBI', 'SB', 'BA', 'IP', 'Outs', 'HA', 'BB', 'ER', 'W', 'SO', 'Sv+Hld', 'ERA', 'WHIP', 'K/9', 'Dollars', 'z', 'Value', 'Paid', 'Owner', 'Used', 'Timestamp', 'zBA', 'zHR', 'zR', 'zRBI', 'zSB', 'zERA', 'zWHIP', 'zW', 'zSO', 'zSv+Hld']].to_sql('players', engine, if_exists='replace')"
   ]
  },
  {
   "cell_type": "code",
   "execution_count": 138,
   "id": "229b25b7",
   "metadata": {},
   "outputs": [
    {
     "data": {
      "text/html": [
       "<div>\n",
       "<style scoped>\n",
       "    .dataframe tbody tr th:only-of-type {\n",
       "        vertical-align: middle;\n",
       "    }\n",
       "\n",
       "    .dataframe tbody tr th {\n",
       "        vertical-align: top;\n",
       "    }\n",
       "\n",
       "    .dataframe thead th {\n",
       "        text-align: right;\n",
       "    }\n",
       "</style>\n",
       "<table border=\"1\" class=\"dataframe\">\n",
       "  <thead>\n",
       "    <tr style=\"text-align: right;\">\n",
       "      <th></th>\n",
       "      <th>Owner</th>\n",
       "      <th>Drafted</th>\n",
       "      <th>Paid</th>\n",
       "      <th>z</th>\n",
       "      <th>H</th>\n",
       "      <th>AB</th>\n",
       "      <th>HR</th>\n",
       "      <th>R</th>\n",
       "      <th>RBI</th>\n",
       "      <th>SB</th>\n",
       "      <th>W</th>\n",
       "      <th>Sv+Hld</th>\n",
       "      <th>SO</th>\n",
       "      <th>$/unit</th>\n",
       "      <th>$ Left</th>\n",
       "      <th>$ Left / Plyr</th>\n",
       "      <th>Cash Sitch</th>\n",
       "      <th>Value</th>\n",
       "      <th>BA</th>\n",
       "      <th>Pts</th>\n",
       "      <th>Rank</th>\n",
       "    </tr>\n",
       "  </thead>\n",
       "  <tbody>\n",
       "    <tr>\n",
       "      <th>0</th>\n",
       "      <td>Avg Joes</td>\n",
       "      <td>4</td>\n",
       "      <td>48</td>\n",
       "      <td>15.801349</td>\n",
       "      <td>417.0</td>\n",
       "      <td>1602.0</td>\n",
       "      <td>74.0</td>\n",
       "      <td>243.0</td>\n",
       "      <td>246.0</td>\n",
       "      <td>24.0</td>\n",
       "      <td>15.0</td>\n",
       "      <td>0.0</td>\n",
       "      <td>257.0</td>\n",
       "      <td>3.037715</td>\n",
       "      <td>212</td>\n",
       "      <td>11.157895</td>\n",
       "      <td>0.957982</td>\n",
       "      <td>28.146257</td>\n",
       "      <td>0.260300</td>\n",
       "      <td>60.0</td>\n",
       "      <td>10.5</td>\n",
       "    </tr>\n",
       "    <tr>\n",
       "      <th>1</th>\n",
       "      <td>Brewbirds</td>\n",
       "      <td>4</td>\n",
       "      <td>19</td>\n",
       "      <td>8.061312</td>\n",
       "      <td>144.0</td>\n",
       "      <td>550.0</td>\n",
       "      <td>31.0</td>\n",
       "      <td>81.0</td>\n",
       "      <td>100.0</td>\n",
       "      <td>2.0</td>\n",
       "      <td>23.0</td>\n",
       "      <td>30.0</td>\n",
       "      <td>397.0</td>\n",
       "      <td>2.356936</td>\n",
       "      <td>241</td>\n",
       "      <td>12.684211</td>\n",
       "      <td>1.099639</td>\n",
       "      <td>19.847236</td>\n",
       "      <td>0.261818</td>\n",
       "      <td>45.0</td>\n",
       "      <td>4.0</td>\n",
       "    </tr>\n",
       "    <tr>\n",
       "      <th>2</th>\n",
       "      <td>Charmer</td>\n",
       "      <td>4</td>\n",
       "      <td>41</td>\n",
       "      <td>12.558282</td>\n",
       "      <td>271.0</td>\n",
       "      <td>1009.0</td>\n",
       "      <td>63.0</td>\n",
       "      <td>171.0</td>\n",
       "      <td>189.0</td>\n",
       "      <td>14.0</td>\n",
       "      <td>9.0</td>\n",
       "      <td>63.0</td>\n",
       "      <td>165.0</td>\n",
       "      <td>3.264778</td>\n",
       "      <td>219</td>\n",
       "      <td>11.526316</td>\n",
       "      <td>0.991924</td>\n",
       "      <td>19.518009</td>\n",
       "      <td>0.268583</td>\n",
       "      <td>48.5</td>\n",
       "      <td>6.0</td>\n",
       "    </tr>\n",
       "    <tr>\n",
       "      <th>3</th>\n",
       "      <td>Dirty Birds</td>\n",
       "      <td>4</td>\n",
       "      <td>27</td>\n",
       "      <td>11.084951</td>\n",
       "      <td>413.0</td>\n",
       "      <td>1558.0</td>\n",
       "      <td>68.0</td>\n",
       "      <td>213.0</td>\n",
       "      <td>221.0</td>\n",
       "      <td>5.0</td>\n",
       "      <td>13.0</td>\n",
       "      <td>0.0</td>\n",
       "      <td>168.0</td>\n",
       "      <td>2.435735</td>\n",
       "      <td>233</td>\n",
       "      <td>12.263158</td>\n",
       "      <td>1.060286</td>\n",
       "      <td>26.418070</td>\n",
       "      <td>0.265083</td>\n",
       "      <td>44.5</td>\n",
       "      <td>3.0</td>\n",
       "    </tr>\n",
       "    <tr>\n",
       "      <th>4</th>\n",
       "      <td>Harvey</td>\n",
       "      <td>4</td>\n",
       "      <td>58</td>\n",
       "      <td>13.064272</td>\n",
       "      <td>396.0</td>\n",
       "      <td>1448.0</td>\n",
       "      <td>79.0</td>\n",
       "      <td>230.0</td>\n",
       "      <td>237.0</td>\n",
       "      <td>10.0</td>\n",
       "      <td>12.0</td>\n",
       "      <td>0.0</td>\n",
       "      <td>235.0</td>\n",
       "      <td>4.439589</td>\n",
       "      <td>202</td>\n",
       "      <td>10.631579</td>\n",
       "      <td>0.909767</td>\n",
       "      <td>4.956361</td>\n",
       "      <td>0.273481</td>\n",
       "      <td>60.0</td>\n",
       "      <td>10.5</td>\n",
       "    </tr>\n",
       "    <tr>\n",
       "      <th>5</th>\n",
       "      <td>Lil Trump</td>\n",
       "      <td>3</td>\n",
       "      <td>27</td>\n",
       "      <td>7.666628</td>\n",
       "      <td>381.0</td>\n",
       "      <td>1484.0</td>\n",
       "      <td>62.0</td>\n",
       "      <td>222.0</td>\n",
       "      <td>189.0</td>\n",
       "      <td>42.0</td>\n",
       "      <td>0.0</td>\n",
       "      <td>0.0</td>\n",
       "      <td>0.0</td>\n",
       "      <td>3.521757</td>\n",
       "      <td>233</td>\n",
       "      <td>11.650000</td>\n",
       "      <td>1.003368</td>\n",
       "      <td>9.945266</td>\n",
       "      <td>0.256739</td>\n",
       "      <td>38.5</td>\n",
       "      <td>1.0</td>\n",
       "    </tr>\n",
       "    <tr>\n",
       "      <th>6</th>\n",
       "      <td>Lima Time</td>\n",
       "      <td>4</td>\n",
       "      <td>60</td>\n",
       "      <td>23.125036</td>\n",
       "      <td>570.0</td>\n",
       "      <td>2091.0</td>\n",
       "      <td>115.0</td>\n",
       "      <td>337.0</td>\n",
       "      <td>350.0</td>\n",
       "      <td>71.0</td>\n",
       "      <td>0.0</td>\n",
       "      <td>0.0</td>\n",
       "      <td>0.0</td>\n",
       "      <td>2.594591</td>\n",
       "      <td>200</td>\n",
       "      <td>10.526316</td>\n",
       "      <td>0.900162</td>\n",
       "      <td>51.438898</td>\n",
       "      <td>0.272597</td>\n",
       "      <td>66.0</td>\n",
       "      <td>12.0</td>\n",
       "    </tr>\n",
       "    <tr>\n",
       "      <th>7</th>\n",
       "      <td>Midnight</td>\n",
       "      <td>3</td>\n",
       "      <td>44</td>\n",
       "      <td>10.036762</td>\n",
       "      <td>167.0</td>\n",
       "      <td>571.0</td>\n",
       "      <td>29.0</td>\n",
       "      <td>102.0</td>\n",
       "      <td>94.0</td>\n",
       "      <td>6.0</td>\n",
       "      <td>24.0</td>\n",
       "      <td>0.0</td>\n",
       "      <td>322.0</td>\n",
       "      <td>4.383884</td>\n",
       "      <td>216</td>\n",
       "      <td>10.800000</td>\n",
       "      <td>0.924892</td>\n",
       "      <td>4.366873</td>\n",
       "      <td>0.292469</td>\n",
       "      <td>46.0</td>\n",
       "      <td>5.0</td>\n",
       "    </tr>\n",
       "    <tr>\n",
       "      <th>8</th>\n",
       "      <td>Moms Cookin</td>\n",
       "      <td>4</td>\n",
       "      <td>7</td>\n",
       "      <td>8.389010</td>\n",
       "      <td>196.0</td>\n",
       "      <td>781.0</td>\n",
       "      <td>45.0</td>\n",
       "      <td>125.0</td>\n",
       "      <td>124.0</td>\n",
       "      <td>1.0</td>\n",
       "      <td>19.0</td>\n",
       "      <td>2.0</td>\n",
       "      <td>346.0</td>\n",
       "      <td>0.834425</td>\n",
       "      <td>253</td>\n",
       "      <td>13.315789</td>\n",
       "      <td>1.159067</td>\n",
       "      <td>33.426405</td>\n",
       "      <td>0.250960</td>\n",
       "      <td>40.0</td>\n",
       "      <td>2.0</td>\n",
       "    </tr>\n",
       "    <tr>\n",
       "      <th>9</th>\n",
       "      <td>Roid Ragers</td>\n",
       "      <td>3</td>\n",
       "      <td>32</td>\n",
       "      <td>15.032248</td>\n",
       "      <td>464.0</td>\n",
       "      <td>1737.0</td>\n",
       "      <td>78.0</td>\n",
       "      <td>261.0</td>\n",
       "      <td>264.0</td>\n",
       "      <td>38.0</td>\n",
       "      <td>0.0</td>\n",
       "      <td>0.0</td>\n",
       "      <td>0.0</td>\n",
       "      <td>2.128757</td>\n",
       "      <td>228</td>\n",
       "      <td>11.400000</td>\n",
       "      <td>0.980194</td>\n",
       "      <td>40.439980</td>\n",
       "      <td>0.267127</td>\n",
       "      <td>58.0</td>\n",
       "      <td>7.5</td>\n",
       "    </tr>\n",
       "    <tr>\n",
       "      <th>10</th>\n",
       "      <td>Trouble</td>\n",
       "      <td>4</td>\n",
       "      <td>38</td>\n",
       "      <td>15.439802</td>\n",
       "      <td>447.0</td>\n",
       "      <td>1631.0</td>\n",
       "      <td>60.0</td>\n",
       "      <td>251.0</td>\n",
       "      <td>233.0</td>\n",
       "      <td>35.0</td>\n",
       "      <td>13.0</td>\n",
       "      <td>0.0</td>\n",
       "      <td>206.0</td>\n",
       "      <td>2.461171</td>\n",
       "      <td>222</td>\n",
       "      <td>11.684211</td>\n",
       "      <td>1.006520</td>\n",
       "      <td>36.403971</td>\n",
       "      <td>0.274065</td>\n",
       "      <td>59.5</td>\n",
       "      <td>9.0</td>\n",
       "    </tr>\n",
       "    <tr>\n",
       "      <th>11</th>\n",
       "      <td>Wu-Tang</td>\n",
       "      <td>4</td>\n",
       "      <td>22</td>\n",
       "      <td>17.013359</td>\n",
       "      <td>293.0</td>\n",
       "      <td>1104.0</td>\n",
       "      <td>70.0</td>\n",
       "      <td>183.0</td>\n",
       "      <td>197.0</td>\n",
       "      <td>22.0</td>\n",
       "      <td>20.0</td>\n",
       "      <td>0.0</td>\n",
       "      <td>361.0</td>\n",
       "      <td>1.293102</td>\n",
       "      <td>238</td>\n",
       "      <td>12.526316</td>\n",
       "      <td>1.084857</td>\n",
       "      <td>59.986897</td>\n",
       "      <td>0.265399</td>\n",
       "      <td>58.0</td>\n",
       "      <td>7.5</td>\n",
       "    </tr>\n",
       "  </tbody>\n",
       "</table>\n",
       "</div>"
      ],
      "text/plain": [
       "          Owner  Drafted  Paid          z      H      AB     HR      R    RBI  \\\n",
       "0      Avg Joes        4    48  15.801349  417.0  1602.0   74.0  243.0  246.0   \n",
       "1     Brewbirds        4    19   8.061312  144.0   550.0   31.0   81.0  100.0   \n",
       "2       Charmer        4    41  12.558282  271.0  1009.0   63.0  171.0  189.0   \n",
       "3   Dirty Birds        4    27  11.084951  413.0  1558.0   68.0  213.0  221.0   \n",
       "4        Harvey        4    58  13.064272  396.0  1448.0   79.0  230.0  237.0   \n",
       "5     Lil Trump        3    27   7.666628  381.0  1484.0   62.0  222.0  189.0   \n",
       "6     Lima Time        4    60  23.125036  570.0  2091.0  115.0  337.0  350.0   \n",
       "7      Midnight        3    44  10.036762  167.0   571.0   29.0  102.0   94.0   \n",
       "8   Moms Cookin        4     7   8.389010  196.0   781.0   45.0  125.0  124.0   \n",
       "9   Roid Ragers        3    32  15.032248  464.0  1737.0   78.0  261.0  264.0   \n",
       "10      Trouble        4    38  15.439802  447.0  1631.0   60.0  251.0  233.0   \n",
       "11      Wu-Tang        4    22  17.013359  293.0  1104.0   70.0  183.0  197.0   \n",
       "\n",
       "      SB     W  Sv+Hld     SO    $/unit  $ Left  $ Left / Plyr  Cash Sitch  \\\n",
       "0   24.0  15.0     0.0  257.0  3.037715     212      11.157895    0.957982   \n",
       "1    2.0  23.0    30.0  397.0  2.356936     241      12.684211    1.099639   \n",
       "2   14.0   9.0    63.0  165.0  3.264778     219      11.526316    0.991924   \n",
       "3    5.0  13.0     0.0  168.0  2.435735     233      12.263158    1.060286   \n",
       "4   10.0  12.0     0.0  235.0  4.439589     202      10.631579    0.909767   \n",
       "5   42.0   0.0     0.0    0.0  3.521757     233      11.650000    1.003368   \n",
       "6   71.0   0.0     0.0    0.0  2.594591     200      10.526316    0.900162   \n",
       "7    6.0  24.0     0.0  322.0  4.383884     216      10.800000    0.924892   \n",
       "8    1.0  19.0     2.0  346.0  0.834425     253      13.315789    1.159067   \n",
       "9   38.0   0.0     0.0    0.0  2.128757     228      11.400000    0.980194   \n",
       "10  35.0  13.0     0.0  206.0  2.461171     222      11.684211    1.006520   \n",
       "11  22.0  20.0     0.0  361.0  1.293102     238      12.526316    1.084857   \n",
       "\n",
       "        Value        BA   Pts  Rank  \n",
       "0   28.146257  0.260300  60.0  10.5  \n",
       "1   19.847236  0.261818  45.0   4.0  \n",
       "2   19.518009  0.268583  48.5   6.0  \n",
       "3   26.418070  0.265083  44.5   3.0  \n",
       "4    4.956361  0.273481  60.0  10.5  \n",
       "5    9.945266  0.256739  38.5   1.0  \n",
       "6   51.438898  0.272597  66.0  12.0  \n",
       "7    4.366873  0.292469  46.0   5.0  \n",
       "8   33.426405  0.250960  40.0   2.0  \n",
       "9   40.439980  0.267127  58.0   7.5  \n",
       "10  36.403971  0.274065  59.5   9.0  \n",
       "11  59.986897  0.265399  58.0   7.5  "
      ]
     },
     "execution_count": 138,
     "metadata": {},
     "output_type": "execute_result"
    }
   ],
   "source": [
    "df, owners_df = owners(conv)\n",
    "owners_df"
   ]
  },
  {
   "cell_type": "code",
   "execution_count": 139,
   "id": "f090f58c",
   "metadata": {},
   "outputs": [
    {
     "data": {
      "text/plain": [
       "0     0.957982\n",
       "1     1.099639\n",
       "2     0.991924\n",
       "3     1.060286\n",
       "4     0.909767\n",
       "5     1.003368\n",
       "6     0.900162\n",
       "7     0.924892\n",
       "8     1.159067\n",
       "9     0.980194\n",
       "10    1.006520\n",
       "11    1.084857\n",
       "dtype: float64"
      ]
     },
     "execution_count": 139,
     "metadata": {},
     "output_type": "execute_result"
    }
   ],
   "source": [
    "owners_df['$ Left / Plyr'] / (((tot_dollars - owners_df.Paid.sum()) + owners_df['Paid']) / ((tot_players - owners_df.Drafted.sum()) + owners_df['Drafted']))"
   ]
  },
  {
   "cell_type": "code",
   "execution_count": 141,
   "id": "a306dbe2",
   "metadata": {},
   "outputs": [],
   "source": [
    "owners_df['Value'] = owners_df['z']*conv"
   ]
  },
  {
   "cell_type": "code",
   "execution_count": 142,
   "id": "1e73bddb",
   "metadata": {},
   "outputs": [],
   "source": [
    "owner_list = ['Avg Joes', 'Brewbirds', 'Charmer', 'Dirty Birds', 'Harvey', 'Lil Trump', 'Lima Time', 'Midnight', 'Moms Cookin', 'Roid Ragers', 'Trouble', 'Wu-Tang']\n",
    "roster = pd.DataFrame(index=['C', '1B', '2B', '3B', 'SS', 'MI', 'CI', 'OF1', 'OF2', 'OF3', 'OF4', 'OF5', 'DH1', 'DH2', 'P1', 'P2', 'P3', 'P4', 'P5', 'P6', 'P7', 'P8', 'P9'], data=np.zeros((23,12)), columns=owner_list)"
   ]
  },
  {
   "cell_type": "code",
   "execution_count": 143,
   "id": "ce72839d",
   "metadata": {},
   "outputs": [],
   "source": [
    "owner_list = ['Avg Joes', 'Brewbirds', 'Charmer', 'Dirty Birds', 'Harvey', 'Lil Trump', 'Lima Time', 'Midnight', 'Moms Cookin', 'Roid Ragers', 'Trouble', 'Wu-Tang']\n",
    "roster = pd.DataFrame(index=['C', '1B', '2B', '3B', 'SS', 'MI', 'CI', 'OF1', 'OF2', 'OF3', 'OF4', 'OF5', 'DH1', 'DH2', 'P1', 'P2', 'P3', 'P4', 'P5', 'P6', 'P7', 'P8', 'P9'], data=np.zeros((23,12)), columns=owner_list)\n",
    "for tm in owners_df.Owner.to_list():\n",
    "    for i, row in df[df['Owner']==tm][['Name', 'Owner', 'Primary_Pos', 'Pos', 'Timestamp']].sort_values(\"Timestamp\").iterrows():\n",
    "        check_roster_pos(roster, df.loc[i]['Name'], df.loc[i]['Owner'], df.loc[i]['Primary_Pos'], df.loc[i]['Pos'])"
   ]
  },
  {
   "cell_type": "code",
   "execution_count": 144,
   "id": "e602cf68",
   "metadata": {},
   "outputs": [
    {
     "data": {
      "text/html": [
       "<div>\n",
       "<style scoped>\n",
       "    .dataframe tbody tr th:only-of-type {\n",
       "        vertical-align: middle;\n",
       "    }\n",
       "\n",
       "    .dataframe tbody tr th {\n",
       "        vertical-align: top;\n",
       "    }\n",
       "\n",
       "    .dataframe thead th {\n",
       "        text-align: right;\n",
       "    }\n",
       "</style>\n",
       "<table border=\"1\" class=\"dataframe\">\n",
       "  <thead>\n",
       "    <tr style=\"text-align: right;\">\n",
       "      <th></th>\n",
       "      <th>Avg Joes</th>\n",
       "      <th>Brewbirds</th>\n",
       "      <th>Charmer</th>\n",
       "      <th>Dirty Birds</th>\n",
       "      <th>Harvey</th>\n",
       "      <th>Lil Trump</th>\n",
       "      <th>Lima Time</th>\n",
       "      <th>Midnight</th>\n",
       "      <th>Moms Cookin</th>\n",
       "      <th>Roid Ragers</th>\n",
       "      <th>Trouble</th>\n",
       "      <th>Wu-Tang</th>\n",
       "    </tr>\n",
       "  </thead>\n",
       "  <tbody>\n",
       "    <tr>\n",
       "      <th>C</th>\n",
       "      <td>0</td>\n",
       "      <td>0</td>\n",
       "      <td>0</td>\n",
       "      <td>Salvador Perez</td>\n",
       "      <td>0</td>\n",
       "      <td>Daulton Varsho</td>\n",
       "      <td>0</td>\n",
       "      <td>0</td>\n",
       "      <td>Mike Zunino</td>\n",
       "      <td>0</td>\n",
       "      <td>0</td>\n",
       "      <td>0</td>\n",
       "    </tr>\n",
       "    <tr>\n",
       "      <th>1B</th>\n",
       "      <td>Ty France</td>\n",
       "      <td>Jared Walsh</td>\n",
       "      <td>C.J. Cron</td>\n",
       "      <td>0</td>\n",
       "      <td>Vladimir Guerrero Jr.</td>\n",
       "      <td>Kris Bryant</td>\n",
       "      <td>0</td>\n",
       "      <td>Freddie Freeman</td>\n",
       "      <td>0</td>\n",
       "      <td>0</td>\n",
       "      <td>0</td>\n",
       "      <td>Austin Riley</td>\n",
       "    </tr>\n",
       "    <tr>\n",
       "      <th>2B</th>\n",
       "      <td>Chris Taylor</td>\n",
       "      <td>0</td>\n",
       "      <td>0</td>\n",
       "      <td>Brendan Rodgers</td>\n",
       "      <td>0</td>\n",
       "      <td>0</td>\n",
       "      <td>0</td>\n",
       "      <td>0</td>\n",
       "      <td>0</td>\n",
       "      <td>0</td>\n",
       "      <td>0</td>\n",
       "      <td>0</td>\n",
       "    </tr>\n",
       "    <tr>\n",
       "      <th>3B</th>\n",
       "      <td>0</td>\n",
       "      <td>0</td>\n",
       "      <td>0</td>\n",
       "      <td>0</td>\n",
       "      <td>0</td>\n",
       "      <td>0</td>\n",
       "      <td>0</td>\n",
       "      <td>0</td>\n",
       "      <td>0</td>\n",
       "      <td>0</td>\n",
       "      <td>Wander Franco</td>\n",
       "      <td>0</td>\n",
       "    </tr>\n",
       "    <tr>\n",
       "      <th>SS</th>\n",
       "      <td>0</td>\n",
       "      <td>0</td>\n",
       "      <td>0</td>\n",
       "      <td>0</td>\n",
       "      <td>Willy Adames</td>\n",
       "      <td>0</td>\n",
       "      <td>Fernando Tatis Jr.</td>\n",
       "      <td>0</td>\n",
       "      <td>0</td>\n",
       "      <td>Bo Bichette</td>\n",
       "      <td>Xander Bogaerts</td>\n",
       "      <td>0</td>\n",
       "    </tr>\n",
       "    <tr>\n",
       "      <th>MI</th>\n",
       "      <td>0</td>\n",
       "      <td>0</td>\n",
       "      <td>0</td>\n",
       "      <td>César Hernández</td>\n",
       "      <td>0</td>\n",
       "      <td>0</td>\n",
       "      <td>Bobby Witt Jr.</td>\n",
       "      <td>0</td>\n",
       "      <td>0</td>\n",
       "      <td>0</td>\n",
       "      <td>0</td>\n",
       "      <td>0</td>\n",
       "    </tr>\n",
       "    <tr>\n",
       "      <th>CI</th>\n",
       "      <td>0</td>\n",
       "      <td>0</td>\n",
       "      <td>0</td>\n",
       "      <td>0</td>\n",
       "      <td>Colin Moran</td>\n",
       "      <td>0</td>\n",
       "      <td>0</td>\n",
       "      <td>0</td>\n",
       "      <td>0</td>\n",
       "      <td>0</td>\n",
       "      <td>0</td>\n",
       "      <td>0</td>\n",
       "    </tr>\n",
       "    <tr>\n",
       "      <th>OF1</th>\n",
       "      <td>Tyler O'Neill</td>\n",
       "      <td>0</td>\n",
       "      <td>Bryce Harper</td>\n",
       "      <td>0</td>\n",
       "      <td>0</td>\n",
       "      <td>Cedric Mullins</td>\n",
       "      <td>Kyle Tucker</td>\n",
       "      <td>0</td>\n",
       "      <td>Jesse Winker</td>\n",
       "      <td>Bryan Reynolds</td>\n",
       "      <td>Akil Baddoo</td>\n",
       "      <td>Shohei Ohtani</td>\n",
       "    </tr>\n",
       "    <tr>\n",
       "      <th>OF2</th>\n",
       "      <td>0</td>\n",
       "      <td>0</td>\n",
       "      <td>0</td>\n",
       "      <td>0</td>\n",
       "      <td>0</td>\n",
       "      <td>0</td>\n",
       "      <td>0</td>\n",
       "      <td>0</td>\n",
       "      <td>0</td>\n",
       "      <td>Adolis García</td>\n",
       "      <td>0</td>\n",
       "      <td>0</td>\n",
       "    </tr>\n",
       "    <tr>\n",
       "      <th>OF3</th>\n",
       "      <td>0</td>\n",
       "      <td>0</td>\n",
       "      <td>0</td>\n",
       "      <td>0</td>\n",
       "      <td>0</td>\n",
       "      <td>0</td>\n",
       "      <td>0</td>\n",
       "      <td>0</td>\n",
       "      <td>0</td>\n",
       "      <td>0</td>\n",
       "      <td>0</td>\n",
       "      <td>0</td>\n",
       "    </tr>\n",
       "    <tr>\n",
       "      <th>OF4</th>\n",
       "      <td>0</td>\n",
       "      <td>0</td>\n",
       "      <td>0</td>\n",
       "      <td>0</td>\n",
       "      <td>0</td>\n",
       "      <td>0</td>\n",
       "      <td>0</td>\n",
       "      <td>0</td>\n",
       "      <td>0</td>\n",
       "      <td>0</td>\n",
       "      <td>0</td>\n",
       "      <td>0</td>\n",
       "    </tr>\n",
       "    <tr>\n",
       "      <th>OF5</th>\n",
       "      <td>0</td>\n",
       "      <td>0</td>\n",
       "      <td>0</td>\n",
       "      <td>0</td>\n",
       "      <td>0</td>\n",
       "      <td>0</td>\n",
       "      <td>0</td>\n",
       "      <td>0</td>\n",
       "      <td>0</td>\n",
       "      <td>0</td>\n",
       "      <td>0</td>\n",
       "      <td>0</td>\n",
       "    </tr>\n",
       "    <tr>\n",
       "      <th>DH1</th>\n",
       "      <td>0</td>\n",
       "      <td>0</td>\n",
       "      <td>0</td>\n",
       "      <td>0</td>\n",
       "      <td>0</td>\n",
       "      <td>0</td>\n",
       "      <td>Brandon Crawford</td>\n",
       "      <td>0</td>\n",
       "      <td>0</td>\n",
       "      <td>0</td>\n",
       "      <td>0</td>\n",
       "      <td>0</td>\n",
       "    </tr>\n",
       "    <tr>\n",
       "      <th>DH2</th>\n",
       "      <td>0</td>\n",
       "      <td>0</td>\n",
       "      <td>0</td>\n",
       "      <td>0</td>\n",
       "      <td>0</td>\n",
       "      <td>0</td>\n",
       "      <td>0</td>\n",
       "      <td>0</td>\n",
       "      <td>0</td>\n",
       "      <td>0</td>\n",
       "      <td>0</td>\n",
       "      <td>0</td>\n",
       "    </tr>\n",
       "    <tr>\n",
       "      <th>P1</th>\n",
       "      <td>Gerrit Cole</td>\n",
       "      <td>Charlie Morton</td>\n",
       "      <td>Emmanuel Clase</td>\n",
       "      <td>Max Fried</td>\n",
       "      <td>Max Scherzer</td>\n",
       "      <td>0</td>\n",
       "      <td>0</td>\n",
       "      <td>Julio Urías</td>\n",
       "      <td>Frankie Montas</td>\n",
       "      <td>0</td>\n",
       "      <td>Zack Wheeler</td>\n",
       "      <td>Freddy Peralta</td>\n",
       "    </tr>\n",
       "    <tr>\n",
       "      <th>P2</th>\n",
       "      <td>0</td>\n",
       "      <td>Jordan Romano</td>\n",
       "      <td>Scott Barlow</td>\n",
       "      <td>0</td>\n",
       "      <td>0</td>\n",
       "      <td>0</td>\n",
       "      <td>0</td>\n",
       "      <td>Adam Wainwright</td>\n",
       "      <td>Michael Kopech</td>\n",
       "      <td>0</td>\n",
       "      <td>0</td>\n",
       "      <td>Alek Manoah</td>\n",
       "    </tr>\n",
       "    <tr>\n",
       "      <th>P3</th>\n",
       "      <td>0</td>\n",
       "      <td>Noah Syndergaard</td>\n",
       "      <td>0</td>\n",
       "      <td>0</td>\n",
       "      <td>0</td>\n",
       "      <td>0</td>\n",
       "      <td>0</td>\n",
       "      <td>0</td>\n",
       "      <td>0</td>\n",
       "      <td>0</td>\n",
       "      <td>0</td>\n",
       "      <td>0</td>\n",
       "    </tr>\n",
       "    <tr>\n",
       "      <th>P4</th>\n",
       "      <td>0</td>\n",
       "      <td>0</td>\n",
       "      <td>0</td>\n",
       "      <td>0</td>\n",
       "      <td>0</td>\n",
       "      <td>0</td>\n",
       "      <td>0</td>\n",
       "      <td>0</td>\n",
       "      <td>0</td>\n",
       "      <td>0</td>\n",
       "      <td>0</td>\n",
       "      <td>0</td>\n",
       "    </tr>\n",
       "    <tr>\n",
       "      <th>P5</th>\n",
       "      <td>0</td>\n",
       "      <td>0</td>\n",
       "      <td>0</td>\n",
       "      <td>0</td>\n",
       "      <td>0</td>\n",
       "      <td>0</td>\n",
       "      <td>0</td>\n",
       "      <td>0</td>\n",
       "      <td>0</td>\n",
       "      <td>0</td>\n",
       "      <td>0</td>\n",
       "      <td>0</td>\n",
       "    </tr>\n",
       "    <tr>\n",
       "      <th>P6</th>\n",
       "      <td>0</td>\n",
       "      <td>0</td>\n",
       "      <td>0</td>\n",
       "      <td>0</td>\n",
       "      <td>0</td>\n",
       "      <td>0</td>\n",
       "      <td>0</td>\n",
       "      <td>0</td>\n",
       "      <td>0</td>\n",
       "      <td>0</td>\n",
       "      <td>0</td>\n",
       "      <td>0</td>\n",
       "    </tr>\n",
       "    <tr>\n",
       "      <th>P7</th>\n",
       "      <td>0</td>\n",
       "      <td>0</td>\n",
       "      <td>0</td>\n",
       "      <td>0</td>\n",
       "      <td>0</td>\n",
       "      <td>0</td>\n",
       "      <td>0</td>\n",
       "      <td>0</td>\n",
       "      <td>0</td>\n",
       "      <td>0</td>\n",
       "      <td>0</td>\n",
       "      <td>0</td>\n",
       "    </tr>\n",
       "    <tr>\n",
       "      <th>P8</th>\n",
       "      <td>0</td>\n",
       "      <td>0</td>\n",
       "      <td>0</td>\n",
       "      <td>0</td>\n",
       "      <td>0</td>\n",
       "      <td>0</td>\n",
       "      <td>0</td>\n",
       "      <td>0</td>\n",
       "      <td>0</td>\n",
       "      <td>0</td>\n",
       "      <td>0</td>\n",
       "      <td>0</td>\n",
       "    </tr>\n",
       "    <tr>\n",
       "      <th>P9</th>\n",
       "      <td>0</td>\n",
       "      <td>0</td>\n",
       "      <td>0</td>\n",
       "      <td>0</td>\n",
       "      <td>0</td>\n",
       "      <td>0</td>\n",
       "      <td>0</td>\n",
       "      <td>0</td>\n",
       "      <td>0</td>\n",
       "      <td>0</td>\n",
       "      <td>0</td>\n",
       "      <td>0</td>\n",
       "    </tr>\n",
       "  </tbody>\n",
       "</table>\n",
       "</div>"
      ],
      "text/plain": [
       "          Avg Joes         Brewbirds         Charmer      Dirty Birds  \\\n",
       "C                0                 0               0   Salvador Perez   \n",
       "1B       Ty France       Jared Walsh       C.J. Cron                0   \n",
       "2B    Chris Taylor                 0               0  Brendan Rodgers   \n",
       "3B               0                 0               0                0   \n",
       "SS               0                 0               0                0   \n",
       "MI               0                 0               0  César Hernández   \n",
       "CI               0                 0               0                0   \n",
       "OF1  Tyler O'Neill                 0    Bryce Harper                0   \n",
       "OF2              0                 0               0                0   \n",
       "OF3              0                 0               0                0   \n",
       "OF4              0                 0               0                0   \n",
       "OF5              0                 0               0                0   \n",
       "DH1              0                 0               0                0   \n",
       "DH2              0                 0               0                0   \n",
       "P1     Gerrit Cole    Charlie Morton  Emmanuel Clase        Max Fried   \n",
       "P2               0     Jordan Romano    Scott Barlow                0   \n",
       "P3               0  Noah Syndergaard               0                0   \n",
       "P4               0                 0               0                0   \n",
       "P5               0                 0               0                0   \n",
       "P6               0                 0               0                0   \n",
       "P7               0                 0               0                0   \n",
       "P8               0                 0               0                0   \n",
       "P9               0                 0               0                0   \n",
       "\n",
       "                    Harvey       Lil Trump           Lima Time  \\\n",
       "C                        0  Daulton Varsho                   0   \n",
       "1B   Vladimir Guerrero Jr.     Kris Bryant                   0   \n",
       "2B                       0               0                   0   \n",
       "3B                       0               0                   0   \n",
       "SS            Willy Adames               0  Fernando Tatis Jr.   \n",
       "MI                       0               0      Bobby Witt Jr.   \n",
       "CI             Colin Moran               0                   0   \n",
       "OF1                      0  Cedric Mullins         Kyle Tucker   \n",
       "OF2                      0               0                   0   \n",
       "OF3                      0               0                   0   \n",
       "OF4                      0               0                   0   \n",
       "OF5                      0               0                   0   \n",
       "DH1                      0               0    Brandon Crawford   \n",
       "DH2                      0               0                   0   \n",
       "P1            Max Scherzer               0                   0   \n",
       "P2                       0               0                   0   \n",
       "P3                       0               0                   0   \n",
       "P4                       0               0                   0   \n",
       "P5                       0               0                   0   \n",
       "P6                       0               0                   0   \n",
       "P7                       0               0                   0   \n",
       "P8                       0               0                   0   \n",
       "P9                       0               0                   0   \n",
       "\n",
       "            Midnight     Moms Cookin     Roid Ragers          Trouble  \\\n",
       "C                  0     Mike Zunino               0                0   \n",
       "1B   Freddie Freeman               0               0                0   \n",
       "2B                 0               0               0                0   \n",
       "3B                 0               0               0    Wander Franco   \n",
       "SS                 0               0     Bo Bichette  Xander Bogaerts   \n",
       "MI                 0               0               0                0   \n",
       "CI                 0               0               0                0   \n",
       "OF1                0    Jesse Winker  Bryan Reynolds      Akil Baddoo   \n",
       "OF2                0               0   Adolis García                0   \n",
       "OF3                0               0               0                0   \n",
       "OF4                0               0               0                0   \n",
       "OF5                0               0               0                0   \n",
       "DH1                0               0               0                0   \n",
       "DH2                0               0               0                0   \n",
       "P1       Julio Urías  Frankie Montas               0     Zack Wheeler   \n",
       "P2   Adam Wainwright  Michael Kopech               0                0   \n",
       "P3                 0               0               0                0   \n",
       "P4                 0               0               0                0   \n",
       "P5                 0               0               0                0   \n",
       "P6                 0               0               0                0   \n",
       "P7                 0               0               0                0   \n",
       "P8                 0               0               0                0   \n",
       "P9                 0               0               0                0   \n",
       "\n",
       "            Wu-Tang  \n",
       "C                 0  \n",
       "1B     Austin Riley  \n",
       "2B                0  \n",
       "3B                0  \n",
       "SS                0  \n",
       "MI                0  \n",
       "CI                0  \n",
       "OF1   Shohei Ohtani  \n",
       "OF2               0  \n",
       "OF3               0  \n",
       "OF4               0  \n",
       "OF5               0  \n",
       "DH1               0  \n",
       "DH2               0  \n",
       "P1   Freddy Peralta  \n",
       "P2      Alek Manoah  \n",
       "P3                0  \n",
       "P4                0  \n",
       "P5                0  \n",
       "P6                0  \n",
       "P7                0  \n",
       "P8                0  \n",
       "P9                0  "
      ]
     },
     "execution_count": 144,
     "metadata": {},
     "output_type": "execute_result"
    }
   ],
   "source": [
    "roster"
   ]
  },
  {
   "cell_type": "code",
   "execution_count": 145,
   "id": "ad207d2b",
   "metadata": {},
   "outputs": [
    {
     "name": "stdout",
     "output_type": "stream",
     "text": [
      "# of Players Yet to be Drafted: 254\n",
      "$ still available to be spent: 2957\n",
      "Initial $ per z rate: 4.818971892407432\n",
      "Current $ per z rate: 2.689590514252793\n",
      "Conversion Factor: 5.434448909647675\n"
     ]
    }
   ],
   "source": [
    "print('# of Players Yet to be Drafted:',(tot_players) - owners_df.Drafted.sum())\n",
    "print('$ still available to be spent:', tot_dollars - owners_df.Paid.sum())\n",
    "print('Initial $ per z rate:',tot_dollars/df[df['z']>=0]['z'].sum())\n",
    "print('Current $ per z rate:',owners_df.Paid.sum() / owners_df.z.sum())\n",
    "conv_factor = (tot_dollars - owners_df.Paid.sum()) / (df[df['z']>0]['z'].sum()-owners_df['z'].sum())\n",
    "print('Conversion Factor:',conv_factor)"
   ]
  },
  {
   "cell_type": "code",
   "execution_count": 146,
   "id": "e6a06b33",
   "metadata": {},
   "outputs": [],
   "source": [
    "df['adjValue'] = df['z'] * conv_factor"
   ]
  },
  {
   "cell_type": "code",
   "execution_count": 147,
   "id": "360e4a28",
   "metadata": {},
   "outputs": [
    {
     "data": {
      "text/html": [
       "<div>\n",
       "<style scoped>\n",
       "    .dataframe tbody tr th:only-of-type {\n",
       "        vertical-align: middle;\n",
       "    }\n",
       "\n",
       "    .dataframe tbody tr th {\n",
       "        vertical-align: top;\n",
       "    }\n",
       "\n",
       "    .dataframe thead th {\n",
       "        text-align: right;\n",
       "    }\n",
       "</style>\n",
       "<table border=\"1\" class=\"dataframe\">\n",
       "  <thead>\n",
       "    <tr style=\"text-align: right;\">\n",
       "      <th></th>\n",
       "      <th>Name</th>\n",
       "      <th>z</th>\n",
       "      <th>Paid</th>\n",
       "      <th>Owner</th>\n",
       "      <th>Value</th>\n",
       "      <th>adjValue</th>\n",
       "      <th>Dollars</th>\n",
       "    </tr>\n",
       "  </thead>\n",
       "  <tbody>\n",
       "    <tr>\n",
       "      <th>0</th>\n",
       "      <td>Fernando Tatis Jr.</td>\n",
       "      <td>11.851458</td>\n",
       "      <td>36</td>\n",
       "      <td>Lima Time</td>\n",
       "      <td>57.111844</td>\n",
       "      <td>64.406144</td>\n",
       "      <td>41.0</td>\n",
       "    </tr>\n",
       "    <tr>\n",
       "      <th>2</th>\n",
       "      <td>Juan Soto</td>\n",
       "      <td>10.219470</td>\n",
       "      <td>0</td>\n",
       "      <td>None</td>\n",
       "      <td>49.247341</td>\n",
       "      <td>55.537190</td>\n",
       "      <td>40.0</td>\n",
       "    </tr>\n",
       "    <tr>\n",
       "      <th>6</th>\n",
       "      <td>Trea Turner</td>\n",
       "      <td>8.949332</td>\n",
       "      <td>0</td>\n",
       "      <td>None</td>\n",
       "      <td>43.126581</td>\n",
       "      <td>48.634690</td>\n",
       "      <td>40.0</td>\n",
       "    </tr>\n",
       "    <tr>\n",
       "      <th>632</th>\n",
       "      <td>Gerrit Cole</td>\n",
       "      <td>8.703587</td>\n",
       "      <td>38</td>\n",
       "      <td>Avg Joes</td>\n",
       "      <td>41.942339</td>\n",
       "      <td>47.299197</td>\n",
       "      <td>34.0</td>\n",
       "    </tr>\n",
       "    <tr>\n",
       "      <th>10</th>\n",
       "      <td>Ronald Acuña Jr.</td>\n",
       "      <td>8.600909</td>\n",
       "      <td>0</td>\n",
       "      <td>None</td>\n",
       "      <td>41.447541</td>\n",
       "      <td>46.741203</td>\n",
       "      <td>31.0</td>\n",
       "    </tr>\n",
       "  </tbody>\n",
       "</table>\n",
       "</div>"
      ],
      "text/plain": [
       "                   Name          z  Paid      Owner      Value   adjValue  \\\n",
       "0    Fernando Tatis Jr.  11.851458    36  Lima Time  57.111844  64.406144   \n",
       "2             Juan Soto  10.219470     0       None  49.247341  55.537190   \n",
       "6           Trea Turner   8.949332     0       None  43.126581  48.634690   \n",
       "632         Gerrit Cole   8.703587    38   Avg Joes  41.942339  47.299197   \n",
       "10     Ronald Acuña Jr.   8.600909     0       None  41.447541  46.741203   \n",
       "\n",
       "     Dollars  \n",
       "0       41.0  \n",
       "2       40.0  \n",
       "6       40.0  \n",
       "632     34.0  \n",
       "10      31.0  "
      ]
     },
     "execution_count": 147,
     "metadata": {},
     "output_type": "execute_result"
    }
   ],
   "source": [
    "df[['Name', 'z', 'Paid', 'Owner', 'Value', 'adjValue', 'Dollars']].head()"
   ]
  },
  {
   "cell_type": "code",
   "execution_count": 148,
   "id": "956d3948",
   "metadata": {},
   "outputs": [
    {
     "data": {
      "application/vnd.plotly.v1+json": {
       "config": {
        "plotlyServerURL": "https://plot.ly"
       },
       "data": [
        {
         "marker": {
          "color": [
           "gray",
           "blue",
           "blue",
           "gray",
           "blue",
           "gray",
           "gray",
           "gray",
           "blue",
           "gray",
           "gray",
           "blue",
           "gray",
           "blue",
           "blue",
           "blue",
           "blue",
           "blue",
           "blue",
           "gray",
           "blue",
           "blue",
           "gray",
           "blue",
           "blue",
           "blue",
           "gray",
           "blue",
           "blue",
           "blue",
           "blue",
           "blue",
           "blue",
           "blue",
           "blue",
           "gray",
           "blue",
           "gray",
           "gray",
           "blue",
           "blue",
           "blue",
           "blue",
           "blue",
           "blue",
           "blue",
           "blue",
           "blue",
           "blue",
           "blue",
           "blue",
           "blue",
           "blue",
           "blue",
           "gray",
           "blue",
           "blue",
           "blue",
           "gray",
           "blue",
           "blue",
           "blue",
           "blue",
           "gray",
           "blue",
           "blue",
           "blue",
           "blue",
           "blue",
           "gray",
           "blue",
           "blue",
           "gray",
           "blue",
           "blue",
           "blue",
           "blue",
           "blue",
           "blue",
           "blue",
           "gray",
           "blue",
           "blue",
           "gray",
           "blue",
           "blue",
           "gray",
           "blue",
           "gray",
           "blue",
           "blue",
           "blue",
           "blue",
           "blue",
           "blue",
           "blue",
           "blue",
           "blue",
           "blue",
           "blue",
           "blue",
           "blue",
           "blue",
           "blue",
           "gray",
           "blue",
           "gray",
           "blue",
           "blue",
           "blue",
           "blue",
           "blue",
           "gray",
           "blue",
           "blue",
           "gray",
           "blue",
           "gray",
           "blue",
           "gray",
           "blue",
           "blue",
           "blue",
           "blue",
           "blue",
           "blue",
           "blue",
           "blue",
           "blue",
           "blue",
           "blue",
           "blue",
           "blue",
           "gray",
           "blue",
           "blue",
           "blue",
           "blue",
           "blue",
           "blue",
           "gray",
           "blue",
           "blue",
           "gray",
           "blue",
           "blue",
           "blue",
           "blue",
           "blue",
           "blue",
           "blue",
           "blue",
           "blue",
           "blue",
           "blue",
           "blue",
           "blue",
           "blue",
           "blue",
           "blue",
           "blue",
           "blue",
           "blue",
           "blue",
           "blue",
           "gray",
           "blue",
           "blue",
           "blue",
           "blue",
           "blue",
           "blue",
           "blue",
           "blue",
           "blue",
           "blue",
           "gray",
           "blue",
           "blue",
           "blue",
           "blue",
           "blue",
           "blue",
           "blue",
           "blue",
           "blue",
           "gray",
           "blue",
           "blue",
           "blue",
           "blue",
           "blue",
           "gray",
           "blue",
           "blue",
           "blue",
           "blue",
           "blue",
           "blue",
           "blue",
           "gray",
           "blue",
           "blue",
           "gray",
           "blue",
           "blue",
           "blue",
           "blue",
           "gray",
           "blue",
           "blue",
           "blue",
           "blue",
           "blue",
           "blue",
           "blue",
           "blue",
           "blue",
           "blue",
           "blue",
           "blue",
           "gray",
           "blue",
           "blue",
           "blue",
           "blue",
           "blue",
           "blue",
           "blue",
           "blue",
           "blue",
           "blue",
           "blue",
           "blue",
           "blue",
           "blue",
           "blue",
           "blue",
           "blue",
           "blue",
           "blue",
           "blue",
           "blue",
           "blue",
           "blue",
           "gray",
           "blue",
           "blue",
           "blue",
           "blue",
           "blue",
           "blue",
           "blue",
           "blue",
           "blue",
           "blue",
           "blue",
           "blue",
           "blue",
           "gray",
           "blue",
           "blue",
           "blue",
           "blue",
           "blue",
           "blue",
           "blue",
           "blue",
           "blue",
           "blue",
           "blue",
           "blue",
           "blue",
           "blue",
           "blue",
           "blue",
           "blue",
           "blue",
           "blue",
           "blue",
           "blue",
           "blue",
           "blue",
           "blue",
           "blue",
           "blue",
           "blue",
           "blue",
           "blue",
           "blue",
           "blue",
           "blue",
           "blue",
           "blue",
           "blue",
           "blue",
           "gray",
           "blue",
           "blue",
           "blue",
           "blue",
           "blue",
           "blue",
           "blue",
           "blue",
           "blue",
           "blue",
           "blue",
           "blue",
           "blue",
           "blue",
           "blue",
           "blue",
           "blue",
           "blue",
           "blue",
           "blue",
           "blue",
           "blue",
           "blue",
           "blue",
           "blue",
           "gray",
           "blue",
           "blue",
           "blue",
           "blue",
           "blue",
           "blue",
           "blue",
           "blue",
           "blue",
           "blue",
           "blue",
           "blue",
           "blue",
           "blue",
           "blue",
           "blue",
           "blue",
           "blue",
           "blue",
           "blue",
           "blue",
           "blue",
           "blue",
           "blue",
           "blue",
           "blue",
           "blue",
           "blue",
           "blue",
           "blue",
           "blue",
           "blue",
           "blue",
           "blue",
           "blue",
           "blue",
           "blue",
           "blue",
           "blue",
           "blue",
           "blue",
           "blue",
           "blue",
           "blue",
           "blue",
           "blue",
           "blue",
           "blue",
           "blue",
           "blue",
           "blue",
           "blue",
           "blue",
           "blue",
           "blue",
           "blue",
           "blue",
           "blue",
           "blue",
           "blue",
           "blue",
           "blue",
           "blue",
           "blue",
           "blue",
           "blue",
           "blue",
           "blue",
           "blue",
           "blue",
           "blue",
           "blue",
           "blue",
           "blue",
           "blue",
           "blue",
           "blue",
           "blue",
           "blue",
           "blue",
           "blue",
           "blue",
           "blue",
           "blue",
           "blue",
           "blue",
           "blue",
           "blue",
           "blue",
           "blue",
           "blue",
           "blue",
           "blue",
           "blue",
           "blue",
           "blue",
           "blue",
           "blue",
           "blue",
           "blue",
           "blue",
           "blue",
           "blue",
           "blue",
           "blue",
           "blue",
           "blue",
           "blue",
           "blue",
           "blue",
           "blue",
           "blue",
           "blue",
           "blue",
           "blue",
           "blue",
           "blue",
           "blue",
           "blue",
           "blue",
           "blue",
           "blue",
           "blue",
           "blue",
           "blue",
           "blue",
           "blue",
           "blue",
           "blue",
           "blue",
           "blue",
           "blue",
           "blue",
           "blue",
           "blue",
           "blue",
           "blue",
           "blue",
           "blue",
           "blue",
           "blue",
           "blue",
           "blue",
           "blue",
           "blue",
           "blue",
           "blue",
           "blue",
           "blue",
           "blue",
           "blue",
           "blue",
           "blue",
           "blue",
           "blue",
           "blue",
           "blue",
           "blue",
           "blue",
           "blue",
           "blue",
           "blue",
           "blue",
           "blue",
           "blue",
           "blue",
           "blue",
           "blue",
           "blue",
           "blue",
           "blue",
           "blue",
           "blue",
           "blue",
           "blue",
           "blue",
           "blue",
           "blue",
           "blue",
           "blue",
           "blue",
           "blue",
           "blue",
           "blue",
           "blue",
           "blue",
           "blue",
           "blue",
           "blue",
           "blue",
           "blue",
           "blue",
           "blue",
           "blue",
           "blue",
           "blue",
           "blue",
           "blue",
           "blue",
           "blue",
           "blue",
           "blue",
           "blue",
           "blue",
           "blue",
           "blue",
           "blue",
           "blue",
           "blue",
           "blue",
           "blue",
           "blue",
           "blue",
           "blue",
           "blue",
           "blue",
           "blue",
           "blue",
           "blue",
           "blue",
           "blue",
           "blue",
           "blue",
           "blue",
           "blue",
           "blue",
           "blue",
           "blue",
           "blue",
           "blue",
           "blue",
           "blue",
           "blue",
           "blue",
           "blue",
           "blue",
           "blue",
           "blue",
           "blue",
           "blue",
           "blue",
           "blue",
           "blue",
           "blue",
           "blue",
           "blue",
           "blue",
           "blue",
           "blue",
           "blue",
           "blue",
           "blue",
           "blue",
           "blue",
           "blue",
           "blue",
           "blue",
           "blue",
           "blue",
           "blue",
           "blue",
           "blue",
           "blue",
           "blue",
           "blue",
           "blue",
           "blue",
           "blue",
           "blue",
           "blue",
           "blue",
           "blue",
           "blue",
           "blue",
           "blue",
           "blue",
           "blue",
           "blue",
           "blue",
           "blue",
           "blue",
           "blue",
           "blue",
           "blue",
           "blue",
           "blue",
           "blue",
           "blue",
           "blue",
           "blue",
           "blue",
           "blue",
           "blue",
           "blue",
           "blue",
           "blue",
           "blue",
           "blue",
           "blue",
           "blue",
           "blue",
           "blue",
           "blue",
           "blue",
           "blue",
           "blue",
           "blue",
           "blue",
           "blue",
           "blue",
           "blue",
           "blue",
           "blue",
           "blue",
           "blue",
           "blue",
           "blue",
           "blue",
           "blue",
           "blue",
           "blue",
           "blue",
           "blue",
           "blue",
           "blue",
           "blue",
           "blue",
           "blue",
           "blue",
           "blue",
           "blue",
           "blue",
           "blue",
           "blue",
           "blue",
           "blue",
           "blue",
           "blue",
           "blue",
           "blue",
           "blue",
           "blue",
           "blue",
           "blue",
           "blue",
           "blue",
           "blue",
           "blue",
           "blue",
           "blue",
           "blue",
           "blue",
           "blue",
           "blue",
           "blue",
           "blue",
           "blue",
           "blue",
           "blue",
           "blue",
           "blue",
           "blue",
           "blue",
           "blue",
           "blue",
           "blue",
           "blue",
           "blue",
           "blue",
           "blue",
           "blue",
           "blue",
           "blue",
           "blue",
           "blue",
           "blue",
           "blue",
           "blue",
           "blue",
           "blue",
           "blue",
           "blue",
           "blue",
           "blue",
           "blue",
           "blue",
           "blue",
           "blue",
           "blue",
           "blue",
           "blue",
           "blue",
           "blue",
           "blue",
           "blue",
           "blue",
           "blue",
           "blue",
           "blue",
           "blue",
           "blue",
           "blue",
           "blue",
           "blue",
           "blue",
           "blue",
           "blue",
           "blue",
           "blue",
           "blue",
           "blue",
           "blue",
           "blue",
           "blue",
           "blue",
           "blue",
           "blue",
           "blue",
           "blue",
           "blue",
           "blue",
           "blue",
           "blue",
           "blue",
           "blue",
           "blue",
           "blue",
           "blue",
           "blue",
           "blue",
           "blue",
           "blue",
           "blue",
           "blue",
           "blue",
           "blue",
           "blue",
           "blue",
           "blue",
           "blue",
           "blue",
           "blue",
           "blue",
           "blue",
           "blue",
           "blue",
           "blue",
           "blue",
           "blue",
           "blue",
           "blue",
           "blue",
           "blue",
           "blue",
           "blue",
           "blue",
           "blue",
           "blue",
           "blue",
           "blue",
           "blue",
           "blue",
           "blue",
           "blue",
           "blue",
           "blue",
           "blue",
           "blue",
           "blue",
           "blue",
           "blue",
           "blue",
           "blue",
           "blue",
           "blue",
           "blue",
           "blue",
           "blue",
           "blue",
           "blue",
           "blue",
           "blue",
           "blue",
           "blue",
           "blue",
           "blue",
           "blue",
           "blue",
           "blue",
           "blue",
           "blue",
           "blue",
           "blue",
           "blue",
           "blue",
           "blue",
           "blue",
           "blue",
           "blue",
           "blue",
           "blue",
           "blue",
           "blue",
           "blue",
           "blue",
           "blue",
           "blue",
           "blue",
           "blue",
           "blue",
           "blue",
           "blue",
           "blue",
           "blue",
           "blue",
           "blue",
           "blue",
           "blue",
           "blue",
           "blue",
           "blue",
           "blue",
           "blue",
           "blue",
           "blue",
           "blue",
           "blue",
           "blue",
           "blue",
           "blue",
           "blue",
           "blue",
           "blue",
           "blue",
           "blue",
           "blue",
           "blue",
           "blue",
           "blue",
           "blue",
           "blue",
           "blue",
           "blue",
           "blue",
           "blue",
           "blue",
           "blue",
           "blue",
           "blue",
           "blue",
           "blue",
           "blue",
           "blue",
           "blue",
           "blue",
           "blue",
           "blue",
           "blue",
           "blue",
           "blue",
           "blue",
           "blue",
           "blue",
           "blue",
           "blue",
           "blue",
           "blue",
           "blue",
           "blue",
           "blue",
           "blue",
           "blue",
           "blue",
           "blue",
           "blue",
           "blue",
           "blue",
           "blue",
           "blue",
           "blue",
           "blue",
           "blue",
           "blue",
           "blue",
           "blue",
           "blue",
           "blue",
           "blue",
           "blue",
           "blue",
           "blue",
           "blue",
           "blue",
           "blue",
           "blue",
           "blue",
           "blue",
           "blue",
           "blue",
           "blue",
           "blue",
           "blue",
           "blue",
           "blue",
           "blue",
           "blue",
           "blue",
           "blue",
           "blue",
           "blue",
           "blue",
           "blue",
           "blue",
           "blue",
           "blue",
           "blue",
           "blue",
           "blue",
           "blue",
           "blue",
           "blue",
           "blue",
           "blue",
           "blue",
           "blue",
           "blue",
           "blue",
           "blue",
           "blue",
           "blue",
           "blue",
           "blue",
           "blue",
           "blue",
           "blue",
           "blue",
           "blue",
           "blue",
           "blue",
           "blue",
           "blue",
           "blue",
           "blue",
           "blue",
           "blue",
           "blue",
           "blue",
           "blue",
           "blue",
           "blue",
           "blue",
           "blue",
           "gray",
           "blue",
           "blue",
           "blue",
           "blue",
           "blue",
           "blue",
           "blue",
           "blue",
           "blue",
           "blue",
           "blue",
           "blue",
           "blue",
           "blue",
           "blue",
           "blue",
           "blue",
           "blue",
           "blue",
           "blue",
           "blue",
           "blue",
           "blue",
           "blue",
           "blue",
           "blue",
           "blue",
           "blue",
           "blue",
           "blue",
           "blue",
           "blue",
           "blue",
           "blue",
           "blue",
           "blue",
           "blue",
           "blue",
           "blue",
           "blue",
           "blue",
           "blue",
           "blue",
           "blue",
           "blue",
           "blue",
           "blue",
           "blue",
           "blue",
           "blue",
           "blue",
           "blue",
           "blue",
           "blue",
           "blue",
           "blue",
           "blue",
           "blue",
           "blue",
           "blue",
           "blue",
           "blue",
           "blue",
           "blue",
           "blue",
           "blue",
           "blue",
           "blue",
           "blue",
           "blue",
           "blue",
           "blue",
           "blue",
           "blue",
           "blue",
           "blue",
           "blue",
           "blue",
           "blue",
           "blue",
           "blue",
           "blue",
           "blue",
           "blue",
           "blue",
           "blue",
           "blue",
           "blue",
           "blue",
           "blue",
           "blue",
           "blue",
           "blue",
           "blue",
           "blue",
           "blue",
           "blue",
           "blue",
           "blue",
           "blue",
           "blue",
           "blue",
           "blue",
           "blue",
           "blue",
           "blue",
           "blue",
           "blue",
           "blue",
           "blue",
           "blue",
           "blue",
           "blue",
           "blue",
           "blue",
           "blue",
           "blue",
           "blue",
           "blue",
           "blue",
           "blue",
           "blue",
           "blue",
           "blue",
           "blue",
           "blue",
           "blue",
           "blue",
           "blue",
           "blue",
           "blue",
           "blue",
           "blue",
           "blue",
           "blue",
           "blue",
           "blue",
           "blue",
           "blue",
           "blue",
           "blue",
           "blue",
           "blue",
           "blue",
           "blue",
           "blue",
           "blue",
           "blue",
           "blue",
           "blue",
           "blue",
           "blue",
           "blue",
           "blue",
           "blue",
           "blue",
           "blue",
           "blue",
           "blue",
           "blue",
           "blue",
           "blue",
           "blue",
           "blue",
           "blue",
           "blue",
           "blue",
           "blue",
           "blue",
           "blue",
           "blue",
           "blue",
           "blue",
           "blue",
           "blue",
           "blue",
           "blue",
           "blue",
           "blue",
           "blue",
           "blue",
           "blue",
           "blue",
           "blue",
           "blue",
           "blue",
           "blue",
           "blue",
           "blue",
           "blue",
           "blue",
           "blue",
           "blue",
           "blue",
           "blue",
           "blue",
           "blue",
           "blue",
           "blue",
           "blue",
           "blue",
           "blue",
           "blue",
           "blue",
           "blue",
           "blue",
           "blue",
           "blue",
           "blue",
           "blue",
           "blue",
           "blue",
           "blue",
           "blue",
           "blue",
           "blue",
           "blue",
           "blue",
           "blue",
           "blue",
           "blue",
           "blue",
           "blue",
           "blue",
           "blue",
           "blue",
           "blue",
           "blue",
           "blue",
           "blue",
           "blue",
           "blue",
           "blue",
           "blue",
           "blue",
           "blue",
           "blue",
           "blue",
           "blue",
           "blue",
           "blue",
           "blue",
           "blue",
           "blue",
           "blue"
          ]
         },
         "mode": "markers",
         "type": "scatter",
         "x": [
          "Fernando Tatis Jr.",
          "Juan Soto",
          "Trea Turner",
          "Gerrit Cole",
          "Ronald Acuña Jr.",
          "Bo Bichette",
          "Vladimir Guerrero Jr.",
          "Shohei Ohtani",
          "Jacob deGrom",
          "Bryce Harper",
          "Kyle Tucker",
          "Yordan Alvarez",
          "Max Scherzer",
          "Mookie Betts",
          "Aaron Judge",
          "José Ramírez",
          "Ozzie Albies",
          "Mike Trout",
          "Corbin Burnes",
          "Salvador Perez",
          "Rafael Devers",
          "Teoscar Hernández",
          "Tyler O'Neill",
          "Shane Bieber",
          "Luis Robert",
          "Tim Anderson",
          "Zack Wheeler",
          "Nick Castellanos",
          "Trevor Story",
          "J.T. Realmuto",
          "Marcus Semien",
          "Brandon Woodruff",
          "Robbie Ray",
          "Justin Verlander",
          "Starling Marte",
          "Freddie Freeman",
          "George Springer",
          "Cedric Mullins",
          "Xander Bogaerts",
          "Jorge Polanco",
          "Aaron Nola",
          "Whit Merrifield",
          "Franmil Reyes",
          "Jose Altuve",
          "Walker Buehler",
          "Will Smith",
          "Manny Machado",
          "Lucas Giolito",
          "Francisco Lindor",
          "Pete Alonso",
          "Christian Yelich",
          "Corey Seager",
          "J.D. Martinez",
          "Giancarlo Stanton",
          "Bryan Reynolds",
          "Randy Arozarena",
          "Matt Olson",
          "Brandon Lowe",
          "Julio Urías",
          "Byron Buxton",
          "Kevin Gausman",
          "Carlos Correa",
          "Sandy Alcantara",
          "Max Fried",
          "Joey Gallo",
          "Eloy Jiménez",
          "Jonathan India",
          "José Berríos",
          "Chris Sale",
          "Charlie Morton",
          "Joe Musgrove",
          "Javier Báez",
          "Frankie Montas",
          "Austin Meadows",
          "Logan Webb",
          "Sean Manaea",
          "Liam Hendriks",
          "Paul Goldschmidt",
          "Ketel Marte",
          "Mitch Haniger",
          "Freddy Peralta",
          "Clayton Kershaw",
          "Cody Bellinger",
          "Jesse Winker",
          "Yasmani Grandal",
          "Willson Contreras",
          "Bobby Witt Jr.",
          "Tommy Edman",
          "Austin Riley",
          "Josh Hader",
          "Eduardo Rodriguez",
          "Trevor Rogers",
          "Adam Duvall",
          "Eddie Rosario",
          "Jorge Soler",
          "Nathan Eovaldi",
          "Jack Flaherty",
          "Nelson Cruz",
          "Raisel Iglesias",
          "Gleyber Torres",
          "Carlos Rodón",
          "Luis Castillo",
          "José Abreu",
          "Yu Darvish",
          "Emmanuel Clase",
          "Lance Lynn",
          "Jared Walsh",
          "Ian Happ",
          "Edwin Díaz",
          "Dylan Cease",
          "Marcell Ozuna",
          "Dansby Swanson",
          "Wander Franco",
          "Josh Bell",
          "Hunter Renfroe",
          "Akil Baddoo",
          "Nolan Arenado",
          "Adolis García",
          "Shohei Ohtani",
          "Alek Manoah",
          "Chris Bassitt",
          "Shane McClanahan",
          "Trent Grisham",
          "Pablo López",
          "Alex Verdugo",
          "Hyun Jin Ryu",
          "Trevor Bauer",
          "Keibert Ruiz",
          "Charlie Blackmon",
          "Alex Bregman",
          "Aroldis Chapman",
          "Adalberto Mondesi",
          "Ryan Pressly",
          "Willy Adames",
          "Blake Snell",
          "Avisaíl García",
          "Jake Cronenworth",
          "Mike Clevinger",
          "Giovanny Gallegos",
          "Austin Hays",
          "Michael Kopech",
          "Amed Rosario",
          "Ryan Mountcastle",
          "Daulton Varsho",
          "Dylan Carlson",
          "Max Muncy",
          "Taylor Rogers",
          "Lance McCullers Jr.",
          "Michael Conforto",
          "Andrew Benintendi",
          "Jazz Chisholm Jr.",
          "Jonathan Schoop",
          "AJ Pollock",
          "Alex Wood",
          "Blake Treinen",
          "Framber Valdez",
          "Jean Segura",
          "Enrique Hernández",
          "Luis Garcia",
          "Raimel Tapia",
          "Shane Baz",
          "Ramón Laureano",
          "Luis Severino",
          "John Means",
          "Kyle Schwarber",
          "Jordan Romano",
          "Adley Rutschman",
          "Aaron Ashby",
          "Max Kepler",
          "Andrew Kittredge",
          "Jordan Montgomery",
          "Chad Green",
          "Tarik Skubal",
          "Robbie Grossman",
          "Anthony Santander",
          "Jarred Kelenic",
          "C.J. Cron",
          "Myles Straw",
          "Tommy Pham",
          "Joey Votto",
          "Will Smith",
          "Kolten Wong",
          "Zac Gallen",
          "Oneil Cruz",
          "Marcus Stroman",
          "Sonny Gray",
          "Brendan Rodgers",
          "Andrew Heaney",
          "Tyler Mahle",
          "Devin Williams",
          "Michael Brantley",
          "Logan Gilbert",
          "Scott Barlow",
          "Stephen Strasburg",
          "Jon Gray",
          "Trey Mancini",
          "Harrison Bader",
          "Garrett Whitlock",
          "Travis d'Arnaud",
          "Wil Myers",
          "Ty France",
          "Joe Ryan",
          "DJ LeMahieu",
          "Kris Bryant",
          "Anthony Rizzo",
          "Tyler Stephenson",
          "Ranger Suárez",
          "Randal Grichuk",
          "Adam Wainwright",
          "Anthony DeSclafani",
          "Jo Adell",
          "Miguel Sanó",
          "Mike Yastrzemski",
          "Lucas Sims",
          "Lourdes Gurriel Jr.",
          "Rhys Hoskins",
          "Carlos Carrasco",
          "Justin Turner",
          "David Bednar",
          "Mark Canha",
          "Andrew McCutchen",
          "Brandon Crawford",
          "Steven Matz",
          "Patrick Sandoval",
          "Nick Martínez",
          "James Karinchak",
          "Mitch Garver",
          "Paul Sewald",
          "Nathaniel Lowe",
          "Camilo Doval",
          "Pete Fairbanks",
          "Ian Anderson",
          "Ryan McMahon",
          "Jesús Sánchez",
          "Drew Rasmussen",
          "Corey Kluber",
          "Matt Barnes",
          "Jonathan Loáisiga",
          "Gary Sánchez",
          "Yoán Moncada",
          "Joc Pederson",
          "J.P. Crawford",
          "Craig Kimbrel",
          "José Urquidy",
          "David Fletcher",
          "Chris Taylor",
          "Zack Greinke",
          "Anthony Rendon",
          "Aaron Bummer",
          "Bailey Ober",
          "Chris Paddack",
          "Alex Cobb",
          "Brandon Nimmo",
          "Sean Murphy",
          "Pierce Johnson",
          "Eugenio Suárez",
          "Josh Donaldson",
          "Corey Knebel",
          "Mike Minor",
          "Noah Syndergaard",
          "Jameson Taillon",
          "Tanner Houck",
          "Huascar Ynoa",
          "Trevor May",
          "Frank Schwindel",
          "Isiah Kiner-Falefa",
          "Dylan Floro",
          "Domingo Germán",
          "Héctor Neris",
          "Yuli Gurriel",
          "Jeff McNeil",
          "Tyler Naquin",
          "Alex Reyes",
          "Didi Gregorius",
          "Yusei Kikuchi",
          "Spencer Torkelson",
          "Manuel Margot",
          "Alejandro Kirk",
          "Sixto Sánchez",
          "Rafael Ortega",
          "Gregory Soto",
          "Seth Lugo",
          "Marco Gonzales",
          "Jake Odorizzi",
          "Germán Márquez",
          "Patrick Corbin",
          "Tylor Megill",
          "Kyle Finnegan",
          "Triston McKenzie",
          "Cristian Javier",
          "Christian Vázquez",
          "Danny Jansen",
          "Chris Flexen",
          "Yonny Chirinos",
          "Carson Kelly",
          "Matt Chapman",
          "César Hernández",
          "Matthew Boyd",
          "Gavin Lux",
          "Daniel Hudson",
          "Nicky Lopez",
          "Mark Melancon",
          "Anthony Bender",
          "Luis Patiño",
          "Andrés Giménez",
          "Jarren Duran",
          "Brusdar Graterol",
          "Miguel Rojas",
          "Lou Trivino",
          "Zach Eflin",
          "Lane Thomas",
          "Omar Narváez",
          "Elias Díaz",
          "Nestor Cortes",
          "Jorge Alfaro",
          "Trevor Williams",
          "Michael Pineda",
          "Casey Mize",
          "Tyler Wells",
          "Rowan Wick",
          "Sam Hilliard",
          "Tyler Matzek",
          "Mike Zunino",
          "Dane Dunning"
         ],
         "y": [
          11.851458135277317,
          10.21947046134662,
          8.949332414364052,
          8.703586595876287,
          8.60090943028591,
          8.34186951390577,
          8.227732333389207,
          8.132581989352033,
          7.8027378098866125,
          7.544713011059358,
          7.471544519486034,
          7.354801674782164,
          7.045823621804546,
          7.01675453083868,
          6.928312049532922,
          6.893318034250598,
          6.567587454949619,
          6.4940718321297,
          6.4776628870111,
          6.465506540895347,
          5.955224169691076,
          5.9249944302010285,
          5.919507607610751,
          5.883337851381537,
          5.782713066794103,
          5.5595745718798035,
          5.533365575089601,
          5.499059650778101,
          5.470802395541975,
          5.263467617174312,
          5.248602415156416,
          5.2260103137971665,
          5.2118668989613886,
          5.075417267752804,
          5.0654730056207296,
          5.062252949926746,
          4.924965372071107,
          4.867147108301756,
          4.830754039689053,
          4.7226115625653105,
          4.706902324584503,
          4.68522222265198,
          4.6749354333680975,
          4.66615283262318,
          4.658999180584253,
          4.6544079597616985,
          4.539166882482908,
          4.534268201941207,
          4.526222560974616,
          4.45607431583807,
          4.438497742648965,
          4.355224778670003,
          4.3200723051986465,
          4.245306536083517,
          4.219354494257233,
          4.197857755380827,
          4.192576941108835,
          4.180864148806129,
          4.136466779193001,
          4.123995920740399,
          4.081894043561117,
          3.9257908430827926,
          3.8838290138195894,
          3.8262531569871534,
          3.8030630448483245,
          3.7549378411489696,
          3.7227054151556924,
          3.7114566199347827,
          3.7023440150114615,
          3.6961111001633835,
          3.687638707495891,
          3.634250995174211,
          3.582695171478691,
          3.562255797925913,
          3.5258611669071485,
          3.4317698515083133,
          3.4122906362022336,
          3.3937138005598895,
          3.3844524251664962,
          3.379052710421786,
          3.354539425428407,
          3.314557901355244,
          3.2344398436709954,
          3.215510889089333,
          3.192908482315781,
          3.189536186867025,
          3.1784605300027327,
          3.173018023109877,
          3.0876599298075265,
          3.0437425703872205,
          3.0399274103629597,
          2.998607982386335,
          2.9845061450446835,
          2.9773566016106816,
          2.9340615533463383,
          2.9189068103930653,
          2.908007477368049,
          2.9040239643102073,
          2.8354155290123146,
          2.8277799100152814,
          2.8150571621354956,
          2.7931873092985144,
          2.7845866690387746,
          2.7844058067894792,
          2.7686790801786496,
          2.73840758040845,
          2.6606776205021276,
          2.6411466366333674,
          2.637654605510249,
          2.6336608833568342,
          2.6297707285886514,
          2.6274705333647885,
          2.583372772808095,
          2.5724402184908484,
          2.5318039202950158,
          2.4923094311018468,
          2.476168768445238,
          2.471023835501972,
          2.446664661677038,
          2.438577297607842,
          2.4367079260786255,
          2.409010827500107,
          2.343666546353244,
          2.3349619262184835,
          2.322077642698941,
          2.272611613588855,
          2.2532476812444373,
          2.2214370551950435,
          2.2077937436052366,
          2.198435993056115,
          2.1980164561679247,
          2.1975512428252317,
          2.188707304452652,
          2.1886666065800076,
          2.177357873454084,
          2.1619481338002564,
          2.121444909955347,
          2.104704183071072,
          2.0885974952571544,
          2.027512311019649,
          2.0205857980524256,
          2.0083948588054255,
          1.9491058621959607,
          1.9456397621809742,
          1.8993404771887201,
          1.8943228704504276,
          1.870402763200566,
          1.868237296932976,
          1.8278881828253621,
          1.8080807236406162,
          1.7815457484364747,
          1.7744317746881488,
          1.7665599773643605,
          1.7561880849653089,
          1.7510109955457773,
          1.7355642031411767,
          1.7203888404263408,
          1.7177604790517482,
          1.7120022417503178,
          1.6869206792930371,
          1.669323903260649,
          1.6407974284044933,
          1.6160716387287752,
          1.579858747284232,
          1.5729515719264353,
          1.5521836307013828,
          1.5256428688891877,
          1.5156414855841924,
          1.5094140947142725,
          1.4981392500803627,
          1.385592520803153,
          1.358563310026124,
          1.345358967281159,
          1.3187429356919687,
          1.3038903550321024,
          1.2769266139248319,
          1.268048191315002,
          1.2667054437233416,
          1.210525795944748,
          1.1788352311282564,
          1.1530381884602696,
          1.1349674173823319,
          1.1165707314678386,
          1.0895557926853874,
          1.0627642212636867,
          1.026193641580155,
          1.0249658310341068,
          1.0176015304306643,
          0.9904767386562129,
          0.9872820307339636,
          0.9865209537178319,
          0.9847701182431654,
          0.9768419005500271,
          0.9277796375310383,
          0.9239455536607745,
          0.9197827253824824,
          0.915410679103918,
          0.9142459001699978,
          0.8920222947302623,
          0.8823728218196019,
          0.8788137017631734,
          0.8665529973458028,
          0.8642895383943925,
          0.8538413591733136,
          0.8482146259890269,
          0.8444838640302015,
          0.844416511475062,
          0.8407493289230406,
          0.838042059914661,
          0.8199715261723912,
          0.8176170463928791,
          0.8156766794889931,
          0.795852992158367,
          0.7523805672650796,
          0.7396947632928623,
          0.7356944513066566,
          0.7322439694524885,
          0.7007499291587973,
          0.6355734639512225,
          0.6256517225518108,
          0.6244430115714321,
          0.6235727373692166,
          0.6185015391427706,
          0.6077655653106091,
          0.6074003216740345,
          0.5915075706570534,
          0.5699553852333406,
          0.5409972512347734,
          0.5377566932728084,
          0.5213569530959329,
          0.502749117278457,
          0.5005819261597961,
          0.4882930458485317,
          0.47013388248895094,
          0.4676747958530938,
          0.46479674502315405,
          0.45073256890395097,
          0.42601591477971557,
          0.42406894504008363,
          0.3864074102164081,
          0.3642186525806035,
          0.3501271535668655,
          0.3453829991487554,
          0.3422709332476621,
          0.33299248822640015,
          0.29944122043059895,
          0.288231598074123,
          0.27616145257206237,
          0.2741320473501843,
          0.254600745098293,
          0.24089660049594097,
          0.22596096432798118,
          0.2211568277746121,
          0.2070570475276341,
          0.2006243582814381,
          0.18632904021386154,
          0.18214999894181827,
          0.15766563774419629,
          0.15584657419385306,
          0.15233964862310923,
          0.1473842351837471,
          0.14290078184446364,
          0.1223396560317116,
          0.1194200258286707,
          0.11167729130827508,
          0.10124475441664993,
          0.08030799692908147,
          0.051029717030991906,
          0.0489654833478152,
          0.04370159029000398,
          0.039193964655443114,
          0.012404119315283069,
          0,
          0,
          0,
          0,
          0,
          0,
          -0.015743233952120406,
          -0.016934224233324358,
          -0.02415067640457752,
          -0.036875763087431845,
          -0.040605516253368945,
          -0.04807313811916214,
          -0.06411562015876604,
          -0.09677144591205011,
          -0.10126518603288681,
          -0.13569754843002635,
          -0.13602386922353982,
          -0.13681862002962863,
          -0.148538335711919,
          -0.15762787387152954,
          -0.1738506535682398,
          -0.17550242083420486,
          -0.17559480821807316,
          -0.19350822940711332,
          -0.23177405644711424,
          -0.2511545211528414,
          -0.2564080130911841,
          -0.25850154758579885,
          -0.2621097442859619,
          -0.263408438904911,
          -0.26504325291413416,
          -0.2650667242413791,
          -0.2668911168178303,
          -0.2729487119407814,
          -0.2788664992952075,
          -0.28549183575415826,
          -0.29038361442056576,
          -0.2905157893498571,
          -0.30321102876051054,
          -0.32187155802545586,
          -0.3392179755645026,
          -0.3430523507279484,
          -0.35108836172818236,
          -0.35163531745457877,
          -0.358776084519403,
          -0.360396502780034,
          -0.3645400632775276,
          -0.3896548649620201,
          -0.416953782063084,
          -0.425655902326286,
          -0.42978161585896757,
          -0.43469074010882136
         ]
        }
       ],
       "layout": {
        "template": {
         "data": {
          "bar": [
           {
            "error_x": {
             "color": "#2a3f5f"
            },
            "error_y": {
             "color": "#2a3f5f"
            },
            "marker": {
             "line": {
              "color": "#E5ECF6",
              "width": 0.5
             }
            },
            "type": "bar"
           }
          ],
          "barpolar": [
           {
            "marker": {
             "line": {
              "color": "#E5ECF6",
              "width": 0.5
             }
            },
            "type": "barpolar"
           }
          ],
          "carpet": [
           {
            "aaxis": {
             "endlinecolor": "#2a3f5f",
             "gridcolor": "white",
             "linecolor": "white",
             "minorgridcolor": "white",
             "startlinecolor": "#2a3f5f"
            },
            "baxis": {
             "endlinecolor": "#2a3f5f",
             "gridcolor": "white",
             "linecolor": "white",
             "minorgridcolor": "white",
             "startlinecolor": "#2a3f5f"
            },
            "type": "carpet"
           }
          ],
          "choropleth": [
           {
            "colorbar": {
             "outlinewidth": 0,
             "ticks": ""
            },
            "type": "choropleth"
           }
          ],
          "contour": [
           {
            "colorbar": {
             "outlinewidth": 0,
             "ticks": ""
            },
            "colorscale": [
             [
              0,
              "#0d0887"
             ],
             [
              0.1111111111111111,
              "#46039f"
             ],
             [
              0.2222222222222222,
              "#7201a8"
             ],
             [
              0.3333333333333333,
              "#9c179e"
             ],
             [
              0.4444444444444444,
              "#bd3786"
             ],
             [
              0.5555555555555556,
              "#d8576b"
             ],
             [
              0.6666666666666666,
              "#ed7953"
             ],
             [
              0.7777777777777778,
              "#fb9f3a"
             ],
             [
              0.8888888888888888,
              "#fdca26"
             ],
             [
              1,
              "#f0f921"
             ]
            ],
            "type": "contour"
           }
          ],
          "contourcarpet": [
           {
            "colorbar": {
             "outlinewidth": 0,
             "ticks": ""
            },
            "type": "contourcarpet"
           }
          ],
          "heatmap": [
           {
            "colorbar": {
             "outlinewidth": 0,
             "ticks": ""
            },
            "colorscale": [
             [
              0,
              "#0d0887"
             ],
             [
              0.1111111111111111,
              "#46039f"
             ],
             [
              0.2222222222222222,
              "#7201a8"
             ],
             [
              0.3333333333333333,
              "#9c179e"
             ],
             [
              0.4444444444444444,
              "#bd3786"
             ],
             [
              0.5555555555555556,
              "#d8576b"
             ],
             [
              0.6666666666666666,
              "#ed7953"
             ],
             [
              0.7777777777777778,
              "#fb9f3a"
             ],
             [
              0.8888888888888888,
              "#fdca26"
             ],
             [
              1,
              "#f0f921"
             ]
            ],
            "type": "heatmap"
           }
          ],
          "heatmapgl": [
           {
            "colorbar": {
             "outlinewidth": 0,
             "ticks": ""
            },
            "colorscale": [
             [
              0,
              "#0d0887"
             ],
             [
              0.1111111111111111,
              "#46039f"
             ],
             [
              0.2222222222222222,
              "#7201a8"
             ],
             [
              0.3333333333333333,
              "#9c179e"
             ],
             [
              0.4444444444444444,
              "#bd3786"
             ],
             [
              0.5555555555555556,
              "#d8576b"
             ],
             [
              0.6666666666666666,
              "#ed7953"
             ],
             [
              0.7777777777777778,
              "#fb9f3a"
             ],
             [
              0.8888888888888888,
              "#fdca26"
             ],
             [
              1,
              "#f0f921"
             ]
            ],
            "type": "heatmapgl"
           }
          ],
          "histogram": [
           {
            "marker": {
             "colorbar": {
              "outlinewidth": 0,
              "ticks": ""
             }
            },
            "type": "histogram"
           }
          ],
          "histogram2d": [
           {
            "colorbar": {
             "outlinewidth": 0,
             "ticks": ""
            },
            "colorscale": [
             [
              0,
              "#0d0887"
             ],
             [
              0.1111111111111111,
              "#46039f"
             ],
             [
              0.2222222222222222,
              "#7201a8"
             ],
             [
              0.3333333333333333,
              "#9c179e"
             ],
             [
              0.4444444444444444,
              "#bd3786"
             ],
             [
              0.5555555555555556,
              "#d8576b"
             ],
             [
              0.6666666666666666,
              "#ed7953"
             ],
             [
              0.7777777777777778,
              "#fb9f3a"
             ],
             [
              0.8888888888888888,
              "#fdca26"
             ],
             [
              1,
              "#f0f921"
             ]
            ],
            "type": "histogram2d"
           }
          ],
          "histogram2dcontour": [
           {
            "colorbar": {
             "outlinewidth": 0,
             "ticks": ""
            },
            "colorscale": [
             [
              0,
              "#0d0887"
             ],
             [
              0.1111111111111111,
              "#46039f"
             ],
             [
              0.2222222222222222,
              "#7201a8"
             ],
             [
              0.3333333333333333,
              "#9c179e"
             ],
             [
              0.4444444444444444,
              "#bd3786"
             ],
             [
              0.5555555555555556,
              "#d8576b"
             ],
             [
              0.6666666666666666,
              "#ed7953"
             ],
             [
              0.7777777777777778,
              "#fb9f3a"
             ],
             [
              0.8888888888888888,
              "#fdca26"
             ],
             [
              1,
              "#f0f921"
             ]
            ],
            "type": "histogram2dcontour"
           }
          ],
          "mesh3d": [
           {
            "colorbar": {
             "outlinewidth": 0,
             "ticks": ""
            },
            "type": "mesh3d"
           }
          ],
          "parcoords": [
           {
            "line": {
             "colorbar": {
              "outlinewidth": 0,
              "ticks": ""
             }
            },
            "type": "parcoords"
           }
          ],
          "pie": [
           {
            "automargin": true,
            "type": "pie"
           }
          ],
          "scatter": [
           {
            "marker": {
             "colorbar": {
              "outlinewidth": 0,
              "ticks": ""
             }
            },
            "type": "scatter"
           }
          ],
          "scatter3d": [
           {
            "line": {
             "colorbar": {
              "outlinewidth": 0,
              "ticks": ""
             }
            },
            "marker": {
             "colorbar": {
              "outlinewidth": 0,
              "ticks": ""
             }
            },
            "type": "scatter3d"
           }
          ],
          "scattercarpet": [
           {
            "marker": {
             "colorbar": {
              "outlinewidth": 0,
              "ticks": ""
             }
            },
            "type": "scattercarpet"
           }
          ],
          "scattergeo": [
           {
            "marker": {
             "colorbar": {
              "outlinewidth": 0,
              "ticks": ""
             }
            },
            "type": "scattergeo"
           }
          ],
          "scattergl": [
           {
            "marker": {
             "colorbar": {
              "outlinewidth": 0,
              "ticks": ""
             }
            },
            "type": "scattergl"
           }
          ],
          "scattermapbox": [
           {
            "marker": {
             "colorbar": {
              "outlinewidth": 0,
              "ticks": ""
             }
            },
            "type": "scattermapbox"
           }
          ],
          "scatterpolar": [
           {
            "marker": {
             "colorbar": {
              "outlinewidth": 0,
              "ticks": ""
             }
            },
            "type": "scatterpolar"
           }
          ],
          "scatterpolargl": [
           {
            "marker": {
             "colorbar": {
              "outlinewidth": 0,
              "ticks": ""
             }
            },
            "type": "scatterpolargl"
           }
          ],
          "scatterternary": [
           {
            "marker": {
             "colorbar": {
              "outlinewidth": 0,
              "ticks": ""
             }
            },
            "type": "scatterternary"
           }
          ],
          "surface": [
           {
            "colorbar": {
             "outlinewidth": 0,
             "ticks": ""
            },
            "colorscale": [
             [
              0,
              "#0d0887"
             ],
             [
              0.1111111111111111,
              "#46039f"
             ],
             [
              0.2222222222222222,
              "#7201a8"
             ],
             [
              0.3333333333333333,
              "#9c179e"
             ],
             [
              0.4444444444444444,
              "#bd3786"
             ],
             [
              0.5555555555555556,
              "#d8576b"
             ],
             [
              0.6666666666666666,
              "#ed7953"
             ],
             [
              0.7777777777777778,
              "#fb9f3a"
             ],
             [
              0.8888888888888888,
              "#fdca26"
             ],
             [
              1,
              "#f0f921"
             ]
            ],
            "type": "surface"
           }
          ],
          "table": [
           {
            "cells": {
             "fill": {
              "color": "#EBF0F8"
             },
             "line": {
              "color": "white"
             }
            },
            "header": {
             "fill": {
              "color": "#C8D4E3"
             },
             "line": {
              "color": "white"
             }
            },
            "type": "table"
           }
          ]
         },
         "layout": {
          "annotationdefaults": {
           "arrowcolor": "#2a3f5f",
           "arrowhead": 0,
           "arrowwidth": 1
          },
          "autotypenumbers": "strict",
          "coloraxis": {
           "colorbar": {
            "outlinewidth": 0,
            "ticks": ""
           }
          },
          "colorscale": {
           "diverging": [
            [
             0,
             "#8e0152"
            ],
            [
             0.1,
             "#c51b7d"
            ],
            [
             0.2,
             "#de77ae"
            ],
            [
             0.3,
             "#f1b6da"
            ],
            [
             0.4,
             "#fde0ef"
            ],
            [
             0.5,
             "#f7f7f7"
            ],
            [
             0.6,
             "#e6f5d0"
            ],
            [
             0.7,
             "#b8e186"
            ],
            [
             0.8,
             "#7fbc41"
            ],
            [
             0.9,
             "#4d9221"
            ],
            [
             1,
             "#276419"
            ]
           ],
           "sequential": [
            [
             0,
             "#0d0887"
            ],
            [
             0.1111111111111111,
             "#46039f"
            ],
            [
             0.2222222222222222,
             "#7201a8"
            ],
            [
             0.3333333333333333,
             "#9c179e"
            ],
            [
             0.4444444444444444,
             "#bd3786"
            ],
            [
             0.5555555555555556,
             "#d8576b"
            ],
            [
             0.6666666666666666,
             "#ed7953"
            ],
            [
             0.7777777777777778,
             "#fb9f3a"
            ],
            [
             0.8888888888888888,
             "#fdca26"
            ],
            [
             1,
             "#f0f921"
            ]
           ],
           "sequentialminus": [
            [
             0,
             "#0d0887"
            ],
            [
             0.1111111111111111,
             "#46039f"
            ],
            [
             0.2222222222222222,
             "#7201a8"
            ],
            [
             0.3333333333333333,
             "#9c179e"
            ],
            [
             0.4444444444444444,
             "#bd3786"
            ],
            [
             0.5555555555555556,
             "#d8576b"
            ],
            [
             0.6666666666666666,
             "#ed7953"
            ],
            [
             0.7777777777777778,
             "#fb9f3a"
            ],
            [
             0.8888888888888888,
             "#fdca26"
            ],
            [
             1,
             "#f0f921"
            ]
           ]
          },
          "colorway": [
           "#636efa",
           "#EF553B",
           "#00cc96",
           "#ab63fa",
           "#FFA15A",
           "#19d3f3",
           "#FF6692",
           "#B6E880",
           "#FF97FF",
           "#FECB52"
          ],
          "font": {
           "color": "#2a3f5f"
          },
          "geo": {
           "bgcolor": "white",
           "lakecolor": "white",
           "landcolor": "#E5ECF6",
           "showlakes": true,
           "showland": true,
           "subunitcolor": "white"
          },
          "hoverlabel": {
           "align": "left"
          },
          "hovermode": "closest",
          "mapbox": {
           "style": "light"
          },
          "paper_bgcolor": "white",
          "plot_bgcolor": "#E5ECF6",
          "polar": {
           "angularaxis": {
            "gridcolor": "white",
            "linecolor": "white",
            "ticks": ""
           },
           "bgcolor": "#E5ECF6",
           "radialaxis": {
            "gridcolor": "white",
            "linecolor": "white",
            "ticks": ""
           }
          },
          "scene": {
           "xaxis": {
            "backgroundcolor": "#E5ECF6",
            "gridcolor": "white",
            "gridwidth": 2,
            "linecolor": "white",
            "showbackground": true,
            "ticks": "",
            "zerolinecolor": "white"
           },
           "yaxis": {
            "backgroundcolor": "#E5ECF6",
            "gridcolor": "white",
            "gridwidth": 2,
            "linecolor": "white",
            "showbackground": true,
            "ticks": "",
            "zerolinecolor": "white"
           },
           "zaxis": {
            "backgroundcolor": "#E5ECF6",
            "gridcolor": "white",
            "gridwidth": 2,
            "linecolor": "white",
            "showbackground": true,
            "ticks": "",
            "zerolinecolor": "white"
           }
          },
          "shapedefaults": {
           "line": {
            "color": "#2a3f5f"
           }
          },
          "ternary": {
           "aaxis": {
            "gridcolor": "white",
            "linecolor": "white",
            "ticks": ""
           },
           "baxis": {
            "gridcolor": "white",
            "linecolor": "white",
            "ticks": ""
           },
           "bgcolor": "#E5ECF6",
           "caxis": {
            "gridcolor": "white",
            "linecolor": "white",
            "ticks": ""
           }
          },
          "title": {
           "x": 0.05
          },
          "xaxis": {
           "automargin": true,
           "gridcolor": "white",
           "linecolor": "white",
           "ticks": "",
           "title": {
            "standoff": 15
           },
           "zerolinecolor": "white",
           "zerolinewidth": 2
          },
          "yaxis": {
           "automargin": true,
           "gridcolor": "white",
           "linecolor": "white",
           "ticks": "",
           "title": {
            "standoff": 15
           },
           "zerolinecolor": "white",
           "zerolinewidth": 2
          }
         }
        }
       }
      },
      "text/html": [
       "<div>                            <div id=\"c3ef2860-7a09-46a2-bea3-da09fd99a1f0\" class=\"plotly-graph-div\" style=\"height:525px; width:100%;\"></div>            <script type=\"text/javascript\">                require([\"plotly\"], function(Plotly) {                    window.PLOTLYENV=window.PLOTLYENV || {};                                    if (document.getElementById(\"c3ef2860-7a09-46a2-bea3-da09fd99a1f0\")) {                    Plotly.newPlot(                        \"c3ef2860-7a09-46a2-bea3-da09fd99a1f0\",                        [{\"marker\": {\"color\": [\"gray\", \"blue\", \"blue\", \"gray\", \"blue\", \"gray\", \"gray\", \"gray\", \"blue\", \"gray\", \"gray\", \"blue\", \"gray\", \"blue\", \"blue\", \"blue\", \"blue\", \"blue\", \"blue\", \"gray\", \"blue\", \"blue\", \"gray\", \"blue\", \"blue\", \"blue\", \"gray\", \"blue\", \"blue\", \"blue\", \"blue\", \"blue\", \"blue\", \"blue\", \"blue\", \"gray\", \"blue\", \"gray\", \"gray\", \"blue\", \"blue\", \"blue\", \"blue\", \"blue\", \"blue\", \"blue\", \"blue\", \"blue\", \"blue\", \"blue\", \"blue\", \"blue\", \"blue\", \"blue\", \"gray\", \"blue\", \"blue\", \"blue\", \"gray\", \"blue\", \"blue\", \"blue\", \"blue\", \"gray\", \"blue\", \"blue\", \"blue\", \"blue\", \"blue\", \"gray\", \"blue\", \"blue\", \"gray\", \"blue\", \"blue\", \"blue\", \"blue\", \"blue\", \"blue\", \"blue\", \"gray\", \"blue\", \"blue\", \"gray\", \"blue\", \"blue\", \"gray\", \"blue\", \"gray\", \"blue\", \"blue\", \"blue\", \"blue\", \"blue\", \"blue\", \"blue\", \"blue\", \"blue\", \"blue\", \"blue\", \"blue\", \"blue\", \"blue\", \"blue\", \"gray\", \"blue\", \"gray\", \"blue\", \"blue\", \"blue\", \"blue\", \"blue\", \"gray\", \"blue\", \"blue\", \"gray\", \"blue\", \"gray\", \"blue\", \"gray\", \"blue\", \"blue\", \"blue\", \"blue\", \"blue\", \"blue\", \"blue\", \"blue\", \"blue\", \"blue\", \"blue\", \"blue\", \"blue\", \"gray\", \"blue\", \"blue\", \"blue\", \"blue\", \"blue\", \"blue\", \"gray\", \"blue\", \"blue\", \"gray\", \"blue\", \"blue\", \"blue\", \"blue\", \"blue\", \"blue\", \"blue\", \"blue\", \"blue\", \"blue\", \"blue\", \"blue\", \"blue\", \"blue\", \"blue\", \"blue\", \"blue\", \"blue\", \"blue\", \"blue\", \"blue\", \"gray\", \"blue\", \"blue\", \"blue\", \"blue\", \"blue\", \"blue\", \"blue\", \"blue\", \"blue\", \"blue\", \"gray\", \"blue\", \"blue\", \"blue\", \"blue\", \"blue\", \"blue\", \"blue\", \"blue\", \"blue\", \"gray\", \"blue\", \"blue\", \"blue\", \"blue\", \"blue\", \"gray\", \"blue\", \"blue\", \"blue\", \"blue\", \"blue\", \"blue\", \"blue\", \"gray\", \"blue\", \"blue\", \"gray\", \"blue\", \"blue\", \"blue\", \"blue\", \"gray\", \"blue\", \"blue\", \"blue\", \"blue\", \"blue\", \"blue\", \"blue\", \"blue\", \"blue\", \"blue\", \"blue\", \"blue\", \"gray\", \"blue\", \"blue\", \"blue\", \"blue\", \"blue\", \"blue\", \"blue\", \"blue\", \"blue\", \"blue\", \"blue\", \"blue\", \"blue\", \"blue\", \"blue\", \"blue\", \"blue\", \"blue\", \"blue\", \"blue\", \"blue\", \"blue\", \"blue\", \"gray\", \"blue\", \"blue\", \"blue\", \"blue\", \"blue\", \"blue\", \"blue\", \"blue\", \"blue\", \"blue\", \"blue\", \"blue\", \"blue\", \"gray\", \"blue\", \"blue\", \"blue\", \"blue\", \"blue\", \"blue\", \"blue\", \"blue\", \"blue\", \"blue\", \"blue\", \"blue\", \"blue\", \"blue\", \"blue\", \"blue\", \"blue\", \"blue\", \"blue\", \"blue\", \"blue\", \"blue\", \"blue\", \"blue\", \"blue\", \"blue\", \"blue\", \"blue\", \"blue\", \"blue\", \"blue\", \"blue\", \"blue\", \"blue\", \"blue\", \"blue\", \"gray\", \"blue\", \"blue\", \"blue\", \"blue\", \"blue\", \"blue\", \"blue\", \"blue\", \"blue\", \"blue\", \"blue\", \"blue\", \"blue\", \"blue\", \"blue\", \"blue\", \"blue\", \"blue\", \"blue\", \"blue\", \"blue\", \"blue\", \"blue\", \"blue\", \"blue\", \"gray\", \"blue\", \"blue\", \"blue\", \"blue\", \"blue\", \"blue\", \"blue\", \"blue\", \"blue\", \"blue\", \"blue\", \"blue\", \"blue\", \"blue\", \"blue\", \"blue\", \"blue\", \"blue\", \"blue\", \"blue\", \"blue\", \"blue\", \"blue\", \"blue\", \"blue\", \"blue\", \"blue\", \"blue\", \"blue\", \"blue\", \"blue\", \"blue\", \"blue\", \"blue\", \"blue\", \"blue\", \"blue\", \"blue\", \"blue\", \"blue\", \"blue\", \"blue\", \"blue\", \"blue\", \"blue\", \"blue\", \"blue\", \"blue\", \"blue\", \"blue\", \"blue\", \"blue\", \"blue\", \"blue\", \"blue\", \"blue\", \"blue\", \"blue\", \"blue\", \"blue\", \"blue\", \"blue\", \"blue\", \"blue\", \"blue\", \"blue\", \"blue\", \"blue\", \"blue\", \"blue\", \"blue\", \"blue\", \"blue\", \"blue\", \"blue\", \"blue\", \"blue\", \"blue\", \"blue\", \"blue\", \"blue\", \"blue\", \"blue\", \"blue\", \"blue\", \"blue\", \"blue\", \"blue\", \"blue\", \"blue\", \"blue\", \"blue\", \"blue\", \"blue\", \"blue\", \"blue\", \"blue\", \"blue\", \"blue\", \"blue\", \"blue\", \"blue\", \"blue\", \"blue\", \"blue\", \"blue\", \"blue\", \"blue\", \"blue\", \"blue\", \"blue\", \"blue\", \"blue\", \"blue\", \"blue\", \"blue\", \"blue\", \"blue\", \"blue\", \"blue\", \"blue\", \"blue\", \"blue\", \"blue\", \"blue\", \"blue\", \"blue\", \"blue\", \"blue\", \"blue\", \"blue\", \"blue\", \"blue\", \"blue\", \"blue\", \"blue\", \"blue\", \"blue\", \"blue\", \"blue\", \"blue\", \"blue\", \"blue\", \"blue\", \"blue\", \"blue\", \"blue\", \"blue\", \"blue\", \"blue\", \"blue\", \"blue\", \"blue\", \"blue\", \"blue\", \"blue\", \"blue\", \"blue\", \"blue\", \"blue\", \"blue\", \"blue\", \"blue\", \"blue\", \"blue\", \"blue\", \"blue\", \"blue\", \"blue\", \"blue\", \"blue\", \"blue\", \"blue\", \"blue\", \"blue\", \"blue\", \"blue\", \"blue\", \"blue\", \"blue\", \"blue\", \"blue\", \"blue\", \"blue\", \"blue\", \"blue\", \"blue\", \"blue\", \"blue\", \"blue\", \"blue\", \"blue\", \"blue\", \"blue\", \"blue\", \"blue\", \"blue\", \"blue\", \"blue\", \"blue\", \"blue\", \"blue\", \"blue\", \"blue\", \"blue\", \"blue\", \"blue\", \"blue\", \"blue\", \"blue\", \"blue\", \"blue\", \"blue\", \"blue\", \"blue\", \"blue\", \"blue\", \"blue\", \"blue\", \"blue\", \"blue\", \"blue\", \"blue\", \"blue\", \"blue\", \"blue\", \"blue\", \"blue\", \"blue\", \"blue\", \"blue\", \"blue\", \"blue\", \"blue\", \"blue\", \"blue\", \"blue\", \"blue\", \"blue\", \"blue\", \"blue\", \"blue\", \"blue\", \"blue\", \"blue\", \"blue\", \"blue\", \"blue\", \"blue\", \"blue\", \"blue\", \"blue\", \"blue\", \"blue\", \"blue\", \"blue\", \"blue\", \"blue\", \"blue\", \"blue\", \"blue\", \"blue\", \"blue\", \"blue\", \"blue\", \"blue\", \"blue\", \"blue\", \"blue\", \"blue\", \"blue\", \"blue\", \"blue\", \"blue\", \"blue\", \"blue\", \"blue\", \"blue\", \"blue\", \"blue\", \"blue\", \"blue\", \"blue\", \"blue\", \"blue\", \"blue\", \"blue\", \"blue\", \"blue\", \"blue\", \"blue\", \"blue\", \"blue\", \"blue\", \"blue\", \"blue\", \"blue\", \"blue\", \"blue\", \"blue\", \"blue\", \"blue\", \"blue\", \"blue\", \"blue\", \"blue\", \"blue\", \"blue\", \"blue\", \"blue\", \"blue\", \"blue\", \"blue\", \"blue\", \"blue\", \"blue\", \"blue\", \"blue\", \"blue\", \"blue\", \"blue\", \"blue\", \"blue\", \"blue\", \"blue\", \"blue\", \"blue\", \"blue\", \"blue\", \"blue\", \"blue\", \"blue\", \"blue\", \"blue\", \"blue\", \"blue\", \"blue\", \"blue\", \"blue\", \"blue\", \"blue\", \"blue\", \"blue\", \"blue\", \"blue\", \"blue\", \"blue\", \"blue\", \"blue\", \"blue\", \"blue\", \"blue\", \"blue\", \"blue\", \"blue\", \"blue\", \"blue\", \"blue\", \"blue\", \"blue\", \"blue\", \"blue\", \"blue\", \"blue\", \"blue\", \"blue\", \"blue\", \"blue\", \"blue\", \"blue\", \"blue\", \"blue\", \"blue\", \"blue\", \"blue\", \"blue\", \"blue\", \"blue\", \"blue\", \"blue\", \"blue\", \"blue\", \"blue\", \"blue\", \"blue\", \"blue\", \"blue\", \"blue\", \"blue\", \"blue\", \"blue\", \"blue\", \"blue\", \"blue\", \"blue\", \"blue\", \"blue\", \"blue\", \"blue\", \"blue\", \"blue\", \"blue\", \"blue\", \"blue\", \"blue\", \"blue\", \"blue\", \"blue\", \"blue\", \"blue\", \"blue\", \"blue\", \"blue\", \"blue\", \"blue\", \"blue\", \"blue\", \"blue\", \"blue\", \"blue\", \"blue\", \"blue\", \"blue\", \"blue\", \"blue\", \"blue\", \"blue\", \"blue\", \"blue\", \"blue\", \"blue\", \"blue\", \"blue\", \"blue\", \"blue\", \"blue\", \"blue\", \"blue\", \"blue\", \"blue\", \"blue\", \"blue\", \"blue\", \"blue\", \"blue\", \"blue\", \"blue\", \"blue\", \"blue\", \"blue\", \"blue\", \"blue\", \"blue\", \"blue\", \"blue\", \"blue\", \"blue\", \"blue\", \"blue\", \"blue\", \"blue\", \"blue\", \"blue\", \"blue\", \"blue\", \"blue\", \"blue\", \"blue\", \"blue\", \"blue\", \"blue\", \"blue\", \"blue\", \"blue\", \"blue\", \"blue\", \"blue\", \"blue\", \"blue\", \"blue\", \"blue\", \"blue\", \"blue\", \"blue\", \"blue\", \"blue\", \"blue\", \"blue\", \"blue\", \"blue\", \"blue\", \"blue\", \"blue\", \"blue\", \"blue\", \"blue\", \"blue\", \"blue\", \"blue\", \"blue\", \"blue\", \"blue\", \"blue\", \"blue\", \"blue\", \"blue\", \"blue\", \"blue\", \"blue\", \"blue\", \"blue\", \"blue\", \"blue\", \"blue\", \"blue\", \"blue\", \"blue\", \"blue\", \"blue\", \"blue\", \"blue\", \"blue\", \"blue\", \"blue\", \"blue\", \"blue\", \"blue\", \"blue\", \"blue\", \"blue\", \"blue\", \"blue\", \"blue\", \"blue\", \"blue\", \"blue\", \"blue\", \"blue\", \"blue\", \"blue\", \"blue\", \"blue\", \"blue\", \"blue\", \"blue\", \"blue\", \"blue\", \"blue\", \"blue\", \"blue\", \"blue\", \"blue\", \"blue\", \"blue\", \"blue\", \"blue\", \"blue\", \"blue\", \"blue\", \"blue\", \"blue\", \"blue\", \"blue\", \"blue\", \"blue\", \"blue\", \"blue\", \"blue\", \"blue\", \"blue\", \"blue\", \"blue\", \"blue\", \"blue\", \"blue\", \"blue\", \"blue\", \"blue\", \"blue\", \"blue\", \"blue\", \"blue\", \"blue\", \"blue\", \"blue\", \"blue\", \"blue\", \"blue\", \"blue\", \"blue\", \"blue\", \"blue\", \"blue\", \"blue\", \"blue\", \"blue\", \"blue\", \"blue\", \"blue\", \"blue\", \"blue\", \"blue\", \"blue\", \"blue\", \"blue\", \"blue\", \"blue\", \"blue\", \"blue\", \"blue\", \"blue\", \"blue\", \"blue\", \"blue\", \"blue\", \"blue\", \"blue\", \"blue\", \"blue\", \"blue\", \"blue\", \"blue\", \"blue\", \"blue\", \"blue\", \"blue\", \"blue\", \"blue\", \"blue\", \"blue\", \"blue\", \"blue\", \"blue\", \"blue\", \"blue\", \"blue\", \"blue\", \"blue\", \"blue\", \"blue\", \"blue\", \"blue\", \"blue\", \"blue\", \"blue\", \"blue\", \"blue\", \"blue\", \"blue\", \"blue\", \"blue\", \"blue\", \"gray\", \"blue\", \"blue\", \"blue\", \"blue\", \"blue\", \"blue\", \"blue\", \"blue\", \"blue\", \"blue\", \"blue\", \"blue\", \"blue\", \"blue\", \"blue\", \"blue\", \"blue\", \"blue\", \"blue\", \"blue\", \"blue\", \"blue\", \"blue\", \"blue\", \"blue\", \"blue\", \"blue\", \"blue\", \"blue\", \"blue\", \"blue\", \"blue\", \"blue\", \"blue\", \"blue\", \"blue\", \"blue\", \"blue\", \"blue\", \"blue\", \"blue\", \"blue\", \"blue\", \"blue\", \"blue\", \"blue\", \"blue\", \"blue\", \"blue\", \"blue\", \"blue\", \"blue\", \"blue\", \"blue\", \"blue\", \"blue\", \"blue\", \"blue\", \"blue\", \"blue\", \"blue\", \"blue\", \"blue\", \"blue\", \"blue\", \"blue\", \"blue\", \"blue\", \"blue\", \"blue\", \"blue\", \"blue\", \"blue\", \"blue\", \"blue\", \"blue\", \"blue\", \"blue\", \"blue\", \"blue\", \"blue\", \"blue\", \"blue\", \"blue\", \"blue\", \"blue\", \"blue\", \"blue\", \"blue\", \"blue\", \"blue\", \"blue\", \"blue\", \"blue\", \"blue\", \"blue\", \"blue\", \"blue\", \"blue\", \"blue\", \"blue\", \"blue\", \"blue\", \"blue\", \"blue\", \"blue\", \"blue\", \"blue\", \"blue\", \"blue\", \"blue\", \"blue\", \"blue\", \"blue\", \"blue\", \"blue\", \"blue\", \"blue\", \"blue\", \"blue\", \"blue\", \"blue\", \"blue\", \"blue\", \"blue\", \"blue\", \"blue\", \"blue\", \"blue\", \"blue\", \"blue\", \"blue\", \"blue\", \"blue\", \"blue\", \"blue\", \"blue\", \"blue\", \"blue\", \"blue\", \"blue\", \"blue\", \"blue\", \"blue\", \"blue\", \"blue\", \"blue\", \"blue\", \"blue\", \"blue\", \"blue\", \"blue\", \"blue\", \"blue\", \"blue\", \"blue\", \"blue\", \"blue\", \"blue\", \"blue\", \"blue\", \"blue\", \"blue\", \"blue\", \"blue\", \"blue\", \"blue\", \"blue\", \"blue\", \"blue\", \"blue\", \"blue\", \"blue\", \"blue\", \"blue\", \"blue\", \"blue\", \"blue\", \"blue\", \"blue\", \"blue\", \"blue\", \"blue\", \"blue\", \"blue\", \"blue\", \"blue\", \"blue\", \"blue\", \"blue\", \"blue\", \"blue\", \"blue\", \"blue\", \"blue\", \"blue\", \"blue\", \"blue\", \"blue\", \"blue\", \"blue\", \"blue\", \"blue\", \"blue\", \"blue\", \"blue\", \"blue\", \"blue\", \"blue\", \"blue\", \"blue\", \"blue\", \"blue\", \"blue\", \"blue\", \"blue\", \"blue\", \"blue\", \"blue\", \"blue\", \"blue\", \"blue\", \"blue\", \"blue\", \"blue\", \"blue\", \"blue\", \"blue\", \"blue\", \"blue\", \"blue\", \"blue\", \"blue\", \"blue\", \"blue\", \"blue\", \"blue\", \"blue\", \"blue\", \"blue\", \"blue\", \"blue\", \"blue\", \"blue\", \"blue\"]}, \"mode\": \"markers\", \"type\": \"scatter\", \"x\": [\"Fernando Tatis Jr.\", \"Juan Soto\", \"Trea Turner\", \"Gerrit Cole\", \"Ronald Acu\\u00f1a Jr.\", \"Bo Bichette\", \"Vladimir Guerrero Jr.\", \"Shohei Ohtani\", \"Jacob deGrom\", \"Bryce Harper\", \"Kyle Tucker\", \"Yordan Alvarez\", \"Max Scherzer\", \"Mookie Betts\", \"Aaron Judge\", \"Jos\\u00e9 Ram\\u00edrez\", \"Ozzie Albies\", \"Mike Trout\", \"Corbin Burnes\", \"Salvador Perez\", \"Rafael Devers\", \"Teoscar Hern\\u00e1ndez\", \"Tyler O'Neill\", \"Shane Bieber\", \"Luis Robert\", \"Tim Anderson\", \"Zack Wheeler\", \"Nick Castellanos\", \"Trevor Story\", \"J.T. Realmuto\", \"Marcus Semien\", \"Brandon Woodruff\", \"Robbie Ray\", \"Justin Verlander\", \"Starling Marte\", \"Freddie Freeman\", \"George Springer\", \"Cedric Mullins\", \"Xander Bogaerts\", \"Jorge Polanco\", \"Aaron Nola\", \"Whit Merrifield\", \"Franmil Reyes\", \"Jose Altuve\", \"Walker Buehler\", \"Will Smith\", \"Manny Machado\", \"Lucas Giolito\", \"Francisco Lindor\", \"Pete Alonso\", \"Christian Yelich\", \"Corey Seager\", \"J.D. Martinez\", \"Giancarlo Stanton\", \"Bryan Reynolds\", \"Randy Arozarena\", \"Matt Olson\", \"Brandon Lowe\", \"Julio Ur\\u00edas\", \"Byron Buxton\", \"Kevin Gausman\", \"Carlos Correa\", \"Sandy Alcantara\", \"Max Fried\", \"Joey Gallo\", \"Eloy Jim\\u00e9nez\", \"Jonathan India\", \"Jos\\u00e9 Berr\\u00edos\", \"Chris Sale\", \"Charlie Morton\", \"Joe Musgrove\", \"Javier B\\u00e1ez\", \"Frankie Montas\", \"Austin Meadows\", \"Logan Webb\", \"Sean Manaea\", \"Liam Hendriks\", \"Paul Goldschmidt\", \"Ketel Marte\", \"Mitch Haniger\", \"Freddy Peralta\", \"Clayton Kershaw\", \"Cody Bellinger\", \"Jesse Winker\", \"Yasmani Grandal\", \"Willson Contreras\", \"Bobby Witt Jr.\", \"Tommy Edman\", \"Austin Riley\", \"Josh Hader\", \"Eduardo Rodriguez\", \"Trevor Rogers\", \"Adam Duvall\", \"Eddie Rosario\", \"Jorge Soler\", \"Nathan Eovaldi\", \"Jack Flaherty\", \"Nelson Cruz\", \"Raisel Iglesias\", \"Gleyber Torres\", \"Carlos Rod\\u00f3n\", \"Luis Castillo\", \"Jos\\u00e9 Abreu\", \"Yu Darvish\", \"Emmanuel Clase\", \"Lance Lynn\", \"Jared Walsh\", \"Ian Happ\", \"Edwin D\\u00edaz\", \"Dylan Cease\", \"Marcell Ozuna\", \"Dansby Swanson\", \"Wander Franco\", \"Josh Bell\", \"Hunter Renfroe\", \"Akil Baddoo\", \"Nolan Arenado\", \"Adolis Garc\\u00eda\", \"Shohei Ohtani\", \"Alek Manoah\", \"Chris Bassitt\", \"Shane McClanahan\", \"Trent Grisham\", \"Pablo L\\u00f3pez\", \"Alex Verdugo\", \"Hyun Jin Ryu\", \"Trevor Bauer\", \"Keibert Ruiz\", \"Charlie Blackmon\", \"Alex Bregman\", \"Aroldis Chapman\", \"Adalberto Mondesi\", \"Ryan Pressly\", \"Willy Adames\", \"Blake Snell\", \"Avisa\\u00edl Garc\\u00eda\", \"Jake Cronenworth\", \"Mike Clevinger\", \"Giovanny Gallegos\", \"Austin Hays\", \"Michael Kopech\", \"Amed Rosario\", \"Ryan Mountcastle\", \"Daulton Varsho\", \"Dylan Carlson\", \"Max Muncy\", \"Taylor Rogers\", \"Lance McCullers Jr.\", \"Michael Conforto\", \"Andrew Benintendi\", \"Jazz Chisholm Jr.\", \"Jonathan Schoop\", \"AJ Pollock\", \"Alex Wood\", \"Blake Treinen\", \"Framber Valdez\", \"Jean Segura\", \"Enrique Hern\\u00e1ndez\", \"Luis Garcia\", \"Raimel Tapia\", \"Shane Baz\", \"Ram\\u00f3n Laureano\", \"Luis Severino\", \"John Means\", \"Kyle Schwarber\", \"Jordan Romano\", \"Adley Rutschman\", \"Aaron Ashby\", \"Max Kepler\", \"Andrew Kittredge\", \"Jordan Montgomery\", \"Chad Green\", \"Tarik Skubal\", \"Robbie Grossman\", \"Anthony Santander\", \"Jarred Kelenic\", \"C.J. Cron\", \"Myles Straw\", \"Tommy Pham\", \"Joey Votto\", \"Will Smith\", \"Kolten Wong\", \"Zac Gallen\", \"Oneil Cruz\", \"Marcus Stroman\", \"Sonny Gray\", \"Brendan Rodgers\", \"Andrew Heaney\", \"Tyler Mahle\", \"Devin Williams\", \"Michael Brantley\", \"Logan Gilbert\", \"Scott Barlow\", \"Stephen Strasburg\", \"Jon Gray\", \"Trey Mancini\", \"Harrison Bader\", \"Garrett Whitlock\", \"Travis d'Arnaud\", \"Wil Myers\", \"Ty France\", \"Joe Ryan\", \"DJ LeMahieu\", \"Kris Bryant\", \"Anthony Rizzo\", \"Tyler Stephenson\", \"Ranger Su\\u00e1rez\", \"Randal Grichuk\", \"Adam Wainwright\", \"Anthony DeSclafani\", \"Jo Adell\", \"Miguel San\\u00f3\", \"Mike Yastrzemski\", \"Lucas Sims\", \"Lourdes Gurriel Jr.\", \"Rhys Hoskins\", \"Carlos Carrasco\", \"Justin Turner\", \"David Bednar\", \"Mark Canha\", \"Andrew McCutchen\", \"Brandon Crawford\", \"Steven Matz\", \"Patrick Sandoval\", \"Nick Mart\\u00ednez\", \"James Karinchak\", \"Mitch Garver\", \"Paul Sewald\", \"Nathaniel Lowe\", \"Camilo Doval\", \"Pete Fairbanks\", \"Ian Anderson\", \"Ryan McMahon\", \"Jes\\u00fas S\\u00e1nchez\", \"Drew Rasmussen\", \"Corey Kluber\", \"Matt Barnes\", \"Jonathan Lo\\u00e1isiga\", \"Gary S\\u00e1nchez\", \"Yo\\u00e1n Moncada\", \"Joc Pederson\", \"J.P. Crawford\", \"Craig Kimbrel\", \"Jos\\u00e9 Urquidy\", \"David Fletcher\", \"Chris Taylor\", \"Zack Greinke\", \"Anthony Rendon\", \"Aaron Bummer\", \"Bailey Ober\", \"Chris Paddack\", \"Alex Cobb\", \"Brandon Nimmo\", \"Sean Murphy\", \"Pierce Johnson\", \"Eugenio Su\\u00e1rez\", \"Josh Donaldson\", \"Corey Knebel\", \"Mike Minor\", \"Noah Syndergaard\", \"Jameson Taillon\", \"Tanner Houck\", \"Huascar Ynoa\", \"Trevor May\", \"Frank Schwindel\", \"Isiah Kiner-Falefa\", \"Dylan Floro\", \"Domingo Germ\\u00e1n\", \"H\\u00e9ctor Neris\", \"Yuli Gurriel\", \"Jeff McNeil\", \"Tyler Naquin\", \"Alex Reyes\", \"Didi Gregorius\", \"Yusei Kikuchi\", \"Spencer Torkelson\", \"Manuel Margot\", \"Alejandro Kirk\", \"Sixto S\\u00e1nchez\", \"Rafael Ortega\", \"Gregory Soto\", \"Seth Lugo\", \"Marco Gonzales\", \"Jake Odorizzi\", \"Germ\\u00e1n M\\u00e1rquez\", \"Patrick Corbin\", \"Tylor Megill\", \"Kyle Finnegan\", \"Triston McKenzie\", \"Cristian Javier\", \"Christian V\\u00e1zquez\", \"Danny Jansen\", \"Chris Flexen\", \"Yonny Chirinos\", \"Carson Kelly\", \"Matt Chapman\", \"C\\u00e9sar Hern\\u00e1ndez\", \"Matthew Boyd\", \"Gavin Lux\", \"Daniel Hudson\", \"Nicky Lopez\", \"Mark Melancon\", \"Anthony Bender\", \"Luis Pati\\u00f1o\", \"Andr\\u00e9s Gim\\u00e9nez\", \"Jarren Duran\", \"Brusdar Graterol\", \"Miguel Rojas\", \"Lou Trivino\", \"Zach Eflin\", \"Lane Thomas\", \"Omar Narv\\u00e1ez\", \"Elias D\\u00edaz\", \"Nestor Cortes\", \"Jorge Alfaro\", \"Trevor Williams\", \"Michael Pineda\", \"Casey Mize\", \"Tyler Wells\", \"Rowan Wick\", \"Sam Hilliard\", \"Tyler Matzek\", \"Mike Zunino\", \"Dane Dunning\"], \"y\": [11.851458135277317, 10.21947046134662, 8.949332414364052, 8.703586595876287, 8.60090943028591, 8.34186951390577, 8.227732333389207, 8.132581989352033, 7.8027378098866125, 7.544713011059358, 7.471544519486034, 7.354801674782164, 7.045823621804546, 7.01675453083868, 6.928312049532922, 6.893318034250598, 6.567587454949619, 6.4940718321297, 6.4776628870111, 6.465506540895347, 5.955224169691076, 5.9249944302010285, 5.919507607610751, 5.883337851381537, 5.782713066794103, 5.5595745718798035, 5.533365575089601, 5.499059650778101, 5.470802395541975, 5.263467617174312, 5.248602415156416, 5.2260103137971665, 5.2118668989613886, 5.075417267752804, 5.0654730056207296, 5.062252949926746, 4.924965372071107, 4.867147108301756, 4.830754039689053, 4.7226115625653105, 4.706902324584503, 4.68522222265198, 4.6749354333680975, 4.66615283262318, 4.658999180584253, 4.6544079597616985, 4.539166882482908, 4.534268201941207, 4.526222560974616, 4.45607431583807, 4.438497742648965, 4.355224778670003, 4.3200723051986465, 4.245306536083517, 4.219354494257233, 4.197857755380827, 4.192576941108835, 4.180864148806129, 4.136466779193001, 4.123995920740399, 4.081894043561117, 3.9257908430827926, 3.8838290138195894, 3.8262531569871534, 3.8030630448483245, 3.7549378411489696, 3.7227054151556924, 3.7114566199347827, 3.7023440150114615, 3.6961111001633835, 3.687638707495891, 3.634250995174211, 3.582695171478691, 3.562255797925913, 3.5258611669071485, 3.4317698515083133, 3.4122906362022336, 3.3937138005598895, 3.3844524251664962, 3.379052710421786, 3.354539425428407, 3.314557901355244, 3.2344398436709954, 3.215510889089333, 3.192908482315781, 3.189536186867025, 3.1784605300027327, 3.173018023109877, 3.0876599298075265, 3.0437425703872205, 3.0399274103629597, 2.998607982386335, 2.9845061450446835, 2.9773566016106816, 2.9340615533463383, 2.9189068103930653, 2.908007477368049, 2.9040239643102073, 2.8354155290123146, 2.8277799100152814, 2.8150571621354956, 2.7931873092985144, 2.7845866690387746, 2.7844058067894792, 2.7686790801786496, 2.73840758040845, 2.6606776205021276, 2.6411466366333674, 2.637654605510249, 2.6336608833568342, 2.6297707285886514, 2.6274705333647885, 2.583372772808095, 2.5724402184908484, 2.5318039202950158, 2.4923094311018468, 2.476168768445238, 2.471023835501972, 2.446664661677038, 2.438577297607842, 2.4367079260786255, 2.409010827500107, 2.343666546353244, 2.3349619262184835, 2.322077642698941, 2.272611613588855, 2.2532476812444373, 2.2214370551950435, 2.2077937436052366, 2.198435993056115, 2.1980164561679247, 2.1975512428252317, 2.188707304452652, 2.1886666065800076, 2.177357873454084, 2.1619481338002564, 2.121444909955347, 2.104704183071072, 2.0885974952571544, 2.027512311019649, 2.0205857980524256, 2.0083948588054255, 1.9491058621959607, 1.9456397621809742, 1.8993404771887201, 1.8943228704504276, 1.870402763200566, 1.868237296932976, 1.8278881828253621, 1.8080807236406162, 1.7815457484364747, 1.7744317746881488, 1.7665599773643605, 1.7561880849653089, 1.7510109955457773, 1.7355642031411767, 1.7203888404263408, 1.7177604790517482, 1.7120022417503178, 1.6869206792930371, 1.669323903260649, 1.6407974284044933, 1.6160716387287752, 1.579858747284232, 1.5729515719264353, 1.5521836307013828, 1.5256428688891877, 1.5156414855841924, 1.5094140947142725, 1.4981392500803627, 1.385592520803153, 1.358563310026124, 1.345358967281159, 1.3187429356919687, 1.3038903550321024, 1.2769266139248319, 1.268048191315002, 1.2667054437233416, 1.210525795944748, 1.1788352311282564, 1.1530381884602696, 1.1349674173823319, 1.1165707314678386, 1.0895557926853874, 1.0627642212636867, 1.026193641580155, 1.0249658310341068, 1.0176015304306643, 0.9904767386562129, 0.9872820307339636, 0.9865209537178319, 0.9847701182431654, 0.9768419005500271, 0.9277796375310383, 0.9239455536607745, 0.9197827253824824, 0.915410679103918, 0.9142459001699978, 0.8920222947302623, 0.8823728218196019, 0.8788137017631734, 0.8665529973458028, 0.8642895383943925, 0.8538413591733136, 0.8482146259890269, 0.8444838640302015, 0.844416511475062, 0.8407493289230406, 0.838042059914661, 0.8199715261723912, 0.8176170463928791, 0.8156766794889931, 0.795852992158367, 0.7523805672650796, 0.7396947632928623, 0.7356944513066566, 0.7322439694524885, 0.7007499291587973, 0.6355734639512225, 0.6256517225518108, 0.6244430115714321, 0.6235727373692166, 0.6185015391427706, 0.6077655653106091, 0.6074003216740345, 0.5915075706570534, 0.5699553852333406, 0.5409972512347734, 0.5377566932728084, 0.5213569530959329, 0.502749117278457, 0.5005819261597961, 0.4882930458485317, 0.47013388248895094, 0.4676747958530938, 0.46479674502315405, 0.45073256890395097, 0.42601591477971557, 0.42406894504008363, 0.3864074102164081, 0.3642186525806035, 0.3501271535668655, 0.3453829991487554, 0.3422709332476621, 0.33299248822640015, 0.29944122043059895, 0.288231598074123, 0.27616145257206237, 0.2741320473501843, 0.254600745098293, 0.24089660049594097, 0.22596096432798118, 0.2211568277746121, 0.2070570475276341, 0.2006243582814381, 0.18632904021386154, 0.18214999894181827, 0.15766563774419629, 0.15584657419385306, 0.15233964862310923, 0.1473842351837471, 0.14290078184446364, 0.1223396560317116, 0.1194200258286707, 0.11167729130827508, 0.10124475441664993, 0.08030799692908147, 0.051029717030991906, 0.0489654833478152, 0.04370159029000398, 0.039193964655443114, 0.012404119315283069, 0.0, 0.0, 0.0, 0.0, 0.0, 0.0, -0.015743233952120406, -0.016934224233324358, -0.02415067640457752, -0.036875763087431845, -0.040605516253368945, -0.04807313811916214, -0.06411562015876604, -0.09677144591205011, -0.10126518603288681, -0.13569754843002635, -0.13602386922353982, -0.13681862002962863, -0.148538335711919, -0.15762787387152954, -0.1738506535682398, -0.17550242083420486, -0.17559480821807316, -0.19350822940711332, -0.23177405644711424, -0.2511545211528414, -0.2564080130911841, -0.25850154758579885, -0.2621097442859619, -0.263408438904911, -0.26504325291413416, -0.2650667242413791, -0.2668911168178303, -0.2729487119407814, -0.2788664992952075, -0.28549183575415826, -0.29038361442056576, -0.2905157893498571, -0.30321102876051054, -0.32187155802545586, -0.3392179755645026, -0.3430523507279484, -0.35108836172818236, -0.35163531745457877, -0.358776084519403, -0.360396502780034, -0.3645400632775276, -0.3896548649620201, -0.416953782063084, -0.425655902326286, -0.42978161585896757, -0.43469074010882136]}],                        {\"template\": {\"data\": {\"bar\": [{\"error_x\": {\"color\": \"#2a3f5f\"}, \"error_y\": {\"color\": \"#2a3f5f\"}, \"marker\": {\"line\": {\"color\": \"#E5ECF6\", \"width\": 0.5}}, \"type\": \"bar\"}], \"barpolar\": [{\"marker\": {\"line\": {\"color\": \"#E5ECF6\", \"width\": 0.5}}, \"type\": \"barpolar\"}], \"carpet\": [{\"aaxis\": {\"endlinecolor\": \"#2a3f5f\", \"gridcolor\": \"white\", \"linecolor\": \"white\", \"minorgridcolor\": \"white\", \"startlinecolor\": \"#2a3f5f\"}, \"baxis\": {\"endlinecolor\": \"#2a3f5f\", \"gridcolor\": \"white\", \"linecolor\": \"white\", \"minorgridcolor\": \"white\", \"startlinecolor\": \"#2a3f5f\"}, \"type\": \"carpet\"}], \"choropleth\": [{\"colorbar\": {\"outlinewidth\": 0, \"ticks\": \"\"}, \"type\": \"choropleth\"}], \"contour\": [{\"colorbar\": {\"outlinewidth\": 0, \"ticks\": \"\"}, \"colorscale\": [[0.0, \"#0d0887\"], [0.1111111111111111, \"#46039f\"], [0.2222222222222222, \"#7201a8\"], [0.3333333333333333, \"#9c179e\"], [0.4444444444444444, \"#bd3786\"], [0.5555555555555556, \"#d8576b\"], [0.6666666666666666, \"#ed7953\"], [0.7777777777777778, \"#fb9f3a\"], [0.8888888888888888, \"#fdca26\"], [1.0, \"#f0f921\"]], \"type\": \"contour\"}], \"contourcarpet\": [{\"colorbar\": {\"outlinewidth\": 0, \"ticks\": \"\"}, \"type\": \"contourcarpet\"}], \"heatmap\": [{\"colorbar\": {\"outlinewidth\": 0, \"ticks\": \"\"}, \"colorscale\": [[0.0, \"#0d0887\"], [0.1111111111111111, \"#46039f\"], [0.2222222222222222, \"#7201a8\"], [0.3333333333333333, \"#9c179e\"], [0.4444444444444444, \"#bd3786\"], [0.5555555555555556, \"#d8576b\"], [0.6666666666666666, \"#ed7953\"], [0.7777777777777778, \"#fb9f3a\"], [0.8888888888888888, \"#fdca26\"], [1.0, \"#f0f921\"]], \"type\": \"heatmap\"}], \"heatmapgl\": [{\"colorbar\": {\"outlinewidth\": 0, \"ticks\": \"\"}, \"colorscale\": [[0.0, \"#0d0887\"], [0.1111111111111111, \"#46039f\"], [0.2222222222222222, \"#7201a8\"], [0.3333333333333333, \"#9c179e\"], [0.4444444444444444, \"#bd3786\"], [0.5555555555555556, \"#d8576b\"], [0.6666666666666666, \"#ed7953\"], [0.7777777777777778, \"#fb9f3a\"], [0.8888888888888888, \"#fdca26\"], [1.0, \"#f0f921\"]], \"type\": \"heatmapgl\"}], \"histogram\": [{\"marker\": {\"colorbar\": {\"outlinewidth\": 0, \"ticks\": \"\"}}, \"type\": \"histogram\"}], \"histogram2d\": [{\"colorbar\": {\"outlinewidth\": 0, \"ticks\": \"\"}, \"colorscale\": [[0.0, \"#0d0887\"], [0.1111111111111111, \"#46039f\"], [0.2222222222222222, \"#7201a8\"], [0.3333333333333333, \"#9c179e\"], [0.4444444444444444, \"#bd3786\"], [0.5555555555555556, \"#d8576b\"], [0.6666666666666666, \"#ed7953\"], [0.7777777777777778, \"#fb9f3a\"], [0.8888888888888888, \"#fdca26\"], [1.0, \"#f0f921\"]], \"type\": \"histogram2d\"}], \"histogram2dcontour\": [{\"colorbar\": {\"outlinewidth\": 0, \"ticks\": \"\"}, \"colorscale\": [[0.0, \"#0d0887\"], [0.1111111111111111, \"#46039f\"], [0.2222222222222222, \"#7201a8\"], [0.3333333333333333, \"#9c179e\"], [0.4444444444444444, \"#bd3786\"], [0.5555555555555556, \"#d8576b\"], [0.6666666666666666, \"#ed7953\"], [0.7777777777777778, \"#fb9f3a\"], [0.8888888888888888, \"#fdca26\"], [1.0, \"#f0f921\"]], \"type\": \"histogram2dcontour\"}], \"mesh3d\": [{\"colorbar\": {\"outlinewidth\": 0, \"ticks\": \"\"}, \"type\": \"mesh3d\"}], \"parcoords\": [{\"line\": {\"colorbar\": {\"outlinewidth\": 0, \"ticks\": \"\"}}, \"type\": \"parcoords\"}], \"pie\": [{\"automargin\": true, \"type\": \"pie\"}], \"scatter\": [{\"marker\": {\"colorbar\": {\"outlinewidth\": 0, \"ticks\": \"\"}}, \"type\": \"scatter\"}], \"scatter3d\": [{\"line\": {\"colorbar\": {\"outlinewidth\": 0, \"ticks\": \"\"}}, \"marker\": {\"colorbar\": {\"outlinewidth\": 0, \"ticks\": \"\"}}, \"type\": \"scatter3d\"}], \"scattercarpet\": [{\"marker\": {\"colorbar\": {\"outlinewidth\": 0, \"ticks\": \"\"}}, \"type\": \"scattercarpet\"}], \"scattergeo\": [{\"marker\": {\"colorbar\": {\"outlinewidth\": 0, \"ticks\": \"\"}}, \"type\": \"scattergeo\"}], \"scattergl\": [{\"marker\": {\"colorbar\": {\"outlinewidth\": 0, \"ticks\": \"\"}}, \"type\": \"scattergl\"}], \"scattermapbox\": [{\"marker\": {\"colorbar\": {\"outlinewidth\": 0, \"ticks\": \"\"}}, \"type\": \"scattermapbox\"}], \"scatterpolar\": [{\"marker\": {\"colorbar\": {\"outlinewidth\": 0, \"ticks\": \"\"}}, \"type\": \"scatterpolar\"}], \"scatterpolargl\": [{\"marker\": {\"colorbar\": {\"outlinewidth\": 0, \"ticks\": \"\"}}, \"type\": \"scatterpolargl\"}], \"scatterternary\": [{\"marker\": {\"colorbar\": {\"outlinewidth\": 0, \"ticks\": \"\"}}, \"type\": \"scatterternary\"}], \"surface\": [{\"colorbar\": {\"outlinewidth\": 0, \"ticks\": \"\"}, \"colorscale\": [[0.0, \"#0d0887\"], [0.1111111111111111, \"#46039f\"], [0.2222222222222222, \"#7201a8\"], [0.3333333333333333, \"#9c179e\"], [0.4444444444444444, \"#bd3786\"], [0.5555555555555556, \"#d8576b\"], [0.6666666666666666, \"#ed7953\"], [0.7777777777777778, \"#fb9f3a\"], [0.8888888888888888, \"#fdca26\"], [1.0, \"#f0f921\"]], \"type\": \"surface\"}], \"table\": [{\"cells\": {\"fill\": {\"color\": \"#EBF0F8\"}, \"line\": {\"color\": \"white\"}}, \"header\": {\"fill\": {\"color\": \"#C8D4E3\"}, \"line\": {\"color\": \"white\"}}, \"type\": \"table\"}]}, \"layout\": {\"annotationdefaults\": {\"arrowcolor\": \"#2a3f5f\", \"arrowhead\": 0, \"arrowwidth\": 1}, \"autotypenumbers\": \"strict\", \"coloraxis\": {\"colorbar\": {\"outlinewidth\": 0, \"ticks\": \"\"}}, \"colorscale\": {\"diverging\": [[0, \"#8e0152\"], [0.1, \"#c51b7d\"], [0.2, \"#de77ae\"], [0.3, \"#f1b6da\"], [0.4, \"#fde0ef\"], [0.5, \"#f7f7f7\"], [0.6, \"#e6f5d0\"], [0.7, \"#b8e186\"], [0.8, \"#7fbc41\"], [0.9, \"#4d9221\"], [1, \"#276419\"]], \"sequential\": [[0.0, \"#0d0887\"], [0.1111111111111111, \"#46039f\"], [0.2222222222222222, \"#7201a8\"], [0.3333333333333333, \"#9c179e\"], [0.4444444444444444, \"#bd3786\"], [0.5555555555555556, \"#d8576b\"], [0.6666666666666666, \"#ed7953\"], [0.7777777777777778, \"#fb9f3a\"], [0.8888888888888888, \"#fdca26\"], [1.0, \"#f0f921\"]], \"sequentialminus\": [[0.0, \"#0d0887\"], [0.1111111111111111, \"#46039f\"], [0.2222222222222222, \"#7201a8\"], [0.3333333333333333, \"#9c179e\"], [0.4444444444444444, \"#bd3786\"], [0.5555555555555556, \"#d8576b\"], [0.6666666666666666, \"#ed7953\"], [0.7777777777777778, \"#fb9f3a\"], [0.8888888888888888, \"#fdca26\"], [1.0, \"#f0f921\"]]}, \"colorway\": [\"#636efa\", \"#EF553B\", \"#00cc96\", \"#ab63fa\", \"#FFA15A\", \"#19d3f3\", \"#FF6692\", \"#B6E880\", \"#FF97FF\", \"#FECB52\"], \"font\": {\"color\": \"#2a3f5f\"}, \"geo\": {\"bgcolor\": \"white\", \"lakecolor\": \"white\", \"landcolor\": \"#E5ECF6\", \"showlakes\": true, \"showland\": true, \"subunitcolor\": \"white\"}, \"hoverlabel\": {\"align\": \"left\"}, \"hovermode\": \"closest\", \"mapbox\": {\"style\": \"light\"}, \"paper_bgcolor\": \"white\", \"plot_bgcolor\": \"#E5ECF6\", \"polar\": {\"angularaxis\": {\"gridcolor\": \"white\", \"linecolor\": \"white\", \"ticks\": \"\"}, \"bgcolor\": \"#E5ECF6\", \"radialaxis\": {\"gridcolor\": \"white\", \"linecolor\": \"white\", \"ticks\": \"\"}}, \"scene\": {\"xaxis\": {\"backgroundcolor\": \"#E5ECF6\", \"gridcolor\": \"white\", \"gridwidth\": 2, \"linecolor\": \"white\", \"showbackground\": true, \"ticks\": \"\", \"zerolinecolor\": \"white\"}, \"yaxis\": {\"backgroundcolor\": \"#E5ECF6\", \"gridcolor\": \"white\", \"gridwidth\": 2, \"linecolor\": \"white\", \"showbackground\": true, \"ticks\": \"\", \"zerolinecolor\": \"white\"}, \"zaxis\": {\"backgroundcolor\": \"#E5ECF6\", \"gridcolor\": \"white\", \"gridwidth\": 2, \"linecolor\": \"white\", \"showbackground\": true, \"ticks\": \"\", \"zerolinecolor\": \"white\"}}, \"shapedefaults\": {\"line\": {\"color\": \"#2a3f5f\"}}, \"ternary\": {\"aaxis\": {\"gridcolor\": \"white\", \"linecolor\": \"white\", \"ticks\": \"\"}, \"baxis\": {\"gridcolor\": \"white\", \"linecolor\": \"white\", \"ticks\": \"\"}, \"bgcolor\": \"#E5ECF6\", \"caxis\": {\"gridcolor\": \"white\", \"linecolor\": \"white\", \"ticks\": \"\"}}, \"title\": {\"x\": 0.05}, \"xaxis\": {\"automargin\": true, \"gridcolor\": \"white\", \"linecolor\": \"white\", \"ticks\": \"\", \"title\": {\"standoff\": 15}, \"zerolinecolor\": \"white\", \"zerolinewidth\": 2}, \"yaxis\": {\"automargin\": true, \"gridcolor\": \"white\", \"linecolor\": \"white\", \"ticks\": \"\", \"title\": {\"standoff\": 15}, \"zerolinecolor\": \"white\", \"zerolinewidth\": 2}}}},                        {\"responsive\": true}                    ).then(function(){\n",
       "                            \n",
       "var gd = document.getElementById('c3ef2860-7a09-46a2-bea3-da09fd99a1f0');\n",
       "var x = new MutationObserver(function (mutations, observer) {{\n",
       "        var display = window.getComputedStyle(gd).display;\n",
       "        if (!display || display === 'none') {{\n",
       "            console.log([gd, 'removed!']);\n",
       "            Plotly.purge(gd);\n",
       "            observer.disconnect();\n",
       "        }}\n",
       "}});\n",
       "\n",
       "// Listen for the removal of the full notebook cells\n",
       "var notebookContainer = gd.closest('#notebook-container');\n",
       "if (notebookContainer) {{\n",
       "    x.observe(notebookContainer, {childList: true});\n",
       "}}\n",
       "\n",
       "// Listen for the clearing of the current output cell\n",
       "var outputEl = gd.closest('.output');\n",
       "if (outputEl) {{\n",
       "    x.observe(outputEl, {childList: true});\n",
       "}}\n",
       "\n",
       "                        })                };                });            </script>        </div>"
      ]
     },
     "metadata": {},
     "output_type": "display_data"
    }
   ],
   "source": [
    "def set_color(x):\n",
    "    if(x == None):\n",
    "        return \"blue\"\n",
    "    else:\n",
    "        return \"gray\"\n",
    "\n",
    "        \n",
    "fig = go.Figure()\n",
    "fig.add_trace(\n",
    "    go.Scatter(\n",
    "        x=df['Name'].head(tot_players+25),\n",
    "        y=df['z'].head(tot_players+25),\n",
    "        mode='markers',\n",
    "        marker=dict(color=list(map(set_color,df['Owner'])))\n",
    "    )\n",
    ")\n",
    "fig.show()"
   ]
  },
  {
   "cell_type": "code",
   "execution_count": 149,
   "id": "cca432bf",
   "metadata": {},
   "outputs": [
    {
     "data": {
      "application/vnd.plotly.v1+json": {
       "config": {
        "plotlyServerURL": "https://plot.ly"
       },
       "data": [
        {
         "mode": "markers",
         "text": [
          "Fernando Tatis Jr.",
          "Vladimir Guerrero Jr.",
          "Juan Soto",
          "Shohei Ohtani",
          "José Ramírez",
          "Aaron Judge",
          "Trea Turner",
          "Bo Bichette",
          "Rafael Devers",
          "Bryce Harper",
          "Ronald Acuña Jr.",
          "Freddie Freeman",
          "Mike Trout",
          "Pete Alonso",
          "Kyle Tucker",
          "Luis Robert",
          "Yordan Alvarez",
          "Salvador Perez",
          "Manny Machado",
          "Mookie Betts",
          "Matt Olson",
          "Ozzie Albies",
          "Giancarlo Stanton",
          "Tyler O'Neill",
          "Paul Goldschmidt",
          "Teoscar Hernández",
          "Austin Riley",
          "George Springer",
          "Tim Anderson",
          "Franmil Reyes",
          "Byron Buxton",
          "Cedric Mullins",
          "J.D. Martinez",
          "Nolan Arenado",
          "Eloy Jiménez",
          "Adalberto Mondesi",
          "Xander Bogaerts",
          "Jared Walsh",
          "Marcus Semien",
          "Nick Castellanos",
          "Wander Franco",
          "Francisco Lindor",
          "José Abreu",
          "Randy Arozarena",
          "Gleyber Torres",
          "Jose Altuve",
          "Carlos Correa",
          "Trevor Story",
          "Bobby Witt Jr.",
          "Bryan Reynolds",
          "Josh Bell",
          "Ryan Mountcastle",
          "Starling Marte",
          "Corey Seager",
          "Alex Bregman",
          "Nelson Cruz",
          "Christian Yelich",
          "Joey Gallo",
          "C.J. Cron",
          "Jorge Polanco",
          "Whit Merrifield",
          "Ketel Marte",
          "Rhys Hoskins",
          "Jesse Winker",
          "Eddie Rosario",
          "J.T. Realmuto",
          "Will Smith",
          "Joey Votto",
          "Brandon Lowe",
          "Kyle Schwarber",
          "Spencer Torkelson",
          "Ian Happ",
          "Yasmani Grandal",
          "Marcell Ozuna",
          "Max Muncy",
          "Jorge Soler",
          "Ty France",
          "Anthony Rizzo",
          "Josh Donaldson",
          "Lourdes Gurriel Jr.",
          "DJ LeMahieu",
          "Miguel Sanó",
          "Cody Bellinger",
          "Jonathan India",
          "Javier Báez",
          "Trey Mancini",
          "Hunter Renfroe",
          "Frank Schwindel",
          "Avisaíl García",
          "Mitch Haniger",
          "Alex Verdugo",
          "Justin Turner",
          "Austin Meadows",
          "Tommy Edman",
          "Bobby Dalbec",
          "Nathaniel Lowe",
          "Adam Duvall",
          "Michael Conforto",
          "Trent Grisham",
          "Austin Hays",
          "Oneil Cruz",
          "Luke Voit",
          "Anthony Rendon",
          "Yoán Moncada",
          "Kris Bryant",
          "Yuli Gurriel",
          "Dansby Swanson",
          "Eric Hosmer",
          "Enrique Hernández",
          "Willy Adames",
          "AJ Pollock",
          "Tommy Pham",
          "Daulton Varsho",
          "Adolis García",
          "Willson Contreras",
          "Jake Cronenworth",
          "Akil Baddoo",
          "Travis d'Arnaud",
          "Jazz Chisholm Jr.",
          "Ryan McMahon",
          "Charlie Blackmon",
          "Jonathan Schoop",
          "Anthony Santander",
          "Brendan Rodgers",
          "Wil Myers",
          "Andrew Benintendi",
          "Jean Segura",
          "Harrison Bader",
          "Amed Rosario",
          "Chris Taylor",
          "Ke'Bryan Hayes",
          "Dylan Carlson",
          "Jesús Sánchez",
          "Keibert Ruiz",
          "Ramón Laureano",
          "Luis Arraez",
          "Michael Brantley",
          "Max Kepler",
          "Luis Urías",
          "Willie Calhoun",
          "Kolten Wong",
          "Gio Urshela",
          "Jo Adell",
          "Matt Chapman",
          "Jarred Kelenic",
          "Jeimer Candelario",
          "Brandon Crawford",
          "Alejandro Kirk",
          "Brandon Belt",
          "Brandon Nimmo",
          "Robbie Grossman",
          "Adley Rutschman",
          "Andrew McCutchen",
          "David Fletcher",
          "Patrick Wisdom",
          "Lorenzo Cain",
          "Manuel Margot",
          "Yandy Díaz",
          "Jesús Aguilar",
          "Tyler Stephenson",
          "Joc Pederson",
          "Nick Madrigal",
          "Alex Kirilloff",
          "Eugenio Suárez",
          "J.P. Crawford",
          "Randal Grichuk",
          "Eduardo Escobar",
          "Danny Jansen",
          "Mark Canha",
          "Raimel Tapia",
          "Mike Yastrzemski",
          "Jarren Duran",
          "Tyler Naquin",
          "Sean Murphy",
          "Andrew Vaughn",
          "Mitch Garver",
          "Orlando Arcia",
          "Gavin Sheets",
          "Yoshi Tsutsugo",
          "Kyle Lewis",
          "Nico Hoerner",
          "Myles Straw",
          "Aaron Hicks",
          "Nicky Lopez",
          "Rowdy Tellez",
          "Andrés Giménez",
          "Alec Bohm",
          "Gary Sánchez",
          "Miguel Rojas",
          "Lane Thomas",
          "Seth Brown",
          "Jose Miranda",
          "Rafael Ortega",
          "David Peralta",
          "Bobby Bradley",
          "Bryan De La Cruz",
          "Chad Pinder",
          "Josh Jung",
          "Matt Vierling",
          "LaMonte Wade Jr.",
          "Tommy La Stella",
          "Carson Kelly",
          "Yadier Molina",
          "Miguel Cabrera",
          "Elias Díaz",
          "Michael A. Taylor",
          "Santiago Espinal",
          "Jonathan Villar",
          "Tony Kemp",
          "Adam Frazier",
          "César Hernández",
          "Didi Gregorius",
          "Josh Rojas",
          "Max Stassi",
          "Abraham Toro",
          "Garrett Hampson",
          "Josh Harrison",
          "Christian Vázquez",
          "Cavan Biggio",
          "Evan Longoria",
          "Jake Meyers",
          "Carter Kieboom",
          "Kyle Farmer",
          "Jorge Alfaro",
          "Paul DeJong",
          "Mike Zunino",
          "Brandon Marsh",
          "Kyle Isbel",
          "Stephen Piscotty",
          "Corey Dickerson",
          "Omar Narváez",
          "Hunter Dozier",
          "Sam Hilliard",
          "Ramón Urías",
          "José Iglesias",
          "Anthony Alford",
          "Jacob Stallings",
          "Jurickson Profar",
          "Kole Calhoun",
          "Roberto Pérez",
          "Connor Joe",
          "Kevin Kiermaier",
          "Ji-Man Choi",
          "Luis García",
          "Jeff McNeil",
          "Jeremy Peña",
          "Mike Moustakas",
          "Jonah Heim",
          "Mitch Moreland",
          "Yadiel Hernandez",
          "James McCann",
          "Brian Anderson",
          "Austin Hedges",
          "Ben Gamel",
          "Nick Solak",
          "Steven Kwan",
          "Pavin Smith",
          "Martín Maldonado",
          "Andrelton Simmons",
          "Jake Fraley",
          "Eric Haase",
          "Austin Nola",
          "Robinson Canó",
          "Jed Lowrie",
          "Elvis Andrus",
          "Joey Bart",
          "Carlos Santana",
          "Luis Torrens",
          "Brad Miller",
          "Michael Chavis",
          "Cal Raleigh",
          "Kevin Smith",
          "Leury García",
          "Darin Ruf",
          "Kevin Plawecki",
          "Christian Walker",
          "Adam Haseley",
          "Austin Allen",
          "Nick Ahmed",
          "Alcides Escobar",
          "Tyrone Taylor",
          "Gregory Polanco",
          "Yan Gomes",
          "Francisco Mejía",
          "Jason Heyward",
          "Donovan Solano",
          "Manny Piña",
          "Tucker Barnhart",
          "Jose Trevino",
          "Kyle Higashioka",
          "Adam Engel",
          "Wilmer Flores",
          "Taylor Walls",
          "Kevin Newman",
          "Rougned Odor",
          "TJ Friedl",
          "Dexter Fowler",
          "Justin Upton",
          "Aledmys Díaz",
          "Kelvin Gutierrez",
          "Ha-Seong Kim",
          "Odúbel Herrera",
          "Tom Murphy",
          "Victor Robles",
          "Alex Dickerson",
          "Trevor Larnach",
          "Alan Trejo",
          "Pedro Severino",
          "Aristides Aquino",
          "Dylan Moore",
          "Joey Wendle",
          "Jordan Luplow",
          "Edmundo Sosa",
          "Victor Caratini",
          "Riley Adams",
          "Brett Gardner",
          "Andy Ibáñez",
          "Jorge Mateo",
          "Wilson Ramos",
          "Dom Nuñez",
          "Jake McCarthy",
          "Tyler Wade",
          "Colin Moran",
          "Cooper Hummel",
          "Isiah Kiner-Falefa",
          "Mickey Moniak",
          "Gavin Lux",
          "Ryan Jeffers",
          "Steven Duggar",
          "Jackie Bradley Jr.",
          "Kevin Pillar",
          "Bradley Zimmer",
          "Ryan Zimmerman",
          "Curt Casali",
          "Austin Slater",
          "Marwin Gonzalez",
          "MJ Melendez",
          "Bryson Stott",
          "Colton Welker",
          "Nick Pratto",
          "Austin Barnes",
          "Garrett Cooper",
          "Josh Naylor",
          "Brent Rooker",
          "Seth Beer",
          "Stephen Vogt",
          "Oscar Mercado",
          "Andrew Knizner",
          "Victor Reyes",
          "Tomás Nido",
          "Yonathan Daza",
          "Nick Fortes",
          "Chas McCormick",
          "Starlin Castro",
          "Yoenis Céspedes",
          "Lewin Díaz",
          "Riley Greene",
          "Jason Castro",
          "Khris Davis",
          "Kurt Suzuki",
          "Jose Siri",
          "Andrew Stevenson",
          "Albert Pujols",
          "Josh VanMeter",
          "Mike Brosseau",
          "Shed Long Jr.",
          "Matt Beaty",
          "Nomar Mazara",
          "Austin Romine",
          "Danny Santana",
          "Nolan Jones",
          "Michael Perez",
          "Thairo Estrada",
          "J.D. Davis",
          "Sandy León",
          "Robinson Chirinos",
          "Matt Duffy",
          "Cole Tucker",
          "Harold Ramirez",
          "Andrew Knapp",
          "Evan White",
          "Asdrúbal Cabrera",
          "Luis Rengifo",
          "Christian Arroyo",
          "Justin Smoak",
          "Cam Gallagher",
          "Lars Nootbaar",
          "Brett Phillips",
          "Luke Williams",
          "Yu Chang",
          "Phil Gosselin",
          "Seby Zavala",
          "Zack Collins",
          "Ian Desmond",
          "Garrett Stubbs",
          "Ronald Guzmán",
          "Adam Eaton",
          "Bryan Lavastida",
          "DJ Stewart",
          "Cody Thomas",
          "Travis Shaw",
          "Jake Marisnick",
          "Lewis Brinson",
          "Reese McGuire",
          "Dominic Smith",
          "Ben Rortvedt",
          "Luke Maile",
          "Leody Taveras",
          "Alek Thomas",
          "Aaron Altherr",
          "Derek Hill",
          "Clint Frazier",
          "Estevan Florial",
          "Nick Gordon",
          "Nick Senzel",
          "Monte Harrison",
          "Jarrod Dyson",
          "Jake Lamb",
          "Johan Camargo",
          "Jake Rogers",
          "Anthony Bemboom",
          "Daniel Vogelbach",
          "Matt Thaiss",
          "Cristian Pache",
          "Niko Goodrum",
          "Nick Allen",
          "Greg Allen",
          "Tony Wolters",
          "Chance Sisco",
          "Vidal Bruján",
          "Brock Holt",
          "Matt Carpenter",
          "Shogo Akiyama",
          "Dustin Garneau",
          "David Bote",
          "Jace Peterson",
          "Miguel Andújar",
          "Jose Lobaton",
          "Rob Refsnyder",
          "Alex Jackson",
          "Rafael Marchan",
          "Drew Butera",
          "Zach McKinstry",
          "Jose Herrera",
          "Rylan Bannon",
          "Brian Goodwin",
          "Jamie Ritchie",
          "Daz Cameron",
          "Chad Wallach",
          "René Pinto",
          "Tim Locastro",
          "William Contreras",
          "Korey Lee",
          "Mark Kolozsvary",
          "Brett Cumberland",
          "Keston Hiura",
          "Connor Wong",
          "Triston Casas",
          "Jake Bauers",
          "Juan Lagares",
          "Patrick Mazeika",
          "Ali Sánchez",
          "Max Schrock",
          "Michael Hermosillo",
          "Sam Huff",
          "Charlie Culberson",
          "Tres Barrera",
          "Payton Henry",
          "Rob Brantly",
          "Luis Campusano",
          "Ronald Torreyes",
          "Brian Serven",
          "Jose Barrero",
          "Luis Barrera",
          "John Nogowski",
          "Fabian Pena",
          "Guillermo Heredia",
          "Sergio Alcántara",
          "Zach Reks",
          "P.J. Higgins",
          "Collin Theroux",
          "Joe Panik",
          "Steven Souza Jr.",
          "Hunter Feduccia",
          "Sebastian Rivero",
          "Ehire Adrianza",
          "Edward Olivares",
          "Chadwick Tromp",
          "Brett Sullivan",
          "Andrew Velazquez",
          "Heliot Ramos",
          "Eli White",
          "Romy Gonzalez",
          "Jack Mayfield",
          "Travis Swaggerty",
          "Danny Mendick",
          "Josh Reddick",
          "Matt Joyce",
          "Jon Berti",
          "Harold Castro",
          "Roman Quinn",
          "Nolan Gorman",
          "Eric Sogard",
          "Owen Miller",
          "Jordy Mercer",
          "Alfonso Rivas",
          "Travis Jankowski",
          "Ryan Vilade",
          "Vimael Machín",
          "Drew Waters",
          "Juan Yepez",
          "Jacob Nottingham",
          "José Peraza",
          "Christin Stewart",
          "Hoy Park",
          "Mason Martin",
          "Luis Guillorme",
          "Emmanuel Rivera",
          "Billy Hamilton",
          "Drew Ellis",
          "Renato Núñez",
          "Maikel Franco",
          "Chris Owings",
          "Scott Kingery",
          "Oswaldo Cabrera",
          "Luke Raley",
          "Jahmai Jones",
          "Daniel Robertson",
          "Josh Palacios",
          "Taylor Trammell",
          "José Rondón",
          "Wilmer Difo",
          "Nelson Velazquez",
          "Josh Lowe",
          "Otto Lopez",
          "Jared Oliva",
          "Franchy Cordero",
          "Edwin Ríos",
          "Ryan McKenna",
          "Jake Burger",
          "Jonathan Aranda",
          "Mauricio Dubón",
          "Richie Palacios",
          "Geraldo Perdomo",
          "Gilberto Celestino",
          "Tyler Nevin",
          "Michael Stefanic",
          "Donovan Casey",
          "Jaylin Davis",
          "Isaac Paredes",
          "Lucius Fox",
          "Isan Díaz",
          "Skye Bolt",
          "Jordan Groshans",
          "Taylor Jones",
          "Willi Castro",
          "Travis Demeritte",
          "Khalil Lee",
          "Brennen Davis",
          "Daniel Johnson",
          "Oswald Peraza",
          "Micker Adolfo",
          "Elehuris Montero",
          "Pablo Reyes",
          "Ryan O'Hearn",
          "Peyton Burdick",
          "Nick Maton",
          "Yusniel Diaz",
          "Ernie Clement",
          "Jake Cave",
          "Jason Vosler",
          "Ender Inciarte",
          "Will Benson",
          "Esteban Quiroz",
          "Stuart Fairchild",
          "Jonathan Araúz",
          "JJ Bleday",
          "Kevin Padlo",
          "Brendan Donovan",
          "Jonathan Davis",
          "Taylor Ward",
          "Yonny Hernandez",
          "Brendon Davis",
          "Logan Warmoth",
          "Buddy Reed",
          "Kody Clemens",
          "Ryan Kreidler",
          "Tyler White",
          "Rodolfo Castro",
          "Corey Ray",
          "Kyle Garlick",
          "Buddy Kennedy",
          "Mark Vientos",
          "Greg Cullen",
          "Richie Martin",
          "Zack Short",
          "Jedd Gyorko",
          "Clay Dungan",
          "Tucupita Marcano",
          "Alex De Goti",
          "Jose Rojas",
          "Donovan Walton",
          "Diego Castillo",
          "Símon Muzziotti",
          "Luis Liberato",
          "David Dahl",
          "Jorge Oña",
          "Austin Dean",
          "Andrew Bechtold",
          "Pedro Leon",
          "Mario Feliciano",
          "Blake Rutherford",
          "Lane Adams",
          "Travis Blankenhorn",
          "Kyle Stowers",
          "Anderson Tejeda",
          "Jake Noll",
          "Alejo Lopez",
          "Yolbert Sanchez",
          "Kyle Holder",
          "Jake Hager",
          "Tim Lopes",
          "Adrián Sanchez",
          "Miles Mastrobuoni",
          "Spencer Steer",
          "Jacob Amaya",
          "Eguy Rosario",
          "Trent Giambrone",
          "Jeter Downs",
          "Andrew Young",
          "Jacob deGrom",
          "Max Scherzer",
          "Gerrit Cole",
          "Corbin Burnes",
          "Zack Wheeler",
          "Shane Bieber",
          "Brandon Woodruff",
          "Aaron Nola",
          "Justin Verlander",
          "Robbie Ray",
          "Charlie Morton",
          "Carlos Rodón",
          "Chris Sale",
          "Liam Hendriks",
          "Josh Hader",
          "Joe Musgrove",
          "Logan Webb",
          "Pablo López",
          "Walker Buehler",
          "Edwin Díaz",
          "Sean Manaea",
          "Sandy Alcantara",
          "Kevin Gausman",
          "Trevor Rogers",
          "Max Fried",
          "Blake Snell",
          "Aroldis Chapman",
          "Yu Darvish",
          "Jack Flaherty",
          "Shohei Ohtani",
          "Frankie Montas",
          "Raisel Iglesias",
          "Emmanuel Clase",
          "Clayton Kershaw",
          "Mike Clevinger",
          "Julio Urías",
          "Freddy Peralta",
          "Shane McClanahan",
          "José Berríos",
          "Alex Wood",
          "Ryan Pressly",
          "Lucas Giolito",
          "Taylor Rogers",
          "Nathan Eovaldi",
          "Lance Lynn",
          "Jordan Romano",
          "Luis Castillo",
          "Eduardo Rodriguez",
          "Carlos Carrasco",
          "Giovanny Gallegos",
          "Dylan Cease",
          "Framber Valdez",
          "Blake Treinen",
          "Shane Baz",
          "Chris Bassitt",
          "Lance McCullers Jr.",
          "Will Smith",
          "Andrew Kittredge",
          "Lucas Sims",
          "Michael Kopech",
          "Zac Gallen",
          "Alex Cobb",
          "David Bednar",
          "Ranger Suárez",
          "Steven Matz",
          "Alek Manoah",
          "Hyun Jin Ryu",
          "Camilo Doval",
          "Scott Barlow",
          "Tarik Skubal",
          "Tylor Megill",
          "Aaron Ashby",
          "Andrew Heaney",
          "Corey Knebel",
          "Gregory Soto",
          "Logan Gilbert",
          "Jordan Montgomery",
          "Garrett Whitlock",
          "Trevor Bauer",
          "Pierce Johnson",
          "Dinelson Lamet",
          "Tyler Mahle",
          "Devin Williams",
          "Matt Barnes",
          "Patrick Sandoval",
          "José Alvarado",
          "Rowan Wick",
          "Sixto Sánchez",
          "Yusei Kikuchi",
          "Huascar Ynoa",
          "Mark Melancon",
          "Elieser Hernandez",
          "Craig Kimbrel",
          "Pete Fairbanks",
          "Anthony Bender",
          "Tyler Wells",
          "Aaron Bummer",
          "Adam Wainwright",
          "Joe Ryan",
          "Brusdar Graterol",
          "Trevor May",
          "Ian Anderson",
          "Luis Severino",
          "Sonny Gray",
          "Seth Lugo",
          "Anthony DeSclafani",
          "Patrick Corbin",
          "Dylan Floro",
          "Jonathan Loáisiga",
          "Paul Sewald",
          "John Means",
          "Jake McGee",
          "Luis Garcia",
          "Dustin May",
          "Drew Rasmussen",
          "Tyler Matzek",
          "Kyle Finnegan",
          "Zach Eflin",
          "Stephen Strasburg",
          "Génesis Cabrera",
          "Chad Green",
          "Caleb Ferguson",
          "Mike Minor",
          "Tommy Kahnle",
          "Lou Trivino",
          "José Quintana",
          "James Karinchak",
          "Diego Castillo",
          "Matthew Boyd",
          "Danny Duffy",
          "Jake Diekman",
          "Chris Paddack",
          "Miles Mikolas",
          "Marcus Stroman",
          "Taijuan Walker",
          "Trevor Williams",
          "Garrett Crochet",
          "Daniel Hudson",
          "Tanner Houck",
          "Jon Gray",
          "Ken Giles",
          "Alex Reyes",
          "JT Brubaker",
          "A.J. Puk",
          "Jesús Luzardo",
          "Michael Fulmer",
          "Héctor Neris",
          "David Peterson",
          "Luis García",
          "Andrés Muñoz",
          "Bailey Ober",
          "Corey Kluber",
          "Sam Coonrod",
          "Richard Bleier",
          "Collin McHugh",
          "Bailey Falter",
          "Reid Detmers",
          "Jordan Hicks",
          "Luke Jackson",
          "Domingo Germán",
          "Art Warren",
          "Joe Barlow",
          "Alex Vesia",
          "David Price",
          "Luis Patiño",
          "Jake Cousins",
          "Adbert Alzolay",
          "A.J. Minter",
          "Kirby Yates",
          "Tim Mayza",
          "Luke Weaver",
          "Matt Wisler",
          "Jake Odorizzi",
          "Tanner Scott",
          "Craig Stammen",
          "Tim Hill",
          "Nick Sandlin",
          "Brooks Raley",
          "Drew Steckenrider",
          "Brady Singer",
          "Kyle Gibson",
          "Eric Lauer",
          "Roansy Contreras",
          "Josh Taylor",
          "Emilio Pagán",
          "Miguel Castro",
          "Julian Merryweather",
          "JT Chargois",
          "Mike Mayers",
          "Zack Greinke",
          "Colin Poche",
          "Jorge Alcala",
          "Kendall Graveman",
          "Aaron Loup",
          "Steven Okert",
          "Mike Soroka",
          "Edward Cabrera",
          "Tanner Rainey",
          "Phil Bickford",
          "Jay Jackson",
          "Anthony Misiewicz",
          "Nick Lodolo",
          "Reynaldo López",
          "Dominic Leone",
          "Ryne Stanek",
          "José Urquidy",
          "Chris Stratton",
          "Kenley Jansen",
          "Joe Kelly",
          "Austin Adams",
          "Brad Wieck",
          "Louis Head",
          "Ryan Thompson",
          "Matt Brash",
          "Jorge López",
          "Dane Dunning",
          "Daniel Norris",
          "Joely Rodríguez",
          "Ryan Tepera",
          "Josh Staumont",
          "Connor Brogdon",
          "Chris Flexen",
          "Nestor Cortes",
          "Michael King",
          "Tucker Davidson",
          "James Paxton",
          "Reiver Sanmartin",
          "Nate Pearson",
          "Jake Brentz",
          "Cole Sulser",
          "James Kaprielian",
          "Chris Martin",
          "Dylan Coleman",
          "Casey Sadler",
          "Caleb Thielbar",
          "José Leclerc",
          "David Robertson",
          "Brent Suter",
          "Cody Morris",
          "Andrew Chafin",
          "Javy Guerra",
          "Yonny Chirinos",
          "Sean Newcomb",
          "Carlos Estévez",
          "Jameson Taillon",
          "Tony Gonsolin",
          "Zack Littell",
          "Anthony Bass",
          "Jarlín García",
          "Yimi García",
          "Ian Kennedy",
          "Glenn Otto",
          "Dillon Peters",
          "Derek Holland",
          "Amir Garrett",
          "Cristian Javier",
          "Sammy Long",
          "Sam Howard",
          "Heath Hembree",
          "Brandon Williamson",
          "Triston McKenzie",
          "Josh Sborz",
          "Seranthony Domínguez",
          "Noah Syndergaard",
          "Hunter Greene",
          "Ross Stripling",
          "Daulton Jefferies",
          "Matt Strahm",
          "Caleb Smith",
          "Sam Hentges",
          "Victor González",
          "José Quijada",
          "Phil Maton",
          "Will Harris",
          "Patrick Murphy",
          "Erik Swanson",
          "Trevor Richards",
          "Brad Hand",
          "Trevor Rosenthal",
          "Touki Toussaint",
          "Hansel Robles",
          "Nick Pivetta",
          "Zach Pop",
          "John Brebbia",
          "Sean Reid-Foley",
          "Clay Holmes",
          "Griffin Canning",
          "Tyler Duffey",
          "John King",
          "Angel Perdomo",
          "Kent Emanuel",
          "Adam Ottavino",
          "Austin Voth",
          "Codi Heuer",
          "Justin Steele",
          "Ryan Helsley",
          "Jesse Chavez",
          "Matthew Liberatore",
          "Tony Santillan",
          "José Cisnero",
          "Mychal Givens",
          "Hunter Harvey",
          "Nick Nelson",
          "J.C. Mejía",
          "Kyle Wright",
          "Paul Blackburn",
          "Drew Smith",
          "Tyler Rogers",
          "Jeurys Familia",
          "T.J. Zeuch",
          "Anthony Banda",
          "Trevor Stephan",
          "Ross Detwiler",
          "Junior Fernández",
          "Jonathan Hernández",
          "Ryne Nelson",
          "MacKenzie Gore",
          "Manuel Rodríguez",
          "Sean Poppen",
          "Ryan Weathers",
          "Joe Ross",
          "Jeff Hoffman",
          "Ryan Borucki",
          "Domingo Acevedo",
          "Darwinzon Hernandez",
          "Paul Fry",
          "Nick Wittgren",
          "Nick Snyder",
          "Tony Watson",
          "Daniel Bard",
          "Dylan Lee",
          "Danny Coulombe",
          "Rafael Montero",
          "Justus Sheffield",
          "Evan Phillips",
          "Andrew Wantz",
          "José Álvarez",
          "Kervin Castro",
          "Lucas Luetge",
          "Anthony Castro",
          "Germán Márquez",
          "Adam Morgan",
          "Spencer Patton",
          "Joe Mantiply",
          "Brent Honeywell Jr.",
          "Sam Moll",
          "Luis Gil",
          "T.J. McFarland",
          "Blake Cederlind",
          "J.B. Wendelken",
          "Oliver Drake",
          "Deolis Guerra",
          "Luis Cessa",
          "José Ruiz",
          "Jalen Beeks",
          "Kyle McGowin",
          "Josh Fleming",
          "Brad Boxberger",
          "Grayson Rodriguez",
          "Brett Martin",
          "Trevor Gott",
          "Kodi Whitley",
          "Nick Mikolajchak",
          "Scott Effross",
          "Dillon Tate",
          "Josiah Gray",
          "Logan Allen",
          "Jackson Kowar",
          "Gabe Speier",
          "Jesse Hahn",
          "Michael Wacha",
          "Francisco Perez",
          "Justin Bruihl",
          "Oliver Pérez",
          "Ethan Small",
          "Jakob Junis",
          "Jandel Gustave",
          "Dellin Betances",
          "Tommy Nance",
          "Eli Morgan",
          "Aaron Civale",
          "Joe Jiménez",
          "Tobias Myers",
          "Kyle Muller",
          "Scott Kazmir",
          "Ryan Sherriff",
          "Juan Minaya",
          "Taylor Widener",
          "Mitch Keller",
          "Jacob Webb",
          "Tyler Chatwood",
          "Fernando Abad",
          "Jake Reed",
          "Wandy Peralta",
          "Cade Cavalli",
          "Marco Gonzales",
          "Alex Colomé",
          "Chaz Roe",
          "Michael Pineda",
          "Michael Rucker",
          "Jordan Yamamoto",
          "Jace Fry",
          "Hirokazu Sawamura",
          "Jimmy Lambert",
          "Cionel Pérez",
          "Cody Stashak",
          "Sean Hjelle",
          "Austin Warren",
          "Chris Archer",
          "Sean Doolittle",
          "Casey Mize",
          "Wander Suero",
          "Paul Campbell",
          "Jovani Moran",
          "Cole Hamels",
          "Duane Underwood Jr.",
          "Merrill Kelly",
          "Kolby Allard",
          "Joe Smith",
          "Nick Mears",
          "Rafael Dolis",
          "Martín Pérez",
          "Miguel Del Pozo",
          "Greg Holland",
          "Kwang Hyun Kim",
          "Ryan Hendrix",
          "Tyler Alexander",
          "Zach Thompson",
          "Dauri Moreta",
          "Shane Greene",
          "Dillon Maples",
          "José Suarez",
          "Jordan Holloway",
          "Robert Stephenson",
          "Justin Wilson",
          "Jon Heasley",
          "Justin Anderson",
          "Noé Ramirez",
          "Thyago Vieira",
          "Blake Parker",
          "Paolo Espino",
          "Hunter Strickland",
          "Alex Claudio",
          "Richard Rodríguez",
          "Brad Brach",
          "Drew Smyly",
          "Kyle Tyler",
          "Kyle Funkhouser",
          "J.P. Feyereisen",
          "J.B. Bukauskas",
          "Spencer Howard",
          "Kyle Hendricks",
          "Adrian Houser",
          "Adam Cimber",
          "Tommy Hunter",
          "Wil Crowe",
          "Andrew Miller",
          "Ryan Brasier",
          "Michael Feliz",
          "Daniel Lynch",
          "Alexander Wells",
          "Matt Peacock",
          "Joel Payamps",
          "Albert Abreu",
          "Jake Woodford",
          "Ervin Santana",
          "Chad Kuhl",
          "Austin Davis",
          "Ryan Burr",
          "Cole Irvin",
          "Mason Thompson",
          "Kris Bubic",
          "Vince Velasquez",
          "Ryne Harper",
          "Blake Taylor",
          "Andre Jackson",
          "Robert Gsellman",
          "Adam Kolarek",
          "Nick Neidert",
          "Grant Holmes",
          "Alex Lange",
          "Kyle Bradish",
          "Brandon Kintzler",
          "Caleb Baragar",
          "Jason Foley",
          "Zach Plesac",
          "Brandon Workman",
          "Dennis Santana",
          "Hunter Stratton",
          "Hans Crouse",
          "Taylor Clarke",
          "Junior Guerra",
          "Demarcus Evans",
          "Josh Tomlin",
          "Tyler Clippard",
          "Matt Shoemaker",
          "Erick Fedde",
          "Sergio Romo",
          "Yency Almonte",
          "Archie Bradley",
          "Chasen Shreve",
          "Madison Bumgarner",
          "Eric Hanhold",
          "Matt Harvey",
          "Jharel Cotton",
          "Andres Machado",
          "Dakota Hudson",
          "Jimmy Herget",
          "Keegan Thompson",
          "Tanner Roark",
          "Alec Mills",
          "Dan Winkler",
          "Ryan Yarbrough",
          "Justin Dunn",
          "Cole Winn",
          "AJ Ramos",
          "Joey Krehbiel",
          "Wade Miley",
          "Tyler Beede",
          "Brad Keller",
          "Cal Quantrill",
          "Bryan Shaw",
          "Phillips Valdez",
          "Trevor Cahill",
          "Felix Bautista",
          "Brett Anderson",
          "Jaime Barría",
          "Corbin Martin",
          "Jordan Balazovic",
          "Johnny Cueto",
          "Garrett Richards",
          "J.A. Happ",
          "Domingo Tapia",
          "Wade LeBlanc",
          "Lewis Thorpe",
          "Tyler Kinley",
          "Tyler Anderson",
          "Dean Kremer",
          "Michael Lorenzen",
          "Jhoulys Chacín",
          "Keegan Akin",
          "Pedro Báez",
          "Steve Cishek",
          "Bryan Garcia",
          "Nick Martínez",
          "Mike Baumann",
          "Ralph Garza Jr.",
          "Rich Hill",
          "Tyler Gilbert",
          "Josh Winder",
          "Bruce Zimmermann",
          "Ryan Rolison",
          "Zac Lowther",
          "Taylor Hearn",
          "Dylan Bundy",
          "Justin Lawrence",
          "Jake Arrieta",
          "Joey Wentz",
          "Yusmeiro Petit",
          "Carlos Hernández",
          "José Ureña",
          "Randy Dobnak",
          "Lucas Gilbreath",
          "Matt Manning",
          "Josh Rogers",
          "Ryan Feltner",
          "Bryse Wilson",
          "Jordan Sheffield",
          "Austin Gomber",
          "Steven Brault",
          "Wily Peralta",
          "Peter Lambert",
          "Mike Foltynewicz",
          "Julio Teheran",
          "Matt Moore",
          "Carlos Martínez",
          "Aaron Sanchez",
          "Dallas Keuchel",
          "Robert Suarez",
          "Anthony Gose",
          "A.J. Alexy",
          "Chase Anderson",
          "Griffin Jax",
          "Jon Lester",
          "Dan Straily",
          "Kyle Freeland",
          "Vladimir Gutierrez",
          "Mike Fiers",
          "Zach Davies",
          "Jordan Lyles",
          "Antonio Senzatela"
         ],
         "type": "scatter",
         "x": [
          "SS",
          "1B",
          "OF",
          "OF",
          "3B",
          "OF",
          "2B",
          "SS",
          "3B",
          "OF",
          "OF",
          "1B",
          "OF",
          "1B",
          "OF",
          "OF",
          "OF",
          "C",
          "3B",
          "2B",
          "1B",
          "2B",
          "OF",
          "OF",
          "1B",
          "OF",
          "3B",
          "OF",
          "SS",
          "OF",
          "OF",
          "OF",
          "OF",
          "3B",
          "OF",
          "3B",
          "SS",
          "1B",
          "2B",
          "OF",
          "3B",
          "SS",
          "1B",
          "OF",
          "2B",
          "2B",
          "SS",
          "SS",
          "SS",
          "OF",
          "1B",
          "1B",
          "OF",
          "SS",
          "3B",
          "DH",
          "OF",
          "OF",
          "1B",
          "2B",
          "2B",
          "2B",
          "1B",
          "OF",
          "OF",
          "C",
          "C",
          "1B",
          "2B",
          "1B",
          "3B",
          "2B",
          "C",
          "OF",
          "3B",
          "OF",
          "3B",
          "1B",
          "3B",
          "1B",
          "3B",
          "3B",
          "OF",
          "2B",
          "2B",
          "1B",
          "OF",
          "1B",
          "OF",
          "OF",
          "OF",
          "3B",
          "OF",
          "2B",
          "3B",
          "1B",
          "OF",
          "OF",
          "OF",
          "OF",
          "SS",
          "1B",
          "3B",
          "3B",
          "3B",
          "1B",
          "SS",
          "1B",
          "2B",
          "SS",
          "OF",
          "OF",
          "C",
          "OF",
          "C",
          "2B",
          "OF",
          "C",
          "2B",
          "3B",
          "OF",
          "2B",
          "OF",
          "2B",
          "OF",
          "OF",
          "2B",
          "OF",
          "SS",
          "3B",
          "3B",
          "OF",
          "OF",
          "C",
          "OF",
          "3B",
          "OF",
          "OF",
          "3B",
          "OF",
          "2B",
          "3B",
          "OF",
          "3B",
          "OF",
          "3B",
          "SS",
          "C",
          "1B",
          "OF",
          "OF",
          "C",
          "OF",
          "2B",
          "3B",
          "OF",
          "OF",
          "3B",
          "1B",
          "C",
          "OF",
          "2B",
          "1B",
          "3B",
          "SS",
          "OF",
          "3B",
          "C",
          "OF",
          "OF",
          "OF",
          "OF",
          "OF",
          "C",
          "1B",
          "C",
          "SS",
          "1B",
          "1B",
          "OF",
          "2B",
          "OF",
          "OF",
          "SS",
          "1B",
          "2B",
          "3B",
          "C",
          "SS",
          "OF",
          "1B",
          "3B",
          "OF",
          "OF",
          "1B",
          "OF",
          "3B",
          "3B",
          "1B",
          "1B",
          "3B",
          "C",
          "C",
          "1B",
          "C",
          "OF",
          "3B",
          "3B",
          "2B",
          "2B",
          "2B",
          "SS",
          "3B",
          "C",
          "3B",
          "2B",
          "3B",
          "C",
          "3B",
          "3B",
          "OF",
          "3B",
          "3B",
          "C",
          "SS",
          "C",
          "OF",
          "OF",
          "OF",
          "OF",
          "C",
          "3B",
          "OF",
          "3B",
          "2B",
          "OF",
          "C",
          "2B",
          "OF",
          "C",
          "1B",
          "OF",
          "1B",
          "2B",
          "2B",
          "SS",
          "3B",
          "C",
          "1B",
          "OF",
          "C",
          "3B",
          "C",
          "OF",
          "2B",
          "OF",
          "1B",
          "C",
          "SS",
          "OF",
          "C",
          "C",
          "2B",
          "2B",
          "SS",
          "C",
          "1B",
          "C",
          "3B",
          "2B",
          "C",
          "3B",
          "3B",
          "1B",
          "C",
          "1B",
          "OF",
          "C",
          "SS",
          "2B",
          "OF",
          "OF",
          "C",
          "C",
          "OF",
          "2B",
          "C",
          "C",
          "C",
          "C",
          "OF",
          "3B",
          "SS",
          "2B",
          "3B",
          "OF",
          "OF",
          "OF",
          "3B",
          "3B",
          "3B",
          "OF",
          "C",
          "OF",
          "OF",
          "OF",
          "2B",
          "C",
          "OF",
          "3B",
          "3B",
          "1B",
          "3B",
          "C",
          "C",
          "OF",
          "3B",
          "3B",
          "C",
          "C",
          "OF",
          "3B",
          "1B",
          "C",
          "SS",
          "OF",
          "2B",
          "C",
          "OF",
          "OF",
          "OF",
          "OF",
          "1B",
          "C",
          "OF",
          "3B",
          "C",
          "SS",
          "3B",
          "1B",
          "C",
          "1B",
          "1B",
          "OF",
          "1B",
          "C",
          "OF",
          "C",
          "OF",
          "C",
          "OF",
          "C",
          "OF",
          "3B",
          "OF",
          "1B",
          "OF",
          "C",
          "DH",
          "C",
          "OF",
          "OF",
          "1B",
          "3B",
          "3B",
          "2B",
          "3B",
          "OF",
          "C",
          "1B",
          "3B",
          "C",
          "2B",
          "3B",
          "C",
          "C",
          "3B",
          "2B",
          "OF",
          "C",
          "1B",
          "3B",
          "3B",
          "2B",
          "1B",
          "C",
          "OF",
          "OF",
          "3B",
          "3B",
          "3B",
          "C",
          "C",
          "SS",
          "C",
          "1B",
          "OF",
          "C",
          "OF",
          "OF",
          "3B",
          "OF",
          "OF",
          "C",
          "1B",
          "C",
          "C",
          "OF",
          "OF",
          "OF",
          "OF",
          "OF",
          "OF",
          "2B",
          "2B",
          "OF",
          "OF",
          "3B",
          "3B",
          "C",
          "C",
          "1B",
          "1B",
          "OF",
          "2B",
          "SS",
          "OF",
          "C",
          "C",
          "2B",
          "3B",
          "3B",
          "OF",
          "C",
          "3B",
          "3B",
          "OF",
          "C",
          "OF",
          "C",
          "C",
          "C",
          "3B",
          "C",
          "3B",
          "OF",
          "C",
          "OF",
          "C",
          "C",
          "OF",
          "C",
          "C",
          "C",
          "C",
          "2B",
          "C",
          "1B",
          "1B",
          "OF",
          "C",
          "C",
          "3B",
          "OF",
          "C",
          "3B",
          "C",
          "C",
          "C",
          "C",
          "3B",
          "C",
          "SS",
          "OF",
          "1B",
          "C",
          "OF",
          "2B",
          "OF",
          "C",
          "C",
          "3B",
          "OF",
          "C",
          "C",
          "3B",
          "OF",
          "C",
          "C",
          "SS",
          "OF",
          "OF",
          "3B",
          "3B",
          "OF",
          "2B",
          "OF",
          "OF",
          "3B",
          "3B",
          "OF",
          "3B",
          "3B",
          "3B",
          "3B",
          "1B",
          "OF",
          "OF",
          "SS",
          "OF",
          "3B",
          "DH",
          "3B",
          "OF",
          "3B",
          "1B",
          "3B",
          "3B",
          "OF",
          "3B",
          "1B",
          "3B",
          "OF",
          "OF",
          "3B",
          "OF",
          "2B",
          "3B",
          "OF",
          "OF",
          "3B",
          "3B",
          "OF",
          "OF",
          null,
          "OF",
          "1B",
          "3B",
          "OF",
          "3B",
          "2B",
          "3B",
          "2B",
          "SS",
          "OF",
          "1B",
          "2B",
          "OF",
          "OF",
          "3B",
          "SS",
          "3B",
          "OF",
          "3B",
          "1B",
          "2B",
          "OF",
          "OF",
          "OF",
          "OF",
          "SS",
          "OF",
          "3B",
          "3B",
          "1B",
          "OF",
          "2B",
          "OF",
          "3B",
          "OF",
          "3B",
          "OF",
          "OF",
          "2B",
          "OF",
          "2B",
          "OF",
          "3B",
          "2B",
          "OF",
          "OF",
          "3B",
          "3B",
          "SS",
          "OF",
          "2B",
          "SS",
          "1B",
          "3B",
          "OF",
          "OF",
          "3B",
          "3B",
          "2B",
          "SS",
          "SS",
          "3B",
          "2B",
          "2B",
          "2B",
          "3B",
          "2B",
          "2B",
          "OF",
          "OF",
          "OF",
          "DH",
          "OF",
          "3B",
          "SS",
          null,
          "OF",
          "OF",
          "2B",
          "OF",
          "3B",
          "1B",
          "3B",
          "2B",
          "SS",
          "2B",
          "2B",
          "2B",
          "2B",
          "3B",
          "SS",
          "3B",
          "2B",
          "2B",
          "2B",
          "SP",
          "SP",
          "SP",
          "SP",
          "SP",
          "SP",
          "SP",
          "SP",
          "SP",
          "SP",
          "SP",
          "SP",
          "SP",
          "RP",
          "RP",
          "SP",
          "SP",
          "SP",
          "SP",
          "RP",
          "SP",
          "SP",
          "SP",
          "SP",
          "SP",
          "SP",
          "RP",
          "SP",
          "SP",
          "SP",
          "SP",
          "RP",
          "RP",
          "SP",
          "SP",
          "SP",
          "SP",
          "SP",
          "SP",
          "SP",
          "RP",
          "SP",
          "RP",
          "SP",
          "SP",
          "RP",
          "SP",
          "SP",
          "SP",
          "RP",
          "SP",
          "SP",
          "RP",
          "SP",
          "SP",
          "SP",
          "RP",
          "RP",
          "RP",
          "SP",
          "SP",
          "SP",
          "RP",
          "SP",
          "SP",
          "SP",
          "SP",
          "RP",
          "RP",
          "SP",
          "SP",
          "SP",
          "SP",
          "RP",
          "RP",
          "SP",
          "SP",
          "RP",
          "SP",
          "RP",
          "RP",
          "SP",
          "RP",
          "RP",
          "SP",
          "RP",
          "RP",
          "SP",
          "SP",
          "SP",
          "RP",
          "SP",
          "RP",
          "RP",
          "RP",
          "RP",
          "RP",
          "SP",
          "SP",
          "RP",
          "RP",
          "SP",
          "SP",
          "SP",
          "RP",
          "SP",
          "SP",
          "RP",
          "RP",
          "RP",
          "SP",
          "RP",
          "SP",
          "SP",
          "SP",
          "RP",
          "RP",
          "SP",
          "SP",
          "RP",
          "RP",
          "RP",
          "SP",
          "RP",
          "RP",
          "SP",
          "RP",
          "RP",
          "SP",
          "SP",
          "RP",
          "SP",
          "SP",
          "SP",
          "SP",
          "SP",
          "RP",
          "RP",
          "SP",
          "SP",
          "RP",
          "RP",
          "SP",
          "RP",
          "SP",
          "RP",
          "RP",
          "SP",
          "RP",
          "RP",
          "SP",
          "SP",
          "RP",
          "RP",
          "RP",
          "SP",
          "SP",
          "RP",
          "RP",
          "SP",
          "RP",
          "RP",
          "RP",
          "SP",
          "SP",
          "RP",
          "SP",
          "RP",
          "RP",
          "RP",
          "SP",
          "RP",
          "SP",
          "RP",
          "RP",
          "RP",
          "RP",
          "RP",
          "RP",
          "SP",
          "SP",
          "SP",
          "SP",
          "RP",
          "RP",
          "RP",
          "RP",
          "RP",
          "RP",
          "SP",
          "RP",
          "RP",
          "RP",
          "RP",
          "RP",
          "SP",
          "SP",
          "RP",
          "RP",
          "RP",
          "RP",
          "SP",
          "SP",
          "RP",
          "RP",
          "SP",
          "RP",
          "RP",
          "RP",
          "RP",
          "RP",
          "RP",
          "RP",
          "SP",
          "RP",
          "SP",
          "RP",
          "RP",
          "RP",
          "RP",
          "RP",
          "SP",
          "SP",
          "SP",
          "SP",
          "SP",
          "SP",
          "SP",
          "RP",
          "RP",
          "SP",
          "RP",
          "RP",
          "RP",
          "RP",
          "RP",
          "RP",
          "RP",
          "RP",
          "RP",
          "RP",
          "SP",
          "RP",
          "RP",
          "SP",
          "SP",
          "RP",
          "RP",
          "RP",
          "RP",
          "RP",
          "SP",
          "SP",
          "RP",
          "RP",
          "SP",
          "SP",
          "RP",
          "RP",
          "SP",
          "SP",
          "RP",
          "RP",
          "SP",
          "SP",
          "SP",
          "SP",
          "RP",
          "RP",
          "SP",
          "RP",
          "RP",
          "RP",
          "RP",
          "RP",
          "RP",
          "RP",
          "RP",
          "RP",
          "SP",
          "RP",
          "SP",
          "RP",
          "RP",
          "RP",
          "RP",
          "SP",
          "RP",
          "RP",
          "RP",
          "RP",
          "RP",
          "RP",
          "RP",
          "SP",
          "RP",
          "RP",
          "SP",
          "SP",
          "RP",
          "RP",
          "RP",
          "RP",
          "SP",
          "SP",
          "SP",
          "RP",
          "RP",
          "RP",
          "SP",
          "RP",
          "RP",
          "RP",
          "RP",
          "RP",
          "SP",
          "SP",
          "RP",
          "RP",
          "SP",
          "SP",
          "SP",
          "RP",
          "RP",
          "RP",
          "RP",
          "RP",
          "RP",
          "RP",
          "RP",
          "RP",
          "RP",
          "RP",
          "SP",
          "RP",
          "RP",
          "RP",
          "RP",
          "RP",
          "RP",
          "SP",
          "RP",
          "RP",
          "RP",
          "SP",
          "RP",
          "SP",
          "RP",
          "RP",
          "RP",
          "RP",
          "RP",
          "RP",
          "RP",
          "RP",
          "RP",
          "SP",
          "RP",
          "SP",
          "RP",
          "RP",
          "RP",
          "RP",
          "RP",
          "RP",
          "SP",
          "SP",
          "SP",
          "RP",
          "RP",
          "SP",
          "RP",
          "RP",
          "RP",
          "SP",
          "SP",
          "RP",
          "RP",
          "RP",
          "SP",
          "SP",
          "RP",
          "RP",
          "SP",
          "SP",
          "RP",
          "RP",
          "SP",
          "SP",
          "RP",
          "RP",
          "RP",
          "RP",
          "RP",
          "SP",
          "SP",
          "RP",
          "RP",
          "SP",
          "RP",
          "SP",
          "RP",
          "RP",
          "SP",
          "RP",
          "RP",
          "SP",
          "RP",
          "SP",
          "RP",
          "SP",
          "RP",
          "RP",
          "RP",
          "SP",
          "RP",
          "SP",
          "SP",
          "RP",
          "RP",
          "RP",
          "SP",
          "RP",
          "RP",
          "SP",
          "RP",
          "SP",
          "SP",
          "RP",
          "RP",
          "RP",
          "SP",
          "RP",
          "RP",
          "RP",
          "SP",
          "RP",
          "RP",
          "RP",
          "RP",
          "SP",
          "RP",
          "RP",
          "RP",
          "RP",
          "SP",
          "RP",
          "RP",
          "RP",
          "RP",
          "SP",
          "SP",
          "SP",
          "RP",
          "RP",
          "SP",
          "RP",
          "RP",
          "RP",
          "SP",
          "SP",
          "RP",
          "RP",
          "RP",
          "SP",
          "RP",
          "SP",
          "RP",
          "RP",
          "SP",
          "RP",
          "SP",
          "SP",
          "RP",
          "RP",
          "RP",
          "RP",
          "RP",
          "SP",
          "RP",
          "RP",
          "RP",
          "RP",
          "RP",
          "RP",
          "SP",
          "RP",
          "RP",
          "RP",
          "SP",
          "RP",
          "RP",
          "RP",
          "RP",
          "RP",
          "SP",
          "SP",
          "RP",
          "RP",
          "RP",
          "RP",
          "SP",
          "RP",
          "SP",
          "RP",
          "RP",
          "SP",
          "RP",
          "SP",
          "SP",
          "SP",
          "RP",
          "SP",
          "SP",
          "SP",
          "RP",
          "RP",
          "SP",
          "RP",
          "SP",
          "SP",
          "RP",
          "RP",
          "SP",
          "RP",
          "SP",
          "SP",
          "SP",
          "SP",
          "SP",
          "SP",
          "SP",
          "RP",
          "SP",
          "SP",
          "RP",
          "SP",
          "SP",
          "SP",
          "RP",
          "SP",
          "RP",
          "RP",
          "RP",
          "SP",
          "RP",
          "RP",
          "SP",
          "SP",
          "SP",
          "SP",
          "SP",
          "SP",
          "SP",
          "SP",
          "RP",
          "SP",
          "SP",
          "RP",
          "SP",
          "SP",
          "SP",
          "RP",
          "SP",
          "SP",
          "SP",
          "SP",
          "RP",
          "SP",
          "SP",
          "SP",
          "SP",
          "SP",
          "SP",
          "SP",
          "SP",
          "SP",
          "SP",
          "RP",
          "RP",
          "SP",
          "SP",
          "SP",
          "SP",
          "SP",
          "SP",
          "SP",
          "SP",
          "SP",
          "SP",
          "SP"
         ],
         "y": [
          11.851458135277317,
          8.227732333389207,
          10.21947046134662,
          8.132581989352033,
          6.893318034250598,
          6.928312049532922,
          8.949332414364052,
          8.34186951390577,
          5.955224169691076,
          7.544713011059358,
          8.60090943028591,
          5.062252949926746,
          6.4940718321297,
          4.45607431583807,
          7.471544519486034,
          5.782713066794103,
          7.354801674782164,
          6.465506540895347,
          4.539166882482908,
          7.01675453083868,
          4.192576941108835,
          6.567587454949619,
          4.245306536083517,
          5.919507607610751,
          3.3937138005598895,
          5.9249944302010285,
          3.0876599298075265,
          4.924965372071107,
          5.5595745718798035,
          4.6749354333680975,
          4.123995920740399,
          4.867147108301756,
          4.3200723051986465,
          2.476168768445238,
          3.7549378411489696,
          2.1975512428252317,
          4.830754039689053,
          2.6606776205021276,
          5.248602415156416,
          5.499059650778101,
          2.583372772808095,
          4.526222560974616,
          2.7845866690387746,
          4.197857755380827,
          2.8277799100152814,
          4.66615283262318,
          3.9257908430827926,
          5.470802395541975,
          3.1784605300027327,
          4.219354494257233,
          2.5724402184908484,
          1.9491058621959607,
          5.0654730056207296,
          4.355224778670003,
          2.198435993056115,
          2.9040239643102073,
          4.438497742648965,
          3.8030630448483245,
          1.268048191315002,
          4.7226115625653105,
          4.68522222265198,
          3.3844524251664962,
          0.7356944513066566,
          3.215510889089333,
          2.9773566016106816,
          5.263467617174312,
          4.6544079597616985,
          1.1788352311282564,
          4.180864148806129,
          1.5729515719264353,
          0,
          2.6411466366333674,
          3.192908482315781,
          2.6297707285886514,
          1.8943228704504276,
          2.9340615533463383,
          0.8788137017631734,
          0.8482146259890269,
          0.18214999894181827,
          0.7396947632928623,
          0.8642895383943925,
          0.8156766794889931,
          3.2344398436709954,
          3.7227054151556924,
          3.634250995174211,
          0.9197827253824824,
          2.5318039202950158,
          0.11167729130827508,
          2.1619481338002564,
          3.379052710421786,
          2.322077642698941,
          0.7007499291587973,
          3.562255797925913,
          3.173018023109877,
          0.5377566932728084,
          2.9845061450446835,
          1.8278881828253621,
          2.343666546353244,
          2.027512311019649,
          1.0895557926853874,
          0.27616145257206237,
          0.3864074102164081,
          0.8538413591733136,
          0.04370159029000398,
          2.6274705333647885,
          1.7177604790517482,
          2.1886666065800076,
          1.7665599773643605,
          1.210525795944748,
          1.9456397621809742,
          2.471023835501972,
          3.189536186867025,
          2.121444909955347,
          2.4923094311018468,
          0.8920222947302623,
          1.7815457484364747,
          0.4882930458485317,
          2.2077937436052366,
          1.7744317746881488,
          1.3038903550321024,
          1.0249658310341068,
          0.8823728218196019,
          1.8080807236406162,
          1.7203888404263408,
          0.915410679103918,
          2.0083948588054255,
          0.29944122043059895,
          1.8993404771887201,
          0.47013388248895094,
          2.2214370551950435,
          1.6407974284044933,
          0.9865209537178319,
          1.5094140947142725,
          1.1349674173823319,
          0.8176170463928791,
          1.2769266139248319,
          0.6235727373692166,
          0,
          0.2211568277746121,
          1.3187429356919687,
          1.5256428688891877,
          0.6244430115714321,
          0.33299248822640015,
          0,
          0.8444838640302015,
          0.3642186525806035,
          0.18632904021386154,
          0.3501271535668655,
          0.8407493289230406,
          0.6256517225518108,
          1.6869206792930371,
          0.795852992158367,
          0.012404119315283069,
          0.2070570475276341,
          0.5699553852333406,
          1.2667054437233416,
          0.42406894504008363,
          0,
          0.039193964655443114,
          0.10124475441664993,
          7.8027378098866125,
          7.045823621804546,
          8.703586595876287,
          6.4776628870111,
          5.533365575089601,
          5.883337851381537,
          5.2260103137971665,
          4.706902324584503,
          5.075417267752804,
          5.2118668989613886,
          3.6961111001633835,
          2.8150571621354956,
          3.7023440150114615,
          3.4122906362022336,
          3.0437425703872205,
          3.687638707495891,
          3.5258611669071485,
          2.3349619262184835,
          4.658999180584253,
          2.637654605510249,
          3.4317698515083133,
          3.8838290138195894,
          4.081894043561117,
          2.998607982386335,
          3.8262531569871534,
          2.177357873454084,
          2.1980164561679247,
          2.7844058067894792,
          2.908007477368049,
          2.446664661677038,
          3.582695171478691,
          2.8354155290123146,
          2.7686790801786496,
          3.314557901355244,
          2.104704183071072,
          4.136466779193001,
          3.354539425428407,
          2.409010827500107,
          3.7114566199347827,
          1.7561880849653089,
          2.188707304452652,
          4.534268201941207,
          1.870402763200566,
          2.9189068103930653,
          2.73840758040845,
          1.5521836307013828,
          2.7931873092985144,
          3.0399274103629597,
          0.7322439694524885,
          2.0885974952571544,
          2.6336608833568342,
          1.7355642031411767,
          1.7510109955457773,
          1.669323903260649,
          2.4367079260786255,
          1.868237296932976,
          1.1530381884602696,
          1.4981392500803627,
          0.7523805672650796,
          2.0205857980524256,
          1.1165707314678386,
          0.22596096432798118,
          0.6355734639512225,
          0.844416511475062,
          0.6185015391427706,
          2.438577297607842,
          2.272611613588855,
          0.5213569530959329,
          0.9768419005500271,
          1.345358967281159,
          1.5156414855841924,
          1.0176015304306643,
          0.15766563774419629,
          0.9847701182431654,
          1.385592520803153,
          0.9142459001699978,
          2.2532476812444373,
          0.2006243582814381,
          0.9904767386562129,
          0.9872820307339636,
          0.45073256890395097,
          0.6077655653106091,
          0,
          0.1223396560317116,
          0.3453829991487554,
          0.502749117278457,
          0.2741320473501843,
          0.838042059914661,
          0.8665529973458028,
          0.1194200258286707,
          0.5005819261597961,
          1.6160716387287752,
          1.026193641580155,
          0.8199715261723912,
          0.08030799692908147,
          0.42601591477971557,
          0.5409972512347734,
          1.579858747284232,
          1.7120022417503178,
          0.4676747958530938,
          0.9277796375310383,
          1.358563310026124,
          0.15584657419385306,
          0.5915075706570534,
          0.24089660049594097,
          1.0627642212636867,
          0.14290078184446364,
          0.9239455536607745,
          0,
          0.0489654833478152,
          0.254600745098293,
          0.46479674502315405,
          0.051029717030991906,
          0.288231598074123,
          0.3422709332476621,
          0.1473842351837471,
          0.15233964862310923,
          0.6074003216740345
         ]
        }
       ],
       "layout": {
        "template": {
         "data": {
          "bar": [
           {
            "error_x": {
             "color": "#2a3f5f"
            },
            "error_y": {
             "color": "#2a3f5f"
            },
            "marker": {
             "line": {
              "color": "#E5ECF6",
              "width": 0.5
             }
            },
            "type": "bar"
           }
          ],
          "barpolar": [
           {
            "marker": {
             "line": {
              "color": "#E5ECF6",
              "width": 0.5
             }
            },
            "type": "barpolar"
           }
          ],
          "carpet": [
           {
            "aaxis": {
             "endlinecolor": "#2a3f5f",
             "gridcolor": "white",
             "linecolor": "white",
             "minorgridcolor": "white",
             "startlinecolor": "#2a3f5f"
            },
            "baxis": {
             "endlinecolor": "#2a3f5f",
             "gridcolor": "white",
             "linecolor": "white",
             "minorgridcolor": "white",
             "startlinecolor": "#2a3f5f"
            },
            "type": "carpet"
           }
          ],
          "choropleth": [
           {
            "colorbar": {
             "outlinewidth": 0,
             "ticks": ""
            },
            "type": "choropleth"
           }
          ],
          "contour": [
           {
            "colorbar": {
             "outlinewidth": 0,
             "ticks": ""
            },
            "colorscale": [
             [
              0,
              "#0d0887"
             ],
             [
              0.1111111111111111,
              "#46039f"
             ],
             [
              0.2222222222222222,
              "#7201a8"
             ],
             [
              0.3333333333333333,
              "#9c179e"
             ],
             [
              0.4444444444444444,
              "#bd3786"
             ],
             [
              0.5555555555555556,
              "#d8576b"
             ],
             [
              0.6666666666666666,
              "#ed7953"
             ],
             [
              0.7777777777777778,
              "#fb9f3a"
             ],
             [
              0.8888888888888888,
              "#fdca26"
             ],
             [
              1,
              "#f0f921"
             ]
            ],
            "type": "contour"
           }
          ],
          "contourcarpet": [
           {
            "colorbar": {
             "outlinewidth": 0,
             "ticks": ""
            },
            "type": "contourcarpet"
           }
          ],
          "heatmap": [
           {
            "colorbar": {
             "outlinewidth": 0,
             "ticks": ""
            },
            "colorscale": [
             [
              0,
              "#0d0887"
             ],
             [
              0.1111111111111111,
              "#46039f"
             ],
             [
              0.2222222222222222,
              "#7201a8"
             ],
             [
              0.3333333333333333,
              "#9c179e"
             ],
             [
              0.4444444444444444,
              "#bd3786"
             ],
             [
              0.5555555555555556,
              "#d8576b"
             ],
             [
              0.6666666666666666,
              "#ed7953"
             ],
             [
              0.7777777777777778,
              "#fb9f3a"
             ],
             [
              0.8888888888888888,
              "#fdca26"
             ],
             [
              1,
              "#f0f921"
             ]
            ],
            "type": "heatmap"
           }
          ],
          "heatmapgl": [
           {
            "colorbar": {
             "outlinewidth": 0,
             "ticks": ""
            },
            "colorscale": [
             [
              0,
              "#0d0887"
             ],
             [
              0.1111111111111111,
              "#46039f"
             ],
             [
              0.2222222222222222,
              "#7201a8"
             ],
             [
              0.3333333333333333,
              "#9c179e"
             ],
             [
              0.4444444444444444,
              "#bd3786"
             ],
             [
              0.5555555555555556,
              "#d8576b"
             ],
             [
              0.6666666666666666,
              "#ed7953"
             ],
             [
              0.7777777777777778,
              "#fb9f3a"
             ],
             [
              0.8888888888888888,
              "#fdca26"
             ],
             [
              1,
              "#f0f921"
             ]
            ],
            "type": "heatmapgl"
           }
          ],
          "histogram": [
           {
            "marker": {
             "colorbar": {
              "outlinewidth": 0,
              "ticks": ""
             }
            },
            "type": "histogram"
           }
          ],
          "histogram2d": [
           {
            "colorbar": {
             "outlinewidth": 0,
             "ticks": ""
            },
            "colorscale": [
             [
              0,
              "#0d0887"
             ],
             [
              0.1111111111111111,
              "#46039f"
             ],
             [
              0.2222222222222222,
              "#7201a8"
             ],
             [
              0.3333333333333333,
              "#9c179e"
             ],
             [
              0.4444444444444444,
              "#bd3786"
             ],
             [
              0.5555555555555556,
              "#d8576b"
             ],
             [
              0.6666666666666666,
              "#ed7953"
             ],
             [
              0.7777777777777778,
              "#fb9f3a"
             ],
             [
              0.8888888888888888,
              "#fdca26"
             ],
             [
              1,
              "#f0f921"
             ]
            ],
            "type": "histogram2d"
           }
          ],
          "histogram2dcontour": [
           {
            "colorbar": {
             "outlinewidth": 0,
             "ticks": ""
            },
            "colorscale": [
             [
              0,
              "#0d0887"
             ],
             [
              0.1111111111111111,
              "#46039f"
             ],
             [
              0.2222222222222222,
              "#7201a8"
             ],
             [
              0.3333333333333333,
              "#9c179e"
             ],
             [
              0.4444444444444444,
              "#bd3786"
             ],
             [
              0.5555555555555556,
              "#d8576b"
             ],
             [
              0.6666666666666666,
              "#ed7953"
             ],
             [
              0.7777777777777778,
              "#fb9f3a"
             ],
             [
              0.8888888888888888,
              "#fdca26"
             ],
             [
              1,
              "#f0f921"
             ]
            ],
            "type": "histogram2dcontour"
           }
          ],
          "mesh3d": [
           {
            "colorbar": {
             "outlinewidth": 0,
             "ticks": ""
            },
            "type": "mesh3d"
           }
          ],
          "parcoords": [
           {
            "line": {
             "colorbar": {
              "outlinewidth": 0,
              "ticks": ""
             }
            },
            "type": "parcoords"
           }
          ],
          "pie": [
           {
            "automargin": true,
            "type": "pie"
           }
          ],
          "scatter": [
           {
            "marker": {
             "colorbar": {
              "outlinewidth": 0,
              "ticks": ""
             }
            },
            "type": "scatter"
           }
          ],
          "scatter3d": [
           {
            "line": {
             "colorbar": {
              "outlinewidth": 0,
              "ticks": ""
             }
            },
            "marker": {
             "colorbar": {
              "outlinewidth": 0,
              "ticks": ""
             }
            },
            "type": "scatter3d"
           }
          ],
          "scattercarpet": [
           {
            "marker": {
             "colorbar": {
              "outlinewidth": 0,
              "ticks": ""
             }
            },
            "type": "scattercarpet"
           }
          ],
          "scattergeo": [
           {
            "marker": {
             "colorbar": {
              "outlinewidth": 0,
              "ticks": ""
             }
            },
            "type": "scattergeo"
           }
          ],
          "scattergl": [
           {
            "marker": {
             "colorbar": {
              "outlinewidth": 0,
              "ticks": ""
             }
            },
            "type": "scattergl"
           }
          ],
          "scattermapbox": [
           {
            "marker": {
             "colorbar": {
              "outlinewidth": 0,
              "ticks": ""
             }
            },
            "type": "scattermapbox"
           }
          ],
          "scatterpolar": [
           {
            "marker": {
             "colorbar": {
              "outlinewidth": 0,
              "ticks": ""
             }
            },
            "type": "scatterpolar"
           }
          ],
          "scatterpolargl": [
           {
            "marker": {
             "colorbar": {
              "outlinewidth": 0,
              "ticks": ""
             }
            },
            "type": "scatterpolargl"
           }
          ],
          "scatterternary": [
           {
            "marker": {
             "colorbar": {
              "outlinewidth": 0,
              "ticks": ""
             }
            },
            "type": "scatterternary"
           }
          ],
          "surface": [
           {
            "colorbar": {
             "outlinewidth": 0,
             "ticks": ""
            },
            "colorscale": [
             [
              0,
              "#0d0887"
             ],
             [
              0.1111111111111111,
              "#46039f"
             ],
             [
              0.2222222222222222,
              "#7201a8"
             ],
             [
              0.3333333333333333,
              "#9c179e"
             ],
             [
              0.4444444444444444,
              "#bd3786"
             ],
             [
              0.5555555555555556,
              "#d8576b"
             ],
             [
              0.6666666666666666,
              "#ed7953"
             ],
             [
              0.7777777777777778,
              "#fb9f3a"
             ],
             [
              0.8888888888888888,
              "#fdca26"
             ],
             [
              1,
              "#f0f921"
             ]
            ],
            "type": "surface"
           }
          ],
          "table": [
           {
            "cells": {
             "fill": {
              "color": "#EBF0F8"
             },
             "line": {
              "color": "white"
             }
            },
            "header": {
             "fill": {
              "color": "#C8D4E3"
             },
             "line": {
              "color": "white"
             }
            },
            "type": "table"
           }
          ]
         },
         "layout": {
          "annotationdefaults": {
           "arrowcolor": "#2a3f5f",
           "arrowhead": 0,
           "arrowwidth": 1
          },
          "autotypenumbers": "strict",
          "coloraxis": {
           "colorbar": {
            "outlinewidth": 0,
            "ticks": ""
           }
          },
          "colorscale": {
           "diverging": [
            [
             0,
             "#8e0152"
            ],
            [
             0.1,
             "#c51b7d"
            ],
            [
             0.2,
             "#de77ae"
            ],
            [
             0.3,
             "#f1b6da"
            ],
            [
             0.4,
             "#fde0ef"
            ],
            [
             0.5,
             "#f7f7f7"
            ],
            [
             0.6,
             "#e6f5d0"
            ],
            [
             0.7,
             "#b8e186"
            ],
            [
             0.8,
             "#7fbc41"
            ],
            [
             0.9,
             "#4d9221"
            ],
            [
             1,
             "#276419"
            ]
           ],
           "sequential": [
            [
             0,
             "#0d0887"
            ],
            [
             0.1111111111111111,
             "#46039f"
            ],
            [
             0.2222222222222222,
             "#7201a8"
            ],
            [
             0.3333333333333333,
             "#9c179e"
            ],
            [
             0.4444444444444444,
             "#bd3786"
            ],
            [
             0.5555555555555556,
             "#d8576b"
            ],
            [
             0.6666666666666666,
             "#ed7953"
            ],
            [
             0.7777777777777778,
             "#fb9f3a"
            ],
            [
             0.8888888888888888,
             "#fdca26"
            ],
            [
             1,
             "#f0f921"
            ]
           ],
           "sequentialminus": [
            [
             0,
             "#0d0887"
            ],
            [
             0.1111111111111111,
             "#46039f"
            ],
            [
             0.2222222222222222,
             "#7201a8"
            ],
            [
             0.3333333333333333,
             "#9c179e"
            ],
            [
             0.4444444444444444,
             "#bd3786"
            ],
            [
             0.5555555555555556,
             "#d8576b"
            ],
            [
             0.6666666666666666,
             "#ed7953"
            ],
            [
             0.7777777777777778,
             "#fb9f3a"
            ],
            [
             0.8888888888888888,
             "#fdca26"
            ],
            [
             1,
             "#f0f921"
            ]
           ]
          },
          "colorway": [
           "#636efa",
           "#EF553B",
           "#00cc96",
           "#ab63fa",
           "#FFA15A",
           "#19d3f3",
           "#FF6692",
           "#B6E880",
           "#FF97FF",
           "#FECB52"
          ],
          "font": {
           "color": "#2a3f5f"
          },
          "geo": {
           "bgcolor": "white",
           "lakecolor": "white",
           "landcolor": "#E5ECF6",
           "showlakes": true,
           "showland": true,
           "subunitcolor": "white"
          },
          "hoverlabel": {
           "align": "left"
          },
          "hovermode": "closest",
          "mapbox": {
           "style": "light"
          },
          "paper_bgcolor": "white",
          "plot_bgcolor": "#E5ECF6",
          "polar": {
           "angularaxis": {
            "gridcolor": "white",
            "linecolor": "white",
            "ticks": ""
           },
           "bgcolor": "#E5ECF6",
           "radialaxis": {
            "gridcolor": "white",
            "linecolor": "white",
            "ticks": ""
           }
          },
          "scene": {
           "xaxis": {
            "backgroundcolor": "#E5ECF6",
            "gridcolor": "white",
            "gridwidth": 2,
            "linecolor": "white",
            "showbackground": true,
            "ticks": "",
            "zerolinecolor": "white"
           },
           "yaxis": {
            "backgroundcolor": "#E5ECF6",
            "gridcolor": "white",
            "gridwidth": 2,
            "linecolor": "white",
            "showbackground": true,
            "ticks": "",
            "zerolinecolor": "white"
           },
           "zaxis": {
            "backgroundcolor": "#E5ECF6",
            "gridcolor": "white",
            "gridwidth": 2,
            "linecolor": "white",
            "showbackground": true,
            "ticks": "",
            "zerolinecolor": "white"
           }
          },
          "shapedefaults": {
           "line": {
            "color": "#2a3f5f"
           }
          },
          "ternary": {
           "aaxis": {
            "gridcolor": "white",
            "linecolor": "white",
            "ticks": ""
           },
           "baxis": {
            "gridcolor": "white",
            "linecolor": "white",
            "ticks": ""
           },
           "bgcolor": "#E5ECF6",
           "caxis": {
            "gridcolor": "white",
            "linecolor": "white",
            "ticks": ""
           }
          },
          "title": {
           "x": 0.05
          },
          "xaxis": {
           "automargin": true,
           "gridcolor": "white",
           "linecolor": "white",
           "ticks": "",
           "title": {
            "standoff": 15
           },
           "zerolinecolor": "white",
           "zerolinewidth": 2
          },
          "yaxis": {
           "automargin": true,
           "gridcolor": "white",
           "linecolor": "white",
           "ticks": "",
           "title": {
            "standoff": 15
           },
           "zerolinecolor": "white",
           "zerolinewidth": 2
          }
         }
        }
       }
      },
      "text/html": [
       "<div>                            <div id=\"e09a443b-4bbd-4373-8cf5-55fdf16b8fa6\" class=\"plotly-graph-div\" style=\"height:525px; width:100%;\"></div>            <script type=\"text/javascript\">                require([\"plotly\"], function(Plotly) {                    window.PLOTLYENV=window.PLOTLYENV || {};                                    if (document.getElementById(\"e09a443b-4bbd-4373-8cf5-55fdf16b8fa6\")) {                    Plotly.newPlot(                        \"e09a443b-4bbd-4373-8cf5-55fdf16b8fa6\",                        [{\"mode\": \"markers\", \"text\": [\"Fernando Tatis Jr.\", \"Vladimir Guerrero Jr.\", \"Juan Soto\", \"Shohei Ohtani\", \"Jos\\u00e9 Ram\\u00edrez\", \"Aaron Judge\", \"Trea Turner\", \"Bo Bichette\", \"Rafael Devers\", \"Bryce Harper\", \"Ronald Acu\\u00f1a Jr.\", \"Freddie Freeman\", \"Mike Trout\", \"Pete Alonso\", \"Kyle Tucker\", \"Luis Robert\", \"Yordan Alvarez\", \"Salvador Perez\", \"Manny Machado\", \"Mookie Betts\", \"Matt Olson\", \"Ozzie Albies\", \"Giancarlo Stanton\", \"Tyler O'Neill\", \"Paul Goldschmidt\", \"Teoscar Hern\\u00e1ndez\", \"Austin Riley\", \"George Springer\", \"Tim Anderson\", \"Franmil Reyes\", \"Byron Buxton\", \"Cedric Mullins\", \"J.D. Martinez\", \"Nolan Arenado\", \"Eloy Jim\\u00e9nez\", \"Adalberto Mondesi\", \"Xander Bogaerts\", \"Jared Walsh\", \"Marcus Semien\", \"Nick Castellanos\", \"Wander Franco\", \"Francisco Lindor\", \"Jos\\u00e9 Abreu\", \"Randy Arozarena\", \"Gleyber Torres\", \"Jose Altuve\", \"Carlos Correa\", \"Trevor Story\", \"Bobby Witt Jr.\", \"Bryan Reynolds\", \"Josh Bell\", \"Ryan Mountcastle\", \"Starling Marte\", \"Corey Seager\", \"Alex Bregman\", \"Nelson Cruz\", \"Christian Yelich\", \"Joey Gallo\", \"C.J. Cron\", \"Jorge Polanco\", \"Whit Merrifield\", \"Ketel Marte\", \"Rhys Hoskins\", \"Jesse Winker\", \"Eddie Rosario\", \"J.T. Realmuto\", \"Will Smith\", \"Joey Votto\", \"Brandon Lowe\", \"Kyle Schwarber\", \"Spencer Torkelson\", \"Ian Happ\", \"Yasmani Grandal\", \"Marcell Ozuna\", \"Max Muncy\", \"Jorge Soler\", \"Ty France\", \"Anthony Rizzo\", \"Josh Donaldson\", \"Lourdes Gurriel Jr.\", \"DJ LeMahieu\", \"Miguel San\\u00f3\", \"Cody Bellinger\", \"Jonathan India\", \"Javier B\\u00e1ez\", \"Trey Mancini\", \"Hunter Renfroe\", \"Frank Schwindel\", \"Avisa\\u00edl Garc\\u00eda\", \"Mitch Haniger\", \"Alex Verdugo\", \"Justin Turner\", \"Austin Meadows\", \"Tommy Edman\", \"Bobby Dalbec\", \"Nathaniel Lowe\", \"Adam Duvall\", \"Michael Conforto\", \"Trent Grisham\", \"Austin Hays\", \"Oneil Cruz\", \"Luke Voit\", \"Anthony Rendon\", \"Yo\\u00e1n Moncada\", \"Kris Bryant\", \"Yuli Gurriel\", \"Dansby Swanson\", \"Eric Hosmer\", \"Enrique Hern\\u00e1ndez\", \"Willy Adames\", \"AJ Pollock\", \"Tommy Pham\", \"Daulton Varsho\", \"Adolis Garc\\u00eda\", \"Willson Contreras\", \"Jake Cronenworth\", \"Akil Baddoo\", \"Travis d'Arnaud\", \"Jazz Chisholm Jr.\", \"Ryan McMahon\", \"Charlie Blackmon\", \"Jonathan Schoop\", \"Anthony Santander\", \"Brendan Rodgers\", \"Wil Myers\", \"Andrew Benintendi\", \"Jean Segura\", \"Harrison Bader\", \"Amed Rosario\", \"Chris Taylor\", \"Ke'Bryan Hayes\", \"Dylan Carlson\", \"Jes\\u00fas S\\u00e1nchez\", \"Keibert Ruiz\", \"Ram\\u00f3n Laureano\", \"Luis Arraez\", \"Michael Brantley\", \"Max Kepler\", \"Luis Ur\\u00edas\", \"Willie Calhoun\", \"Kolten Wong\", \"Gio Urshela\", \"Jo Adell\", \"Matt Chapman\", \"Jarred Kelenic\", \"Jeimer Candelario\", \"Brandon Crawford\", \"Alejandro Kirk\", \"Brandon Belt\", \"Brandon Nimmo\", \"Robbie Grossman\", \"Adley Rutschman\", \"Andrew McCutchen\", \"David Fletcher\", \"Patrick Wisdom\", \"Lorenzo Cain\", \"Manuel Margot\", \"Yandy D\\u00edaz\", \"Jes\\u00fas Aguilar\", \"Tyler Stephenson\", \"Joc Pederson\", \"Nick Madrigal\", \"Alex Kirilloff\", \"Eugenio Su\\u00e1rez\", \"J.P. Crawford\", \"Randal Grichuk\", \"Eduardo Escobar\", \"Danny Jansen\", \"Mark Canha\", \"Raimel Tapia\", \"Mike Yastrzemski\", \"Jarren Duran\", \"Tyler Naquin\", \"Sean Murphy\", \"Andrew Vaughn\", \"Mitch Garver\", \"Orlando Arcia\", \"Gavin Sheets\", \"Yoshi Tsutsugo\", \"Kyle Lewis\", \"Nico Hoerner\", \"Myles Straw\", \"Aaron Hicks\", \"Nicky Lopez\", \"Rowdy Tellez\", \"Andr\\u00e9s Gim\\u00e9nez\", \"Alec Bohm\", \"Gary S\\u00e1nchez\", \"Miguel Rojas\", \"Lane Thomas\", \"Seth Brown\", \"Jose Miranda\", \"Rafael Ortega\", \"David Peralta\", \"Bobby Bradley\", \"Bryan De La Cruz\", \"Chad Pinder\", \"Josh Jung\", \"Matt Vierling\", \"LaMonte Wade Jr.\", \"Tommy La Stella\", \"Carson Kelly\", \"Yadier Molina\", \"Miguel Cabrera\", \"Elias D\\u00edaz\", \"Michael A. Taylor\", \"Santiago Espinal\", \"Jonathan Villar\", \"Tony Kemp\", \"Adam Frazier\", \"C\\u00e9sar Hern\\u00e1ndez\", \"Didi Gregorius\", \"Josh Rojas\", \"Max Stassi\", \"Abraham Toro\", \"Garrett Hampson\", \"Josh Harrison\", \"Christian V\\u00e1zquez\", \"Cavan Biggio\", \"Evan Longoria\", \"Jake Meyers\", \"Carter Kieboom\", \"Kyle Farmer\", \"Jorge Alfaro\", \"Paul DeJong\", \"Mike Zunino\", \"Brandon Marsh\", \"Kyle Isbel\", \"Stephen Piscotty\", \"Corey Dickerson\", \"Omar Narv\\u00e1ez\", \"Hunter Dozier\", \"Sam Hilliard\", \"Ram\\u00f3n Ur\\u00edas\", \"Jos\\u00e9 Iglesias\", \"Anthony Alford\", \"Jacob Stallings\", \"Jurickson Profar\", \"Kole Calhoun\", \"Roberto P\\u00e9rez\", \"Connor Joe\", \"Kevin Kiermaier\", \"Ji-Man Choi\", \"Luis Garc\\u00eda\", \"Jeff McNeil\", \"Jeremy Pe\\u00f1a\", \"Mike Moustakas\", \"Jonah Heim\", \"Mitch Moreland\", \"Yadiel Hernandez\", \"James McCann\", \"Brian Anderson\", \"Austin Hedges\", \"Ben Gamel\", \"Nick Solak\", \"Steven Kwan\", \"Pavin Smith\", \"Mart\\u00edn Maldonado\", \"Andrelton Simmons\", \"Jake Fraley\", \"Eric Haase\", \"Austin Nola\", \"Robinson Can\\u00f3\", \"Jed Lowrie\", \"Elvis Andrus\", \"Joey Bart\", \"Carlos Santana\", \"Luis Torrens\", \"Brad Miller\", \"Michael Chavis\", \"Cal Raleigh\", \"Kevin Smith\", \"Leury Garc\\u00eda\", \"Darin Ruf\", \"Kevin Plawecki\", \"Christian Walker\", \"Adam Haseley\", \"Austin Allen\", \"Nick Ahmed\", \"Alcides Escobar\", \"Tyrone Taylor\", \"Gregory Polanco\", \"Yan Gomes\", \"Francisco Mej\\u00eda\", \"Jason Heyward\", \"Donovan Solano\", \"Manny Pi\\u00f1a\", \"Tucker Barnhart\", \"Jose Trevino\", \"Kyle Higashioka\", \"Adam Engel\", \"Wilmer Flores\", \"Taylor Walls\", \"Kevin Newman\", \"Rougned Odor\", \"TJ Friedl\", \"Dexter Fowler\", \"Justin Upton\", \"Aledmys D\\u00edaz\", \"Kelvin Gutierrez\", \"Ha-Seong Kim\", \"Od\\u00fabel Herrera\", \"Tom Murphy\", \"Victor Robles\", \"Alex Dickerson\", \"Trevor Larnach\", \"Alan Trejo\", \"Pedro Severino\", \"Aristides Aquino\", \"Dylan Moore\", \"Joey Wendle\", \"Jordan Luplow\", \"Edmundo Sosa\", \"Victor Caratini\", \"Riley Adams\", \"Brett Gardner\", \"Andy Ib\\u00e1\\u00f1ez\", \"Jorge Mateo\", \"Wilson Ramos\", \"Dom Nu\\u00f1ez\", \"Jake McCarthy\", \"Tyler Wade\", \"Colin Moran\", \"Cooper Hummel\", \"Isiah Kiner-Falefa\", \"Mickey Moniak\", \"Gavin Lux\", \"Ryan Jeffers\", \"Steven Duggar\", \"Jackie Bradley Jr.\", \"Kevin Pillar\", \"Bradley Zimmer\", \"Ryan Zimmerman\", \"Curt Casali\", \"Austin Slater\", \"Marwin Gonzalez\", \"MJ Melendez\", \"Bryson Stott\", \"Colton Welker\", \"Nick Pratto\", \"Austin Barnes\", \"Garrett Cooper\", \"Josh Naylor\", \"Brent Rooker\", \"Seth Beer\", \"Stephen Vogt\", \"Oscar Mercado\", \"Andrew Knizner\", \"Victor Reyes\", \"Tom\\u00e1s Nido\", \"Yonathan Daza\", \"Nick Fortes\", \"Chas McCormick\", \"Starlin Castro\", \"Yoenis C\\u00e9spedes\", \"Lewin D\\u00edaz\", \"Riley Greene\", \"Jason Castro\", \"Khris Davis\", \"Kurt Suzuki\", \"Jose Siri\", \"Andrew Stevenson\", \"Albert Pujols\", \"Josh VanMeter\", \"Mike Brosseau\", \"Shed Long Jr.\", \"Matt Beaty\", \"Nomar Mazara\", \"Austin Romine\", \"Danny Santana\", \"Nolan Jones\", \"Michael Perez\", \"Thairo Estrada\", \"J.D. Davis\", \"Sandy Le\\u00f3n\", \"Robinson Chirinos\", \"Matt Duffy\", \"Cole Tucker\", \"Harold Ramirez\", \"Andrew Knapp\", \"Evan White\", \"Asdr\\u00fabal Cabrera\", \"Luis Rengifo\", \"Christian Arroyo\", \"Justin Smoak\", \"Cam Gallagher\", \"Lars Nootbaar\", \"Brett Phillips\", \"Luke Williams\", \"Yu Chang\", \"Phil Gosselin\", \"Seby Zavala\", \"Zack Collins\", \"Ian Desmond\", \"Garrett Stubbs\", \"Ronald Guzm\\u00e1n\", \"Adam Eaton\", \"Bryan Lavastida\", \"DJ Stewart\", \"Cody Thomas\", \"Travis Shaw\", \"Jake Marisnick\", \"Lewis Brinson\", \"Reese McGuire\", \"Dominic Smith\", \"Ben Rortvedt\", \"Luke Maile\", \"Leody Taveras\", \"Alek Thomas\", \"Aaron Altherr\", \"Derek Hill\", \"Clint Frazier\", \"Estevan Florial\", \"Nick Gordon\", \"Nick Senzel\", \"Monte Harrison\", \"Jarrod Dyson\", \"Jake Lamb\", \"Johan Camargo\", \"Jake Rogers\", \"Anthony Bemboom\", \"Daniel Vogelbach\", \"Matt Thaiss\", \"Cristian Pache\", \"Niko Goodrum\", \"Nick Allen\", \"Greg Allen\", \"Tony Wolters\", \"Chance Sisco\", \"Vidal Bruj\\u00e1n\", \"Brock Holt\", \"Matt Carpenter\", \"Shogo Akiyama\", \"Dustin Garneau\", \"David Bote\", \"Jace Peterson\", \"Miguel And\\u00fajar\", \"Jose Lobaton\", \"Rob Refsnyder\", \"Alex Jackson\", \"Rafael Marchan\", \"Drew Butera\", \"Zach McKinstry\", \"Jose Herrera\", \"Rylan Bannon\", \"Brian Goodwin\", \"Jamie Ritchie\", \"Daz Cameron\", \"Chad Wallach\", \"Ren\\u00e9 Pinto\", \"Tim Locastro\", \"William Contreras\", \"Korey Lee\", \"Mark Kolozsvary\", \"Brett Cumberland\", \"Keston Hiura\", \"Connor Wong\", \"Triston Casas\", \"Jake Bauers\", \"Juan Lagares\", \"Patrick Mazeika\", \"Ali S\\u00e1nchez\", \"Max Schrock\", \"Michael Hermosillo\", \"Sam Huff\", \"Charlie Culberson\", \"Tres Barrera\", \"Payton Henry\", \"Rob Brantly\", \"Luis Campusano\", \"Ronald Torreyes\", \"Brian Serven\", \"Jose Barrero\", \"Luis Barrera\", \"John Nogowski\", \"Fabian Pena\", \"Guillermo Heredia\", \"Sergio Alc\\u00e1ntara\", \"Zach Reks\", \"P.J. Higgins\", \"Collin Theroux\", \"Joe Panik\", \"Steven Souza Jr.\", \"Hunter Feduccia\", \"Sebastian Rivero\", \"Ehire Adrianza\", \"Edward Olivares\", \"Chadwick Tromp\", \"Brett Sullivan\", \"Andrew Velazquez\", \"Heliot Ramos\", \"Eli White\", \"Romy Gonzalez\", \"Jack Mayfield\", \"Travis Swaggerty\", \"Danny Mendick\", \"Josh Reddick\", \"Matt Joyce\", \"Jon Berti\", \"Harold Castro\", \"Roman Quinn\", \"Nolan Gorman\", \"Eric Sogard\", \"Owen Miller\", \"Jordy Mercer\", \"Alfonso Rivas\", \"Travis Jankowski\", \"Ryan Vilade\", \"Vimael Mach\\u00edn\", \"Drew Waters\", \"Juan Yepez\", \"Jacob Nottingham\", \"Jos\\u00e9 Peraza\", \"Christin Stewart\", \"Hoy Park\", \"Mason Martin\", \"Luis Guillorme\", \"Emmanuel Rivera\", \"Billy Hamilton\", \"Drew Ellis\", \"Renato N\\u00fa\\u00f1ez\", \"Maikel Franco\", \"Chris Owings\", \"Scott Kingery\", \"Oswaldo Cabrera\", \"Luke Raley\", \"Jahmai Jones\", \"Daniel Robertson\", \"Josh Palacios\", \"Taylor Trammell\", \"Jos\\u00e9 Rond\\u00f3n\", \"Wilmer Difo\", \"Nelson Velazquez\", \"Josh Lowe\", \"Otto Lopez\", \"Jared Oliva\", \"Franchy Cordero\", \"Edwin R\\u00edos\", \"Ryan McKenna\", \"Jake Burger\", \"Jonathan Aranda\", \"Mauricio Dub\\u00f3n\", \"Richie Palacios\", \"Geraldo Perdomo\", \"Gilberto Celestino\", \"Tyler Nevin\", \"Michael Stefanic\", \"Donovan Casey\", \"Jaylin Davis\", \"Isaac Paredes\", \"Lucius Fox\", \"Isan D\\u00edaz\", \"Skye Bolt\", \"Jordan Groshans\", \"Taylor Jones\", \"Willi Castro\", \"Travis Demeritte\", \"Khalil Lee\", \"Brennen Davis\", \"Daniel Johnson\", \"Oswald Peraza\", \"Micker Adolfo\", \"Elehuris Montero\", \"Pablo Reyes\", \"Ryan O'Hearn\", \"Peyton Burdick\", \"Nick Maton\", \"Yusniel Diaz\", \"Ernie Clement\", \"Jake Cave\", \"Jason Vosler\", \"Ender Inciarte\", \"Will Benson\", \"Esteban Quiroz\", \"Stuart Fairchild\", \"Jonathan Ara\\u00faz\", \"JJ Bleday\", \"Kevin Padlo\", \"Brendan Donovan\", \"Jonathan Davis\", \"Taylor Ward\", \"Yonny Hernandez\", \"Brendon Davis\", \"Logan Warmoth\", \"Buddy Reed\", \"Kody Clemens\", \"Ryan Kreidler\", \"Tyler White\", \"Rodolfo Castro\", \"Corey Ray\", \"Kyle Garlick\", \"Buddy Kennedy\", \"Mark Vientos\", \"Greg Cullen\", \"Richie Martin\", \"Zack Short\", \"Jedd Gyorko\", \"Clay Dungan\", \"Tucupita Marcano\", \"Alex De Goti\", \"Jose Rojas\", \"Donovan Walton\", \"Diego Castillo\", \"S\\u00edmon Muzziotti\", \"Luis Liberato\", \"David Dahl\", \"Jorge O\\u00f1a\", \"Austin Dean\", \"Andrew Bechtold\", \"Pedro Leon\", \"Mario Feliciano\", \"Blake Rutherford\", \"Lane Adams\", \"Travis Blankenhorn\", \"Kyle Stowers\", \"Anderson Tejeda\", \"Jake Noll\", \"Alejo Lopez\", \"Yolbert Sanchez\", \"Kyle Holder\", \"Jake Hager\", \"Tim Lopes\", \"Adri\\u00e1n Sanchez\", \"Miles Mastrobuoni\", \"Spencer Steer\", \"Jacob Amaya\", \"Eguy Rosario\", \"Trent Giambrone\", \"Jeter Downs\", \"Andrew Young\", \"Jacob deGrom\", \"Max Scherzer\", \"Gerrit Cole\", \"Corbin Burnes\", \"Zack Wheeler\", \"Shane Bieber\", \"Brandon Woodruff\", \"Aaron Nola\", \"Justin Verlander\", \"Robbie Ray\", \"Charlie Morton\", \"Carlos Rod\\u00f3n\", \"Chris Sale\", \"Liam Hendriks\", \"Josh Hader\", \"Joe Musgrove\", \"Logan Webb\", \"Pablo L\\u00f3pez\", \"Walker Buehler\", \"Edwin D\\u00edaz\", \"Sean Manaea\", \"Sandy Alcantara\", \"Kevin Gausman\", \"Trevor Rogers\", \"Max Fried\", \"Blake Snell\", \"Aroldis Chapman\", \"Yu Darvish\", \"Jack Flaherty\", \"Shohei Ohtani\", \"Frankie Montas\", \"Raisel Iglesias\", \"Emmanuel Clase\", \"Clayton Kershaw\", \"Mike Clevinger\", \"Julio Ur\\u00edas\", \"Freddy Peralta\", \"Shane McClanahan\", \"Jos\\u00e9 Berr\\u00edos\", \"Alex Wood\", \"Ryan Pressly\", \"Lucas Giolito\", \"Taylor Rogers\", \"Nathan Eovaldi\", \"Lance Lynn\", \"Jordan Romano\", \"Luis Castillo\", \"Eduardo Rodriguez\", \"Carlos Carrasco\", \"Giovanny Gallegos\", \"Dylan Cease\", \"Framber Valdez\", \"Blake Treinen\", \"Shane Baz\", \"Chris Bassitt\", \"Lance McCullers Jr.\", \"Will Smith\", \"Andrew Kittredge\", \"Lucas Sims\", \"Michael Kopech\", \"Zac Gallen\", \"Alex Cobb\", \"David Bednar\", \"Ranger Su\\u00e1rez\", \"Steven Matz\", \"Alek Manoah\", \"Hyun Jin Ryu\", \"Camilo Doval\", \"Scott Barlow\", \"Tarik Skubal\", \"Tylor Megill\", \"Aaron Ashby\", \"Andrew Heaney\", \"Corey Knebel\", \"Gregory Soto\", \"Logan Gilbert\", \"Jordan Montgomery\", \"Garrett Whitlock\", \"Trevor Bauer\", \"Pierce Johnson\", \"Dinelson Lamet\", \"Tyler Mahle\", \"Devin Williams\", \"Matt Barnes\", \"Patrick Sandoval\", \"Jos\\u00e9 Alvarado\", \"Rowan Wick\", \"Sixto S\\u00e1nchez\", \"Yusei Kikuchi\", \"Huascar Ynoa\", \"Mark Melancon\", \"Elieser Hernandez\", \"Craig Kimbrel\", \"Pete Fairbanks\", \"Anthony Bender\", \"Tyler Wells\", \"Aaron Bummer\", \"Adam Wainwright\", \"Joe Ryan\", \"Brusdar Graterol\", \"Trevor May\", \"Ian Anderson\", \"Luis Severino\", \"Sonny Gray\", \"Seth Lugo\", \"Anthony DeSclafani\", \"Patrick Corbin\", \"Dylan Floro\", \"Jonathan Lo\\u00e1isiga\", \"Paul Sewald\", \"John Means\", \"Jake McGee\", \"Luis Garcia\", \"Dustin May\", \"Drew Rasmussen\", \"Tyler Matzek\", \"Kyle Finnegan\", \"Zach Eflin\", \"Stephen Strasburg\", \"G\\u00e9nesis Cabrera\", \"Chad Green\", \"Caleb Ferguson\", \"Mike Minor\", \"Tommy Kahnle\", \"Lou Trivino\", \"Jos\\u00e9 Quintana\", \"James Karinchak\", \"Diego Castillo\", \"Matthew Boyd\", \"Danny Duffy\", \"Jake Diekman\", \"Chris Paddack\", \"Miles Mikolas\", \"Marcus Stroman\", \"Taijuan Walker\", \"Trevor Williams\", \"Garrett Crochet\", \"Daniel Hudson\", \"Tanner Houck\", \"Jon Gray\", \"Ken Giles\", \"Alex Reyes\", \"JT Brubaker\", \"A.J. Puk\", \"Jes\\u00fas Luzardo\", \"Michael Fulmer\", \"H\\u00e9ctor Neris\", \"David Peterson\", \"Luis Garc\\u00eda\", \"Andr\\u00e9s Mu\\u00f1oz\", \"Bailey Ober\", \"Corey Kluber\", \"Sam Coonrod\", \"Richard Bleier\", \"Collin McHugh\", \"Bailey Falter\", \"Reid Detmers\", \"Jordan Hicks\", \"Luke Jackson\", \"Domingo Germ\\u00e1n\", \"Art Warren\", \"Joe Barlow\", \"Alex Vesia\", \"David Price\", \"Luis Pati\\u00f1o\", \"Jake Cousins\", \"Adbert Alzolay\", \"A.J. Minter\", \"Kirby Yates\", \"Tim Mayza\", \"Luke Weaver\", \"Matt Wisler\", \"Jake Odorizzi\", \"Tanner Scott\", \"Craig Stammen\", \"Tim Hill\", \"Nick Sandlin\", \"Brooks Raley\", \"Drew Steckenrider\", \"Brady Singer\", \"Kyle Gibson\", \"Eric Lauer\", \"Roansy Contreras\", \"Josh Taylor\", \"Emilio Pag\\u00e1n\", \"Miguel Castro\", \"Julian Merryweather\", \"JT Chargois\", \"Mike Mayers\", \"Zack Greinke\", \"Colin Poche\", \"Jorge Alcala\", \"Kendall Graveman\", \"Aaron Loup\", \"Steven Okert\", \"Mike Soroka\", \"Edward Cabrera\", \"Tanner Rainey\", \"Phil Bickford\", \"Jay Jackson\", \"Anthony Misiewicz\", \"Nick Lodolo\", \"Reynaldo L\\u00f3pez\", \"Dominic Leone\", \"Ryne Stanek\", \"Jos\\u00e9 Urquidy\", \"Chris Stratton\", \"Kenley Jansen\", \"Joe Kelly\", \"Austin Adams\", \"Brad Wieck\", \"Louis Head\", \"Ryan Thompson\", \"Matt Brash\", \"Jorge L\\u00f3pez\", \"Dane Dunning\", \"Daniel Norris\", \"Joely Rodr\\u00edguez\", \"Ryan Tepera\", \"Josh Staumont\", \"Connor Brogdon\", \"Chris Flexen\", \"Nestor Cortes\", \"Michael King\", \"Tucker Davidson\", \"James Paxton\", \"Reiver Sanmartin\", \"Nate Pearson\", \"Jake Brentz\", \"Cole Sulser\", \"James Kaprielian\", \"Chris Martin\", \"Dylan Coleman\", \"Casey Sadler\", \"Caleb Thielbar\", \"Jos\\u00e9 Leclerc\", \"David Robertson\", \"Brent Suter\", \"Cody Morris\", \"Andrew Chafin\", \"Javy Guerra\", \"Yonny Chirinos\", \"Sean Newcomb\", \"Carlos Est\\u00e9vez\", \"Jameson Taillon\", \"Tony Gonsolin\", \"Zack Littell\", \"Anthony Bass\", \"Jarl\\u00edn Garc\\u00eda\", \"Yimi Garc\\u00eda\", \"Ian Kennedy\", \"Glenn Otto\", \"Dillon Peters\", \"Derek Holland\", \"Amir Garrett\", \"Cristian Javier\", \"Sammy Long\", \"Sam Howard\", \"Heath Hembree\", \"Brandon Williamson\", \"Triston McKenzie\", \"Josh Sborz\", \"Seranthony Dom\\u00ednguez\", \"Noah Syndergaard\", \"Hunter Greene\", \"Ross Stripling\", \"Daulton Jefferies\", \"Matt Strahm\", \"Caleb Smith\", \"Sam Hentges\", \"Victor Gonz\\u00e1lez\", \"Jos\\u00e9 Quijada\", \"Phil Maton\", \"Will Harris\", \"Patrick Murphy\", \"Erik Swanson\", \"Trevor Richards\", \"Brad Hand\", \"Trevor Rosenthal\", \"Touki Toussaint\", \"Hansel Robles\", \"Nick Pivetta\", \"Zach Pop\", \"John Brebbia\", \"Sean Reid-Foley\", \"Clay Holmes\", \"Griffin Canning\", \"Tyler Duffey\", \"John King\", \"Angel Perdomo\", \"Kent Emanuel\", \"Adam Ottavino\", \"Austin Voth\", \"Codi Heuer\", \"Justin Steele\", \"Ryan Helsley\", \"Jesse Chavez\", \"Matthew Liberatore\", \"Tony Santillan\", \"Jos\\u00e9 Cisnero\", \"Mychal Givens\", \"Hunter Harvey\", \"Nick Nelson\", \"J.C. Mej\\u00eda\", \"Kyle Wright\", \"Paul Blackburn\", \"Drew Smith\", \"Tyler Rogers\", \"Jeurys Familia\", \"T.J. Zeuch\", \"Anthony Banda\", \"Trevor Stephan\", \"Ross Detwiler\", \"Junior Fern\\u00e1ndez\", \"Jonathan Hern\\u00e1ndez\", \"Ryne Nelson\", \"MacKenzie Gore\", \"Manuel Rodr\\u00edguez\", \"Sean Poppen\", \"Ryan Weathers\", \"Joe Ross\", \"Jeff Hoffman\", \"Ryan Borucki\", \"Domingo Acevedo\", \"Darwinzon Hernandez\", \"Paul Fry\", \"Nick Wittgren\", \"Nick Snyder\", \"Tony Watson\", \"Daniel Bard\", \"Dylan Lee\", \"Danny Coulombe\", \"Rafael Montero\", \"Justus Sheffield\", \"Evan Phillips\", \"Andrew Wantz\", \"Jos\\u00e9 \\u00c1lvarez\", \"Kervin Castro\", \"Lucas Luetge\", \"Anthony Castro\", \"Germ\\u00e1n M\\u00e1rquez\", \"Adam Morgan\", \"Spencer Patton\", \"Joe Mantiply\", \"Brent Honeywell Jr.\", \"Sam Moll\", \"Luis Gil\", \"T.J. McFarland\", \"Blake Cederlind\", \"J.B. Wendelken\", \"Oliver Drake\", \"Deolis Guerra\", \"Luis Cessa\", \"Jos\\u00e9 Ruiz\", \"Jalen Beeks\", \"Kyle McGowin\", \"Josh Fleming\", \"Brad Boxberger\", \"Grayson Rodriguez\", \"Brett Martin\", \"Trevor Gott\", \"Kodi Whitley\", \"Nick Mikolajchak\", \"Scott Effross\", \"Dillon Tate\", \"Josiah Gray\", \"Logan Allen\", \"Jackson Kowar\", \"Gabe Speier\", \"Jesse Hahn\", \"Michael Wacha\", \"Francisco Perez\", \"Justin Bruihl\", \"Oliver P\\u00e9rez\", \"Ethan Small\", \"Jakob Junis\", \"Jandel Gustave\", \"Dellin Betances\", \"Tommy Nance\", \"Eli Morgan\", \"Aaron Civale\", \"Joe Jim\\u00e9nez\", \"Tobias Myers\", \"Kyle Muller\", \"Scott Kazmir\", \"Ryan Sherriff\", \"Juan Minaya\", \"Taylor Widener\", \"Mitch Keller\", \"Jacob Webb\", \"Tyler Chatwood\", \"Fernando Abad\", \"Jake Reed\", \"Wandy Peralta\", \"Cade Cavalli\", \"Marco Gonzales\", \"Alex Colom\\u00e9\", \"Chaz Roe\", \"Michael Pineda\", \"Michael Rucker\", \"Jordan Yamamoto\", \"Jace Fry\", \"Hirokazu Sawamura\", \"Jimmy Lambert\", \"Cionel P\\u00e9rez\", \"Cody Stashak\", \"Sean Hjelle\", \"Austin Warren\", \"Chris Archer\", \"Sean Doolittle\", \"Casey Mize\", \"Wander Suero\", \"Paul Campbell\", \"Jovani Moran\", \"Cole Hamels\", \"Duane Underwood Jr.\", \"Merrill Kelly\", \"Kolby Allard\", \"Joe Smith\", \"Nick Mears\", \"Rafael Dolis\", \"Mart\\u00edn P\\u00e9rez\", \"Miguel Del Pozo\", \"Greg Holland\", \"Kwang Hyun Kim\", \"Ryan Hendrix\", \"Tyler Alexander\", \"Zach Thompson\", \"Dauri Moreta\", \"Shane Greene\", \"Dillon Maples\", \"Jos\\u00e9 Suarez\", \"Jordan Holloway\", \"Robert Stephenson\", \"Justin Wilson\", \"Jon Heasley\", \"Justin Anderson\", \"No\\u00e9 Ramirez\", \"Thyago Vieira\", \"Blake Parker\", \"Paolo Espino\", \"Hunter Strickland\", \"Alex Claudio\", \"Richard Rodr\\u00edguez\", \"Brad Brach\", \"Drew Smyly\", \"Kyle Tyler\", \"Kyle Funkhouser\", \"J.P. Feyereisen\", \"J.B. Bukauskas\", \"Spencer Howard\", \"Kyle Hendricks\", \"Adrian Houser\", \"Adam Cimber\", \"Tommy Hunter\", \"Wil Crowe\", \"Andrew Miller\", \"Ryan Brasier\", \"Michael Feliz\", \"Daniel Lynch\", \"Alexander Wells\", \"Matt Peacock\", \"Joel Payamps\", \"Albert Abreu\", \"Jake Woodford\", \"Ervin Santana\", \"Chad Kuhl\", \"Austin Davis\", \"Ryan Burr\", \"Cole Irvin\", \"Mason Thompson\", \"Kris Bubic\", \"Vince Velasquez\", \"Ryne Harper\", \"Blake Taylor\", \"Andre Jackson\", \"Robert Gsellman\", \"Adam Kolarek\", \"Nick Neidert\", \"Grant Holmes\", \"Alex Lange\", \"Kyle Bradish\", \"Brandon Kintzler\", \"Caleb Baragar\", \"Jason Foley\", \"Zach Plesac\", \"Brandon Workman\", \"Dennis Santana\", \"Hunter Stratton\", \"Hans Crouse\", \"Taylor Clarke\", \"Junior Guerra\", \"Demarcus Evans\", \"Josh Tomlin\", \"Tyler Clippard\", \"Matt Shoemaker\", \"Erick Fedde\", \"Sergio Romo\", \"Yency Almonte\", \"Archie Bradley\", \"Chasen Shreve\", \"Madison Bumgarner\", \"Eric Hanhold\", \"Matt Harvey\", \"Jharel Cotton\", \"Andres Machado\", \"Dakota Hudson\", \"Jimmy Herget\", \"Keegan Thompson\", \"Tanner Roark\", \"Alec Mills\", \"Dan Winkler\", \"Ryan Yarbrough\", \"Justin Dunn\", \"Cole Winn\", \"AJ Ramos\", \"Joey Krehbiel\", \"Wade Miley\", \"Tyler Beede\", \"Brad Keller\", \"Cal Quantrill\", \"Bryan Shaw\", \"Phillips Valdez\", \"Trevor Cahill\", \"Felix Bautista\", \"Brett Anderson\", \"Jaime Barr\\u00eda\", \"Corbin Martin\", \"Jordan Balazovic\", \"Johnny Cueto\", \"Garrett Richards\", \"J.A. Happ\", \"Domingo Tapia\", \"Wade LeBlanc\", \"Lewis Thorpe\", \"Tyler Kinley\", \"Tyler Anderson\", \"Dean Kremer\", \"Michael Lorenzen\", \"Jhoulys Chac\\u00edn\", \"Keegan Akin\", \"Pedro B\\u00e1ez\", \"Steve Cishek\", \"Bryan Garcia\", \"Nick Mart\\u00ednez\", \"Mike Baumann\", \"Ralph Garza Jr.\", \"Rich Hill\", \"Tyler Gilbert\", \"Josh Winder\", \"Bruce Zimmermann\", \"Ryan Rolison\", \"Zac Lowther\", \"Taylor Hearn\", \"Dylan Bundy\", \"Justin Lawrence\", \"Jake Arrieta\", \"Joey Wentz\", \"Yusmeiro Petit\", \"Carlos Hern\\u00e1ndez\", \"Jos\\u00e9 Ure\\u00f1a\", \"Randy Dobnak\", \"Lucas Gilbreath\", \"Matt Manning\", \"Josh Rogers\", \"Ryan Feltner\", \"Bryse Wilson\", \"Jordan Sheffield\", \"Austin Gomber\", \"Steven Brault\", \"Wily Peralta\", \"Peter Lambert\", \"Mike Foltynewicz\", \"Julio Teheran\", \"Matt Moore\", \"Carlos Mart\\u00ednez\", \"Aaron Sanchez\", \"Dallas Keuchel\", \"Robert Suarez\", \"Anthony Gose\", \"A.J. Alexy\", \"Chase Anderson\", \"Griffin Jax\", \"Jon Lester\", \"Dan Straily\", \"Kyle Freeland\", \"Vladimir Gutierrez\", \"Mike Fiers\", \"Zach Davies\", \"Jordan Lyles\", \"Antonio Senzatela\"], \"type\": \"scatter\", \"x\": [\"SS\", \"1B\", \"OF\", \"OF\", \"3B\", \"OF\", \"2B\", \"SS\", \"3B\", \"OF\", \"OF\", \"1B\", \"OF\", \"1B\", \"OF\", \"OF\", \"OF\", \"C\", \"3B\", \"2B\", \"1B\", \"2B\", \"OF\", \"OF\", \"1B\", \"OF\", \"3B\", \"OF\", \"SS\", \"OF\", \"OF\", \"OF\", \"OF\", \"3B\", \"OF\", \"3B\", \"SS\", \"1B\", \"2B\", \"OF\", \"3B\", \"SS\", \"1B\", \"OF\", \"2B\", \"2B\", \"SS\", \"SS\", \"SS\", \"OF\", \"1B\", \"1B\", \"OF\", \"SS\", \"3B\", \"DH\", \"OF\", \"OF\", \"1B\", \"2B\", \"2B\", \"2B\", \"1B\", \"OF\", \"OF\", \"C\", \"C\", \"1B\", \"2B\", \"1B\", \"3B\", \"2B\", \"C\", \"OF\", \"3B\", \"OF\", \"3B\", \"1B\", \"3B\", \"1B\", \"3B\", \"3B\", \"OF\", \"2B\", \"2B\", \"1B\", \"OF\", \"1B\", \"OF\", \"OF\", \"OF\", \"3B\", \"OF\", \"2B\", \"3B\", \"1B\", \"OF\", \"OF\", \"OF\", \"OF\", \"SS\", \"1B\", \"3B\", \"3B\", \"3B\", \"1B\", \"SS\", \"1B\", \"2B\", \"SS\", \"OF\", \"OF\", \"C\", \"OF\", \"C\", \"2B\", \"OF\", \"C\", \"2B\", \"3B\", \"OF\", \"2B\", \"OF\", \"2B\", \"OF\", \"OF\", \"2B\", \"OF\", \"SS\", \"3B\", \"3B\", \"OF\", \"OF\", \"C\", \"OF\", \"3B\", \"OF\", \"OF\", \"3B\", \"OF\", \"2B\", \"3B\", \"OF\", \"3B\", \"OF\", \"3B\", \"SS\", \"C\", \"1B\", \"OF\", \"OF\", \"C\", \"OF\", \"2B\", \"3B\", \"OF\", \"OF\", \"3B\", \"1B\", \"C\", \"OF\", \"2B\", \"1B\", \"3B\", \"SS\", \"OF\", \"3B\", \"C\", \"OF\", \"OF\", \"OF\", \"OF\", \"OF\", \"C\", \"1B\", \"C\", \"SS\", \"1B\", \"1B\", \"OF\", \"2B\", \"OF\", \"OF\", \"SS\", \"1B\", \"2B\", \"3B\", \"C\", \"SS\", \"OF\", \"1B\", \"3B\", \"OF\", \"OF\", \"1B\", \"OF\", \"3B\", \"3B\", \"1B\", \"1B\", \"3B\", \"C\", \"C\", \"1B\", \"C\", \"OF\", \"3B\", \"3B\", \"2B\", \"2B\", \"2B\", \"SS\", \"3B\", \"C\", \"3B\", \"2B\", \"3B\", \"C\", \"3B\", \"3B\", \"OF\", \"3B\", \"3B\", \"C\", \"SS\", \"C\", \"OF\", \"OF\", \"OF\", \"OF\", \"C\", \"3B\", \"OF\", \"3B\", \"2B\", \"OF\", \"C\", \"2B\", \"OF\", \"C\", \"1B\", \"OF\", \"1B\", \"2B\", \"2B\", \"SS\", \"3B\", \"C\", \"1B\", \"OF\", \"C\", \"3B\", \"C\", \"OF\", \"2B\", \"OF\", \"1B\", \"C\", \"SS\", \"OF\", \"C\", \"C\", \"2B\", \"2B\", \"SS\", \"C\", \"1B\", \"C\", \"3B\", \"2B\", \"C\", \"3B\", \"3B\", \"1B\", \"C\", \"1B\", \"OF\", \"C\", \"SS\", \"2B\", \"OF\", \"OF\", \"C\", \"C\", \"OF\", \"2B\", \"C\", \"C\", \"C\", \"C\", \"OF\", \"3B\", \"SS\", \"2B\", \"3B\", \"OF\", \"OF\", \"OF\", \"3B\", \"3B\", \"3B\", \"OF\", \"C\", \"OF\", \"OF\", \"OF\", \"2B\", \"C\", \"OF\", \"3B\", \"3B\", \"1B\", \"3B\", \"C\", \"C\", \"OF\", \"3B\", \"3B\", \"C\", \"C\", \"OF\", \"3B\", \"1B\", \"C\", \"SS\", \"OF\", \"2B\", \"C\", \"OF\", \"OF\", \"OF\", \"OF\", \"1B\", \"C\", \"OF\", \"3B\", \"C\", \"SS\", \"3B\", \"1B\", \"C\", \"1B\", \"1B\", \"OF\", \"1B\", \"C\", \"OF\", \"C\", \"OF\", \"C\", \"OF\", \"C\", \"OF\", \"3B\", \"OF\", \"1B\", \"OF\", \"C\", \"DH\", \"C\", \"OF\", \"OF\", \"1B\", \"3B\", \"3B\", \"2B\", \"3B\", \"OF\", \"C\", \"1B\", \"3B\", \"C\", \"2B\", \"3B\", \"C\", \"C\", \"3B\", \"2B\", \"OF\", \"C\", \"1B\", \"3B\", \"3B\", \"2B\", \"1B\", \"C\", \"OF\", \"OF\", \"3B\", \"3B\", \"3B\", \"C\", \"C\", \"SS\", \"C\", \"1B\", \"OF\", \"C\", \"OF\", \"OF\", \"3B\", \"OF\", \"OF\", \"C\", \"1B\", \"C\", \"C\", \"OF\", \"OF\", \"OF\", \"OF\", \"OF\", \"OF\", \"2B\", \"2B\", \"OF\", \"OF\", \"3B\", \"3B\", \"C\", \"C\", \"1B\", \"1B\", \"OF\", \"2B\", \"SS\", \"OF\", \"C\", \"C\", \"2B\", \"3B\", \"3B\", \"OF\", \"C\", \"3B\", \"3B\", \"OF\", \"C\", \"OF\", \"C\", \"C\", \"C\", \"3B\", \"C\", \"3B\", \"OF\", \"C\", \"OF\", \"C\", \"C\", \"OF\", \"C\", \"C\", \"C\", \"C\", \"2B\", \"C\", \"1B\", \"1B\", \"OF\", \"C\", \"C\", \"3B\", \"OF\", \"C\", \"3B\", \"C\", \"C\", \"C\", \"C\", \"3B\", \"C\", \"SS\", \"OF\", \"1B\", \"C\", \"OF\", \"2B\", \"OF\", \"C\", \"C\", \"3B\", \"OF\", \"C\", \"C\", \"3B\", \"OF\", \"C\", \"C\", \"SS\", \"OF\", \"OF\", \"3B\", \"3B\", \"OF\", \"2B\", \"OF\", \"OF\", \"3B\", \"3B\", \"OF\", \"3B\", \"3B\", \"3B\", \"3B\", \"1B\", \"OF\", \"OF\", \"SS\", \"OF\", \"3B\", \"DH\", \"3B\", \"OF\", \"3B\", \"1B\", \"3B\", \"3B\", \"OF\", \"3B\", \"1B\", \"3B\", \"OF\", \"OF\", \"3B\", \"OF\", \"2B\", \"3B\", \"OF\", \"OF\", \"3B\", \"3B\", \"OF\", \"OF\", null, \"OF\", \"1B\", \"3B\", \"OF\", \"3B\", \"2B\", \"3B\", \"2B\", \"SS\", \"OF\", \"1B\", \"2B\", \"OF\", \"OF\", \"3B\", \"SS\", \"3B\", \"OF\", \"3B\", \"1B\", \"2B\", \"OF\", \"OF\", \"OF\", \"OF\", \"SS\", \"OF\", \"3B\", \"3B\", \"1B\", \"OF\", \"2B\", \"OF\", \"3B\", \"OF\", \"3B\", \"OF\", \"OF\", \"2B\", \"OF\", \"2B\", \"OF\", \"3B\", \"2B\", \"OF\", \"OF\", \"3B\", \"3B\", \"SS\", \"OF\", \"2B\", \"SS\", \"1B\", \"3B\", \"OF\", \"OF\", \"3B\", \"3B\", \"2B\", \"SS\", \"SS\", \"3B\", \"2B\", \"2B\", \"2B\", \"3B\", \"2B\", \"2B\", \"OF\", \"OF\", \"OF\", \"DH\", \"OF\", \"3B\", \"SS\", null, \"OF\", \"OF\", \"2B\", \"OF\", \"3B\", \"1B\", \"3B\", \"2B\", \"SS\", \"2B\", \"2B\", \"2B\", \"2B\", \"3B\", \"SS\", \"3B\", \"2B\", \"2B\", \"2B\", \"SP\", \"SP\", \"SP\", \"SP\", \"SP\", \"SP\", \"SP\", \"SP\", \"SP\", \"SP\", \"SP\", \"SP\", \"SP\", \"RP\", \"RP\", \"SP\", \"SP\", \"SP\", \"SP\", \"RP\", \"SP\", \"SP\", \"SP\", \"SP\", \"SP\", \"SP\", \"RP\", \"SP\", \"SP\", \"SP\", \"SP\", \"RP\", \"RP\", \"SP\", \"SP\", \"SP\", \"SP\", \"SP\", \"SP\", \"SP\", \"RP\", \"SP\", \"RP\", \"SP\", \"SP\", \"RP\", \"SP\", \"SP\", \"SP\", \"RP\", \"SP\", \"SP\", \"RP\", \"SP\", \"SP\", \"SP\", \"RP\", \"RP\", \"RP\", \"SP\", \"SP\", \"SP\", \"RP\", \"SP\", \"SP\", \"SP\", \"SP\", \"RP\", \"RP\", \"SP\", \"SP\", \"SP\", \"SP\", \"RP\", \"RP\", \"SP\", \"SP\", \"RP\", \"SP\", \"RP\", \"RP\", \"SP\", \"RP\", \"RP\", \"SP\", \"RP\", \"RP\", \"SP\", \"SP\", \"SP\", \"RP\", \"SP\", \"RP\", \"RP\", \"RP\", \"RP\", \"RP\", \"SP\", \"SP\", \"RP\", \"RP\", \"SP\", \"SP\", \"SP\", \"RP\", \"SP\", \"SP\", \"RP\", \"RP\", \"RP\", \"SP\", \"RP\", \"SP\", \"SP\", \"SP\", \"RP\", \"RP\", \"SP\", \"SP\", \"RP\", \"RP\", \"RP\", \"SP\", \"RP\", \"RP\", \"SP\", \"RP\", \"RP\", \"SP\", \"SP\", \"RP\", \"SP\", \"SP\", \"SP\", \"SP\", \"SP\", \"RP\", \"RP\", \"SP\", \"SP\", \"RP\", \"RP\", \"SP\", \"RP\", \"SP\", \"RP\", \"RP\", \"SP\", \"RP\", \"RP\", \"SP\", \"SP\", \"RP\", \"RP\", \"RP\", \"SP\", \"SP\", \"RP\", \"RP\", \"SP\", \"RP\", \"RP\", \"RP\", \"SP\", \"SP\", \"RP\", \"SP\", \"RP\", \"RP\", \"RP\", \"SP\", \"RP\", \"SP\", \"RP\", \"RP\", \"RP\", \"RP\", \"RP\", \"RP\", \"SP\", \"SP\", \"SP\", \"SP\", \"RP\", \"RP\", \"RP\", \"RP\", \"RP\", \"RP\", \"SP\", \"RP\", \"RP\", \"RP\", \"RP\", \"RP\", \"SP\", \"SP\", \"RP\", \"RP\", \"RP\", \"RP\", \"SP\", \"SP\", \"RP\", \"RP\", \"SP\", \"RP\", \"RP\", \"RP\", \"RP\", \"RP\", \"RP\", \"RP\", \"SP\", \"RP\", \"SP\", \"RP\", \"RP\", \"RP\", \"RP\", \"RP\", \"SP\", \"SP\", \"SP\", \"SP\", \"SP\", \"SP\", \"SP\", \"RP\", \"RP\", \"SP\", \"RP\", \"RP\", \"RP\", \"RP\", \"RP\", \"RP\", \"RP\", \"RP\", \"RP\", \"RP\", \"SP\", \"RP\", \"RP\", \"SP\", \"SP\", \"RP\", \"RP\", \"RP\", \"RP\", \"RP\", \"SP\", \"SP\", \"RP\", \"RP\", \"SP\", \"SP\", \"RP\", \"RP\", \"SP\", \"SP\", \"RP\", \"RP\", \"SP\", \"SP\", \"SP\", \"SP\", \"RP\", \"RP\", \"SP\", \"RP\", \"RP\", \"RP\", \"RP\", \"RP\", \"RP\", \"RP\", \"RP\", \"RP\", \"SP\", \"RP\", \"SP\", \"RP\", \"RP\", \"RP\", \"RP\", \"SP\", \"RP\", \"RP\", \"RP\", \"RP\", \"RP\", \"RP\", \"RP\", \"SP\", \"RP\", \"RP\", \"SP\", \"SP\", \"RP\", \"RP\", \"RP\", \"RP\", \"SP\", \"SP\", \"SP\", \"RP\", \"RP\", \"RP\", \"SP\", \"RP\", \"RP\", \"RP\", \"RP\", \"RP\", \"SP\", \"SP\", \"RP\", \"RP\", \"SP\", \"SP\", \"SP\", \"RP\", \"RP\", \"RP\", \"RP\", \"RP\", \"RP\", \"RP\", \"RP\", \"RP\", \"RP\", \"RP\", \"SP\", \"RP\", \"RP\", \"RP\", \"RP\", \"RP\", \"RP\", \"SP\", \"RP\", \"RP\", \"RP\", \"SP\", \"RP\", \"SP\", \"RP\", \"RP\", \"RP\", \"RP\", \"RP\", \"RP\", \"RP\", \"RP\", \"RP\", \"SP\", \"RP\", \"SP\", \"RP\", \"RP\", \"RP\", \"RP\", \"RP\", \"RP\", \"SP\", \"SP\", \"SP\", \"RP\", \"RP\", \"SP\", \"RP\", \"RP\", \"RP\", \"SP\", \"SP\", \"RP\", \"RP\", \"RP\", \"SP\", \"SP\", \"RP\", \"RP\", \"SP\", \"SP\", \"RP\", \"RP\", \"SP\", \"SP\", \"RP\", \"RP\", \"RP\", \"RP\", \"RP\", \"SP\", \"SP\", \"RP\", \"RP\", \"SP\", \"RP\", \"SP\", \"RP\", \"RP\", \"SP\", \"RP\", \"RP\", \"SP\", \"RP\", \"SP\", \"RP\", \"SP\", \"RP\", \"RP\", \"RP\", \"SP\", \"RP\", \"SP\", \"SP\", \"RP\", \"RP\", \"RP\", \"SP\", \"RP\", \"RP\", \"SP\", \"RP\", \"SP\", \"SP\", \"RP\", \"RP\", \"RP\", \"SP\", \"RP\", \"RP\", \"RP\", \"SP\", \"RP\", \"RP\", \"RP\", \"RP\", \"SP\", \"RP\", \"RP\", \"RP\", \"RP\", \"SP\", \"RP\", \"RP\", \"RP\", \"RP\", \"SP\", \"SP\", \"SP\", \"RP\", \"RP\", \"SP\", \"RP\", \"RP\", \"RP\", \"SP\", \"SP\", \"RP\", \"RP\", \"RP\", \"SP\", \"RP\", \"SP\", \"RP\", \"RP\", \"SP\", \"RP\", \"SP\", \"SP\", \"RP\", \"RP\", \"RP\", \"RP\", \"RP\", \"SP\", \"RP\", \"RP\", \"RP\", \"RP\", \"RP\", \"RP\", \"SP\", \"RP\", \"RP\", \"RP\", \"SP\", \"RP\", \"RP\", \"RP\", \"RP\", \"RP\", \"SP\", \"SP\", \"RP\", \"RP\", \"RP\", \"RP\", \"SP\", \"RP\", \"SP\", \"RP\", \"RP\", \"SP\", \"RP\", \"SP\", \"SP\", \"SP\", \"RP\", \"SP\", \"SP\", \"SP\", \"RP\", \"RP\", \"SP\", \"RP\", \"SP\", \"SP\", \"RP\", \"RP\", \"SP\", \"RP\", \"SP\", \"SP\", \"SP\", \"SP\", \"SP\", \"SP\", \"SP\", \"RP\", \"SP\", \"SP\", \"RP\", \"SP\", \"SP\", \"SP\", \"RP\", \"SP\", \"RP\", \"RP\", \"RP\", \"SP\", \"RP\", \"RP\", \"SP\", \"SP\", \"SP\", \"SP\", \"SP\", \"SP\", \"SP\", \"SP\", \"RP\", \"SP\", \"SP\", \"RP\", \"SP\", \"SP\", \"SP\", \"RP\", \"SP\", \"SP\", \"SP\", \"SP\", \"RP\", \"SP\", \"SP\", \"SP\", \"SP\", \"SP\", \"SP\", \"SP\", \"SP\", \"SP\", \"SP\", \"RP\", \"RP\", \"SP\", \"SP\", \"SP\", \"SP\", \"SP\", \"SP\", \"SP\", \"SP\", \"SP\", \"SP\", \"SP\"], \"y\": [11.851458135277317, 8.227732333389207, 10.21947046134662, 8.132581989352033, 6.893318034250598, 6.928312049532922, 8.949332414364052, 8.34186951390577, 5.955224169691076, 7.544713011059358, 8.60090943028591, 5.062252949926746, 6.4940718321297, 4.45607431583807, 7.471544519486034, 5.782713066794103, 7.354801674782164, 6.465506540895347, 4.539166882482908, 7.01675453083868, 4.192576941108835, 6.567587454949619, 4.245306536083517, 5.919507607610751, 3.3937138005598895, 5.9249944302010285, 3.0876599298075265, 4.924965372071107, 5.5595745718798035, 4.6749354333680975, 4.123995920740399, 4.867147108301756, 4.3200723051986465, 2.476168768445238, 3.7549378411489696, 2.1975512428252317, 4.830754039689053, 2.6606776205021276, 5.248602415156416, 5.499059650778101, 2.583372772808095, 4.526222560974616, 2.7845866690387746, 4.197857755380827, 2.8277799100152814, 4.66615283262318, 3.9257908430827926, 5.470802395541975, 3.1784605300027327, 4.219354494257233, 2.5724402184908484, 1.9491058621959607, 5.0654730056207296, 4.355224778670003, 2.198435993056115, 2.9040239643102073, 4.438497742648965, 3.8030630448483245, 1.268048191315002, 4.7226115625653105, 4.68522222265198, 3.3844524251664962, 0.7356944513066566, 3.215510889089333, 2.9773566016106816, 5.263467617174312, 4.6544079597616985, 1.1788352311282564, 4.180864148806129, 1.5729515719264353, 0.0, 2.6411466366333674, 3.192908482315781, 2.6297707285886514, 1.8943228704504276, 2.9340615533463383, 0.8788137017631734, 0.8482146259890269, 0.18214999894181827, 0.7396947632928623, 0.8642895383943925, 0.8156766794889931, 3.2344398436709954, 3.7227054151556924, 3.634250995174211, 0.9197827253824824, 2.5318039202950158, 0.11167729130827508, 2.1619481338002564, 3.379052710421786, 2.322077642698941, 0.7007499291587973, 3.562255797925913, 3.173018023109877, 0.5377566932728084, 2.9845061450446835, 1.8278881828253621, 2.343666546353244, 2.027512311019649, 1.0895557926853874, 0.27616145257206237, 0.3864074102164081, 0.8538413591733136, 0.04370159029000398, 2.6274705333647885, 1.7177604790517482, 2.1886666065800076, 1.7665599773643605, 1.210525795944748, 1.9456397621809742, 2.471023835501972, 3.189536186867025, 2.121444909955347, 2.4923094311018468, 0.8920222947302623, 1.7815457484364747, 0.4882930458485317, 2.2077937436052366, 1.7744317746881488, 1.3038903550321024, 1.0249658310341068, 0.8823728218196019, 1.8080807236406162, 1.7203888404263408, 0.915410679103918, 2.0083948588054255, 0.29944122043059895, 1.8993404771887201, 0.47013388248895094, 2.2214370551950435, 1.6407974284044933, 0.9865209537178319, 1.5094140947142725, 1.1349674173823319, 0.8176170463928791, 1.2769266139248319, 0.6235727373692166, 0.0, 0.2211568277746121, 1.3187429356919687, 1.5256428688891877, 0.6244430115714321, 0.33299248822640015, 0.0, 0.8444838640302015, 0.3642186525806035, 0.18632904021386154, 0.3501271535668655, 0.8407493289230406, 0.6256517225518108, 1.6869206792930371, 0.795852992158367, 0.012404119315283069, 0.2070570475276341, 0.5699553852333406, 1.2667054437233416, 0.42406894504008363, 0.0, 0.039193964655443114, 0.10124475441664993, 7.8027378098866125, 7.045823621804546, 8.703586595876287, 6.4776628870111, 5.533365575089601, 5.883337851381537, 5.2260103137971665, 4.706902324584503, 5.075417267752804, 5.2118668989613886, 3.6961111001633835, 2.8150571621354956, 3.7023440150114615, 3.4122906362022336, 3.0437425703872205, 3.687638707495891, 3.5258611669071485, 2.3349619262184835, 4.658999180584253, 2.637654605510249, 3.4317698515083133, 3.8838290138195894, 4.081894043561117, 2.998607982386335, 3.8262531569871534, 2.177357873454084, 2.1980164561679247, 2.7844058067894792, 2.908007477368049, 2.446664661677038, 3.582695171478691, 2.8354155290123146, 2.7686790801786496, 3.314557901355244, 2.104704183071072, 4.136466779193001, 3.354539425428407, 2.409010827500107, 3.7114566199347827, 1.7561880849653089, 2.188707304452652, 4.534268201941207, 1.870402763200566, 2.9189068103930653, 2.73840758040845, 1.5521836307013828, 2.7931873092985144, 3.0399274103629597, 0.7322439694524885, 2.0885974952571544, 2.6336608833568342, 1.7355642031411767, 1.7510109955457773, 1.669323903260649, 2.4367079260786255, 1.868237296932976, 1.1530381884602696, 1.4981392500803627, 0.7523805672650796, 2.0205857980524256, 1.1165707314678386, 0.22596096432798118, 0.6355734639512225, 0.844416511475062, 0.6185015391427706, 2.438577297607842, 2.272611613588855, 0.5213569530959329, 0.9768419005500271, 1.345358967281159, 1.5156414855841924, 1.0176015304306643, 0.15766563774419629, 0.9847701182431654, 1.385592520803153, 0.9142459001699978, 2.2532476812444373, 0.2006243582814381, 0.9904767386562129, 0.9872820307339636, 0.45073256890395097, 0.6077655653106091, 0.0, 0.1223396560317116, 0.3453829991487554, 0.502749117278457, 0.2741320473501843, 0.838042059914661, 0.8665529973458028, 0.1194200258286707, 0.5005819261597961, 1.6160716387287752, 1.026193641580155, 0.8199715261723912, 0.08030799692908147, 0.42601591477971557, 0.5409972512347734, 1.579858747284232, 1.7120022417503178, 0.4676747958530938, 0.9277796375310383, 1.358563310026124, 0.15584657419385306, 0.5915075706570534, 0.24089660049594097, 1.0627642212636867, 0.14290078184446364, 0.9239455536607745, 0.0, 0.0489654833478152, 0.254600745098293, 0.46479674502315405, 0.051029717030991906, 0.288231598074123, 0.3422709332476621, 0.1473842351837471, 0.15233964862310923, 0.6074003216740345]}],                        {\"template\": {\"data\": {\"bar\": [{\"error_x\": {\"color\": \"#2a3f5f\"}, \"error_y\": {\"color\": \"#2a3f5f\"}, \"marker\": {\"line\": {\"color\": \"#E5ECF6\", \"width\": 0.5}}, \"type\": \"bar\"}], \"barpolar\": [{\"marker\": {\"line\": {\"color\": \"#E5ECF6\", \"width\": 0.5}}, \"type\": \"barpolar\"}], \"carpet\": [{\"aaxis\": {\"endlinecolor\": \"#2a3f5f\", \"gridcolor\": \"white\", \"linecolor\": \"white\", \"minorgridcolor\": \"white\", \"startlinecolor\": \"#2a3f5f\"}, \"baxis\": {\"endlinecolor\": \"#2a3f5f\", \"gridcolor\": \"white\", \"linecolor\": \"white\", \"minorgridcolor\": \"white\", \"startlinecolor\": \"#2a3f5f\"}, \"type\": \"carpet\"}], \"choropleth\": [{\"colorbar\": {\"outlinewidth\": 0, \"ticks\": \"\"}, \"type\": \"choropleth\"}], \"contour\": [{\"colorbar\": {\"outlinewidth\": 0, \"ticks\": \"\"}, \"colorscale\": [[0.0, \"#0d0887\"], [0.1111111111111111, \"#46039f\"], [0.2222222222222222, \"#7201a8\"], [0.3333333333333333, \"#9c179e\"], [0.4444444444444444, \"#bd3786\"], [0.5555555555555556, \"#d8576b\"], [0.6666666666666666, \"#ed7953\"], [0.7777777777777778, \"#fb9f3a\"], [0.8888888888888888, \"#fdca26\"], [1.0, \"#f0f921\"]], \"type\": \"contour\"}], \"contourcarpet\": [{\"colorbar\": {\"outlinewidth\": 0, \"ticks\": \"\"}, \"type\": \"contourcarpet\"}], \"heatmap\": [{\"colorbar\": {\"outlinewidth\": 0, \"ticks\": \"\"}, \"colorscale\": [[0.0, \"#0d0887\"], [0.1111111111111111, \"#46039f\"], [0.2222222222222222, \"#7201a8\"], [0.3333333333333333, \"#9c179e\"], [0.4444444444444444, \"#bd3786\"], [0.5555555555555556, \"#d8576b\"], [0.6666666666666666, \"#ed7953\"], [0.7777777777777778, \"#fb9f3a\"], [0.8888888888888888, \"#fdca26\"], [1.0, \"#f0f921\"]], \"type\": \"heatmap\"}], \"heatmapgl\": [{\"colorbar\": {\"outlinewidth\": 0, \"ticks\": \"\"}, \"colorscale\": [[0.0, \"#0d0887\"], [0.1111111111111111, \"#46039f\"], [0.2222222222222222, \"#7201a8\"], [0.3333333333333333, \"#9c179e\"], [0.4444444444444444, \"#bd3786\"], [0.5555555555555556, \"#d8576b\"], [0.6666666666666666, \"#ed7953\"], [0.7777777777777778, \"#fb9f3a\"], [0.8888888888888888, \"#fdca26\"], [1.0, \"#f0f921\"]], \"type\": \"heatmapgl\"}], \"histogram\": [{\"marker\": {\"colorbar\": {\"outlinewidth\": 0, \"ticks\": \"\"}}, \"type\": \"histogram\"}], \"histogram2d\": [{\"colorbar\": {\"outlinewidth\": 0, \"ticks\": \"\"}, \"colorscale\": [[0.0, \"#0d0887\"], [0.1111111111111111, \"#46039f\"], [0.2222222222222222, \"#7201a8\"], [0.3333333333333333, \"#9c179e\"], [0.4444444444444444, \"#bd3786\"], [0.5555555555555556, \"#d8576b\"], [0.6666666666666666, \"#ed7953\"], [0.7777777777777778, \"#fb9f3a\"], [0.8888888888888888, \"#fdca26\"], [1.0, \"#f0f921\"]], \"type\": \"histogram2d\"}], \"histogram2dcontour\": [{\"colorbar\": {\"outlinewidth\": 0, \"ticks\": \"\"}, \"colorscale\": [[0.0, \"#0d0887\"], [0.1111111111111111, \"#46039f\"], [0.2222222222222222, \"#7201a8\"], [0.3333333333333333, \"#9c179e\"], [0.4444444444444444, \"#bd3786\"], [0.5555555555555556, \"#d8576b\"], [0.6666666666666666, \"#ed7953\"], [0.7777777777777778, \"#fb9f3a\"], [0.8888888888888888, \"#fdca26\"], [1.0, \"#f0f921\"]], \"type\": \"histogram2dcontour\"}], \"mesh3d\": [{\"colorbar\": {\"outlinewidth\": 0, \"ticks\": \"\"}, \"type\": \"mesh3d\"}], \"parcoords\": [{\"line\": {\"colorbar\": {\"outlinewidth\": 0, \"ticks\": \"\"}}, \"type\": \"parcoords\"}], \"pie\": [{\"automargin\": true, \"type\": \"pie\"}], \"scatter\": [{\"marker\": {\"colorbar\": {\"outlinewidth\": 0, \"ticks\": \"\"}}, \"type\": \"scatter\"}], \"scatter3d\": [{\"line\": {\"colorbar\": {\"outlinewidth\": 0, \"ticks\": \"\"}}, \"marker\": {\"colorbar\": {\"outlinewidth\": 0, \"ticks\": \"\"}}, \"type\": \"scatter3d\"}], \"scattercarpet\": [{\"marker\": {\"colorbar\": {\"outlinewidth\": 0, \"ticks\": \"\"}}, \"type\": \"scattercarpet\"}], \"scattergeo\": [{\"marker\": {\"colorbar\": {\"outlinewidth\": 0, \"ticks\": \"\"}}, \"type\": \"scattergeo\"}], \"scattergl\": [{\"marker\": {\"colorbar\": {\"outlinewidth\": 0, \"ticks\": \"\"}}, \"type\": \"scattergl\"}], \"scattermapbox\": [{\"marker\": {\"colorbar\": {\"outlinewidth\": 0, \"ticks\": \"\"}}, \"type\": \"scattermapbox\"}], \"scatterpolar\": [{\"marker\": {\"colorbar\": {\"outlinewidth\": 0, \"ticks\": \"\"}}, \"type\": \"scatterpolar\"}], \"scatterpolargl\": [{\"marker\": {\"colorbar\": {\"outlinewidth\": 0, \"ticks\": \"\"}}, \"type\": \"scatterpolargl\"}], \"scatterternary\": [{\"marker\": {\"colorbar\": {\"outlinewidth\": 0, \"ticks\": \"\"}}, \"type\": \"scatterternary\"}], \"surface\": [{\"colorbar\": {\"outlinewidth\": 0, \"ticks\": \"\"}, \"colorscale\": [[0.0, \"#0d0887\"], [0.1111111111111111, \"#46039f\"], [0.2222222222222222, \"#7201a8\"], [0.3333333333333333, \"#9c179e\"], [0.4444444444444444, \"#bd3786\"], [0.5555555555555556, \"#d8576b\"], [0.6666666666666666, \"#ed7953\"], [0.7777777777777778, \"#fb9f3a\"], [0.8888888888888888, \"#fdca26\"], [1.0, \"#f0f921\"]], \"type\": \"surface\"}], \"table\": [{\"cells\": {\"fill\": {\"color\": \"#EBF0F8\"}, \"line\": {\"color\": \"white\"}}, \"header\": {\"fill\": {\"color\": \"#C8D4E3\"}, \"line\": {\"color\": \"white\"}}, \"type\": \"table\"}]}, \"layout\": {\"annotationdefaults\": {\"arrowcolor\": \"#2a3f5f\", \"arrowhead\": 0, \"arrowwidth\": 1}, \"autotypenumbers\": \"strict\", \"coloraxis\": {\"colorbar\": {\"outlinewidth\": 0, \"ticks\": \"\"}}, \"colorscale\": {\"diverging\": [[0, \"#8e0152\"], [0.1, \"#c51b7d\"], [0.2, \"#de77ae\"], [0.3, \"#f1b6da\"], [0.4, \"#fde0ef\"], [0.5, \"#f7f7f7\"], [0.6, \"#e6f5d0\"], [0.7, \"#b8e186\"], [0.8, \"#7fbc41\"], [0.9, \"#4d9221\"], [1, \"#276419\"]], \"sequential\": [[0.0, \"#0d0887\"], [0.1111111111111111, \"#46039f\"], [0.2222222222222222, \"#7201a8\"], [0.3333333333333333, \"#9c179e\"], [0.4444444444444444, \"#bd3786\"], [0.5555555555555556, \"#d8576b\"], [0.6666666666666666, \"#ed7953\"], [0.7777777777777778, \"#fb9f3a\"], [0.8888888888888888, \"#fdca26\"], [1.0, \"#f0f921\"]], \"sequentialminus\": [[0.0, \"#0d0887\"], [0.1111111111111111, \"#46039f\"], [0.2222222222222222, \"#7201a8\"], [0.3333333333333333, \"#9c179e\"], [0.4444444444444444, \"#bd3786\"], [0.5555555555555556, \"#d8576b\"], [0.6666666666666666, \"#ed7953\"], [0.7777777777777778, \"#fb9f3a\"], [0.8888888888888888, \"#fdca26\"], [1.0, \"#f0f921\"]]}, \"colorway\": [\"#636efa\", \"#EF553B\", \"#00cc96\", \"#ab63fa\", \"#FFA15A\", \"#19d3f3\", \"#FF6692\", \"#B6E880\", \"#FF97FF\", \"#FECB52\"], \"font\": {\"color\": \"#2a3f5f\"}, \"geo\": {\"bgcolor\": \"white\", \"lakecolor\": \"white\", \"landcolor\": \"#E5ECF6\", \"showlakes\": true, \"showland\": true, \"subunitcolor\": \"white\"}, \"hoverlabel\": {\"align\": \"left\"}, \"hovermode\": \"closest\", \"mapbox\": {\"style\": \"light\"}, \"paper_bgcolor\": \"white\", \"plot_bgcolor\": \"#E5ECF6\", \"polar\": {\"angularaxis\": {\"gridcolor\": \"white\", \"linecolor\": \"white\", \"ticks\": \"\"}, \"bgcolor\": \"#E5ECF6\", \"radialaxis\": {\"gridcolor\": \"white\", \"linecolor\": \"white\", \"ticks\": \"\"}}, \"scene\": {\"xaxis\": {\"backgroundcolor\": \"#E5ECF6\", \"gridcolor\": \"white\", \"gridwidth\": 2, \"linecolor\": \"white\", \"showbackground\": true, \"ticks\": \"\", \"zerolinecolor\": \"white\"}, \"yaxis\": {\"backgroundcolor\": \"#E5ECF6\", \"gridcolor\": \"white\", \"gridwidth\": 2, \"linecolor\": \"white\", \"showbackground\": true, \"ticks\": \"\", \"zerolinecolor\": \"white\"}, \"zaxis\": {\"backgroundcolor\": \"#E5ECF6\", \"gridcolor\": \"white\", \"gridwidth\": 2, \"linecolor\": \"white\", \"showbackground\": true, \"ticks\": \"\", \"zerolinecolor\": \"white\"}}, \"shapedefaults\": {\"line\": {\"color\": \"#2a3f5f\"}}, \"ternary\": {\"aaxis\": {\"gridcolor\": \"white\", \"linecolor\": \"white\", \"ticks\": \"\"}, \"baxis\": {\"gridcolor\": \"white\", \"linecolor\": \"white\", \"ticks\": \"\"}, \"bgcolor\": \"#E5ECF6\", \"caxis\": {\"gridcolor\": \"white\", \"linecolor\": \"white\", \"ticks\": \"\"}}, \"title\": {\"x\": 0.05}, \"xaxis\": {\"automargin\": true, \"gridcolor\": \"white\", \"linecolor\": \"white\", \"ticks\": \"\", \"title\": {\"standoff\": 15}, \"zerolinecolor\": \"white\", \"zerolinewidth\": 2}, \"yaxis\": {\"automargin\": true, \"gridcolor\": \"white\", \"linecolor\": \"white\", \"ticks\": \"\", \"title\": {\"standoff\": 15}, \"zerolinecolor\": \"white\", \"zerolinewidth\": 2}}}},                        {\"responsive\": true}                    ).then(function(){\n",
       "                            \n",
       "var gd = document.getElementById('e09a443b-4bbd-4373-8cf5-55fdf16b8fa6');\n",
       "var x = new MutationObserver(function (mutations, observer) {{\n",
       "        var display = window.getComputedStyle(gd).display;\n",
       "        if (!display || display === 'none') {{\n",
       "            console.log([gd, 'removed!']);\n",
       "            Plotly.purge(gd);\n",
       "            observer.disconnect();\n",
       "        }}\n",
       "}});\n",
       "\n",
       "// Listen for the removal of the full notebook cells\n",
       "var notebookContainer = gd.closest('#notebook-container');\n",
       "if (notebookContainer) {{\n",
       "    x.observe(notebookContainer, {childList: true});\n",
       "}}\n",
       "\n",
       "// Listen for the clearing of the current output cell\n",
       "var outputEl = gd.closest('.output');\n",
       "if (outputEl) {{\n",
       "    x.observe(outputEl, {childList: true});\n",
       "}}\n",
       "\n",
       "                        })                };                });            </script>        </div>"
      ]
     },
     "metadata": {},
     "output_type": "display_data"
    }
   ],
   "source": [
    "fig = go.Figure()\n",
    "fig.add_trace(\n",
    "    go.Scatter(\n",
    "        x=b['Primary_Pos'],\n",
    "        y=b.query('z>=0')['z'],\n",
    "        text=b['Name'],\n",
    "        mode='markers',\n",
    "    )\n",
    ")"
   ]
  },
  {
   "cell_type": "code",
   "execution_count": 140,
   "id": "92dcd59d",
   "metadata": {},
   "outputs": [
    {
     "data": {
      "application/vnd.plotly.v1+json": {
       "config": {
        "plotlyServerURL": "https://plot.ly"
       },
       "data": [
        {
         "name": "3B",
         "nbinsx": 10,
         "opacity": 0.5,
         "type": "histogram",
         "x": [
          6.893318034250598,
          5.955224169691076,
          4.539166882482908,
          3.0876599298075265,
          2.583372772808095,
          2.476168768445238,
          2.198435993056115,
          2.1975512428252317,
          1.8943228704504276,
          0.8788137017631734,
          0.8642895383943925,
          0.8538413591733136,
          0.8156766794889931,
          0.7007499291587973,
          0.4882930458485317,
          0.3864074102164081,
          0.29944122043059895,
          0.27616145257206237,
          0.18632904021386154,
          0.18214999894181827,
          0,
          -0.19350822940711332,
          -0.4776647204336837,
          -0.5412708609830217,
          -0.6114537002147182,
          -0.6442917990742014,
          -0.8842532955700975,
          -1.1425956295344086,
          -1.38044442387758,
          -1.3969949611017132,
          -1.5383595127366885,
          -1.6285134780606683,
          -1.8201653767834034,
          -1.8855205606085637,
          -2.1549669564244294,
          -2.2106642416066746,
          -2.374640610402495,
          -2.622313016032485,
          -2.7367462828519455,
          -2.8213202669104653,
          -2.8427655001525887,
          -2.8803923658767046,
          -3.030266352554592,
          -3.189973169840858,
          -3.3559071601093375,
          -3.360023096724043,
          -3.3836920310015417,
          -3.426770526074188,
          -3.4477780943711123,
          -3.4876183396707976,
          -3.6586577849695052,
          -3.665052431955086,
          -3.959840130200977,
          -4.017353960494294,
          -4.175885420123342,
          -4.238076887407529,
          -4.245744117493002,
          -4.326360478982302,
          -4.382006128427829,
          -4.409594879675449,
          -4.549161884531768,
          -4.659707311853253,
          -4.804182838599527,
          -4.932813143101045,
          -5.148579388362077,
          -5.189240340436046,
          -5.436636266484398,
          -5.707746507854651,
          -5.7362479673154665,
          -5.940019544818095,
          -5.981100692919395,
          -5.987686714365412,
          -6.0130910245868945,
          -6.030362951372754,
          -6.119574322070334,
          -6.138711697019651,
          -6.178717152682531,
          -6.296374587996978,
          -6.31255502147484,
          -6.443510704730344,
          -6.47537533718424,
          -6.502392377810865,
          -6.632473585728575,
          -6.735227961882713,
          -6.7380362558129265,
          -6.786801080760328,
          -6.79979536498045,
          -6.9414410203432935,
          -6.9585288134379555,
          -7.01734006182184,
          -7.020258463468575,
          -7.0393847034624,
          -7.09419333516299,
          -7.108983535615683,
          -7.1130215181219585,
          -7.122311925375956,
          -7.210224172432469,
          -7.214209664649425,
          -7.219286905580387,
          -7.252780710223457,
          -7.26897034542706,
          -7.303042580872883,
          -7.310217396349318,
          -7.312631644308332,
          -7.318689281199142,
          -7.36343179369647,
          -7.400545945632522,
          -7.445420064029526,
          -7.471802757711036,
          -7.5197431535681885,
          -7.541370466944778,
          -7.542350304814948,
          -7.682867395496316,
          -7.796368259046745,
          -7.814468680979407,
          -7.837851585943288,
          -7.896572714574703,
          -7.910117132673544,
          -7.947561705335985,
          -8.09094856405882,
          -8.173252573982754,
          -8.175244999634003,
          -8.177619736443425,
          -8.177807936902116,
          -8.219136667803486,
          -8.365007478997459,
          -8.558661223000986,
          -8.59285722443066,
          -8.637999089727725,
          -8.99050675313294,
          -9.011555035849241,
          -9.172223194953968,
          -9.428029745379042
         ]
        },
        {
         "name": "1B",
         "nbinsx": 10,
         "opacity": 0.5,
         "type": "histogram",
         "x": [
          8.227732333389207,
          5.263467617174312,
          5.062252949926746,
          4.45607431583807,
          4.192576941108835,
          3.3937138005598895,
          3.192908482315781,
          3.0876599298075265,
          2.7845866690387746,
          2.6606776205021276,
          2.5724402184908484,
          2.121444909955347,
          1.9491058621959607,
          1.8943228704504276,
          1.7744317746881488,
          1.5729515719264353,
          1.268048191315002,
          1.1788352311282564,
          0.9197827253824824,
          0.8788137017631734,
          0.8642895383943925,
          0.8538413591733136,
          0.8482146259890269,
          0.8444838640302015,
          0.8156766794889931,
          0.7396947632928623,
          0.7356944513066566,
          0.5377566932728084,
          0.11167729130827508,
          0.04370159029000398,
          0,
          -0.5083414984649623,
          -0.6114537002147182,
          -0.6219547001355341,
          -0.6442917990742014,
          -1.0648020477794446,
          -1.1880708384192484,
          -1.2088578425659513,
          -1.38044442387758,
          -1.6795143747943286,
          -1.6796267546823276,
          -1.7073819152972702,
          -1.7768775735539468,
          -1.8201653767834034,
          -1.8357791135605965,
          -1.8765692735259805,
          -2.045261079935173,
          -2.140056285027552,
          -2.1549669564244294,
          -2.163154400738864,
          -2.2106642416066746,
          -2.210812196690152,
          -2.374640610402495,
          -2.676566555032057,
          -2.6868073410193176,
          -2.7828863477027976,
          -2.8173081868746785,
          -2.8213202669104653,
          -2.8803923658767046,
          -3.0265980918408575,
          -3.0855560170340253,
          -3.0860818782773984,
          -3.172200091498725,
          -3.189973169840858,
          -3.4632807338001514,
          -3.51581108667182,
          -3.5473304411278708,
          -3.8827700482621204,
          -3.9417031016733493,
          -4.017353960494294,
          -4.1757999662849565,
          -4.245744117493002,
          -4.338222090696545,
          -4.397950285931411,
          -4.409594879675449,
          -4.472013979297857,
          -4.4929780489477595,
          -4.55015204386174,
          -4.659707311853253,
          -4.760429323930247,
          -4.857597853189767,
          -5.143616711689224,
          -5.189240340436046,
          -5.267621108247762,
          -5.427742428513435,
          -5.7362479673154665,
          -5.940019544818095,
          -5.987686714365412,
          -6.056058129403174,
          -6.178717152682531,
          -6.2774949454372395,
          -6.281748998049943,
          -6.289187917380537,
          -6.296374587996978,
          -6.31255502147484,
          -6.505935111181292,
          -6.632473585728575,
          -6.735227961882713,
          -6.786801080760328,
          -6.874490361392705,
          -6.912994063671616,
          -6.932360004781821,
          -6.9585288134379555,
          -7.020258463468575,
          -7.09419333516299,
          -7.108983535615683,
          -7.252780710223457,
          -7.299057088655929,
          -7.398488402824117,
          -7.450430774450109,
          -7.456347431845212,
          -7.541370466944778,
          -7.607517888038951,
          -7.727696774474311,
          -7.804607803876402,
          -7.9465706532402605,
          -8.01938183980544
         ]
        },
        {
         "name": "2B",
         "nbinsx": 10,
         "opacity": 0.5,
         "type": "histogram",
         "x": [
          8.949332414364052,
          7.01675453083868,
          6.567587454949619,
          5.248602415156416,
          4.7226115625653105,
          4.68522222265198,
          4.66615283262318,
          4.180864148806129,
          3.7227054151556924,
          3.634250995174211,
          3.3844524251664962,
          3.173018023109877,
          2.8277799100152814,
          2.6411466366333674,
          2.121444909955347,
          1.8943228704504276,
          1.7815457484364747,
          1.7744317746881488,
          1.7203888404263408,
          1.7177604790517482,
          1.1349674173823319,
          1.0249658310341068,
          0.8788137017631734,
          0.8642895383943925,
          0.4882930458485317,
          0.33299248822640015,
          0.29944122043059895,
          0.039193964655443114,
          -0.23177405644711424,
          -0.2564080130911841,
          -0.2668911168178303,
          -0.4776647204336837,
          -0.5206625111177483,
          -0.5499613385401649,
          -0.6014887841761047,
          -0.6114537002147182,
          -0.7448708051145609,
          -1.1425956295344086,
          -1.4885085013098256,
          -1.497057665406134,
          -1.5383595127366885,
          -1.6190338807163438,
          -1.6195936060948957,
          -1.6285134780606683,
          -1.6796267546823276,
          -1.7073819152972702,
          -1.8855205606085637,
          -2.374640610402495,
          -2.3871645172687077,
          -2.622313016032485,
          -2.8173081868746785,
          -2.8703095912512597,
          -2.8803923658767046,
          -2.911761967098554,
          -2.9267295817716286,
          -3.0616220861366177,
          -3.189973169840858,
          -3.3559071601093375,
          -3.360023096724043,
          -3.3689275986512466,
          -3.3836920310015417,
          -3.426770526074188,
          -3.434233503691034,
          -3.4473757054924294,
          -3.4477780943711123,
          -3.4876183396707976,
          -3.6586577849695052,
          -3.945029072479579,
          -3.959840130200977,
          -3.965089598139819,
          -4.017353960494294,
          -4.049835725670503,
          -4.171498989883133,
          -4.219578993650627,
          -4.238076887407529,
          -4.245744117493002,
          -4.326360478982302,
          -4.549161884531768,
          -4.804182838599527,
          -4.932813143101045,
          -4.9370216010311925,
          -5.189240340436046,
          -5.280084302955096,
          -5.566505168379502,
          -5.583941705671018,
          -5.7362479673154665,
          -5.8933225743634505,
          -5.981100692919395,
          -5.987686714365412,
          -5.998877883351588,
          -6.034644529181666,
          -6.072152764591122,
          -6.096309410772312,
          -6.119574322070334,
          -6.138711697019651,
          -6.178717152682531,
          -6.185620023678036,
          -6.211249312823469,
          -6.239424669465745,
          -6.2605893153018215,
          -6.285670483068353,
          -6.296374587996978,
          -6.31255502147484,
          -6.335445455309774,
          -6.443510704730344,
          -6.47537533718424,
          -6.502392377810865,
          -6.585134479956299,
          -6.595383533846633,
          -6.6087503658547995,
          -6.6968231573604236,
          -6.70698474491255,
          -6.708674447614859,
          -6.7380362558129265,
          -6.786801080760328,
          -6.79979536498045,
          -6.825727246261453,
          -6.861785228944626,
          -6.866381478153659,
          -6.903773950300879,
          -6.916889305322719,
          -6.9414410203432935,
          -6.9585288134379555,
          -6.991415838099975,
          -7.01734006182184,
          -7.020258463468575,
          -7.09419333516299,
          -7.108983535615683,
          -7.122311925375956,
          -7.210224172432469,
          -7.219286905580387,
          -7.26897034542706,
          -7.271369912250561,
          -7.303042580872883,
          -7.36343179369647,
          -7.401589915293867,
          -7.471802757711036,
          -7.541370466944778,
          -7.542350304814948,
          -7.682867395496316,
          -7.796368259046745,
          -7.814468680979407,
          -7.947561705335985,
          -8.09094856405882,
          -8.175244999634003,
          -8.177807936902116,
          -8.219136667803486,
          -8.59285722443066,
          -9.172223194953968,
          -9.428029745379042
         ]
        },
        {
         "name": "SS",
         "nbinsx": 10,
         "opacity": 0.5,
         "type": "histogram",
         "x": [
          11.851458135277317,
          8.949332414364052,
          8.34186951390577,
          5.5595745718798035,
          5.470802395541975,
          5.248602415156416,
          4.830754039689053,
          4.7226115625653105,
          4.526222560974616,
          4.355224778670003,
          3.9257908430827926,
          3.634250995174211,
          3.1784605300027327,
          2.8277799100152814,
          2.6274705333647885,
          2.583372772808095,
          2.1975512428252317,
          2.1886666065800076,
          2.121444909955347,
          2.0083948588054255,
          1.7815457484364747,
          1.7177604790517482,
          1.0895557926853874,
          1.0249658310341068,
          0.6235727373692166,
          0.3501271535668655,
          0.33299248822640015,
          0.29944122043059895,
          0.18632904021386154,
          0.10124475441664993,
          0,
          -0.2564080130911841,
          -0.2621097442859619,
          -0.2668911168178303,
          -0.28549183575415826,
          -0.4776647204336837,
          -0.7448708051145609,
          -1.0714589622553148,
          -1.3969949611017132,
          -1.4885085013098256,
          -1.497057665406134,
          -1.5383595127366885,
          -1.6190338807163438,
          -1.6285134780606683,
          -1.8234726003975728,
          -2.0698060232306683,
          -2.3322735131312444,
          -2.4448419734126428,
          -2.8703095912512597,
          -2.9267295817716286,
          -3.043140676642549,
          -3.189973169840858,
          -3.264164481609549,
          -3.3559071601093375,
          -3.360023096724043,
          -3.3836920310015417,
          -3.426770526074188,
          -3.4473757054924294,
          -3.4477780943711123,
          -3.4664828085200994,
          -3.6586577849695052,
          -3.825029867459486,
          -3.8571601932567092,
          -3.945029072479579,
          -3.965089598139819,
          -4.171498989883133,
          -4.219578993650627,
          -4.307647077474305,
          -4.326360478982302,
          -4.549161884531768,
          -4.932813143101045,
          -4.9700160014363455,
          -5.189240340436046,
          -5.194683664379301,
          -5.280084302955096,
          -5.527598567120833,
          -5.566505168379502,
          -5.583941705671018,
          -5.984941180641011,
          -5.987686714365412,
          -6.0130910245868945,
          -6.054847833199279,
          -6.072152764591122,
          -6.119574322070334,
          -6.239424669465745,
          -6.285670483068353,
          -6.296374587996978,
          -6.335445455309774,
          -6.47537533718424,
          -6.487901516221934,
          -6.498729000915024,
          -6.502392377810865,
          -6.70698474491255,
          -6.708674447614859,
          -6.7380362558129265,
          -6.786801080760328,
          -6.79979536498045,
          -6.81411664675503,
          -6.8877534614145866,
          -6.903773950300879,
          -6.977851683177441,
          -7.108983535615683,
          -7.210224172432469,
          -7.24495609564951,
          -7.26897034542706,
          -7.303042580872883,
          -7.36343179369647,
          -7.428823453303222,
          -7.542350304814948,
          -7.896572714574703,
          -8.173252573982754,
          -8.175244999634003,
          -8.219136667803486,
          -9.172223194953968
         ]
        }
       ],
       "layout": {
        "bargap": 0.1,
        "barmode": "overlay",
        "template": {
         "data": {
          "bar": [
           {
            "error_x": {
             "color": "#2a3f5f"
            },
            "error_y": {
             "color": "#2a3f5f"
            },
            "marker": {
             "line": {
              "color": "#E5ECF6",
              "width": 0.5
             }
            },
            "type": "bar"
           }
          ],
          "barpolar": [
           {
            "marker": {
             "line": {
              "color": "#E5ECF6",
              "width": 0.5
             }
            },
            "type": "barpolar"
           }
          ],
          "carpet": [
           {
            "aaxis": {
             "endlinecolor": "#2a3f5f",
             "gridcolor": "white",
             "linecolor": "white",
             "minorgridcolor": "white",
             "startlinecolor": "#2a3f5f"
            },
            "baxis": {
             "endlinecolor": "#2a3f5f",
             "gridcolor": "white",
             "linecolor": "white",
             "minorgridcolor": "white",
             "startlinecolor": "#2a3f5f"
            },
            "type": "carpet"
           }
          ],
          "choropleth": [
           {
            "colorbar": {
             "outlinewidth": 0,
             "ticks": ""
            },
            "type": "choropleth"
           }
          ],
          "contour": [
           {
            "colorbar": {
             "outlinewidth": 0,
             "ticks": ""
            },
            "colorscale": [
             [
              0,
              "#0d0887"
             ],
             [
              0.1111111111111111,
              "#46039f"
             ],
             [
              0.2222222222222222,
              "#7201a8"
             ],
             [
              0.3333333333333333,
              "#9c179e"
             ],
             [
              0.4444444444444444,
              "#bd3786"
             ],
             [
              0.5555555555555556,
              "#d8576b"
             ],
             [
              0.6666666666666666,
              "#ed7953"
             ],
             [
              0.7777777777777778,
              "#fb9f3a"
             ],
             [
              0.8888888888888888,
              "#fdca26"
             ],
             [
              1,
              "#f0f921"
             ]
            ],
            "type": "contour"
           }
          ],
          "contourcarpet": [
           {
            "colorbar": {
             "outlinewidth": 0,
             "ticks": ""
            },
            "type": "contourcarpet"
           }
          ],
          "heatmap": [
           {
            "colorbar": {
             "outlinewidth": 0,
             "ticks": ""
            },
            "colorscale": [
             [
              0,
              "#0d0887"
             ],
             [
              0.1111111111111111,
              "#46039f"
             ],
             [
              0.2222222222222222,
              "#7201a8"
             ],
             [
              0.3333333333333333,
              "#9c179e"
             ],
             [
              0.4444444444444444,
              "#bd3786"
             ],
             [
              0.5555555555555556,
              "#d8576b"
             ],
             [
              0.6666666666666666,
              "#ed7953"
             ],
             [
              0.7777777777777778,
              "#fb9f3a"
             ],
             [
              0.8888888888888888,
              "#fdca26"
             ],
             [
              1,
              "#f0f921"
             ]
            ],
            "type": "heatmap"
           }
          ],
          "heatmapgl": [
           {
            "colorbar": {
             "outlinewidth": 0,
             "ticks": ""
            },
            "colorscale": [
             [
              0,
              "#0d0887"
             ],
             [
              0.1111111111111111,
              "#46039f"
             ],
             [
              0.2222222222222222,
              "#7201a8"
             ],
             [
              0.3333333333333333,
              "#9c179e"
             ],
             [
              0.4444444444444444,
              "#bd3786"
             ],
             [
              0.5555555555555556,
              "#d8576b"
             ],
             [
              0.6666666666666666,
              "#ed7953"
             ],
             [
              0.7777777777777778,
              "#fb9f3a"
             ],
             [
              0.8888888888888888,
              "#fdca26"
             ],
             [
              1,
              "#f0f921"
             ]
            ],
            "type": "heatmapgl"
           }
          ],
          "histogram": [
           {
            "marker": {
             "colorbar": {
              "outlinewidth": 0,
              "ticks": ""
             }
            },
            "type": "histogram"
           }
          ],
          "histogram2d": [
           {
            "colorbar": {
             "outlinewidth": 0,
             "ticks": ""
            },
            "colorscale": [
             [
              0,
              "#0d0887"
             ],
             [
              0.1111111111111111,
              "#46039f"
             ],
             [
              0.2222222222222222,
              "#7201a8"
             ],
             [
              0.3333333333333333,
              "#9c179e"
             ],
             [
              0.4444444444444444,
              "#bd3786"
             ],
             [
              0.5555555555555556,
              "#d8576b"
             ],
             [
              0.6666666666666666,
              "#ed7953"
             ],
             [
              0.7777777777777778,
              "#fb9f3a"
             ],
             [
              0.8888888888888888,
              "#fdca26"
             ],
             [
              1,
              "#f0f921"
             ]
            ],
            "type": "histogram2d"
           }
          ],
          "histogram2dcontour": [
           {
            "colorbar": {
             "outlinewidth": 0,
             "ticks": ""
            },
            "colorscale": [
             [
              0,
              "#0d0887"
             ],
             [
              0.1111111111111111,
              "#46039f"
             ],
             [
              0.2222222222222222,
              "#7201a8"
             ],
             [
              0.3333333333333333,
              "#9c179e"
             ],
             [
              0.4444444444444444,
              "#bd3786"
             ],
             [
              0.5555555555555556,
              "#d8576b"
             ],
             [
              0.6666666666666666,
              "#ed7953"
             ],
             [
              0.7777777777777778,
              "#fb9f3a"
             ],
             [
              0.8888888888888888,
              "#fdca26"
             ],
             [
              1,
              "#f0f921"
             ]
            ],
            "type": "histogram2dcontour"
           }
          ],
          "mesh3d": [
           {
            "colorbar": {
             "outlinewidth": 0,
             "ticks": ""
            },
            "type": "mesh3d"
           }
          ],
          "parcoords": [
           {
            "line": {
             "colorbar": {
              "outlinewidth": 0,
              "ticks": ""
             }
            },
            "type": "parcoords"
           }
          ],
          "pie": [
           {
            "automargin": true,
            "type": "pie"
           }
          ],
          "scatter": [
           {
            "marker": {
             "colorbar": {
              "outlinewidth": 0,
              "ticks": ""
             }
            },
            "type": "scatter"
           }
          ],
          "scatter3d": [
           {
            "line": {
             "colorbar": {
              "outlinewidth": 0,
              "ticks": ""
             }
            },
            "marker": {
             "colorbar": {
              "outlinewidth": 0,
              "ticks": ""
             }
            },
            "type": "scatter3d"
           }
          ],
          "scattercarpet": [
           {
            "marker": {
             "colorbar": {
              "outlinewidth": 0,
              "ticks": ""
             }
            },
            "type": "scattercarpet"
           }
          ],
          "scattergeo": [
           {
            "marker": {
             "colorbar": {
              "outlinewidth": 0,
              "ticks": ""
             }
            },
            "type": "scattergeo"
           }
          ],
          "scattergl": [
           {
            "marker": {
             "colorbar": {
              "outlinewidth": 0,
              "ticks": ""
             }
            },
            "type": "scattergl"
           }
          ],
          "scattermapbox": [
           {
            "marker": {
             "colorbar": {
              "outlinewidth": 0,
              "ticks": ""
             }
            },
            "type": "scattermapbox"
           }
          ],
          "scatterpolar": [
           {
            "marker": {
             "colorbar": {
              "outlinewidth": 0,
              "ticks": ""
             }
            },
            "type": "scatterpolar"
           }
          ],
          "scatterpolargl": [
           {
            "marker": {
             "colorbar": {
              "outlinewidth": 0,
              "ticks": ""
             }
            },
            "type": "scatterpolargl"
           }
          ],
          "scatterternary": [
           {
            "marker": {
             "colorbar": {
              "outlinewidth": 0,
              "ticks": ""
             }
            },
            "type": "scatterternary"
           }
          ],
          "surface": [
           {
            "colorbar": {
             "outlinewidth": 0,
             "ticks": ""
            },
            "colorscale": [
             [
              0,
              "#0d0887"
             ],
             [
              0.1111111111111111,
              "#46039f"
             ],
             [
              0.2222222222222222,
              "#7201a8"
             ],
             [
              0.3333333333333333,
              "#9c179e"
             ],
             [
              0.4444444444444444,
              "#bd3786"
             ],
             [
              0.5555555555555556,
              "#d8576b"
             ],
             [
              0.6666666666666666,
              "#ed7953"
             ],
             [
              0.7777777777777778,
              "#fb9f3a"
             ],
             [
              0.8888888888888888,
              "#fdca26"
             ],
             [
              1,
              "#f0f921"
             ]
            ],
            "type": "surface"
           }
          ],
          "table": [
           {
            "cells": {
             "fill": {
              "color": "#EBF0F8"
             },
             "line": {
              "color": "white"
             }
            },
            "header": {
             "fill": {
              "color": "#C8D4E3"
             },
             "line": {
              "color": "white"
             }
            },
            "type": "table"
           }
          ]
         },
         "layout": {
          "annotationdefaults": {
           "arrowcolor": "#2a3f5f",
           "arrowhead": 0,
           "arrowwidth": 1
          },
          "autotypenumbers": "strict",
          "coloraxis": {
           "colorbar": {
            "outlinewidth": 0,
            "ticks": ""
           }
          },
          "colorscale": {
           "diverging": [
            [
             0,
             "#8e0152"
            ],
            [
             0.1,
             "#c51b7d"
            ],
            [
             0.2,
             "#de77ae"
            ],
            [
             0.3,
             "#f1b6da"
            ],
            [
             0.4,
             "#fde0ef"
            ],
            [
             0.5,
             "#f7f7f7"
            ],
            [
             0.6,
             "#e6f5d0"
            ],
            [
             0.7,
             "#b8e186"
            ],
            [
             0.8,
             "#7fbc41"
            ],
            [
             0.9,
             "#4d9221"
            ],
            [
             1,
             "#276419"
            ]
           ],
           "sequential": [
            [
             0,
             "#0d0887"
            ],
            [
             0.1111111111111111,
             "#46039f"
            ],
            [
             0.2222222222222222,
             "#7201a8"
            ],
            [
             0.3333333333333333,
             "#9c179e"
            ],
            [
             0.4444444444444444,
             "#bd3786"
            ],
            [
             0.5555555555555556,
             "#d8576b"
            ],
            [
             0.6666666666666666,
             "#ed7953"
            ],
            [
             0.7777777777777778,
             "#fb9f3a"
            ],
            [
             0.8888888888888888,
             "#fdca26"
            ],
            [
             1,
             "#f0f921"
            ]
           ],
           "sequentialminus": [
            [
             0,
             "#0d0887"
            ],
            [
             0.1111111111111111,
             "#46039f"
            ],
            [
             0.2222222222222222,
             "#7201a8"
            ],
            [
             0.3333333333333333,
             "#9c179e"
            ],
            [
             0.4444444444444444,
             "#bd3786"
            ],
            [
             0.5555555555555556,
             "#d8576b"
            ],
            [
             0.6666666666666666,
             "#ed7953"
            ],
            [
             0.7777777777777778,
             "#fb9f3a"
            ],
            [
             0.8888888888888888,
             "#fdca26"
            ],
            [
             1,
             "#f0f921"
            ]
           ]
          },
          "colorway": [
           "#636efa",
           "#EF553B",
           "#00cc96",
           "#ab63fa",
           "#FFA15A",
           "#19d3f3",
           "#FF6692",
           "#B6E880",
           "#FF97FF",
           "#FECB52"
          ],
          "font": {
           "color": "#2a3f5f"
          },
          "geo": {
           "bgcolor": "white",
           "lakecolor": "white",
           "landcolor": "#E5ECF6",
           "showlakes": true,
           "showland": true,
           "subunitcolor": "white"
          },
          "hoverlabel": {
           "align": "left"
          },
          "hovermode": "closest",
          "mapbox": {
           "style": "light"
          },
          "paper_bgcolor": "white",
          "plot_bgcolor": "#E5ECF6",
          "polar": {
           "angularaxis": {
            "gridcolor": "white",
            "linecolor": "white",
            "ticks": ""
           },
           "bgcolor": "#E5ECF6",
           "radialaxis": {
            "gridcolor": "white",
            "linecolor": "white",
            "ticks": ""
           }
          },
          "scene": {
           "xaxis": {
            "backgroundcolor": "#E5ECF6",
            "gridcolor": "white",
            "gridwidth": 2,
            "linecolor": "white",
            "showbackground": true,
            "ticks": "",
            "zerolinecolor": "white"
           },
           "yaxis": {
            "backgroundcolor": "#E5ECF6",
            "gridcolor": "white",
            "gridwidth": 2,
            "linecolor": "white",
            "showbackground": true,
            "ticks": "",
            "zerolinecolor": "white"
           },
           "zaxis": {
            "backgroundcolor": "#E5ECF6",
            "gridcolor": "white",
            "gridwidth": 2,
            "linecolor": "white",
            "showbackground": true,
            "ticks": "",
            "zerolinecolor": "white"
           }
          },
          "shapedefaults": {
           "line": {
            "color": "#2a3f5f"
           }
          },
          "ternary": {
           "aaxis": {
            "gridcolor": "white",
            "linecolor": "white",
            "ticks": ""
           },
           "baxis": {
            "gridcolor": "white",
            "linecolor": "white",
            "ticks": ""
           },
           "bgcolor": "#E5ECF6",
           "caxis": {
            "gridcolor": "white",
            "linecolor": "white",
            "ticks": ""
           }
          },
          "title": {
           "x": 0.05
          },
          "xaxis": {
           "automargin": true,
           "gridcolor": "white",
           "linecolor": "white",
           "ticks": "",
           "title": {
            "standoff": 15
           },
           "zerolinecolor": "white",
           "zerolinewidth": 2
          },
          "yaxis": {
           "automargin": true,
           "gridcolor": "white",
           "linecolor": "white",
           "ticks": "",
           "title": {
            "standoff": 15
           },
           "zerolinecolor": "white",
           "zerolinewidth": 2
          }
         }
        },
        "title": {
         "text": "Z score distribution by position"
        },
        "yaxis": {
         "range": [
          0,
          55
         ]
        }
       }
      },
      "text/html": [
       "<div>                            <div id=\"98e43de6-031a-4d60-b0b4-9bdd69892c6e\" class=\"plotly-graph-div\" style=\"height:525px; width:100%;\"></div>            <script type=\"text/javascript\">                require([\"plotly\"], function(Plotly) {                    window.PLOTLYENV=window.PLOTLYENV || {};                                    if (document.getElementById(\"98e43de6-031a-4d60-b0b4-9bdd69892c6e\")) {                    Plotly.newPlot(                        \"98e43de6-031a-4d60-b0b4-9bdd69892c6e\",                        [{\"name\": \"3B\", \"nbinsx\": 10, \"opacity\": 0.5, \"type\": \"histogram\", \"x\": [6.893318034250598, 5.955224169691076, 4.539166882482908, 3.0876599298075265, 2.583372772808095, 2.476168768445238, 2.198435993056115, 2.1975512428252317, 1.8943228704504276, 0.8788137017631734, 0.8642895383943925, 0.8538413591733136, 0.8156766794889931, 0.7007499291587973, 0.4882930458485317, 0.3864074102164081, 0.29944122043059895, 0.27616145257206237, 0.18632904021386154, 0.18214999894181827, 0.0, -0.19350822940711332, -0.4776647204336837, -0.5412708609830217, -0.6114537002147182, -0.6442917990742014, -0.8842532955700975, -1.1425956295344086, -1.38044442387758, -1.3969949611017132, -1.5383595127366885, -1.6285134780606683, -1.8201653767834034, -1.8855205606085637, -2.1549669564244294, -2.2106642416066746, -2.374640610402495, -2.622313016032485, -2.7367462828519455, -2.8213202669104653, -2.8427655001525887, -2.8803923658767046, -3.030266352554592, -3.189973169840858, -3.3559071601093375, -3.360023096724043, -3.3836920310015417, -3.426770526074188, -3.4477780943711123, -3.4876183396707976, -3.6586577849695052, -3.665052431955086, -3.959840130200977, -4.017353960494294, -4.175885420123342, -4.238076887407529, -4.245744117493002, -4.326360478982302, -4.382006128427829, -4.409594879675449, -4.549161884531768, -4.659707311853253, -4.804182838599527, -4.932813143101045, -5.148579388362077, -5.189240340436046, -5.436636266484398, -5.707746507854651, -5.7362479673154665, -5.940019544818095, -5.981100692919395, -5.987686714365412, -6.0130910245868945, -6.030362951372754, -6.119574322070334, -6.138711697019651, -6.178717152682531, -6.296374587996978, -6.31255502147484, -6.443510704730344, -6.47537533718424, -6.502392377810865, -6.632473585728575, -6.735227961882713, -6.7380362558129265, -6.786801080760328, -6.79979536498045, -6.9414410203432935, -6.9585288134379555, -7.01734006182184, -7.020258463468575, -7.0393847034624, -7.09419333516299, -7.108983535615683, -7.1130215181219585, -7.122311925375956, -7.210224172432469, -7.214209664649425, -7.219286905580387, -7.252780710223457, -7.26897034542706, -7.303042580872883, -7.310217396349318, -7.312631644308332, -7.318689281199142, -7.36343179369647, -7.400545945632522, -7.445420064029526, -7.471802757711036, -7.5197431535681885, -7.541370466944778, -7.542350304814948, -7.682867395496316, -7.796368259046745, -7.814468680979407, -7.837851585943288, -7.896572714574703, -7.910117132673544, -7.947561705335985, -8.09094856405882, -8.173252573982754, -8.175244999634003, -8.177619736443425, -8.177807936902116, -8.219136667803486, -8.365007478997459, -8.558661223000986, -8.59285722443066, -8.637999089727725, -8.99050675313294, -9.011555035849241, -9.172223194953968, -9.428029745379042]}, {\"name\": \"1B\", \"nbinsx\": 10, \"opacity\": 0.5, \"type\": \"histogram\", \"x\": [8.227732333389207, 5.263467617174312, 5.062252949926746, 4.45607431583807, 4.192576941108835, 3.3937138005598895, 3.192908482315781, 3.0876599298075265, 2.7845866690387746, 2.6606776205021276, 2.5724402184908484, 2.121444909955347, 1.9491058621959607, 1.8943228704504276, 1.7744317746881488, 1.5729515719264353, 1.268048191315002, 1.1788352311282564, 0.9197827253824824, 0.8788137017631734, 0.8642895383943925, 0.8538413591733136, 0.8482146259890269, 0.8444838640302015, 0.8156766794889931, 0.7396947632928623, 0.7356944513066566, 0.5377566932728084, 0.11167729130827508, 0.04370159029000398, 0.0, -0.5083414984649623, -0.6114537002147182, -0.6219547001355341, -0.6442917990742014, -1.0648020477794446, -1.1880708384192484, -1.2088578425659513, -1.38044442387758, -1.6795143747943286, -1.6796267546823276, -1.7073819152972702, -1.7768775735539468, -1.8201653767834034, -1.8357791135605965, -1.8765692735259805, -2.045261079935173, -2.140056285027552, -2.1549669564244294, -2.163154400738864, -2.2106642416066746, -2.210812196690152, -2.374640610402495, -2.676566555032057, -2.6868073410193176, -2.7828863477027976, -2.8173081868746785, -2.8213202669104653, -2.8803923658767046, -3.0265980918408575, -3.0855560170340253, -3.0860818782773984, -3.172200091498725, -3.189973169840858, -3.4632807338001514, -3.51581108667182, -3.5473304411278708, -3.8827700482621204, -3.9417031016733493, -4.017353960494294, -4.1757999662849565, -4.245744117493002, -4.338222090696545, -4.397950285931411, -4.409594879675449, -4.472013979297857, -4.4929780489477595, -4.55015204386174, -4.659707311853253, -4.760429323930247, -4.857597853189767, -5.143616711689224, -5.189240340436046, -5.267621108247762, -5.427742428513435, -5.7362479673154665, -5.940019544818095, -5.987686714365412, -6.056058129403174, -6.178717152682531, -6.2774949454372395, -6.281748998049943, -6.289187917380537, -6.296374587996978, -6.31255502147484, -6.505935111181292, -6.632473585728575, -6.735227961882713, -6.786801080760328, -6.874490361392705, -6.912994063671616, -6.932360004781821, -6.9585288134379555, -7.020258463468575, -7.09419333516299, -7.108983535615683, -7.252780710223457, -7.299057088655929, -7.398488402824117, -7.450430774450109, -7.456347431845212, -7.541370466944778, -7.607517888038951, -7.727696774474311, -7.804607803876402, -7.9465706532402605, -8.01938183980544]}, {\"name\": \"2B\", \"nbinsx\": 10, \"opacity\": 0.5, \"type\": \"histogram\", \"x\": [8.949332414364052, 7.01675453083868, 6.567587454949619, 5.248602415156416, 4.7226115625653105, 4.68522222265198, 4.66615283262318, 4.180864148806129, 3.7227054151556924, 3.634250995174211, 3.3844524251664962, 3.173018023109877, 2.8277799100152814, 2.6411466366333674, 2.121444909955347, 1.8943228704504276, 1.7815457484364747, 1.7744317746881488, 1.7203888404263408, 1.7177604790517482, 1.1349674173823319, 1.0249658310341068, 0.8788137017631734, 0.8642895383943925, 0.4882930458485317, 0.33299248822640015, 0.29944122043059895, 0.039193964655443114, -0.23177405644711424, -0.2564080130911841, -0.2668911168178303, -0.4776647204336837, -0.5206625111177483, -0.5499613385401649, -0.6014887841761047, -0.6114537002147182, -0.7448708051145609, -1.1425956295344086, -1.4885085013098256, -1.497057665406134, -1.5383595127366885, -1.6190338807163438, -1.6195936060948957, -1.6285134780606683, -1.6796267546823276, -1.7073819152972702, -1.8855205606085637, -2.374640610402495, -2.3871645172687077, -2.622313016032485, -2.8173081868746785, -2.8703095912512597, -2.8803923658767046, -2.911761967098554, -2.9267295817716286, -3.0616220861366177, -3.189973169840858, -3.3559071601093375, -3.360023096724043, -3.3689275986512466, -3.3836920310015417, -3.426770526074188, -3.434233503691034, -3.4473757054924294, -3.4477780943711123, -3.4876183396707976, -3.6586577849695052, -3.945029072479579, -3.959840130200977, -3.965089598139819, -4.017353960494294, -4.049835725670503, -4.171498989883133, -4.219578993650627, -4.238076887407529, -4.245744117493002, -4.326360478982302, -4.549161884531768, -4.804182838599527, -4.932813143101045, -4.9370216010311925, -5.189240340436046, -5.280084302955096, -5.566505168379502, -5.583941705671018, -5.7362479673154665, -5.8933225743634505, -5.981100692919395, -5.987686714365412, -5.998877883351588, -6.034644529181666, -6.072152764591122, -6.096309410772312, -6.119574322070334, -6.138711697019651, -6.178717152682531, -6.185620023678036, -6.211249312823469, -6.239424669465745, -6.2605893153018215, -6.285670483068353, -6.296374587996978, -6.31255502147484, -6.335445455309774, -6.443510704730344, -6.47537533718424, -6.502392377810865, -6.585134479956299, -6.595383533846633, -6.6087503658547995, -6.6968231573604236, -6.70698474491255, -6.708674447614859, -6.7380362558129265, -6.786801080760328, -6.79979536498045, -6.825727246261453, -6.861785228944626, -6.866381478153659, -6.903773950300879, -6.916889305322719, -6.9414410203432935, -6.9585288134379555, -6.991415838099975, -7.01734006182184, -7.020258463468575, -7.09419333516299, -7.108983535615683, -7.122311925375956, -7.210224172432469, -7.219286905580387, -7.26897034542706, -7.271369912250561, -7.303042580872883, -7.36343179369647, -7.401589915293867, -7.471802757711036, -7.541370466944778, -7.542350304814948, -7.682867395496316, -7.796368259046745, -7.814468680979407, -7.947561705335985, -8.09094856405882, -8.175244999634003, -8.177807936902116, -8.219136667803486, -8.59285722443066, -9.172223194953968, -9.428029745379042]}, {\"name\": \"SS\", \"nbinsx\": 10, \"opacity\": 0.5, \"type\": \"histogram\", \"x\": [11.851458135277317, 8.949332414364052, 8.34186951390577, 5.5595745718798035, 5.470802395541975, 5.248602415156416, 4.830754039689053, 4.7226115625653105, 4.526222560974616, 4.355224778670003, 3.9257908430827926, 3.634250995174211, 3.1784605300027327, 2.8277799100152814, 2.6274705333647885, 2.583372772808095, 2.1975512428252317, 2.1886666065800076, 2.121444909955347, 2.0083948588054255, 1.7815457484364747, 1.7177604790517482, 1.0895557926853874, 1.0249658310341068, 0.6235727373692166, 0.3501271535668655, 0.33299248822640015, 0.29944122043059895, 0.18632904021386154, 0.10124475441664993, 0.0, -0.2564080130911841, -0.2621097442859619, -0.2668911168178303, -0.28549183575415826, -0.4776647204336837, -0.7448708051145609, -1.0714589622553148, -1.3969949611017132, -1.4885085013098256, -1.497057665406134, -1.5383595127366885, -1.6190338807163438, -1.6285134780606683, -1.8234726003975728, -2.0698060232306683, -2.3322735131312444, -2.4448419734126428, -2.8703095912512597, -2.9267295817716286, -3.043140676642549, -3.189973169840858, -3.264164481609549, -3.3559071601093375, -3.360023096724043, -3.3836920310015417, -3.426770526074188, -3.4473757054924294, -3.4477780943711123, -3.4664828085200994, -3.6586577849695052, -3.825029867459486, -3.8571601932567092, -3.945029072479579, -3.965089598139819, -4.171498989883133, -4.219578993650627, -4.307647077474305, -4.326360478982302, -4.549161884531768, -4.932813143101045, -4.9700160014363455, -5.189240340436046, -5.194683664379301, -5.280084302955096, -5.527598567120833, -5.566505168379502, -5.583941705671018, -5.984941180641011, -5.987686714365412, -6.0130910245868945, -6.054847833199279, -6.072152764591122, -6.119574322070334, -6.239424669465745, -6.285670483068353, -6.296374587996978, -6.335445455309774, -6.47537533718424, -6.487901516221934, -6.498729000915024, -6.502392377810865, -6.70698474491255, -6.708674447614859, -6.7380362558129265, -6.786801080760328, -6.79979536498045, -6.81411664675503, -6.8877534614145866, -6.903773950300879, -6.977851683177441, -7.108983535615683, -7.210224172432469, -7.24495609564951, -7.26897034542706, -7.303042580872883, -7.36343179369647, -7.428823453303222, -7.542350304814948, -7.896572714574703, -8.173252573982754, -8.175244999634003, -8.219136667803486, -9.172223194953968]}],                        {\"bargap\": 0.1, \"barmode\": \"overlay\", \"template\": {\"data\": {\"bar\": [{\"error_x\": {\"color\": \"#2a3f5f\"}, \"error_y\": {\"color\": \"#2a3f5f\"}, \"marker\": {\"line\": {\"color\": \"#E5ECF6\", \"width\": 0.5}}, \"type\": \"bar\"}], \"barpolar\": [{\"marker\": {\"line\": {\"color\": \"#E5ECF6\", \"width\": 0.5}}, \"type\": \"barpolar\"}], \"carpet\": [{\"aaxis\": {\"endlinecolor\": \"#2a3f5f\", \"gridcolor\": \"white\", \"linecolor\": \"white\", \"minorgridcolor\": \"white\", \"startlinecolor\": \"#2a3f5f\"}, \"baxis\": {\"endlinecolor\": \"#2a3f5f\", \"gridcolor\": \"white\", \"linecolor\": \"white\", \"minorgridcolor\": \"white\", \"startlinecolor\": \"#2a3f5f\"}, \"type\": \"carpet\"}], \"choropleth\": [{\"colorbar\": {\"outlinewidth\": 0, \"ticks\": \"\"}, \"type\": \"choropleth\"}], \"contour\": [{\"colorbar\": {\"outlinewidth\": 0, \"ticks\": \"\"}, \"colorscale\": [[0.0, \"#0d0887\"], [0.1111111111111111, \"#46039f\"], [0.2222222222222222, \"#7201a8\"], [0.3333333333333333, \"#9c179e\"], [0.4444444444444444, \"#bd3786\"], [0.5555555555555556, \"#d8576b\"], [0.6666666666666666, \"#ed7953\"], [0.7777777777777778, \"#fb9f3a\"], [0.8888888888888888, \"#fdca26\"], [1.0, \"#f0f921\"]], \"type\": \"contour\"}], \"contourcarpet\": [{\"colorbar\": {\"outlinewidth\": 0, \"ticks\": \"\"}, \"type\": \"contourcarpet\"}], \"heatmap\": [{\"colorbar\": {\"outlinewidth\": 0, \"ticks\": \"\"}, \"colorscale\": [[0.0, \"#0d0887\"], [0.1111111111111111, \"#46039f\"], [0.2222222222222222, \"#7201a8\"], [0.3333333333333333, \"#9c179e\"], [0.4444444444444444, \"#bd3786\"], [0.5555555555555556, \"#d8576b\"], [0.6666666666666666, \"#ed7953\"], [0.7777777777777778, \"#fb9f3a\"], [0.8888888888888888, \"#fdca26\"], [1.0, \"#f0f921\"]], \"type\": \"heatmap\"}], \"heatmapgl\": [{\"colorbar\": {\"outlinewidth\": 0, \"ticks\": \"\"}, \"colorscale\": [[0.0, \"#0d0887\"], [0.1111111111111111, \"#46039f\"], [0.2222222222222222, \"#7201a8\"], [0.3333333333333333, \"#9c179e\"], [0.4444444444444444, \"#bd3786\"], [0.5555555555555556, \"#d8576b\"], [0.6666666666666666, \"#ed7953\"], [0.7777777777777778, \"#fb9f3a\"], [0.8888888888888888, \"#fdca26\"], [1.0, \"#f0f921\"]], \"type\": \"heatmapgl\"}], \"histogram\": [{\"marker\": {\"colorbar\": {\"outlinewidth\": 0, \"ticks\": \"\"}}, \"type\": \"histogram\"}], \"histogram2d\": [{\"colorbar\": {\"outlinewidth\": 0, \"ticks\": \"\"}, \"colorscale\": [[0.0, \"#0d0887\"], [0.1111111111111111, \"#46039f\"], [0.2222222222222222, \"#7201a8\"], [0.3333333333333333, \"#9c179e\"], [0.4444444444444444, \"#bd3786\"], [0.5555555555555556, \"#d8576b\"], [0.6666666666666666, \"#ed7953\"], [0.7777777777777778, \"#fb9f3a\"], [0.8888888888888888, \"#fdca26\"], [1.0, \"#f0f921\"]], \"type\": \"histogram2d\"}], \"histogram2dcontour\": [{\"colorbar\": {\"outlinewidth\": 0, \"ticks\": \"\"}, \"colorscale\": [[0.0, \"#0d0887\"], [0.1111111111111111, \"#46039f\"], [0.2222222222222222, \"#7201a8\"], [0.3333333333333333, \"#9c179e\"], [0.4444444444444444, \"#bd3786\"], [0.5555555555555556, \"#d8576b\"], [0.6666666666666666, \"#ed7953\"], [0.7777777777777778, \"#fb9f3a\"], [0.8888888888888888, \"#fdca26\"], [1.0, \"#f0f921\"]], \"type\": \"histogram2dcontour\"}], \"mesh3d\": [{\"colorbar\": {\"outlinewidth\": 0, \"ticks\": \"\"}, \"type\": \"mesh3d\"}], \"parcoords\": [{\"line\": {\"colorbar\": {\"outlinewidth\": 0, \"ticks\": \"\"}}, \"type\": \"parcoords\"}], \"pie\": [{\"automargin\": true, \"type\": \"pie\"}], \"scatter\": [{\"marker\": {\"colorbar\": {\"outlinewidth\": 0, \"ticks\": \"\"}}, \"type\": \"scatter\"}], \"scatter3d\": [{\"line\": {\"colorbar\": {\"outlinewidth\": 0, \"ticks\": \"\"}}, \"marker\": {\"colorbar\": {\"outlinewidth\": 0, \"ticks\": \"\"}}, \"type\": \"scatter3d\"}], \"scattercarpet\": [{\"marker\": {\"colorbar\": {\"outlinewidth\": 0, \"ticks\": \"\"}}, \"type\": \"scattercarpet\"}], \"scattergeo\": [{\"marker\": {\"colorbar\": {\"outlinewidth\": 0, \"ticks\": \"\"}}, \"type\": \"scattergeo\"}], \"scattergl\": [{\"marker\": {\"colorbar\": {\"outlinewidth\": 0, \"ticks\": \"\"}}, \"type\": \"scattergl\"}], \"scattermapbox\": [{\"marker\": {\"colorbar\": {\"outlinewidth\": 0, \"ticks\": \"\"}}, \"type\": \"scattermapbox\"}], \"scatterpolar\": [{\"marker\": {\"colorbar\": {\"outlinewidth\": 0, \"ticks\": \"\"}}, \"type\": \"scatterpolar\"}], \"scatterpolargl\": [{\"marker\": {\"colorbar\": {\"outlinewidth\": 0, \"ticks\": \"\"}}, \"type\": \"scatterpolargl\"}], \"scatterternary\": [{\"marker\": {\"colorbar\": {\"outlinewidth\": 0, \"ticks\": \"\"}}, \"type\": \"scatterternary\"}], \"surface\": [{\"colorbar\": {\"outlinewidth\": 0, \"ticks\": \"\"}, \"colorscale\": [[0.0, \"#0d0887\"], [0.1111111111111111, \"#46039f\"], [0.2222222222222222, \"#7201a8\"], [0.3333333333333333, \"#9c179e\"], [0.4444444444444444, \"#bd3786\"], [0.5555555555555556, \"#d8576b\"], [0.6666666666666666, \"#ed7953\"], [0.7777777777777778, \"#fb9f3a\"], [0.8888888888888888, \"#fdca26\"], [1.0, \"#f0f921\"]], \"type\": \"surface\"}], \"table\": [{\"cells\": {\"fill\": {\"color\": \"#EBF0F8\"}, \"line\": {\"color\": \"white\"}}, \"header\": {\"fill\": {\"color\": \"#C8D4E3\"}, \"line\": {\"color\": \"white\"}}, \"type\": \"table\"}]}, \"layout\": {\"annotationdefaults\": {\"arrowcolor\": \"#2a3f5f\", \"arrowhead\": 0, \"arrowwidth\": 1}, \"autotypenumbers\": \"strict\", \"coloraxis\": {\"colorbar\": {\"outlinewidth\": 0, \"ticks\": \"\"}}, \"colorscale\": {\"diverging\": [[0, \"#8e0152\"], [0.1, \"#c51b7d\"], [0.2, \"#de77ae\"], [0.3, \"#f1b6da\"], [0.4, \"#fde0ef\"], [0.5, \"#f7f7f7\"], [0.6, \"#e6f5d0\"], [0.7, \"#b8e186\"], [0.8, \"#7fbc41\"], [0.9, \"#4d9221\"], [1, \"#276419\"]], \"sequential\": [[0.0, \"#0d0887\"], [0.1111111111111111, \"#46039f\"], [0.2222222222222222, \"#7201a8\"], [0.3333333333333333, \"#9c179e\"], [0.4444444444444444, \"#bd3786\"], [0.5555555555555556, \"#d8576b\"], [0.6666666666666666, \"#ed7953\"], [0.7777777777777778, \"#fb9f3a\"], [0.8888888888888888, \"#fdca26\"], [1.0, \"#f0f921\"]], \"sequentialminus\": [[0.0, \"#0d0887\"], [0.1111111111111111, \"#46039f\"], [0.2222222222222222, \"#7201a8\"], [0.3333333333333333, \"#9c179e\"], [0.4444444444444444, \"#bd3786\"], [0.5555555555555556, \"#d8576b\"], [0.6666666666666666, \"#ed7953\"], [0.7777777777777778, \"#fb9f3a\"], [0.8888888888888888, \"#fdca26\"], [1.0, \"#f0f921\"]]}, \"colorway\": [\"#636efa\", \"#EF553B\", \"#00cc96\", \"#ab63fa\", \"#FFA15A\", \"#19d3f3\", \"#FF6692\", \"#B6E880\", \"#FF97FF\", \"#FECB52\"], \"font\": {\"color\": \"#2a3f5f\"}, \"geo\": {\"bgcolor\": \"white\", \"lakecolor\": \"white\", \"landcolor\": \"#E5ECF6\", \"showlakes\": true, \"showland\": true, \"subunitcolor\": \"white\"}, \"hoverlabel\": {\"align\": \"left\"}, \"hovermode\": \"closest\", \"mapbox\": {\"style\": \"light\"}, \"paper_bgcolor\": \"white\", \"plot_bgcolor\": \"#E5ECF6\", \"polar\": {\"angularaxis\": {\"gridcolor\": \"white\", \"linecolor\": \"white\", \"ticks\": \"\"}, \"bgcolor\": \"#E5ECF6\", \"radialaxis\": {\"gridcolor\": \"white\", \"linecolor\": \"white\", \"ticks\": \"\"}}, \"scene\": {\"xaxis\": {\"backgroundcolor\": \"#E5ECF6\", \"gridcolor\": \"white\", \"gridwidth\": 2, \"linecolor\": \"white\", \"showbackground\": true, \"ticks\": \"\", \"zerolinecolor\": \"white\"}, \"yaxis\": {\"backgroundcolor\": \"#E5ECF6\", \"gridcolor\": \"white\", \"gridwidth\": 2, \"linecolor\": \"white\", \"showbackground\": true, \"ticks\": \"\", \"zerolinecolor\": \"white\"}, \"zaxis\": {\"backgroundcolor\": \"#E5ECF6\", \"gridcolor\": \"white\", \"gridwidth\": 2, \"linecolor\": \"white\", \"showbackground\": true, \"ticks\": \"\", \"zerolinecolor\": \"white\"}}, \"shapedefaults\": {\"line\": {\"color\": \"#2a3f5f\"}}, \"ternary\": {\"aaxis\": {\"gridcolor\": \"white\", \"linecolor\": \"white\", \"ticks\": \"\"}, \"baxis\": {\"gridcolor\": \"white\", \"linecolor\": \"white\", \"ticks\": \"\"}, \"bgcolor\": \"#E5ECF6\", \"caxis\": {\"gridcolor\": \"white\", \"linecolor\": \"white\", \"ticks\": \"\"}}, \"title\": {\"x\": 0.05}, \"xaxis\": {\"automargin\": true, \"gridcolor\": \"white\", \"linecolor\": \"white\", \"ticks\": \"\", \"title\": {\"standoff\": 15}, \"zerolinecolor\": \"white\", \"zerolinewidth\": 2}, \"yaxis\": {\"automargin\": true, \"gridcolor\": \"white\", \"linecolor\": \"white\", \"ticks\": \"\", \"title\": {\"standoff\": 15}, \"zerolinecolor\": \"white\", \"zerolinewidth\": 2}}}, \"title\": {\"text\": \"Z score distribution by position\"}, \"yaxis\": {\"range\": [0, 55]}},                        {\"responsive\": true}                    ).then(function(){\n",
       "                            \n",
       "var gd = document.getElementById('98e43de6-031a-4d60-b0b4-9bdd69892c6e');\n",
       "var x = new MutationObserver(function (mutations, observer) {{\n",
       "        var display = window.getComputedStyle(gd).display;\n",
       "        if (!display || display === 'none') {{\n",
       "            console.log([gd, 'removed!']);\n",
       "            Plotly.purge(gd);\n",
       "            observer.disconnect();\n",
       "        }}\n",
       "}});\n",
       "\n",
       "// Listen for the removal of the full notebook cells\n",
       "var notebookContainer = gd.closest('#notebook-container');\n",
       "if (notebookContainer) {{\n",
       "    x.observe(notebookContainer, {childList: true});\n",
       "}}\n",
       "\n",
       "// Listen for the clearing of the current output cell\n",
       "var outputEl = gd.closest('.output');\n",
       "if (outputEl) {{\n",
       "    x.observe(outputEl, {childList: true});\n",
       "}}\n",
       "\n",
       "                        })                };                });            </script>        </div>"
      ]
     },
     "metadata": {},
     "output_type": "display_data"
    }
   ],
   "source": [
    "fig = go.Figure()\n",
    "fig.add_trace(go.Histogram(name='3B', x=b[b['Pos'].str.contains('3B')].sort_values('Value', ascending=False).drop_duplicates('playerid').head(300)['z'], \n",
    "                           nbinsx=10, opacity=.5))\n",
    "fig.add_trace(go.Histogram(name='1B', x=b[b['Pos'].str.contains('1B')].sort_values('Value', ascending=False).drop_duplicates('playerid').head(300)['z'], \n",
    "                           nbinsx=10, opacity=.5))\n",
    "fig.add_trace(go.Histogram(name='2B', x=b[b['Pos'].str.contains('2B')].sort_values('Value', ascending=False).drop_duplicates('playerid').head(300)['z'], \n",
    "                           nbinsx=10, opacity=.5))\n",
    "fig.add_trace(go.Histogram(name='SS', x=b[b['Pos'].str.contains('SS')].sort_values('Value', ascending=False).drop_duplicates('playerid').head(300)['z'], \n",
    "                           nbinsx=10, opacity=.5))\n",
    "\n",
    "fig.update_layout(title='Z score distribution by position', barmode='overlay', bargap=.1, yaxis_range=[0,55])\n",
    "fig.show()"
   ]
  },
  {
   "cell_type": "code",
   "execution_count": 150,
   "id": "e454c201",
   "metadata": {},
   "outputs": [
    {
     "data": {
      "text/plain": [
       "Primary_Pos\n",
       "1B    2.115528\n",
       "2B    3.622868\n",
       "3B    2.115528\n",
       "C     6.153191\n",
       "DH    3.875115\n",
       "OF    3.875115\n",
       "RP    0.346190\n",
       "SP    1.697257\n",
       "SS    3.622868\n",
       "Name: Pos_adj, dtype: float64"
      ]
     },
     "execution_count": 150,
     "metadata": {},
     "output_type": "execute_result"
    }
   ],
   "source": [
    "b.groupby('Primary_Pos')['Pos_adj'].mean()"
   ]
  },
  {
   "cell_type": "code",
   "execution_count": 151,
   "id": "1fc10b15",
   "metadata": {},
   "outputs": [
    {
     "data": {
      "text/html": [
       "<div>\n",
       "<style scoped>\n",
       "    .dataframe tbody tr th:only-of-type {\n",
       "        vertical-align: middle;\n",
       "    }\n",
       "\n",
       "    .dataframe tbody tr th {\n",
       "        vertical-align: top;\n",
       "    }\n",
       "\n",
       "    .dataframe thead th {\n",
       "        text-align: right;\n",
       "    }\n",
       "</style>\n",
       "<table border=\"1\" class=\"dataframe\">\n",
       "  <thead>\n",
       "    <tr style=\"text-align: right;\">\n",
       "      <th></th>\n",
       "      <th>Name</th>\n",
       "      <th>z</th>\n",
       "      <th>Value</th>\n",
       "    </tr>\n",
       "  </thead>\n",
       "  <tbody>\n",
       "    <tr>\n",
       "      <th>632</th>\n",
       "      <td>Gerrit Cole</td>\n",
       "      <td>8.703587</td>\n",
       "      <td>41.942339</td>\n",
       "    </tr>\n",
       "    <tr>\n",
       "      <th>630</th>\n",
       "      <td>Jacob deGrom</td>\n",
       "      <td>7.802738</td>\n",
       "      <td>37.601174</td>\n",
       "    </tr>\n",
       "    <tr>\n",
       "      <th>631</th>\n",
       "      <td>Max Scherzer</td>\n",
       "      <td>7.045824</td>\n",
       "      <td>33.953626</td>\n",
       "    </tr>\n",
       "    <tr>\n",
       "      <th>633</th>\n",
       "      <td>Corbin Burnes</td>\n",
       "      <td>6.477663</td>\n",
       "      <td>31.215675</td>\n",
       "    </tr>\n",
       "    <tr>\n",
       "      <th>635</th>\n",
       "      <td>Shane Bieber</td>\n",
       "      <td>5.883338</td>\n",
       "      <td>28.351640</td>\n",
       "    </tr>\n",
       "    <tr>\n",
       "      <th>634</th>\n",
       "      <td>Zack Wheeler</td>\n",
       "      <td>5.533366</td>\n",
       "      <td>26.665133</td>\n",
       "    </tr>\n",
       "    <tr>\n",
       "      <th>636</th>\n",
       "      <td>Brandon Woodruff</td>\n",
       "      <td>5.226010</td>\n",
       "      <td>25.183997</td>\n",
       "    </tr>\n",
       "    <tr>\n",
       "      <th>639</th>\n",
       "      <td>Robbie Ray</td>\n",
       "      <td>5.211867</td>\n",
       "      <td>25.115840</td>\n",
       "    </tr>\n",
       "    <tr>\n",
       "      <th>638</th>\n",
       "      <td>Justin Verlander</td>\n",
       "      <td>5.075417</td>\n",
       "      <td>24.458293</td>\n",
       "    </tr>\n",
       "    <tr>\n",
       "      <th>637</th>\n",
       "      <td>Aaron Nola</td>\n",
       "      <td>4.706902</td>\n",
       "      <td>22.682430</td>\n",
       "    </tr>\n",
       "    <tr>\n",
       "      <th>648</th>\n",
       "      <td>Walker Buehler</td>\n",
       "      <td>4.658999</td>\n",
       "      <td>22.451586</td>\n",
       "    </tr>\n",
       "    <tr>\n",
       "      <th>671</th>\n",
       "      <td>Lucas Giolito</td>\n",
       "      <td>4.534268</td>\n",
       "      <td>21.850511</td>\n",
       "    </tr>\n",
       "    <tr>\n",
       "      <th>665</th>\n",
       "      <td>Julio Urías</td>\n",
       "      <td>4.136467</td>\n",
       "      <td>19.933517</td>\n",
       "    </tr>\n",
       "    <tr>\n",
       "      <th>652</th>\n",
       "      <td>Kevin Gausman</td>\n",
       "      <td>4.081894</td>\n",
       "      <td>19.670533</td>\n",
       "    </tr>\n",
       "    <tr>\n",
       "      <th>651</th>\n",
       "      <td>Sandy Alcantara</td>\n",
       "      <td>3.883829</td>\n",
       "      <td>18.716063</td>\n",
       "    </tr>\n",
       "    <tr>\n",
       "      <th>654</th>\n",
       "      <td>Max Fried</td>\n",
       "      <td>3.826253</td>\n",
       "      <td>18.438606</td>\n",
       "    </tr>\n",
       "    <tr>\n",
       "      <th>668</th>\n",
       "      <td>José Berríos</td>\n",
       "      <td>3.711457</td>\n",
       "      <td>17.885405</td>\n",
       "    </tr>\n",
       "    <tr>\n",
       "      <th>642</th>\n",
       "      <td>Chris Sale</td>\n",
       "      <td>3.702344</td>\n",
       "      <td>17.841492</td>\n",
       "    </tr>\n",
       "    <tr>\n",
       "      <th>640</th>\n",
       "      <td>Charlie Morton</td>\n",
       "      <td>3.696111</td>\n",
       "      <td>17.811456</td>\n",
       "    </tr>\n",
       "    <tr>\n",
       "      <th>645</th>\n",
       "      <td>Joe Musgrove</td>\n",
       "      <td>3.687639</td>\n",
       "      <td>17.770627</td>\n",
       "    </tr>\n",
       "    <tr>\n",
       "      <th>660</th>\n",
       "      <td>Frankie Montas</td>\n",
       "      <td>3.582695</td>\n",
       "      <td>17.264907</td>\n",
       "    </tr>\n",
       "    <tr>\n",
       "      <th>646</th>\n",
       "      <td>Logan Webb</td>\n",
       "      <td>3.525861</td>\n",
       "      <td>16.991026</td>\n",
       "    </tr>\n",
       "    <tr>\n",
       "      <th>650</th>\n",
       "      <td>Sean Manaea</td>\n",
       "      <td>3.431770</td>\n",
       "      <td>16.537602</td>\n",
       "    </tr>\n",
       "    <tr>\n",
       "      <th>666</th>\n",
       "      <td>Freddy Peralta</td>\n",
       "      <td>3.354539</td>\n",
       "      <td>16.165431</td>\n",
       "    </tr>\n",
       "    <tr>\n",
       "      <th>663</th>\n",
       "      <td>Clayton Kershaw</td>\n",
       "      <td>3.314558</td>\n",
       "      <td>15.972761</td>\n",
       "    </tr>\n",
       "  </tbody>\n",
       "</table>\n",
       "</div>"
      ],
      "text/plain": [
       "                 Name         z      Value\n",
       "632       Gerrit Cole  8.703587  41.942339\n",
       "630      Jacob deGrom  7.802738  37.601174\n",
       "631      Max Scherzer  7.045824  33.953626\n",
       "633     Corbin Burnes  6.477663  31.215675\n",
       "635      Shane Bieber  5.883338  28.351640\n",
       "634      Zack Wheeler  5.533366  26.665133\n",
       "636  Brandon Woodruff  5.226010  25.183997\n",
       "639        Robbie Ray  5.211867  25.115840\n",
       "638  Justin Verlander  5.075417  24.458293\n",
       "637        Aaron Nola  4.706902  22.682430\n",
       "648    Walker Buehler  4.658999  22.451586\n",
       "671     Lucas Giolito  4.534268  21.850511\n",
       "665       Julio Urías  4.136467  19.933517\n",
       "652     Kevin Gausman  4.081894  19.670533\n",
       "651   Sandy Alcantara  3.883829  18.716063\n",
       "654         Max Fried  3.826253  18.438606\n",
       "668      José Berríos  3.711457  17.885405\n",
       "642        Chris Sale  3.702344  17.841492\n",
       "640    Charlie Morton  3.696111  17.811456\n",
       "645      Joe Musgrove  3.687639  17.770627\n",
       "660    Frankie Montas  3.582695  17.264907\n",
       "646        Logan Webb  3.525861  16.991026\n",
       "650       Sean Manaea  3.431770  16.537602\n",
       "666    Freddy Peralta  3.354539  16.165431\n",
       "663   Clayton Kershaw  3.314558  15.972761"
      ]
     },
     "execution_count": 151,
     "metadata": {},
     "output_type": "execute_result"
    }
   ],
   "source": [
    "b[b['Pos'].str.contains('SP')].sort_values('z',ascending=False).head(25)[['Name', 'z', 'Value']]"
   ]
  },
  {
   "cell_type": "markdown",
   "id": "206b64ff",
   "metadata": {},
   "source": [
    "#### Next Closest in Tier"
   ]
  },
  {
   "cell_type": "code",
   "execution_count": 23,
   "id": "1897df73",
   "metadata": {},
   "outputs": [
    {
     "name": "stdout",
     "output_type": "stream",
     "text": [
      "-3.3\n"
     ]
    },
    {
     "data": {
      "text/html": [
       "<div>\n",
       "<style scoped>\n",
       "    .dataframe tbody tr th:only-of-type {\n",
       "        vertical-align: middle;\n",
       "    }\n",
       "\n",
       "    .dataframe tbody tr th {\n",
       "        vertical-align: top;\n",
       "    }\n",
       "\n",
       "    .dataframe thead th {\n",
       "        text-align: right;\n",
       "    }\n",
       "</style>\n",
       "<table border=\"1\" class=\"dataframe\">\n",
       "  <thead>\n",
       "    <tr style=\"text-align: right;\">\n",
       "      <th></th>\n",
       "      <th>Name</th>\n",
       "      <th>Pos</th>\n",
       "      <th>z</th>\n",
       "      <th>Value</th>\n",
       "      <th>HR</th>\n",
       "      <th>SB</th>\n",
       "      <th>RBI</th>\n",
       "      <th>R</th>\n",
       "      <th>BA</th>\n",
       "    </tr>\n",
       "  </thead>\n",
       "  <tbody>\n",
       "    <tr>\n",
       "      <th>50</th>\n",
       "      <td>Josh Bell</td>\n",
       "      <td>1B/OF/DH</td>\n",
       "      <td>2.077314</td>\n",
       "      <td>10.421661</td>\n",
       "      <td>30.0</td>\n",
       "      <td>0.0</td>\n",
       "      <td>97.0</td>\n",
       "      <td>85.0</td>\n",
       "      <td>0.262315</td>\n",
       "    </tr>\n",
       "    <tr>\n",
       "      <th>51</th>\n",
       "      <td>Ryan Mountcastle</td>\n",
       "      <td>1B/OF/DH</td>\n",
       "      <td>1.411211</td>\n",
       "      <td>7.079895</td>\n",
       "      <td>30.0</td>\n",
       "      <td>4.0</td>\n",
       "      <td>87.0</td>\n",
       "      <td>77.0</td>\n",
       "      <td>0.259390</td>\n",
       "    </tr>\n",
       "    <tr>\n",
       "      <th>58</th>\n",
       "      <td>C.J. Cron</td>\n",
       "      <td>1B</td>\n",
       "      <td>1.406112</td>\n",
       "      <td>7.054310</td>\n",
       "      <td>29.0</td>\n",
       "      <td>1.0</td>\n",
       "      <td>89.0</td>\n",
       "      <td>76.0</td>\n",
       "      <td>0.267965</td>\n",
       "    </tr>\n",
       "    <tr>\n",
       "      <th>67</th>\n",
       "      <td>Joey Votto</td>\n",
       "      <td>1B</td>\n",
       "      <td>1.347745</td>\n",
       "      <td>6.761493</td>\n",
       "      <td>30.0</td>\n",
       "      <td>1.0</td>\n",
       "      <td>89.0</td>\n",
       "      <td>86.0</td>\n",
       "      <td>0.249225</td>\n",
       "    </tr>\n",
       "    <tr>\n",
       "      <th>69</th>\n",
       "      <td>Kyle Schwarber</td>\n",
       "      <td>1B/OF/DH</td>\n",
       "      <td>1.112198</td>\n",
       "      <td>5.579780</td>\n",
       "      <td>34.0</td>\n",
       "      <td>2.0</td>\n",
       "      <td>84.0</td>\n",
       "      <td>83.0</td>\n",
       "      <td>0.240136</td>\n",
       "    </tr>\n",
       "    <tr>\n",
       "      <th>79</th>\n",
       "      <td>Lourdes Gurriel Jr.</td>\n",
       "      <td>1B/OF/DH</td>\n",
       "      <td>0.448135</td>\n",
       "      <td>2.248247</td>\n",
       "      <td>24.0</td>\n",
       "      <td>3.0</td>\n",
       "      <td>81.0</td>\n",
       "      <td>70.0</td>\n",
       "      <td>0.269526</td>\n",
       "    </tr>\n",
       "  </tbody>\n",
       "</table>\n",
       "</div>"
      ],
      "text/plain": [
       "                   Name       Pos         z      Value    HR   SB   RBI     R  \\\n",
       "50            Josh Bell  1B/OF/DH  2.077314  10.421661  30.0  0.0  97.0  85.0   \n",
       "51     Ryan Mountcastle  1B/OF/DH  1.411211   7.079895  30.0  4.0  87.0  77.0   \n",
       "58            C.J. Cron        1B  1.406112   7.054310  29.0  1.0  89.0  76.0   \n",
       "67           Joey Votto        1B  1.347745   6.761493  30.0  1.0  89.0  86.0   \n",
       "69       Kyle Schwarber  1B/OF/DH  1.112198   5.579780  34.0  2.0  84.0  83.0   \n",
       "79  Lourdes Gurriel Jr.  1B/OF/DH  0.448135   2.248247  24.0  3.0  81.0  70.0   \n",
       "\n",
       "          BA  \n",
       "50  0.262315  \n",
       "51  0.259390  \n",
       "58  0.267965  \n",
       "67  0.249225  \n",
       "69  0.240136  \n",
       "79  0.269526  "
      ]
     },
     "execution_count": 23,
     "metadata": {},
     "output_type": "execute_result"
    }
   ],
   "source": [
    "tier_pos = df[df['Name']=='Freddie Freeman']['Primary_Pos'].iloc[0]\n",
    "drop_in_tier = round(df[(df['Primary_Pos']==tier_pos) & (df['Owner'].isna())].iloc[1]['Value'] - df[(df['Primary_Pos']==tier_pos) & (df['Owner'].isna())].iloc[0]['Value'],1)\n",
    "print(drop_in_tier)\n",
    "df[(df['Primary_Pos']==tier_pos) & (df['Owner'].isna())].iloc[:6][['Name', 'Pos', 'z', 'Value', 'HR', 'SB', 'RBI', 'R', 'BA']]"
   ]
  },
  {
   "cell_type": "code",
   "execution_count": 24,
   "id": "ab8eff4c",
   "metadata": {},
   "outputs": [
    {
     "data": {
      "text/plain": [
       "8.604983664708165"
      ]
     },
     "execution_count": 24,
     "metadata": {},
     "output_type": "execute_result"
    }
   ],
   "source": [
    "i = df[(df['Primary_Pos']=='SS') & (df['playerid']=='18314') & (df['Owner'].isna())].index[0]\n",
    "v = df[(df['Primary_Pos']=='SS') & (df['Owner'].isna()) & (df['playerid']=='18314')]['Value'].iloc[0]\n",
    "df[(df['Primary_Pos']=='SS') & (df['Owner'].isna()) & (df['Value']<=v)].iloc[1]['Value']"
   ]
  },
  {
   "cell_type": "code",
   "execution_count": 25,
   "id": "21b4d27d",
   "metadata": {},
   "outputs": [],
   "source": [
    "df['next_in_tier'] = df.apply(lambda x: next_closest_in_tier(df, x['Primary_Pos'], x['playerid']),axis=1)"
   ]
  },
  {
   "cell_type": "code",
   "execution_count": 26,
   "id": "b4651bea",
   "metadata": {},
   "outputs": [
    {
     "data": {
      "text/plain": [
       "<AxesSubplot:>"
      ]
     },
     "execution_count": 26,
     "metadata": {},
     "output_type": "execute_result"
    },
    {
     "data": {
      "image/png": "[encoded data removed]",
      "text/plain": [
       "<Figure size 432x288 with 1 Axes>"
      ]
     },
     "metadata": {
      "needs_background": "light"
     },
     "output_type": "display_data"
    }
   ],
   "source": [
    "df[(df['Primary_Pos']==tier_pos) & (df['z']>0)]['Value'].hist()"
   ]
  },
  {
   "cell_type": "markdown",
   "id": "e0908963",
   "metadata": {},
   "source": [
    "### StatCast work"
   ]
  },
  {
   "cell_type": "code",
   "execution_count": 27,
   "id": "b4580369",
   "metadata": {},
   "outputs": [
    {
     "name": "stdout",
     "output_type": "stream",
     "text": [
      "This is a large query, it may take a moment to complete\n",
      "Skipping offseason dates\n",
      "Skipping offseason dates\n",
      "Skipping offseason dates\n",
      "Skipping offseason dates\n"
     ]
    },
    {
     "name": "stderr",
     "output_type": "stream",
     "text": [
      "100%|██████████| 568/568 [03:56<00:00,  2.40it/s]\n"
     ]
    }
   ],
   "source": [
    "sc = statcast('2019-03-01', '2021-11-30')"
   ]
  },
  {
   "cell_type": "code",
   "execution_count": 33,
   "id": "eb669497",
   "metadata": {},
   "outputs": [
    {
     "data": {
      "text/plain": [
       "Index(['pitch_type', 'game_date', 'release_speed', 'release_pos_x',\n",
       "       'release_pos_z', 'player_name', 'batter', 'pitcher', 'events',\n",
       "       'description', 'spin_dir', 'spin_rate_deprecated',\n",
       "       'break_angle_deprecated', 'break_length_deprecated', 'zone', 'des',\n",
       "       'game_type', 'stand', 'p_throws', 'home_team', 'away_team', 'type',\n",
       "       'hit_location', 'bb_type', 'balls', 'strikes', 'game_year', 'pfx_x',\n",
       "       'pfx_z', 'plate_x', 'plate_z', 'on_3b', 'on_2b', 'on_1b',\n",
       "       'outs_when_up', 'inning', 'inning_topbot', 'hc_x', 'hc_y',\n",
       "       'tfs_deprecated', 'tfs_zulu_deprecated', 'fielder_2', 'umpire', 'sv_id',\n",
       "       'vx0', 'vy0', 'vz0', 'ax', 'ay', 'az', 'sz_top', 'sz_bot',\n",
       "       'hit_distance_sc', 'launch_speed', 'launch_angle', 'effective_speed',\n",
       "       'release_spin_rate', 'release_extension', 'game_pk', 'pitcher.1',\n",
       "       'fielder_2.1', 'fielder_3', 'fielder_4', 'fielder_5', 'fielder_6',\n",
       "       'fielder_7', 'fielder_8', 'fielder_9', 'release_pos_y',\n",
       "       'estimated_ba_using_speedangle', 'estimated_woba_using_speedangle',\n",
       "       'woba_value', 'woba_denom', 'babip_value', 'iso_value',\n",
       "       'launch_speed_angle', 'at_bat_number', 'pitch_number', 'pitch_name',\n",
       "       'home_score', 'away_score', 'bat_score', 'fld_score', 'post_away_score',\n",
       "       'post_home_score', 'post_bat_score', 'post_fld_score',\n",
       "       'if_fielding_alignment', 'of_fielding_alignment', 'spin_axis',\n",
       "       'delta_home_win_exp', 'delta_run_exp'],\n",
       "      dtype='object')"
      ]
     },
     "execution_count": 33,
     "metadata": {},
     "output_type": "execute_result"
    }
   ],
   "source": [
    "sc.columns"
   ]
  },
  {
   "cell_type": "code",
   "execution_count": 43,
   "id": "7ab4d888",
   "metadata": {},
   "outputs": [
    {
     "data": {
      "text/plain": [
       "1581     12.6\n",
       "3777     20.0\n",
       "3629     22.0\n",
       "2725     25.4\n",
       "2180     25.8\n",
       "        ...  \n",
       "3101    110.3\n",
       "515     110.8\n",
       "139     111.3\n",
       "360     111.4\n",
       "737     125.3\n",
       "Name: launch_speed, Length: 2264, dtype: float64"
      ]
     },
     "execution_count": 43,
     "metadata": {},
     "output_type": "execute_result"
    }
   ],
   "source": [
    "sc[(sc['batter']==645277) & (sc['launch_speed'].notna())]['launch_speed'].sort_values()"
   ]
  },
  {
   "cell_type": "code",
   "execution_count": 38,
   "id": "36d4d71d",
   "metadata": {},
   "outputs": [
    {
     "data": {
      "text/plain": [
       "batter\n",
       "645277    125.3\n",
       "519317    122.2\n",
       "596146    120.0\n",
       "665489    119.7\n",
       "592518    119.6\n",
       "572287    119.4\n",
       "553993    119.3\n",
       "596142    119.1\n",
       "592450    119.0\n",
       "660271    119.0\n",
       "443558    118.8\n",
       "614173    118.6\n",
       "624413    118.4\n",
       "606157    118.3\n",
       "665833    118.2\n",
       "656467    118.0\n",
       "594953    118.0\n",
       "547989    117.9\n",
       "543807    117.9\n",
       "660670    117.9\n",
       "592885    117.9\n",
       "670541    117.9\n",
       "624585    117.9\n",
       "673357    117.7\n",
       "606213    117.7\n",
       "656941    117.6\n",
       "608336    117.6\n",
       "543760    117.5\n",
       "642133    117.4\n",
       "646240    117.4\n",
       "543068    117.2\n",
       "593934    117.1\n",
       "570731    117.1\n",
       "541645    116.7\n",
       "595879    116.7\n",
       "665487    116.6\n",
       "665742    116.6\n",
       "545361    116.6\n",
       "405395    116.6\n",
       "457708    116.5\n",
       "621043    116.4\n",
       "547180    116.4\n",
       "592669    116.4\n",
       "606466    116.3\n",
       "605196    116.2\n",
       "Name: launch_speed, dtype: float64"
      ]
     },
     "execution_count": 38,
     "metadata": {},
     "output_type": "execute_result"
    }
   ],
   "source": [
    "sc.groupby('batter')['launch_speed'].max().sort_values(ascending=False).head(45)"
   ]
  },
  {
   "cell_type": "code",
   "execution_count": 54,
   "id": "9d7f4c4c",
   "metadata": {},
   "outputs": [],
   "source": [
    "sc = pd.read_csv('data/statcast-exit_velocity.csv')\n",
    "sc = sc.sort_values('brl_pa', ascending=False)\n",
    "sc = sc.merge(df[['playerid', 'Name', 'Primary_Pos']], on='playerid', how='left')\n",
    "sc.Name.fillna(sc['first_name']+' '+sc['last_name'],inplace=True)\n",
    "sc = sc[~sc['Primary_Pos'].isin(['SP', 'RP'])]\n",
    "sc['brl_pa_rank'] = sc.brl_pa.rank(pct=True)"
   ]
  },
  {
   "cell_type": "code",
   "execution_count": 60,
   "id": "4ebd0305",
   "metadata": {},
   "outputs": [],
   "source": [
    "sc['brl_pa_rank'] = sc.brl_pa.rank(pct=True)"
   ]
  },
  {
   "cell_type": "code",
   "execution_count": 69,
   "id": "759a8dbe",
   "metadata": {},
   "outputs": [
    {
     "data": {
      "text/plain": [
       "last_name                      Tauchman\n",
       "first_name                         Mike\n",
       "playerid                          15274\n",
       "player_id                        643565\n",
       "year                               2019\n",
       "attempts                            190\n",
       "avg_hit_angle                      11.3\n",
       "anglesweetspotpercent              39.5\n",
       "max_hit_speed                     109.8\n",
       "avg_hit_speed                      88.7\n",
       "fbld                               91.4\n",
       "gb                                 87.7\n",
       "max_distance                        413\n",
       "avg_distance                        181\n",
       "avg_hr_distance                     381\n",
       "ev95plus                             74\n",
       "ev95per-swing                      13.4\n",
       "ev95percent                        38.9\n",
       "barrels                              12\n",
       "brl_percent                         6.3\n",
       "brl_pa                              4.1\n",
       "Name                      Mike Tauchman\n",
       "Primary_Pos                         NaN\n",
       "brl_pa_rank                    0.442698\n",
       "Name: 850, dtype: object"
      ]
     },
     "execution_count": 69,
     "metadata": {},
     "output_type": "execute_result"
    }
   ],
   "source": [
    "sc.loc[850]"
   ]
  },
  {
   "cell_type": "code",
   "execution_count": 55,
   "id": "6d06d038",
   "metadata": {},
   "outputs": [
    {
     "data": {
      "text/html": [
       "<div>\n",
       "<style scoped>\n",
       "    .dataframe tbody tr th:only-of-type {\n",
       "        vertical-align: middle;\n",
       "    }\n",
       "\n",
       "    .dataframe tbody tr th {\n",
       "        vertical-align: top;\n",
       "    }\n",
       "\n",
       "    .dataframe thead tr th {\n",
       "        text-align: left;\n",
       "    }\n",
       "\n",
       "    .dataframe thead tr:last-of-type th {\n",
       "        text-align: right;\n",
       "    }\n",
       "</style>\n",
       "<table border=\"1\" class=\"dataframe\">\n",
       "  <thead>\n",
       "    <tr>\n",
       "      <th></th>\n",
       "      <th colspan=\"3\" halign=\"left\">anglesweetspotpercent</th>\n",
       "      <th colspan=\"3\" halign=\"left\">attempts</th>\n",
       "      <th colspan=\"3\" halign=\"left\">avg_distance</th>\n",
       "      <th colspan=\"3\" halign=\"left\">avg_hit_angle</th>\n",
       "      <th colspan=\"3\" halign=\"left\">avg_hit_speed</th>\n",
       "      <th colspan=\"3\" halign=\"left\">avg_hr_distance</th>\n",
       "      <th colspan=\"3\" halign=\"left\">barrels</th>\n",
       "      <th colspan=\"3\" halign=\"left\">brl_pa</th>\n",
       "      <th colspan=\"3\" halign=\"left\">brl_percent</th>\n",
       "      <th colspan=\"3\" halign=\"left\">ev95per-swing</th>\n",
       "      <th colspan=\"3\" halign=\"left\">ev95percent</th>\n",
       "      <th colspan=\"3\" halign=\"left\">ev95plus</th>\n",
       "      <th colspan=\"3\" halign=\"left\">fbld</th>\n",
       "      <th colspan=\"3\" halign=\"left\">gb</th>\n",
       "      <th colspan=\"3\" halign=\"left\">max_distance</th>\n",
       "      <th colspan=\"3\" halign=\"left\">max_hit_speed</th>\n",
       "      <th colspan=\"3\" halign=\"left\">player_id</th>\n",
       "    </tr>\n",
       "    <tr>\n",
       "      <th>year</th>\n",
       "      <th>2019</th>\n",
       "      <th>2020</th>\n",
       "      <th>2021</th>\n",
       "      <th>2019</th>\n",
       "      <th>2020</th>\n",
       "      <th>2021</th>\n",
       "      <th>2019</th>\n",
       "      <th>2020</th>\n",
       "      <th>2021</th>\n",
       "      <th>2019</th>\n",
       "      <th>2020</th>\n",
       "      <th>2021</th>\n",
       "      <th>2019</th>\n",
       "      <th>2020</th>\n",
       "      <th>2021</th>\n",
       "      <th>2019</th>\n",
       "      <th>2020</th>\n",
       "      <th>2021</th>\n",
       "      <th>2019</th>\n",
       "      <th>2020</th>\n",
       "      <th>2021</th>\n",
       "      <th>2019</th>\n",
       "      <th>2020</th>\n",
       "      <th>2021</th>\n",
       "      <th>2019</th>\n",
       "      <th>2020</th>\n",
       "      <th>2021</th>\n",
       "      <th>2019</th>\n",
       "      <th>2020</th>\n",
       "      <th>2021</th>\n",
       "      <th>2019</th>\n",
       "      <th>2020</th>\n",
       "      <th>2021</th>\n",
       "      <th>2019</th>\n",
       "      <th>2020</th>\n",
       "      <th>2021</th>\n",
       "      <th>2019</th>\n",
       "      <th>2020</th>\n",
       "      <th>2021</th>\n",
       "      <th>2019</th>\n",
       "      <th>2020</th>\n",
       "      <th>2021</th>\n",
       "      <th>2019</th>\n",
       "      <th>2020</th>\n",
       "      <th>2021</th>\n",
       "      <th>2019</th>\n",
       "      <th>2020</th>\n",
       "      <th>2021</th>\n",
       "      <th>2019</th>\n",
       "      <th>2020</th>\n",
       "      <th>2021</th>\n",
       "    </tr>\n",
       "    <tr>\n",
       "      <th>Name</th>\n",
       "      <th></th>\n",
       "      <th></th>\n",
       "      <th></th>\n",
       "      <th></th>\n",
       "      <th></th>\n",
       "      <th></th>\n",
       "      <th></th>\n",
       "      <th></th>\n",
       "      <th></th>\n",
       "      <th></th>\n",
       "      <th></th>\n",
       "      <th></th>\n",
       "      <th></th>\n",
       "      <th></th>\n",
       "      <th></th>\n",
       "      <th></th>\n",
       "      <th></th>\n",
       "      <th></th>\n",
       "      <th></th>\n",
       "      <th></th>\n",
       "      <th></th>\n",
       "      <th></th>\n",
       "      <th></th>\n",
       "      <th></th>\n",
       "      <th></th>\n",
       "      <th></th>\n",
       "      <th></th>\n",
       "      <th></th>\n",
       "      <th></th>\n",
       "      <th></th>\n",
       "      <th></th>\n",
       "      <th></th>\n",
       "      <th></th>\n",
       "      <th></th>\n",
       "      <th></th>\n",
       "      <th></th>\n",
       "      <th></th>\n",
       "      <th></th>\n",
       "      <th></th>\n",
       "      <th></th>\n",
       "      <th></th>\n",
       "      <th></th>\n",
       "      <th></th>\n",
       "      <th></th>\n",
       "      <th></th>\n",
       "      <th></th>\n",
       "      <th></th>\n",
       "      <th></th>\n",
       "      <th></th>\n",
       "      <th></th>\n",
       "      <th></th>\n",
       "    </tr>\n",
       "  </thead>\n",
       "  <tbody>\n",
       "    <tr>\n",
       "      <th>Abraham Almonte</th>\n",
       "      <td>NaN</td>\n",
       "      <td>NaN</td>\n",
       "      <td>32.4</td>\n",
       "      <td>NaN</td>\n",
       "      <td>NaN</td>\n",
       "      <td>111.0</td>\n",
       "      <td>NaN</td>\n",
       "      <td>NaN</td>\n",
       "      <td>163.0</td>\n",
       "      <td>NaN</td>\n",
       "      <td>NaN</td>\n",
       "      <td>10.5</td>\n",
       "      <td>NaN</td>\n",
       "      <td>NaN</td>\n",
       "      <td>89.3</td>\n",
       "      <td>NaN</td>\n",
       "      <td>NaN</td>\n",
       "      <td>382.0</td>\n",
       "      <td>NaN</td>\n",
       "      <td>NaN</td>\n",
       "      <td>8.0</td>\n",
       "      <td>NaN</td>\n",
       "      <td>NaN</td>\n",
       "      <td>4.6</td>\n",
       "      <td>NaN</td>\n",
       "      <td>NaN</td>\n",
       "      <td>7.2</td>\n",
       "      <td>NaN</td>\n",
       "      <td>NaN</td>\n",
       "      <td>14.0</td>\n",
       "      <td>NaN</td>\n",
       "      <td>NaN</td>\n",
       "      <td>41.4</td>\n",
       "      <td>NaN</td>\n",
       "      <td>NaN</td>\n",
       "      <td>46.0</td>\n",
       "      <td>NaN</td>\n",
       "      <td>NaN</td>\n",
       "      <td>94.1</td>\n",
       "      <td>NaN</td>\n",
       "      <td>NaN</td>\n",
       "      <td>86.6</td>\n",
       "      <td>NaN</td>\n",
       "      <td>NaN</td>\n",
       "      <td>400.0</td>\n",
       "      <td>NaN</td>\n",
       "      <td>NaN</td>\n",
       "      <td>109.8</td>\n",
       "      <td>NaN</td>\n",
       "      <td>NaN</td>\n",
       "      <td>501659.0</td>\n",
       "    </tr>\n",
       "    <tr>\n",
       "      <th>Adam Jones</th>\n",
       "      <td>31.3</td>\n",
       "      <td>NaN</td>\n",
       "      <td>NaN</td>\n",
       "      <td>387.0</td>\n",
       "      <td>NaN</td>\n",
       "      <td>NaN</td>\n",
       "      <td>168.0</td>\n",
       "      <td>NaN</td>\n",
       "      <td>NaN</td>\n",
       "      <td>13.5</td>\n",
       "      <td>NaN</td>\n",
       "      <td>NaN</td>\n",
       "      <td>86.2</td>\n",
       "      <td>NaN</td>\n",
       "      <td>NaN</td>\n",
       "      <td>405.0</td>\n",
       "      <td>NaN</td>\n",
       "      <td>NaN</td>\n",
       "      <td>26.0</td>\n",
       "      <td>NaN</td>\n",
       "      <td>NaN</td>\n",
       "      <td>4.9</td>\n",
       "      <td>NaN</td>\n",
       "      <td>NaN</td>\n",
       "      <td>6.7</td>\n",
       "      <td>NaN</td>\n",
       "      <td>NaN</td>\n",
       "      <td>11.5</td>\n",
       "      <td>NaN</td>\n",
       "      <td>NaN</td>\n",
       "      <td>31.0</td>\n",
       "      <td>NaN</td>\n",
       "      <td>NaN</td>\n",
       "      <td>120.0</td>\n",
       "      <td>NaN</td>\n",
       "      <td>NaN</td>\n",
       "      <td>90.2</td>\n",
       "      <td>NaN</td>\n",
       "      <td>NaN</td>\n",
       "      <td>84.3</td>\n",
       "      <td>NaN</td>\n",
       "      <td>NaN</td>\n",
       "      <td>441.0</td>\n",
       "      <td>NaN</td>\n",
       "      <td>NaN</td>\n",
       "      <td>108.5</td>\n",
       "      <td>NaN</td>\n",
       "      <td>NaN</td>\n",
       "      <td>430945.0</td>\n",
       "      <td>NaN</td>\n",
       "      <td>NaN</td>\n",
       "    </tr>\n",
       "    <tr>\n",
       "      <th>Addison Russell</th>\n",
       "      <td>33.1</td>\n",
       "      <td>NaN</td>\n",
       "      <td>NaN</td>\n",
       "      <td>160.0</td>\n",
       "      <td>NaN</td>\n",
       "      <td>NaN</td>\n",
       "      <td>166.0</td>\n",
       "      <td>NaN</td>\n",
       "      <td>NaN</td>\n",
       "      <td>9.1</td>\n",
       "      <td>NaN</td>\n",
       "      <td>NaN</td>\n",
       "      <td>86.9</td>\n",
       "      <td>NaN</td>\n",
       "      <td>NaN</td>\n",
       "      <td>395.0</td>\n",
       "      <td>NaN</td>\n",
       "      <td>NaN</td>\n",
       "      <td>11.0</td>\n",
       "      <td>NaN</td>\n",
       "      <td>NaN</td>\n",
       "      <td>4.6</td>\n",
       "      <td>NaN</td>\n",
       "      <td>NaN</td>\n",
       "      <td>6.9</td>\n",
       "      <td>NaN</td>\n",
       "      <td>NaN</td>\n",
       "      <td>9.8</td>\n",
       "      <td>NaN</td>\n",
       "      <td>NaN</td>\n",
       "      <td>28.1</td>\n",
       "      <td>NaN</td>\n",
       "      <td>NaN</td>\n",
       "      <td>45.0</td>\n",
       "      <td>NaN</td>\n",
       "      <td>NaN</td>\n",
       "      <td>90.3</td>\n",
       "      <td>NaN</td>\n",
       "      <td>NaN</td>\n",
       "      <td>84.6</td>\n",
       "      <td>NaN</td>\n",
       "      <td>NaN</td>\n",
       "      <td>414.0</td>\n",
       "      <td>NaN</td>\n",
       "      <td>NaN</td>\n",
       "      <td>107.2</td>\n",
       "      <td>NaN</td>\n",
       "      <td>NaN</td>\n",
       "      <td>608365.0</td>\n",
       "      <td>NaN</td>\n",
       "      <td>NaN</td>\n",
       "    </tr>\n",
       "    <tr>\n",
       "      <th>Adeiny Hechavarría</th>\n",
       "      <td>30.8</td>\n",
       "      <td>21.3</td>\n",
       "      <td>NaN</td>\n",
       "      <td>156.0</td>\n",
       "      <td>47.0</td>\n",
       "      <td>NaN</td>\n",
       "      <td>175.0</td>\n",
       "      <td>140.0</td>\n",
       "      <td>NaN</td>\n",
       "      <td>11.8</td>\n",
       "      <td>11.2</td>\n",
       "      <td>NaN</td>\n",
       "      <td>87.6</td>\n",
       "      <td>82.9</td>\n",
       "      <td>NaN</td>\n",
       "      <td>386.0</td>\n",
       "      <td>NaN</td>\n",
       "      <td>NaN</td>\n",
       "      <td>9.0</td>\n",
       "      <td>NaN</td>\n",
       "      <td>NaN</td>\n",
       "      <td>4.1</td>\n",
       "      <td>0.0</td>\n",
       "      <td>NaN</td>\n",
       "      <td>5.8</td>\n",
       "      <td>0.0</td>\n",
       "      <td>NaN</td>\n",
       "      <td>10.5</td>\n",
       "      <td>8.0</td>\n",
       "      <td>NaN</td>\n",
       "      <td>29.5</td>\n",
       "      <td>23.4</td>\n",
       "      <td>NaN</td>\n",
       "      <td>46.0</td>\n",
       "      <td>11.0</td>\n",
       "      <td>NaN</td>\n",
       "      <td>92.6</td>\n",
       "      <td>85.7</td>\n",
       "      <td>NaN</td>\n",
       "      <td>84.5</td>\n",
       "      <td>81.2</td>\n",
       "      <td>NaN</td>\n",
       "      <td>422.0</td>\n",
       "      <td>361.0</td>\n",
       "      <td>NaN</td>\n",
       "      <td>105.9</td>\n",
       "      <td>105.1</td>\n",
       "      <td>NaN</td>\n",
       "      <td>588751.0</td>\n",
       "      <td>588751.0</td>\n",
       "      <td>NaN</td>\n",
       "    </tr>\n",
       "    <tr>\n",
       "      <th>Akil Baddoo</th>\n",
       "      <td>NaN</td>\n",
       "      <td>NaN</td>\n",
       "      <td>37.4</td>\n",
       "      <td>NaN</td>\n",
       "      <td>NaN</td>\n",
       "      <td>294.0</td>\n",
       "      <td>NaN</td>\n",
       "      <td>NaN</td>\n",
       "      <td>175.0</td>\n",
       "      <td>NaN</td>\n",
       "      <td>NaN</td>\n",
       "      <td>13.8</td>\n",
       "      <td>NaN</td>\n",
       "      <td>NaN</td>\n",
       "      <td>86.0</td>\n",
       "      <td>NaN</td>\n",
       "      <td>NaN</td>\n",
       "      <td>385.0</td>\n",
       "      <td>NaN</td>\n",
       "      <td>NaN</td>\n",
       "      <td>26.0</td>\n",
       "      <td>NaN</td>\n",
       "      <td>NaN</td>\n",
       "      <td>5.6</td>\n",
       "      <td>NaN</td>\n",
       "      <td>NaN</td>\n",
       "      <td>8.8</td>\n",
       "      <td>NaN</td>\n",
       "      <td>NaN</td>\n",
       "      <td>11.0</td>\n",
       "      <td>NaN</td>\n",
       "      <td>NaN</td>\n",
       "      <td>32.3</td>\n",
       "      <td>NaN</td>\n",
       "      <td>NaN</td>\n",
       "      <td>95.0</td>\n",
       "      <td>NaN</td>\n",
       "      <td>NaN</td>\n",
       "      <td>91.1</td>\n",
       "      <td>NaN</td>\n",
       "      <td>NaN</td>\n",
       "      <td>80.9</td>\n",
       "      <td>NaN</td>\n",
       "      <td>NaN</td>\n",
       "      <td>450.0</td>\n",
       "      <td>NaN</td>\n",
       "      <td>NaN</td>\n",
       "      <td>111.8</td>\n",
       "      <td>NaN</td>\n",
       "      <td>NaN</td>\n",
       "      <td>668731.0</td>\n",
       "    </tr>\n",
       "    <tr>\n",
       "      <th>...</th>\n",
       "      <td>...</td>\n",
       "      <td>...</td>\n",
       "      <td>...</td>\n",
       "      <td>...</td>\n",
       "      <td>...</td>\n",
       "      <td>...</td>\n",
       "      <td>...</td>\n",
       "      <td>...</td>\n",
       "      <td>...</td>\n",
       "      <td>...</td>\n",
       "      <td>...</td>\n",
       "      <td>...</td>\n",
       "      <td>...</td>\n",
       "      <td>...</td>\n",
       "      <td>...</td>\n",
       "      <td>...</td>\n",
       "      <td>...</td>\n",
       "      <td>...</td>\n",
       "      <td>...</td>\n",
       "      <td>...</td>\n",
       "      <td>...</td>\n",
       "      <td>...</td>\n",
       "      <td>...</td>\n",
       "      <td>...</td>\n",
       "      <td>...</td>\n",
       "      <td>...</td>\n",
       "      <td>...</td>\n",
       "      <td>...</td>\n",
       "      <td>...</td>\n",
       "      <td>...</td>\n",
       "      <td>...</td>\n",
       "      <td>...</td>\n",
       "      <td>...</td>\n",
       "      <td>...</td>\n",
       "      <td>...</td>\n",
       "      <td>...</td>\n",
       "      <td>...</td>\n",
       "      <td>...</td>\n",
       "      <td>...</td>\n",
       "      <td>...</td>\n",
       "      <td>...</td>\n",
       "      <td>...</td>\n",
       "      <td>...</td>\n",
       "      <td>...</td>\n",
       "      <td>...</td>\n",
       "      <td>...</td>\n",
       "      <td>...</td>\n",
       "      <td>...</td>\n",
       "      <td>...</td>\n",
       "      <td>...</td>\n",
       "      <td>...</td>\n",
       "    </tr>\n",
       "    <tr>\n",
       "      <th>Yordan Alvarez</th>\n",
       "      <td>39.4</td>\n",
       "      <td>NaN</td>\n",
       "      <td>37.2</td>\n",
       "      <td>221.0</td>\n",
       "      <td>NaN</td>\n",
       "      <td>395.0</td>\n",
       "      <td>203.0</td>\n",
       "      <td>NaN</td>\n",
       "      <td>194.0</td>\n",
       "      <td>13.4</td>\n",
       "      <td>NaN</td>\n",
       "      <td>14.1</td>\n",
       "      <td>92.2</td>\n",
       "      <td>NaN</td>\n",
       "      <td>93.2</td>\n",
       "      <td>410.0</td>\n",
       "      <td>NaN</td>\n",
       "      <td>408.0</td>\n",
       "      <td>37.0</td>\n",
       "      <td>NaN</td>\n",
       "      <td>63.0</td>\n",
       "      <td>10.0</td>\n",
       "      <td>NaN</td>\n",
       "      <td>10.5</td>\n",
       "      <td>16.7</td>\n",
       "      <td>NaN</td>\n",
       "      <td>15.9</td>\n",
       "      <td>16.6</td>\n",
       "      <td>NaN</td>\n",
       "      <td>20.8</td>\n",
       "      <td>48.4</td>\n",
       "      <td>NaN</td>\n",
       "      <td>54.2</td>\n",
       "      <td>107.0</td>\n",
       "      <td>NaN</td>\n",
       "      <td>214.0</td>\n",
       "      <td>96.5</td>\n",
       "      <td>NaN</td>\n",
       "      <td>97.4</td>\n",
       "      <td>86.5</td>\n",
       "      <td>NaN</td>\n",
       "      <td>88.5</td>\n",
       "      <td>454.0</td>\n",
       "      <td>NaN</td>\n",
       "      <td>456.0</td>\n",
       "      <td>117.9</td>\n",
       "      <td>NaN</td>\n",
       "      <td>116.4</td>\n",
       "      <td>670541.0</td>\n",
       "      <td>NaN</td>\n",
       "      <td>670541.0</td>\n",
       "    </tr>\n",
       "    <tr>\n",
       "      <th>Yoshi Tsutsugo</th>\n",
       "      <td>NaN</td>\n",
       "      <td>25.0</td>\n",
       "      <td>28.8</td>\n",
       "      <td>NaN</td>\n",
       "      <td>108.0</td>\n",
       "      <td>160.0</td>\n",
       "      <td>NaN</td>\n",
       "      <td>172.0</td>\n",
       "      <td>176.0</td>\n",
       "      <td>NaN</td>\n",
       "      <td>17.2</td>\n",
       "      <td>17.1</td>\n",
       "      <td>NaN</td>\n",
       "      <td>90.2</td>\n",
       "      <td>89.6</td>\n",
       "      <td>NaN</td>\n",
       "      <td>395.0</td>\n",
       "      <td>401.0</td>\n",
       "      <td>NaN</td>\n",
       "      <td>10.0</td>\n",
       "      <td>11.0</td>\n",
       "      <td>NaN</td>\n",
       "      <td>5.4</td>\n",
       "      <td>4.2</td>\n",
       "      <td>NaN</td>\n",
       "      <td>9.3</td>\n",
       "      <td>6.9</td>\n",
       "      <td>NaN</td>\n",
       "      <td>15.2</td>\n",
       "      <td>12.5</td>\n",
       "      <td>NaN</td>\n",
       "      <td>47.2</td>\n",
       "      <td>38.1</td>\n",
       "      <td>NaN</td>\n",
       "      <td>51.0</td>\n",
       "      <td>61.0</td>\n",
       "      <td>NaN</td>\n",
       "      <td>95.2</td>\n",
       "      <td>90.4</td>\n",
       "      <td>NaN</td>\n",
       "      <td>88.4</td>\n",
       "      <td>89.6</td>\n",
       "      <td>NaN</td>\n",
       "      <td>437.0</td>\n",
       "      <td>430.0</td>\n",
       "      <td>NaN</td>\n",
       "      <td>108.9</td>\n",
       "      <td>111.1</td>\n",
       "      <td>NaN</td>\n",
       "      <td>660294.0</td>\n",
       "      <td>660294.0</td>\n",
       "    </tr>\n",
       "    <tr>\n",
       "      <th>Yu Chang</th>\n",
       "      <td>25.5</td>\n",
       "      <td>NaN</td>\n",
       "      <td>37.9</td>\n",
       "      <td>51.0</td>\n",
       "      <td>NaN</td>\n",
       "      <td>169.0</td>\n",
       "      <td>162.0</td>\n",
       "      <td>NaN</td>\n",
       "      <td>179.0</td>\n",
       "      <td>9.9</td>\n",
       "      <td>NaN</td>\n",
       "      <td>19.1</td>\n",
       "      <td>87.9</td>\n",
       "      <td>NaN</td>\n",
       "      <td>87.1</td>\n",
       "      <td>432.0</td>\n",
       "      <td>NaN</td>\n",
       "      <td>392.0</td>\n",
       "      <td>3.0</td>\n",
       "      <td>NaN</td>\n",
       "      <td>12.0</td>\n",
       "      <td>3.6</td>\n",
       "      <td>NaN</td>\n",
       "      <td>4.8</td>\n",
       "      <td>5.9</td>\n",
       "      <td>NaN</td>\n",
       "      <td>7.1</td>\n",
       "      <td>10.0</td>\n",
       "      <td>NaN</td>\n",
       "      <td>11.9</td>\n",
       "      <td>31.4</td>\n",
       "      <td>NaN</td>\n",
       "      <td>33.7</td>\n",
       "      <td>16.0</td>\n",
       "      <td>NaN</td>\n",
       "      <td>57.0</td>\n",
       "      <td>94.0</td>\n",
       "      <td>NaN</td>\n",
       "      <td>91.6</td>\n",
       "      <td>83.2</td>\n",
       "      <td>NaN</td>\n",
       "      <td>84.0</td>\n",
       "      <td>432.0</td>\n",
       "      <td>NaN</td>\n",
       "      <td>439.0</td>\n",
       "      <td>108.8</td>\n",
       "      <td>NaN</td>\n",
       "      <td>110.6</td>\n",
       "      <td>644374.0</td>\n",
       "      <td>NaN</td>\n",
       "      <td>644374.0</td>\n",
       "    </tr>\n",
       "    <tr>\n",
       "      <th>Yuli Gurriel</th>\n",
       "      <td>33.5</td>\n",
       "      <td>34.4</td>\n",
       "      <td>31.0</td>\n",
       "      <td>505.0</td>\n",
       "      <td>189.0</td>\n",
       "      <td>474.0</td>\n",
       "      <td>175.0</td>\n",
       "      <td>183.0</td>\n",
       "      <td>163.0</td>\n",
       "      <td>14.3</td>\n",
       "      <td>13.9</td>\n",
       "      <td>13.4</td>\n",
       "      <td>89.3</td>\n",
       "      <td>89.3</td>\n",
       "      <td>89.8</td>\n",
       "      <td>384.0</td>\n",
       "      <td>394.0</td>\n",
       "      <td>384.0</td>\n",
       "      <td>18.0</td>\n",
       "      <td>7.0</td>\n",
       "      <td>16.0</td>\n",
       "      <td>2.9</td>\n",
       "      <td>3.0</td>\n",
       "      <td>2.6</td>\n",
       "      <td>3.6</td>\n",
       "      <td>3.7</td>\n",
       "      <td>3.4</td>\n",
       "      <td>18.2</td>\n",
       "      <td>17.9</td>\n",
       "      <td>20.3</td>\n",
       "      <td>37.4</td>\n",
       "      <td>36.5</td>\n",
       "      <td>42.0</td>\n",
       "      <td>189.0</td>\n",
       "      <td>69.0</td>\n",
       "      <td>199.0</td>\n",
       "      <td>91.4</td>\n",
       "      <td>91.4</td>\n",
       "      <td>91.0</td>\n",
       "      <td>90.4</td>\n",
       "      <td>88.4</td>\n",
       "      <td>91.3</td>\n",
       "      <td>450.0</td>\n",
       "      <td>420.0</td>\n",
       "      <td>413.0</td>\n",
       "      <td>110.6</td>\n",
       "      <td>107.1</td>\n",
       "      <td>109.1</td>\n",
       "      <td>493329.0</td>\n",
       "      <td>493329.0</td>\n",
       "      <td>493329.0</td>\n",
       "    </tr>\n",
       "    <tr>\n",
       "      <th>Zack Collins</th>\n",
       "      <td>42.6</td>\n",
       "      <td>NaN</td>\n",
       "      <td>40.9</td>\n",
       "      <td>47.0</td>\n",
       "      <td>NaN</td>\n",
       "      <td>127.0</td>\n",
       "      <td>240.0</td>\n",
       "      <td>NaN</td>\n",
       "      <td>200.0</td>\n",
       "      <td>15.3</td>\n",
       "      <td>NaN</td>\n",
       "      <td>20.9</td>\n",
       "      <td>90.7</td>\n",
       "      <td>NaN</td>\n",
       "      <td>91.1</td>\n",
       "      <td>413.0</td>\n",
       "      <td>NaN</td>\n",
       "      <td>405.0</td>\n",
       "      <td>7.0</td>\n",
       "      <td>NaN</td>\n",
       "      <td>13.0</td>\n",
       "      <td>6.9</td>\n",
       "      <td>NaN</td>\n",
       "      <td>5.6</td>\n",
       "      <td>14.9</td>\n",
       "      <td>NaN</td>\n",
       "      <td>10.2</td>\n",
       "      <td>13.5</td>\n",
       "      <td>NaN</td>\n",
       "      <td>13.7</td>\n",
       "      <td>53.2</td>\n",
       "      <td>NaN</td>\n",
       "      <td>44.1</td>\n",
       "      <td>25.0</td>\n",
       "      <td>NaN</td>\n",
       "      <td>56.0</td>\n",
       "      <td>96.0</td>\n",
       "      <td>NaN</td>\n",
       "      <td>94.2</td>\n",
       "      <td>82.5</td>\n",
       "      <td>NaN</td>\n",
       "      <td>87.7</td>\n",
       "      <td>447.0</td>\n",
       "      <td>NaN</td>\n",
       "      <td>430.0</td>\n",
       "      <td>107.0</td>\n",
       "      <td>NaN</td>\n",
       "      <td>109.9</td>\n",
       "      <td>641470.0</td>\n",
       "      <td>NaN</td>\n",
       "      <td>641470.0</td>\n",
       "    </tr>\n",
       "  </tbody>\n",
       "</table>\n",
       "<p>708 rows × 51 columns</p>\n",
       "</div>"
      ],
      "text/plain": [
       "                    anglesweetspotpercent             attempts                \\\n",
       "year                                 2019  2020  2021     2019   2020   2021   \n",
       "Name                                                                           \n",
       " Abraham Almonte                      NaN   NaN  32.4      NaN    NaN  111.0   \n",
       " Adam Jones                          31.3   NaN   NaN    387.0    NaN    NaN   \n",
       " Addison Russell                     33.1   NaN   NaN    160.0    NaN    NaN   \n",
       " Adeiny Hechavarría                  30.8  21.3   NaN    156.0   47.0    NaN   \n",
       " Akil Baddoo                          NaN   NaN  37.4      NaN    NaN  294.0   \n",
       "...                                   ...   ...   ...      ...    ...    ...   \n",
       "Yordan Alvarez                       39.4   NaN  37.2    221.0    NaN  395.0   \n",
       "Yoshi Tsutsugo                        NaN  25.0  28.8      NaN  108.0  160.0   \n",
       "Yu Chang                             25.5   NaN  37.9     51.0    NaN  169.0   \n",
       "Yuli Gurriel                         33.5  34.4  31.0    505.0  189.0  474.0   \n",
       "Zack Collins                         42.6   NaN  40.9     47.0    NaN  127.0   \n",
       "\n",
       "                    avg_distance               avg_hit_angle              \\\n",
       "year                        2019   2020   2021          2019  2020  2021   \n",
       "Name                                                                       \n",
       " Abraham Almonte             NaN    NaN  163.0           NaN   NaN  10.5   \n",
       " Adam Jones                168.0    NaN    NaN          13.5   NaN   NaN   \n",
       " Addison Russell           166.0    NaN    NaN           9.1   NaN   NaN   \n",
       " Adeiny Hechavarría        175.0  140.0    NaN          11.8  11.2   NaN   \n",
       " Akil Baddoo                 NaN    NaN  175.0           NaN   NaN  13.8   \n",
       "...                          ...    ...    ...           ...   ...   ...   \n",
       "Yordan Alvarez             203.0    NaN  194.0          13.4   NaN  14.1   \n",
       "Yoshi Tsutsugo               NaN  172.0  176.0           NaN  17.2  17.1   \n",
       "Yu Chang                   162.0    NaN  179.0           9.9   NaN  19.1   \n",
       "Yuli Gurriel               175.0  183.0  163.0          14.3  13.9  13.4   \n",
       "Zack Collins               240.0    NaN  200.0          15.3   NaN  20.9   \n",
       "\n",
       "                    avg_hit_speed             avg_hr_distance                \\\n",
       "year                         2019  2020  2021            2019   2020   2021   \n",
       "Name                                                                          \n",
       " Abraham Almonte              NaN   NaN  89.3             NaN    NaN  382.0   \n",
       " Adam Jones                  86.2   NaN   NaN           405.0    NaN    NaN   \n",
       " Addison Russell             86.9   NaN   NaN           395.0    NaN    NaN   \n",
       " Adeiny Hechavarría          87.6  82.9   NaN           386.0    NaN    NaN   \n",
       " Akil Baddoo                  NaN   NaN  86.0             NaN    NaN  385.0   \n",
       "...                           ...   ...   ...             ...    ...    ...   \n",
       "Yordan Alvarez               92.2   NaN  93.2           410.0    NaN  408.0   \n",
       "Yoshi Tsutsugo                NaN  90.2  89.6             NaN  395.0  401.0   \n",
       "Yu Chang                     87.9   NaN  87.1           432.0    NaN  392.0   \n",
       "Yuli Gurriel                 89.3  89.3  89.8           384.0  394.0  384.0   \n",
       "Zack Collins                 90.7   NaN  91.1           413.0    NaN  405.0   \n",
       "\n",
       "                    barrels             brl_pa            brl_percent       \\\n",
       "year                   2019  2020  2021   2019 2020  2021        2019 2020   \n",
       "Name                                                                         \n",
       " Abraham Almonte        NaN   NaN   8.0    NaN  NaN   4.6         NaN  NaN   \n",
       " Adam Jones            26.0   NaN   NaN    4.9  NaN   NaN         6.7  NaN   \n",
       " Addison Russell       11.0   NaN   NaN    4.6  NaN   NaN         6.9  NaN   \n",
       " Adeiny Hechavarría     9.0   NaN   NaN    4.1  0.0   NaN         5.8  0.0   \n",
       " Akil Baddoo            NaN   NaN  26.0    NaN  NaN   5.6         NaN  NaN   \n",
       "...                     ...   ...   ...    ...  ...   ...         ...  ...   \n",
       "Yordan Alvarez         37.0   NaN  63.0   10.0  NaN  10.5        16.7  NaN   \n",
       "Yoshi Tsutsugo          NaN  10.0  11.0    NaN  5.4   4.2         NaN  9.3   \n",
       "Yu Chang                3.0   NaN  12.0    3.6  NaN   4.8         5.9  NaN   \n",
       "Yuli Gurriel           18.0   7.0  16.0    2.9  3.0   2.6         3.6  3.7   \n",
       "Zack Collins            7.0   NaN  13.0    6.9  NaN   5.6        14.9  NaN   \n",
       "\n",
       "                          ev95per-swing             ev95percent              \\\n",
       "year                 2021          2019  2020  2021        2019  2020  2021   \n",
       "Name                                                                          \n",
       " Abraham Almonte      7.2           NaN   NaN  14.0         NaN   NaN  41.4   \n",
       " Adam Jones           NaN          11.5   NaN   NaN        31.0   NaN   NaN   \n",
       " Addison Russell      NaN           9.8   NaN   NaN        28.1   NaN   NaN   \n",
       " Adeiny Hechavarría   NaN          10.5   8.0   NaN        29.5  23.4   NaN   \n",
       " Akil Baddoo          8.8           NaN   NaN  11.0         NaN   NaN  32.3   \n",
       "...                   ...           ...   ...   ...         ...   ...   ...   \n",
       "Yordan Alvarez       15.9          16.6   NaN  20.8        48.4   NaN  54.2   \n",
       "Yoshi Tsutsugo        6.9           NaN  15.2  12.5         NaN  47.2  38.1   \n",
       "Yu Chang              7.1          10.0   NaN  11.9        31.4   NaN  33.7   \n",
       "Yuli Gurriel          3.4          18.2  17.9  20.3        37.4  36.5  42.0   \n",
       "Zack Collins         10.2          13.5   NaN  13.7        53.2   NaN  44.1   \n",
       "\n",
       "                    ev95plus               fbld                gb              \\\n",
       "year                    2019  2020   2021  2019  2020  2021  2019  2020  2021   \n",
       "Name                                                                            \n",
       " Abraham Almonte         NaN   NaN   46.0   NaN   NaN  94.1   NaN   NaN  86.6   \n",
       " Adam Jones            120.0   NaN    NaN  90.2   NaN   NaN  84.3   NaN   NaN   \n",
       " Addison Russell        45.0   NaN    NaN  90.3   NaN   NaN  84.6   NaN   NaN   \n",
       " Adeiny Hechavarría     46.0  11.0    NaN  92.6  85.7   NaN  84.5  81.2   NaN   \n",
       " Akil Baddoo             NaN   NaN   95.0   NaN   NaN  91.1   NaN   NaN  80.9   \n",
       "...                      ...   ...    ...   ...   ...   ...   ...   ...   ...   \n",
       "Yordan Alvarez         107.0   NaN  214.0  96.5   NaN  97.4  86.5   NaN  88.5   \n",
       "Yoshi Tsutsugo           NaN  51.0   61.0   NaN  95.2  90.4   NaN  88.4  89.6   \n",
       "Yu Chang                16.0   NaN   57.0  94.0   NaN  91.6  83.2   NaN  84.0   \n",
       "Yuli Gurriel           189.0  69.0  199.0  91.4  91.4  91.0  90.4  88.4  91.3   \n",
       "Zack Collins            25.0   NaN   56.0  96.0   NaN  94.2  82.5   NaN  87.7   \n",
       "\n",
       "                    max_distance               max_hit_speed                \\\n",
       "year                        2019   2020   2021          2019   2020   2021   \n",
       "Name                                                                         \n",
       " Abraham Almonte             NaN    NaN  400.0           NaN    NaN  109.8   \n",
       " Adam Jones                441.0    NaN    NaN         108.5    NaN    NaN   \n",
       " Addison Russell           414.0    NaN    NaN         107.2    NaN    NaN   \n",
       " Adeiny Hechavarría        422.0  361.0    NaN         105.9  105.1    NaN   \n",
       " Akil Baddoo                 NaN    NaN  450.0           NaN    NaN  111.8   \n",
       "...                          ...    ...    ...           ...    ...    ...   \n",
       "Yordan Alvarez             454.0    NaN  456.0         117.9    NaN  116.4   \n",
       "Yoshi Tsutsugo               NaN  437.0  430.0           NaN  108.9  111.1   \n",
       "Yu Chang                   432.0    NaN  439.0         108.8    NaN  110.6   \n",
       "Yuli Gurriel               450.0  420.0  413.0         110.6  107.1  109.1   \n",
       "Zack Collins               447.0    NaN  430.0         107.0    NaN  109.9   \n",
       "\n",
       "                    player_id                      \n",
       "year                     2019      2020      2021  \n",
       "Name                                               \n",
       " Abraham Almonte          NaN       NaN  501659.0  \n",
       " Adam Jones          430945.0       NaN       NaN  \n",
       " Addison Russell     608365.0       NaN       NaN  \n",
       " Adeiny Hechavarría  588751.0  588751.0       NaN  \n",
       " Akil Baddoo              NaN       NaN  668731.0  \n",
       "...                       ...       ...       ...  \n",
       "Yordan Alvarez       670541.0       NaN  670541.0  \n",
       "Yoshi Tsutsugo            NaN  660294.0  660294.0  \n",
       "Yu Chang             644374.0       NaN  644374.0  \n",
       "Yuli Gurriel         493329.0  493329.0  493329.0  \n",
       "Zack Collins         641470.0       NaN  641470.0  \n",
       "\n",
       "[708 rows x 51 columns]"
      ]
     },
     "execution_count": 55,
     "metadata": {},
     "output_type": "execute_result"
    }
   ],
   "source": [
    "pd.pivot_table(columns='year', data=sc, index='Name')"
   ]
  },
  {
   "cell_type": "markdown",
   "id": "07379319",
   "metadata": {},
   "source": [
    "## ------ End of New Work"
   ]
  },
  {
   "cell_type": "code",
   "execution_count": 53,
   "id": "afcbb673",
   "metadata": {},
   "outputs": [
    {
     "data": {
      "text/plain": [
       "<sqlalchemy.engine.cursor.LegacyCursorResult at 0x2be60391b88>"
      ]
     },
     "execution_count": 53,
     "metadata": {},
     "output_type": "execute_result"
    }
   ],
   "source": [
    "from sqlalchemy import text\n",
    "pid = '19755'\n",
    "price = 14\n",
    "owner = 'Wu-Tang'\n",
    "timestamp = None\n",
    "t = text(\"UPDATE players SET Owner='\"+owner+\"', Paid=\"+str(price)+\" WHERE playerid='\"+pid+\"'\")\n",
    "#t = text(\"UPDATE players SET Owner=null, Paid=null, Timestamp=null WHERE playerid='\"+pid+\"'\")\n",
    "#'Timestamp', 'Paid', 'Owner'\n",
    "result = conn.execute(t)\n",
    "result"
   ]
  },
  {
   "cell_type": "code",
   "execution_count": 60,
   "id": "560acf83",
   "metadata": {},
   "outputs": [
    {
     "data": {
      "text/plain": [
       "['2022-02-27 07:09:59.145405',\n",
       " '2022-02-27 07:09:28.384234',\n",
       " '2022-02-27 07:01:34.116844',\n",
       " '2022-02-27 07:07:11.641207',\n",
       " '2022-02-27 07:12:16.239997',\n",
       " '2022-03-02 15:48:55.733428',\n",
       " '2022-02-27 07:59:40.026471',\n",
       " '2022-02-28 07:17:04.647694',\n",
       " '2022-02-27 07:06:28.000562',\n",
       " '2022-02-27 07:02:07.907164',\n",
       " '2022-02-28 10:16:39.029465',\n",
       " '2022-02-27 07:15:12.193487',\n",
       " '2022-02-27 07:03:43.262593',\n",
       " '2022-02-27 07:40:09.735986',\n",
       " '2022-02-27 07:30:25.548321',\n",
       " '2022-02-27 07:08:05.182137',\n",
       " '2022-02-27 07:11:04.955992',\n",
       " '2022-03-02 15:45:36.137929',\n",
       " '2022-02-27 07:42:14.631676',\n",
       " '2022-02-28 10:16:48.553799',\n",
       " '2022-03-02 15:46:52.320574',\n",
       " '2022-02-28 10:16:26.416598',\n",
       " '2022-02-27 07:07:37.505073',\n",
       " '2022-02-27 07:15:39.602230',\n",
       " '2022-02-28 07:19:21.751439',\n",
       " '2022-02-27 07:05:58.803921',\n",
       " '2022-02-27 07:23:22.063716',\n",
       " '2022-02-28 07:19:00.770854',\n",
       " '2022-03-02 15:45:04.163394',\n",
       " '2022-03-02 15:47:02.284028',\n",
       " '2022-02-27 10:44:44.687985',\n",
       " '2022-02-27 07:05:29.642255',\n",
       " '2022-02-27 07:14:36.555230',\n",
       " '2022-02-27 07:04:14.724909',\n",
       " '2022-02-28 07:16:52.704595',\n",
       " '2022-02-28 10:17:27.406007',\n",
       " '2022-02-27 07:38:49.960273',\n",
       " '2022-02-27 07:00:39.187252',\n",
       " '2022-02-27 07:42:57.988555',\n",
       " '2022-02-27 07:04:39.173972',\n",
       " '2022-03-02 15:46:28.258302',\n",
       " '2022-02-27 07:02:47.613709',\n",
       " '2022-02-27 07:11:31.969198',\n",
       " '2022-02-27 07:08:33.386837',\n",
       " '2022-02-27 07:43:33.041207']"
      ]
     },
     "execution_count": 60,
     "metadata": {},
     "output_type": "execute_result"
    }
   ],
   "source": [
    "a = pd.read_sql('players', conn)\n",
    "mask = a['Owner'].notna()\n",
    "a[mask][['playerid', 'Name', 'Owner', 'Paid', 'Timestamp']]['Timestamp'].tolist()"
   ]
  },
  {
   "cell_type": "code",
   "execution_count": 59,
   "id": "63a63e35",
   "metadata": {},
   "outputs": [
    {
     "data": {
      "text/html": [
       "<div>\n",
       "<style scoped>\n",
       "    .dataframe tbody tr th:only-of-type {\n",
       "        vertical-align: middle;\n",
       "    }\n",
       "\n",
       "    .dataframe tbody tr th {\n",
       "        vertical-align: top;\n",
       "    }\n",
       "\n",
       "    .dataframe thead th {\n",
       "        text-align: right;\n",
       "    }\n",
       "</style>\n",
       "<table border=\"1\" class=\"dataframe\">\n",
       "  <thead>\n",
       "    <tr style=\"text-align: right;\">\n",
       "      <th></th>\n",
       "      <th>playerid</th>\n",
       "      <th>Owner</th>\n",
       "      <th>Paid</th>\n",
       "      <th>Timestamp</th>\n",
       "    </tr>\n",
       "  </thead>\n",
       "  <tbody>\n",
       "    <tr>\n",
       "      <th>0</th>\n",
       "      <td>19709</td>\n",
       "      <td>Lima Time</td>\n",
       "      <td>36</td>\n",
       "      <td>2022-02-28 08:00:00.0</td>\n",
       "    </tr>\n",
       "    <tr>\n",
       "      <th>1</th>\n",
       "      <td>19611</td>\n",
       "      <td>Harvey</td>\n",
       "      <td>23</td>\n",
       "      <td>2022-02-28 08:00:00.0</td>\n",
       "    </tr>\n",
       "    <tr>\n",
       "      <th>2</th>\n",
       "      <td>19755</td>\n",
       "      <td>Wu-Tang</td>\n",
       "      <td>14</td>\n",
       "      <td>2022-02-28 08:00:00.0</td>\n",
       "    </tr>\n",
       "    <tr>\n",
       "      <th>3</th>\n",
       "      <td>19612</td>\n",
       "      <td>Roid Ragers</td>\n",
       "      <td>26</td>\n",
       "      <td>2022-02-28 08:00:00.0</td>\n",
       "    </tr>\n",
       "    <tr>\n",
       "      <th>4</th>\n",
       "      <td>11579</td>\n",
       "      <td>Charmer</td>\n",
       "      <td>33</td>\n",
       "      <td>2022-02-28 08:00:00.0</td>\n",
       "    </tr>\n",
       "    <tr>\n",
       "      <th>5</th>\n",
       "      <td>5361</td>\n",
       "      <td>Midnight</td>\n",
       "      <td>31</td>\n",
       "      <td>2022-02-28 08:00:00.0</td>\n",
       "    </tr>\n",
       "    <tr>\n",
       "      <th>6</th>\n",
       "      <td>18345</td>\n",
       "      <td>Lima Time</td>\n",
       "      <td>21</td>\n",
       "      <td>2022-02-28 08:00:00.0</td>\n",
       "    </tr>\n",
       "    <tr>\n",
       "      <th>7</th>\n",
       "      <td>7304</td>\n",
       "      <td>Dirty Birds</td>\n",
       "      <td>8</td>\n",
       "      <td>2022-02-28 08:00:00.0</td>\n",
       "    </tr>\n",
       "    <tr>\n",
       "      <th>8</th>\n",
       "      <td>15711</td>\n",
       "      <td>Avg Joes</td>\n",
       "      <td>9</td>\n",
       "      <td>2022-02-28 08:00:00.0</td>\n",
       "    </tr>\n",
       "    <tr>\n",
       "      <th>9</th>\n",
       "      <td>18360</td>\n",
       "      <td>Wu-Tang</td>\n",
       "      <td>1</td>\n",
       "      <td>2022-02-28 08:00:00.0</td>\n",
       "    </tr>\n",
       "    <tr>\n",
       "      <th>10</th>\n",
       "      <td>17929</td>\n",
       "      <td>Lil Trump</td>\n",
       "      <td>15</td>\n",
       "      <td>2022-02-28 08:00:00.0</td>\n",
       "    </tr>\n",
       "    <tr>\n",
       "      <th>11</th>\n",
       "      <td>12161</td>\n",
       "      <td>Trouble</td>\n",
       "      <td>19</td>\n",
       "      <td>2022-02-28 08:00:00.0</td>\n",
       "    </tr>\n",
       "    <tr>\n",
       "      <th>12</th>\n",
       "      <td>18607</td>\n",
       "      <td>Brewbirds</td>\n",
       "      <td>1</td>\n",
       "      <td>2022-02-28 08:00:00.0</td>\n",
       "    </tr>\n",
       "    <tr>\n",
       "      <th>13</th>\n",
       "      <td>23667</td>\n",
       "      <td>Trouble</td>\n",
       "      <td>0</td>\n",
       "      <td>2022-02-28 08:00:00.0</td>\n",
       "    </tr>\n",
       "    <tr>\n",
       "      <th>14</th>\n",
       "      <td>sa3011225</td>\n",
       "      <td>Lima Time</td>\n",
       "      <td>0</td>\n",
       "      <td>2022-02-28 08:00:00.0</td>\n",
       "    </tr>\n",
       "    <tr>\n",
       "      <th>15</th>\n",
       "      <td>19326</td>\n",
       "      <td>Roid Ragers</td>\n",
       "      <td>5</td>\n",
       "      <td>2022-02-28 08:00:00.0</td>\n",
       "    </tr>\n",
       "    <tr>\n",
       "      <th>16</th>\n",
       "      <td>12546</td>\n",
       "      <td>Charmer</td>\n",
       "      <td>5</td>\n",
       "      <td>2022-02-28 08:00:00.0</td>\n",
       "    </tr>\n",
       "    <tr>\n",
       "      <th>17</th>\n",
       "      <td>13590</td>\n",
       "      <td>Moms Cookin</td>\n",
       "      <td>1</td>\n",
       "      <td>2022-02-28 08:00:00.0</td>\n",
       "    </tr>\n",
       "    <tr>\n",
       "      <th>18</th>\n",
       "      <td>17982</td>\n",
       "      <td>Avg Joes</td>\n",
       "      <td>0</td>\n",
       "      <td>2022-02-28 08:00:00.0</td>\n",
       "    </tr>\n",
       "    <tr>\n",
       "      <th>19</th>\n",
       "      <td>15429</td>\n",
       "      <td>Lil Trump</td>\n",
       "      <td>10</td>\n",
       "      <td>2022-02-28 08:00:00.0</td>\n",
       "    </tr>\n",
       "    <tr>\n",
       "      <th>20</th>\n",
       "      <td>15986</td>\n",
       "      <td>Harvey</td>\n",
       "      <td>6</td>\n",
       "      <td>2022-02-28 08:00:00.0</td>\n",
       "    </tr>\n",
       "    <tr>\n",
       "      <th>21</th>\n",
       "      <td>19918</td>\n",
       "      <td>Lil Trump</td>\n",
       "      <td>2</td>\n",
       "      <td>2022-02-28 08:00:00.0</td>\n",
       "    </tr>\n",
       "    <tr>\n",
       "      <th>22</th>\n",
       "      <td>19287</td>\n",
       "      <td>Roid Ragers</td>\n",
       "      <td>1</td>\n",
       "      <td>2022-02-28 08:00:00.0</td>\n",
       "    </tr>\n",
       "    <tr>\n",
       "      <th>23</th>\n",
       "      <td>22168</td>\n",
       "      <td>Trouble</td>\n",
       "      <td>1</td>\n",
       "      <td>2022-02-28 08:00:00.0</td>\n",
       "    </tr>\n",
       "    <tr>\n",
       "      <th>24</th>\n",
       "      <td>17907</td>\n",
       "      <td>Dirty Birds</td>\n",
       "      <td>4</td>\n",
       "      <td>2022-02-28 08:00:00.0</td>\n",
       "    </tr>\n",
       "    <tr>\n",
       "      <th>25</th>\n",
       "      <td>13757</td>\n",
       "      <td>Avg Joes</td>\n",
       "      <td>1</td>\n",
       "      <td>2022-02-28 08:00:00.0</td>\n",
       "    </tr>\n",
       "    <tr>\n",
       "      <th>26</th>\n",
       "      <td>5343</td>\n",
       "      <td>Lima Time</td>\n",
       "      <td>3</td>\n",
       "      <td>2022-02-28 08:00:00.0</td>\n",
       "    </tr>\n",
       "    <tr>\n",
       "      <th>27</th>\n",
       "      <td>10556</td>\n",
       "      <td>Dirty Birds</td>\n",
       "      <td>0</td>\n",
       "      <td>2022-02-28 08:00:00.0</td>\n",
       "    </tr>\n",
       "    <tr>\n",
       "      <th>28</th>\n",
       "      <td>13265</td>\n",
       "      <td>Moms Cookin</td>\n",
       "      <td>1</td>\n",
       "      <td>2022-02-28 08:00:00.0</td>\n",
       "    </tr>\n",
       "    <tr>\n",
       "      <th>29</th>\n",
       "      <td>16909</td>\n",
       "      <td>Harvey</td>\n",
       "      <td>0</td>\n",
       "      <td>2022-02-28 08:00:00.0</td>\n",
       "    </tr>\n",
       "    <tr>\n",
       "      <th>30</th>\n",
       "      <td>3137</td>\n",
       "      <td>Harvey</td>\n",
       "      <td>29</td>\n",
       "      <td>2022-02-28 08:00:00.0</td>\n",
       "    </tr>\n",
       "    <tr>\n",
       "      <th>31</th>\n",
       "      <td>13125</td>\n",
       "      <td>Avg Joes</td>\n",
       "      <td>38</td>\n",
       "      <td>2022-02-28 08:00:00.0</td>\n",
       "    </tr>\n",
       "    <tr>\n",
       "      <th>32</th>\n",
       "      <td>10310</td>\n",
       "      <td>Trouble</td>\n",
       "      <td>18</td>\n",
       "      <td>2022-02-28 08:00:00.0</td>\n",
       "    </tr>\n",
       "    <tr>\n",
       "      <th>33</th>\n",
       "      <td>4676</td>\n",
       "      <td>Brewbirds</td>\n",
       "      <td>12</td>\n",
       "      <td>2022-02-28 08:00:00.0</td>\n",
       "    </tr>\n",
       "    <tr>\n",
       "      <th>34</th>\n",
       "      <td>13743</td>\n",
       "      <td>Dirty Birds</td>\n",
       "      <td>15</td>\n",
       "      <td>2022-02-28 08:00:00.0</td>\n",
       "    </tr>\n",
       "    <tr>\n",
       "      <th>35</th>\n",
       "      <td>14309</td>\n",
       "      <td>Moms Cookin</td>\n",
       "      <td>5</td>\n",
       "      <td>2022-02-28 08:00:00.0</td>\n",
       "    </tr>\n",
       "    <tr>\n",
       "      <th>36</th>\n",
       "      <td>21032</td>\n",
       "      <td>Charmer</td>\n",
       "      <td>0</td>\n",
       "      <td>2022-02-28 08:00:00.0</td>\n",
       "    </tr>\n",
       "    <tr>\n",
       "      <th>37</th>\n",
       "      <td>14765</td>\n",
       "      <td>Midnight</td>\n",
       "      <td>11</td>\n",
       "      <td>2022-02-28 08:00:00.0</td>\n",
       "    </tr>\n",
       "    <tr>\n",
       "      <th>38</th>\n",
       "      <td>18679</td>\n",
       "      <td>Wu-Tang</td>\n",
       "      <td>0</td>\n",
       "      <td>2022-02-28 08:00:00.0</td>\n",
       "    </tr>\n",
       "    <tr>\n",
       "      <th>39</th>\n",
       "      <td>16122</td>\n",
       "      <td>Brewbirds</td>\n",
       "      <td>6</td>\n",
       "      <td>2022-02-28 08:00:00.0</td>\n",
       "    </tr>\n",
       "    <tr>\n",
       "      <th>40</th>\n",
       "      <td>17282</td>\n",
       "      <td>Moms Cookin</td>\n",
       "      <td>0</td>\n",
       "      <td>2022-02-28 08:00:00.0</td>\n",
       "    </tr>\n",
       "    <tr>\n",
       "      <th>41</th>\n",
       "      <td>26410</td>\n",
       "      <td>Wu-Tang</td>\n",
       "      <td>7</td>\n",
       "      <td>2022-02-28 08:00:00.0</td>\n",
       "    </tr>\n",
       "    <tr>\n",
       "      <th>42</th>\n",
       "      <td>14993</td>\n",
       "      <td>Charmer</td>\n",
       "      <td>3</td>\n",
       "      <td>2022-02-28 08:00:00.0</td>\n",
       "    </tr>\n",
       "    <tr>\n",
       "      <th>43</th>\n",
       "      <td>2233</td>\n",
       "      <td>Midnight</td>\n",
       "      <td>2</td>\n",
       "      <td>2022-02-28 08:00:00.0</td>\n",
       "    </tr>\n",
       "    <tr>\n",
       "      <th>44</th>\n",
       "      <td>11762</td>\n",
       "      <td>Brewbirds</td>\n",
       "      <td>0</td>\n",
       "      <td>2022-02-28 08:00:00.0</td>\n",
       "    </tr>\n",
       "  </tbody>\n",
       "</table>\n",
       "</div>"
      ],
      "text/plain": [
       "     playerid        Owner  Paid              Timestamp\n",
       "0       19709    Lima Time    36  2022-02-28 08:00:00.0\n",
       "1       19611       Harvey    23  2022-02-28 08:00:00.0\n",
       "2       19755      Wu-Tang    14  2022-02-28 08:00:00.0\n",
       "3       19612  Roid Ragers    26  2022-02-28 08:00:00.0\n",
       "4       11579      Charmer    33  2022-02-28 08:00:00.0\n",
       "5        5361     Midnight    31  2022-02-28 08:00:00.0\n",
       "6       18345    Lima Time    21  2022-02-28 08:00:00.0\n",
       "7        7304  Dirty Birds     8  2022-02-28 08:00:00.0\n",
       "8       15711     Avg Joes     9  2022-02-28 08:00:00.0\n",
       "9       18360      Wu-Tang     1  2022-02-28 08:00:00.0\n",
       "10      17929    Lil Trump    15  2022-02-28 08:00:00.0\n",
       "11      12161      Trouble    19  2022-02-28 08:00:00.0\n",
       "12      18607    Brewbirds     1  2022-02-28 08:00:00.0\n",
       "13      23667      Trouble     0  2022-02-28 08:00:00.0\n",
       "14  sa3011225    Lima Time     0  2022-02-28 08:00:00.0\n",
       "15      19326  Roid Ragers     5  2022-02-28 08:00:00.0\n",
       "16      12546      Charmer     5  2022-02-28 08:00:00.0\n",
       "17      13590  Moms Cookin     1  2022-02-28 08:00:00.0\n",
       "18      17982     Avg Joes     0  2022-02-28 08:00:00.0\n",
       "19      15429    Lil Trump    10  2022-02-28 08:00:00.0\n",
       "20      15986       Harvey     6  2022-02-28 08:00:00.0\n",
       "21      19918    Lil Trump     2  2022-02-28 08:00:00.0\n",
       "22      19287  Roid Ragers     1  2022-02-28 08:00:00.0\n",
       "23      22168      Trouble     1  2022-02-28 08:00:00.0\n",
       "24      17907  Dirty Birds     4  2022-02-28 08:00:00.0\n",
       "25      13757     Avg Joes     1  2022-02-28 08:00:00.0\n",
       "26       5343    Lima Time     3  2022-02-28 08:00:00.0\n",
       "27      10556  Dirty Birds     0  2022-02-28 08:00:00.0\n",
       "28      13265  Moms Cookin     1  2022-02-28 08:00:00.0\n",
       "29      16909       Harvey     0  2022-02-28 08:00:00.0\n",
       "30       3137       Harvey    29  2022-02-28 08:00:00.0\n",
       "31      13125     Avg Joes    38  2022-02-28 08:00:00.0\n",
       "32      10310      Trouble    18  2022-02-28 08:00:00.0\n",
       "33       4676    Brewbirds    12  2022-02-28 08:00:00.0\n",
       "34      13743  Dirty Birds    15  2022-02-28 08:00:00.0\n",
       "35      14309  Moms Cookin     5  2022-02-28 08:00:00.0\n",
       "36      21032      Charmer     0  2022-02-28 08:00:00.0\n",
       "37      14765     Midnight    11  2022-02-28 08:00:00.0\n",
       "38      18679      Wu-Tang     0  2022-02-28 08:00:00.0\n",
       "39      16122    Brewbirds     6  2022-02-28 08:00:00.0\n",
       "40      17282  Moms Cookin     0  2022-02-28 08:00:00.0\n",
       "41      26410      Wu-Tang     7  2022-02-28 08:00:00.0\n",
       "42      14993      Charmer     3  2022-02-28 08:00:00.0\n",
       "43       2233     Midnight     2  2022-02-28 08:00:00.0\n",
       "44      11762    Brewbirds     0  2022-02-28 08:00:00.0"
      ]
     },
     "execution_count": 59,
     "metadata": {},
     "output_type": "execute_result"
    }
   ],
   "source": [
    "# Keepers 2021\n",
    "keepers = {\n",
    "    'playerid':['19709', '19611', '19755', '19612', '11579', '5361', '18345', '7304', '15711', '18360', '17929', '12161', '18607', '23667', 'sa3011225', '19326', '12546', '13590', '17982',\n",
    "                 '15429', '15986', '19918', '19287', '22168', '17907', '13757', '5343', '10556', '13265', '16909', '3137', '13125', '10310', '4676', '13743', '14309', '21032', '14765', '18679',\n",
    "                 '16122', '17282', '26410', '14993', '2233', '11762'],\n",
    "    'Owner':['Lima Time', 'Harvey', 'Wu-Tang', 'Roid Ragers', 'Charmer', 'Midnight', 'Lima Time', 'Dirty Birds', 'Avg Joes', 'Wu-Tang', 'Lil Trump', 'Trouble', 'Brewbirds', 'Trouble', 'Lima Time',\n",
    "              'Roid Ragers', 'Charmer', 'Moms Cookin', 'Avg Joes', 'Lil Trump', 'Harvey', 'Lil Trump', 'Roid Ragers', 'Trouble', 'Dirty Birds', 'Avg Joes', 'Lima Time', 'Dirty Birds', 'Moms Cookin',\n",
    "              'Harvey', 'Harvey', 'Avg Joes', 'Trouble', 'Brewbirds', 'Dirty Birds', 'Moms Cookin', 'Charmer', 'Midnight', 'Wu-Tang', 'Brewbirds', 'Moms Cookin', 'Wu-Tang', 'Charmer', 'Midnight', \n",
    "             'Brewbirds'],\n",
    "    'Paid':[36, 23, 14, 26, 33, 31, 21, 8, 9, 1, 15, 19, 1, 0, 0, 5, 5, 1, 0, 10, 6, 2, 1, 1, 4, 1, 3, 0, 1, 0, 29, 38, 18, 12, 15, 5, 0, 11, 0, 6, 0, 7, 3, 2, 0],\n",
    "    'Timestamp':['2022-02-28 08:00:00.0', '2022-02-28 08:00:00.0', '2022-02-28 08:00:00.0', '2022-02-28 08:00:00.0', '2022-02-28 08:00:00.0', '2022-02-28 08:00:00.0', '2022-02-28 08:00:00.0',\n",
    "                '2022-02-28 08:00:00.0', '2022-02-28 08:00:00.0', '2022-02-28 08:00:00.0', '2022-02-28 08:00:00.0', '2022-02-28 08:00:00.0', '2022-02-28 08:00:00.0', '2022-02-28 08:00:00.0',\n",
    "                '2022-02-28 08:00:00.0', '2022-02-28 08:00:00.0', '2022-02-28 08:00:00.0', '2022-02-28 08:00:00.0', '2022-02-28 08:00:00.0', '2022-02-28 08:00:00.0', '2022-02-28 08:00:00.0',\n",
    "                '2022-02-28 08:00:00.0', '2022-02-28 08:00:00.0', '2022-02-28 08:00:00.0', '2022-02-28 08:00:00.0', '2022-02-28 08:00:00.0', '2022-02-28 08:00:00.0', '2022-02-28 08:00:00.0',\n",
    "                '2022-02-28 08:00:00.0', '2022-02-28 08:00:00.0', '2022-02-28 08:00:00.0', '2022-02-28 08:00:00.0', '2022-02-28 08:00:00.0', '2022-02-28 08:00:00.0', '2022-02-28 08:00:00.0',\n",
    "                '2022-02-28 08:00:00.0', '2022-02-28 08:00:00.0', '2022-02-28 08:00:00.0', '2022-02-28 08:00:00.0', '2022-02-28 08:00:00.0', '2022-02-28 08:00:00.0', '2022-02-28 08:00:00.0',\n",
    "                '2022-02-28 08:00:00.0', '2022-02-28 08:00:00.0', '2022-02-28 08:00:00.0']\n",
    "}\n",
    "pd.DataFrame(keepers)"
   ]
  },
  {
   "cell_type": "raw",
   "id": "56ba3f85",
   "metadata": {},
   "source": [
    "h.to_sql('hitting', conn, if_exists='replace')"
   ]
  },
  {
   "cell_type": "markdown",
   "id": "3200b728",
   "metadata": {},
   "source": [
    "https://leportella.com/sqlalchemy-tutorial/"
   ]
  },
  {
   "cell_type": "code",
   "execution_count": null,
   "id": "8d216f32",
   "metadata": {},
   "outputs": [],
   "source": [
    "#Creates a table on the DB\n",
    "meta = MetaData()\n",
    "hitters = Table('hitting', meta,\n",
    "                Column('playerid', String, primary_key=True),\n",
    "                #Column('name', String(50)),\n",
    "                #Column('team', String(20)),\n",
    "                #Column('pa', Integer),\n",
    "                #Column('ab', Integer),\n",
    "                #Column('ba', Float),\n",
    "                #Column('h', Integer),\n",
    "                #Column('hr', Integer),\n",
    "                #Column('r', Integer),\n",
    "                #Column('rbi', Integer),\n",
    "                #Column('sb', Integer),\n",
    "                Column('Paid', Integer),\n",
    "                Column('Owner', String(25)),\n",
    "                Column('Used', Boolean)\n",
    ")\n",
    "meta.create_all(engine)"
   ]
  },
  {
   "cell_type": "code",
   "execution_count": 18,
   "id": "427147c5",
   "metadata": {},
   "outputs": [],
   "source": [
    "conn = engine.connect()"
   ]
  },
  {
   "cell_type": "code",
   "execution_count": 20,
   "id": "c2a279ed",
   "metadata": {},
   "outputs": [
    {
     "data": {
      "text/html": [
       "<div>\n",
       "<style scoped>\n",
       "    .dataframe tbody tr th:only-of-type {\n",
       "        vertical-align: middle;\n",
       "    }\n",
       "\n",
       "    .dataframe tbody tr th {\n",
       "        vertical-align: top;\n",
       "    }\n",
       "\n",
       "    .dataframe thead th {\n",
       "        text-align: right;\n",
       "    }\n",
       "</style>\n",
       "<table border=\"1\" class=\"dataframe\">\n",
       "  <thead>\n",
       "    <tr style=\"text-align: right;\">\n",
       "      <th></th>\n",
       "      <th>index</th>\n",
       "      <th>Name</th>\n",
       "      <th>Team</th>\n",
       "      <th>G</th>\n",
       "      <th>PA</th>\n",
       "      <th>AB</th>\n",
       "      <th>H</th>\n",
       "      <th>2B</th>\n",
       "      <th>3B</th>\n",
       "      <th>HR</th>\n",
       "      <th>R</th>\n",
       "      <th>RBI</th>\n",
       "      <th>BB</th>\n",
       "      <th>SO</th>\n",
       "      <th>HBP</th>\n",
       "      <th>SB</th>\n",
       "      <th>AVG</th>\n",
       "      <th>OBP</th>\n",
       "      <th>SLG</th>\n",
       "      <th>OPS</th>\n",
       "      <th>WAR</th>\n",
       "      <th>playerid</th>\n",
       "      <th>sorter</th>\n",
       "      <th>Pos</th>\n",
       "      <th>Dollars</th>\n",
       "      <th>Primary_Pos</th>\n",
       "      <th>Used</th>\n",
       "      <th>BA</th>\n",
       "      <th>zPA</th>\n",
       "      <th>zAB</th>\n",
       "      <th>zBA</th>\n",
       "      <th>zHR</th>\n",
       "      <th>zRBI</th>\n",
       "      <th>zR</th>\n",
       "      <th>zSB</th>\n",
       "      <th>z</th>\n",
       "      <th>Value</th>\n",
       "      <th>Owner</th>\n",
       "      <th>Paid</th>\n",
       "      <th>Timestamp</th>\n",
       "      <th>IP</th>\n",
       "      <th>HA</th>\n",
       "      <th>GS</th>\n",
       "      <th>ER</th>\n",
       "      <th>Sv</th>\n",
       "      <th>HLD</th>\n",
       "      <th>Sv+Hld</th>\n",
       "      <th>W</th>\n",
       "      <th>ERA</th>\n",
       "      <th>WHIP</th>\n",
       "    </tr>\n",
       "  </thead>\n",
       "  <tbody>\n",
       "    <tr>\n",
       "      <th>0</th>\n",
       "      <td>3</td>\n",
       "      <td>Vladimir Guerrero Jr.</td>\n",
       "      <td>TOR</td>\n",
       "      <td>154</td>\n",
       "      <td>665</td>\n",
       "      <td>575</td>\n",
       "      <td>178</td>\n",
       "      <td>31</td>\n",
       "      <td>2</td>\n",
       "      <td>44</td>\n",
       "      <td>109</td>\n",
       "      <td>122</td>\n",
       "      <td>77</td>\n",
       "      <td>102</td>\n",
       "      <td>6</td>\n",
       "      <td>4</td>\n",
       "      <td>0.309</td>\n",
       "      <td>0.394</td>\n",
       "      <td>0.598</td>\n",
       "      <td>0.992</td>\n",
       "      <td>6.0</td>\n",
       "      <td>19611</td>\n",
       "      <td>457</td>\n",
       "      <td>1B, DH</td>\n",
       "      <td>40.252202</td>\n",
       "      <td>1B</td>\n",
       "      <td>True</td>\n",
       "      <td>33.335606</td>\n",
       "      <td>0.469136</td>\n",
       "      <td>0.066225</td>\n",
       "      <td>2.389664</td>\n",
       "      <td>1.854545</td>\n",
       "      <td>2.071429</td>\n",
       "      <td>2.022727</td>\n",
       "      <td>0.476190</td>\n",
       "      <td>14.063823</td>\n",
       "      <td>54.473907</td>\n",
       "      <td>None</td>\n",
       "      <td>None</td>\n",
       "      <td>2022-01-13 19:56:12.110798</td>\n",
       "      <td>NaN</td>\n",
       "      <td>None</td>\n",
       "      <td>None</td>\n",
       "      <td>None</td>\n",
       "      <td>None</td>\n",
       "      <td>None</td>\n",
       "      <td>None</td>\n",
       "      <td>None</td>\n",
       "      <td>NaN</td>\n",
       "      <td>NaN</td>\n",
       "    </tr>\n",
       "    <tr>\n",
       "      <th>1</th>\n",
       "      <td>1</td>\n",
       "      <td>Fernando Tatis Jr.</td>\n",
       "      <td>SDP</td>\n",
       "      <td>151</td>\n",
       "      <td>651</td>\n",
       "      <td>564</td>\n",
       "      <td>158</td>\n",
       "      <td>30</td>\n",
       "      <td>2</td>\n",
       "      <td>44</td>\n",
       "      <td>112</td>\n",
       "      <td>103</td>\n",
       "      <td>72</td>\n",
       "      <td>161</td>\n",
       "      <td>7</td>\n",
       "      <td>25</td>\n",
       "      <td>0.281</td>\n",
       "      <td>0.366</td>\n",
       "      <td>0.575</td>\n",
       "      <td>0.941</td>\n",
       "      <td>6.7</td>\n",
       "      <td>19709</td>\n",
       "      <td>442</td>\n",
       "      <td>SS, OF</td>\n",
       "      <td>40.784208</td>\n",
       "      <td>OF</td>\n",
       "      <td>True</td>\n",
       "      <td>17.161705</td>\n",
       "      <td>1.085635</td>\n",
       "      <td>0.795666</td>\n",
       "      <td>1.153108</td>\n",
       "      <td>2.100000</td>\n",
       "      <td>1.459854</td>\n",
       "      <td>2.669643</td>\n",
       "      <td>2.208333</td>\n",
       "      <td>13.641913</td>\n",
       "      <td>52.839708</td>\n",
       "      <td>None</td>\n",
       "      <td>None</td>\n",
       "      <td>2022-01-13 19:56:29.806066</td>\n",
       "      <td>NaN</td>\n",
       "      <td>None</td>\n",
       "      <td>None</td>\n",
       "      <td>None</td>\n",
       "      <td>None</td>\n",
       "      <td>None</td>\n",
       "      <td>None</td>\n",
       "      <td>None</td>\n",
       "      <td>NaN</td>\n",
       "      <td>NaN</td>\n",
       "    </tr>\n",
       "    <tr>\n",
       "      <th>2</th>\n",
       "      <td>0</td>\n",
       "      <td>Juan Soto</td>\n",
       "      <td>WSN</td>\n",
       "      <td>154</td>\n",
       "      <td>665</td>\n",
       "      <td>519</td>\n",
       "      <td>161</td>\n",
       "      <td>29</td>\n",
       "      <td>2</td>\n",
       "      <td>37</td>\n",
       "      <td>112</td>\n",
       "      <td>106</td>\n",
       "      <td>135</td>\n",
       "      <td>96</td>\n",
       "      <td>5</td>\n",
       "      <td>12</td>\n",
       "      <td>0.310</td>\n",
       "      <td>0.453</td>\n",
       "      <td>0.586</td>\n",
       "      <td>1.039</td>\n",
       "      <td>7.2</td>\n",
       "      <td>20123</td>\n",
       "      <td>428</td>\n",
       "      <td>OF</td>\n",
       "      <td>37.932103</td>\n",
       "      <td>OF</td>\n",
       "      <td>True</td>\n",
       "      <td>31.398803</td>\n",
       "      <td>1.472376</td>\n",
       "      <td>-0.597523</td>\n",
       "      <td>2.548902</td>\n",
       "      <td>1.225000</td>\n",
       "      <td>1.678832</td>\n",
       "      <td>2.669643</td>\n",
       "      <td>0.402778</td>\n",
       "      <td>12.576129</td>\n",
       "      <td>48.711571</td>\n",
       "      <td>None</td>\n",
       "      <td>None</td>\n",
       "      <td>2022-01-13 19:57:48.386218</td>\n",
       "      <td>NaN</td>\n",
       "      <td>None</td>\n",
       "      <td>None</td>\n",
       "      <td>None</td>\n",
       "      <td>None</td>\n",
       "      <td>None</td>\n",
       "      <td>None</td>\n",
       "      <td>None</td>\n",
       "      <td>NaN</td>\n",
       "      <td>NaN</td>\n",
       "    </tr>\n",
       "    <tr>\n",
       "      <th>3</th>\n",
       "      <td>13</td>\n",
       "      <td>Rafael Devers</td>\n",
       "      <td>BOS</td>\n",
       "      <td>154</td>\n",
       "      <td>665</td>\n",
       "      <td>593</td>\n",
       "      <td>165</td>\n",
       "      <td>37</td>\n",
       "      <td>2</td>\n",
       "      <td>37</td>\n",
       "      <td>97</td>\n",
       "      <td>108</td>\n",
       "      <td>58</td>\n",
       "      <td>136</td>\n",
       "      <td>7</td>\n",
       "      <td>6</td>\n",
       "      <td>0.278</td>\n",
       "      <td>0.346</td>\n",
       "      <td>0.534</td>\n",
       "      <td>0.880</td>\n",
       "      <td>4.8</td>\n",
       "      <td>17350</td>\n",
       "      <td>413</td>\n",
       "      <td>3B</td>\n",
       "      <td>27.907182</td>\n",
       "      <td>3B</td>\n",
       "      <td>True</td>\n",
       "      <td>16.010347</td>\n",
       "      <td>0.900344</td>\n",
       "      <td>1.043333</td>\n",
       "      <td>0.901833</td>\n",
       "      <td>1.260274</td>\n",
       "      <td>1.455882</td>\n",
       "      <td>1.447368</td>\n",
       "      <td>-0.278689</td>\n",
       "      <td>7.643909</td>\n",
       "      <td>29.607424</td>\n",
       "      <td>None</td>\n",
       "      <td>None</td>\n",
       "      <td>2022-01-13 20:00:09.607022</td>\n",
       "      <td>NaN</td>\n",
       "      <td>None</td>\n",
       "      <td>None</td>\n",
       "      <td>None</td>\n",
       "      <td>None</td>\n",
       "      <td>None</td>\n",
       "      <td>None</td>\n",
       "      <td>None</td>\n",
       "      <td>NaN</td>\n",
       "      <td>NaN</td>\n",
       "    </tr>\n",
       "    <tr>\n",
       "      <th>4</th>\n",
       "      <td>17</td>\n",
       "      <td>Bo Bichette</td>\n",
       "      <td>TOR</td>\n",
       "      <td>152</td>\n",
       "      <td>658</td>\n",
       "      <td>601</td>\n",
       "      <td>176</td>\n",
       "      <td>36</td>\n",
       "      <td>2</td>\n",
       "      <td>28</td>\n",
       "      <td>96</td>\n",
       "      <td>94</td>\n",
       "      <td>43</td>\n",
       "      <td>121</td>\n",
       "      <td>6</td>\n",
       "      <td>17</td>\n",
       "      <td>0.292</td>\n",
       "      <td>0.343</td>\n",
       "      <td>0.496</td>\n",
       "      <td>0.839</td>\n",
       "      <td>4.7</td>\n",
       "      <td>19612</td>\n",
       "      <td>411</td>\n",
       "      <td>SS, DH</td>\n",
       "      <td>28.080286</td>\n",
       "      <td>SS</td>\n",
       "      <td>True</td>\n",
       "      <td>22.819346</td>\n",
       "      <td>0.762542</td>\n",
       "      <td>1.044218</td>\n",
       "      <td>1.601935</td>\n",
       "      <td>0.900000</td>\n",
       "      <td>1.367089</td>\n",
       "      <td>1.632911</td>\n",
       "      <td>0.900000</td>\n",
       "      <td>11.621147</td>\n",
       "      <td>45.012602</td>\n",
       "      <td>None</td>\n",
       "      <td>None</td>\n",
       "      <td>2022-01-13 20:01:42.395693</td>\n",
       "      <td>NaN</td>\n",
       "      <td>None</td>\n",
       "      <td>None</td>\n",
       "      <td>None</td>\n",
       "      <td>None</td>\n",
       "      <td>None</td>\n",
       "      <td>None</td>\n",
       "      <td>None</td>\n",
       "      <td>NaN</td>\n",
       "      <td>NaN</td>\n",
       "    </tr>\n",
       "    <tr>\n",
       "      <th>...</th>\n",
       "      <td>...</td>\n",
       "      <td>...</td>\n",
       "      <td>...</td>\n",
       "      <td>...</td>\n",
       "      <td>...</td>\n",
       "      <td>...</td>\n",
       "      <td>...</td>\n",
       "      <td>...</td>\n",
       "      <td>...</td>\n",
       "      <td>...</td>\n",
       "      <td>...</td>\n",
       "      <td>...</td>\n",
       "      <td>...</td>\n",
       "      <td>...</td>\n",
       "      <td>...</td>\n",
       "      <td>...</td>\n",
       "      <td>...</td>\n",
       "      <td>...</td>\n",
       "      <td>...</td>\n",
       "      <td>...</td>\n",
       "      <td>...</td>\n",
       "      <td>...</td>\n",
       "      <td>...</td>\n",
       "      <td>...</td>\n",
       "      <td>...</td>\n",
       "      <td>...</td>\n",
       "      <td>...</td>\n",
       "      <td>...</td>\n",
       "      <td>...</td>\n",
       "      <td>...</td>\n",
       "      <td>...</td>\n",
       "      <td>...</td>\n",
       "      <td>...</td>\n",
       "      <td>...</td>\n",
       "      <td>...</td>\n",
       "      <td>...</td>\n",
       "      <td>...</td>\n",
       "      <td>...</td>\n",
       "      <td>...</td>\n",
       "      <td>...</td>\n",
       "      <td>...</td>\n",
       "      <td>...</td>\n",
       "      <td>...</td>\n",
       "      <td>...</td>\n",
       "      <td>...</td>\n",
       "      <td>...</td>\n",
       "      <td>...</td>\n",
       "      <td>...</td>\n",
       "      <td>...</td>\n",
       "      <td>...</td>\n",
       "    </tr>\n",
       "    <tr>\n",
       "      <th>623</th>\n",
       "      <td>585</td>\n",
       "      <td>Jacob Amaya</td>\n",
       "      <td>LAD</td>\n",
       "      <td>2</td>\n",
       "      <td>7</td>\n",
       "      <td>6</td>\n",
       "      <td>1</td>\n",
       "      <td>0</td>\n",
       "      <td>0</td>\n",
       "      <td>0</td>\n",
       "      <td>1</td>\n",
       "      <td>1</td>\n",
       "      <td>1</td>\n",
       "      <td>2</td>\n",
       "      <td>0</td>\n",
       "      <td>0</td>\n",
       "      <td>0.228</td>\n",
       "      <td>0.291</td>\n",
       "      <td>0.368</td>\n",
       "      <td>0.659</td>\n",
       "      <td>0.0</td>\n",
       "      <td>sa3005081</td>\n",
       "      <td>3</td>\n",
       "      <td>SS</td>\n",
       "      <td>-34.996832</td>\n",
       "      <td>SS</td>\n",
       "      <td>False</td>\n",
       "      <td>-0.600818</td>\n",
       "      <td>-21.010033</td>\n",
       "      <td>-19.193878</td>\n",
       "      <td>-0.740082</td>\n",
       "      <td>-6.100000</td>\n",
       "      <td>-10.405063</td>\n",
       "      <td>-10.392405</td>\n",
       "      <td>-1.528571</td>\n",
       "      <td>-29.166122</td>\n",
       "      <td>-112.970179</td>\n",
       "      <td>None</td>\n",
       "      <td>None</td>\n",
       "      <td>NaT</td>\n",
       "      <td>NaN</td>\n",
       "      <td>None</td>\n",
       "      <td>None</td>\n",
       "      <td>None</td>\n",
       "      <td>None</td>\n",
       "      <td>None</td>\n",
       "      <td>None</td>\n",
       "      <td>None</td>\n",
       "      <td>NaN</td>\n",
       "      <td>NaN</td>\n",
       "    </tr>\n",
       "    <tr>\n",
       "      <th>624</th>\n",
       "      <td>569</td>\n",
       "      <td>Andy Young</td>\n",
       "      <td>ARI</td>\n",
       "      <td>2</td>\n",
       "      <td>7</td>\n",
       "      <td>6</td>\n",
       "      <td>1</td>\n",
       "      <td>0</td>\n",
       "      <td>0</td>\n",
       "      <td>0</td>\n",
       "      <td>1</td>\n",
       "      <td>1</td>\n",
       "      <td>0</td>\n",
       "      <td>2</td>\n",
       "      <td>0</td>\n",
       "      <td>0</td>\n",
       "      <td>0.221</td>\n",
       "      <td>0.291</td>\n",
       "      <td>0.399</td>\n",
       "      <td>0.690</td>\n",
       "      <td>0.0</td>\n",
       "      <td>19521</td>\n",
       "      <td>3</td>\n",
       "      <td>2B</td>\n",
       "      <td>-35.270584</td>\n",
       "      <td>2B</td>\n",
       "      <td>False</td>\n",
       "      <td>-0.617596</td>\n",
       "      <td>-38.389222</td>\n",
       "      <td>-28.686869</td>\n",
       "      <td>-0.922454</td>\n",
       "      <td>-4.921569</td>\n",
       "      <td>-9.728395</td>\n",
       "      <td>-9.911111</td>\n",
       "      <td>-1.594937</td>\n",
       "      <td>-27.078466</td>\n",
       "      <td>-104.883986</td>\n",
       "      <td>None</td>\n",
       "      <td>None</td>\n",
       "      <td>NaT</td>\n",
       "      <td>NaN</td>\n",
       "      <td>None</td>\n",
       "      <td>None</td>\n",
       "      <td>None</td>\n",
       "      <td>None</td>\n",
       "      <td>None</td>\n",
       "      <td>None</td>\n",
       "      <td>None</td>\n",
       "      <td>NaN</td>\n",
       "      <td>NaN</td>\n",
       "    </tr>\n",
       "    <tr>\n",
       "      <th>625</th>\n",
       "      <td>564</td>\n",
       "      <td>Brett Sullivan</td>\n",
       "      <td>MIL</td>\n",
       "      <td>2</td>\n",
       "      <td>6</td>\n",
       "      <td>6</td>\n",
       "      <td>1</td>\n",
       "      <td>0</td>\n",
       "      <td>0</td>\n",
       "      <td>0</td>\n",
       "      <td>1</td>\n",
       "      <td>1</td>\n",
       "      <td>0</td>\n",
       "      <td>1</td>\n",
       "      <td>0</td>\n",
       "      <td>0</td>\n",
       "      <td>0.231</td>\n",
       "      <td>0.285</td>\n",
       "      <td>0.358</td>\n",
       "      <td>0.643</td>\n",
       "      <td>0.0</td>\n",
       "      <td>sa857232</td>\n",
       "      <td>3</td>\n",
       "      <td>C</td>\n",
       "      <td>-25.916788</td>\n",
       "      <td>C</td>\n",
       "      <td>False</td>\n",
       "      <td>-0.499706</td>\n",
       "      <td>-7.479624</td>\n",
       "      <td>-6.920792</td>\n",
       "      <td>-1.166612</td>\n",
       "      <td>-3.433333</td>\n",
       "      <td>-4.615942</td>\n",
       "      <td>-5.772277</td>\n",
       "      <td>-1.107143</td>\n",
       "      <td>-16.095308</td>\n",
       "      <td>-62.342529</td>\n",
       "      <td>None</td>\n",
       "      <td>None</td>\n",
       "      <td>NaT</td>\n",
       "      <td>NaN</td>\n",
       "      <td>None</td>\n",
       "      <td>None</td>\n",
       "      <td>None</td>\n",
       "      <td>None</td>\n",
       "      <td>None</td>\n",
       "      <td>None</td>\n",
       "      <td>None</td>\n",
       "      <td>NaN</td>\n",
       "      <td>NaN</td>\n",
       "    </tr>\n",
       "    <tr>\n",
       "      <th>626</th>\n",
       "      <td>563</td>\n",
       "      <td>Chadwick Tromp</td>\n",
       "      <td>ATL</td>\n",
       "      <td>2</td>\n",
       "      <td>6</td>\n",
       "      <td>6</td>\n",
       "      <td>1</td>\n",
       "      <td>0</td>\n",
       "      <td>0</td>\n",
       "      <td>0</td>\n",
       "      <td>1</td>\n",
       "      <td>1</td>\n",
       "      <td>0</td>\n",
       "      <td>2</td>\n",
       "      <td>0</td>\n",
       "      <td>0</td>\n",
       "      <td>0.225</td>\n",
       "      <td>0.275</td>\n",
       "      <td>0.367</td>\n",
       "      <td>0.641</td>\n",
       "      <td>0.0</td>\n",
       "      <td>16953</td>\n",
       "      <td>3</td>\n",
       "      <td>C</td>\n",
       "      <td>-25.916788</td>\n",
       "      <td>C</td>\n",
       "      <td>False</td>\n",
       "      <td>-0.499706</td>\n",
       "      <td>-7.479624</td>\n",
       "      <td>-6.920792</td>\n",
       "      <td>-1.166612</td>\n",
       "      <td>-3.433333</td>\n",
       "      <td>-4.615942</td>\n",
       "      <td>-5.772277</td>\n",
       "      <td>-1.107143</td>\n",
       "      <td>-16.095308</td>\n",
       "      <td>-62.342529</td>\n",
       "      <td>None</td>\n",
       "      <td>None</td>\n",
       "      <td>NaT</td>\n",
       "      <td>NaN</td>\n",
       "      <td>None</td>\n",
       "      <td>None</td>\n",
       "      <td>None</td>\n",
       "      <td>None</td>\n",
       "      <td>None</td>\n",
       "      <td>None</td>\n",
       "      <td>None</td>\n",
       "      <td>NaN</td>\n",
       "      <td>NaN</td>\n",
       "    </tr>\n",
       "    <tr>\n",
       "      <th>627</th>\n",
       "      <td>556</td>\n",
       "      <td>Kyle Stowers</td>\n",
       "      <td>BAL</td>\n",
       "      <td>2</td>\n",
       "      <td>7</td>\n",
       "      <td>6</td>\n",
       "      <td>1</td>\n",
       "      <td>0</td>\n",
       "      <td>0</td>\n",
       "      <td>0</td>\n",
       "      <td>1</td>\n",
       "      <td>1</td>\n",
       "      <td>1</td>\n",
       "      <td>2</td>\n",
       "      <td>0</td>\n",
       "      <td>0</td>\n",
       "      <td>0.241</td>\n",
       "      <td>0.313</td>\n",
       "      <td>0.437</td>\n",
       "      <td>0.750</td>\n",
       "      <td>0.0</td>\n",
       "      <td>sa1115829</td>\n",
       "      <td>3</td>\n",
       "      <td>OF</td>\n",
       "      <td>-34.421197</td>\n",
       "      <td>OF</td>\n",
       "      <td>False</td>\n",
       "      <td>-0.558659</td>\n",
       "      <td>-16.704420</td>\n",
       "      <td>-16.479876</td>\n",
       "      <td>-0.584182</td>\n",
       "      <td>-3.400000</td>\n",
       "      <td>-5.985401</td>\n",
       "      <td>-7.241071</td>\n",
       "      <td>-1.263889</td>\n",
       "      <td>-18.474544</td>\n",
       "      <td>-71.558110</td>\n",
       "      <td>None</td>\n",
       "      <td>None</td>\n",
       "      <td>NaT</td>\n",
       "      <td>NaN</td>\n",
       "      <td>None</td>\n",
       "      <td>None</td>\n",
       "      <td>None</td>\n",
       "      <td>None</td>\n",
       "      <td>None</td>\n",
       "      <td>None</td>\n",
       "      <td>None</td>\n",
       "      <td>NaN</td>\n",
       "      <td>NaN</td>\n",
       "    </tr>\n",
       "  </tbody>\n",
       "</table>\n",
       "<p>628 rows × 50 columns</p>\n",
       "</div>"
      ],
      "text/plain": [
       "     index                   Name Team    G   PA   AB    H  2B  3B  HR    R  \\\n",
       "0        3  Vladimir Guerrero Jr.  TOR  154  665  575  178  31   2  44  109   \n",
       "1        1     Fernando Tatis Jr.  SDP  151  651  564  158  30   2  44  112   \n",
       "2        0              Juan Soto  WSN  154  665  519  161  29   2  37  112   \n",
       "3       13          Rafael Devers  BOS  154  665  593  165  37   2  37   97   \n",
       "4       17            Bo Bichette  TOR  152  658  601  176  36   2  28   96   \n",
       "..     ...                    ...  ...  ...  ...  ...  ...  ..  ..  ..  ...   \n",
       "623    585            Jacob Amaya  LAD    2    7    6    1   0   0   0    1   \n",
       "624    569             Andy Young  ARI    2    7    6    1   0   0   0    1   \n",
       "625    564         Brett Sullivan  MIL    2    6    6    1   0   0   0    1   \n",
       "626    563         Chadwick Tromp  ATL    2    6    6    1   0   0   0    1   \n",
       "627    556           Kyle Stowers  BAL    2    7    6    1   0   0   0    1   \n",
       "\n",
       "     RBI   BB   SO  HBP  SB    AVG    OBP    SLG    OPS  WAR   playerid  \\\n",
       "0    122   77  102    6   4  0.309  0.394  0.598  0.992  6.0      19611   \n",
       "1    103   72  161    7  25  0.281  0.366  0.575  0.941  6.7      19709   \n",
       "2    106  135   96    5  12  0.310  0.453  0.586  1.039  7.2      20123   \n",
       "3    108   58  136    7   6  0.278  0.346  0.534  0.880  4.8      17350   \n",
       "4     94   43  121    6  17  0.292  0.343  0.496  0.839  4.7      19612   \n",
       "..   ...  ...  ...  ...  ..    ...    ...    ...    ...  ...        ...   \n",
       "623    1    1    2    0   0  0.228  0.291  0.368  0.659  0.0  sa3005081   \n",
       "624    1    0    2    0   0  0.221  0.291  0.399  0.690  0.0      19521   \n",
       "625    1    0    1    0   0  0.231  0.285  0.358  0.643  0.0   sa857232   \n",
       "626    1    0    2    0   0  0.225  0.275  0.367  0.641  0.0      16953   \n",
       "627    1    1    2    0   0  0.241  0.313  0.437  0.750  0.0  sa1115829   \n",
       "\n",
       "     sorter     Pos    Dollars Primary_Pos   Used         BA        zPA  \\\n",
       "0       457  1B, DH  40.252202          1B   True  33.335606   0.469136   \n",
       "1       442  SS, OF  40.784208          OF   True  17.161705   1.085635   \n",
       "2       428      OF  37.932103          OF   True  31.398803   1.472376   \n",
       "3       413      3B  27.907182          3B   True  16.010347   0.900344   \n",
       "4       411  SS, DH  28.080286          SS   True  22.819346   0.762542   \n",
       "..      ...     ...        ...         ...    ...        ...        ...   \n",
       "623       3      SS -34.996832          SS  False  -0.600818 -21.010033   \n",
       "624       3      2B -35.270584          2B  False  -0.617596 -38.389222   \n",
       "625       3       C -25.916788           C  False  -0.499706  -7.479624   \n",
       "626       3       C -25.916788           C  False  -0.499706  -7.479624   \n",
       "627       3      OF -34.421197          OF  False  -0.558659 -16.704420   \n",
       "\n",
       "           zAB       zBA       zHR       zRBI         zR       zSB          z  \\\n",
       "0     0.066225  2.389664  1.854545   2.071429   2.022727  0.476190  14.063823   \n",
       "1     0.795666  1.153108  2.100000   1.459854   2.669643  2.208333  13.641913   \n",
       "2    -0.597523  2.548902  1.225000   1.678832   2.669643  0.402778  12.576129   \n",
       "3     1.043333  0.901833  1.260274   1.455882   1.447368 -0.278689   7.643909   \n",
       "4     1.044218  1.601935  0.900000   1.367089   1.632911  0.900000  11.621147   \n",
       "..         ...       ...       ...        ...        ...       ...        ...   \n",
       "623 -19.193878 -0.740082 -6.100000 -10.405063 -10.392405 -1.528571 -29.166122   \n",
       "624 -28.686869 -0.922454 -4.921569  -9.728395  -9.911111 -1.594937 -27.078466   \n",
       "625  -6.920792 -1.166612 -3.433333  -4.615942  -5.772277 -1.107143 -16.095308   \n",
       "626  -6.920792 -1.166612 -3.433333  -4.615942  -5.772277 -1.107143 -16.095308   \n",
       "627 -16.479876 -0.584182 -3.400000  -5.985401  -7.241071 -1.263889 -18.474544   \n",
       "\n",
       "          Value Owner  Paid                  Timestamp  IP    HA    GS    ER  \\\n",
       "0     54.473907  None  None 2022-01-13 19:56:12.110798 NaN  None  None  None   \n",
       "1     52.839708  None  None 2022-01-13 19:56:29.806066 NaN  None  None  None   \n",
       "2     48.711571  None  None 2022-01-13 19:57:48.386218 NaN  None  None  None   \n",
       "3     29.607424  None  None 2022-01-13 20:00:09.607022 NaN  None  None  None   \n",
       "4     45.012602  None  None 2022-01-13 20:01:42.395693 NaN  None  None  None   \n",
       "..          ...   ...   ...                        ...  ..   ...   ...   ...   \n",
       "623 -112.970179  None  None                        NaT NaN  None  None  None   \n",
       "624 -104.883986  None  None                        NaT NaN  None  None  None   \n",
       "625  -62.342529  None  None                        NaT NaN  None  None  None   \n",
       "626  -62.342529  None  None                        NaT NaN  None  None  None   \n",
       "627  -71.558110  None  None                        NaT NaN  None  None  None   \n",
       "\n",
       "       Sv   HLD Sv+Hld     W  ERA  WHIP  \n",
       "0    None  None   None  None  NaN   NaN  \n",
       "1    None  None   None  None  NaN   NaN  \n",
       "2    None  None   None  None  NaN   NaN  \n",
       "3    None  None   None  None  NaN   NaN  \n",
       "4    None  None   None  None  NaN   NaN  \n",
       "..    ...   ...    ...   ...  ...   ...  \n",
       "623  None  None   None  None  NaN   NaN  \n",
       "624  None  None   None  None  NaN   NaN  \n",
       "625  None  None   None  None  NaN   NaN  \n",
       "626  None  None   None  None  NaN   NaN  \n",
       "627  None  None   None  None  NaN   NaN  \n",
       "\n",
       "[628 rows x 50 columns]"
      ]
     },
     "execution_count": 20,
     "metadata": {},
     "output_type": "execute_result"
    }
   ],
   "source": [
    "pd.read_sql('hitting', conn)"
   ]
  },
  {
   "cell_type": "code",
   "execution_count": null,
   "id": "0bf755cb",
   "metadata": {},
   "outputs": [],
   "source": [
    "#conn.execute(hitters.delete().where(hitters.c.Used==None))"
   ]
  },
  {
   "cell_type": "code",
   "execution_count": null,
   "id": "e3f62268",
   "metadata": {},
   "outputs": [],
   "source": [
    "conn.execute(hitters.update().values(Paid=15, Owner='Harvey').where(hitters.c.playerid=='15172'))\n",
    "conn.execute(hitters.update().values(Paid=1, Owner='Harvey').where(hitters.c.playerid=='16375'))"
   ]
  },
  {
   "cell_type": "code",
   "execution_count": null,
   "id": "28434830",
   "metadata": {},
   "outputs": [],
   "source": [
    "import json\n",
    "j = h.sort_values('z', ascending=False).to_json(orient='records')\n",
    "j = json.loads(j)\n",
    "j"
   ]
  },
  {
   "cell_type": "code",
   "execution_count": 34,
   "id": "85a14614",
   "metadata": {},
   "outputs": [
    {
     "data": {
      "text/html": [
       "<div>\n",
       "<style scoped>\n",
       "    .dataframe tbody tr th:only-of-type {\n",
       "        vertical-align: middle;\n",
       "    }\n",
       "\n",
       "    .dataframe tbody tr th {\n",
       "        vertical-align: top;\n",
       "    }\n",
       "\n",
       "    .dataframe thead th {\n",
       "        text-align: right;\n",
       "    }\n",
       "</style>\n",
       "<table border=\"1\" class=\"dataframe\">\n",
       "  <thead>\n",
       "    <tr style=\"text-align: right;\">\n",
       "      <th></th>\n",
       "      <th>Name</th>\n",
       "      <th>z</th>\n",
       "      <th>Dollars</th>\n",
       "      <th>Pos</th>\n",
       "    </tr>\n",
       "  </thead>\n",
       "  <tbody>\n",
       "    <tr>\n",
       "      <th>2</th>\n",
       "      <td>Juan Soto</td>\n",
       "      <td>9.390390</td>\n",
       "      <td>37.932103</td>\n",
       "      <td>OF</td>\n",
       "    </tr>\n",
       "    <tr>\n",
       "      <th>10</th>\n",
       "      <td>Ronald Acuna Jr.</td>\n",
       "      <td>8.211041</td>\n",
       "      <td>26.025719</td>\n",
       "      <td>OF</td>\n",
       "    </tr>\n",
       "    <tr>\n",
       "      <th>9</th>\n",
       "      <td>Bryce Harper</td>\n",
       "      <td>7.248026</td>\n",
       "      <td>27.485023</td>\n",
       "      <td>OF</td>\n",
       "    </tr>\n",
       "    <tr>\n",
       "      <th>12</th>\n",
       "      <td>Mike Trout</td>\n",
       "      <td>6.234178</td>\n",
       "      <td>25.942635</td>\n",
       "      <td>OF</td>\n",
       "    </tr>\n",
       "    <tr>\n",
       "      <th>16</th>\n",
       "      <td>Yordan Alvarez</td>\n",
       "      <td>6.159642</td>\n",
       "      <td>25.272377</td>\n",
       "      <td>OF/DH</td>\n",
       "    </tr>\n",
       "    <tr>\n",
       "      <th>14</th>\n",
       "      <td>Kyle Tucker</td>\n",
       "      <td>6.153412</td>\n",
       "      <td>25.381511</td>\n",
       "      <td>OF</td>\n",
       "    </tr>\n",
       "    <tr>\n",
       "      <th>15</th>\n",
       "      <td>Luis Robert</td>\n",
       "      <td>6.083746</td>\n",
       "      <td>25.322911</td>\n",
       "      <td>OF</td>\n",
       "    </tr>\n",
       "    <tr>\n",
       "      <th>27</th>\n",
       "      <td>George Springer</td>\n",
       "      <td>5.212707</td>\n",
       "      <td>20.240662</td>\n",
       "      <td>OF/DH</td>\n",
       "    </tr>\n",
       "    <tr>\n",
       "      <th>52</th>\n",
       "      <td>Starling Marte</td>\n",
       "      <td>4.995739</td>\n",
       "      <td>14.836125</td>\n",
       "      <td>OF</td>\n",
       "    </tr>\n",
       "    <tr>\n",
       "      <th>23</th>\n",
       "      <td>Tyler O'Neill</td>\n",
       "      <td>4.945308</td>\n",
       "      <td>21.173880</td>\n",
       "      <td>OF</td>\n",
       "    </tr>\n",
       "  </tbody>\n",
       "</table>\n",
       "</div>"
      ],
      "text/plain": [
       "                Name         z    Dollars    Pos\n",
       "2          Juan Soto  9.390390  37.932103     OF\n",
       "10  Ronald Acuna Jr.  8.211041  26.025719     OF\n",
       "9       Bryce Harper  7.248026  27.485023     OF\n",
       "12        Mike Trout  6.234178  25.942635     OF\n",
       "16    Yordan Alvarez  6.159642  25.272377  OF/DH\n",
       "14       Kyle Tucker  6.153412  25.381511     OF\n",
       "15       Luis Robert  6.083746  25.322911     OF\n",
       "27   George Springer  5.212707  20.240662  OF/DH\n",
       "52    Starling Marte  4.995739  14.836125     OF\n",
       "23     Tyler O'Neill  4.945308  21.173880     OF"
      ]
     },
     "execution_count": 34,
     "metadata": {},
     "output_type": "execute_result"
    }
   ],
   "source": [
    "mask = (df['Owner'].isna()) & (df['Primary_Pos']=='OF')\n",
    "df[mask][['Name', 'z', 'Dollars', 'Pos']].sort_values('z', ascending=False).head(10)"
   ]
  },
  {
   "cell_type": "code",
   "execution_count": 35,
   "id": "30b5b74e",
   "metadata": {},
   "outputs": [
    {
     "data": {
      "application/vnd.plotly.v1+json": {
       "config": {
        "plotlyServerURL": "https://plot.ly"
       },
       "data": [
        {
         "fill": "toself",
         "r": [
          -0.21435450065144687,
          -0.5397727272727272,
          -0.1457286432160807,
          -0.13461538461538447,
          0.9545454545454545
         ],
         "theta": [
          "zBA",
          "zR",
          "zRBI",
          "zHR",
          "zSB"
         ],
         "type": "scatterpolar"
        }
       ],
       "layout": {
        "polar": {
         "radialaxis": {
          "visible": true
         }
        },
        "showlegend": false,
        "template": {
         "data": {
          "bar": [
           {
            "error_x": {
             "color": "#2a3f5f"
            },
            "error_y": {
             "color": "#2a3f5f"
            },
            "marker": {
             "line": {
              "color": "#E5ECF6",
              "width": 0.5
             },
             "pattern": {
              "fillmode": "overlay",
              "size": 10,
              "solidity": 0.2
             }
            },
            "type": "bar"
           }
          ],
          "barpolar": [
           {
            "marker": {
             "line": {
              "color": "#E5ECF6",
              "width": 0.5
             },
             "pattern": {
              "fillmode": "overlay",
              "size": 10,
              "solidity": 0.2
             }
            },
            "type": "barpolar"
           }
          ],
          "carpet": [
           {
            "aaxis": {
             "endlinecolor": "#2a3f5f",
             "gridcolor": "white",
             "linecolor": "white",
             "minorgridcolor": "white",
             "startlinecolor": "#2a3f5f"
            },
            "baxis": {
             "endlinecolor": "#2a3f5f",
             "gridcolor": "white",
             "linecolor": "white",
             "minorgridcolor": "white",
             "startlinecolor": "#2a3f5f"
            },
            "type": "carpet"
           }
          ],
          "choropleth": [
           {
            "colorbar": {
             "outlinewidth": 0,
             "ticks": ""
            },
            "type": "choropleth"
           }
          ],
          "contour": [
           {
            "colorbar": {
             "outlinewidth": 0,
             "ticks": ""
            },
            "colorscale": [
             [
              0,
              "#0d0887"
             ],
             [
              0.1111111111111111,
              "#46039f"
             ],
             [
              0.2222222222222222,
              "#7201a8"
             ],
             [
              0.3333333333333333,
              "#9c179e"
             ],
             [
              0.4444444444444444,
              "#bd3786"
             ],
             [
              0.5555555555555556,
              "#d8576b"
             ],
             [
              0.6666666666666666,
              "#ed7953"
             ],
             [
              0.7777777777777778,
              "#fb9f3a"
             ],
             [
              0.8888888888888888,
              "#fdca26"
             ],
             [
              1,
              "#f0f921"
             ]
            ],
            "type": "contour"
           }
          ],
          "contourcarpet": [
           {
            "colorbar": {
             "outlinewidth": 0,
             "ticks": ""
            },
            "type": "contourcarpet"
           }
          ],
          "heatmap": [
           {
            "colorbar": {
             "outlinewidth": 0,
             "ticks": ""
            },
            "colorscale": [
             [
              0,
              "#0d0887"
             ],
             [
              0.1111111111111111,
              "#46039f"
             ],
             [
              0.2222222222222222,
              "#7201a8"
             ],
             [
              0.3333333333333333,
              "#9c179e"
             ],
             [
              0.4444444444444444,
              "#bd3786"
             ],
             [
              0.5555555555555556,
              "#d8576b"
             ],
             [
              0.6666666666666666,
              "#ed7953"
             ],
             [
              0.7777777777777778,
              "#fb9f3a"
             ],
             [
              0.8888888888888888,
              "#fdca26"
             ],
             [
              1,
              "#f0f921"
             ]
            ],
            "type": "heatmap"
           }
          ],
          "heatmapgl": [
           {
            "colorbar": {
             "outlinewidth": 0,
             "ticks": ""
            },
            "colorscale": [
             [
              0,
              "#0d0887"
             ],
             [
              0.1111111111111111,
              "#46039f"
             ],
             [
              0.2222222222222222,
              "#7201a8"
             ],
             [
              0.3333333333333333,
              "#9c179e"
             ],
             [
              0.4444444444444444,
              "#bd3786"
             ],
             [
              0.5555555555555556,
              "#d8576b"
             ],
             [
              0.6666666666666666,
              "#ed7953"
             ],
             [
              0.7777777777777778,
              "#fb9f3a"
             ],
             [
              0.8888888888888888,
              "#fdca26"
             ],
             [
              1,
              "#f0f921"
             ]
            ],
            "type": "heatmapgl"
           }
          ],
          "histogram": [
           {
            "marker": {
             "pattern": {
              "fillmode": "overlay",
              "size": 10,
              "solidity": 0.2
             }
            },
            "type": "histogram"
           }
          ],
          "histogram2d": [
           {
            "colorbar": {
             "outlinewidth": 0,
             "ticks": ""
            },
            "colorscale": [
             [
              0,
              "#0d0887"
             ],
             [
              0.1111111111111111,
              "#46039f"
             ],
             [
              0.2222222222222222,
              "#7201a8"
             ],
             [
              0.3333333333333333,
              "#9c179e"
             ],
             [
              0.4444444444444444,
              "#bd3786"
             ],
             [
              0.5555555555555556,
              "#d8576b"
             ],
             [
              0.6666666666666666,
              "#ed7953"
             ],
             [
              0.7777777777777778,
              "#fb9f3a"
             ],
             [
              0.8888888888888888,
              "#fdca26"
             ],
             [
              1,
              "#f0f921"
             ]
            ],
            "type": "histogram2d"
           }
          ],
          "histogram2dcontour": [
           {
            "colorbar": {
             "outlinewidth": 0,
             "ticks": ""
            },
            "colorscale": [
             [
              0,
              "#0d0887"
             ],
             [
              0.1111111111111111,
              "#46039f"
             ],
             [
              0.2222222222222222,
              "#7201a8"
             ],
             [
              0.3333333333333333,
              "#9c179e"
             ],
             [
              0.4444444444444444,
              "#bd3786"
             ],
             [
              0.5555555555555556,
              "#d8576b"
             ],
             [
              0.6666666666666666,
              "#ed7953"
             ],
             [
              0.7777777777777778,
              "#fb9f3a"
             ],
             [
              0.8888888888888888,
              "#fdca26"
             ],
             [
              1,
              "#f0f921"
             ]
            ],
            "type": "histogram2dcontour"
           }
          ],
          "mesh3d": [
           {
            "colorbar": {
             "outlinewidth": 0,
             "ticks": ""
            },
            "type": "mesh3d"
           }
          ],
          "parcoords": [
           {
            "line": {
             "colorbar": {
              "outlinewidth": 0,
              "ticks": ""
             }
            },
            "type": "parcoords"
           }
          ],
          "pie": [
           {
            "automargin": true,
            "type": "pie"
           }
          ],
          "scatter": [
           {
            "marker": {
             "colorbar": {
              "outlinewidth": 0,
              "ticks": ""
             }
            },
            "type": "scatter"
           }
          ],
          "scatter3d": [
           {
            "line": {
             "colorbar": {
              "outlinewidth": 0,
              "ticks": ""
             }
            },
            "marker": {
             "colorbar": {
              "outlinewidth": 0,
              "ticks": ""
             }
            },
            "type": "scatter3d"
           }
          ],
          "scattercarpet": [
           {
            "marker": {
             "colorbar": {
              "outlinewidth": 0,
              "ticks": ""
             }
            },
            "type": "scattercarpet"
           }
          ],
          "scattergeo": [
           {
            "marker": {
             "colorbar": {
              "outlinewidth": 0,
              "ticks": ""
             }
            },
            "type": "scattergeo"
           }
          ],
          "scattergl": [
           {
            "marker": {
             "colorbar": {
              "outlinewidth": 0,
              "ticks": ""
             }
            },
            "type": "scattergl"
           }
          ],
          "scattermapbox": [
           {
            "marker": {
             "colorbar": {
              "outlinewidth": 0,
              "ticks": ""
             }
            },
            "type": "scattermapbox"
           }
          ],
          "scatterpolar": [
           {
            "marker": {
             "colorbar": {
              "outlinewidth": 0,
              "ticks": ""
             }
            },
            "type": "scatterpolar"
           }
          ],
          "scatterpolargl": [
           {
            "marker": {
             "colorbar": {
              "outlinewidth": 0,
              "ticks": ""
             }
            },
            "type": "scatterpolargl"
           }
          ],
          "scatterternary": [
           {
            "marker": {
             "colorbar": {
              "outlinewidth": 0,
              "ticks": ""
             }
            },
            "type": "scatterternary"
           }
          ],
          "surface": [
           {
            "colorbar": {
             "outlinewidth": 0,
             "ticks": ""
            },
            "colorscale": [
             [
              0,
              "#0d0887"
             ],
             [
              0.1111111111111111,
              "#46039f"
             ],
             [
              0.2222222222222222,
              "#7201a8"
             ],
             [
              0.3333333333333333,
              "#9c179e"
             ],
             [
              0.4444444444444444,
              "#bd3786"
             ],
             [
              0.5555555555555556,
              "#d8576b"
             ],
             [
              0.6666666666666666,
              "#ed7953"
             ],
             [
              0.7777777777777778,
              "#fb9f3a"
             ],
             [
              0.8888888888888888,
              "#fdca26"
             ],
             [
              1,
              "#f0f921"
             ]
            ],
            "type": "surface"
           }
          ],
          "table": [
           {
            "cells": {
             "fill": {
              "color": "#EBF0F8"
             },
             "line": {
              "color": "white"
             }
            },
            "header": {
             "fill": {
              "color": "#C8D4E3"
             },
             "line": {
              "color": "white"
             }
            },
            "type": "table"
           }
          ]
         },
         "layout": {
          "annotationdefaults": {
           "arrowcolor": "#2a3f5f",
           "arrowhead": 0,
           "arrowwidth": 1
          },
          "autotypenumbers": "strict",
          "coloraxis": {
           "colorbar": {
            "outlinewidth": 0,
            "ticks": ""
           }
          },
          "colorscale": {
           "diverging": [
            [
             0,
             "#8e0152"
            ],
            [
             0.1,
             "#c51b7d"
            ],
            [
             0.2,
             "#de77ae"
            ],
            [
             0.3,
             "#f1b6da"
            ],
            [
             0.4,
             "#fde0ef"
            ],
            [
             0.5,
             "#f7f7f7"
            ],
            [
             0.6,
             "#e6f5d0"
            ],
            [
             0.7,
             "#b8e186"
            ],
            [
             0.8,
             "#7fbc41"
            ],
            [
             0.9,
             "#4d9221"
            ],
            [
             1,
             "#276419"
            ]
           ],
           "sequential": [
            [
             0,
             "#0d0887"
            ],
            [
             0.1111111111111111,
             "#46039f"
            ],
            [
             0.2222222222222222,
             "#7201a8"
            ],
            [
             0.3333333333333333,
             "#9c179e"
            ],
            [
             0.4444444444444444,
             "#bd3786"
            ],
            [
             0.5555555555555556,
             "#d8576b"
            ],
            [
             0.6666666666666666,
             "#ed7953"
            ],
            [
             0.7777777777777778,
             "#fb9f3a"
            ],
            [
             0.8888888888888888,
             "#fdca26"
            ],
            [
             1,
             "#f0f921"
            ]
           ],
           "sequentialminus": [
            [
             0,
             "#0d0887"
            ],
            [
             0.1111111111111111,
             "#46039f"
            ],
            [
             0.2222222222222222,
             "#7201a8"
            ],
            [
             0.3333333333333333,
             "#9c179e"
            ],
            [
             0.4444444444444444,
             "#bd3786"
            ],
            [
             0.5555555555555556,
             "#d8576b"
            ],
            [
             0.6666666666666666,
             "#ed7953"
            ],
            [
             0.7777777777777778,
             "#fb9f3a"
            ],
            [
             0.8888888888888888,
             "#fdca26"
            ],
            [
             1,
             "#f0f921"
            ]
           ]
          },
          "colorway": [
           "#636efa",
           "#EF553B",
           "#00cc96",
           "#ab63fa",
           "#FFA15A",
           "#19d3f3",
           "#FF6692",
           "#B6E880",
           "#FF97FF",
           "#FECB52"
          ],
          "font": {
           "color": "#2a3f5f"
          },
          "geo": {
           "bgcolor": "white",
           "lakecolor": "white",
           "landcolor": "#E5ECF6",
           "showlakes": true,
           "showland": true,
           "subunitcolor": "white"
          },
          "hoverlabel": {
           "align": "left"
          },
          "hovermode": "closest",
          "mapbox": {
           "style": "light"
          },
          "paper_bgcolor": "white",
          "plot_bgcolor": "#E5ECF6",
          "polar": {
           "angularaxis": {
            "gridcolor": "white",
            "linecolor": "white",
            "ticks": ""
           },
           "bgcolor": "#E5ECF6",
           "radialaxis": {
            "gridcolor": "white",
            "linecolor": "white",
            "ticks": ""
           }
          },
          "scene": {
           "xaxis": {
            "backgroundcolor": "#E5ECF6",
            "gridcolor": "white",
            "gridwidth": 2,
            "linecolor": "white",
            "showbackground": true,
            "ticks": "",
            "zerolinecolor": "white"
           },
           "yaxis": {
            "backgroundcolor": "#E5ECF6",
            "gridcolor": "white",
            "gridwidth": 2,
            "linecolor": "white",
            "showbackground": true,
            "ticks": "",
            "zerolinecolor": "white"
           },
           "zaxis": {
            "backgroundcolor": "#E5ECF6",
            "gridcolor": "white",
            "gridwidth": 2,
            "linecolor": "white",
            "showbackground": true,
            "ticks": "",
            "zerolinecolor": "white"
           }
          },
          "shapedefaults": {
           "line": {
            "color": "#2a3f5f"
           }
          },
          "ternary": {
           "aaxis": {
            "gridcolor": "white",
            "linecolor": "white",
            "ticks": ""
           },
           "baxis": {
            "gridcolor": "white",
            "linecolor": "white",
            "ticks": ""
           },
           "bgcolor": "#E5ECF6",
           "caxis": {
            "gridcolor": "white",
            "linecolor": "white",
            "ticks": ""
           }
          },
          "title": {
           "x": 0.05
          },
          "xaxis": {
           "automargin": true,
           "gridcolor": "white",
           "linecolor": "white",
           "ticks": "",
           "title": {
            "standoff": 15
           },
           "zerolinecolor": "white",
           "zerolinewidth": 2
          },
          "yaxis": {
           "automargin": true,
           "gridcolor": "white",
           "linecolor": "white",
           "ticks": "",
           "title": {
            "standoff": 15
           },
           "zerolinecolor": "white",
           "zerolinewidth": 2
          }
         }
        }
       }
      },
      "text/html": [
       "<div>                            <div id=\"a24d56ff-9e8c-40c4-9c5f-f27a10898977\" class=\"plotly-graph-div\" style=\"height:525px; width:100%;\"></div>            <script type=\"text/javascript\">                require([\"plotly\"], function(Plotly) {                    window.PLOTLYENV=window.PLOTLYENV || {};                                    if (document.getElementById(\"a24d56ff-9e8c-40c4-9c5f-f27a10898977\")) {                    Plotly.newPlot(                        \"a24d56ff-9e8c-40c4-9c5f-f27a10898977\",                        [{\"fill\":\"toself\",\"r\":[-0.21435450065144687,-0.5397727272727272,-0.1457286432160807,-0.13461538461538447,0.9545454545454545],\"theta\":[\"zBA\",\"zR\",\"zRBI\",\"zHR\",\"zSB\"],\"type\":\"scatterpolar\"}],                        {\"polar\":{\"radialaxis\":{\"visible\":true}},\"showlegend\":false,\"template\":{\"data\":{\"bar\":[{\"error_x\":{\"color\":\"#2a3f5f\"},\"error_y\":{\"color\":\"#2a3f5f\"},\"marker\":{\"line\":{\"color\":\"#E5ECF6\",\"width\":0.5},\"pattern\":{\"fillmode\":\"overlay\",\"size\":10,\"solidity\":0.2}},\"type\":\"bar\"}],\"barpolar\":[{\"marker\":{\"line\":{\"color\":\"#E5ECF6\",\"width\":0.5},\"pattern\":{\"fillmode\":\"overlay\",\"size\":10,\"solidity\":0.2}},\"type\":\"barpolar\"}],\"carpet\":[{\"aaxis\":{\"endlinecolor\":\"#2a3f5f\",\"gridcolor\":\"white\",\"linecolor\":\"white\",\"minorgridcolor\":\"white\",\"startlinecolor\":\"#2a3f5f\"},\"baxis\":{\"endlinecolor\":\"#2a3f5f\",\"gridcolor\":\"white\",\"linecolor\":\"white\",\"minorgridcolor\":\"white\",\"startlinecolor\":\"#2a3f5f\"},\"type\":\"carpet\"}],\"choropleth\":[{\"colorbar\":{\"outlinewidth\":0,\"ticks\":\"\"},\"type\":\"choropleth\"}],\"contour\":[{\"colorbar\":{\"outlinewidth\":0,\"ticks\":\"\"},\"colorscale\":[[0.0,\"#0d0887\"],[0.1111111111111111,\"#46039f\"],[0.2222222222222222,\"#7201a8\"],[0.3333333333333333,\"#9c179e\"],[0.4444444444444444,\"#bd3786\"],[0.5555555555555556,\"#d8576b\"],[0.6666666666666666,\"#ed7953\"],[0.7777777777777778,\"#fb9f3a\"],[0.8888888888888888,\"#fdca26\"],[1.0,\"#f0f921\"]],\"type\":\"contour\"}],\"contourcarpet\":[{\"colorbar\":{\"outlinewidth\":0,\"ticks\":\"\"},\"type\":\"contourcarpet\"}],\"heatmap\":[{\"colorbar\":{\"outlinewidth\":0,\"ticks\":\"\"},\"colorscale\":[[0.0,\"#0d0887\"],[0.1111111111111111,\"#46039f\"],[0.2222222222222222,\"#7201a8\"],[0.3333333333333333,\"#9c179e\"],[0.4444444444444444,\"#bd3786\"],[0.5555555555555556,\"#d8576b\"],[0.6666666666666666,\"#ed7953\"],[0.7777777777777778,\"#fb9f3a\"],[0.8888888888888888,\"#fdca26\"],[1.0,\"#f0f921\"]],\"type\":\"heatmap\"}],\"heatmapgl\":[{\"colorbar\":{\"outlinewidth\":0,\"ticks\":\"\"},\"colorscale\":[[0.0,\"#0d0887\"],[0.1111111111111111,\"#46039f\"],[0.2222222222222222,\"#7201a8\"],[0.3333333333333333,\"#9c179e\"],[0.4444444444444444,\"#bd3786\"],[0.5555555555555556,\"#d8576b\"],[0.6666666666666666,\"#ed7953\"],[0.7777777777777778,\"#fb9f3a\"],[0.8888888888888888,\"#fdca26\"],[1.0,\"#f0f921\"]],\"type\":\"heatmapgl\"}],\"histogram\":[{\"marker\":{\"pattern\":{\"fillmode\":\"overlay\",\"size\":10,\"solidity\":0.2}},\"type\":\"histogram\"}],\"histogram2d\":[{\"colorbar\":{\"outlinewidth\":0,\"ticks\":\"\"},\"colorscale\":[[0.0,\"#0d0887\"],[0.1111111111111111,\"#46039f\"],[0.2222222222222222,\"#7201a8\"],[0.3333333333333333,\"#9c179e\"],[0.4444444444444444,\"#bd3786\"],[0.5555555555555556,\"#d8576b\"],[0.6666666666666666,\"#ed7953\"],[0.7777777777777778,\"#fb9f3a\"],[0.8888888888888888,\"#fdca26\"],[1.0,\"#f0f921\"]],\"type\":\"histogram2d\"}],\"histogram2dcontour\":[{\"colorbar\":{\"outlinewidth\":0,\"ticks\":\"\"},\"colorscale\":[[0.0,\"#0d0887\"],[0.1111111111111111,\"#46039f\"],[0.2222222222222222,\"#7201a8\"],[0.3333333333333333,\"#9c179e\"],[0.4444444444444444,\"#bd3786\"],[0.5555555555555556,\"#d8576b\"],[0.6666666666666666,\"#ed7953\"],[0.7777777777777778,\"#fb9f3a\"],[0.8888888888888888,\"#fdca26\"],[1.0,\"#f0f921\"]],\"type\":\"histogram2dcontour\"}],\"mesh3d\":[{\"colorbar\":{\"outlinewidth\":0,\"ticks\":\"\"},\"type\":\"mesh3d\"}],\"parcoords\":[{\"line\":{\"colorbar\":{\"outlinewidth\":0,\"ticks\":\"\"}},\"type\":\"parcoords\"}],\"pie\":[{\"automargin\":true,\"type\":\"pie\"}],\"scatter\":[{\"marker\":{\"colorbar\":{\"outlinewidth\":0,\"ticks\":\"\"}},\"type\":\"scatter\"}],\"scatter3d\":[{\"line\":{\"colorbar\":{\"outlinewidth\":0,\"ticks\":\"\"}},\"marker\":{\"colorbar\":{\"outlinewidth\":0,\"ticks\":\"\"}},\"type\":\"scatter3d\"}],\"scattercarpet\":[{\"marker\":{\"colorbar\":{\"outlinewidth\":0,\"ticks\":\"\"}},\"type\":\"scattercarpet\"}],\"scattergeo\":[{\"marker\":{\"colorbar\":{\"outlinewidth\":0,\"ticks\":\"\"}},\"type\":\"scattergeo\"}],\"scattergl\":[{\"marker\":{\"colorbar\":{\"outlinewidth\":0,\"ticks\":\"\"}},\"type\":\"scattergl\"}],\"scattermapbox\":[{\"marker\":{\"colorbar\":{\"outlinewidth\":0,\"ticks\":\"\"}},\"type\":\"scattermapbox\"}],\"scatterpolar\":[{\"marker\":{\"colorbar\":{\"outlinewidth\":0,\"ticks\":\"\"}},\"type\":\"scatterpolar\"}],\"scatterpolargl\":[{\"marker\":{\"colorbar\":{\"outlinewidth\":0,\"ticks\":\"\"}},\"type\":\"scatterpolargl\"}],\"scatterternary\":[{\"marker\":{\"colorbar\":{\"outlinewidth\":0,\"ticks\":\"\"}},\"type\":\"scatterternary\"}],\"surface\":[{\"colorbar\":{\"outlinewidth\":0,\"ticks\":\"\"},\"colorscale\":[[0.0,\"#0d0887\"],[0.1111111111111111,\"#46039f\"],[0.2222222222222222,\"#7201a8\"],[0.3333333333333333,\"#9c179e\"],[0.4444444444444444,\"#bd3786\"],[0.5555555555555556,\"#d8576b\"],[0.6666666666666666,\"#ed7953\"],[0.7777777777777778,\"#fb9f3a\"],[0.8888888888888888,\"#fdca26\"],[1.0,\"#f0f921\"]],\"type\":\"surface\"}],\"table\":[{\"cells\":{\"fill\":{\"color\":\"#EBF0F8\"},\"line\":{\"color\":\"white\"}},\"header\":{\"fill\":{\"color\":\"#C8D4E3\"},\"line\":{\"color\":\"white\"}},\"type\":\"table\"}]},\"layout\":{\"annotationdefaults\":{\"arrowcolor\":\"#2a3f5f\",\"arrowhead\":0,\"arrowwidth\":1},\"autotypenumbers\":\"strict\",\"coloraxis\":{\"colorbar\":{\"outlinewidth\":0,\"ticks\":\"\"}},\"colorscale\":{\"diverging\":[[0,\"#8e0152\"],[0.1,\"#c51b7d\"],[0.2,\"#de77ae\"],[0.3,\"#f1b6da\"],[0.4,\"#fde0ef\"],[0.5,\"#f7f7f7\"],[0.6,\"#e6f5d0\"],[0.7,\"#b8e186\"],[0.8,\"#7fbc41\"],[0.9,\"#4d9221\"],[1,\"#276419\"]],\"sequential\":[[0.0,\"#0d0887\"],[0.1111111111111111,\"#46039f\"],[0.2222222222222222,\"#7201a8\"],[0.3333333333333333,\"#9c179e\"],[0.4444444444444444,\"#bd3786\"],[0.5555555555555556,\"#d8576b\"],[0.6666666666666666,\"#ed7953\"],[0.7777777777777778,\"#fb9f3a\"],[0.8888888888888888,\"#fdca26\"],[1.0,\"#f0f921\"]],\"sequentialminus\":[[0.0,\"#0d0887\"],[0.1111111111111111,\"#46039f\"],[0.2222222222222222,\"#7201a8\"],[0.3333333333333333,\"#9c179e\"],[0.4444444444444444,\"#bd3786\"],[0.5555555555555556,\"#d8576b\"],[0.6666666666666666,\"#ed7953\"],[0.7777777777777778,\"#fb9f3a\"],[0.8888888888888888,\"#fdca26\"],[1.0,\"#f0f921\"]]},\"colorway\":[\"#636efa\",\"#EF553B\",\"#00cc96\",\"#ab63fa\",\"#FFA15A\",\"#19d3f3\",\"#FF6692\",\"#B6E880\",\"#FF97FF\",\"#FECB52\"],\"font\":{\"color\":\"#2a3f5f\"},\"geo\":{\"bgcolor\":\"white\",\"lakecolor\":\"white\",\"landcolor\":\"#E5ECF6\",\"showlakes\":true,\"showland\":true,\"subunitcolor\":\"white\"},\"hoverlabel\":{\"align\":\"left\"},\"hovermode\":\"closest\",\"mapbox\":{\"style\":\"light\"},\"paper_bgcolor\":\"white\",\"plot_bgcolor\":\"#E5ECF6\",\"polar\":{\"angularaxis\":{\"gridcolor\":\"white\",\"linecolor\":\"white\",\"ticks\":\"\"},\"bgcolor\":\"#E5ECF6\",\"radialaxis\":{\"gridcolor\":\"white\",\"linecolor\":\"white\",\"ticks\":\"\"}},\"scene\":{\"xaxis\":{\"backgroundcolor\":\"#E5ECF6\",\"gridcolor\":\"white\",\"gridwidth\":2,\"linecolor\":\"white\",\"showbackground\":true,\"ticks\":\"\",\"zerolinecolor\":\"white\"},\"yaxis\":{\"backgroundcolor\":\"#E5ECF6\",\"gridcolor\":\"white\",\"gridwidth\":2,\"linecolor\":\"white\",\"showbackground\":true,\"ticks\":\"\",\"zerolinecolor\":\"white\"},\"zaxis\":{\"backgroundcolor\":\"#E5ECF6\",\"gridcolor\":\"white\",\"gridwidth\":2,\"linecolor\":\"white\",\"showbackground\":true,\"ticks\":\"\",\"zerolinecolor\":\"white\"}},\"shapedefaults\":{\"line\":{\"color\":\"#2a3f5f\"}},\"ternary\":{\"aaxis\":{\"gridcolor\":\"white\",\"linecolor\":\"white\",\"ticks\":\"\"},\"baxis\":{\"gridcolor\":\"white\",\"linecolor\":\"white\",\"ticks\":\"\"},\"bgcolor\":\"#E5ECF6\",\"caxis\":{\"gridcolor\":\"white\",\"linecolor\":\"white\",\"ticks\":\"\"}},\"title\":{\"x\":0.05},\"xaxis\":{\"automargin\":true,\"gridcolor\":\"white\",\"linecolor\":\"white\",\"ticks\":\"\",\"title\":{\"standoff\":15},\"zerolinecolor\":\"white\",\"zerolinewidth\":2},\"yaxis\":{\"automargin\":true,\"gridcolor\":\"white\",\"linecolor\":\"white\",\"ticks\":\"\",\"title\":{\"standoff\":15},\"zerolinecolor\":\"white\",\"zerolinewidth\":2}}}},                        {\"responsive\": true}                    ).then(function(){\n",
       "                            \n",
       "var gd = document.getElementById('a24d56ff-9e8c-40c4-9c5f-f27a10898977');\n",
       "var x = new MutationObserver(function (mutations, observer) {{\n",
       "        var display = window.getComputedStyle(gd).display;\n",
       "        if (!display || display === 'none') {{\n",
       "            console.log([gd, 'removed!']);\n",
       "            Plotly.purge(gd);\n",
       "            observer.disconnect();\n",
       "        }}\n",
       "}});\n",
       "\n",
       "// Listen for the removal of the full notebook cells\n",
       "var notebookContainer = gd.closest('#notebook-container');\n",
       "if (notebookContainer) {{\n",
       "    x.observe(notebookContainer, {childList: true});\n",
       "}}\n",
       "\n",
       "// Listen for the clearing of the current output cell\n",
       "var outputEl = gd.closest('.output');\n",
       "if (outputEl) {{\n",
       "    x.observe(outputEl, {childList: true});\n",
       "}}\n",
       "\n",
       "                        })                };                });            </script>        </div>"
      ]
     },
     "metadata": {},
     "output_type": "display_data"
    }
   ],
   "source": [
    "single_player = (h['Name']=='Robert Witt')\n",
    "\n",
    "fig = go.Figure(data=go.Scatterpolar(\n",
    "  r=h[single_player][['zBA', 'zR', 'zRBI', 'zHR', 'zSB']].values.tolist()[0],\n",
    "  theta=['zBA', 'zR', 'zRBI', 'zHR', 'zSB'],\n",
    "  fill='toself',\n",
    "))\n",
    "\n",
    "fig.update_layout(\n",
    "  polar=dict(\n",
    "    radialaxis=dict(\n",
    "      visible=True\n",
    "    ),\n",
    "  ),\n",
    "  showlegend=False\n",
    ")\n",
    "\n",
    "fig.show()"
   ]
  },
  {
   "cell_type": "code",
   "execution_count": 36,
   "id": "a138c5d0",
   "metadata": {},
   "outputs": [
    {
     "data": {
      "application/vnd.plotly.v1+json": {
       "config": {
        "plotlyServerURL": "https://plot.ly"
       },
       "data": [
        {
         "type": "bar",
         "x": [
          "Charmer",
          "Dirty Birds",
          "Harvey",
          "Lil Trump",
          "Lima Time",
          "Midnight",
          "Moms Cookin",
          "Roid Ragers",
          "Trouble",
          "Wu-Tang"
         ],
         "y": [
          19,
          20,
          20,
          32,
          42.5,
          14.5,
          24,
          40,
          29.5,
          33.5
         ]
        }
       ],
       "layout": {
        "template": {
         "data": {
          "bar": [
           {
            "error_x": {
             "color": "#2a3f5f"
            },
            "error_y": {
             "color": "#2a3f5f"
            },
            "marker": {
             "line": {
              "color": "#E5ECF6",
              "width": 0.5
             },
             "pattern": {
              "fillmode": "overlay",
              "size": 10,
              "solidity": 0.2
             }
            },
            "type": "bar"
           }
          ],
          "barpolar": [
           {
            "marker": {
             "line": {
              "color": "#E5ECF6",
              "width": 0.5
             },
             "pattern": {
              "fillmode": "overlay",
              "size": 10,
              "solidity": 0.2
             }
            },
            "type": "barpolar"
           }
          ],
          "carpet": [
           {
            "aaxis": {
             "endlinecolor": "#2a3f5f",
             "gridcolor": "white",
             "linecolor": "white",
             "minorgridcolor": "white",
             "startlinecolor": "#2a3f5f"
            },
            "baxis": {
             "endlinecolor": "#2a3f5f",
             "gridcolor": "white",
             "linecolor": "white",
             "minorgridcolor": "white",
             "startlinecolor": "#2a3f5f"
            },
            "type": "carpet"
           }
          ],
          "choropleth": [
           {
            "colorbar": {
             "outlinewidth": 0,
             "ticks": ""
            },
            "type": "choropleth"
           }
          ],
          "contour": [
           {
            "colorbar": {
             "outlinewidth": 0,
             "ticks": ""
            },
            "colorscale": [
             [
              0,
              "#0d0887"
             ],
             [
              0.1111111111111111,
              "#46039f"
             ],
             [
              0.2222222222222222,
              "#7201a8"
             ],
             [
              0.3333333333333333,
              "#9c179e"
             ],
             [
              0.4444444444444444,
              "#bd3786"
             ],
             [
              0.5555555555555556,
              "#d8576b"
             ],
             [
              0.6666666666666666,
              "#ed7953"
             ],
             [
              0.7777777777777778,
              "#fb9f3a"
             ],
             [
              0.8888888888888888,
              "#fdca26"
             ],
             [
              1,
              "#f0f921"
             ]
            ],
            "type": "contour"
           }
          ],
          "contourcarpet": [
           {
            "colorbar": {
             "outlinewidth": 0,
             "ticks": ""
            },
            "type": "contourcarpet"
           }
          ],
          "heatmap": [
           {
            "colorbar": {
             "outlinewidth": 0,
             "ticks": ""
            },
            "colorscale": [
             [
              0,
              "#0d0887"
             ],
             [
              0.1111111111111111,
              "#46039f"
             ],
             [
              0.2222222222222222,
              "#7201a8"
             ],
             [
              0.3333333333333333,
              "#9c179e"
             ],
             [
              0.4444444444444444,
              "#bd3786"
             ],
             [
              0.5555555555555556,
              "#d8576b"
             ],
             [
              0.6666666666666666,
              "#ed7953"
             ],
             [
              0.7777777777777778,
              "#fb9f3a"
             ],
             [
              0.8888888888888888,
              "#fdca26"
             ],
             [
              1,
              "#f0f921"
             ]
            ],
            "type": "heatmap"
           }
          ],
          "heatmapgl": [
           {
            "colorbar": {
             "outlinewidth": 0,
             "ticks": ""
            },
            "colorscale": [
             [
              0,
              "#0d0887"
             ],
             [
              0.1111111111111111,
              "#46039f"
             ],
             [
              0.2222222222222222,
              "#7201a8"
             ],
             [
              0.3333333333333333,
              "#9c179e"
             ],
             [
              0.4444444444444444,
              "#bd3786"
             ],
             [
              0.5555555555555556,
              "#d8576b"
             ],
             [
              0.6666666666666666,
              "#ed7953"
             ],
             [
              0.7777777777777778,
              "#fb9f3a"
             ],
             [
              0.8888888888888888,
              "#fdca26"
             ],
             [
              1,
              "#f0f921"
             ]
            ],
            "type": "heatmapgl"
           }
          ],
          "histogram": [
           {
            "marker": {
             "pattern": {
              "fillmode": "overlay",
              "size": 10,
              "solidity": 0.2
             }
            },
            "type": "histogram"
           }
          ],
          "histogram2d": [
           {
            "colorbar": {
             "outlinewidth": 0,
             "ticks": ""
            },
            "colorscale": [
             [
              0,
              "#0d0887"
             ],
             [
              0.1111111111111111,
              "#46039f"
             ],
             [
              0.2222222222222222,
              "#7201a8"
             ],
             [
              0.3333333333333333,
              "#9c179e"
             ],
             [
              0.4444444444444444,
              "#bd3786"
             ],
             [
              0.5555555555555556,
              "#d8576b"
             ],
             [
              0.6666666666666666,
              "#ed7953"
             ],
             [
              0.7777777777777778,
              "#fb9f3a"
             ],
             [
              0.8888888888888888,
              "#fdca26"
             ],
             [
              1,
              "#f0f921"
             ]
            ],
            "type": "histogram2d"
           }
          ],
          "histogram2dcontour": [
           {
            "colorbar": {
             "outlinewidth": 0,
             "ticks": ""
            },
            "colorscale": [
             [
              0,
              "#0d0887"
             ],
             [
              0.1111111111111111,
              "#46039f"
             ],
             [
              0.2222222222222222,
              "#7201a8"
             ],
             [
              0.3333333333333333,
              "#9c179e"
             ],
             [
              0.4444444444444444,
              "#bd3786"
             ],
             [
              0.5555555555555556,
              "#d8576b"
             ],
             [
              0.6666666666666666,
              "#ed7953"
             ],
             [
              0.7777777777777778,
              "#fb9f3a"
             ],
             [
              0.8888888888888888,
              "#fdca26"
             ],
             [
              1,
              "#f0f921"
             ]
            ],
            "type": "histogram2dcontour"
           }
          ],
          "mesh3d": [
           {
            "colorbar": {
             "outlinewidth": 0,
             "ticks": ""
            },
            "type": "mesh3d"
           }
          ],
          "parcoords": [
           {
            "line": {
             "colorbar": {
              "outlinewidth": 0,
              "ticks": ""
             }
            },
            "type": "parcoords"
           }
          ],
          "pie": [
           {
            "automargin": true,
            "type": "pie"
           }
          ],
          "scatter": [
           {
            "marker": {
             "colorbar": {
              "outlinewidth": 0,
              "ticks": ""
             }
            },
            "type": "scatter"
           }
          ],
          "scatter3d": [
           {
            "line": {
             "colorbar": {
              "outlinewidth": 0,
              "ticks": ""
             }
            },
            "marker": {
             "colorbar": {
              "outlinewidth": 0,
              "ticks": ""
             }
            },
            "type": "scatter3d"
           }
          ],
          "scattercarpet": [
           {
            "marker": {
             "colorbar": {
              "outlinewidth": 0,
              "ticks": ""
             }
            },
            "type": "scattercarpet"
           }
          ],
          "scattergeo": [
           {
            "marker": {
             "colorbar": {
              "outlinewidth": 0,
              "ticks": ""
             }
            },
            "type": "scattergeo"
           }
          ],
          "scattergl": [
           {
            "marker": {
             "colorbar": {
              "outlinewidth": 0,
              "ticks": ""
             }
            },
            "type": "scattergl"
           }
          ],
          "scattermapbox": [
           {
            "marker": {
             "colorbar": {
              "outlinewidth": 0,
              "ticks": ""
             }
            },
            "type": "scattermapbox"
           }
          ],
          "scatterpolar": [
           {
            "marker": {
             "colorbar": {
              "outlinewidth": 0,
              "ticks": ""
             }
            },
            "type": "scatterpolar"
           }
          ],
          "scatterpolargl": [
           {
            "marker": {
             "colorbar": {
              "outlinewidth": 0,
              "ticks": ""
             }
            },
            "type": "scatterpolargl"
           }
          ],
          "scatterternary": [
           {
            "marker": {
             "colorbar": {
              "outlinewidth": 0,
              "ticks": ""
             }
            },
            "type": "scatterternary"
           }
          ],
          "surface": [
           {
            "colorbar": {
             "outlinewidth": 0,
             "ticks": ""
            },
            "colorscale": [
             [
              0,
              "#0d0887"
             ],
             [
              0.1111111111111111,
              "#46039f"
             ],
             [
              0.2222222222222222,
              "#7201a8"
             ],
             [
              0.3333333333333333,
              "#9c179e"
             ],
             [
              0.4444444444444444,
              "#bd3786"
             ],
             [
              0.5555555555555556,
              "#d8576b"
             ],
             [
              0.6666666666666666,
              "#ed7953"
             ],
             [
              0.7777777777777778,
              "#fb9f3a"
             ],
             [
              0.8888888888888888,
              "#fdca26"
             ],
             [
              1,
              "#f0f921"
             ]
            ],
            "type": "surface"
           }
          ],
          "table": [
           {
            "cells": {
             "fill": {
              "color": "#EBF0F8"
             },
             "line": {
              "color": "white"
             }
            },
            "header": {
             "fill": {
              "color": "#C8D4E3"
             },
             "line": {
              "color": "white"
             }
            },
            "type": "table"
           }
          ]
         },
         "layout": {
          "annotationdefaults": {
           "arrowcolor": "#2a3f5f",
           "arrowhead": 0,
           "arrowwidth": 1
          },
          "autotypenumbers": "strict",
          "coloraxis": {
           "colorbar": {
            "outlinewidth": 0,
            "ticks": ""
           }
          },
          "colorscale": {
           "diverging": [
            [
             0,
             "#8e0152"
            ],
            [
             0.1,
             "#c51b7d"
            ],
            [
             0.2,
             "#de77ae"
            ],
            [
             0.3,
             "#f1b6da"
            ],
            [
             0.4,
             "#fde0ef"
            ],
            [
             0.5,
             "#f7f7f7"
            ],
            [
             0.6,
             "#e6f5d0"
            ],
            [
             0.7,
             "#b8e186"
            ],
            [
             0.8,
             "#7fbc41"
            ],
            [
             0.9,
             "#4d9221"
            ],
            [
             1,
             "#276419"
            ]
           ],
           "sequential": [
            [
             0,
             "#0d0887"
            ],
            [
             0.1111111111111111,
             "#46039f"
            ],
            [
             0.2222222222222222,
             "#7201a8"
            ],
            [
             0.3333333333333333,
             "#9c179e"
            ],
            [
             0.4444444444444444,
             "#bd3786"
            ],
            [
             0.5555555555555556,
             "#d8576b"
            ],
            [
             0.6666666666666666,
             "#ed7953"
            ],
            [
             0.7777777777777778,
             "#fb9f3a"
            ],
            [
             0.8888888888888888,
             "#fdca26"
            ],
            [
             1,
             "#f0f921"
            ]
           ],
           "sequentialminus": [
            [
             0,
             "#0d0887"
            ],
            [
             0.1111111111111111,
             "#46039f"
            ],
            [
             0.2222222222222222,
             "#7201a8"
            ],
            [
             0.3333333333333333,
             "#9c179e"
            ],
            [
             0.4444444444444444,
             "#bd3786"
            ],
            [
             0.5555555555555556,
             "#d8576b"
            ],
            [
             0.6666666666666666,
             "#ed7953"
            ],
            [
             0.7777777777777778,
             "#fb9f3a"
            ],
            [
             0.8888888888888888,
             "#fdca26"
            ],
            [
             1,
             "#f0f921"
            ]
           ]
          },
          "colorway": [
           "#636efa",
           "#EF553B",
           "#00cc96",
           "#ab63fa",
           "#FFA15A",
           "#19d3f3",
           "#FF6692",
           "#B6E880",
           "#FF97FF",
           "#FECB52"
          ],
          "font": {
           "color": "#2a3f5f"
          },
          "geo": {
           "bgcolor": "white",
           "lakecolor": "white",
           "landcolor": "#E5ECF6",
           "showlakes": true,
           "showland": true,
           "subunitcolor": "white"
          },
          "hoverlabel": {
           "align": "left"
          },
          "hovermode": "closest",
          "mapbox": {
           "style": "light"
          },
          "paper_bgcolor": "white",
          "plot_bgcolor": "#E5ECF6",
          "polar": {
           "angularaxis": {
            "gridcolor": "white",
            "linecolor": "white",
            "ticks": ""
           },
           "bgcolor": "#E5ECF6",
           "radialaxis": {
            "gridcolor": "white",
            "linecolor": "white",
            "ticks": ""
           }
          },
          "scene": {
           "xaxis": {
            "backgroundcolor": "#E5ECF6",
            "gridcolor": "white",
            "gridwidth": 2,
            "linecolor": "white",
            "showbackground": true,
            "ticks": "",
            "zerolinecolor": "white"
           },
           "yaxis": {
            "backgroundcolor": "#E5ECF6",
            "gridcolor": "white",
            "gridwidth": 2,
            "linecolor": "white",
            "showbackground": true,
            "ticks": "",
            "zerolinecolor": "white"
           },
           "zaxis": {
            "backgroundcolor": "#E5ECF6",
            "gridcolor": "white",
            "gridwidth": 2,
            "linecolor": "white",
            "showbackground": true,
            "ticks": "",
            "zerolinecolor": "white"
           }
          },
          "shapedefaults": {
           "line": {
            "color": "#2a3f5f"
           }
          },
          "ternary": {
           "aaxis": {
            "gridcolor": "white",
            "linecolor": "white",
            "ticks": ""
           },
           "baxis": {
            "gridcolor": "white",
            "linecolor": "white",
            "ticks": ""
           },
           "bgcolor": "#E5ECF6",
           "caxis": {
            "gridcolor": "white",
            "linecolor": "white",
            "ticks": ""
           }
          },
          "title": {
           "x": 0.05
          },
          "xaxis": {
           "automargin": true,
           "gridcolor": "white",
           "linecolor": "white",
           "ticks": "",
           "title": {
            "standoff": 15
           },
           "zerolinecolor": "white",
           "zerolinewidth": 2
          },
          "yaxis": {
           "automargin": true,
           "gridcolor": "white",
           "linecolor": "white",
           "ticks": "",
           "title": {
            "standoff": 15
           },
           "zerolinecolor": "white",
           "zerolinewidth": 2
          }
         }
        }
       }
      },
      "text/html": [
       "<div>                            <div id=\"9f93aad6-f483-4d74-b47b-d99936354570\" class=\"plotly-graph-div\" style=\"height:525px; width:100%;\"></div>            <script type=\"text/javascript\">                require([\"plotly\"], function(Plotly) {                    window.PLOTLYENV=window.PLOTLYENV || {};                                    if (document.getElementById(\"9f93aad6-f483-4d74-b47b-d99936354570\")) {                    Plotly.newPlot(                        \"9f93aad6-f483-4d74-b47b-d99936354570\",                        [{\"type\":\"bar\",\"x\":[\"Charmer\",\"Dirty Birds\",\"Harvey\",\"Lil Trump\",\"Lima Time\",\"Midnight\",\"Moms Cookin\",\"Roid Ragers\",\"Trouble\",\"Wu-Tang\"],\"y\":[19.0,20.0,20.0,32.0,42.5,14.5,24.0,40.0,29.5,33.5]}],                        {\"template\":{\"data\":{\"bar\":[{\"error_x\":{\"color\":\"#2a3f5f\"},\"error_y\":{\"color\":\"#2a3f5f\"},\"marker\":{\"line\":{\"color\":\"#E5ECF6\",\"width\":0.5},\"pattern\":{\"fillmode\":\"overlay\",\"size\":10,\"solidity\":0.2}},\"type\":\"bar\"}],\"barpolar\":[{\"marker\":{\"line\":{\"color\":\"#E5ECF6\",\"width\":0.5},\"pattern\":{\"fillmode\":\"overlay\",\"size\":10,\"solidity\":0.2}},\"type\":\"barpolar\"}],\"carpet\":[{\"aaxis\":{\"endlinecolor\":\"#2a3f5f\",\"gridcolor\":\"white\",\"linecolor\":\"white\",\"minorgridcolor\":\"white\",\"startlinecolor\":\"#2a3f5f\"},\"baxis\":{\"endlinecolor\":\"#2a3f5f\",\"gridcolor\":\"white\",\"linecolor\":\"white\",\"minorgridcolor\":\"white\",\"startlinecolor\":\"#2a3f5f\"},\"type\":\"carpet\"}],\"choropleth\":[{\"colorbar\":{\"outlinewidth\":0,\"ticks\":\"\"},\"type\":\"choropleth\"}],\"contour\":[{\"colorbar\":{\"outlinewidth\":0,\"ticks\":\"\"},\"colorscale\":[[0.0,\"#0d0887\"],[0.1111111111111111,\"#46039f\"],[0.2222222222222222,\"#7201a8\"],[0.3333333333333333,\"#9c179e\"],[0.4444444444444444,\"#bd3786\"],[0.5555555555555556,\"#d8576b\"],[0.6666666666666666,\"#ed7953\"],[0.7777777777777778,\"#fb9f3a\"],[0.8888888888888888,\"#fdca26\"],[1.0,\"#f0f921\"]],\"type\":\"contour\"}],\"contourcarpet\":[{\"colorbar\":{\"outlinewidth\":0,\"ticks\":\"\"},\"type\":\"contourcarpet\"}],\"heatmap\":[{\"colorbar\":{\"outlinewidth\":0,\"ticks\":\"\"},\"colorscale\":[[0.0,\"#0d0887\"],[0.1111111111111111,\"#46039f\"],[0.2222222222222222,\"#7201a8\"],[0.3333333333333333,\"#9c179e\"],[0.4444444444444444,\"#bd3786\"],[0.5555555555555556,\"#d8576b\"],[0.6666666666666666,\"#ed7953\"],[0.7777777777777778,\"#fb9f3a\"],[0.8888888888888888,\"#fdca26\"],[1.0,\"#f0f921\"]],\"type\":\"heatmap\"}],\"heatmapgl\":[{\"colorbar\":{\"outlinewidth\":0,\"ticks\":\"\"},\"colorscale\":[[0.0,\"#0d0887\"],[0.1111111111111111,\"#46039f\"],[0.2222222222222222,\"#7201a8\"],[0.3333333333333333,\"#9c179e\"],[0.4444444444444444,\"#bd3786\"],[0.5555555555555556,\"#d8576b\"],[0.6666666666666666,\"#ed7953\"],[0.7777777777777778,\"#fb9f3a\"],[0.8888888888888888,\"#fdca26\"],[1.0,\"#f0f921\"]],\"type\":\"heatmapgl\"}],\"histogram\":[{\"marker\":{\"pattern\":{\"fillmode\":\"overlay\",\"size\":10,\"solidity\":0.2}},\"type\":\"histogram\"}],\"histogram2d\":[{\"colorbar\":{\"outlinewidth\":0,\"ticks\":\"\"},\"colorscale\":[[0.0,\"#0d0887\"],[0.1111111111111111,\"#46039f\"],[0.2222222222222222,\"#7201a8\"],[0.3333333333333333,\"#9c179e\"],[0.4444444444444444,\"#bd3786\"],[0.5555555555555556,\"#d8576b\"],[0.6666666666666666,\"#ed7953\"],[0.7777777777777778,\"#fb9f3a\"],[0.8888888888888888,\"#fdca26\"],[1.0,\"#f0f921\"]],\"type\":\"histogram2d\"}],\"histogram2dcontour\":[{\"colorbar\":{\"outlinewidth\":0,\"ticks\":\"\"},\"colorscale\":[[0.0,\"#0d0887\"],[0.1111111111111111,\"#46039f\"],[0.2222222222222222,\"#7201a8\"],[0.3333333333333333,\"#9c179e\"],[0.4444444444444444,\"#bd3786\"],[0.5555555555555556,\"#d8576b\"],[0.6666666666666666,\"#ed7953\"],[0.7777777777777778,\"#fb9f3a\"],[0.8888888888888888,\"#fdca26\"],[1.0,\"#f0f921\"]],\"type\":\"histogram2dcontour\"}],\"mesh3d\":[{\"colorbar\":{\"outlinewidth\":0,\"ticks\":\"\"},\"type\":\"mesh3d\"}],\"parcoords\":[{\"line\":{\"colorbar\":{\"outlinewidth\":0,\"ticks\":\"\"}},\"type\":\"parcoords\"}],\"pie\":[{\"automargin\":true,\"type\":\"pie\"}],\"scatter\":[{\"marker\":{\"colorbar\":{\"outlinewidth\":0,\"ticks\":\"\"}},\"type\":\"scatter\"}],\"scatter3d\":[{\"line\":{\"colorbar\":{\"outlinewidth\":0,\"ticks\":\"\"}},\"marker\":{\"colorbar\":{\"outlinewidth\":0,\"ticks\":\"\"}},\"type\":\"scatter3d\"}],\"scattercarpet\":[{\"marker\":{\"colorbar\":{\"outlinewidth\":0,\"ticks\":\"\"}},\"type\":\"scattercarpet\"}],\"scattergeo\":[{\"marker\":{\"colorbar\":{\"outlinewidth\":0,\"ticks\":\"\"}},\"type\":\"scattergeo\"}],\"scattergl\":[{\"marker\":{\"colorbar\":{\"outlinewidth\":0,\"ticks\":\"\"}},\"type\":\"scattergl\"}],\"scattermapbox\":[{\"marker\":{\"colorbar\":{\"outlinewidth\":0,\"ticks\":\"\"}},\"type\":\"scattermapbox\"}],\"scatterpolar\":[{\"marker\":{\"colorbar\":{\"outlinewidth\":0,\"ticks\":\"\"}},\"type\":\"scatterpolar\"}],\"scatterpolargl\":[{\"marker\":{\"colorbar\":{\"outlinewidth\":0,\"ticks\":\"\"}},\"type\":\"scatterpolargl\"}],\"scatterternary\":[{\"marker\":{\"colorbar\":{\"outlinewidth\":0,\"ticks\":\"\"}},\"type\":\"scatterternary\"}],\"surface\":[{\"colorbar\":{\"outlinewidth\":0,\"ticks\":\"\"},\"colorscale\":[[0.0,\"#0d0887\"],[0.1111111111111111,\"#46039f\"],[0.2222222222222222,\"#7201a8\"],[0.3333333333333333,\"#9c179e\"],[0.4444444444444444,\"#bd3786\"],[0.5555555555555556,\"#d8576b\"],[0.6666666666666666,\"#ed7953\"],[0.7777777777777778,\"#fb9f3a\"],[0.8888888888888888,\"#fdca26\"],[1.0,\"#f0f921\"]],\"type\":\"surface\"}],\"table\":[{\"cells\":{\"fill\":{\"color\":\"#EBF0F8\"},\"line\":{\"color\":\"white\"}},\"header\":{\"fill\":{\"color\":\"#C8D4E3\"},\"line\":{\"color\":\"white\"}},\"type\":\"table\"}]},\"layout\":{\"annotationdefaults\":{\"arrowcolor\":\"#2a3f5f\",\"arrowhead\":0,\"arrowwidth\":1},\"autotypenumbers\":\"strict\",\"coloraxis\":{\"colorbar\":{\"outlinewidth\":0,\"ticks\":\"\"}},\"colorscale\":{\"diverging\":[[0,\"#8e0152\"],[0.1,\"#c51b7d\"],[0.2,\"#de77ae\"],[0.3,\"#f1b6da\"],[0.4,\"#fde0ef\"],[0.5,\"#f7f7f7\"],[0.6,\"#e6f5d0\"],[0.7,\"#b8e186\"],[0.8,\"#7fbc41\"],[0.9,\"#4d9221\"],[1,\"#276419\"]],\"sequential\":[[0.0,\"#0d0887\"],[0.1111111111111111,\"#46039f\"],[0.2222222222222222,\"#7201a8\"],[0.3333333333333333,\"#9c179e\"],[0.4444444444444444,\"#bd3786\"],[0.5555555555555556,\"#d8576b\"],[0.6666666666666666,\"#ed7953\"],[0.7777777777777778,\"#fb9f3a\"],[0.8888888888888888,\"#fdca26\"],[1.0,\"#f0f921\"]],\"sequentialminus\":[[0.0,\"#0d0887\"],[0.1111111111111111,\"#46039f\"],[0.2222222222222222,\"#7201a8\"],[0.3333333333333333,\"#9c179e\"],[0.4444444444444444,\"#bd3786\"],[0.5555555555555556,\"#d8576b\"],[0.6666666666666666,\"#ed7953\"],[0.7777777777777778,\"#fb9f3a\"],[0.8888888888888888,\"#fdca26\"],[1.0,\"#f0f921\"]]},\"colorway\":[\"#636efa\",\"#EF553B\",\"#00cc96\",\"#ab63fa\",\"#FFA15A\",\"#19d3f3\",\"#FF6692\",\"#B6E880\",\"#FF97FF\",\"#FECB52\"],\"font\":{\"color\":\"#2a3f5f\"},\"geo\":{\"bgcolor\":\"white\",\"lakecolor\":\"white\",\"landcolor\":\"#E5ECF6\",\"showlakes\":true,\"showland\":true,\"subunitcolor\":\"white\"},\"hoverlabel\":{\"align\":\"left\"},\"hovermode\":\"closest\",\"mapbox\":{\"style\":\"light\"},\"paper_bgcolor\":\"white\",\"plot_bgcolor\":\"#E5ECF6\",\"polar\":{\"angularaxis\":{\"gridcolor\":\"white\",\"linecolor\":\"white\",\"ticks\":\"\"},\"bgcolor\":\"#E5ECF6\",\"radialaxis\":{\"gridcolor\":\"white\",\"linecolor\":\"white\",\"ticks\":\"\"}},\"scene\":{\"xaxis\":{\"backgroundcolor\":\"#E5ECF6\",\"gridcolor\":\"white\",\"gridwidth\":2,\"linecolor\":\"white\",\"showbackground\":true,\"ticks\":\"\",\"zerolinecolor\":\"white\"},\"yaxis\":{\"backgroundcolor\":\"#E5ECF6\",\"gridcolor\":\"white\",\"gridwidth\":2,\"linecolor\":\"white\",\"showbackground\":true,\"ticks\":\"\",\"zerolinecolor\":\"white\"},\"zaxis\":{\"backgroundcolor\":\"#E5ECF6\",\"gridcolor\":\"white\",\"gridwidth\":2,\"linecolor\":\"white\",\"showbackground\":true,\"ticks\":\"\",\"zerolinecolor\":\"white\"}},\"shapedefaults\":{\"line\":{\"color\":\"#2a3f5f\"}},\"ternary\":{\"aaxis\":{\"gridcolor\":\"white\",\"linecolor\":\"white\",\"ticks\":\"\"},\"baxis\":{\"gridcolor\":\"white\",\"linecolor\":\"white\",\"ticks\":\"\"},\"bgcolor\":\"#E5ECF6\",\"caxis\":{\"gridcolor\":\"white\",\"linecolor\":\"white\",\"ticks\":\"\"}},\"title\":{\"x\":0.05},\"xaxis\":{\"automargin\":true,\"gridcolor\":\"white\",\"linecolor\":\"white\",\"ticks\":\"\",\"title\":{\"standoff\":15},\"zerolinecolor\":\"white\",\"zerolinewidth\":2},\"yaxis\":{\"automargin\":true,\"gridcolor\":\"white\",\"linecolor\":\"white\",\"ticks\":\"\",\"title\":{\"standoff\":15},\"zerolinecolor\":\"white\",\"zerolinewidth\":2}}}},                        {\"responsive\": true}                    ).then(function(){\n",
       "                            \n",
       "var gd = document.getElementById('9f93aad6-f483-4d74-b47b-d99936354570');\n",
       "var x = new MutationObserver(function (mutations, observer) {{\n",
       "        var display = window.getComputedStyle(gd).display;\n",
       "        if (!display || display === 'none') {{\n",
       "            console.log([gd, 'removed!']);\n",
       "            Plotly.purge(gd);\n",
       "            observer.disconnect();\n",
       "        }}\n",
       "}});\n",
       "\n",
       "// Listen for the removal of the full notebook cells\n",
       "var notebookContainer = gd.closest('#notebook-container');\n",
       "if (notebookContainer) {{\n",
       "    x.observe(notebookContainer, {childList: true});\n",
       "}}\n",
       "\n",
       "// Listen for the clearing of the current output cell\n",
       "var outputEl = gd.closest('.output');\n",
       "if (outputEl) {{\n",
       "    x.observe(outputEl, {childList: true});\n",
       "}}\n",
       "\n",
       "                        })                };                });            </script>        </div>"
      ]
     },
     "metadata": {},
     "output_type": "display_data"
    }
   ],
   "source": [
    "fig = go.Figure()\n",
    "fig.add_trace(\n",
    "    go.Bar(\n",
    "        x=owners_df['Owner'],\n",
    "        y=owners_df['Pts'],\n",
    "    )\n",
    ")\n",
    "fig.show()"
   ]
  },
  {
   "cell_type": "code",
   "execution_count": 38,
   "id": "7beb17f3",
   "metadata": {},
   "outputs": [
    {
     "data": {
      "application/vnd.plotly.v1+json": {
       "config": {
        "plotlyServerURL": "https://plot.ly"
       },
       "data": [
        {
         "hovertemplate": "$ Left=%{x}<br>Pts=%{y}<extra></extra>",
         "legendgroup": "",
         "marker": {
          "color": "#636efa",
          "opacity": 0.65,
          "symbol": "circle"
         },
         "mode": "markers",
         "name": "",
         "orientation": "v",
         "showlegend": false,
         "type": "scatter",
         "x": [
          244,
          249,
          208,
          211,
          208,
          241,
          232,
          217,
          207,
          232
         ],
         "xaxis": "x",
         "y": [
          19,
          20,
          20,
          32,
          42.5,
          14.5,
          24,
          40,
          29.5,
          33.5
         ],
         "yaxis": "y"
        },
        {
         "hovertemplate": "<b>OLS trendline</b><br>Pts = -0.349994 * $ Left + 106.214<br>R<sup>2</sup>=0.372099<br><br>$ Left=%{x}<br>Pts=%{y} <b>(trend)</b><extra></extra>",
         "legendgroup": "",
         "line": {
          "color": "darkblue"
         },
         "marker": {
          "color": "#636efa",
          "symbol": "circle"
         },
         "mode": "lines",
         "name": "",
         "showlegend": false,
         "type": "scatter",
         "x": [
          207,
          208,
          208,
          211,
          217,
          232,
          232,
          241,
          244,
          249
         ],
         "xaxis": "x",
         "y": [
          33.76489053773078,
          33.41489665294135,
          33.41489665294135,
          32.364914998573056,
          30.264951689836465,
          25.01504341799499,
          25.01504341799499,
          21.865098454890102,
          20.815116800521807,
          19.065147376574643
         ],
         "yaxis": "y"
        }
       ],
       "layout": {
        "legend": {
         "tracegroupgap": 0
        },
        "margin": {
         "t": 60
        },
        "template": {
         "data": {
          "bar": [
           {
            "error_x": {
             "color": "#2a3f5f"
            },
            "error_y": {
             "color": "#2a3f5f"
            },
            "marker": {
             "line": {
              "color": "#E5ECF6",
              "width": 0.5
             },
             "pattern": {
              "fillmode": "overlay",
              "size": 10,
              "solidity": 0.2
             }
            },
            "type": "bar"
           }
          ],
          "barpolar": [
           {
            "marker": {
             "line": {
              "color": "#E5ECF6",
              "width": 0.5
             },
             "pattern": {
              "fillmode": "overlay",
              "size": 10,
              "solidity": 0.2
             }
            },
            "type": "barpolar"
           }
          ],
          "carpet": [
           {
            "aaxis": {
             "endlinecolor": "#2a3f5f",
             "gridcolor": "white",
             "linecolor": "white",
             "minorgridcolor": "white",
             "startlinecolor": "#2a3f5f"
            },
            "baxis": {
             "endlinecolor": "#2a3f5f",
             "gridcolor": "white",
             "linecolor": "white",
             "minorgridcolor": "white",
             "startlinecolor": "#2a3f5f"
            },
            "type": "carpet"
           }
          ],
          "choropleth": [
           {
            "colorbar": {
             "outlinewidth": 0,
             "ticks": ""
            },
            "type": "choropleth"
           }
          ],
          "contour": [
           {
            "colorbar": {
             "outlinewidth": 0,
             "ticks": ""
            },
            "colorscale": [
             [
              0,
              "#0d0887"
             ],
             [
              0.1111111111111111,
              "#46039f"
             ],
             [
              0.2222222222222222,
              "#7201a8"
             ],
             [
              0.3333333333333333,
              "#9c179e"
             ],
             [
              0.4444444444444444,
              "#bd3786"
             ],
             [
              0.5555555555555556,
              "#d8576b"
             ],
             [
              0.6666666666666666,
              "#ed7953"
             ],
             [
              0.7777777777777778,
              "#fb9f3a"
             ],
             [
              0.8888888888888888,
              "#fdca26"
             ],
             [
              1,
              "#f0f921"
             ]
            ],
            "type": "contour"
           }
          ],
          "contourcarpet": [
           {
            "colorbar": {
             "outlinewidth": 0,
             "ticks": ""
            },
            "type": "contourcarpet"
           }
          ],
          "heatmap": [
           {
            "colorbar": {
             "outlinewidth": 0,
             "ticks": ""
            },
            "colorscale": [
             [
              0,
              "#0d0887"
             ],
             [
              0.1111111111111111,
              "#46039f"
             ],
             [
              0.2222222222222222,
              "#7201a8"
             ],
             [
              0.3333333333333333,
              "#9c179e"
             ],
             [
              0.4444444444444444,
              "#bd3786"
             ],
             [
              0.5555555555555556,
              "#d8576b"
             ],
             [
              0.6666666666666666,
              "#ed7953"
             ],
             [
              0.7777777777777778,
              "#fb9f3a"
             ],
             [
              0.8888888888888888,
              "#fdca26"
             ],
             [
              1,
              "#f0f921"
             ]
            ],
            "type": "heatmap"
           }
          ],
          "heatmapgl": [
           {
            "colorbar": {
             "outlinewidth": 0,
             "ticks": ""
            },
            "colorscale": [
             [
              0,
              "#0d0887"
             ],
             [
              0.1111111111111111,
              "#46039f"
             ],
             [
              0.2222222222222222,
              "#7201a8"
             ],
             [
              0.3333333333333333,
              "#9c179e"
             ],
             [
              0.4444444444444444,
              "#bd3786"
             ],
             [
              0.5555555555555556,
              "#d8576b"
             ],
             [
              0.6666666666666666,
              "#ed7953"
             ],
             [
              0.7777777777777778,
              "#fb9f3a"
             ],
             [
              0.8888888888888888,
              "#fdca26"
             ],
             [
              1,
              "#f0f921"
             ]
            ],
            "type": "heatmapgl"
           }
          ],
          "histogram": [
           {
            "marker": {
             "pattern": {
              "fillmode": "overlay",
              "size": 10,
              "solidity": 0.2
             }
            },
            "type": "histogram"
           }
          ],
          "histogram2d": [
           {
            "colorbar": {
             "outlinewidth": 0,
             "ticks": ""
            },
            "colorscale": [
             [
              0,
              "#0d0887"
             ],
             [
              0.1111111111111111,
              "#46039f"
             ],
             [
              0.2222222222222222,
              "#7201a8"
             ],
             [
              0.3333333333333333,
              "#9c179e"
             ],
             [
              0.4444444444444444,
              "#bd3786"
             ],
             [
              0.5555555555555556,
              "#d8576b"
             ],
             [
              0.6666666666666666,
              "#ed7953"
             ],
             [
              0.7777777777777778,
              "#fb9f3a"
             ],
             [
              0.8888888888888888,
              "#fdca26"
             ],
             [
              1,
              "#f0f921"
             ]
            ],
            "type": "histogram2d"
           }
          ],
          "histogram2dcontour": [
           {
            "colorbar": {
             "outlinewidth": 0,
             "ticks": ""
            },
            "colorscale": [
             [
              0,
              "#0d0887"
             ],
             [
              0.1111111111111111,
              "#46039f"
             ],
             [
              0.2222222222222222,
              "#7201a8"
             ],
             [
              0.3333333333333333,
              "#9c179e"
             ],
             [
              0.4444444444444444,
              "#bd3786"
             ],
             [
              0.5555555555555556,
              "#d8576b"
             ],
             [
              0.6666666666666666,
              "#ed7953"
             ],
             [
              0.7777777777777778,
              "#fb9f3a"
             ],
             [
              0.8888888888888888,
              "#fdca26"
             ],
             [
              1,
              "#f0f921"
             ]
            ],
            "type": "histogram2dcontour"
           }
          ],
          "mesh3d": [
           {
            "colorbar": {
             "outlinewidth": 0,
             "ticks": ""
            },
            "type": "mesh3d"
           }
          ],
          "parcoords": [
           {
            "line": {
             "colorbar": {
              "outlinewidth": 0,
              "ticks": ""
             }
            },
            "type": "parcoords"
           }
          ],
          "pie": [
           {
            "automargin": true,
            "type": "pie"
           }
          ],
          "scatter": [
           {
            "marker": {
             "colorbar": {
              "outlinewidth": 0,
              "ticks": ""
             }
            },
            "type": "scatter"
           }
          ],
          "scatter3d": [
           {
            "line": {
             "colorbar": {
              "outlinewidth": 0,
              "ticks": ""
             }
            },
            "marker": {
             "colorbar": {
              "outlinewidth": 0,
              "ticks": ""
             }
            },
            "type": "scatter3d"
           }
          ],
          "scattercarpet": [
           {
            "marker": {
             "colorbar": {
              "outlinewidth": 0,
              "ticks": ""
             }
            },
            "type": "scattercarpet"
           }
          ],
          "scattergeo": [
           {
            "marker": {
             "colorbar": {
              "outlinewidth": 0,
              "ticks": ""
             }
            },
            "type": "scattergeo"
           }
          ],
          "scattergl": [
           {
            "marker": {
             "colorbar": {
              "outlinewidth": 0,
              "ticks": ""
             }
            },
            "type": "scattergl"
           }
          ],
          "scattermapbox": [
           {
            "marker": {
             "colorbar": {
              "outlinewidth": 0,
              "ticks": ""
             }
            },
            "type": "scattermapbox"
           }
          ],
          "scatterpolar": [
           {
            "marker": {
             "colorbar": {
              "outlinewidth": 0,
              "ticks": ""
             }
            },
            "type": "scatterpolar"
           }
          ],
          "scatterpolargl": [
           {
            "marker": {
             "colorbar": {
              "outlinewidth": 0,
              "ticks": ""
             }
            },
            "type": "scatterpolargl"
           }
          ],
          "scatterternary": [
           {
            "marker": {
             "colorbar": {
              "outlinewidth": 0,
              "ticks": ""
             }
            },
            "type": "scatterternary"
           }
          ],
          "surface": [
           {
            "colorbar": {
             "outlinewidth": 0,
             "ticks": ""
            },
            "colorscale": [
             [
              0,
              "#0d0887"
             ],
             [
              0.1111111111111111,
              "#46039f"
             ],
             [
              0.2222222222222222,
              "#7201a8"
             ],
             [
              0.3333333333333333,
              "#9c179e"
             ],
             [
              0.4444444444444444,
              "#bd3786"
             ],
             [
              0.5555555555555556,
              "#d8576b"
             ],
             [
              0.6666666666666666,
              "#ed7953"
             ],
             [
              0.7777777777777778,
              "#fb9f3a"
             ],
             [
              0.8888888888888888,
              "#fdca26"
             ],
             [
              1,
              "#f0f921"
             ]
            ],
            "type": "surface"
           }
          ],
          "table": [
           {
            "cells": {
             "fill": {
              "color": "#EBF0F8"
             },
             "line": {
              "color": "white"
             }
            },
            "header": {
             "fill": {
              "color": "#C8D4E3"
             },
             "line": {
              "color": "white"
             }
            },
            "type": "table"
           }
          ]
         },
         "layout": {
          "annotationdefaults": {
           "arrowcolor": "#2a3f5f",
           "arrowhead": 0,
           "arrowwidth": 1
          },
          "autotypenumbers": "strict",
          "coloraxis": {
           "colorbar": {
            "outlinewidth": 0,
            "ticks": ""
           }
          },
          "colorscale": {
           "diverging": [
            [
             0,
             "#8e0152"
            ],
            [
             0.1,
             "#c51b7d"
            ],
            [
             0.2,
             "#de77ae"
            ],
            [
             0.3,
             "#f1b6da"
            ],
            [
             0.4,
             "#fde0ef"
            ],
            [
             0.5,
             "#f7f7f7"
            ],
            [
             0.6,
             "#e6f5d0"
            ],
            [
             0.7,
             "#b8e186"
            ],
            [
             0.8,
             "#7fbc41"
            ],
            [
             0.9,
             "#4d9221"
            ],
            [
             1,
             "#276419"
            ]
           ],
           "sequential": [
            [
             0,
             "#0d0887"
            ],
            [
             0.1111111111111111,
             "#46039f"
            ],
            [
             0.2222222222222222,
             "#7201a8"
            ],
            [
             0.3333333333333333,
             "#9c179e"
            ],
            [
             0.4444444444444444,
             "#bd3786"
            ],
            [
             0.5555555555555556,
             "#d8576b"
            ],
            [
             0.6666666666666666,
             "#ed7953"
            ],
            [
             0.7777777777777778,
             "#fb9f3a"
            ],
            [
             0.8888888888888888,
             "#fdca26"
            ],
            [
             1,
             "#f0f921"
            ]
           ],
           "sequentialminus": [
            [
             0,
             "#0d0887"
            ],
            [
             0.1111111111111111,
             "#46039f"
            ],
            [
             0.2222222222222222,
             "#7201a8"
            ],
            [
             0.3333333333333333,
             "#9c179e"
            ],
            [
             0.4444444444444444,
             "#bd3786"
            ],
            [
             0.5555555555555556,
             "#d8576b"
            ],
            [
             0.6666666666666666,
             "#ed7953"
            ],
            [
             0.7777777777777778,
             "#fb9f3a"
            ],
            [
             0.8888888888888888,
             "#fdca26"
            ],
            [
             1,
             "#f0f921"
            ]
           ]
          },
          "colorway": [
           "#636efa",
           "#EF553B",
           "#00cc96",
           "#ab63fa",
           "#FFA15A",
           "#19d3f3",
           "#FF6692",
           "#B6E880",
           "#FF97FF",
           "#FECB52"
          ],
          "font": {
           "color": "#2a3f5f"
          },
          "geo": {
           "bgcolor": "white",
           "lakecolor": "white",
           "landcolor": "#E5ECF6",
           "showlakes": true,
           "showland": true,
           "subunitcolor": "white"
          },
          "hoverlabel": {
           "align": "left"
          },
          "hovermode": "closest",
          "mapbox": {
           "style": "light"
          },
          "paper_bgcolor": "white",
          "plot_bgcolor": "#E5ECF6",
          "polar": {
           "angularaxis": {
            "gridcolor": "white",
            "linecolor": "white",
            "ticks": ""
           },
           "bgcolor": "#E5ECF6",
           "radialaxis": {
            "gridcolor": "white",
            "linecolor": "white",
            "ticks": ""
           }
          },
          "scene": {
           "xaxis": {
            "backgroundcolor": "#E5ECF6",
            "gridcolor": "white",
            "gridwidth": 2,
            "linecolor": "white",
            "showbackground": true,
            "ticks": "",
            "zerolinecolor": "white"
           },
           "yaxis": {
            "backgroundcolor": "#E5ECF6",
            "gridcolor": "white",
            "gridwidth": 2,
            "linecolor": "white",
            "showbackground": true,
            "ticks": "",
            "zerolinecolor": "white"
           },
           "zaxis": {
            "backgroundcolor": "#E5ECF6",
            "gridcolor": "white",
            "gridwidth": 2,
            "linecolor": "white",
            "showbackground": true,
            "ticks": "",
            "zerolinecolor": "white"
           }
          },
          "shapedefaults": {
           "line": {
            "color": "#2a3f5f"
           }
          },
          "ternary": {
           "aaxis": {
            "gridcolor": "white",
            "linecolor": "white",
            "ticks": ""
           },
           "baxis": {
            "gridcolor": "white",
            "linecolor": "white",
            "ticks": ""
           },
           "bgcolor": "#E5ECF6",
           "caxis": {
            "gridcolor": "white",
            "linecolor": "white",
            "ticks": ""
           }
          },
          "title": {
           "x": 0.05
          },
          "xaxis": {
           "automargin": true,
           "gridcolor": "white",
           "linecolor": "white",
           "ticks": "",
           "title": {
            "standoff": 15
           },
           "zerolinecolor": "white",
           "zerolinewidth": 2
          },
          "yaxis": {
           "automargin": true,
           "gridcolor": "white",
           "linecolor": "white",
           "ticks": "",
           "title": {
            "standoff": 15
           },
           "zerolinecolor": "white",
           "zerolinewidth": 2
          }
         }
        },
        "xaxis": {
         "anchor": "y",
         "domain": [
          0,
          1
         ],
         "title": {
          "text": "$ Left"
         }
        },
        "yaxis": {
         "anchor": "x",
         "domain": [
          0,
          1
         ],
         "title": {
          "text": "Pts"
         }
        }
       }
      },
      "text/html": [
       "<div>                            <div id=\"e6511f91-e634-4979-9484-5b8022c09e43\" class=\"plotly-graph-div\" style=\"height:525px; width:100%;\"></div>            <script type=\"text/javascript\">                require([\"plotly\"], function(Plotly) {                    window.PLOTLYENV=window.PLOTLYENV || {};                                    if (document.getElementById(\"e6511f91-e634-4979-9484-5b8022c09e43\")) {                    Plotly.newPlot(                        \"e6511f91-e634-4979-9484-5b8022c09e43\",                        [{\"hovertemplate\":\"$ Left=%{x}<br>Pts=%{y}<extra></extra>\",\"legendgroup\":\"\",\"marker\":{\"color\":\"#636efa\",\"opacity\":0.65,\"symbol\":\"circle\"},\"mode\":\"markers\",\"name\":\"\",\"orientation\":\"v\",\"showlegend\":false,\"type\":\"scatter\",\"x\":[244,249,208,211,208,241,232,217,207,232],\"xaxis\":\"x\",\"y\":[19.0,20.0,20.0,32.0,42.5,14.5,24.0,40.0,29.5,33.5],\"yaxis\":\"y\"},{\"hovertemplate\":\"<b>OLS trendline</b><br>Pts = -0.349994 * $ Left + 106.214<br>R<sup>2</sup>=0.372099<br><br>$ Left=%{x}<br>Pts=%{y} <b>(trend)</b><extra></extra>\",\"legendgroup\":\"\",\"line\":{\"color\":\"darkblue\"},\"marker\":{\"color\":\"#636efa\",\"symbol\":\"circle\"},\"mode\":\"lines\",\"name\":\"\",\"showlegend\":false,\"type\":\"scatter\",\"x\":[207,208,208,211,217,232,232,241,244,249],\"xaxis\":\"x\",\"y\":[33.76489053773078,33.41489665294135,33.41489665294135,32.364914998573056,30.264951689836465,25.01504341799499,25.01504341799499,21.865098454890102,20.815116800521807,19.065147376574643],\"yaxis\":\"y\"}],                        {\"legend\":{\"tracegroupgap\":0},\"margin\":{\"t\":60},\"template\":{\"data\":{\"bar\":[{\"error_x\":{\"color\":\"#2a3f5f\"},\"error_y\":{\"color\":\"#2a3f5f\"},\"marker\":{\"line\":{\"color\":\"#E5ECF6\",\"width\":0.5},\"pattern\":{\"fillmode\":\"overlay\",\"size\":10,\"solidity\":0.2}},\"type\":\"bar\"}],\"barpolar\":[{\"marker\":{\"line\":{\"color\":\"#E5ECF6\",\"width\":0.5},\"pattern\":{\"fillmode\":\"overlay\",\"size\":10,\"solidity\":0.2}},\"type\":\"barpolar\"}],\"carpet\":[{\"aaxis\":{\"endlinecolor\":\"#2a3f5f\",\"gridcolor\":\"white\",\"linecolor\":\"white\",\"minorgridcolor\":\"white\",\"startlinecolor\":\"#2a3f5f\"},\"baxis\":{\"endlinecolor\":\"#2a3f5f\",\"gridcolor\":\"white\",\"linecolor\":\"white\",\"minorgridcolor\":\"white\",\"startlinecolor\":\"#2a3f5f\"},\"type\":\"carpet\"}],\"choropleth\":[{\"colorbar\":{\"outlinewidth\":0,\"ticks\":\"\"},\"type\":\"choropleth\"}],\"contour\":[{\"colorbar\":{\"outlinewidth\":0,\"ticks\":\"\"},\"colorscale\":[[0.0,\"#0d0887\"],[0.1111111111111111,\"#46039f\"],[0.2222222222222222,\"#7201a8\"],[0.3333333333333333,\"#9c179e\"],[0.4444444444444444,\"#bd3786\"],[0.5555555555555556,\"#d8576b\"],[0.6666666666666666,\"#ed7953\"],[0.7777777777777778,\"#fb9f3a\"],[0.8888888888888888,\"#fdca26\"],[1.0,\"#f0f921\"]],\"type\":\"contour\"}],\"contourcarpet\":[{\"colorbar\":{\"outlinewidth\":0,\"ticks\":\"\"},\"type\":\"contourcarpet\"}],\"heatmap\":[{\"colorbar\":{\"outlinewidth\":0,\"ticks\":\"\"},\"colorscale\":[[0.0,\"#0d0887\"],[0.1111111111111111,\"#46039f\"],[0.2222222222222222,\"#7201a8\"],[0.3333333333333333,\"#9c179e\"],[0.4444444444444444,\"#bd3786\"],[0.5555555555555556,\"#d8576b\"],[0.6666666666666666,\"#ed7953\"],[0.7777777777777778,\"#fb9f3a\"],[0.8888888888888888,\"#fdca26\"],[1.0,\"#f0f921\"]],\"type\":\"heatmap\"}],\"heatmapgl\":[{\"colorbar\":{\"outlinewidth\":0,\"ticks\":\"\"},\"colorscale\":[[0.0,\"#0d0887\"],[0.1111111111111111,\"#46039f\"],[0.2222222222222222,\"#7201a8\"],[0.3333333333333333,\"#9c179e\"],[0.4444444444444444,\"#bd3786\"],[0.5555555555555556,\"#d8576b\"],[0.6666666666666666,\"#ed7953\"],[0.7777777777777778,\"#fb9f3a\"],[0.8888888888888888,\"#fdca26\"],[1.0,\"#f0f921\"]],\"type\":\"heatmapgl\"}],\"histogram\":[{\"marker\":{\"pattern\":{\"fillmode\":\"overlay\",\"size\":10,\"solidity\":0.2}},\"type\":\"histogram\"}],\"histogram2d\":[{\"colorbar\":{\"outlinewidth\":0,\"ticks\":\"\"},\"colorscale\":[[0.0,\"#0d0887\"],[0.1111111111111111,\"#46039f\"],[0.2222222222222222,\"#7201a8\"],[0.3333333333333333,\"#9c179e\"],[0.4444444444444444,\"#bd3786\"],[0.5555555555555556,\"#d8576b\"],[0.6666666666666666,\"#ed7953\"],[0.7777777777777778,\"#fb9f3a\"],[0.8888888888888888,\"#fdca26\"],[1.0,\"#f0f921\"]],\"type\":\"histogram2d\"}],\"histogram2dcontour\":[{\"colorbar\":{\"outlinewidth\":0,\"ticks\":\"\"},\"colorscale\":[[0.0,\"#0d0887\"],[0.1111111111111111,\"#46039f\"],[0.2222222222222222,\"#7201a8\"],[0.3333333333333333,\"#9c179e\"],[0.4444444444444444,\"#bd3786\"],[0.5555555555555556,\"#d8576b\"],[0.6666666666666666,\"#ed7953\"],[0.7777777777777778,\"#fb9f3a\"],[0.8888888888888888,\"#fdca26\"],[1.0,\"#f0f921\"]],\"type\":\"histogram2dcontour\"}],\"mesh3d\":[{\"colorbar\":{\"outlinewidth\":0,\"ticks\":\"\"},\"type\":\"mesh3d\"}],\"parcoords\":[{\"line\":{\"colorbar\":{\"outlinewidth\":0,\"ticks\":\"\"}},\"type\":\"parcoords\"}],\"pie\":[{\"automargin\":true,\"type\":\"pie\"}],\"scatter\":[{\"marker\":{\"colorbar\":{\"outlinewidth\":0,\"ticks\":\"\"}},\"type\":\"scatter\"}],\"scatter3d\":[{\"line\":{\"colorbar\":{\"outlinewidth\":0,\"ticks\":\"\"}},\"marker\":{\"colorbar\":{\"outlinewidth\":0,\"ticks\":\"\"}},\"type\":\"scatter3d\"}],\"scattercarpet\":[{\"marker\":{\"colorbar\":{\"outlinewidth\":0,\"ticks\":\"\"}},\"type\":\"scattercarpet\"}],\"scattergeo\":[{\"marker\":{\"colorbar\":{\"outlinewidth\":0,\"ticks\":\"\"}},\"type\":\"scattergeo\"}],\"scattergl\":[{\"marker\":{\"colorbar\":{\"outlinewidth\":0,\"ticks\":\"\"}},\"type\":\"scattergl\"}],\"scattermapbox\":[{\"marker\":{\"colorbar\":{\"outlinewidth\":0,\"ticks\":\"\"}},\"type\":\"scattermapbox\"}],\"scatterpolar\":[{\"marker\":{\"colorbar\":{\"outlinewidth\":0,\"ticks\":\"\"}},\"type\":\"scatterpolar\"}],\"scatterpolargl\":[{\"marker\":{\"colorbar\":{\"outlinewidth\":0,\"ticks\":\"\"}},\"type\":\"scatterpolargl\"}],\"scatterternary\":[{\"marker\":{\"colorbar\":{\"outlinewidth\":0,\"ticks\":\"\"}},\"type\":\"scatterternary\"}],\"surface\":[{\"colorbar\":{\"outlinewidth\":0,\"ticks\":\"\"},\"colorscale\":[[0.0,\"#0d0887\"],[0.1111111111111111,\"#46039f\"],[0.2222222222222222,\"#7201a8\"],[0.3333333333333333,\"#9c179e\"],[0.4444444444444444,\"#bd3786\"],[0.5555555555555556,\"#d8576b\"],[0.6666666666666666,\"#ed7953\"],[0.7777777777777778,\"#fb9f3a\"],[0.8888888888888888,\"#fdca26\"],[1.0,\"#f0f921\"]],\"type\":\"surface\"}],\"table\":[{\"cells\":{\"fill\":{\"color\":\"#EBF0F8\"},\"line\":{\"color\":\"white\"}},\"header\":{\"fill\":{\"color\":\"#C8D4E3\"},\"line\":{\"color\":\"white\"}},\"type\":\"table\"}]},\"layout\":{\"annotationdefaults\":{\"arrowcolor\":\"#2a3f5f\",\"arrowhead\":0,\"arrowwidth\":1},\"autotypenumbers\":\"strict\",\"coloraxis\":{\"colorbar\":{\"outlinewidth\":0,\"ticks\":\"\"}},\"colorscale\":{\"diverging\":[[0,\"#8e0152\"],[0.1,\"#c51b7d\"],[0.2,\"#de77ae\"],[0.3,\"#f1b6da\"],[0.4,\"#fde0ef\"],[0.5,\"#f7f7f7\"],[0.6,\"#e6f5d0\"],[0.7,\"#b8e186\"],[0.8,\"#7fbc41\"],[0.9,\"#4d9221\"],[1,\"#276419\"]],\"sequential\":[[0.0,\"#0d0887\"],[0.1111111111111111,\"#46039f\"],[0.2222222222222222,\"#7201a8\"],[0.3333333333333333,\"#9c179e\"],[0.4444444444444444,\"#bd3786\"],[0.5555555555555556,\"#d8576b\"],[0.6666666666666666,\"#ed7953\"],[0.7777777777777778,\"#fb9f3a\"],[0.8888888888888888,\"#fdca26\"],[1.0,\"#f0f921\"]],\"sequentialminus\":[[0.0,\"#0d0887\"],[0.1111111111111111,\"#46039f\"],[0.2222222222222222,\"#7201a8\"],[0.3333333333333333,\"#9c179e\"],[0.4444444444444444,\"#bd3786\"],[0.5555555555555556,\"#d8576b\"],[0.6666666666666666,\"#ed7953\"],[0.7777777777777778,\"#fb9f3a\"],[0.8888888888888888,\"#fdca26\"],[1.0,\"#f0f921\"]]},\"colorway\":[\"#636efa\",\"#EF553B\",\"#00cc96\",\"#ab63fa\",\"#FFA15A\",\"#19d3f3\",\"#FF6692\",\"#B6E880\",\"#FF97FF\",\"#FECB52\"],\"font\":{\"color\":\"#2a3f5f\"},\"geo\":{\"bgcolor\":\"white\",\"lakecolor\":\"white\",\"landcolor\":\"#E5ECF6\",\"showlakes\":true,\"showland\":true,\"subunitcolor\":\"white\"},\"hoverlabel\":{\"align\":\"left\"},\"hovermode\":\"closest\",\"mapbox\":{\"style\":\"light\"},\"paper_bgcolor\":\"white\",\"plot_bgcolor\":\"#E5ECF6\",\"polar\":{\"angularaxis\":{\"gridcolor\":\"white\",\"linecolor\":\"white\",\"ticks\":\"\"},\"bgcolor\":\"#E5ECF6\",\"radialaxis\":{\"gridcolor\":\"white\",\"linecolor\":\"white\",\"ticks\":\"\"}},\"scene\":{\"xaxis\":{\"backgroundcolor\":\"#E5ECF6\",\"gridcolor\":\"white\",\"gridwidth\":2,\"linecolor\":\"white\",\"showbackground\":true,\"ticks\":\"\",\"zerolinecolor\":\"white\"},\"yaxis\":{\"backgroundcolor\":\"#E5ECF6\",\"gridcolor\":\"white\",\"gridwidth\":2,\"linecolor\":\"white\",\"showbackground\":true,\"ticks\":\"\",\"zerolinecolor\":\"white\"},\"zaxis\":{\"backgroundcolor\":\"#E5ECF6\",\"gridcolor\":\"white\",\"gridwidth\":2,\"linecolor\":\"white\",\"showbackground\":true,\"ticks\":\"\",\"zerolinecolor\":\"white\"}},\"shapedefaults\":{\"line\":{\"color\":\"#2a3f5f\"}},\"ternary\":{\"aaxis\":{\"gridcolor\":\"white\",\"linecolor\":\"white\",\"ticks\":\"\"},\"baxis\":{\"gridcolor\":\"white\",\"linecolor\":\"white\",\"ticks\":\"\"},\"bgcolor\":\"#E5ECF6\",\"caxis\":{\"gridcolor\":\"white\",\"linecolor\":\"white\",\"ticks\":\"\"}},\"title\":{\"x\":0.05},\"xaxis\":{\"automargin\":true,\"gridcolor\":\"white\",\"linecolor\":\"white\",\"ticks\":\"\",\"title\":{\"standoff\":15},\"zerolinecolor\":\"white\",\"zerolinewidth\":2},\"yaxis\":{\"automargin\":true,\"gridcolor\":\"white\",\"linecolor\":\"white\",\"ticks\":\"\",\"title\":{\"standoff\":15},\"zerolinecolor\":\"white\",\"zerolinewidth\":2}}},\"xaxis\":{\"anchor\":\"y\",\"domain\":[0.0,1.0],\"title\":{\"text\":\"$ Left\"}},\"yaxis\":{\"anchor\":\"x\",\"domain\":[0.0,1.0],\"title\":{\"text\":\"Pts\"}}},                        {\"responsive\": true}                    ).then(function(){\n",
       "                            \n",
       "var gd = document.getElementById('e6511f91-e634-4979-9484-5b8022c09e43');\n",
       "var x = new MutationObserver(function (mutations, observer) {{\n",
       "        var display = window.getComputedStyle(gd).display;\n",
       "        if (!display || display === 'none') {{\n",
       "            console.log([gd, 'removed!']);\n",
       "            Plotly.purge(gd);\n",
       "            observer.disconnect();\n",
       "        }}\n",
       "}});\n",
       "\n",
       "// Listen for the removal of the full notebook cells\n",
       "var notebookContainer = gd.closest('#notebook-container');\n",
       "if (notebookContainer) {{\n",
       "    x.observe(notebookContainer, {childList: true});\n",
       "}}\n",
       "\n",
       "// Listen for the clearing of the current output cell\n",
       "var outputEl = gd.closest('.output');\n",
       "if (outputEl) {{\n",
       "    x.observe(outputEl, {childList: true});\n",
       "}}\n",
       "\n",
       "                        })                };                });            </script>        </div>"
      ]
     },
     "metadata": {},
     "output_type": "display_data"
    }
   ],
   "source": [
    "fig = px.scatter(\n",
    "    owners_df, x='$ Left', y='Pts', opacity=0.65,\n",
    "    trendline='ols', trendline_color_override='darkblue'\n",
    ")\n",
    "fig.show()"
   ]
  },
  {
   "cell_type": "code",
   "execution_count": 23,
   "id": "02d359df",
   "metadata": {},
   "outputs": [],
   "source": [
    "from sklearn.preprocessing import MinMaxScaler\n",
    "from scipy.stats.stats import pearsonr\n",
    "def scale_data(df, cols):\n",
    "    \"\"\"\n",
    "    INPUT: \n",
    "        df: original dataframe\n",
    "        list: subset of columns to scale\n",
    "    OUTPUT:\n",
    "        df: scaled data\n",
    "    \"\"\"\n",
    "    scaler = MinMaxScaler()\n",
    "    scaler.fit(df[cols])\n",
    "    scaled_df = scaler.transform(df[cols])\n",
    "    scaled_df = pd.DataFrame(scaled_df, index=df.index)\n",
    "    scaled_df.columns=[df[cols].columns.tolist()]\n",
    "    return scaled_df"
   ]
  },
  {
   "cell_type": "code",
   "execution_count": 24,
   "id": "81577d29",
   "metadata": {},
   "outputs": [
    {
     "data": {
      "text/plain": [
       "BA     0.814794\n",
       "R      0.794643\n",
       "RBI    0.845455\n",
       "HR     0.707317\n",
       "SB     0.071429\n",
       "Name: 11737, dtype: float64"
      ]
     },
     "execution_count": 24,
     "metadata": {},
     "output_type": "execute_result"
    }
   ],
   "source": [
    "cols = ['BA', 'R', 'RBI', 'HR', 'SB']\n",
    "scaled_df = scale_data(df[df['Owner'].isna()].set_index('playerid'), cols)\n",
    "scaled_df.loc['11737', cols]"
   ]
  },
  {
   "cell_type": "code",
   "execution_count": 25,
   "id": "7a6419af",
   "metadata": {},
   "outputs": [],
   "source": [
    "def add_distance_metrics(h, player_id, col_list):\n",
    "    scaled_df = scale_data(h[h['Owner'].isna()].set_index('playerid'), col_list)\n",
    "    df2 = h[h['Owner'].isna()].loc[:,['playerid', 'Name', 'Pos', 'z']+col_list].set_index('playerid')\n",
    "    for j, row in scaled_df.iterrows():\n",
    "        #df2.at[j,'corr'] = pearsonr(scaled_df.loc[player_id,col_list],row[col_list])[0]\n",
    "        df2.at[j,'eucl_dist'] = np.linalg.norm(scaled_df.loc[player_id,col_list] - row[col_list])\n",
    "        #df2.at[j,'manh_dist']= sum(abs(e - s) for s, e in zip(scaled_df.loc[player_id,col_list], row[col_list]))\n",
    "    return df2.sort_values('eucl_dist').iloc[1:6]"
   ]
  },
  {
   "cell_type": "code",
   "execution_count": 29,
   "id": "526fe73e",
   "metadata": {},
   "outputs": [
    {
     "data": {
      "text/html": [
       "<div>\n",
       "<style scoped>\n",
       "    .dataframe tbody tr th:only-of-type {\n",
       "        vertical-align: middle;\n",
       "    }\n",
       "\n",
       "    .dataframe tbody tr th {\n",
       "        vertical-align: top;\n",
       "    }\n",
       "\n",
       "    .dataframe thead th {\n",
       "        text-align: right;\n",
       "    }\n",
       "</style>\n",
       "<table border=\"1\" class=\"dataframe\">\n",
       "  <thead>\n",
       "    <tr style=\"text-align: right;\">\n",
       "      <th></th>\n",
       "      <th>Name</th>\n",
       "      <th>Pos</th>\n",
       "      <th>z</th>\n",
       "      <th>BA</th>\n",
       "      <th>R</th>\n",
       "      <th>RBI</th>\n",
       "      <th>HR</th>\n",
       "      <th>SB</th>\n",
       "      <th>eucl_dist</th>\n",
       "    </tr>\n",
       "    <tr>\n",
       "      <th>playerid</th>\n",
       "      <th></th>\n",
       "      <th></th>\n",
       "      <th></th>\n",
       "      <th></th>\n",
       "      <th></th>\n",
       "      <th></th>\n",
       "      <th></th>\n",
       "      <th></th>\n",
       "      <th></th>\n",
       "    </tr>\n",
       "  </thead>\n",
       "  <tbody>\n",
       "    <tr>\n",
       "      <th>5361</th>\n",
       "      <td>Freddie Freeman</td>\n",
       "      <td>1B</td>\n",
       "      <td>4.859708</td>\n",
       "      <td>0.292442</td>\n",
       "      <td>103.0</td>\n",
       "      <td>95.0</td>\n",
       "      <td>30.0</td>\n",
       "      <td>6.0</td>\n",
       "      <td>0.089777</td>\n",
       "    </tr>\n",
       "    <tr>\n",
       "      <th>11737</th>\n",
       "      <td>Nick Castellanos</td>\n",
       "      <td>OF</td>\n",
       "      <td>4.280219</td>\n",
       "      <td>0.271598</td>\n",
       "      <td>89.0</td>\n",
       "      <td>93.0</td>\n",
       "      <td>29.0</td>\n",
       "      <td>3.0</td>\n",
       "      <td>0.125117</td>\n",
       "    </tr>\n",
       "    <tr>\n",
       "      <th>18882</th>\n",
       "      <td>Brandon Lowe</td>\n",
       "      <td>2B/OF</td>\n",
       "      <td>3.450559</td>\n",
       "      <td>0.247494</td>\n",
       "      <td>88.0</td>\n",
       "      <td>87.0</td>\n",
       "      <td>32.0</td>\n",
       "      <td>6.0</td>\n",
       "      <td>0.131340</td>\n",
       "    </tr>\n",
       "    <tr>\n",
       "      <th>12856</th>\n",
       "      <td>George Springer</td>\n",
       "      <td>OF/DH</td>\n",
       "      <td>5.212707</td>\n",
       "      <td>0.259904</td>\n",
       "      <td>100.0</td>\n",
       "      <td>88.0</td>\n",
       "      <td>35.0</td>\n",
       "      <td>7.0</td>\n",
       "      <td>0.134661</td>\n",
       "    </tr>\n",
       "    <tr>\n",
       "      <th>11493</th>\n",
       "      <td>Manny Machado</td>\n",
       "      <td>3B</td>\n",
       "      <td>4.483346</td>\n",
       "      <td>0.273769</td>\n",
       "      <td>92.0</td>\n",
       "      <td>102.0</td>\n",
       "      <td>32.0</td>\n",
       "      <td>10.0</td>\n",
       "      <td>0.146305</td>\n",
       "    </tr>\n",
       "  </tbody>\n",
       "</table>\n",
       "</div>"
      ],
      "text/plain": [
       "                      Name    Pos         z        BA      R    RBI    HR  \\\n",
       "playerid                                                                    \n",
       "5361       Freddie Freeman     1B  4.859708  0.292442  103.0   95.0  30.0   \n",
       "11737     Nick Castellanos     OF  4.280219  0.271598   89.0   93.0  29.0   \n",
       "18882         Brandon Lowe  2B/OF  3.450559  0.247494   88.0   87.0  32.0   \n",
       "12856      George Springer  OF/DH  5.212707  0.259904  100.0   88.0  35.0   \n",
       "11493        Manny Machado     3B  4.483346  0.273769   92.0  102.0  32.0   \n",
       "\n",
       "            SB  eucl_dist  \n",
       "playerid                   \n",
       "5361       6.0   0.089777  \n",
       "11737      3.0   0.125117  \n",
       "18882      6.0   0.131340  \n",
       "12856      7.0   0.134661  \n",
       "11493     10.0   0.146305  "
      ]
     },
     "execution_count": 29,
     "metadata": {},
     "output_type": "execute_result"
    }
   ],
   "source": [
    "add_distance_metrics(df, '9218', cols)"
   ]
  },
  {
   "cell_type": "code",
   "execution_count": null,
   "id": "60ff9c8f",
   "metadata": {},
   "outputs": [],
   "source": [
    "mask = (df['Pos'].str.contains('C')) & (df['Owner'].isna())\n",
    "df[mask][['Name', 'z', 'Dollars', 'HR', 'R', 'RBI', 'SB', 'BA']].sort_values('z', ascending=False).head(10)"
   ]
  },
  {
   "cell_type": "code",
   "execution_count": 15,
   "id": "244f6fd6",
   "metadata": {},
   "outputs": [
    {
     "data": {
      "text/plain": [
       "'If the price is 5, Tm 1 can afford to pay up to 7.3 at the same comfort level as Tm 2'"
      ]
     },
     "execution_count": 15,
     "metadata": {},
     "output_type": "execute_result"
    }
   ],
   "source": [
    "# (Tm 1 $/plyr left / Tm 2 $/plyr left) * suggested price = equivalent comfort level\n",
    "pp = 5\n",
    "f'If the price is {pp}, Tm 1 can afford to pay up to {round((10.125 / 6.9) * pp,1)} at the same comfort level as Tm 2'"
   ]
  },
  {
   "cell_type": "code",
   "execution_count": null,
   "id": "34b42ec4",
   "metadata": {},
   "outputs": [],
   "source": [
    "fig = go.Figure()\n",
    "fig.add_trace(go.Scatter(\n",
    "    x=b['Dollars'],\n",
    "    y=b['Value'],\n",
    "    mode='markers',\n",
    "    text=b['Name']\n",
    ")\n",
    ")\n",
    "fig.show()"
   ]
  },
  {
   "cell_type": "code",
   "execution_count": null,
   "id": "714bbc3b",
   "metadata": {},
   "outputs": [],
   "source": [
    "#Creates a table on the DB\n",
    "meta = MetaData()\n",
    "players = Table('players', meta,\n",
    "                Column('playerid', String, primary_key=True),\n",
    "                Column('Name', String(50)),\n",
    "                Column('Team', String(20)),\n",
    "                Column('Pos', String(30)),\n",
    "                Column('Primary_Pos', String(10)),\n",
    "                Column('G', Integer),\n",
    "                Column('GS', Integer),\n",
    "                Column('PA', Integer),\n",
    "                Column('AB', Integer),\n",
    "                Column('H', Integer),\n",
    "                Column('HR', Integer),\n",
    "                Column('R', Integer),\n",
    "                Column('RBI', Integer),\n",
    "                Column('SB', Integer),\n",
    "                Column('BA', Float),\n",
    "                Column('OBP', Float),\n",
    "                Column('SLG', Float),\n",
    "                Column('OPS', Float),\n",
    "                Column('IP', Float),\n",
    "                Column('Outs', Integer),\n",
    "                Column('HA', Integer),\n",
    "                Column('BB', Integer),\n",
    "                Column('ER', Integer),\n",
    "                Column('SV', Integer),\n",
    "                Column('HLD', Integer),\n",
    "                Column('Sv+Hld', Integer),\n",
    "                Column('W', Integer),\n",
    "                Column('SO', Integer),\n",
    "                Column('ERA', Float),\n",
    "                Column('WHIP', Float),\n",
    "                Column('K/9', Float),\n",
    "                Column('Dollars', Float),\n",
    "                Column('z', Float),\n",
    "                Column('Value', Float),\n",
    "                Column('Paid', Integer),\n",
    "                Column('Owner', String(25)),\n",
    "                Column('Used', Boolean),\n",
    "                Column('Timestamp', DateTime)\n",
    ")\n",
    "meta.create_all(engine)"
   ]
  },
  {
   "cell_type": "code",
   "execution_count": null,
   "id": "39bb2348",
   "metadata": {},
   "outputs": [],
   "source": [
    "conn.execute('ALTER TABLE hitting ADD COLUMN WHIP Float')"
   ]
  },
  {
   "cell_type": "code",
   "execution_count": null,
   "id": "959ded8a",
   "metadata": {},
   "outputs": [],
   "source": [
    "#conn.execute('DROP Table players')"
   ]
  },
  {
   "cell_type": "code",
   "execution_count": null,
   "id": "7d58f555",
   "metadata": {},
   "outputs": [],
   "source": [
    "#conn.execute('ALTER TABLE hitting DROP COLUMN Paid2')"
   ]
  },
  {
   "cell_type": "code",
   "execution_count": null,
   "id": "f3144ee6",
   "metadata": {},
   "outputs": [],
   "source": [
    "#conn.execute('ALTER TABLE hitting ADD COLUMN Timestamp DATETIME')"
   ]
  },
  {
   "cell_type": "code",
   "execution_count": null,
   "id": "6e76ada7",
   "metadata": {},
   "outputs": [],
   "source": [
    "conn.close()"
   ]
  }
 ],
 "metadata": {
  "hide_input": false,
  "kernelspec": {
   "display_name": "Python 3",
   "language": "python",
   "name": "python3"
  },
  "language_info": {
   "codemirror_mode": {
    "name": "ipython",
    "version": 3
   },
   "file_extension": ".py",
   "mimetype": "text/x-python",
   "name": "python",
   "nbconvert_exporter": "python",
   "pygments_lexer": "ipython3",
   "version": "3.7.4"
  }
 },
 "nbformat": 4,
 "nbformat_minor": 5
}
