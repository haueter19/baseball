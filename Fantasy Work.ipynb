{
 "cells": [
  {
   "cell_type": "code",
   "execution_count": 1,
   "id": "fccbff49",
   "metadata": {},
   "outputs": [
    {
     "data": {
      "text/html": [
       "<style>.container { width:85% !important; }</style>"
      ],
      "text/plain": [
       "<IPython.core.display.HTML object>"
      ]
     },
     "metadata": {},
     "output_type": "display_data"
    }
   ],
   "source": [
    "from IPython.core.display import display, HTML\n",
    "display(HTML(\"<style>.container { width:85% !important; }</style>\"))\n",
    "import plotly.graph_objects as go\n",
    "import numpy as np\n",
    "import pandas as pd\n",
    "pd.options.display.max_columns = None\n",
    "from pybaseball import batting_stats, pitching_stats, cache, playerid_lookup, statcast_batter, statcast_pitcher\n",
    "\n",
    "cache.enable()\n",
    "cache.config.cache_type='csv'\n",
    "cache.config.save()\n"
   ]
  },
  {
   "cell_type": "code",
   "execution_count": 2,
   "id": "d69750ff",
   "metadata": {},
   "outputs": [],
   "source": [
    "num_teams = 12\n",
    "num_dollars = 260\n",
    "player_split = .65\n",
    "pitcher_split = 1 - player_split\n",
    "tot_dollars = num_teams * num_dollars\n",
    "\n",
    "drafted_by_pos = {\n",
    "    'C':12,\n",
    "    '1B':12,\n",
    "    '2B':12,\n",
    "    '3B':12,\n",
    "    'SS':12,\n",
    "    'OF':5*12,\n",
    "    'MI':12,\n",
    "    'CI':12,\n",
    "    'DH':12*2, \n",
    "    'P':9\n",
    "}\n",
    "\n",
    "def load_data():\n",
    "    h = pd.read_csv('data/2022-fangraphs-proj-h.csv')\n",
    "    h['sorter'] = h['HR']+h['R']+h['RBI']+h['H']+h['SB']\n",
    "    \n",
    "    p = pd.read_csv('data/2022-fangraphs-proj-p.csv')\n",
    "    val_h = pd.read_csv('data/2022-fangraphs-auction-calculator-h.csv')\n",
    "    val_h.rename(columns={'PlayerId':'playerid', 'POS':'Pos'},inplace=True)\n",
    "    val_p = pd.read_csv('data/2022-fangraphs-auction-calculator-p.csv')\n",
    "    val_p.rename(columns={'PlayerId':'playerid', 'POS':'Pos'},inplace=True)\n",
    "    \n",
    "    h = h.merge(val_h[['playerid', 'Pos', 'Dollars']])\n",
    "    h.drop(columns=['wOBA', 'CS', 'Fld', 'BsR', 'ADP'],inplace=True)\n",
    "    h['Pos'] = h['Pos'].apply(lambda x: ', '.join(x.split('/')))\n",
    "    h.sort_values('sorter', ascending=False, inplace=True)\n",
    "    h.reset_index(drop=True)\n",
    "    \n",
    "    p = p.merge(val_p[['playerid', 'Pos', 'Dollars']])\n",
    "    p.drop(columns=['ADP'],inplace=True)\n",
    "    p['Sv+Hld'] = p['SV']+p['HLD']\n",
    "    p['Pos'] = p['Pos'].apply(lambda x: ', '.join(x.split('/')))\n",
    "    p['sorter'] = p['SO']+(p['Sv+Hld']*4)+p['W']\n",
    "    p.sort_values('sorter', ascending=False, inplace=True)\n",
    "    p.reset_index(drop=True)\n",
    "    return h, p\n",
    "\n",
    "def calc_z(x, stat):\n",
    "    z = (x - drafted[stat].mean()) / drafted[stat].std()\n",
    "    return z\n",
    "\n",
    "def find_primary_pos(p):\n",
    "    pos_list = p.split(', ')\n",
    "    pos_hierarchy = ['C', '2B', '1B', 'OF', '3B', 'SS', 'DH', 'SP', 'RP', 'P']\n",
    "    for i in pos_hierarchy:\n",
    "        if i in pos_list:\n",
    "            return i"
   ]
  },
  {
   "cell_type": "code",
   "execution_count": 3,
   "id": "59d6d2e2",
   "metadata": {},
   "outputs": [],
   "source": [
    "def process_top_hitters():\n",
    "    # Define two empty dicts\n",
    "    pos_avg = {}\n",
    "    pos_std = {}\n",
    "    # Create Used field and set to False, for tracking which players are considered drafted\n",
    "    h['Used'] = False\n",
    "    # For each of these positions, define a mask to isolate the unused players who are eligible at that position\n",
    "    for position in ['C', '2B', '1B', 'OF', '3B', 'SS']:\n",
    "        mask = (h['Pos'].str.contains(position)) & (h['Used']==False)\n",
    "        pos_avg[position], pos_std[position] = {}, {}\n",
    "        \n",
    "        # Rate stats first\n",
    "        # Calculate the BA Z score. Because it is a rate, it takes a different formula: H - (AB * (lgH/lgAB))\n",
    "        pos_index_list = h[mask].index[:drafted_by_pos[position]]\n",
    "        h.loc[pos_index_list, 'BA'] = (h[mask]['H'] - (h[mask]['AB'] * (h[mask]['H'].sum()/h[mask]['AB'].sum())))\n",
    "        \n",
    "        # For each stat category, fill in the dictionaries with an average and standard deviation using the top N players\n",
    "        # where N is established by the number of drafted players at that position by the league (eg 1B = 12, OF=60)\n",
    "        for stat in ['PA', 'AB', 'BA', 'HR', 'RBI', 'R', 'SB']:\n",
    "            pos_avg[position][stat] = round(h.loc[h[mask].index[:drafted_by_pos[position]], stat].mean(),1)\n",
    "            pos_std[position][stat] = round(h.loc[h[mask].index[:drafted_by_pos[position]], stat].std(),1)\n",
    "            # Using the player's stat projection, calculate their Z score among the top players\n",
    "            for j in h[mask].index[:drafted_by_pos[position]]:\n",
    "                h.loc[j, 'z'+stat] = (h.loc[j][stat] - pos_avg[position][stat]) / pos_std[position][stat]\n",
    "        \n",
    "        # Sum the 5 stat category Z scores\n",
    "        h.loc[h[mask].index[:drafted_by_pos[position]], 'z'] = h['zR'] + h['zRBI'] + h['zHR'] + h['zBA'] + h['zSB']\n",
    "        # Make the last player's Z score equal 0, then adjust the rest by that same amount\n",
    "        if h.loc[h[mask].index[:drafted_by_pos[position]]].sort_values('z')['z'].iloc[0] < 0:\n",
    "            h.loc[h[mask].index[:drafted_by_pos[position]], 'z'] += abs(h.loc[h[mask].index[:drafted_by_pos[position]]].sort_values('z')['z'].iloc[0])\n",
    "        else:\n",
    "            h.loc[h[mask].index[:drafted_by_pos[position]], 'z'] -= h.loc[h[mask].index[:drafted_by_pos[position]]].sort_values('z')['z'].iloc[0]\n",
    "        # Assign the current position as the player's Primary_Pos\n",
    "        h.loc[h[mask].index[:drafted_by_pos[position]], 'Primary_Pos'] = position\n",
    "        #print(position+':\\n',h.loc[h[mask].index[:drafted_by_pos[position]]]['Name'].unique())\n",
    "        # Mark these players as Used so they do not get used in another position\n",
    "        h.loc[h[mask].index[:drafted_by_pos[position]], 'Used'] = True\n",
    "\n",
    "    # This is the same process as above except it does it for the MI and CI categories which means you have to find the \n",
    "    # top 12 middle/corner infielders available\n",
    "    for position in ['MI', 'CI']:\n",
    "        if position == 'MI':\n",
    "            pos_avg[position], pos_std[position] = {}, {}\n",
    "            mask = ((h['Pos'].str.contains('SS')) & (h['Used']==False)) | ((h['Pos'].str.contains('2B')) & (h['Used']==False))\n",
    "            \n",
    "            pos_index_list = h[mask].index[:drafted_by_pos[position]]\n",
    "            h.loc[pos_index_list, 'BA'] = (h[mask]['H'] - (h[mask]['AB'] * (h[mask]['H'].sum()/h[mask]['AB'].sum())))\n",
    "        \n",
    "            for stat in ['PA', 'AB', 'BA', 'HR', 'RBI', 'R', 'SB']:\n",
    "                pos_avg[position][stat] = round(h.loc[h[mask].index[:drafted_by_pos[position]], stat].mean(),1)\n",
    "                pos_std[position][stat] = round(h.loc[h[mask].index[:drafted_by_pos[position]], stat].std(),1)\n",
    "                for j in h[mask].index[:drafted_by_pos[position]]:\n",
    "                    h.loc[j, 'z'+stat] = (h.loc[j][stat] - pos_avg[position][stat]) / pos_std[position][stat]\n",
    "\n",
    "            h.loc[h[mask].index[:drafted_by_pos[position]], 'z'] = h['zR'] + h['zRBI'] + h['zHR'] + h['zBA'] + h['zSB']\n",
    "            h.loc[h[mask].index[:drafted_by_pos[position]], 'z'] += abs(h.loc[h[mask].index[:drafted_by_pos[position]]].sort_values('z')['z'].iloc[0])\n",
    "            h.loc[h[mask].index[:drafted_by_pos[position]], 'Primary_Pos'] = position\n",
    "            #print(position+':\\n',h.loc[h[mask].index[:12]]['Name'].unique())\n",
    "            h.loc[h[mask].index[:drafted_by_pos[position]], 'Used'] = True\n",
    "\n",
    "        elif position == 'CI':\n",
    "            pos_avg[position], pos_std[position] = {}, {}\n",
    "            mask = ((h['Pos'].str.contains('1B')) & (h['Used']==False)) | ((h['Pos'].str.contains('3B')) & (h['Used']==False))\n",
    "            \n",
    "            pos_index_list = h[mask].index[:drafted_by_pos[position]]\n",
    "            h.loc[pos_index_list, 'BA'] = (h[mask]['H'] - (h[mask]['AB'] * (h[mask]['H'].sum()/h[mask]['AB'].sum())))\n",
    "            \n",
    "            for stat in ['PA', 'AB', 'BA', 'HR', 'RBI', 'R', 'SB']:\n",
    "                pos_avg[position][stat] = round(h.loc[h[mask].index[:drafted_by_pos[position]], stat].mean(),1)\n",
    "                pos_std[position][stat] = round(h.loc[h[mask].index[:drafted_by_pos[position]], stat].std(),1)\n",
    "                for j in h[mask].index[:drafted_by_pos[position]]:\n",
    "                    h.loc[j, 'z'+stat] = (h.loc[j][stat] - pos_avg[position][stat]) / pos_std[position][stat]\n",
    "\n",
    "            h.loc[h[mask].index[:drafted_by_pos[position]], 'z'] = h['zR'] + h['zRBI'] + h['zHR'] + h['zBA'] + h['zSB']\n",
    "            h.loc[h[mask].index[:drafted_by_pos[position]], 'z'] += abs(h.loc[h[mask].index[:drafted_by_pos[position]]].sort_values('z')['z'].iloc[0])\n",
    "            h.loc[h[mask].index[:drafted_by_pos[position]], 'Primary_Pos'] = position\n",
    "            #print(position+':\\n',h.loc[h[mask].index[:12]]['Name'].unique())\n",
    "            h.loc[h[mask].index[:drafted_by_pos[position]], 'Used'] = True\n",
    "\n",
    "    # Same process again but uses all remaining hitters and takes the top 12. Expect to see the true DHs at the top\n",
    "    pos_avg['DH'], pos_std['DH'] = {}, {}\n",
    "    mask = (h['Used']==False)\n",
    "    \n",
    "    pos_index_list = h[mask].index[:drafted_by_pos[position]]\n",
    "    h.loc[pos_index_list, 'BA'] = (h[mask]['H'] - (h[mask]['AB'] * (h[mask]['H'].sum()/h[mask]['AB'].sum())))\n",
    "        \n",
    "    for stat in ['PA', 'AB', 'BA', 'HR', 'RBI', 'R', 'SB']:\n",
    "        pos_avg['DH'][stat] = round(h.loc[h[mask].index[:24], stat].mean(),1)\n",
    "        pos_std['DH'][stat] = round(h.loc[h[mask].index[:24], stat].std(),1)\n",
    "        for j in h[mask].index[:24]:\n",
    "                h.loc[j, 'z'+stat] = (h.loc[j][stat] - pos_avg['DH'][stat]) / pos_std['DH'][stat]\n",
    "\n",
    "    h.loc[h[mask].index[:24], 'z'] = h['zR'] + h['zRBI'] + h['zHR'] + h['zBA'] + h['zSB']\n",
    "    h.loc[h[mask].index[:24], 'z'] += abs(h.loc[h[mask].index[:24]].sort_values('z')['z'].iloc[0])\n",
    "    h.loc[h[mask].index[:24], 'Primary_Pos'] = 'DH'\n",
    "    #print('DH:\\n',h.loc[h[mask].index[:24]]['Name'].unique())\n",
    "    #print('DH:\\n',h.loc[h[mask].index[:24]].index)\n",
    "    sub_mask = h.loc[h[mask].index[:24]].index\n",
    "    h.loc[h[mask].index[:24], 'Used'] = True\n",
    "    \n",
    "    if len(h[h['Used']==True])!=14*num_teams:\n",
    "        print('drafted list not right')\n",
    "    return pos_avg, pos_std\n"
   ]
  },
  {
   "cell_type": "code",
   "execution_count": 4,
   "id": "2a18c91b",
   "metadata": {},
   "outputs": [],
   "source": [
    "def process_rem_hitters(pos_avg, pos_std):\n",
    "    for position in ['C', '2B', '1B', 'OF', '3B', 'SS']:\n",
    "        mask = (h['Used']==False) & (h['Primary_Pos']==position)\n",
    "        h.loc[mask, 'BA'] = (h[mask]['H'] - (h[mask]['AB'] * (h[(h['Used']==True) & (h['Primary_Pos']==position)]['H'].sum()/h[(h['Used']==True) & (h['Primary_Pos']==position)]['AB'].sum())))\n",
    "        for stat in ['PA', 'AB', 'BA', 'HR', 'RBI', 'R', 'SB']:\n",
    "            h.loc[mask, 'z'+stat] = (h[stat] - pos_avg[position][stat]) / pos_std[position][stat]\n",
    "\n",
    "    h.loc[h['Used']==False, 'z'] = h['zBA'] + h['zHR'] + h['zRBI'] + h['zR'] + h['zSB']\n",
    "    return"
   ]
  },
  {
   "cell_type": "code",
   "execution_count": 5,
   "id": "45e87405",
   "metadata": {
    "scrolled": false
   },
   "outputs": [],
   "source": [
    "h, p = load_data()\n",
    "h['Primary_Pos'] = h['Pos'].apply(lambda x: find_primary_pos(x))\n",
    "p['Primary_Pos'] = p['Pos'].apply(lambda x: find_primary_pos(x))\n",
    "pos_avg, pos_std = process_top_hitters()\n",
    "process_rem_hitters(pos_avg, pos_std)\n",
    "tot_z = h[h['Used']==True]['z'].sum()\n",
    "h['Value'] = (h['z'] / tot_z) * tot_dollars * player_split\n",
    "h.sort_values('Value', ascending=False).head(10)\n",
    "h['Owner'] = None\n",
    "h['Paid'] = None"
   ]
  },
  {
   "cell_type": "markdown",
   "id": "7782e34b",
   "metadata": {},
   "source": [
    "#### Next Steps  \n",
    "<li>BA: \n",
    "<li>Do it again with pitchers\n"
   ]
  },
  {
   "cell_type": "code",
   "execution_count": 6,
   "id": "7d38e787",
   "metadata": {},
   "outputs": [],
   "source": [
    "def process_pitchers():\n",
    "    #(p['ER']*9) - (p['IP'] * ((lgERsum * 9)/(lgIPsum))) * -1\n",
    "    p['xER'] = ((p['ER']*9) - (p['IP'] * (p['ER'].iloc[:108].sum()*9)/p['IP'].iloc[:108].sum())) * -1\n",
    "    p['xWHIP'] = ((p['H']+p['BB']) - (p['IP'] * ((p['H'].iloc[:108].sum()+p['BB'].iloc[:108].sum()) / p['IP'].iloc[:108].sum()))) * -1\n",
    "    p_avg = p.iloc[:108][['W', 'SO', 'Sv+Hld', 'xER', 'xWHIP']].mean()\n",
    "    p_std = p.iloc[:108][['W', 'SO', 'Sv+Hld', 'xER', 'xWHIP']].std()\n",
    "    for i in ['W', 'SO', 'Sv+Hld', 'xER', 'xWHIP']:\n",
    "        p['z'+i] = p[i].apply(lambda x: (x - p_avg[i]) / p_std[i])\n",
    "    p['z'] = p['zW'] + p['zSO'] + p['zSv+Hld'] + p['zxER'] + p['zxWHIP']\n",
    "    p_adjustment_value = abs(p.sort_values('z', ascending=False).iloc[107]['z'])\n",
    "    p['z'] = p['z'].apply(lambda x: x+p_adjustment_value)\n",
    "    return"
   ]
  },
  {
   "cell_type": "code",
   "execution_count": 7,
   "id": "a7708b93",
   "metadata": {},
   "outputs": [],
   "source": [
    "#(p['ER']*9) - (p['IP'] * ((lgERsum * 9)/(lgIPsum))) * -1\n",
    "p['xER'] = ((p['ER']*9) - (p['IP'] * (p['ER'].iloc[:108].sum()*9)/p['IP'].iloc[:108].sum())) * -1"
   ]
  },
  {
   "cell_type": "code",
   "execution_count": 8,
   "id": "defa715e",
   "metadata": {},
   "outputs": [],
   "source": [
    "p['xWHIP'] = ((p['H']+p['BB']) - (p['IP'] * ((p['H'].iloc[:108].sum()+p['BB'].iloc[:108].sum()) / p['IP'].iloc[:108].sum()))) * -1"
   ]
  },
  {
   "cell_type": "code",
   "execution_count": 9,
   "id": "4bd0687f",
   "metadata": {},
   "outputs": [],
   "source": [
    "p_avg = p.iloc[:108][['W', 'SO', 'Sv+Hld', 'xER', 'xWHIP']].mean()\n",
    "p_std = p.iloc[:108][['W', 'SO', 'Sv+Hld', 'xER', 'xWHIP']].std()"
   ]
  },
  {
   "cell_type": "code",
   "execution_count": 71,
   "id": "634d315e",
   "metadata": {},
   "outputs": [],
   "source": [
    "for i in ['W', 'SO', 'Sv+Hld', 'xER', 'xWHIP']:\n",
    "    p['z'+i] = p[i].apply(lambda x: (x - p_avg[i]) / p_std[i])"
   ]
  },
  {
   "cell_type": "code",
   "execution_count": 72,
   "id": "61f3ccc7",
   "metadata": {},
   "outputs": [],
   "source": [
    "p['z'] = p['zW'] + p['zSO'] + p['zSv+Hld'] + p['zxER'] + p['zxWHIP']"
   ]
  },
  {
   "cell_type": "code",
   "execution_count": 73,
   "id": "e7ca2cec",
   "metadata": {},
   "outputs": [],
   "source": [
    "p_adjustment_value = abs(p.sort_values('z', ascending=False).iloc[107]['z'])\n",
    "p['z'] = p['z'].apply(lambda x: x+p_adjustment_value)"
   ]
  },
  {
   "cell_type": "code",
   "execution_count": 74,
   "id": "0daf6895",
   "metadata": {},
   "outputs": [],
   "source": [
    "process_pitchers()"
   ]
  },
  {
   "cell_type": "code",
   "execution_count": 75,
   "id": "99db4561",
   "metadata": {},
   "outputs": [
    {
     "name": "stdout",
     "output_type": "stream",
     "text": [
      "Z sum: 805.5072638055515\n",
      "Dollars available: 3120\n",
      "Dollars per Z unit: 3.8733356484705324\n",
      "% of Z from pitchers: 0.29490781778445857\n"
     ]
    }
   ],
   "source": [
    "total_z = h[h['z']>0]['z'].sum()+p[p['z']>0]['z'].sum()\n",
    "print('Z sum:',total_z)\n",
    "print('Dollars available:',tot_dollars)\n",
    "value_mult = tot_dollars/total_z\n",
    "print('Dollars per Z unit:',value_mult)\n",
    "print('% of Z from pitchers:',p[p['z']>0]['z'].sum()/total_z)"
   ]
  },
  {
   "cell_type": "code",
   "execution_count": 76,
   "id": "30967256",
   "metadata": {},
   "outputs": [],
   "source": [
    "p['Value'] = p['z'] * value_mult"
   ]
  },
  {
   "cell_type": "code",
   "execution_count": 77,
   "id": "c57f06d7",
   "metadata": {},
   "outputs": [],
   "source": [
    "h['Value'] = h['z'] * value_mult"
   ]
  },
  {
   "cell_type": "code",
   "execution_count": 78,
   "id": "6929fda1",
   "metadata": {},
   "outputs": [
    {
     "data": {
      "text/html": [
       "<div>\n",
       "<style scoped>\n",
       "    .dataframe tbody tr th:only-of-type {\n",
       "        vertical-align: middle;\n",
       "    }\n",
       "\n",
       "    .dataframe tbody tr th {\n",
       "        vertical-align: top;\n",
       "    }\n",
       "\n",
       "    .dataframe thead th {\n",
       "        text-align: right;\n",
       "    }\n",
       "</style>\n",
       "<table border=\"1\" class=\"dataframe\">\n",
       "  <thead>\n",
       "    <tr style=\"text-align: right;\">\n",
       "      <th></th>\n",
       "      <th>Name</th>\n",
       "      <th>Team</th>\n",
       "      <th>G</th>\n",
       "      <th>PA</th>\n",
       "      <th>AB</th>\n",
       "      <th>H</th>\n",
       "      <th>2B</th>\n",
       "      <th>3B</th>\n",
       "      <th>HR</th>\n",
       "      <th>R</th>\n",
       "      <th>RBI</th>\n",
       "      <th>BB</th>\n",
       "      <th>SO</th>\n",
       "      <th>HBP</th>\n",
       "      <th>SB</th>\n",
       "      <th>AVG</th>\n",
       "      <th>OBP</th>\n",
       "      <th>SLG</th>\n",
       "      <th>OPS</th>\n",
       "      <th>WAR</th>\n",
       "      <th>playerid</th>\n",
       "      <th>sorter</th>\n",
       "      <th>Pos</th>\n",
       "      <th>Dollars</th>\n",
       "      <th>Primary_Pos</th>\n",
       "      <th>Used</th>\n",
       "      <th>BA</th>\n",
       "      <th>zPA</th>\n",
       "      <th>zAB</th>\n",
       "      <th>zBA</th>\n",
       "      <th>zHR</th>\n",
       "      <th>zRBI</th>\n",
       "      <th>zR</th>\n",
       "      <th>zSB</th>\n",
       "      <th>z</th>\n",
       "      <th>Value</th>\n",
       "      <th>Owner</th>\n",
       "      <th>Paid</th>\n",
       "    </tr>\n",
       "  </thead>\n",
       "  <tbody>\n",
       "    <tr>\n",
       "      <th>3</th>\n",
       "      <td>Vladimir Guerrero Jr.</td>\n",
       "      <td>TOR</td>\n",
       "      <td>154</td>\n",
       "      <td>665</td>\n",
       "      <td>575</td>\n",
       "      <td>178</td>\n",
       "      <td>31</td>\n",
       "      <td>2</td>\n",
       "      <td>44</td>\n",
       "      <td>109</td>\n",
       "      <td>122</td>\n",
       "      <td>77</td>\n",
       "      <td>102</td>\n",
       "      <td>6</td>\n",
       "      <td>4</td>\n",
       "      <td>0.309</td>\n",
       "      <td>0.394</td>\n",
       "      <td>0.598</td>\n",
       "      <td>0.992</td>\n",
       "      <td>6.0</td>\n",
       "      <td>19611</td>\n",
       "      <td>457</td>\n",
       "      <td>1B, DH</td>\n",
       "      <td>40.252202</td>\n",
       "      <td>1B</td>\n",
       "      <td>True</td>\n",
       "      <td>33.335606</td>\n",
       "      <td>0.469136</td>\n",
       "      <td>0.066225</td>\n",
       "      <td>2.389664</td>\n",
       "      <td>1.854545</td>\n",
       "      <td>2.071429</td>\n",
       "      <td>2.022727</td>\n",
       "      <td>0.476190</td>\n",
       "      <td>14.063823</td>\n",
       "      <td>54.473907</td>\n",
       "      <td>None</td>\n",
       "      <td>None</td>\n",
       "    </tr>\n",
       "    <tr>\n",
       "      <th>1</th>\n",
       "      <td>Fernando Tatis Jr.</td>\n",
       "      <td>SDP</td>\n",
       "      <td>151</td>\n",
       "      <td>651</td>\n",
       "      <td>564</td>\n",
       "      <td>158</td>\n",
       "      <td>30</td>\n",
       "      <td>2</td>\n",
       "      <td>44</td>\n",
       "      <td>112</td>\n",
       "      <td>103</td>\n",
       "      <td>72</td>\n",
       "      <td>161</td>\n",
       "      <td>7</td>\n",
       "      <td>25</td>\n",
       "      <td>0.281</td>\n",
       "      <td>0.366</td>\n",
       "      <td>0.575</td>\n",
       "      <td>0.941</td>\n",
       "      <td>6.7</td>\n",
       "      <td>19709</td>\n",
       "      <td>442</td>\n",
       "      <td>SS, OF</td>\n",
       "      <td>40.784208</td>\n",
       "      <td>OF</td>\n",
       "      <td>True</td>\n",
       "      <td>17.161705</td>\n",
       "      <td>1.085635</td>\n",
       "      <td>0.795666</td>\n",
       "      <td>1.153108</td>\n",
       "      <td>2.100000</td>\n",
       "      <td>1.459854</td>\n",
       "      <td>2.669643</td>\n",
       "      <td>2.208333</td>\n",
       "      <td>13.641913</td>\n",
       "      <td>52.839708</td>\n",
       "      <td>None</td>\n",
       "      <td>None</td>\n",
       "    </tr>\n",
       "    <tr>\n",
       "      <th>0</th>\n",
       "      <td>Juan Soto</td>\n",
       "      <td>WSN</td>\n",
       "      <td>154</td>\n",
       "      <td>665</td>\n",
       "      <td>519</td>\n",
       "      <td>161</td>\n",
       "      <td>29</td>\n",
       "      <td>2</td>\n",
       "      <td>37</td>\n",
       "      <td>112</td>\n",
       "      <td>106</td>\n",
       "      <td>135</td>\n",
       "      <td>96</td>\n",
       "      <td>5</td>\n",
       "      <td>12</td>\n",
       "      <td>0.310</td>\n",
       "      <td>0.453</td>\n",
       "      <td>0.586</td>\n",
       "      <td>1.039</td>\n",
       "      <td>7.2</td>\n",
       "      <td>20123</td>\n",
       "      <td>428</td>\n",
       "      <td>OF</td>\n",
       "      <td>37.932103</td>\n",
       "      <td>OF</td>\n",
       "      <td>True</td>\n",
       "      <td>31.398803</td>\n",
       "      <td>1.472376</td>\n",
       "      <td>-0.597523</td>\n",
       "      <td>2.548902</td>\n",
       "      <td>1.225000</td>\n",
       "      <td>1.678832</td>\n",
       "      <td>2.669643</td>\n",
       "      <td>0.402778</td>\n",
       "      <td>12.576129</td>\n",
       "      <td>48.711571</td>\n",
       "      <td>None</td>\n",
       "      <td>None</td>\n",
       "    </tr>\n",
       "    <tr>\n",
       "      <th>77</th>\n",
       "      <td>Salvador Perez</td>\n",
       "      <td>KCR</td>\n",
       "      <td>149</td>\n",
       "      <td>601</td>\n",
       "      <td>560</td>\n",
       "      <td>146</td>\n",
       "      <td>26</td>\n",
       "      <td>1</td>\n",
       "      <td>36</td>\n",
       "      <td>79</td>\n",
       "      <td>99</td>\n",
       "      <td>26</td>\n",
       "      <td>147</td>\n",
       "      <td>10</td>\n",
       "      <td>1</td>\n",
       "      <td>0.260</td>\n",
       "      <td>0.302</td>\n",
       "      <td>0.504</td>\n",
       "      <td>0.806</td>\n",
       "      <td>2.7</td>\n",
       "      <td>7304</td>\n",
       "      <td>361</td>\n",
       "      <td>C, DH</td>\n",
       "      <td>25.055800</td>\n",
       "      <td>C</td>\n",
       "      <td>True</td>\n",
       "      <td>13.626102</td>\n",
       "      <td>1.846395</td>\n",
       "      <td>2.221122</td>\n",
       "      <td>1.449278</td>\n",
       "      <td>2.566667</td>\n",
       "      <td>2.485507</td>\n",
       "      <td>1.950495</td>\n",
       "      <td>-0.750000</td>\n",
       "      <td>11.792357</td>\n",
       "      <td>45.675756</td>\n",
       "      <td>None</td>\n",
       "      <td>None</td>\n",
       "    </tr>\n",
       "    <tr>\n",
       "      <th>17</th>\n",
       "      <td>Bo Bichette</td>\n",
       "      <td>TOR</td>\n",
       "      <td>152</td>\n",
       "      <td>658</td>\n",
       "      <td>601</td>\n",
       "      <td>176</td>\n",
       "      <td>36</td>\n",
       "      <td>2</td>\n",
       "      <td>28</td>\n",
       "      <td>96</td>\n",
       "      <td>94</td>\n",
       "      <td>43</td>\n",
       "      <td>121</td>\n",
       "      <td>6</td>\n",
       "      <td>17</td>\n",
       "      <td>0.292</td>\n",
       "      <td>0.343</td>\n",
       "      <td>0.496</td>\n",
       "      <td>0.839</td>\n",
       "      <td>4.7</td>\n",
       "      <td>19612</td>\n",
       "      <td>411</td>\n",
       "      <td>SS, DH</td>\n",
       "      <td>28.080286</td>\n",
       "      <td>SS</td>\n",
       "      <td>True</td>\n",
       "      <td>22.819346</td>\n",
       "      <td>0.762542</td>\n",
       "      <td>1.044218</td>\n",
       "      <td>1.601935</td>\n",
       "      <td>0.900000</td>\n",
       "      <td>1.367089</td>\n",
       "      <td>1.632911</td>\n",
       "      <td>0.900000</td>\n",
       "      <td>11.621147</td>\n",
       "      <td>45.012602</td>\n",
       "      <td>None</td>\n",
       "      <td>None</td>\n",
       "    </tr>\n",
       "    <tr>\n",
       "      <th>45</th>\n",
       "      <td>Shohei Ohtani</td>\n",
       "      <td>LAA</td>\n",
       "      <td>147</td>\n",
       "      <td>637</td>\n",
       "      <td>537</td>\n",
       "      <td>138</td>\n",
       "      <td>24</td>\n",
       "      <td>5</td>\n",
       "      <td>38</td>\n",
       "      <td>103</td>\n",
       "      <td>96</td>\n",
       "      <td>86</td>\n",
       "      <td>176</td>\n",
       "      <td>5</td>\n",
       "      <td>23</td>\n",
       "      <td>0.257</td>\n",
       "      <td>0.363</td>\n",
       "      <td>0.533</td>\n",
       "      <td>0.895</td>\n",
       "      <td>3.5</td>\n",
       "      <td>19755</td>\n",
       "      <td>398</td>\n",
       "      <td>P, OF, DH</td>\n",
       "      <td>30.421044</td>\n",
       "      <td>OF</td>\n",
       "      <td>True</td>\n",
       "      <td>3.903963</td>\n",
       "      <td>0.698895</td>\n",
       "      <td>-0.040248</td>\n",
       "      <td>-0.146670</td>\n",
       "      <td>1.350000</td>\n",
       "      <td>0.948905</td>\n",
       "      <td>1.866071</td>\n",
       "      <td>1.930556</td>\n",
       "      <td>9.999836</td>\n",
       "      <td>38.732723</td>\n",
       "      <td>None</td>\n",
       "      <td>None</td>\n",
       "    </tr>\n",
       "    <tr>\n",
       "      <th>5</th>\n",
       "      <td>Aaron Judge</td>\n",
       "      <td>NYY</td>\n",
       "      <td>152</td>\n",
       "      <td>658</td>\n",
       "      <td>562</td>\n",
       "      <td>154</td>\n",
       "      <td>25</td>\n",
       "      <td>1</td>\n",
       "      <td>40</td>\n",
       "      <td>103</td>\n",
       "      <td>107</td>\n",
       "      <td>83</td>\n",
       "      <td>170</td>\n",
       "      <td>5</td>\n",
       "      <td>5</td>\n",
       "      <td>0.274</td>\n",
       "      <td>0.370</td>\n",
       "      <td>0.537</td>\n",
       "      <td>0.907</td>\n",
       "      <td>5.7</td>\n",
       "      <td>15640</td>\n",
       "      <td>409</td>\n",
       "      <td>OF, DH</td>\n",
       "      <td>28.931068</td>\n",
       "      <td>OF</td>\n",
       "      <td>True</td>\n",
       "      <td>13.661131</td>\n",
       "      <td>1.279006</td>\n",
       "      <td>0.733746</td>\n",
       "      <td>0.809915</td>\n",
       "      <td>1.600000</td>\n",
       "      <td>1.751825</td>\n",
       "      <td>1.866071</td>\n",
       "      <td>-0.569444</td>\n",
       "      <td>9.509341</td>\n",
       "      <td>36.832870</td>\n",
       "      <td>None</td>\n",
       "      <td>None</td>\n",
       "    </tr>\n",
       "    <tr>\n",
       "      <th>15</th>\n",
       "      <td>Bryce Harper</td>\n",
       "      <td>PHI</td>\n",
       "      <td>154</td>\n",
       "      <td>665</td>\n",
       "      <td>540</td>\n",
       "      <td>145</td>\n",
       "      <td>32</td>\n",
       "      <td>1</td>\n",
       "      <td>35</td>\n",
       "      <td>102</td>\n",
       "      <td>101</td>\n",
       "      <td>113</td>\n",
       "      <td>150</td>\n",
       "      <td>7</td>\n",
       "      <td>12</td>\n",
       "      <td>0.269</td>\n",
       "      <td>0.398</td>\n",
       "      <td>0.531</td>\n",
       "      <td>0.929</td>\n",
       "      <td>4.8</td>\n",
       "      <td>11579</td>\n",
       "      <td>395</td>\n",
       "      <td>OF</td>\n",
       "      <td>27.485023</td>\n",
       "      <td>OF</td>\n",
       "      <td>True</td>\n",
       "      <td>10.154824</td>\n",
       "      <td>1.472376</td>\n",
       "      <td>0.052632</td>\n",
       "      <td>0.466159</td>\n",
       "      <td>0.975000</td>\n",
       "      <td>1.313869</td>\n",
       "      <td>1.776786</td>\n",
       "      <td>0.402778</td>\n",
       "      <td>8.985566</td>\n",
       "      <td>34.804112</td>\n",
       "      <td>None</td>\n",
       "      <td>None</td>\n",
       "    </tr>\n",
       "    <tr>\n",
       "      <th>2</th>\n",
       "      <td>Mike Trout</td>\n",
       "      <td>LAA</td>\n",
       "      <td>147</td>\n",
       "      <td>637</td>\n",
       "      <td>511</td>\n",
       "      <td>138</td>\n",
       "      <td>25</td>\n",
       "      <td>3</td>\n",
       "      <td>37</td>\n",
       "      <td>100</td>\n",
       "      <td>101</td>\n",
       "      <td>109</td>\n",
       "      <td>147</td>\n",
       "      <td>11</td>\n",
       "      <td>7</td>\n",
       "      <td>0.271</td>\n",
       "      <td>0.406</td>\n",
       "      <td>0.546</td>\n",
       "      <td>0.952</td>\n",
       "      <td>6.1</td>\n",
       "      <td>10155</td>\n",
       "      <td>383</td>\n",
       "      <td>OF</td>\n",
       "      <td>25.942635</td>\n",
       "      <td>OF</td>\n",
       "      <td>True</td>\n",
       "      <td>10.396509</td>\n",
       "      <td>0.698895</td>\n",
       "      <td>-0.845201</td>\n",
       "      <td>0.489854</td>\n",
       "      <td>1.225000</td>\n",
       "      <td>1.313869</td>\n",
       "      <td>1.598214</td>\n",
       "      <td>-0.291667</td>\n",
       "      <td>8.386245</td>\n",
       "      <td>32.482740</td>\n",
       "      <td>None</td>\n",
       "      <td>None</td>\n",
       "    </tr>\n",
       "    <tr>\n",
       "      <th>19</th>\n",
       "      <td>Freddie Freeman</td>\n",
       "      <td>NaN</td>\n",
       "      <td>159</td>\n",
       "      <td>686</td>\n",
       "      <td>581</td>\n",
       "      <td>169</td>\n",
       "      <td>33</td>\n",
       "      <td>2</td>\n",
       "      <td>30</td>\n",
       "      <td>102</td>\n",
       "      <td>96</td>\n",
       "      <td>88</td>\n",
       "      <td>111</td>\n",
       "      <td>8</td>\n",
       "      <td>6</td>\n",
       "      <td>0.290</td>\n",
       "      <td>0.389</td>\n",
       "      <td>0.511</td>\n",
       "      <td>0.900</td>\n",
       "      <td>4.6</td>\n",
       "      <td>5361</td>\n",
       "      <td>403</td>\n",
       "      <td>1B</td>\n",
       "      <td>25.954566</td>\n",
       "      <td>1B</td>\n",
       "      <td>True</td>\n",
       "      <td>22.826065</td>\n",
       "      <td>1.765432</td>\n",
       "      <td>0.463576</td>\n",
       "      <td>1.349115</td>\n",
       "      <td>-0.690909</td>\n",
       "      <td>-0.250000</td>\n",
       "      <td>1.227273</td>\n",
       "      <td>1.428571</td>\n",
       "      <td>8.313318</td>\n",
       "      <td>32.200270</td>\n",
       "      <td>None</td>\n",
       "      <td>None</td>\n",
       "    </tr>\n",
       "    <tr>\n",
       "      <th>32</th>\n",
       "      <td>Yordan Alvarez</td>\n",
       "      <td>HOU</td>\n",
       "      <td>146</td>\n",
       "      <td>630</td>\n",
       "      <td>556</td>\n",
       "      <td>155</td>\n",
       "      <td>32</td>\n",
       "      <td>1</td>\n",
       "      <td>37</td>\n",
       "      <td>93</td>\n",
       "      <td>110</td>\n",
       "      <td>62</td>\n",
       "      <td>146</td>\n",
       "      <td>7</td>\n",
       "      <td>1</td>\n",
       "      <td>0.279</td>\n",
       "      <td>0.356</td>\n",
       "      <td>0.543</td>\n",
       "      <td>0.900</td>\n",
       "      <td>4.0</td>\n",
       "      <td>19556</td>\n",
       "      <td>396</td>\n",
       "      <td>OF, DH</td>\n",
       "      <td>25.272377</td>\n",
       "      <td>OF</td>\n",
       "      <td>True</td>\n",
       "      <td>16.159411</td>\n",
       "      <td>0.505525</td>\n",
       "      <td>0.547988</td>\n",
       "      <td>1.054844</td>\n",
       "      <td>1.225000</td>\n",
       "      <td>1.970803</td>\n",
       "      <td>0.973214</td>\n",
       "      <td>-1.125000</td>\n",
       "      <td>8.149836</td>\n",
       "      <td>31.567050</td>\n",
       "      <td>None</td>\n",
       "      <td>None</td>\n",
       "    </tr>\n",
       "    <tr>\n",
       "      <th>24</th>\n",
       "      <td>Kyle Tucker</td>\n",
       "      <td>HOU</td>\n",
       "      <td>147</td>\n",
       "      <td>637</td>\n",
       "      <td>567</td>\n",
       "      <td>158</td>\n",
       "      <td>33</td>\n",
       "      <td>4</td>\n",
       "      <td>32</td>\n",
       "      <td>88</td>\n",
       "      <td>97</td>\n",
       "      <td>58</td>\n",
       "      <td>110</td>\n",
       "      <td>4</td>\n",
       "      <td>15</td>\n",
       "      <td>0.278</td>\n",
       "      <td>0.348</td>\n",
       "      <td>0.522</td>\n",
       "      <td>0.870</td>\n",
       "      <td>4.4</td>\n",
       "      <td>18345</td>\n",
       "      <td>390</td>\n",
       "      <td>OF</td>\n",
       "      <td>25.381511</td>\n",
       "      <td>OF</td>\n",
       "      <td>True</td>\n",
       "      <td>16.412565</td>\n",
       "      <td>0.698895</td>\n",
       "      <td>0.888545</td>\n",
       "      <td>1.079663</td>\n",
       "      <td>0.600000</td>\n",
       "      <td>1.021898</td>\n",
       "      <td>0.526786</td>\n",
       "      <td>0.819444</td>\n",
       "      <td>8.098766</td>\n",
       "      <td>31.369238</td>\n",
       "      <td>None</td>\n",
       "      <td>None</td>\n",
       "    </tr>\n",
       "    <tr>\n",
       "      <th>7</th>\n",
       "      <td>Ronald Acuna Jr.</td>\n",
       "      <td>ATL</td>\n",
       "      <td>122</td>\n",
       "      <td>525</td>\n",
       "      <td>438</td>\n",
       "      <td>125</td>\n",
       "      <td>24</td>\n",
       "      <td>1</td>\n",
       "      <td>33</td>\n",
       "      <td>93</td>\n",
       "      <td>73</td>\n",
       "      <td>70</td>\n",
       "      <td>121</td>\n",
       "      <td>8</td>\n",
       "      <td>24</td>\n",
       "      <td>0.285</td>\n",
       "      <td>0.391</td>\n",
       "      <td>0.569</td>\n",
       "      <td>0.960</td>\n",
       "      <td>5.3</td>\n",
       "      <td>18401</td>\n",
       "      <td>348</td>\n",
       "      <td>OF</td>\n",
       "      <td>26.025719</td>\n",
       "      <td>OF</td>\n",
       "      <td>True</td>\n",
       "      <td>15.625579</td>\n",
       "      <td>-2.395028</td>\n",
       "      <td>-3.105263</td>\n",
       "      <td>1.002508</td>\n",
       "      <td>0.725000</td>\n",
       "      <td>-0.729927</td>\n",
       "      <td>0.973214</td>\n",
       "      <td>2.069444</td>\n",
       "      <td>8.091214</td>\n",
       "      <td>31.339988</td>\n",
       "      <td>None</td>\n",
       "      <td>None</td>\n",
       "    </tr>\n",
       "    <tr>\n",
       "      <th>14</th>\n",
       "      <td>Luis Robert</td>\n",
       "      <td>CHW</td>\n",
       "      <td>149</td>\n",
       "      <td>644</td>\n",
       "      <td>586</td>\n",
       "      <td>167</td>\n",
       "      <td>33</td>\n",
       "      <td>2</td>\n",
       "      <td>30</td>\n",
       "      <td>90</td>\n",
       "      <td>92</td>\n",
       "      <td>42</td>\n",
       "      <td>143</td>\n",
       "      <td>8</td>\n",
       "      <td>15</td>\n",
       "      <td>0.285</td>\n",
       "      <td>0.339</td>\n",
       "      <td>0.505</td>\n",
       "      <td>0.843</td>\n",
       "      <td>4.8</td>\n",
       "      <td>20043</td>\n",
       "      <td>394</td>\n",
       "      <td>OF</td>\n",
       "      <td>25.322911</td>\n",
       "      <td>OF</td>\n",
       "      <td>True</td>\n",
       "      <td>20.668012</td>\n",
       "      <td>0.892265</td>\n",
       "      <td>1.476780</td>\n",
       "      <td>1.496864</td>\n",
       "      <td>0.350000</td>\n",
       "      <td>0.656934</td>\n",
       "      <td>0.705357</td>\n",
       "      <td>0.819444</td>\n",
       "      <td>8.079574</td>\n",
       "      <td>31.294903</td>\n",
       "      <td>None</td>\n",
       "      <td>None</td>\n",
       "    </tr>\n",
       "    <tr>\n",
       "      <th>11</th>\n",
       "      <td>Trea Turner</td>\n",
       "      <td>LAD</td>\n",
       "      <td>154</td>\n",
       "      <td>665</td>\n",
       "      <td>598</td>\n",
       "      <td>174</td>\n",
       "      <td>33</td>\n",
       "      <td>3</td>\n",
       "      <td>24</td>\n",
       "      <td>102</td>\n",
       "      <td>81</td>\n",
       "      <td>51</td>\n",
       "      <td>115</td>\n",
       "      <td>6</td>\n",
       "      <td>26</td>\n",
       "      <td>0.290</td>\n",
       "      <td>0.350</td>\n",
       "      <td>0.477</td>\n",
       "      <td>0.827</td>\n",
       "      <td>4.8</td>\n",
       "      <td>16252</td>\n",
       "      <td>407</td>\n",
       "      <td>2B, SS</td>\n",
       "      <td>28.383093</td>\n",
       "      <td>2B</td>\n",
       "      <td>True</td>\n",
       "      <td>20.578321</td>\n",
       "      <td>1.011976</td>\n",
       "      <td>1.212121</td>\n",
       "      <td>1.486173</td>\n",
       "      <td>-0.215686</td>\n",
       "      <td>0.148148</td>\n",
       "      <td>1.311111</td>\n",
       "      <td>1.696203</td>\n",
       "      <td>7.828243</td>\n",
       "      <td>30.321414</td>\n",
       "      <td>None</td>\n",
       "      <td>None</td>\n",
       "    </tr>\n",
       "    <tr>\n",
       "      <th>33</th>\n",
       "      <td>Pete Alonso</td>\n",
       "      <td>NYM</td>\n",
       "      <td>154</td>\n",
       "      <td>665</td>\n",
       "      <td>576</td>\n",
       "      <td>149</td>\n",
       "      <td>26</td>\n",
       "      <td>2</td>\n",
       "      <td>43</td>\n",
       "      <td>95</td>\n",
       "      <td>114</td>\n",
       "      <td>70</td>\n",
       "      <td>145</td>\n",
       "      <td>13</td>\n",
       "      <td>2</td>\n",
       "      <td>0.258</td>\n",
       "      <td>0.349</td>\n",
       "      <td>0.534</td>\n",
       "      <td>0.884</td>\n",
       "      <td>3.9</td>\n",
       "      <td>19251</td>\n",
       "      <td>403</td>\n",
       "      <td>1B</td>\n",
       "      <td>25.547288</td>\n",
       "      <td>1B</td>\n",
       "      <td>True</td>\n",
       "      <td>4.084016</td>\n",
       "      <td>0.469136</td>\n",
       "      <td>0.132450</td>\n",
       "      <td>-0.506533</td>\n",
       "      <td>1.672727</td>\n",
       "      <td>1.357143</td>\n",
       "      <td>0.431818</td>\n",
       "      <td>-0.476190</td>\n",
       "      <td>7.728232</td>\n",
       "      <td>29.934037</td>\n",
       "      <td>None</td>\n",
       "      <td>None</td>\n",
       "    </tr>\n",
       "    <tr>\n",
       "      <th>13</th>\n",
       "      <td>Rafael Devers</td>\n",
       "      <td>BOS</td>\n",
       "      <td>154</td>\n",
       "      <td>665</td>\n",
       "      <td>593</td>\n",
       "      <td>165</td>\n",
       "      <td>37</td>\n",
       "      <td>2</td>\n",
       "      <td>37</td>\n",
       "      <td>97</td>\n",
       "      <td>108</td>\n",
       "      <td>58</td>\n",
       "      <td>136</td>\n",
       "      <td>7</td>\n",
       "      <td>6</td>\n",
       "      <td>0.278</td>\n",
       "      <td>0.346</td>\n",
       "      <td>0.534</td>\n",
       "      <td>0.880</td>\n",
       "      <td>4.8</td>\n",
       "      <td>17350</td>\n",
       "      <td>413</td>\n",
       "      <td>3B</td>\n",
       "      <td>27.907182</td>\n",
       "      <td>3B</td>\n",
       "      <td>True</td>\n",
       "      <td>16.010347</td>\n",
       "      <td>0.900344</td>\n",
       "      <td>1.043333</td>\n",
       "      <td>0.901833</td>\n",
       "      <td>1.260274</td>\n",
       "      <td>1.455882</td>\n",
       "      <td>1.447368</td>\n",
       "      <td>-0.278689</td>\n",
       "      <td>7.643909</td>\n",
       "      <td>29.607424</td>\n",
       "      <td>None</td>\n",
       "      <td>None</td>\n",
       "    </tr>\n",
       "    <tr>\n",
       "      <th>28</th>\n",
       "      <td>J.T. Realmuto</td>\n",
       "      <td>PHI</td>\n",
       "      <td>138</td>\n",
       "      <td>548</td>\n",
       "      <td>488</td>\n",
       "      <td>122</td>\n",
       "      <td>24</td>\n",
       "      <td>3</td>\n",
       "      <td>20</td>\n",
       "      <td>65</td>\n",
       "      <td>73</td>\n",
       "      <td>46</td>\n",
       "      <td>127</td>\n",
       "      <td>9</td>\n",
       "      <td>9</td>\n",
       "      <td>0.251</td>\n",
       "      <td>0.324</td>\n",
       "      <td>0.437</td>\n",
       "      <td>0.761</td>\n",
       "      <td>4.2</td>\n",
       "      <td>11739</td>\n",
       "      <td>289</td>\n",
       "      <td>C, 1B</td>\n",
       "      <td>12.424284</td>\n",
       "      <td>C</td>\n",
       "      <td>True</td>\n",
       "      <td>6.645603</td>\n",
       "      <td>1.015674</td>\n",
       "      <td>1.033003</td>\n",
       "      <td>0.156593</td>\n",
       "      <td>-0.100000</td>\n",
       "      <td>0.601449</td>\n",
       "      <td>0.564356</td>\n",
       "      <td>2.107143</td>\n",
       "      <td>7.419952</td>\n",
       "      <td>28.739963</td>\n",
       "      <td>None</td>\n",
       "      <td>None</td>\n",
       "    </tr>\n",
       "    <tr>\n",
       "      <th>4</th>\n",
       "      <td>Jose Ramirez</td>\n",
       "      <td>CLE</td>\n",
       "      <td>154</td>\n",
       "      <td>665</td>\n",
       "      <td>572</td>\n",
       "      <td>152</td>\n",
       "      <td>35</td>\n",
       "      <td>4</td>\n",
       "      <td>34</td>\n",
       "      <td>97</td>\n",
       "      <td>101</td>\n",
       "      <td>80</td>\n",
       "      <td>98</td>\n",
       "      <td>7</td>\n",
       "      <td>23</td>\n",
       "      <td>0.266</td>\n",
       "      <td>0.360</td>\n",
       "      <td>0.520</td>\n",
       "      <td>0.880</td>\n",
       "      <td>5.7</td>\n",
       "      <td>13510</td>\n",
       "      <td>407</td>\n",
       "      <td>3B, DH</td>\n",
       "      <td>29.985799</td>\n",
       "      <td>3B</td>\n",
       "      <td>True</td>\n",
       "      <td>8.286540</td>\n",
       "      <td>0.900344</td>\n",
       "      <td>0.343333</td>\n",
       "      <td>0.205995</td>\n",
       "      <td>0.849315</td>\n",
       "      <td>0.941176</td>\n",
       "      <td>1.447368</td>\n",
       "      <td>1.114754</td>\n",
       "      <td>7.415848</td>\n",
       "      <td>28.724069</td>\n",
       "      <td>None</td>\n",
       "      <td>None</td>\n",
       "    </tr>\n",
       "    <tr>\n",
       "      <th>25</th>\n",
       "      <td>Xander Bogaerts</td>\n",
       "      <td>BOS</td>\n",
       "      <td>154</td>\n",
       "      <td>665</td>\n",
       "      <td>586</td>\n",
       "      <td>161</td>\n",
       "      <td>37</td>\n",
       "      <td>1</td>\n",
       "      <td>25</td>\n",
       "      <td>88</td>\n",
       "      <td>95</td>\n",
       "      <td>69</td>\n",
       "      <td>123</td>\n",
       "      <td>5</td>\n",
       "      <td>6</td>\n",
       "      <td>0.276</td>\n",
       "      <td>0.354</td>\n",
       "      <td>0.473</td>\n",
       "      <td>0.828</td>\n",
       "      <td>4.4</td>\n",
       "      <td>12161</td>\n",
       "      <td>375</td>\n",
       "      <td>SS, DH</td>\n",
       "      <td>17.579085</td>\n",
       "      <td>SS</td>\n",
       "      <td>True</td>\n",
       "      <td>11.642490</td>\n",
       "      <td>0.996656</td>\n",
       "      <td>0.534014</td>\n",
       "      <td>0.484249</td>\n",
       "      <td>0.150000</td>\n",
       "      <td>1.493671</td>\n",
       "      <td>0.620253</td>\n",
       "      <td>-0.671429</td>\n",
       "      <td>7.295957</td>\n",
       "      <td>28.259689</td>\n",
       "      <td>None</td>\n",
       "      <td>None</td>\n",
       "    </tr>\n",
       "  </tbody>\n",
       "</table>\n",
       "</div>"
      ],
      "text/plain": [
       "                     Name Team    G   PA   AB    H  2B  3B  HR    R  RBI   BB  \\\n",
       "3   Vladimir Guerrero Jr.  TOR  154  665  575  178  31   2  44  109  122   77   \n",
       "1      Fernando Tatis Jr.  SDP  151  651  564  158  30   2  44  112  103   72   \n",
       "0               Juan Soto  WSN  154  665  519  161  29   2  37  112  106  135   \n",
       "77         Salvador Perez  KCR  149  601  560  146  26   1  36   79   99   26   \n",
       "17            Bo Bichette  TOR  152  658  601  176  36   2  28   96   94   43   \n",
       "45          Shohei Ohtani  LAA  147  637  537  138  24   5  38  103   96   86   \n",
       "5             Aaron Judge  NYY  152  658  562  154  25   1  40  103  107   83   \n",
       "15           Bryce Harper  PHI  154  665  540  145  32   1  35  102  101  113   \n",
       "2              Mike Trout  LAA  147  637  511  138  25   3  37  100  101  109   \n",
       "19        Freddie Freeman  NaN  159  686  581  169  33   2  30  102   96   88   \n",
       "32         Yordan Alvarez  HOU  146  630  556  155  32   1  37   93  110   62   \n",
       "24            Kyle Tucker  HOU  147  637  567  158  33   4  32   88   97   58   \n",
       "7        Ronald Acuna Jr.  ATL  122  525  438  125  24   1  33   93   73   70   \n",
       "14            Luis Robert  CHW  149  644  586  167  33   2  30   90   92   42   \n",
       "11            Trea Turner  LAD  154  665  598  174  33   3  24  102   81   51   \n",
       "33            Pete Alonso  NYM  154  665  576  149  26   2  43   95  114   70   \n",
       "13          Rafael Devers  BOS  154  665  593  165  37   2  37   97  108   58   \n",
       "28          J.T. Realmuto  PHI  138  548  488  122  24   3  20   65   73   46   \n",
       "4            Jose Ramirez  CLE  154  665  572  152  35   4  34   97  101   80   \n",
       "25        Xander Bogaerts  BOS  154  665  586  161  37   1  25   88   95   69   \n",
       "\n",
       "     SO  HBP  SB    AVG    OBP    SLG    OPS  WAR playerid  sorter        Pos  \\\n",
       "3   102    6   4  0.309  0.394  0.598  0.992  6.0    19611     457     1B, DH   \n",
       "1   161    7  25  0.281  0.366  0.575  0.941  6.7    19709     442     SS, OF   \n",
       "0    96    5  12  0.310  0.453  0.586  1.039  7.2    20123     428         OF   \n",
       "77  147   10   1  0.260  0.302  0.504  0.806  2.7     7304     361      C, DH   \n",
       "17  121    6  17  0.292  0.343  0.496  0.839  4.7    19612     411     SS, DH   \n",
       "45  176    5  23  0.257  0.363  0.533  0.895  3.5    19755     398  P, OF, DH   \n",
       "5   170    5   5  0.274  0.370  0.537  0.907  5.7    15640     409     OF, DH   \n",
       "15  150    7  12  0.269  0.398  0.531  0.929  4.8    11579     395         OF   \n",
       "2   147   11   7  0.271  0.406  0.546  0.952  6.1    10155     383         OF   \n",
       "19  111    8   6  0.290  0.389  0.511  0.900  4.6     5361     403         1B   \n",
       "32  146    7   1  0.279  0.356  0.543  0.900  4.0    19556     396     OF, DH   \n",
       "24  110    4  15  0.278  0.348  0.522  0.870  4.4    18345     390         OF   \n",
       "7   121    8  24  0.285  0.391  0.569  0.960  5.3    18401     348         OF   \n",
       "14  143    8  15  0.285  0.339  0.505  0.843  4.8    20043     394         OF   \n",
       "11  115    6  26  0.290  0.350  0.477  0.827  4.8    16252     407     2B, SS   \n",
       "33  145   13   2  0.258  0.349  0.534  0.884  3.9    19251     403         1B   \n",
       "13  136    7   6  0.278  0.346  0.534  0.880  4.8    17350     413         3B   \n",
       "28  127    9   9  0.251  0.324  0.437  0.761  4.2    11739     289      C, 1B   \n",
       "4    98    7  23  0.266  0.360  0.520  0.880  5.7    13510     407     3B, DH   \n",
       "25  123    5   6  0.276  0.354  0.473  0.828  4.4    12161     375     SS, DH   \n",
       "\n",
       "      Dollars Primary_Pos  Used         BA       zPA       zAB       zBA  \\\n",
       "3   40.252202          1B  True  33.335606  0.469136  0.066225  2.389664   \n",
       "1   40.784208          OF  True  17.161705  1.085635  0.795666  1.153108   \n",
       "0   37.932103          OF  True  31.398803  1.472376 -0.597523  2.548902   \n",
       "77  25.055800           C  True  13.626102  1.846395  2.221122  1.449278   \n",
       "17  28.080286          SS  True  22.819346  0.762542  1.044218  1.601935   \n",
       "45  30.421044          OF  True   3.903963  0.698895 -0.040248 -0.146670   \n",
       "5   28.931068          OF  True  13.661131  1.279006  0.733746  0.809915   \n",
       "15  27.485023          OF  True  10.154824  1.472376  0.052632  0.466159   \n",
       "2   25.942635          OF  True  10.396509  0.698895 -0.845201  0.489854   \n",
       "19  25.954566          1B  True  22.826065  1.765432  0.463576  1.349115   \n",
       "32  25.272377          OF  True  16.159411  0.505525  0.547988  1.054844   \n",
       "24  25.381511          OF  True  16.412565  0.698895  0.888545  1.079663   \n",
       "7   26.025719          OF  True  15.625579 -2.395028 -3.105263  1.002508   \n",
       "14  25.322911          OF  True  20.668012  0.892265  1.476780  1.496864   \n",
       "11  28.383093          2B  True  20.578321  1.011976  1.212121  1.486173   \n",
       "33  25.547288          1B  True   4.084016  0.469136  0.132450 -0.506533   \n",
       "13  27.907182          3B  True  16.010347  0.900344  1.043333  0.901833   \n",
       "28  12.424284           C  True   6.645603  1.015674  1.033003  0.156593   \n",
       "4   29.985799          3B  True   8.286540  0.900344  0.343333  0.205995   \n",
       "25  17.579085          SS  True  11.642490  0.996656  0.534014  0.484249   \n",
       "\n",
       "         zHR      zRBI        zR       zSB          z      Value Owner  Paid  \n",
       "3   1.854545  2.071429  2.022727  0.476190  14.063823  54.473907  None  None  \n",
       "1   2.100000  1.459854  2.669643  2.208333  13.641913  52.839708  None  None  \n",
       "0   1.225000  1.678832  2.669643  0.402778  12.576129  48.711571  None  None  \n",
       "77  2.566667  2.485507  1.950495 -0.750000  11.792357  45.675756  None  None  \n",
       "17  0.900000  1.367089  1.632911  0.900000  11.621147  45.012602  None  None  \n",
       "45  1.350000  0.948905  1.866071  1.930556   9.999836  38.732723  None  None  \n",
       "5   1.600000  1.751825  1.866071 -0.569444   9.509341  36.832870  None  None  \n",
       "15  0.975000  1.313869  1.776786  0.402778   8.985566  34.804112  None  None  \n",
       "2   1.225000  1.313869  1.598214 -0.291667   8.386245  32.482740  None  None  \n",
       "19 -0.690909 -0.250000  1.227273  1.428571   8.313318  32.200270  None  None  \n",
       "32  1.225000  1.970803  0.973214 -1.125000   8.149836  31.567050  None  None  \n",
       "24  0.600000  1.021898  0.526786  0.819444   8.098766  31.369238  None  None  \n",
       "7   0.725000 -0.729927  0.973214  2.069444   8.091214  31.339988  None  None  \n",
       "14  0.350000  0.656934  0.705357  0.819444   8.079574  31.294903  None  None  \n",
       "11 -0.215686  0.148148  1.311111  1.696203   7.828243  30.321414  None  None  \n",
       "33  1.672727  1.357143  0.431818 -0.476190   7.728232  29.934037  None  None  \n",
       "13  1.260274  1.455882  1.447368 -0.278689   7.643909  29.607424  None  None  \n",
       "28 -0.100000  0.601449  0.564356  2.107143   7.419952  28.739963  None  None  \n",
       "4   0.849315  0.941176  1.447368  1.114754   7.415848  28.724069  None  None  \n",
       "25  0.150000  1.493671  0.620253 -0.671429   7.295957  28.259689  None  None  "
      ]
     },
     "execution_count": 78,
     "metadata": {},
     "output_type": "execute_result"
    }
   ],
   "source": [
    "h.sort_values('Value', ascending=False).head(20)"
   ]
  },
  {
   "cell_type": "code",
   "execution_count": 55,
   "id": "2bee7567",
   "metadata": {},
   "outputs": [
    {
     "data": {
      "text/html": [
       "<div>\n",
       "<style scoped>\n",
       "    .dataframe tbody tr th:only-of-type {\n",
       "        vertical-align: middle;\n",
       "    }\n",
       "\n",
       "    .dataframe tbody tr th {\n",
       "        vertical-align: top;\n",
       "    }\n",
       "\n",
       "    .dataframe thead th {\n",
       "        text-align: right;\n",
       "    }\n",
       "</style>\n",
       "<table border=\"1\" class=\"dataframe\">\n",
       "  <thead>\n",
       "    <tr style=\"text-align: right;\">\n",
       "      <th></th>\n",
       "      <th>Name</th>\n",
       "      <th>z</th>\n",
       "      <th>Value</th>\n",
       "    </tr>\n",
       "  </thead>\n",
       "  <tbody>\n",
       "    <tr>\n",
       "      <th>3</th>\n",
       "      <td>Vladimir Guerrero Jr.</td>\n",
       "      <td>14.063823</td>\n",
       "      <td>54.473907</td>\n",
       "    </tr>\n",
       "    <tr>\n",
       "      <th>1</th>\n",
       "      <td>Fernando Tatis Jr.</td>\n",
       "      <td>13.641913</td>\n",
       "      <td>52.839708</td>\n",
       "    </tr>\n",
       "    <tr>\n",
       "      <th>0</th>\n",
       "      <td>Juan Soto</td>\n",
       "      <td>12.576129</td>\n",
       "      <td>48.711571</td>\n",
       "    </tr>\n",
       "    <tr>\n",
       "      <th>13</th>\n",
       "      <td>Rafael Devers</td>\n",
       "      <td>7.643909</td>\n",
       "      <td>29.607424</td>\n",
       "    </tr>\n",
       "    <tr>\n",
       "      <th>17</th>\n",
       "      <td>Bo Bichette</td>\n",
       "      <td>11.621147</td>\n",
       "      <td>45.012602</td>\n",
       "    </tr>\n",
       "    <tr>\n",
       "      <th>...</th>\n",
       "      <td>...</td>\n",
       "      <td>...</td>\n",
       "      <td>...</td>\n",
       "    </tr>\n",
       "    <tr>\n",
       "      <th>585</th>\n",
       "      <td>Jacob Amaya</td>\n",
       "      <td>-29.166122</td>\n",
       "      <td>-112.970179</td>\n",
       "    </tr>\n",
       "    <tr>\n",
       "      <th>569</th>\n",
       "      <td>Andy Young</td>\n",
       "      <td>-27.078466</td>\n",
       "      <td>-104.883986</td>\n",
       "    </tr>\n",
       "    <tr>\n",
       "      <th>564</th>\n",
       "      <td>Brett Sullivan</td>\n",
       "      <td>-16.095308</td>\n",
       "      <td>-62.342529</td>\n",
       "    </tr>\n",
       "    <tr>\n",
       "      <th>563</th>\n",
       "      <td>Chadwick Tromp</td>\n",
       "      <td>-16.095308</td>\n",
       "      <td>-62.342529</td>\n",
       "    </tr>\n",
       "    <tr>\n",
       "      <th>556</th>\n",
       "      <td>Kyle Stowers</td>\n",
       "      <td>-18.474544</td>\n",
       "      <td>-71.558110</td>\n",
       "    </tr>\n",
       "  </tbody>\n",
       "</table>\n",
       "<p>628 rows × 3 columns</p>\n",
       "</div>"
      ],
      "text/plain": [
       "                      Name          z       Value\n",
       "3    Vladimir Guerrero Jr.  14.063823   54.473907\n",
       "1       Fernando Tatis Jr.  13.641913   52.839708\n",
       "0                Juan Soto  12.576129   48.711571\n",
       "13           Rafael Devers   7.643909   29.607424\n",
       "17             Bo Bichette  11.621147   45.012602\n",
       "..                     ...        ...         ...\n",
       "585            Jacob Amaya -29.166122 -112.970179\n",
       "569             Andy Young -27.078466 -104.883986\n",
       "564         Brett Sullivan -16.095308  -62.342529\n",
       "563         Chadwick Tromp -16.095308  -62.342529\n",
       "556           Kyle Stowers -18.474544  -71.558110\n",
       "\n",
       "[628 rows x 3 columns]"
      ]
     },
     "execution_count": 55,
     "metadata": {},
     "output_type": "execute_result"
    }
   ],
   "source": [
    "h[['Name', 'z', 'Value']]"
   ]
  },
  {
   "cell_type": "code",
   "execution_count": 79,
   "id": "234578ec",
   "metadata": {},
   "outputs": [
    {
     "name": "stdout",
     "output_type": "stream",
     "text": [
      "(107, 35)\n"
     ]
    },
    {
     "data": {
      "text/plain": [
       "237.5503893784254"
      ]
     },
     "execution_count": 79,
     "metadata": {},
     "output_type": "execute_result"
    }
   ],
   "source": [
    "print(p[p['z']>0].shape)\n",
    "p[p['z']>0]['z'].sum()"
   ]
  },
  {
   "cell_type": "code",
   "execution_count": 57,
   "id": "76201b00",
   "metadata": {},
   "outputs": [
    {
     "name": "stdout",
     "output_type": "stream",
     "text": [
      "(147, 36)\n"
     ]
    },
    {
     "data": {
      "text/plain": [
       "567.9568744271261"
      ]
     },
     "execution_count": 57,
     "metadata": {},
     "output_type": "execute_result"
    }
   ],
   "source": [
    "print(h[h['z']>0].shape)\n",
    "h[h['z']>0]['z'].sum()"
   ]
  },
  {
   "cell_type": "code",
   "execution_count": 80,
   "id": "d9b24534",
   "metadata": {},
   "outputs": [
    {
     "data": {
      "text/plain": [
       "0.15851851851851853"
      ]
     },
     "execution_count": 80,
     "metadata": {},
     "output_type": "execute_result"
    }
   ],
   "source": [
    "107/(107+568)"
   ]
  },
  {
   "cell_type": "code",
   "execution_count": 81,
   "id": "e9f0e26a",
   "metadata": {},
   "outputs": [
    {
     "name": "stderr",
     "output_type": "stream",
     "text": [
      "<ipython-input-81-dbec7db4bfd9>:1: UserWarning: Boolean Series key will be reindexed to match DataFrame index.\n",
      "  p.iloc[:108][p['Primary_Pos']=='RP'].shape\n"
     ]
    },
    {
     "data": {
      "text/plain": [
       "(35, 35)"
      ]
     },
     "execution_count": 81,
     "metadata": {},
     "output_type": "execute_result"
    }
   ],
   "source": [
    "p.iloc[:108][p['Primary_Pos']=='RP'].shape"
   ]
  },
  {
   "cell_type": "code",
   "execution_count": 82,
   "id": "9634fdfa",
   "metadata": {},
   "outputs": [
    {
     "data": {
      "text/html": [
       "<div>\n",
       "<style scoped>\n",
       "    .dataframe tbody tr th:only-of-type {\n",
       "        vertical-align: middle;\n",
       "    }\n",
       "\n",
       "    .dataframe tbody tr th {\n",
       "        vertical-align: top;\n",
       "    }\n",
       "\n",
       "    .dataframe thead th {\n",
       "        text-align: right;\n",
       "    }\n",
       "</style>\n",
       "<table border=\"1\" class=\"dataframe\">\n",
       "  <thead>\n",
       "    <tr style=\"text-align: right;\">\n",
       "      <th></th>\n",
       "      <th>Name</th>\n",
       "      <th>Team</th>\n",
       "      <th>W</th>\n",
       "      <th>L</th>\n",
       "      <th>SV</th>\n",
       "      <th>HLD</th>\n",
       "      <th>ERA</th>\n",
       "      <th>GS</th>\n",
       "      <th>G</th>\n",
       "      <th>IP</th>\n",
       "      <th>H</th>\n",
       "      <th>ER</th>\n",
       "      <th>HR</th>\n",
       "      <th>SO</th>\n",
       "      <th>BB</th>\n",
       "      <th>WHIP</th>\n",
       "      <th>K/9</th>\n",
       "      <th>BB/9</th>\n",
       "      <th>FIP</th>\n",
       "      <th>WAR</th>\n",
       "      <th>playerid</th>\n",
       "      <th>Pos</th>\n",
       "      <th>Dollars</th>\n",
       "      <th>Sv+Hld</th>\n",
       "      <th>sorter</th>\n",
       "      <th>Primary_Pos</th>\n",
       "      <th>xER</th>\n",
       "      <th>xWHIP</th>\n",
       "      <th>zW</th>\n",
       "      <th>zSO</th>\n",
       "      <th>zSv+Hld</th>\n",
       "      <th>zxER</th>\n",
       "      <th>zxWHIP</th>\n",
       "      <th>z</th>\n",
       "      <th>Value</th>\n",
       "    </tr>\n",
       "  </thead>\n",
       "  <tbody>\n",
       "    <tr>\n",
       "      <th>95</th>\n",
       "      <td>Edwin Diaz</td>\n",
       "      <td>NYM</td>\n",
       "      <td>4</td>\n",
       "      <td>3</td>\n",
       "      <td>33</td>\n",
       "      <td>2</td>\n",
       "      <td>2.92</td>\n",
       "      <td>0</td>\n",
       "      <td>67</td>\n",
       "      <td>67.0</td>\n",
       "      <td>47</td>\n",
       "      <td>22</td>\n",
       "      <td>7</td>\n",
       "      <td>98</td>\n",
       "      <td>25</td>\n",
       "      <td>1.07</td>\n",
       "      <td>13.16</td>\n",
       "      <td>3.36</td>\n",
       "      <td>2.88</td>\n",
       "      <td>1.8</td>\n",
       "      <td>14710</td>\n",
       "      <td>RP</td>\n",
       "      <td>15.221505</td>\n",
       "      <td>35</td>\n",
       "      <td>242</td>\n",
       "      <td>RP</td>\n",
       "      <td>58.016296</td>\n",
       "      <td>10.860915</td>\n",
       "      <td>-1.245155</td>\n",
       "      <td>-0.980565</td>\n",
       "      <td>1.944845</td>\n",
       "      <td>0.879035</td>\n",
       "      <td>0.778649</td>\n",
       "      <td>3.250084</td>\n",
       "      <td>12.588667</td>\n",
       "    </tr>\n",
       "    <tr>\n",
       "      <th>99</th>\n",
       "      <td>Aroldis Chapman</td>\n",
       "      <td>NYY</td>\n",
       "      <td>4</td>\n",
       "      <td>2</td>\n",
       "      <td>32</td>\n",
       "      <td>2</td>\n",
       "      <td>2.92</td>\n",
       "      <td>0</td>\n",
       "      <td>64</td>\n",
       "      <td>64.0</td>\n",
       "      <td>42</td>\n",
       "      <td>21</td>\n",
       "      <td>6</td>\n",
       "      <td>98</td>\n",
       "      <td>32</td>\n",
       "      <td>1.16</td>\n",
       "      <td>13.71</td>\n",
       "      <td>4.48</td>\n",
       "      <td>3.05</td>\n",
       "      <td>1.7</td>\n",
       "      <td>10233</td>\n",
       "      <td>RP</td>\n",
       "      <td>13.301703</td>\n",
       "      <td>34</td>\n",
       "      <td>238</td>\n",
       "      <td>RP</td>\n",
       "      <td>55.552880</td>\n",
       "      <td>5.150725</td>\n",
       "      <td>-1.245155</td>\n",
       "      <td>-0.980565</td>\n",
       "      <td>1.869990</td>\n",
       "      <td>0.841711</td>\n",
       "      <td>0.369270</td>\n",
       "      <td>2.728525</td>\n",
       "      <td>10.568494</td>\n",
       "    </tr>\n",
       "    <tr>\n",
       "      <th>64</th>\n",
       "      <td>Liam Hendriks</td>\n",
       "      <td>CHW</td>\n",
       "      <td>4</td>\n",
       "      <td>3</td>\n",
       "      <td>29</td>\n",
       "      <td>2</td>\n",
       "      <td>2.85</td>\n",
       "      <td>0</td>\n",
       "      <td>68</td>\n",
       "      <td>68.0</td>\n",
       "      <td>48</td>\n",
       "      <td>22</td>\n",
       "      <td>8</td>\n",
       "      <td>100</td>\n",
       "      <td>17</td>\n",
       "      <td>0.96</td>\n",
       "      <td>13.19</td>\n",
       "      <td>2.22</td>\n",
       "      <td>2.67</td>\n",
       "      <td>2.3</td>\n",
       "      <td>3548</td>\n",
       "      <td>RP</td>\n",
       "      <td>16.676213</td>\n",
       "      <td>31</td>\n",
       "      <td>228</td>\n",
       "      <td>RP</td>\n",
       "      <td>61.837435</td>\n",
       "      <td>19.097645</td>\n",
       "      <td>-1.245155</td>\n",
       "      <td>-0.943896</td>\n",
       "      <td>1.645425</td>\n",
       "      <td>0.936931</td>\n",
       "      <td>1.369163</td>\n",
       "      <td>3.635743</td>\n",
       "      <td>14.082454</td>\n",
       "    </tr>\n",
       "    <tr>\n",
       "      <th>71</th>\n",
       "      <td>Josh Hader</td>\n",
       "      <td>MIL</td>\n",
       "      <td>4</td>\n",
       "      <td>3</td>\n",
       "      <td>26</td>\n",
       "      <td>2</td>\n",
       "      <td>2.72</td>\n",
       "      <td>0</td>\n",
       "      <td>67</td>\n",
       "      <td>67.0</td>\n",
       "      <td>42</td>\n",
       "      <td>20</td>\n",
       "      <td>7</td>\n",
       "      <td>110</td>\n",
       "      <td>27</td>\n",
       "      <td>1.02</td>\n",
       "      <td>14.79</td>\n",
       "      <td>3.63</td>\n",
       "      <td>2.66</td>\n",
       "      <td>2.1</td>\n",
       "      <td>14212</td>\n",
       "      <td>RP</td>\n",
       "      <td>15.897362</td>\n",
       "      <td>28</td>\n",
       "      <td>226</td>\n",
       "      <td>RP</td>\n",
       "      <td>76.016296</td>\n",
       "      <td>13.860915</td>\n",
       "      <td>-1.245155</td>\n",
       "      <td>-0.760549</td>\n",
       "      <td>1.420860</td>\n",
       "      <td>1.151762</td>\n",
       "      <td>0.993727</td>\n",
       "      <td>3.433920</td>\n",
       "      <td>13.300727</td>\n",
       "    </tr>\n",
       "    <tr>\n",
       "      <th>115</th>\n",
       "      <td>Raisel Iglesias</td>\n",
       "      <td>LAA</td>\n",
       "      <td>4</td>\n",
       "      <td>3</td>\n",
       "      <td>31</td>\n",
       "      <td>2</td>\n",
       "      <td>3.25</td>\n",
       "      <td>0</td>\n",
       "      <td>68</td>\n",
       "      <td>68.0</td>\n",
       "      <td>54</td>\n",
       "      <td>25</td>\n",
       "      <td>9</td>\n",
       "      <td>87</td>\n",
       "      <td>19</td>\n",
       "      <td>1.08</td>\n",
       "      <td>11.58</td>\n",
       "      <td>2.58</td>\n",
       "      <td>3.28</td>\n",
       "      <td>1.5</td>\n",
       "      <td>17130</td>\n",
       "      <td>RP</td>\n",
       "      <td>12.668511</td>\n",
       "      <td>33</td>\n",
       "      <td>223</td>\n",
       "      <td>RP</td>\n",
       "      <td>34.837435</td>\n",
       "      <td>11.097645</td>\n",
       "      <td>-1.245155</td>\n",
       "      <td>-1.182246</td>\n",
       "      <td>1.795135</td>\n",
       "      <td>0.527840</td>\n",
       "      <td>0.795621</td>\n",
       "      <td>2.564470</td>\n",
       "      <td>9.933052</td>\n",
       "    </tr>\n",
       "    <tr>\n",
       "      <th>...</th>\n",
       "      <td>...</td>\n",
       "      <td>...</td>\n",
       "      <td>...</td>\n",
       "      <td>...</td>\n",
       "      <td>...</td>\n",
       "      <td>...</td>\n",
       "      <td>...</td>\n",
       "      <td>...</td>\n",
       "      <td>...</td>\n",
       "      <td>...</td>\n",
       "      <td>...</td>\n",
       "      <td>...</td>\n",
       "      <td>...</td>\n",
       "      <td>...</td>\n",
       "      <td>...</td>\n",
       "      <td>...</td>\n",
       "      <td>...</td>\n",
       "      <td>...</td>\n",
       "      <td>...</td>\n",
       "      <td>...</td>\n",
       "      <td>...</td>\n",
       "      <td>...</td>\n",
       "      <td>...</td>\n",
       "      <td>...</td>\n",
       "      <td>...</td>\n",
       "      <td>...</td>\n",
       "      <td>...</td>\n",
       "      <td>...</td>\n",
       "      <td>...</td>\n",
       "      <td>...</td>\n",
       "      <td>...</td>\n",
       "      <td>...</td>\n",
       "      <td>...</td>\n",
       "      <td>...</td>\n",
       "      <td>...</td>\n",
       "    </tr>\n",
       "    <tr>\n",
       "      <th>553</th>\n",
       "      <td>Ryne Harper</td>\n",
       "      <td>NaN</td>\n",
       "      <td>2</td>\n",
       "      <td>2</td>\n",
       "      <td>0</td>\n",
       "      <td>0</td>\n",
       "      <td>4.71</td>\n",
       "      <td>0</td>\n",
       "      <td>38</td>\n",
       "      <td>38.0</td>\n",
       "      <td>39</td>\n",
       "      <td>20</td>\n",
       "      <td>6</td>\n",
       "      <td>32</td>\n",
       "      <td>14</td>\n",
       "      <td>1.40</td>\n",
       "      <td>7.61</td>\n",
       "      <td>3.38</td>\n",
       "      <td>4.77</td>\n",
       "      <td>0.0</td>\n",
       "      <td>12680</td>\n",
       "      <td>RP</td>\n",
       "      <td>-8.925814</td>\n",
       "      <td>0</td>\n",
       "      <td>34</td>\n",
       "      <td>RP</td>\n",
       "      <td>-34.796727</td>\n",
       "      <td>-6.004257</td>\n",
       "      <td>-1.775635</td>\n",
       "      <td>-2.190653</td>\n",
       "      <td>-0.675082</td>\n",
       "      <td>-0.527223</td>\n",
       "      <td>-0.430462</td>\n",
       "      <td>-3.725780</td>\n",
       "      <td>-14.431195</td>\n",
       "    </tr>\n",
       "    <tr>\n",
       "      <th>524</th>\n",
       "      <td>Alex Claudio</td>\n",
       "      <td>NaN</td>\n",
       "      <td>2</td>\n",
       "      <td>2</td>\n",
       "      <td>0</td>\n",
       "      <td>0</td>\n",
       "      <td>4.18</td>\n",
       "      <td>0</td>\n",
       "      <td>40</td>\n",
       "      <td>40.0</td>\n",
       "      <td>42</td>\n",
       "      <td>19</td>\n",
       "      <td>4</td>\n",
       "      <td>31</td>\n",
       "      <td>15</td>\n",
       "      <td>1.43</td>\n",
       "      <td>6.90</td>\n",
       "      <td>3.41</td>\n",
       "      <td>4.34</td>\n",
       "      <td>0.0</td>\n",
       "      <td>12890</td>\n",
       "      <td>RP</td>\n",
       "      <td>-8.373443</td>\n",
       "      <td>0</td>\n",
       "      <td>33</td>\n",
       "      <td>RP</td>\n",
       "      <td>-18.154450</td>\n",
       "      <td>-7.530797</td>\n",
       "      <td>-1.775635</td>\n",
       "      <td>-2.208987</td>\n",
       "      <td>-0.675082</td>\n",
       "      <td>-0.275067</td>\n",
       "      <td>-0.539904</td>\n",
       "      <td>-3.601400</td>\n",
       "      <td>-13.949433</td>\n",
       "    </tr>\n",
       "    <tr>\n",
       "      <th>551</th>\n",
       "      <td>Robert Gsellman</td>\n",
       "      <td>NaN</td>\n",
       "      <td>2</td>\n",
       "      <td>2</td>\n",
       "      <td>0</td>\n",
       "      <td>0</td>\n",
       "      <td>4.65</td>\n",
       "      <td>0</td>\n",
       "      <td>39</td>\n",
       "      <td>39.0</td>\n",
       "      <td>41</td>\n",
       "      <td>20</td>\n",
       "      <td>6</td>\n",
       "      <td>31</td>\n",
       "      <td>14</td>\n",
       "      <td>1.43</td>\n",
       "      <td>7.16</td>\n",
       "      <td>3.33</td>\n",
       "      <td>4.70</td>\n",
       "      <td>0.0</td>\n",
       "      <td>13696</td>\n",
       "      <td>RP</td>\n",
       "      <td>-8.959704</td>\n",
       "      <td>0</td>\n",
       "      <td>33</td>\n",
       "      <td>RP</td>\n",
       "      <td>-30.975589</td>\n",
       "      <td>-6.767527</td>\n",
       "      <td>-1.775635</td>\n",
       "      <td>-2.208987</td>\n",
       "      <td>-0.675082</td>\n",
       "      <td>-0.469327</td>\n",
       "      <td>-0.485183</td>\n",
       "      <td>-3.740939</td>\n",
       "      <td>-14.489913</td>\n",
       "    </tr>\n",
       "    <tr>\n",
       "      <th>521</th>\n",
       "      <td>Matt Peacock</td>\n",
       "      <td>ARI</td>\n",
       "      <td>2</td>\n",
       "      <td>2</td>\n",
       "      <td>0</td>\n",
       "      <td>1</td>\n",
       "      <td>4.33</td>\n",
       "      <td>0</td>\n",
       "      <td>36</td>\n",
       "      <td>36.0</td>\n",
       "      <td>40</td>\n",
       "      <td>17</td>\n",
       "      <td>4</td>\n",
       "      <td>26</td>\n",
       "      <td>13</td>\n",
       "      <td>1.45</td>\n",
       "      <td>6.49</td>\n",
       "      <td>3.15</td>\n",
       "      <td>4.27</td>\n",
       "      <td>0.0</td>\n",
       "      <td>20339</td>\n",
       "      <td>RP</td>\n",
       "      <td>-8.670840</td>\n",
       "      <td>1</td>\n",
       "      <td>32</td>\n",
       "      <td>RP</td>\n",
       "      <td>-15.439005</td>\n",
       "      <td>-8.477717</td>\n",
       "      <td>-1.775635</td>\n",
       "      <td>-2.300661</td>\n",
       "      <td>-0.600227</td>\n",
       "      <td>-0.233924</td>\n",
       "      <td>-0.607791</td>\n",
       "      <td>-3.644963</td>\n",
       "      <td>-14.118165</td>\n",
       "    </tr>\n",
       "    <tr>\n",
       "      <th>562</th>\n",
       "      <td>Adam Kolarek</td>\n",
       "      <td>OAK</td>\n",
       "      <td>2</td>\n",
       "      <td>2</td>\n",
       "      <td>0</td>\n",
       "      <td>1</td>\n",
       "      <td>4.35</td>\n",
       "      <td>0</td>\n",
       "      <td>38</td>\n",
       "      <td>38.0</td>\n",
       "      <td>41</td>\n",
       "      <td>18</td>\n",
       "      <td>4</td>\n",
       "      <td>24</td>\n",
       "      <td>15</td>\n",
       "      <td>1.47</td>\n",
       "      <td>5.77</td>\n",
       "      <td>3.52</td>\n",
       "      <td>4.66</td>\n",
       "      <td>0.0</td>\n",
       "      <td>10843</td>\n",
       "      <td>RP</td>\n",
       "      <td>-9.035577</td>\n",
       "      <td>1</td>\n",
       "      <td>30</td>\n",
       "      <td>RP</td>\n",
       "      <td>-16.796727</td>\n",
       "      <td>-9.004257</td>\n",
       "      <td>-1.775635</td>\n",
       "      <td>-2.337330</td>\n",
       "      <td>-0.600227</td>\n",
       "      <td>-0.254496</td>\n",
       "      <td>-0.645540</td>\n",
       "      <td>-3.739953</td>\n",
       "      <td>-14.486093</td>\n",
       "    </tr>\n",
       "  </tbody>\n",
       "</table>\n",
       "<p>325 rows × 35 columns</p>\n",
       "</div>"
      ],
      "text/plain": [
       "                Name Team  W  L  SV  HLD   ERA  GS   G    IP   H  ER  HR   SO  \\\n",
       "95        Edwin Diaz  NYM  4  3  33    2  2.92   0  67  67.0  47  22   7   98   \n",
       "99   Aroldis Chapman  NYY  4  2  32    2  2.92   0  64  64.0  42  21   6   98   \n",
       "64     Liam Hendriks  CHW  4  3  29    2  2.85   0  68  68.0  48  22   8  100   \n",
       "71        Josh Hader  MIL  4  3  26    2  2.72   0  67  67.0  42  20   7  110   \n",
       "115  Raisel Iglesias  LAA  4  3  31    2  3.25   0  68  68.0  54  25   9   87   \n",
       "..               ...  ... .. ..  ..  ...   ...  ..  ..   ...  ..  ..  ..  ...   \n",
       "553      Ryne Harper  NaN  2  2   0    0  4.71   0  38  38.0  39  20   6   32   \n",
       "524     Alex Claudio  NaN  2  2   0    0  4.18   0  40  40.0  42  19   4   31   \n",
       "551  Robert Gsellman  NaN  2  2   0    0  4.65   0  39  39.0  41  20   6   31   \n",
       "521     Matt Peacock  ARI  2  2   0    1  4.33   0  36  36.0  40  17   4   26   \n",
       "562     Adam Kolarek  OAK  2  2   0    1  4.35   0  38  38.0  41  18   4   24   \n",
       "\n",
       "     BB  WHIP    K/9  BB/9   FIP  WAR playerid Pos    Dollars  Sv+Hld  sorter  \\\n",
       "95   25  1.07  13.16  3.36  2.88  1.8    14710  RP  15.221505      35     242   \n",
       "99   32  1.16  13.71  4.48  3.05  1.7    10233  RP  13.301703      34     238   \n",
       "64   17  0.96  13.19  2.22  2.67  2.3     3548  RP  16.676213      31     228   \n",
       "71   27  1.02  14.79  3.63  2.66  2.1    14212  RP  15.897362      28     226   \n",
       "115  19  1.08  11.58  2.58  3.28  1.5    17130  RP  12.668511      33     223   \n",
       "..   ..   ...    ...   ...   ...  ...      ...  ..        ...     ...     ...   \n",
       "553  14  1.40   7.61  3.38  4.77  0.0    12680  RP  -8.925814       0      34   \n",
       "524  15  1.43   6.90  3.41  4.34  0.0    12890  RP  -8.373443       0      33   \n",
       "551  14  1.43   7.16  3.33  4.70  0.0    13696  RP  -8.959704       0      33   \n",
       "521  13  1.45   6.49  3.15  4.27  0.0    20339  RP  -8.670840       1      32   \n",
       "562  15  1.47   5.77  3.52  4.66  0.0    10843  RP  -9.035577       1      30   \n",
       "\n",
       "    Primary_Pos        xER      xWHIP        zW       zSO   zSv+Hld      zxER  \\\n",
       "95           RP  58.016296  10.860915 -1.245155 -0.980565  1.944845  0.879035   \n",
       "99           RP  55.552880   5.150725 -1.245155 -0.980565  1.869990  0.841711   \n",
       "64           RP  61.837435  19.097645 -1.245155 -0.943896  1.645425  0.936931   \n",
       "71           RP  76.016296  13.860915 -1.245155 -0.760549  1.420860  1.151762   \n",
       "115          RP  34.837435  11.097645 -1.245155 -1.182246  1.795135  0.527840   \n",
       "..          ...        ...        ...       ...       ...       ...       ...   \n",
       "553          RP -34.796727  -6.004257 -1.775635 -2.190653 -0.675082 -0.527223   \n",
       "524          RP -18.154450  -7.530797 -1.775635 -2.208987 -0.675082 -0.275067   \n",
       "551          RP -30.975589  -6.767527 -1.775635 -2.208987 -0.675082 -0.469327   \n",
       "521          RP -15.439005  -8.477717 -1.775635 -2.300661 -0.600227 -0.233924   \n",
       "562          RP -16.796727  -9.004257 -1.775635 -2.337330 -0.600227 -0.254496   \n",
       "\n",
       "       zxWHIP         z      Value  \n",
       "95   0.778649  3.250084  12.588667  \n",
       "99   0.369270  2.728525  10.568494  \n",
       "64   1.369163  3.635743  14.082454  \n",
       "71   0.993727  3.433920  13.300727  \n",
       "115  0.795621  2.564470   9.933052  \n",
       "..        ...       ...        ...  \n",
       "553 -0.430462 -3.725780 -14.431195  \n",
       "524 -0.539904 -3.601400 -13.949433  \n",
       "551 -0.485183 -3.740939 -14.489913  \n",
       "521 -0.607791 -3.644963 -14.118165  \n",
       "562 -0.645540 -3.739953 -14.486093  \n",
       "\n",
       "[325 rows x 35 columns]"
      ]
     },
     "execution_count": 82,
     "metadata": {},
     "output_type": "execute_result"
    }
   ],
   "source": [
    "p[(p['Primary_Pos']=='RP')]"
   ]
  },
  {
   "cell_type": "code",
   "execution_count": 25,
   "id": "afcbb673",
   "metadata": {},
   "outputs": [
    {
     "data": {
      "text/plain": [
       "<sqlalchemy.engine.cursor.LegacyCursorResult at 0x1bf2e19f6a0>"
      ]
     },
     "execution_count": 25,
     "metadata": {},
     "output_type": "execute_result"
    }
   ],
   "source": [
    "from sqlalchemy import text\n",
    "pid = '19611'\n",
    "price = 38\n",
    "owner = 'Harvey'\n",
    "t = text(\"UPDATE hitting SET Owner='\"+owner+\"', Paid=\"+str(price)+\" WHERE playerid='\"+pid+\"'\")\n",
    "result = conn.execute(t)\n",
    "result"
   ]
  },
  {
   "cell_type": "code",
   "execution_count": 26,
   "id": "7bcb108f",
   "metadata": {},
   "outputs": [
    {
     "data": {
      "text/html": [
       "<div>\n",
       "<style scoped>\n",
       "    .dataframe tbody tr th:only-of-type {\n",
       "        vertical-align: middle;\n",
       "    }\n",
       "\n",
       "    .dataframe tbody tr th {\n",
       "        vertical-align: top;\n",
       "    }\n",
       "\n",
       "    .dataframe thead th {\n",
       "        text-align: right;\n",
       "    }\n",
       "</style>\n",
       "<table border=\"1\" class=\"dataframe\">\n",
       "  <thead>\n",
       "    <tr style=\"text-align: right;\">\n",
       "      <th></th>\n",
       "      <th>index</th>\n",
       "      <th>Name</th>\n",
       "      <th>Team</th>\n",
       "      <th>G</th>\n",
       "      <th>PA</th>\n",
       "      <th>AB</th>\n",
       "      <th>H</th>\n",
       "      <th>2B</th>\n",
       "      <th>3B</th>\n",
       "      <th>HR</th>\n",
       "      <th>R</th>\n",
       "      <th>RBI</th>\n",
       "      <th>BB</th>\n",
       "      <th>SO</th>\n",
       "      <th>HBP</th>\n",
       "      <th>SB</th>\n",
       "      <th>AVG</th>\n",
       "      <th>OBP</th>\n",
       "      <th>SLG</th>\n",
       "      <th>OPS</th>\n",
       "      <th>WAR</th>\n",
       "      <th>playerid</th>\n",
       "      <th>sorter</th>\n",
       "      <th>Pos</th>\n",
       "      <th>Dollars</th>\n",
       "      <th>Primary_Pos</th>\n",
       "      <th>Used</th>\n",
       "      <th>BA</th>\n",
       "      <th>zPA</th>\n",
       "      <th>zAB</th>\n",
       "      <th>zBA</th>\n",
       "      <th>zHR</th>\n",
       "      <th>zRBI</th>\n",
       "      <th>zR</th>\n",
       "      <th>zSB</th>\n",
       "      <th>z</th>\n",
       "      <th>Value</th>\n",
       "      <th>Owner</th>\n",
       "      <th>Paid</th>\n",
       "    </tr>\n",
       "  </thead>\n",
       "  <tbody>\n",
       "    <tr>\n",
       "      <th>0</th>\n",
       "      <td>3</td>\n",
       "      <td>Vladimir Guerrero Jr.</td>\n",
       "      <td>TOR</td>\n",
       "      <td>154</td>\n",
       "      <td>665</td>\n",
       "      <td>575</td>\n",
       "      <td>178</td>\n",
       "      <td>31</td>\n",
       "      <td>2</td>\n",
       "      <td>44</td>\n",
       "      <td>109</td>\n",
       "      <td>122</td>\n",
       "      <td>77</td>\n",
       "      <td>102</td>\n",
       "      <td>6</td>\n",
       "      <td>4</td>\n",
       "      <td>0.309</td>\n",
       "      <td>0.394</td>\n",
       "      <td>0.598</td>\n",
       "      <td>0.992</td>\n",
       "      <td>6.0</td>\n",
       "      <td>19611</td>\n",
       "      <td>457</td>\n",
       "      <td>1B, DH</td>\n",
       "      <td>40.252202</td>\n",
       "      <td>1B</td>\n",
       "      <td>True</td>\n",
       "      <td>33.335606</td>\n",
       "      <td>0.469136</td>\n",
       "      <td>0.066225</td>\n",
       "      <td>2.389664</td>\n",
       "      <td>1.854545</td>\n",
       "      <td>2.071429</td>\n",
       "      <td>2.022727</td>\n",
       "      <td>0.476190</td>\n",
       "      <td>14.063823</td>\n",
       "      <td>54.473907</td>\n",
       "      <td>Harvey</td>\n",
       "      <td>38</td>\n",
       "    </tr>\n",
       "    <tr>\n",
       "      <th>1</th>\n",
       "      <td>1</td>\n",
       "      <td>Fernando Tatis Jr.</td>\n",
       "      <td>SDP</td>\n",
       "      <td>151</td>\n",
       "      <td>651</td>\n",
       "      <td>564</td>\n",
       "      <td>158</td>\n",
       "      <td>30</td>\n",
       "      <td>2</td>\n",
       "      <td>44</td>\n",
       "      <td>112</td>\n",
       "      <td>103</td>\n",
       "      <td>72</td>\n",
       "      <td>161</td>\n",
       "      <td>7</td>\n",
       "      <td>25</td>\n",
       "      <td>0.281</td>\n",
       "      <td>0.366</td>\n",
       "      <td>0.575</td>\n",
       "      <td>0.941</td>\n",
       "      <td>6.7</td>\n",
       "      <td>19709</td>\n",
       "      <td>442</td>\n",
       "      <td>SS, OF</td>\n",
       "      <td>40.784208</td>\n",
       "      <td>OF</td>\n",
       "      <td>True</td>\n",
       "      <td>17.161705</td>\n",
       "      <td>1.085635</td>\n",
       "      <td>0.795666</td>\n",
       "      <td>1.153108</td>\n",
       "      <td>2.100000</td>\n",
       "      <td>1.459854</td>\n",
       "      <td>2.669643</td>\n",
       "      <td>2.208333</td>\n",
       "      <td>13.641913</td>\n",
       "      <td>52.839708</td>\n",
       "      <td>None</td>\n",
       "      <td>None</td>\n",
       "    </tr>\n",
       "    <tr>\n",
       "      <th>2</th>\n",
       "      <td>0</td>\n",
       "      <td>Juan Soto</td>\n",
       "      <td>WSN</td>\n",
       "      <td>154</td>\n",
       "      <td>665</td>\n",
       "      <td>519</td>\n",
       "      <td>161</td>\n",
       "      <td>29</td>\n",
       "      <td>2</td>\n",
       "      <td>37</td>\n",
       "      <td>112</td>\n",
       "      <td>106</td>\n",
       "      <td>135</td>\n",
       "      <td>96</td>\n",
       "      <td>5</td>\n",
       "      <td>12</td>\n",
       "      <td>0.310</td>\n",
       "      <td>0.453</td>\n",
       "      <td>0.586</td>\n",
       "      <td>1.039</td>\n",
       "      <td>7.2</td>\n",
       "      <td>20123</td>\n",
       "      <td>428</td>\n",
       "      <td>OF</td>\n",
       "      <td>37.932103</td>\n",
       "      <td>OF</td>\n",
       "      <td>True</td>\n",
       "      <td>31.398803</td>\n",
       "      <td>1.472376</td>\n",
       "      <td>-0.597523</td>\n",
       "      <td>2.548902</td>\n",
       "      <td>1.225000</td>\n",
       "      <td>1.678832</td>\n",
       "      <td>2.669643</td>\n",
       "      <td>0.402778</td>\n",
       "      <td>12.576129</td>\n",
       "      <td>48.711571</td>\n",
       "      <td>None</td>\n",
       "      <td>None</td>\n",
       "    </tr>\n",
       "    <tr>\n",
       "      <th>3</th>\n",
       "      <td>13</td>\n",
       "      <td>Rafael Devers</td>\n",
       "      <td>BOS</td>\n",
       "      <td>154</td>\n",
       "      <td>665</td>\n",
       "      <td>593</td>\n",
       "      <td>165</td>\n",
       "      <td>37</td>\n",
       "      <td>2</td>\n",
       "      <td>37</td>\n",
       "      <td>97</td>\n",
       "      <td>108</td>\n",
       "      <td>58</td>\n",
       "      <td>136</td>\n",
       "      <td>7</td>\n",
       "      <td>6</td>\n",
       "      <td>0.278</td>\n",
       "      <td>0.346</td>\n",
       "      <td>0.534</td>\n",
       "      <td>0.880</td>\n",
       "      <td>4.8</td>\n",
       "      <td>17350</td>\n",
       "      <td>413</td>\n",
       "      <td>3B</td>\n",
       "      <td>27.907182</td>\n",
       "      <td>3B</td>\n",
       "      <td>True</td>\n",
       "      <td>16.010347</td>\n",
       "      <td>0.900344</td>\n",
       "      <td>1.043333</td>\n",
       "      <td>0.901833</td>\n",
       "      <td>1.260274</td>\n",
       "      <td>1.455882</td>\n",
       "      <td>1.447368</td>\n",
       "      <td>-0.278689</td>\n",
       "      <td>7.643909</td>\n",
       "      <td>29.607424</td>\n",
       "      <td>None</td>\n",
       "      <td>None</td>\n",
       "    </tr>\n",
       "    <tr>\n",
       "      <th>4</th>\n",
       "      <td>17</td>\n",
       "      <td>Bo Bichette</td>\n",
       "      <td>TOR</td>\n",
       "      <td>152</td>\n",
       "      <td>658</td>\n",
       "      <td>601</td>\n",
       "      <td>176</td>\n",
       "      <td>36</td>\n",
       "      <td>2</td>\n",
       "      <td>28</td>\n",
       "      <td>96</td>\n",
       "      <td>94</td>\n",
       "      <td>43</td>\n",
       "      <td>121</td>\n",
       "      <td>6</td>\n",
       "      <td>17</td>\n",
       "      <td>0.292</td>\n",
       "      <td>0.343</td>\n",
       "      <td>0.496</td>\n",
       "      <td>0.839</td>\n",
       "      <td>4.7</td>\n",
       "      <td>19612</td>\n",
       "      <td>411</td>\n",
       "      <td>SS, DH</td>\n",
       "      <td>28.080286</td>\n",
       "      <td>SS</td>\n",
       "      <td>True</td>\n",
       "      <td>22.819346</td>\n",
       "      <td>0.762542</td>\n",
       "      <td>1.044218</td>\n",
       "      <td>1.601935</td>\n",
       "      <td>0.900000</td>\n",
       "      <td>1.367089</td>\n",
       "      <td>1.632911</td>\n",
       "      <td>0.900000</td>\n",
       "      <td>11.621147</td>\n",
       "      <td>45.012602</td>\n",
       "      <td>None</td>\n",
       "      <td>None</td>\n",
       "    </tr>\n",
       "    <tr>\n",
       "      <th>...</th>\n",
       "      <td>...</td>\n",
       "      <td>...</td>\n",
       "      <td>...</td>\n",
       "      <td>...</td>\n",
       "      <td>...</td>\n",
       "      <td>...</td>\n",
       "      <td>...</td>\n",
       "      <td>...</td>\n",
       "      <td>...</td>\n",
       "      <td>...</td>\n",
       "      <td>...</td>\n",
       "      <td>...</td>\n",
       "      <td>...</td>\n",
       "      <td>...</td>\n",
       "      <td>...</td>\n",
       "      <td>...</td>\n",
       "      <td>...</td>\n",
       "      <td>...</td>\n",
       "      <td>...</td>\n",
       "      <td>...</td>\n",
       "      <td>...</td>\n",
       "      <td>...</td>\n",
       "      <td>...</td>\n",
       "      <td>...</td>\n",
       "      <td>...</td>\n",
       "      <td>...</td>\n",
       "      <td>...</td>\n",
       "      <td>...</td>\n",
       "      <td>...</td>\n",
       "      <td>...</td>\n",
       "      <td>...</td>\n",
       "      <td>...</td>\n",
       "      <td>...</td>\n",
       "      <td>...</td>\n",
       "      <td>...</td>\n",
       "      <td>...</td>\n",
       "      <td>...</td>\n",
       "      <td>...</td>\n",
       "      <td>...</td>\n",
       "    </tr>\n",
       "    <tr>\n",
       "      <th>623</th>\n",
       "      <td>585</td>\n",
       "      <td>Jacob Amaya</td>\n",
       "      <td>LAD</td>\n",
       "      <td>2</td>\n",
       "      <td>7</td>\n",
       "      <td>6</td>\n",
       "      <td>1</td>\n",
       "      <td>0</td>\n",
       "      <td>0</td>\n",
       "      <td>0</td>\n",
       "      <td>1</td>\n",
       "      <td>1</td>\n",
       "      <td>1</td>\n",
       "      <td>2</td>\n",
       "      <td>0</td>\n",
       "      <td>0</td>\n",
       "      <td>0.228</td>\n",
       "      <td>0.291</td>\n",
       "      <td>0.368</td>\n",
       "      <td>0.659</td>\n",
       "      <td>0.0</td>\n",
       "      <td>sa3005081</td>\n",
       "      <td>3</td>\n",
       "      <td>SS</td>\n",
       "      <td>-34.996832</td>\n",
       "      <td>SS</td>\n",
       "      <td>False</td>\n",
       "      <td>-0.600818</td>\n",
       "      <td>-21.010033</td>\n",
       "      <td>-19.193878</td>\n",
       "      <td>-0.740082</td>\n",
       "      <td>-6.100000</td>\n",
       "      <td>-10.405063</td>\n",
       "      <td>-10.392405</td>\n",
       "      <td>-1.528571</td>\n",
       "      <td>-29.166122</td>\n",
       "      <td>-112.970179</td>\n",
       "      <td>None</td>\n",
       "      <td>None</td>\n",
       "    </tr>\n",
       "    <tr>\n",
       "      <th>624</th>\n",
       "      <td>569</td>\n",
       "      <td>Andy Young</td>\n",
       "      <td>ARI</td>\n",
       "      <td>2</td>\n",
       "      <td>7</td>\n",
       "      <td>6</td>\n",
       "      <td>1</td>\n",
       "      <td>0</td>\n",
       "      <td>0</td>\n",
       "      <td>0</td>\n",
       "      <td>1</td>\n",
       "      <td>1</td>\n",
       "      <td>0</td>\n",
       "      <td>2</td>\n",
       "      <td>0</td>\n",
       "      <td>0</td>\n",
       "      <td>0.221</td>\n",
       "      <td>0.291</td>\n",
       "      <td>0.399</td>\n",
       "      <td>0.690</td>\n",
       "      <td>0.0</td>\n",
       "      <td>19521</td>\n",
       "      <td>3</td>\n",
       "      <td>2B</td>\n",
       "      <td>-35.270584</td>\n",
       "      <td>2B</td>\n",
       "      <td>False</td>\n",
       "      <td>-0.617596</td>\n",
       "      <td>-38.389222</td>\n",
       "      <td>-28.686869</td>\n",
       "      <td>-0.922454</td>\n",
       "      <td>-4.921569</td>\n",
       "      <td>-9.728395</td>\n",
       "      <td>-9.911111</td>\n",
       "      <td>-1.594937</td>\n",
       "      <td>-27.078466</td>\n",
       "      <td>-104.883986</td>\n",
       "      <td>None</td>\n",
       "      <td>None</td>\n",
       "    </tr>\n",
       "    <tr>\n",
       "      <th>625</th>\n",
       "      <td>564</td>\n",
       "      <td>Brett Sullivan</td>\n",
       "      <td>MIL</td>\n",
       "      <td>2</td>\n",
       "      <td>6</td>\n",
       "      <td>6</td>\n",
       "      <td>1</td>\n",
       "      <td>0</td>\n",
       "      <td>0</td>\n",
       "      <td>0</td>\n",
       "      <td>1</td>\n",
       "      <td>1</td>\n",
       "      <td>0</td>\n",
       "      <td>1</td>\n",
       "      <td>0</td>\n",
       "      <td>0</td>\n",
       "      <td>0.231</td>\n",
       "      <td>0.285</td>\n",
       "      <td>0.358</td>\n",
       "      <td>0.643</td>\n",
       "      <td>0.0</td>\n",
       "      <td>sa857232</td>\n",
       "      <td>3</td>\n",
       "      <td>C</td>\n",
       "      <td>-25.916788</td>\n",
       "      <td>C</td>\n",
       "      <td>False</td>\n",
       "      <td>-0.499706</td>\n",
       "      <td>-7.479624</td>\n",
       "      <td>-6.920792</td>\n",
       "      <td>-1.166612</td>\n",
       "      <td>-3.433333</td>\n",
       "      <td>-4.615942</td>\n",
       "      <td>-5.772277</td>\n",
       "      <td>-1.107143</td>\n",
       "      <td>-16.095308</td>\n",
       "      <td>-62.342529</td>\n",
       "      <td>None</td>\n",
       "      <td>None</td>\n",
       "    </tr>\n",
       "    <tr>\n",
       "      <th>626</th>\n",
       "      <td>563</td>\n",
       "      <td>Chadwick Tromp</td>\n",
       "      <td>ATL</td>\n",
       "      <td>2</td>\n",
       "      <td>6</td>\n",
       "      <td>6</td>\n",
       "      <td>1</td>\n",
       "      <td>0</td>\n",
       "      <td>0</td>\n",
       "      <td>0</td>\n",
       "      <td>1</td>\n",
       "      <td>1</td>\n",
       "      <td>0</td>\n",
       "      <td>2</td>\n",
       "      <td>0</td>\n",
       "      <td>0</td>\n",
       "      <td>0.225</td>\n",
       "      <td>0.275</td>\n",
       "      <td>0.367</td>\n",
       "      <td>0.641</td>\n",
       "      <td>0.0</td>\n",
       "      <td>16953</td>\n",
       "      <td>3</td>\n",
       "      <td>C</td>\n",
       "      <td>-25.916788</td>\n",
       "      <td>C</td>\n",
       "      <td>False</td>\n",
       "      <td>-0.499706</td>\n",
       "      <td>-7.479624</td>\n",
       "      <td>-6.920792</td>\n",
       "      <td>-1.166612</td>\n",
       "      <td>-3.433333</td>\n",
       "      <td>-4.615942</td>\n",
       "      <td>-5.772277</td>\n",
       "      <td>-1.107143</td>\n",
       "      <td>-16.095308</td>\n",
       "      <td>-62.342529</td>\n",
       "      <td>None</td>\n",
       "      <td>None</td>\n",
       "    </tr>\n",
       "    <tr>\n",
       "      <th>627</th>\n",
       "      <td>556</td>\n",
       "      <td>Kyle Stowers</td>\n",
       "      <td>BAL</td>\n",
       "      <td>2</td>\n",
       "      <td>7</td>\n",
       "      <td>6</td>\n",
       "      <td>1</td>\n",
       "      <td>0</td>\n",
       "      <td>0</td>\n",
       "      <td>0</td>\n",
       "      <td>1</td>\n",
       "      <td>1</td>\n",
       "      <td>1</td>\n",
       "      <td>2</td>\n",
       "      <td>0</td>\n",
       "      <td>0</td>\n",
       "      <td>0.241</td>\n",
       "      <td>0.313</td>\n",
       "      <td>0.437</td>\n",
       "      <td>0.750</td>\n",
       "      <td>0.0</td>\n",
       "      <td>sa1115829</td>\n",
       "      <td>3</td>\n",
       "      <td>OF</td>\n",
       "      <td>-34.421197</td>\n",
       "      <td>OF</td>\n",
       "      <td>False</td>\n",
       "      <td>-0.558659</td>\n",
       "      <td>-16.704420</td>\n",
       "      <td>-16.479876</td>\n",
       "      <td>-0.584182</td>\n",
       "      <td>-3.400000</td>\n",
       "      <td>-5.985401</td>\n",
       "      <td>-7.241071</td>\n",
       "      <td>-1.263889</td>\n",
       "      <td>-18.474544</td>\n",
       "      <td>-71.558110</td>\n",
       "      <td>None</td>\n",
       "      <td>None</td>\n",
       "    </tr>\n",
       "  </tbody>\n",
       "</table>\n",
       "<p>628 rows × 39 columns</p>\n",
       "</div>"
      ],
      "text/plain": [
       "     index                   Name Team    G   PA   AB    H  2B  3B  HR    R  \\\n",
       "0        3  Vladimir Guerrero Jr.  TOR  154  665  575  178  31   2  44  109   \n",
       "1        1     Fernando Tatis Jr.  SDP  151  651  564  158  30   2  44  112   \n",
       "2        0              Juan Soto  WSN  154  665  519  161  29   2  37  112   \n",
       "3       13          Rafael Devers  BOS  154  665  593  165  37   2  37   97   \n",
       "4       17            Bo Bichette  TOR  152  658  601  176  36   2  28   96   \n",
       "..     ...                    ...  ...  ...  ...  ...  ...  ..  ..  ..  ...   \n",
       "623    585            Jacob Amaya  LAD    2    7    6    1   0   0   0    1   \n",
       "624    569             Andy Young  ARI    2    7    6    1   0   0   0    1   \n",
       "625    564         Brett Sullivan  MIL    2    6    6    1   0   0   0    1   \n",
       "626    563         Chadwick Tromp  ATL    2    6    6    1   0   0   0    1   \n",
       "627    556           Kyle Stowers  BAL    2    7    6    1   0   0   0    1   \n",
       "\n",
       "     RBI   BB   SO  HBP  SB    AVG    OBP    SLG    OPS  WAR   playerid  \\\n",
       "0    122   77  102    6   4  0.309  0.394  0.598  0.992  6.0      19611   \n",
       "1    103   72  161    7  25  0.281  0.366  0.575  0.941  6.7      19709   \n",
       "2    106  135   96    5  12  0.310  0.453  0.586  1.039  7.2      20123   \n",
       "3    108   58  136    7   6  0.278  0.346  0.534  0.880  4.8      17350   \n",
       "4     94   43  121    6  17  0.292  0.343  0.496  0.839  4.7      19612   \n",
       "..   ...  ...  ...  ...  ..    ...    ...    ...    ...  ...        ...   \n",
       "623    1    1    2    0   0  0.228  0.291  0.368  0.659  0.0  sa3005081   \n",
       "624    1    0    2    0   0  0.221  0.291  0.399  0.690  0.0      19521   \n",
       "625    1    0    1    0   0  0.231  0.285  0.358  0.643  0.0   sa857232   \n",
       "626    1    0    2    0   0  0.225  0.275  0.367  0.641  0.0      16953   \n",
       "627    1    1    2    0   0  0.241  0.313  0.437  0.750  0.0  sa1115829   \n",
       "\n",
       "     sorter     Pos    Dollars Primary_Pos   Used         BA        zPA  \\\n",
       "0       457  1B, DH  40.252202          1B   True  33.335606   0.469136   \n",
       "1       442  SS, OF  40.784208          OF   True  17.161705   1.085635   \n",
       "2       428      OF  37.932103          OF   True  31.398803   1.472376   \n",
       "3       413      3B  27.907182          3B   True  16.010347   0.900344   \n",
       "4       411  SS, DH  28.080286          SS   True  22.819346   0.762542   \n",
       "..      ...     ...        ...         ...    ...        ...        ...   \n",
       "623       3      SS -34.996832          SS  False  -0.600818 -21.010033   \n",
       "624       3      2B -35.270584          2B  False  -0.617596 -38.389222   \n",
       "625       3       C -25.916788           C  False  -0.499706  -7.479624   \n",
       "626       3       C -25.916788           C  False  -0.499706  -7.479624   \n",
       "627       3      OF -34.421197          OF  False  -0.558659 -16.704420   \n",
       "\n",
       "           zAB       zBA       zHR       zRBI         zR       zSB          z  \\\n",
       "0     0.066225  2.389664  1.854545   2.071429   2.022727  0.476190  14.063823   \n",
       "1     0.795666  1.153108  2.100000   1.459854   2.669643  2.208333  13.641913   \n",
       "2    -0.597523  2.548902  1.225000   1.678832   2.669643  0.402778  12.576129   \n",
       "3     1.043333  0.901833  1.260274   1.455882   1.447368 -0.278689   7.643909   \n",
       "4     1.044218  1.601935  0.900000   1.367089   1.632911  0.900000  11.621147   \n",
       "..         ...       ...       ...        ...        ...       ...        ...   \n",
       "623 -19.193878 -0.740082 -6.100000 -10.405063 -10.392405 -1.528571 -29.166122   \n",
       "624 -28.686869 -0.922454 -4.921569  -9.728395  -9.911111 -1.594937 -27.078466   \n",
       "625  -6.920792 -1.166612 -3.433333  -4.615942  -5.772277 -1.107143 -16.095308   \n",
       "626  -6.920792 -1.166612 -3.433333  -4.615942  -5.772277 -1.107143 -16.095308   \n",
       "627 -16.479876 -0.584182 -3.400000  -5.985401  -7.241071 -1.263889 -18.474544   \n",
       "\n",
       "          Value   Owner  Paid  \n",
       "0     54.473907  Harvey    38  \n",
       "1     52.839708    None  None  \n",
       "2     48.711571    None  None  \n",
       "3     29.607424    None  None  \n",
       "4     45.012602    None  None  \n",
       "..          ...     ...   ...  \n",
       "623 -112.970179    None  None  \n",
       "624 -104.883986    None  None  \n",
       "625  -62.342529    None  None  \n",
       "626  -62.342529    None  None  \n",
       "627  -71.558110    None  None  \n",
       "\n",
       "[628 rows x 39 columns]"
      ]
     },
     "execution_count": 26,
     "metadata": {},
     "output_type": "execute_result"
    }
   ],
   "source": [
    "pd.read_sql('hitting', conn)"
   ]
  },
  {
   "cell_type": "markdown",
   "id": "3200b728",
   "metadata": {},
   "source": [
    "https://leportella.com/sqlalchemy-tutorial/"
   ]
  },
  {
   "cell_type": "code",
   "execution_count": 5,
   "id": "479e1744",
   "metadata": {},
   "outputs": [],
   "source": [
    "from sqlalchemy import MetaData, text, Column, Integer, String, ForeignKey, Table, create_engine, Float, Boolean\n",
    "from sqlalchemy.orm import relationship, backref, sessionmaker\n",
    "from sqlalchemy.ext.declarative import declarative_base\n",
    "\n",
    "meta = MetaData()\n",
    "engine = create_engine('sqlite:///fantasy_data.db', echo=False)\n",
    "Session = sessionmaker(bind=engine)\n",
    "session = Session()\n",
    "Base = declarative_base()"
   ]
  },
  {
   "cell_type": "raw",
   "id": "56ba3f85",
   "metadata": {},
   "source": [
    "h.to_sql('hitting', conn, if_exists='replace')"
   ]
  },
  {
   "cell_type": "code",
   "execution_count": 120,
   "id": "3eff59fa",
   "metadata": {},
   "outputs": [],
   "source": [
    "#Creates a table on the DB\n",
    "meta = MetaData()\n",
    "drafted = Table('drafted', meta,\n",
    "                    Column('playerid', String, primary_key=True),\n",
    "                    Column('owner', String(25)),\n",
    "                    Column('cost', Integer),\n",
    "                    Column('pos', Integer),\n",
    ")\n",
    "meta.create_all(engine)"
   ]
  },
  {
   "cell_type": "code",
   "execution_count": 6,
   "id": "427147c5",
   "metadata": {},
   "outputs": [],
   "source": [
    "conn = engine.connect()"
   ]
  },
  {
   "cell_type": "code",
   "execution_count": 7,
   "id": "8d216f32",
   "metadata": {},
   "outputs": [],
   "source": [
    "#Creates a table on the DB\n",
    "meta = MetaData()\n",
    "hitters = Table('hitting', meta,\n",
    "                Column('playerid', String, primary_key=True),\n",
    "                #Column('name', String(50)),\n",
    "                #Column('team', String(20)),\n",
    "                #Column('pa', Integer),\n",
    "                #Column('ab', Integer),\n",
    "                #Column('ba', Float),\n",
    "                #Column('h', Integer),\n",
    "                #Column('hr', Integer),\n",
    "                #Column('r', Integer),\n",
    "                #Column('rbi', Integer),\n",
    "                #Column('sb', Integer),\n",
    "                Column('Paid', Integer),\n",
    "                Column('Owner', String(25)),\n",
    "                Column('Used', Boolean)\n",
    ")\n",
    "meta.create_all(engine)"
   ]
  },
  {
   "cell_type": "code",
   "execution_count": 97,
   "id": "0bf755cb",
   "metadata": {},
   "outputs": [
    {
     "data": {
      "text/plain": [
       "<sqlalchemy.engine.cursor.LegacyCursorResult at 0x20b4f2e50d0>"
      ]
     },
     "execution_count": 97,
     "metadata": {},
     "output_type": "execute_result"
    }
   ],
   "source": [
    "#conn.execute(hitters.delete().where(hitters.c.Used==None))"
   ]
  },
  {
   "cell_type": "code",
   "execution_count": 78,
   "id": "e3f62268",
   "metadata": {},
   "outputs": [
    {
     "data": {
      "text/plain": [
       "<sqlalchemy.engine.cursor.LegacyCursorResult at 0x20b4f2e5f10>"
      ]
     },
     "execution_count": 78,
     "metadata": {},
     "output_type": "execute_result"
    }
   ],
   "source": [
    "conn.execute(hitters.update().values(Paid=15, Owner='Harvey').where(hitters.c.playerid=='15172'))\n",
    "conn.execute(hitters.update().values(Paid=1, Owner='Harvey').where(hitters.c.playerid=='16375'))"
   ]
  },
  {
   "cell_type": "code",
   "execution_count": 8,
   "id": "b40d81c7",
   "metadata": {},
   "outputs": [
    {
     "data": {
      "text/html": [
       "<div>\n",
       "<style scoped>\n",
       "    .dataframe tbody tr th:only-of-type {\n",
       "        vertical-align: middle;\n",
       "    }\n",
       "\n",
       "    .dataframe tbody tr th {\n",
       "        vertical-align: top;\n",
       "    }\n",
       "\n",
       "    .dataframe thead th {\n",
       "        text-align: right;\n",
       "    }\n",
       "</style>\n",
       "<table border=\"1\" class=\"dataframe\">\n",
       "  <thead>\n",
       "    <tr style=\"text-align: right;\">\n",
       "      <th></th>\n",
       "      <th>Owner</th>\n",
       "      <th>Drafted</th>\n",
       "      <th>Paid</th>\n",
       "      <th>z</th>\n",
       "      <th>H</th>\n",
       "      <th>AB</th>\n",
       "      <th>HR</th>\n",
       "      <th>R</th>\n",
       "      <th>RBI</th>\n",
       "      <th>SB</th>\n",
       "      <th>$/unit</th>\n",
       "      <th>$ Left</th>\n",
       "      <th>BA</th>\n",
       "      <th>Rank</th>\n",
       "    </tr>\n",
       "  </thead>\n",
       "  <tbody>\n",
       "    <tr>\n",
       "      <th>0</th>\n",
       "      <td>Avg Joes</td>\n",
       "      <td>8</td>\n",
       "      <td>125.0</td>\n",
       "      <td>26.586737</td>\n",
       "      <td>1119</td>\n",
       "      <td>4297</td>\n",
       "      <td>187</td>\n",
       "      <td>644</td>\n",
       "      <td>622</td>\n",
       "      <td>104</td>\n",
       "      <td>4.701592</td>\n",
       "      <td>135.0</td>\n",
       "      <td>0.260414</td>\n",
       "      <td>36.5</td>\n",
       "    </tr>\n",
       "    <tr>\n",
       "      <th>1</th>\n",
       "      <td>Brewbirds</td>\n",
       "      <td>9</td>\n",
       "      <td>138.0</td>\n",
       "      <td>34.367205</td>\n",
       "      <td>1244</td>\n",
       "      <td>4759</td>\n",
       "      <td>242</td>\n",
       "      <td>782</td>\n",
       "      <td>735</td>\n",
       "      <td>60</td>\n",
       "      <td>4.015456</td>\n",
       "      <td>122.0</td>\n",
       "      <td>0.261399</td>\n",
       "      <td>40.0</td>\n",
       "    </tr>\n",
       "    <tr>\n",
       "      <th>2</th>\n",
       "      <td>Charmer</td>\n",
       "      <td>10</td>\n",
       "      <td>172.0</td>\n",
       "      <td>52.559155</td>\n",
       "      <td>1419</td>\n",
       "      <td>5490</td>\n",
       "      <td>295</td>\n",
       "      <td>832</td>\n",
       "      <td>878</td>\n",
       "      <td>75</td>\n",
       "      <td>3.272503</td>\n",
       "      <td>88.0</td>\n",
       "      <td>0.258470</td>\n",
       "      <td>42.0</td>\n",
       "    </tr>\n",
       "    <tr>\n",
       "      <th>3</th>\n",
       "      <td>Dirty Birds</td>\n",
       "      <td>7</td>\n",
       "      <td>83.0</td>\n",
       "      <td>3.190019</td>\n",
       "      <td>876</td>\n",
       "      <td>3450</td>\n",
       "      <td>158</td>\n",
       "      <td>509</td>\n",
       "      <td>504</td>\n",
       "      <td>40</td>\n",
       "      <td>26.018657</td>\n",
       "      <td>177.0</td>\n",
       "      <td>0.253913</td>\n",
       "      <td>8.5</td>\n",
       "    </tr>\n",
       "    <tr>\n",
       "      <th>4</th>\n",
       "      <td>Harvey</td>\n",
       "      <td>6</td>\n",
       "      <td>95.0</td>\n",
       "      <td>36.613419</td>\n",
       "      <td>877</td>\n",
       "      <td>3188</td>\n",
       "      <td>156</td>\n",
       "      <td>509</td>\n",
       "      <td>492</td>\n",
       "      <td>48</td>\n",
       "      <td>2.594677</td>\n",
       "      <td>165.0</td>\n",
       "      <td>0.275094</td>\n",
       "      <td>19.5</td>\n",
       "    </tr>\n",
       "    <tr>\n",
       "      <th>5</th>\n",
       "      <td>Lil Trump</td>\n",
       "      <td>8</td>\n",
       "      <td>111.0</td>\n",
       "      <td>27.237012</td>\n",
       "      <td>1122</td>\n",
       "      <td>4162</td>\n",
       "      <td>193</td>\n",
       "      <td>622</td>\n",
       "      <td>636</td>\n",
       "      <td>47</td>\n",
       "      <td>4.075337</td>\n",
       "      <td>149.0</td>\n",
       "      <td>0.269582</td>\n",
       "      <td>35.0</td>\n",
       "    </tr>\n",
       "    <tr>\n",
       "      <th>6</th>\n",
       "      <td>Lima Time</td>\n",
       "      <td>14</td>\n",
       "      <td>163.0</td>\n",
       "      <td>59.284860</td>\n",
       "      <td>1950</td>\n",
       "      <td>7380</td>\n",
       "      <td>371</td>\n",
       "      <td>1151</td>\n",
       "      <td>1145</td>\n",
       "      <td>110</td>\n",
       "      <td>2.749437</td>\n",
       "      <td>97.0</td>\n",
       "      <td>0.264228</td>\n",
       "      <td>55.0</td>\n",
       "    </tr>\n",
       "    <tr>\n",
       "      <th>7</th>\n",
       "      <td>Midnight</td>\n",
       "      <td>6</td>\n",
       "      <td>117.0</td>\n",
       "      <td>31.378819</td>\n",
       "      <td>847</td>\n",
       "      <td>3253</td>\n",
       "      <td>184</td>\n",
       "      <td>516</td>\n",
       "      <td>536</td>\n",
       "      <td>61</td>\n",
       "      <td>3.728630</td>\n",
       "      <td>143.0</td>\n",
       "      <td>0.260375</td>\n",
       "      <td>21.0</td>\n",
       "    </tr>\n",
       "    <tr>\n",
       "      <th>8</th>\n",
       "      <td>Moms Cookin</td>\n",
       "      <td>7</td>\n",
       "      <td>143.0</td>\n",
       "      <td>32.580367</td>\n",
       "      <td>978</td>\n",
       "      <td>3856</td>\n",
       "      <td>210</td>\n",
       "      <td>587</td>\n",
       "      <td>607</td>\n",
       "      <td>94</td>\n",
       "      <td>4.389146</td>\n",
       "      <td>117.0</td>\n",
       "      <td>0.253631</td>\n",
       "      <td>30.0</td>\n",
       "    </tr>\n",
       "    <tr>\n",
       "      <th>9</th>\n",
       "      <td>Roid Ragers</td>\n",
       "      <td>13</td>\n",
       "      <td>185.0</td>\n",
       "      <td>24.972017</td>\n",
       "      <td>1818</td>\n",
       "      <td>6838</td>\n",
       "      <td>298</td>\n",
       "      <td>1023</td>\n",
       "      <td>980</td>\n",
       "      <td>157</td>\n",
       "      <td>7.408292</td>\n",
       "      <td>75.0</td>\n",
       "      <td>0.265867</td>\n",
       "      <td>54.0</td>\n",
       "    </tr>\n",
       "    <tr>\n",
       "      <th>10</th>\n",
       "      <td>Trouble</td>\n",
       "      <td>7</td>\n",
       "      <td>106.0</td>\n",
       "      <td>31.333389</td>\n",
       "      <td>984</td>\n",
       "      <td>3594</td>\n",
       "      <td>186</td>\n",
       "      <td>575</td>\n",
       "      <td>587</td>\n",
       "      <td>44</td>\n",
       "      <td>3.382973</td>\n",
       "      <td>154.0</td>\n",
       "      <td>0.273790</td>\n",
       "      <td>27.0</td>\n",
       "    </tr>\n",
       "    <tr>\n",
       "      <th>11</th>\n",
       "      <td>Wu-Tang</td>\n",
       "      <td>7</td>\n",
       "      <td>98.0</td>\n",
       "      <td>27.171167</td>\n",
       "      <td>939</td>\n",
       "      <td>3682</td>\n",
       "      <td>187</td>\n",
       "      <td>564</td>\n",
       "      <td>579</td>\n",
       "      <td>55</td>\n",
       "      <td>3.606764</td>\n",
       "      <td>162.0</td>\n",
       "      <td>0.255024</td>\n",
       "      <td>21.5</td>\n",
       "    </tr>\n",
       "  </tbody>\n",
       "</table>\n",
       "</div>"
      ],
      "text/plain": [
       "          Owner  Drafted   Paid          z     H    AB   HR     R   RBI   SB  \\\n",
       "0      Avg Joes        8  125.0  26.586737  1119  4297  187   644   622  104   \n",
       "1     Brewbirds        9  138.0  34.367205  1244  4759  242   782   735   60   \n",
       "2       Charmer       10  172.0  52.559155  1419  5490  295   832   878   75   \n",
       "3   Dirty Birds        7   83.0   3.190019   876  3450  158   509   504   40   \n",
       "4        Harvey        6   95.0  36.613419   877  3188  156   509   492   48   \n",
       "5     Lil Trump        8  111.0  27.237012  1122  4162  193   622   636   47   \n",
       "6     Lima Time       14  163.0  59.284860  1950  7380  371  1151  1145  110   \n",
       "7      Midnight        6  117.0  31.378819   847  3253  184   516   536   61   \n",
       "8   Moms Cookin        7  143.0  32.580367   978  3856  210   587   607   94   \n",
       "9   Roid Ragers       13  185.0  24.972017  1818  6838  298  1023   980  157   \n",
       "10      Trouble        7  106.0  31.333389   984  3594  186   575   587   44   \n",
       "11      Wu-Tang        7   98.0  27.171167   939  3682  187   564   579   55   \n",
       "\n",
       "       $/unit  $ Left        BA  Rank  \n",
       "0    4.701592   135.0  0.260414  36.5  \n",
       "1    4.015456   122.0  0.261399  40.0  \n",
       "2    3.272503    88.0  0.258470  42.0  \n",
       "3   26.018657   177.0  0.253913   8.5  \n",
       "4    2.594677   165.0  0.275094  19.5  \n",
       "5    4.075337   149.0  0.269582  35.0  \n",
       "6    2.749437    97.0  0.264228  55.0  \n",
       "7    3.728630   143.0  0.260375  21.0  \n",
       "8    4.389146   117.0  0.253631  30.0  \n",
       "9    7.408292    75.0  0.265867  54.0  \n",
       "10   3.382973   154.0  0.273790  27.0  \n",
       "11   3.606764   162.0  0.255024  21.5  "
      ]
     },
     "execution_count": 8,
     "metadata": {},
     "output_type": "execute_result"
    }
   ],
   "source": [
    "h = pd.read_sql('hitting', engine)\n",
    "owners_df = h.groupby('Owner').agg({'Name':'count', 'Paid':'sum', 'z':'sum', 'H':'sum', 'AB':'sum', 'HR':'sum', 'R':'sum', 'RBI':'sum', 'SB':'sum'}).reset_index()\n",
    "owners_df.rename(columns={'Name':'Drafted'},inplace=True)\n",
    "owners_df['$/unit'] = owners_df['Paid']/owners_df['z']\n",
    "owners_df['$ Left'] = 260 - owners_df['Paid']\n",
    "owners_df['BA'] = owners_df['H']/owners_df['AB']\n",
    "owners_df['Rank'] = 0\n",
    "for i in ['BA', 'HR', 'R', 'RBI', 'SB']:\n",
    "    owners_df['Rank'] += owners_df[i].rank()\n",
    "owners_df"
   ]
  },
  {
   "cell_type": "code",
   "execution_count": 9,
   "id": "f4bdc775",
   "metadata": {},
   "outputs": [
    {
     "data": {
      "text/html": [
       "<div>\n",
       "<style scoped>\n",
       "    .dataframe tbody tr th:only-of-type {\n",
       "        vertical-align: middle;\n",
       "    }\n",
       "\n",
       "    .dataframe tbody tr th {\n",
       "        vertical-align: top;\n",
       "    }\n",
       "\n",
       "    .dataframe thead th {\n",
       "        text-align: right;\n",
       "    }\n",
       "</style>\n",
       "<table border=\"1\" class=\"dataframe\">\n",
       "  <thead>\n",
       "    <tr style=\"text-align: right;\">\n",
       "      <th></th>\n",
       "      <th>Name</th>\n",
       "      <th>Primary_Pos</th>\n",
       "      <th>Pos</th>\n",
       "      <th>Timestamp</th>\n",
       "    </tr>\n",
       "  </thead>\n",
       "  <tbody>\n",
       "    <tr>\n",
       "      <th>58</th>\n",
       "      <td>Robert Witt</td>\n",
       "      <td>SS</td>\n",
       "      <td>SS</td>\n",
       "      <td>2022-01-13 17:11:52.082550</td>\n",
       "    </tr>\n",
       "    <tr>\n",
       "      <th>1</th>\n",
       "      <td>Fernando Tatis Jr.</td>\n",
       "      <td>OF</td>\n",
       "      <td>SS, OF</td>\n",
       "      <td>2022-01-13 19:56:29.806066</td>\n",
       "    </tr>\n",
       "    <tr>\n",
       "      <th>35</th>\n",
       "      <td>Marcus Semien</td>\n",
       "      <td>2B</td>\n",
       "      <td>2B, SS</td>\n",
       "      <td>2022-01-13 20:04:02.166412</td>\n",
       "    </tr>\n",
       "    <tr>\n",
       "      <th>90</th>\n",
       "      <td>Yuli Gurriel</td>\n",
       "      <td>CI</td>\n",
       "      <td>1B</td>\n",
       "      <td>2022-01-13 21:38:40.792696</td>\n",
       "    </tr>\n",
       "    <tr>\n",
       "      <th>137</th>\n",
       "      <td>Michael Brantley</td>\n",
       "      <td>OF</td>\n",
       "      <td>OF, DH</td>\n",
       "      <td>2022-01-13 21:39:20.844020</td>\n",
       "    </tr>\n",
       "    <tr>\n",
       "      <th>236</th>\n",
       "      <td>Sean Murphy</td>\n",
       "      <td>C</td>\n",
       "      <td>C, DH</td>\n",
       "      <td>2022-01-13 21:39:53.215636</td>\n",
       "    </tr>\n",
       "    <tr>\n",
       "      <th>71</th>\n",
       "      <td>Rhys Hoskins</td>\n",
       "      <td>CI</td>\n",
       "      <td>1B</td>\n",
       "      <td>2022-01-13 21:40:21.470886</td>\n",
       "    </tr>\n",
       "    <tr>\n",
       "      <th>52</th>\n",
       "      <td>Alex Bregman</td>\n",
       "      <td>3B</td>\n",
       "      <td>3B</td>\n",
       "      <td>2022-01-13 21:41:49.406985</td>\n",
       "    </tr>\n",
       "    <tr>\n",
       "      <th>150</th>\n",
       "      <td>Mark Canha</td>\n",
       "      <td>DH</td>\n",
       "      <td>OF, DH</td>\n",
       "      <td>2022-01-13 21:43:09.643134</td>\n",
       "    </tr>\n",
       "    <tr>\n",
       "      <th>61</th>\n",
       "      <td>Ian Happ</td>\n",
       "      <td>2B</td>\n",
       "      <td>2B, OF</td>\n",
       "      <td>2022-01-13 21:43:37.805731</td>\n",
       "    </tr>\n",
       "    <tr>\n",
       "      <th>15</th>\n",
       "      <td>Kyle Tucker</td>\n",
       "      <td>OF</td>\n",
       "      <td>OF</td>\n",
       "      <td>2022-01-13 21:45:46.381936</td>\n",
       "    </tr>\n",
       "    <tr>\n",
       "      <th>12</th>\n",
       "      <td>Yordan Alvarez</td>\n",
       "      <td>OF</td>\n",
       "      <td>OF, DH</td>\n",
       "      <td>2022-01-13 21:46:00.283193</td>\n",
       "    </tr>\n",
       "    <tr>\n",
       "      <th>113</th>\n",
       "      <td>Jean Segura</td>\n",
       "      <td>MI</td>\n",
       "      <td>2B</td>\n",
       "      <td>2022-01-13 21:47:51.758377</td>\n",
       "    </tr>\n",
       "    <tr>\n",
       "      <th>62</th>\n",
       "      <td>C.J. Cron</td>\n",
       "      <td>CI</td>\n",
       "      <td>1B</td>\n",
       "      <td>2022-01-13 21:53:06.173810</td>\n",
       "    </tr>\n",
       "  </tbody>\n",
       "</table>\n",
       "</div>"
      ],
      "text/plain": [
       "                   Name Primary_Pos     Pos                  Timestamp\n",
       "58          Robert Witt          SS      SS 2022-01-13 17:11:52.082550\n",
       "1    Fernando Tatis Jr.          OF  SS, OF 2022-01-13 19:56:29.806066\n",
       "35        Marcus Semien          2B  2B, SS 2022-01-13 20:04:02.166412\n",
       "90         Yuli Gurriel          CI      1B 2022-01-13 21:38:40.792696\n",
       "137    Michael Brantley          OF  OF, DH 2022-01-13 21:39:20.844020\n",
       "236         Sean Murphy           C   C, DH 2022-01-13 21:39:53.215636\n",
       "71         Rhys Hoskins          CI      1B 2022-01-13 21:40:21.470886\n",
       "52         Alex Bregman          3B      3B 2022-01-13 21:41:49.406985\n",
       "150          Mark Canha          DH  OF, DH 2022-01-13 21:43:09.643134\n",
       "61             Ian Happ          2B  2B, OF 2022-01-13 21:43:37.805731\n",
       "15          Kyle Tucker          OF      OF 2022-01-13 21:45:46.381936\n",
       "12       Yordan Alvarez          OF  OF, DH 2022-01-13 21:46:00.283193\n",
       "113         Jean Segura          MI      2B 2022-01-13 21:47:51.758377\n",
       "62            C.J. Cron          CI      1B 2022-01-13 21:53:06.173810"
      ]
     },
     "execution_count": 9,
     "metadata": {},
     "output_type": "execute_result"
    }
   ],
   "source": [
    "h[h['Owner']=='Lima Time'][['Name', 'Primary_Pos', 'Pos', 'Timestamp']].sort_values(\"Timestamp\")"
   ]
  },
  {
   "cell_type": "code",
   "execution_count": 10,
   "id": "6a9f0acc",
   "metadata": {},
   "outputs": [],
   "source": [
    "def check_roster_pos(roster, name, team_name, pos, eligible):\n",
    "    eligible_at = eligible.split(', ')\n",
    "    eligibility = []\n",
    "    for p in eligible.split(', '):\n",
    "        if p=='C':\n",
    "            eligibility.extend(['C'])\n",
    "        if p=='1B':\n",
    "            eligibility.extend(['1B', 'CI'])\n",
    "        if p=='2B':\n",
    "            eligibility.extend(['2B', 'MI'])\n",
    "        if p=='3B':\n",
    "            eligibility.extend(['3B', 'CI'])\n",
    "        if p=='SS':\n",
    "            eligibility.extend(['SS', 'MI'])\n",
    "        if p=='OF':\n",
    "            eligibility.extend(['OF1', 'OF2', 'OF3', 'OF4', 'OF5'])\n",
    "        \n",
    "    eligibility = list(dict.fromkeys(eligibility))\n",
    "    pos_list = eligibility+['DH1', 'DH2']\n",
    "    for p in pos_list:\n",
    "        if roster.loc[p, team_name]==0:\n",
    "            roster.loc[p, team_name] = name\n",
    "            return p\n",
    "    \n",
    "    return pos_list"
   ]
  },
  {
   "cell_type": "code",
   "execution_count": 11,
   "id": "110c81d5",
   "metadata": {},
   "outputs": [],
   "source": [
    "roster = pd.DataFrame(index=['C', '1B', '2B', '3B', 'SS', 'MI', 'CI', 'OF1', 'OF2', 'OF3', 'OF4', 'OF5', 'DH1', 'DH2'], data=np.zeros((14,12)), columns=owners_df.Owner.tolist())"
   ]
  },
  {
   "cell_type": "code",
   "execution_count": 12,
   "id": "a6d0722a",
   "metadata": {},
   "outputs": [],
   "source": [
    "for tm in owners_df.Owner.to_list():\n",
    "    for i, row in h[h['Owner']==tm][['Name', 'Owner', 'Primary_Pos', 'Pos', 'Timestamp']].sort_values(\"Timestamp\").iterrows():\n",
    "        check_roster_pos(roster, h.loc[i]['Name'], h.loc[i]['Owner'], h.loc[i]['Primary_Pos'], h.loc[i]['Pos'])"
   ]
  },
  {
   "cell_type": "code",
   "execution_count": 40,
   "id": "9c051109",
   "metadata": {},
   "outputs": [
    {
     "data": {
      "text/html": [
       "<div>\n",
       "<style scoped>\n",
       "    .dataframe tbody tr th:only-of-type {\n",
       "        vertical-align: middle;\n",
       "    }\n",
       "\n",
       "    .dataframe tbody tr th {\n",
       "        vertical-align: top;\n",
       "    }\n",
       "\n",
       "    .dataframe thead th {\n",
       "        text-align: right;\n",
       "    }\n",
       "</style>\n",
       "<table border=\"1\" class=\"dataframe\">\n",
       "  <thead>\n",
       "    <tr style=\"text-align: right;\">\n",
       "      <th></th>\n",
       "      <th>Avg Joes</th>\n",
       "      <th>Brewbirds</th>\n",
       "      <th>Charmer</th>\n",
       "      <th>Dirty Birds</th>\n",
       "      <th>Harvey</th>\n",
       "      <th>Lil Trump</th>\n",
       "      <th>Lima Time</th>\n",
       "      <th>Midnight</th>\n",
       "      <th>Moms Cookin</th>\n",
       "      <th>Roid Ragers</th>\n",
       "      <th>Trouble</th>\n",
       "      <th>Wu-Tang</th>\n",
       "    </tr>\n",
       "  </thead>\n",
       "  <tbody>\n",
       "    <tr>\n",
       "      <th>C</th>\n",
       "      <td>Danny Jansen</td>\n",
       "      <td>Yasmani Grandal</td>\n",
       "      <td>Salvador Perez</td>\n",
       "      <td>Mike Zunino</td>\n",
       "      <td>Will Smith</td>\n",
       "      <td>Keibert Ruiz</td>\n",
       "      <td>Sean Murphy</td>\n",
       "      <td>0.0</td>\n",
       "      <td>0.0</td>\n",
       "      <td>0.0</td>\n",
       "      <td>Adley Rutschman</td>\n",
       "      <td>0.0</td>\n",
       "    </tr>\n",
       "    <tr>\n",
       "      <th>1B</th>\n",
       "      <td>Jose Abreu</td>\n",
       "      <td>Joey Votto</td>\n",
       "      <td>Kyle Schwarber</td>\n",
       "      <td>Paul Goldschmidt</td>\n",
       "      <td>Vladimir Guerrero Jr.</td>\n",
       "      <td>Josh Bell</td>\n",
       "      <td>Yuli Gurriel</td>\n",
       "      <td>Pete Alonso</td>\n",
       "      <td>Matt Olson</td>\n",
       "      <td>Trey Mancini</td>\n",
       "      <td>0.0</td>\n",
       "      <td>Nathaniel Lowe</td>\n",
       "    </tr>\n",
       "    <tr>\n",
       "      <th>2B</th>\n",
       "      <td>Whit Merrifield</td>\n",
       "      <td>Trea Turner</td>\n",
       "      <td>Javier Baez</td>\n",
       "      <td>0.0</td>\n",
       "      <td>0.0</td>\n",
       "      <td>Ketel Marte</td>\n",
       "      <td>Marcus Semien</td>\n",
       "      <td>Ozzie Albies</td>\n",
       "      <td>Jazz Chisholm Jr.</td>\n",
       "      <td>Mookie Betts</td>\n",
       "      <td>Gleyber Torres</td>\n",
       "      <td>Luis Urias</td>\n",
       "    </tr>\n",
       "    <tr>\n",
       "      <th>3B</th>\n",
       "      <td>Manny Machado</td>\n",
       "      <td>Anthony Rendon</td>\n",
       "      <td>Rafael Devers</td>\n",
       "      <td>0.0</td>\n",
       "      <td>0.0</td>\n",
       "      <td>0.0</td>\n",
       "      <td>Alex Bregman</td>\n",
       "      <td>Eugenio Suarez</td>\n",
       "      <td>Matt Chapman</td>\n",
       "      <td>Yandy Diaz</td>\n",
       "      <td>Wander Franco</td>\n",
       "      <td>0.0</td>\n",
       "    </tr>\n",
       "    <tr>\n",
       "      <th>SS</th>\n",
       "      <td>Nicky Lopez</td>\n",
       "      <td>0.0</td>\n",
       "      <td>Tim Anderson</td>\n",
       "      <td>Xander Bogaerts</td>\n",
       "      <td>Corey Seager</td>\n",
       "      <td>Carlos Correa</td>\n",
       "      <td>Robert Witt</td>\n",
       "      <td>0.0</td>\n",
       "      <td>0.0</td>\n",
       "      <td>Bo Bichette</td>\n",
       "      <td>0.0</td>\n",
       "      <td>0.0</td>\n",
       "    </tr>\n",
       "    <tr>\n",
       "      <th>MI</th>\n",
       "      <td>0.0</td>\n",
       "      <td>Ty France</td>\n",
       "      <td>Chris Taylor</td>\n",
       "      <td>0.0</td>\n",
       "      <td>Willy Adames</td>\n",
       "      <td>0.0</td>\n",
       "      <td>Fernando Tatis Jr.</td>\n",
       "      <td>0.0</td>\n",
       "      <td>0.0</td>\n",
       "      <td>Trevor Story</td>\n",
       "      <td>0.0</td>\n",
       "      <td>0.0</td>\n",
       "    </tr>\n",
       "    <tr>\n",
       "      <th>CI</th>\n",
       "      <td>0.0</td>\n",
       "      <td>Freddie Freeman</td>\n",
       "      <td>Anthony Rizzo</td>\n",
       "      <td>Eduardo Escobar</td>\n",
       "      <td>0.0</td>\n",
       "      <td>Kris Bryant</td>\n",
       "      <td>Rhys Hoskins</td>\n",
       "      <td>0.0</td>\n",
       "      <td>Jose Ramirez</td>\n",
       "      <td>Austin Riley</td>\n",
       "      <td>0.0</td>\n",
       "      <td>0.0</td>\n",
       "    </tr>\n",
       "    <tr>\n",
       "      <th>OF1</th>\n",
       "      <td>Shohei Ohtani</td>\n",
       "      <td>Joey Gallo</td>\n",
       "      <td>Aaron Judge</td>\n",
       "      <td>George Springer</td>\n",
       "      <td>Alex Verdugo</td>\n",
       "      <td>Bryan Reynolds</td>\n",
       "      <td>Michael Brantley</td>\n",
       "      <td>Bryce Harper</td>\n",
       "      <td>Starling Marte</td>\n",
       "      <td>Ronald Acuna Jr.</td>\n",
       "      <td>Juan Soto</td>\n",
       "      <td>Mike Trout</td>\n",
       "    </tr>\n",
       "    <tr>\n",
       "      <th>OF2</th>\n",
       "      <td>Teoscar Hernandez</td>\n",
       "      <td>Jesse Winker</td>\n",
       "      <td>Cody Bellinger</td>\n",
       "      <td>Dylan Carlson</td>\n",
       "      <td>Cedric Mullins II</td>\n",
       "      <td>Byron Buxton</td>\n",
       "      <td>Mark Canha</td>\n",
       "      <td>Luis Robert</td>\n",
       "      <td>Tyler O'Neill</td>\n",
       "      <td>Randy Arozarena</td>\n",
       "      <td>Giancarlo Stanton</td>\n",
       "      <td>Christian Yelich</td>\n",
       "    </tr>\n",
       "    <tr>\n",
       "      <th>OF3</th>\n",
       "      <td>Robbie Grossman</td>\n",
       "      <td>Trent Grisham</td>\n",
       "      <td>Michael Conforto</td>\n",
       "      <td>Victor Robles</td>\n",
       "      <td>0.0</td>\n",
       "      <td>Andrew Benintendi</td>\n",
       "      <td>Ian Happ</td>\n",
       "      <td>Ramon Laureano</td>\n",
       "      <td>Eloy Jimenez</td>\n",
       "      <td>Kyle Lewis</td>\n",
       "      <td>Charlie Blackmon</td>\n",
       "      <td>Hunter Renfroe</td>\n",
       "    </tr>\n",
       "    <tr>\n",
       "      <th>OF4</th>\n",
       "      <td>0.0</td>\n",
       "      <td>0.0</td>\n",
       "      <td>0.0</td>\n",
       "      <td>0.0</td>\n",
       "      <td>0.0</td>\n",
       "      <td>0.0</td>\n",
       "      <td>Kyle Tucker</td>\n",
       "      <td>0.0</td>\n",
       "      <td>0.0</td>\n",
       "      <td>Myles Straw</td>\n",
       "      <td>Jorge Soler</td>\n",
       "      <td>Akil Baddoo</td>\n",
       "    </tr>\n",
       "    <tr>\n",
       "      <th>OF5</th>\n",
       "      <td>0.0</td>\n",
       "      <td>0.0</td>\n",
       "      <td>0.0</td>\n",
       "      <td>0.0</td>\n",
       "      <td>0.0</td>\n",
       "      <td>0.0</td>\n",
       "      <td>Yordan Alvarez</td>\n",
       "      <td>0.0</td>\n",
       "      <td>0.0</td>\n",
       "      <td>Lorenzo Cain</td>\n",
       "      <td>0.0</td>\n",
       "      <td>0.0</td>\n",
       "    </tr>\n",
       "    <tr>\n",
       "      <th>DH1</th>\n",
       "      <td>0.0</td>\n",
       "      <td>0.0</td>\n",
       "      <td>0.0</td>\n",
       "      <td>0.0</td>\n",
       "      <td>0.0</td>\n",
       "      <td>0.0</td>\n",
       "      <td>Jean Segura</td>\n",
       "      <td>0.0</td>\n",
       "      <td>0.0</td>\n",
       "      <td>Alex Kirilloff</td>\n",
       "      <td>0.0</td>\n",
       "      <td>Nelson Cruz</td>\n",
       "    </tr>\n",
       "    <tr>\n",
       "      <th>DH2</th>\n",
       "      <td>0.0</td>\n",
       "      <td>0.0</td>\n",
       "      <td>0.0</td>\n",
       "      <td>0.0</td>\n",
       "      <td>0.0</td>\n",
       "      <td>0.0</td>\n",
       "      <td>C.J. Cron</td>\n",
       "      <td>0.0</td>\n",
       "      <td>0.0</td>\n",
       "      <td>Eddie Rosario</td>\n",
       "      <td>0.0</td>\n",
       "      <td>0.0</td>\n",
       "    </tr>\n",
       "  </tbody>\n",
       "</table>\n",
       "</div>"
      ],
      "text/plain": [
       "              Avg Joes        Brewbirds           Charmer       Dirty Birds  \\\n",
       "C         Danny Jansen  Yasmani Grandal    Salvador Perez       Mike Zunino   \n",
       "1B          Jose Abreu       Joey Votto    Kyle Schwarber  Paul Goldschmidt   \n",
       "2B     Whit Merrifield      Trea Turner       Javier Baez               0.0   \n",
       "3B       Manny Machado   Anthony Rendon     Rafael Devers               0.0   \n",
       "SS         Nicky Lopez              0.0      Tim Anderson   Xander Bogaerts   \n",
       "MI                 0.0        Ty France      Chris Taylor               0.0   \n",
       "CI                 0.0  Freddie Freeman     Anthony Rizzo   Eduardo Escobar   \n",
       "OF1      Shohei Ohtani       Joey Gallo       Aaron Judge   George Springer   \n",
       "OF2  Teoscar Hernandez     Jesse Winker    Cody Bellinger     Dylan Carlson   \n",
       "OF3    Robbie Grossman    Trent Grisham  Michael Conforto     Victor Robles   \n",
       "OF4                0.0              0.0               0.0               0.0   \n",
       "OF5                0.0              0.0               0.0               0.0   \n",
       "DH1                0.0              0.0               0.0               0.0   \n",
       "DH2                0.0              0.0               0.0               0.0   \n",
       "\n",
       "                    Harvey          Lil Trump           Lima Time  \\\n",
       "C               Will Smith       Keibert Ruiz         Sean Murphy   \n",
       "1B   Vladimir Guerrero Jr.          Josh Bell        Yuli Gurriel   \n",
       "2B                     0.0        Ketel Marte       Marcus Semien   \n",
       "3B                     0.0                0.0        Alex Bregman   \n",
       "SS            Corey Seager      Carlos Correa         Robert Witt   \n",
       "MI            Willy Adames                0.0  Fernando Tatis Jr.   \n",
       "CI                     0.0        Kris Bryant        Rhys Hoskins   \n",
       "OF1           Alex Verdugo     Bryan Reynolds    Michael Brantley   \n",
       "OF2      Cedric Mullins II       Byron Buxton          Mark Canha   \n",
       "OF3                    0.0  Andrew Benintendi            Ian Happ   \n",
       "OF4                    0.0                0.0         Kyle Tucker   \n",
       "OF5                    0.0                0.0      Yordan Alvarez   \n",
       "DH1                    0.0                0.0         Jean Segura   \n",
       "DH2                    0.0                0.0           C.J. Cron   \n",
       "\n",
       "           Midnight        Moms Cookin       Roid Ragers            Trouble  \\\n",
       "C               0.0                0.0               0.0    Adley Rutschman   \n",
       "1B      Pete Alonso         Matt Olson      Trey Mancini                0.0   \n",
       "2B     Ozzie Albies  Jazz Chisholm Jr.      Mookie Betts     Gleyber Torres   \n",
       "3B   Eugenio Suarez       Matt Chapman        Yandy Diaz      Wander Franco   \n",
       "SS              0.0                0.0       Bo Bichette                0.0   \n",
       "MI              0.0                0.0      Trevor Story                0.0   \n",
       "CI              0.0       Jose Ramirez      Austin Riley                0.0   \n",
       "OF1    Bryce Harper     Starling Marte  Ronald Acuna Jr.          Juan Soto   \n",
       "OF2     Luis Robert      Tyler O'Neill   Randy Arozarena  Giancarlo Stanton   \n",
       "OF3  Ramon Laureano       Eloy Jimenez        Kyle Lewis   Charlie Blackmon   \n",
       "OF4             0.0                0.0       Myles Straw        Jorge Soler   \n",
       "OF5             0.0                0.0      Lorenzo Cain                0.0   \n",
       "DH1             0.0                0.0    Alex Kirilloff                0.0   \n",
       "DH2             0.0                0.0     Eddie Rosario                0.0   \n",
       "\n",
       "              Wu-Tang  \n",
       "C                 0.0  \n",
       "1B     Nathaniel Lowe  \n",
       "2B         Luis Urias  \n",
       "3B                0.0  \n",
       "SS                0.0  \n",
       "MI                0.0  \n",
       "CI                0.0  \n",
       "OF1        Mike Trout  \n",
       "OF2  Christian Yelich  \n",
       "OF3    Hunter Renfroe  \n",
       "OF4       Akil Baddoo  \n",
       "OF5               0.0  \n",
       "DH1       Nelson Cruz  \n",
       "DH2               0.0  "
      ]
     },
     "execution_count": 40,
     "metadata": {},
     "output_type": "execute_result"
    }
   ],
   "source": [
    "roster"
   ]
  },
  {
   "cell_type": "code",
   "execution_count": 78,
   "id": "6041760c",
   "metadata": {},
   "outputs": [
    {
     "name": "stdout",
     "output_type": "stream",
     "text": [
      "# of Players Yet to be Drafted: 174\n",
      "$ still available to be spent: 1584.0\n"
     ]
    }
   ],
   "source": [
    "print('# of Players Yet to be Drafted:',(12*23) - owners_df.Drafted.sum())\n",
    "print('$ still available to be spent:', 3120 - owners_df.Paid.sum())"
   ]
  },
  {
   "cell_type": "code",
   "execution_count": 70,
   "id": "fb15ac39",
   "metadata": {},
   "outputs": [
    {
     "name": "stdout",
     "output_type": "stream",
     "text": [
      "Initial $ per z rate: 3.570693641212737\n",
      "Current $ per z rate: 3.966182460363122\n"
     ]
    }
   ],
   "source": [
    "print('Initial $ per z rate:',3120/h[h['z']>=0]['z'].sum()*.65)\n",
    "print('Current $ per z rate:',owners_df.Paid.sum() / owners_df.z.sum())\n",
    "#print((3120-h['Paid'].sum())/h[(h['z']>0) & (h['Paid']>0)]['z'])"
   ]
  },
  {
   "cell_type": "code",
   "execution_count": 13,
   "id": "28434830",
   "metadata": {},
   "outputs": [
    {
     "data": {
      "text/plain": [
       "{'index': 41,\n",
       " 'Team': 'NYY',\n",
       " 'G': 147,\n",
       " 'PA': 637,\n",
       " 'AB': 522,\n",
       " 'H': 109,\n",
       " '2B': 18,\n",
       " '3B': 1,\n",
       " 'HR': 41,\n",
       " 'R': 91,\n",
       " 'RBI': 99,\n",
       " 'BB': 102,\n",
       " 'SO': 218,\n",
       " 'HBP': 7,\n",
       " 'SB': 4,\n",
       " 'AVG': 0.208,\n",
       " 'OBP': 0.342,\n",
       " 'SLG': 0.48,\n",
       " 'OPS': 0.822,\n",
       " 'WAR': 3.6,\n",
       " 'playerid': '14128',\n",
       " 'sorter': 344,\n",
       " 'Pos': 'OF, DH',\n",
       " 'Dollars': 14.2436686165,\n",
       " 'Primary_Pos': 'OF',\n",
       " 'Used': True,\n",
       " 'BA': -21.3503371714,\n",
       " 'zPA': 0.6988950276,\n",
       " 'zAB': -0.5046439628,\n",
       " 'zBA': -2.6225820756,\n",
       " 'zHR': 1.725,\n",
       " 'zRBI': 1.1678832117,\n",
       " 'zR': 0.7946428571,\n",
       " 'zSB': -0.7083333333,\n",
       " 'z': 4.4075851569,\n",
       " 'Value': 17.0720567119,\n",
       " 'Owner': 'Brewbirds',\n",
       " 'Paid': 15.0,\n",
       " 'Timestamp': 1642197483808}"
      ]
     },
     "execution_count": 13,
     "metadata": {},
     "output_type": "execute_result"
    }
   ],
   "source": [
    "import json\n",
    "j = h.set_index('Name').to_json(orient='index')\n",
    "j = json.loads(j)\n",
    "j['Joey Gallo']"
   ]
  },
  {
   "cell_type": "code",
   "execution_count": 46,
   "id": "1511e15a",
   "metadata": {},
   "outputs": [
    {
     "data": {
      "text/html": [
       "<div>\n",
       "<style scoped>\n",
       "    .dataframe tbody tr th:only-of-type {\n",
       "        vertical-align: middle;\n",
       "    }\n",
       "\n",
       "    .dataframe tbody tr th {\n",
       "        vertical-align: top;\n",
       "    }\n",
       "\n",
       "    .dataframe thead th {\n",
       "        text-align: right;\n",
       "    }\n",
       "</style>\n",
       "<table border=\"1\" class=\"dataframe\">\n",
       "  <thead>\n",
       "    <tr style=\"text-align: right;\">\n",
       "      <th></th>\n",
       "      <th>index</th>\n",
       "      <th>Name</th>\n",
       "      <th>Team</th>\n",
       "      <th>G</th>\n",
       "      <th>PA</th>\n",
       "      <th>AB</th>\n",
       "      <th>H</th>\n",
       "      <th>2B</th>\n",
       "      <th>3B</th>\n",
       "      <th>HR</th>\n",
       "      <th>R</th>\n",
       "      <th>RBI</th>\n",
       "      <th>BB</th>\n",
       "      <th>SO</th>\n",
       "      <th>HBP</th>\n",
       "      <th>SB</th>\n",
       "      <th>AVG</th>\n",
       "      <th>OBP</th>\n",
       "      <th>SLG</th>\n",
       "      <th>OPS</th>\n",
       "      <th>WAR</th>\n",
       "      <th>playerid</th>\n",
       "      <th>sorter</th>\n",
       "      <th>Pos</th>\n",
       "      <th>Dollars</th>\n",
       "      <th>Primary_Pos</th>\n",
       "      <th>Used</th>\n",
       "      <th>BA</th>\n",
       "      <th>zPA</th>\n",
       "      <th>zAB</th>\n",
       "      <th>zBA</th>\n",
       "      <th>zHR</th>\n",
       "      <th>zRBI</th>\n",
       "      <th>zR</th>\n",
       "      <th>zSB</th>\n",
       "      <th>z</th>\n",
       "      <th>Value</th>\n",
       "      <th>Owner</th>\n",
       "      <th>Paid</th>\n",
       "      <th>Timestamp</th>\n",
       "    </tr>\n",
       "  </thead>\n",
       "  <tbody>\n",
       "    <tr>\n",
       "      <th>0</th>\n",
       "      <td>3</td>\n",
       "      <td>Vladimir Guerrero Jr.</td>\n",
       "      <td>TOR</td>\n",
       "      <td>154</td>\n",
       "      <td>665</td>\n",
       "      <td>575</td>\n",
       "      <td>178</td>\n",
       "      <td>31</td>\n",
       "      <td>2</td>\n",
       "      <td>44</td>\n",
       "      <td>109</td>\n",
       "      <td>122</td>\n",
       "      <td>77</td>\n",
       "      <td>102</td>\n",
       "      <td>6</td>\n",
       "      <td>4</td>\n",
       "      <td>0.309</td>\n",
       "      <td>0.394</td>\n",
       "      <td>0.598</td>\n",
       "      <td>0.992</td>\n",
       "      <td>6.0</td>\n",
       "      <td>19611</td>\n",
       "      <td>457</td>\n",
       "      <td>1B, DH</td>\n",
       "      <td>40.252202</td>\n",
       "      <td>1B</td>\n",
       "      <td>True</td>\n",
       "      <td>33.335606</td>\n",
       "      <td>0.469136</td>\n",
       "      <td>0.066225</td>\n",
       "      <td>2.389664</td>\n",
       "      <td>1.854545</td>\n",
       "      <td>2.071429</td>\n",
       "      <td>2.022727</td>\n",
       "      <td>0.476190</td>\n",
       "      <td>14.063823</td>\n",
       "      <td>54.473907</td>\n",
       "      <td>Harvey</td>\n",
       "      <td>24.0</td>\n",
       "      <td>2022-01-13 19:56:12.110798</td>\n",
       "    </tr>\n",
       "    <tr>\n",
       "      <th>1</th>\n",
       "      <td>1</td>\n",
       "      <td>Fernando Tatis Jr.</td>\n",
       "      <td>SDP</td>\n",
       "      <td>151</td>\n",
       "      <td>651</td>\n",
       "      <td>564</td>\n",
       "      <td>158</td>\n",
       "      <td>30</td>\n",
       "      <td>2</td>\n",
       "      <td>44</td>\n",
       "      <td>112</td>\n",
       "      <td>103</td>\n",
       "      <td>72</td>\n",
       "      <td>161</td>\n",
       "      <td>7</td>\n",
       "      <td>25</td>\n",
       "      <td>0.281</td>\n",
       "      <td>0.366</td>\n",
       "      <td>0.575</td>\n",
       "      <td>0.941</td>\n",
       "      <td>6.7</td>\n",
       "      <td>19709</td>\n",
       "      <td>442</td>\n",
       "      <td>SS, OF</td>\n",
       "      <td>40.784208</td>\n",
       "      <td>OF</td>\n",
       "      <td>True</td>\n",
       "      <td>17.161705</td>\n",
       "      <td>1.085635</td>\n",
       "      <td>0.795666</td>\n",
       "      <td>1.153108</td>\n",
       "      <td>2.100000</td>\n",
       "      <td>1.459854</td>\n",
       "      <td>2.669643</td>\n",
       "      <td>2.208333</td>\n",
       "      <td>13.641913</td>\n",
       "      <td>52.839708</td>\n",
       "      <td>Lima Time</td>\n",
       "      <td>36.0</td>\n",
       "      <td>2022-01-13 19:56:29.806066</td>\n",
       "    </tr>\n",
       "    <tr>\n",
       "      <th>2</th>\n",
       "      <td>0</td>\n",
       "      <td>Juan Soto</td>\n",
       "      <td>WSN</td>\n",
       "      <td>154</td>\n",
       "      <td>665</td>\n",
       "      <td>519</td>\n",
       "      <td>161</td>\n",
       "      <td>29</td>\n",
       "      <td>2</td>\n",
       "      <td>37</td>\n",
       "      <td>112</td>\n",
       "      <td>106</td>\n",
       "      <td>135</td>\n",
       "      <td>96</td>\n",
       "      <td>5</td>\n",
       "      <td>12</td>\n",
       "      <td>0.310</td>\n",
       "      <td>0.453</td>\n",
       "      <td>0.586</td>\n",
       "      <td>1.039</td>\n",
       "      <td>7.2</td>\n",
       "      <td>20123</td>\n",
       "      <td>428</td>\n",
       "      <td>OF</td>\n",
       "      <td>37.932103</td>\n",
       "      <td>OF</td>\n",
       "      <td>True</td>\n",
       "      <td>31.398803</td>\n",
       "      <td>1.472376</td>\n",
       "      <td>-0.597523</td>\n",
       "      <td>2.548902</td>\n",
       "      <td>1.225000</td>\n",
       "      <td>1.678832</td>\n",
       "      <td>2.669643</td>\n",
       "      <td>0.402778</td>\n",
       "      <td>12.576129</td>\n",
       "      <td>48.711571</td>\n",
       "      <td>Trouble</td>\n",
       "      <td>39.0</td>\n",
       "      <td>2022-01-13 19:57:48.386218</td>\n",
       "    </tr>\n",
       "    <tr>\n",
       "      <th>39</th>\n",
       "      <td>77</td>\n",
       "      <td>Salvador Perez</td>\n",
       "      <td>KCR</td>\n",
       "      <td>149</td>\n",
       "      <td>601</td>\n",
       "      <td>560</td>\n",
       "      <td>146</td>\n",
       "      <td>26</td>\n",
       "      <td>1</td>\n",
       "      <td>36</td>\n",
       "      <td>79</td>\n",
       "      <td>99</td>\n",
       "      <td>26</td>\n",
       "      <td>147</td>\n",
       "      <td>10</td>\n",
       "      <td>1</td>\n",
       "      <td>0.260</td>\n",
       "      <td>0.302</td>\n",
       "      <td>0.504</td>\n",
       "      <td>0.806</td>\n",
       "      <td>2.7</td>\n",
       "      <td>7304</td>\n",
       "      <td>361</td>\n",
       "      <td>C, DH</td>\n",
       "      <td>25.055800</td>\n",
       "      <td>C</td>\n",
       "      <td>True</td>\n",
       "      <td>13.626102</td>\n",
       "      <td>1.846395</td>\n",
       "      <td>2.221122</td>\n",
       "      <td>1.449278</td>\n",
       "      <td>2.566667</td>\n",
       "      <td>2.485507</td>\n",
       "      <td>1.950495</td>\n",
       "      <td>-0.750000</td>\n",
       "      <td>11.792357</td>\n",
       "      <td>45.675756</td>\n",
       "      <td>Charmer</td>\n",
       "      <td>21.0</td>\n",
       "      <td>2022-01-13 22:13:48.338069</td>\n",
       "    </tr>\n",
       "    <tr>\n",
       "      <th>4</th>\n",
       "      <td>17</td>\n",
       "      <td>Bo Bichette</td>\n",
       "      <td>TOR</td>\n",
       "      <td>152</td>\n",
       "      <td>658</td>\n",
       "      <td>601</td>\n",
       "      <td>176</td>\n",
       "      <td>36</td>\n",
       "      <td>2</td>\n",
       "      <td>28</td>\n",
       "      <td>96</td>\n",
       "      <td>94</td>\n",
       "      <td>43</td>\n",
       "      <td>121</td>\n",
       "      <td>6</td>\n",
       "      <td>17</td>\n",
       "      <td>0.292</td>\n",
       "      <td>0.343</td>\n",
       "      <td>0.496</td>\n",
       "      <td>0.839</td>\n",
       "      <td>4.7</td>\n",
       "      <td>19612</td>\n",
       "      <td>411</td>\n",
       "      <td>SS, DH</td>\n",
       "      <td>28.080286</td>\n",
       "      <td>SS</td>\n",
       "      <td>True</td>\n",
       "      <td>22.819346</td>\n",
       "      <td>0.762542</td>\n",
       "      <td>1.044218</td>\n",
       "      <td>1.601935</td>\n",
       "      <td>0.900000</td>\n",
       "      <td>1.367089</td>\n",
       "      <td>1.632911</td>\n",
       "      <td>0.900000</td>\n",
       "      <td>11.621147</td>\n",
       "      <td>45.012602</td>\n",
       "      <td>Roid Ragers</td>\n",
       "      <td>30.0</td>\n",
       "      <td>2022-01-13 20:01:42.395693</td>\n",
       "    </tr>\n",
       "    <tr>\n",
       "      <th>...</th>\n",
       "      <td>...</td>\n",
       "      <td>...</td>\n",
       "      <td>...</td>\n",
       "      <td>...</td>\n",
       "      <td>...</td>\n",
       "      <td>...</td>\n",
       "      <td>...</td>\n",
       "      <td>...</td>\n",
       "      <td>...</td>\n",
       "      <td>...</td>\n",
       "      <td>...</td>\n",
       "      <td>...</td>\n",
       "      <td>...</td>\n",
       "      <td>...</td>\n",
       "      <td>...</td>\n",
       "      <td>...</td>\n",
       "      <td>...</td>\n",
       "      <td>...</td>\n",
       "      <td>...</td>\n",
       "      <td>...</td>\n",
       "      <td>...</td>\n",
       "      <td>...</td>\n",
       "      <td>...</td>\n",
       "      <td>...</td>\n",
       "      <td>...</td>\n",
       "      <td>...</td>\n",
       "      <td>...</td>\n",
       "      <td>...</td>\n",
       "      <td>...</td>\n",
       "      <td>...</td>\n",
       "      <td>...</td>\n",
       "      <td>...</td>\n",
       "      <td>...</td>\n",
       "      <td>...</td>\n",
       "      <td>...</td>\n",
       "      <td>...</td>\n",
       "      <td>...</td>\n",
       "      <td>...</td>\n",
       "      <td>...</td>\n",
       "      <td>...</td>\n",
       "    </tr>\n",
       "    <tr>\n",
       "      <th>158</th>\n",
       "      <td>214</td>\n",
       "      <td>Eugenio Suarez</td>\n",
       "      <td>CIN</td>\n",
       "      <td>123</td>\n",
       "      <td>532</td>\n",
       "      <td>464</td>\n",
       "      <td>104</td>\n",
       "      <td>19</td>\n",
       "      <td>1</td>\n",
       "      <td>27</td>\n",
       "      <td>65</td>\n",
       "      <td>77</td>\n",
       "      <td>55</td>\n",
       "      <td>153</td>\n",
       "      <td>7</td>\n",
       "      <td>2</td>\n",
       "      <td>0.224</td>\n",
       "      <td>0.314</td>\n",
       "      <td>0.444</td>\n",
       "      <td>0.758</td>\n",
       "      <td>1.3</td>\n",
       "      <td>12552</td>\n",
       "      <td>275</td>\n",
       "      <td>3B, SS</td>\n",
       "      <td>1.000000</td>\n",
       "      <td>DH</td>\n",
       "      <td>True</td>\n",
       "      <td>NaN</td>\n",
       "      <td>-1.069620</td>\n",
       "      <td>-1.199262</td>\n",
       "      <td>NaN</td>\n",
       "      <td>1.306452</td>\n",
       "      <td>1.321839</td>\n",
       "      <td>-0.671429</td>\n",
       "      <td>-1.196429</td>\n",
       "      <td>NaN</td>\n",
       "      <td>NaN</td>\n",
       "      <td>Midnight</td>\n",
       "      <td>6.0</td>\n",
       "      <td>2022-01-13 21:51:38.241228</td>\n",
       "    </tr>\n",
       "    <tr>\n",
       "      <th>159</th>\n",
       "      <td>118</td>\n",
       "      <td>Nico Hoerner</td>\n",
       "      <td>CHC</td>\n",
       "      <td>131</td>\n",
       "      <td>567</td>\n",
       "      <td>507</td>\n",
       "      <td>141</td>\n",
       "      <td>29</td>\n",
       "      <td>2</td>\n",
       "      <td>8</td>\n",
       "      <td>56</td>\n",
       "      <td>57</td>\n",
       "      <td>45</td>\n",
       "      <td>85</td>\n",
       "      <td>8</td>\n",
       "      <td>13</td>\n",
       "      <td>0.278</td>\n",
       "      <td>0.344</td>\n",
       "      <td>0.391</td>\n",
       "      <td>0.735</td>\n",
       "      <td>2.2</td>\n",
       "      <td>21479</td>\n",
       "      <td>275</td>\n",
       "      <td>2B, SS, OF</td>\n",
       "      <td>-0.793976</td>\n",
       "      <td>DH</td>\n",
       "      <td>True</td>\n",
       "      <td>NaN</td>\n",
       "      <td>0.037975</td>\n",
       "      <td>0.387454</td>\n",
       "      <td>NaN</td>\n",
       "      <td>-1.758065</td>\n",
       "      <td>-0.977011</td>\n",
       "      <td>-1.957143</td>\n",
       "      <td>0.767857</td>\n",
       "      <td>NaN</td>\n",
       "      <td>NaN</td>\n",
       "      <td>None</td>\n",
       "      <td>NaN</td>\n",
       "      <td>NaT</td>\n",
       "    </tr>\n",
       "    <tr>\n",
       "      <th>350</th>\n",
       "      <td>412</td>\n",
       "      <td>Khris Davis</td>\n",
       "      <td>None</td>\n",
       "      <td>53</td>\n",
       "      <td>231</td>\n",
       "      <td>207</td>\n",
       "      <td>48</td>\n",
       "      <td>8</td>\n",
       "      <td>1</td>\n",
       "      <td>12</td>\n",
       "      <td>29</td>\n",
       "      <td>33</td>\n",
       "      <td>19</td>\n",
       "      <td>63</td>\n",
       "      <td>3</td>\n",
       "      <td>1</td>\n",
       "      <td>0.231</td>\n",
       "      <td>0.301</td>\n",
       "      <td>0.458</td>\n",
       "      <td>0.758</td>\n",
       "      <td>0.2</td>\n",
       "      <td>9112</td>\n",
       "      <td>123</td>\n",
       "      <td>DH</td>\n",
       "      <td>-18.514938</td>\n",
       "      <td>DH</td>\n",
       "      <td>False</td>\n",
       "      <td>NaN</td>\n",
       "      <td>NaN</td>\n",
       "      <td>NaN</td>\n",
       "      <td>NaN</td>\n",
       "      <td>NaN</td>\n",
       "      <td>NaN</td>\n",
       "      <td>NaN</td>\n",
       "      <td>NaN</td>\n",
       "      <td>NaN</td>\n",
       "      <td>NaN</td>\n",
       "      <td>None</td>\n",
       "      <td>NaN</td>\n",
       "      <td>NaT</td>\n",
       "    </tr>\n",
       "    <tr>\n",
       "      <th>466</th>\n",
       "      <td>423</td>\n",
       "      <td>Jacob Nottingham</td>\n",
       "      <td>BAL</td>\n",
       "      <td>36</td>\n",
       "      <td>141</td>\n",
       "      <td>127</td>\n",
       "      <td>26</td>\n",
       "      <td>5</td>\n",
       "      <td>0</td>\n",
       "      <td>5</td>\n",
       "      <td>15</td>\n",
       "      <td>15</td>\n",
       "      <td>10</td>\n",
       "      <td>46</td>\n",
       "      <td>2</td>\n",
       "      <td>2</td>\n",
       "      <td>0.202</td>\n",
       "      <td>0.270</td>\n",
       "      <td>0.365</td>\n",
       "      <td>0.635</td>\n",
       "      <td>0.2</td>\n",
       "      <td>16448</td>\n",
       "      <td>63</td>\n",
       "      <td>DH</td>\n",
       "      <td>-27.785540</td>\n",
       "      <td>DH</td>\n",
       "      <td>False</td>\n",
       "      <td>NaN</td>\n",
       "      <td>NaN</td>\n",
       "      <td>NaN</td>\n",
       "      <td>NaN</td>\n",
       "      <td>NaN</td>\n",
       "      <td>NaN</td>\n",
       "      <td>NaN</td>\n",
       "      <td>NaN</td>\n",
       "      <td>NaN</td>\n",
       "      <td>NaN</td>\n",
       "      <td>None</td>\n",
       "      <td>NaN</td>\n",
       "      <td>NaT</td>\n",
       "    </tr>\n",
       "    <tr>\n",
       "      <th>604</th>\n",
       "      <td>594</td>\n",
       "      <td>Jorge Ona</td>\n",
       "      <td>SDP</td>\n",
       "      <td>3</td>\n",
       "      <td>14</td>\n",
       "      <td>13</td>\n",
       "      <td>3</td>\n",
       "      <td>1</td>\n",
       "      <td>0</td>\n",
       "      <td>0</td>\n",
       "      <td>1</td>\n",
       "      <td>2</td>\n",
       "      <td>1</td>\n",
       "      <td>4</td>\n",
       "      <td>0</td>\n",
       "      <td>0</td>\n",
       "      <td>0.226</td>\n",
       "      <td>0.290</td>\n",
       "      <td>0.369</td>\n",
       "      <td>0.659</td>\n",
       "      <td>0.0</td>\n",
       "      <td>20040</td>\n",
       "      <td>6</td>\n",
       "      <td>DH</td>\n",
       "      <td>-34.173905</td>\n",
       "      <td>DH</td>\n",
       "      <td>False</td>\n",
       "      <td>NaN</td>\n",
       "      <td>NaN</td>\n",
       "      <td>NaN</td>\n",
       "      <td>NaN</td>\n",
       "      <td>NaN</td>\n",
       "      <td>NaN</td>\n",
       "      <td>NaN</td>\n",
       "      <td>NaN</td>\n",
       "      <td>NaN</td>\n",
       "      <td>NaN</td>\n",
       "      <td>None</td>\n",
       "      <td>NaN</td>\n",
       "      <td>NaT</td>\n",
       "    </tr>\n",
       "  </tbody>\n",
       "</table>\n",
       "<p>628 rows × 40 columns</p>\n",
       "</div>"
      ],
      "text/plain": [
       "     index                   Name  Team    G   PA   AB    H  2B  3B  HR    R  \\\n",
       "0        3  Vladimir Guerrero Jr.   TOR  154  665  575  178  31   2  44  109   \n",
       "1        1     Fernando Tatis Jr.   SDP  151  651  564  158  30   2  44  112   \n",
       "2        0              Juan Soto   WSN  154  665  519  161  29   2  37  112   \n",
       "39      77         Salvador Perez   KCR  149  601  560  146  26   1  36   79   \n",
       "4       17            Bo Bichette   TOR  152  658  601  176  36   2  28   96   \n",
       "..     ...                    ...   ...  ...  ...  ...  ...  ..  ..  ..  ...   \n",
       "158    214         Eugenio Suarez   CIN  123  532  464  104  19   1  27   65   \n",
       "159    118           Nico Hoerner   CHC  131  567  507  141  29   2   8   56   \n",
       "350    412            Khris Davis  None   53  231  207   48   8   1  12   29   \n",
       "466    423       Jacob Nottingham   BAL   36  141  127   26   5   0   5   15   \n",
       "604    594              Jorge Ona   SDP    3   14   13    3   1   0   0    1   \n",
       "\n",
       "     RBI   BB   SO  HBP  SB    AVG    OBP    SLG    OPS  WAR playerid  sorter  \\\n",
       "0    122   77  102    6   4  0.309  0.394  0.598  0.992  6.0    19611     457   \n",
       "1    103   72  161    7  25  0.281  0.366  0.575  0.941  6.7    19709     442   \n",
       "2    106  135   96    5  12  0.310  0.453  0.586  1.039  7.2    20123     428   \n",
       "39    99   26  147   10   1  0.260  0.302  0.504  0.806  2.7     7304     361   \n",
       "4     94   43  121    6  17  0.292  0.343  0.496  0.839  4.7    19612     411   \n",
       "..   ...  ...  ...  ...  ..    ...    ...    ...    ...  ...      ...     ...   \n",
       "158   77   55  153    7   2  0.224  0.314  0.444  0.758  1.3    12552     275   \n",
       "159   57   45   85    8  13  0.278  0.344  0.391  0.735  2.2    21479     275   \n",
       "350   33   19   63    3   1  0.231  0.301  0.458  0.758  0.2     9112     123   \n",
       "466   15   10   46    2   2  0.202  0.270  0.365  0.635  0.2    16448      63   \n",
       "604    2    1    4    0   0  0.226  0.290  0.369  0.659  0.0    20040       6   \n",
       "\n",
       "            Pos    Dollars Primary_Pos   Used         BA       zPA       zAB  \\\n",
       "0        1B, DH  40.252202          1B   True  33.335606  0.469136  0.066225   \n",
       "1        SS, OF  40.784208          OF   True  17.161705  1.085635  0.795666   \n",
       "2            OF  37.932103          OF   True  31.398803  1.472376 -0.597523   \n",
       "39        C, DH  25.055800           C   True  13.626102  1.846395  2.221122   \n",
       "4        SS, DH  28.080286          SS   True  22.819346  0.762542  1.044218   \n",
       "..          ...        ...         ...    ...        ...       ...       ...   \n",
       "158      3B, SS   1.000000          DH   True        NaN -1.069620 -1.199262   \n",
       "159  2B, SS, OF  -0.793976          DH   True        NaN  0.037975  0.387454   \n",
       "350          DH -18.514938          DH  False        NaN       NaN       NaN   \n",
       "466          DH -27.785540          DH  False        NaN       NaN       NaN   \n",
       "604          DH -34.173905          DH  False        NaN       NaN       NaN   \n",
       "\n",
       "          zBA       zHR      zRBI        zR       zSB          z      Value  \\\n",
       "0    2.389664  1.854545  2.071429  2.022727  0.476190  14.063823  54.473907   \n",
       "1    1.153108  2.100000  1.459854  2.669643  2.208333  13.641913  52.839708   \n",
       "2    2.548902  1.225000  1.678832  2.669643  0.402778  12.576129  48.711571   \n",
       "39   1.449278  2.566667  2.485507  1.950495 -0.750000  11.792357  45.675756   \n",
       "4    1.601935  0.900000  1.367089  1.632911  0.900000  11.621147  45.012602   \n",
       "..        ...       ...       ...       ...       ...        ...        ...   \n",
       "158       NaN  1.306452  1.321839 -0.671429 -1.196429        NaN        NaN   \n",
       "159       NaN -1.758065 -0.977011 -1.957143  0.767857        NaN        NaN   \n",
       "350       NaN       NaN       NaN       NaN       NaN        NaN        NaN   \n",
       "466       NaN       NaN       NaN       NaN       NaN        NaN        NaN   \n",
       "604       NaN       NaN       NaN       NaN       NaN        NaN        NaN   \n",
       "\n",
       "           Owner  Paid                  Timestamp  \n",
       "0         Harvey  24.0 2022-01-13 19:56:12.110798  \n",
       "1      Lima Time  36.0 2022-01-13 19:56:29.806066  \n",
       "2        Trouble  39.0 2022-01-13 19:57:48.386218  \n",
       "39       Charmer  21.0 2022-01-13 22:13:48.338069  \n",
       "4    Roid Ragers  30.0 2022-01-13 20:01:42.395693  \n",
       "..           ...   ...                        ...  \n",
       "158     Midnight   6.0 2022-01-13 21:51:38.241228  \n",
       "159         None   NaN                        NaT  \n",
       "350         None   NaN                        NaT  \n",
       "466         None   NaN                        NaT  \n",
       "604         None   NaN                        NaT  \n",
       "\n",
       "[628 rows x 40 columns]"
      ]
     },
     "execution_count": 46,
     "metadata": {},
     "output_type": "execute_result"
    }
   ],
   "source": [
    "h.sort_values('z', ascending=False)"
   ]
  },
  {
   "cell_type": "code",
   "execution_count": 14,
   "id": "85a14614",
   "metadata": {},
   "outputs": [
    {
     "data": {
      "text/html": [
       "<div>\n",
       "<style scoped>\n",
       "    .dataframe tbody tr th:only-of-type {\n",
       "        vertical-align: middle;\n",
       "    }\n",
       "\n",
       "    .dataframe tbody tr th {\n",
       "        vertical-align: top;\n",
       "    }\n",
       "\n",
       "    .dataframe thead th {\n",
       "        text-align: right;\n",
       "    }\n",
       "</style>\n",
       "<table border=\"1\" class=\"dataframe\">\n",
       "  <thead>\n",
       "    <tr style=\"text-align: right;\">\n",
       "      <th></th>\n",
       "      <th>Name</th>\n",
       "      <th>z</th>\n",
       "      <th>Dollars</th>\n",
       "      <th>Pos</th>\n",
       "    </tr>\n",
       "  </thead>\n",
       "  <tbody>\n",
       "    <tr>\n",
       "      <th>31</th>\n",
       "      <td>Jared Walsh</td>\n",
       "      <td>4.162144</td>\n",
       "      <td>17.504832</td>\n",
       "      <td>1B, OF</td>\n",
       "    </tr>\n",
       "    <tr>\n",
       "      <th>46</th>\n",
       "      <td>Ryan Mountcastle</td>\n",
       "      <td>3.448506</td>\n",
       "      <td>14.869896</td>\n",
       "      <td>1B, OF, DH</td>\n",
       "    </tr>\n",
       "    <tr>\n",
       "      <th>162</th>\n",
       "      <td>Alec Bohm</td>\n",
       "      <td>-10.336413</td>\n",
       "      <td>-1.009455</td>\n",
       "      <td>1B, 3B</td>\n",
       "    </tr>\n",
       "    <tr>\n",
       "      <th>165</th>\n",
       "      <td>Seth Brown</td>\n",
       "      <td>-9.652087</td>\n",
       "      <td>-1.844754</td>\n",
       "      <td>1B, OF, DH</td>\n",
       "    </tr>\n",
       "    <tr>\n",
       "      <th>168</th>\n",
       "      <td>Jesus Aguilar</td>\n",
       "      <td>-10.345003</td>\n",
       "      <td>1.246184</td>\n",
       "      <td>1B</td>\n",
       "    </tr>\n",
       "    <tr>\n",
       "      <th>176</th>\n",
       "      <td>Andrew Vaughn</td>\n",
       "      <td>-10.337913</td>\n",
       "      <td>-0.161136</td>\n",
       "      <td>1B, OF, DH</td>\n",
       "    </tr>\n",
       "    <tr>\n",
       "      <th>181</th>\n",
       "      <td>Miguel Cabrera</td>\n",
       "      <td>-12.321601</td>\n",
       "      <td>-3.075281</td>\n",
       "      <td>1B, DH</td>\n",
       "    </tr>\n",
       "    <tr>\n",
       "      <th>182</th>\n",
       "      <td>Bobby Bradley</td>\n",
       "      <td>-11.138588</td>\n",
       "      <td>-2.503977</td>\n",
       "      <td>1B, DH</td>\n",
       "    </tr>\n",
       "    <tr>\n",
       "      <th>188</th>\n",
       "      <td>LaMonte Wade Jr.</td>\n",
       "      <td>-10.196542</td>\n",
       "      <td>-2.913432</td>\n",
       "      <td>1B, OF</td>\n",
       "    </tr>\n",
       "    <tr>\n",
       "      <th>192</th>\n",
       "      <td>Gavin Sheets</td>\n",
       "      <td>-10.787844</td>\n",
       "      <td>-0.492015</td>\n",
       "      <td>1B, OF, DH</td>\n",
       "    </tr>\n",
       "  </tbody>\n",
       "</table>\n",
       "</div>"
      ],
      "text/plain": [
       "                 Name          z    Dollars         Pos\n",
       "31        Jared Walsh   4.162144  17.504832      1B, OF\n",
       "46   Ryan Mountcastle   3.448506  14.869896  1B, OF, DH\n",
       "162         Alec Bohm -10.336413  -1.009455      1B, 3B\n",
       "165        Seth Brown  -9.652087  -1.844754  1B, OF, DH\n",
       "168     Jesus Aguilar -10.345003   1.246184          1B\n",
       "176     Andrew Vaughn -10.337913  -0.161136  1B, OF, DH\n",
       "181    Miguel Cabrera -12.321601  -3.075281      1B, DH\n",
       "182     Bobby Bradley -11.138588  -2.503977      1B, DH\n",
       "188  LaMonte Wade Jr. -10.196542  -2.913432      1B, OF\n",
       "192      Gavin Sheets -10.787844  -0.492015  1B, OF, DH"
      ]
     },
     "execution_count": 14,
     "metadata": {},
     "output_type": "execute_result"
    }
   ],
   "source": [
    "mask = (h['Owner'].isna()) & (h['Primary_Pos']=='1B')\n",
    "h[mask][['Name', 'z', 'Dollars', 'Pos']].head(10)"
   ]
  },
  {
   "cell_type": "code",
   "execution_count": 53,
   "id": "922ad18d",
   "metadata": {},
   "outputs": [
    {
     "data": {
      "text/plain": [
       "1536.0"
      ]
     },
     "execution_count": 53,
     "metadata": {},
     "output_type": "execute_result"
    }
   ],
   "source": [
    "h['Paid'].sum()"
   ]
  },
  {
   "cell_type": "code",
   "execution_count": 48,
   "id": "956d3948",
   "metadata": {},
   "outputs": [
    {
     "data": {
      "application/vnd.plotly.v1+json": {
       "config": {
        "plotlyServerURL": "https://plot.ly"
       },
       "data": [
        {
         "type": "scatter",
         "x": [
          "Jared Walsh",
          "Ryan Mountcastle",
          "Seth Brown",
          "Matt Vierling",
          "LaMonte Wade Jr.",
          "Alec Bohm",
          "Andrew Vaughn",
          "Jesus Aguilar",
          "Gavin Sheets",
          "Bobby Bradley"
         ],
         "y": [
          4.162144236534488,
          3.4485064750104906,
          -10.336412927006986,
          -9.652086828891948,
          -10.345003376644284,
          -10.337913207697076,
          -12.321600644384995,
          -11.138587830908527,
          -10.196542232620473,
          -10.787844394195517
         ]
        }
       ],
       "layout": {
        "template": {
         "data": {
          "bar": [
           {
            "error_x": {
             "color": "#2a3f5f"
            },
            "error_y": {
             "color": "#2a3f5f"
            },
            "marker": {
             "line": {
              "color": "#E5ECF6",
              "width": 0.5
             }
            },
            "type": "bar"
           }
          ],
          "barpolar": [
           {
            "marker": {
             "line": {
              "color": "#E5ECF6",
              "width": 0.5
             }
            },
            "type": "barpolar"
           }
          ],
          "carpet": [
           {
            "aaxis": {
             "endlinecolor": "#2a3f5f",
             "gridcolor": "white",
             "linecolor": "white",
             "minorgridcolor": "white",
             "startlinecolor": "#2a3f5f"
            },
            "baxis": {
             "endlinecolor": "#2a3f5f",
             "gridcolor": "white",
             "linecolor": "white",
             "minorgridcolor": "white",
             "startlinecolor": "#2a3f5f"
            },
            "type": "carpet"
           }
          ],
          "choropleth": [
           {
            "colorbar": {
             "outlinewidth": 0,
             "ticks": ""
            },
            "type": "choropleth"
           }
          ],
          "contour": [
           {
            "colorbar": {
             "outlinewidth": 0,
             "ticks": ""
            },
            "colorscale": [
             [
              0,
              "#0d0887"
             ],
             [
              0.1111111111111111,
              "#46039f"
             ],
             [
              0.2222222222222222,
              "#7201a8"
             ],
             [
              0.3333333333333333,
              "#9c179e"
             ],
             [
              0.4444444444444444,
              "#bd3786"
             ],
             [
              0.5555555555555556,
              "#d8576b"
             ],
             [
              0.6666666666666666,
              "#ed7953"
             ],
             [
              0.7777777777777778,
              "#fb9f3a"
             ],
             [
              0.8888888888888888,
              "#fdca26"
             ],
             [
              1,
              "#f0f921"
             ]
            ],
            "type": "contour"
           }
          ],
          "contourcarpet": [
           {
            "colorbar": {
             "outlinewidth": 0,
             "ticks": ""
            },
            "type": "contourcarpet"
           }
          ],
          "heatmap": [
           {
            "colorbar": {
             "outlinewidth": 0,
             "ticks": ""
            },
            "colorscale": [
             [
              0,
              "#0d0887"
             ],
             [
              0.1111111111111111,
              "#46039f"
             ],
             [
              0.2222222222222222,
              "#7201a8"
             ],
             [
              0.3333333333333333,
              "#9c179e"
             ],
             [
              0.4444444444444444,
              "#bd3786"
             ],
             [
              0.5555555555555556,
              "#d8576b"
             ],
             [
              0.6666666666666666,
              "#ed7953"
             ],
             [
              0.7777777777777778,
              "#fb9f3a"
             ],
             [
              0.8888888888888888,
              "#fdca26"
             ],
             [
              1,
              "#f0f921"
             ]
            ],
            "type": "heatmap"
           }
          ],
          "heatmapgl": [
           {
            "colorbar": {
             "outlinewidth": 0,
             "ticks": ""
            },
            "colorscale": [
             [
              0,
              "#0d0887"
             ],
             [
              0.1111111111111111,
              "#46039f"
             ],
             [
              0.2222222222222222,
              "#7201a8"
             ],
             [
              0.3333333333333333,
              "#9c179e"
             ],
             [
              0.4444444444444444,
              "#bd3786"
             ],
             [
              0.5555555555555556,
              "#d8576b"
             ],
             [
              0.6666666666666666,
              "#ed7953"
             ],
             [
              0.7777777777777778,
              "#fb9f3a"
             ],
             [
              0.8888888888888888,
              "#fdca26"
             ],
             [
              1,
              "#f0f921"
             ]
            ],
            "type": "heatmapgl"
           }
          ],
          "histogram": [
           {
            "marker": {
             "colorbar": {
              "outlinewidth": 0,
              "ticks": ""
             }
            },
            "type": "histogram"
           }
          ],
          "histogram2d": [
           {
            "colorbar": {
             "outlinewidth": 0,
             "ticks": ""
            },
            "colorscale": [
             [
              0,
              "#0d0887"
             ],
             [
              0.1111111111111111,
              "#46039f"
             ],
             [
              0.2222222222222222,
              "#7201a8"
             ],
             [
              0.3333333333333333,
              "#9c179e"
             ],
             [
              0.4444444444444444,
              "#bd3786"
             ],
             [
              0.5555555555555556,
              "#d8576b"
             ],
             [
              0.6666666666666666,
              "#ed7953"
             ],
             [
              0.7777777777777778,
              "#fb9f3a"
             ],
             [
              0.8888888888888888,
              "#fdca26"
             ],
             [
              1,
              "#f0f921"
             ]
            ],
            "type": "histogram2d"
           }
          ],
          "histogram2dcontour": [
           {
            "colorbar": {
             "outlinewidth": 0,
             "ticks": ""
            },
            "colorscale": [
             [
              0,
              "#0d0887"
             ],
             [
              0.1111111111111111,
              "#46039f"
             ],
             [
              0.2222222222222222,
              "#7201a8"
             ],
             [
              0.3333333333333333,
              "#9c179e"
             ],
             [
              0.4444444444444444,
              "#bd3786"
             ],
             [
              0.5555555555555556,
              "#d8576b"
             ],
             [
              0.6666666666666666,
              "#ed7953"
             ],
             [
              0.7777777777777778,
              "#fb9f3a"
             ],
             [
              0.8888888888888888,
              "#fdca26"
             ],
             [
              1,
              "#f0f921"
             ]
            ],
            "type": "histogram2dcontour"
           }
          ],
          "mesh3d": [
           {
            "colorbar": {
             "outlinewidth": 0,
             "ticks": ""
            },
            "type": "mesh3d"
           }
          ],
          "parcoords": [
           {
            "line": {
             "colorbar": {
              "outlinewidth": 0,
              "ticks": ""
             }
            },
            "type": "parcoords"
           }
          ],
          "pie": [
           {
            "automargin": true,
            "type": "pie"
           }
          ],
          "scatter": [
           {
            "marker": {
             "colorbar": {
              "outlinewidth": 0,
              "ticks": ""
             }
            },
            "type": "scatter"
           }
          ],
          "scatter3d": [
           {
            "line": {
             "colorbar": {
              "outlinewidth": 0,
              "ticks": ""
             }
            },
            "marker": {
             "colorbar": {
              "outlinewidth": 0,
              "ticks": ""
             }
            },
            "type": "scatter3d"
           }
          ],
          "scattercarpet": [
           {
            "marker": {
             "colorbar": {
              "outlinewidth": 0,
              "ticks": ""
             }
            },
            "type": "scattercarpet"
           }
          ],
          "scattergeo": [
           {
            "marker": {
             "colorbar": {
              "outlinewidth": 0,
              "ticks": ""
             }
            },
            "type": "scattergeo"
           }
          ],
          "scattergl": [
           {
            "marker": {
             "colorbar": {
              "outlinewidth": 0,
              "ticks": ""
             }
            },
            "type": "scattergl"
           }
          ],
          "scattermapbox": [
           {
            "marker": {
             "colorbar": {
              "outlinewidth": 0,
              "ticks": ""
             }
            },
            "type": "scattermapbox"
           }
          ],
          "scatterpolar": [
           {
            "marker": {
             "colorbar": {
              "outlinewidth": 0,
              "ticks": ""
             }
            },
            "type": "scatterpolar"
           }
          ],
          "scatterpolargl": [
           {
            "marker": {
             "colorbar": {
              "outlinewidth": 0,
              "ticks": ""
             }
            },
            "type": "scatterpolargl"
           }
          ],
          "scatterternary": [
           {
            "marker": {
             "colorbar": {
              "outlinewidth": 0,
              "ticks": ""
             }
            },
            "type": "scatterternary"
           }
          ],
          "surface": [
           {
            "colorbar": {
             "outlinewidth": 0,
             "ticks": ""
            },
            "colorscale": [
             [
              0,
              "#0d0887"
             ],
             [
              0.1111111111111111,
              "#46039f"
             ],
             [
              0.2222222222222222,
              "#7201a8"
             ],
             [
              0.3333333333333333,
              "#9c179e"
             ],
             [
              0.4444444444444444,
              "#bd3786"
             ],
             [
              0.5555555555555556,
              "#d8576b"
             ],
             [
              0.6666666666666666,
              "#ed7953"
             ],
             [
              0.7777777777777778,
              "#fb9f3a"
             ],
             [
              0.8888888888888888,
              "#fdca26"
             ],
             [
              1,
              "#f0f921"
             ]
            ],
            "type": "surface"
           }
          ],
          "table": [
           {
            "cells": {
             "fill": {
              "color": "#EBF0F8"
             },
             "line": {
              "color": "white"
             }
            },
            "header": {
             "fill": {
              "color": "#C8D4E3"
             },
             "line": {
              "color": "white"
             }
            },
            "type": "table"
           }
          ]
         },
         "layout": {
          "annotationdefaults": {
           "arrowcolor": "#2a3f5f",
           "arrowhead": 0,
           "arrowwidth": 1
          },
          "autotypenumbers": "strict",
          "coloraxis": {
           "colorbar": {
            "outlinewidth": 0,
            "ticks": ""
           }
          },
          "colorscale": {
           "diverging": [
            [
             0,
             "#8e0152"
            ],
            [
             0.1,
             "#c51b7d"
            ],
            [
             0.2,
             "#de77ae"
            ],
            [
             0.3,
             "#f1b6da"
            ],
            [
             0.4,
             "#fde0ef"
            ],
            [
             0.5,
             "#f7f7f7"
            ],
            [
             0.6,
             "#e6f5d0"
            ],
            [
             0.7,
             "#b8e186"
            ],
            [
             0.8,
             "#7fbc41"
            ],
            [
             0.9,
             "#4d9221"
            ],
            [
             1,
             "#276419"
            ]
           ],
           "sequential": [
            [
             0,
             "#0d0887"
            ],
            [
             0.1111111111111111,
             "#46039f"
            ],
            [
             0.2222222222222222,
             "#7201a8"
            ],
            [
             0.3333333333333333,
             "#9c179e"
            ],
            [
             0.4444444444444444,
             "#bd3786"
            ],
            [
             0.5555555555555556,
             "#d8576b"
            ],
            [
             0.6666666666666666,
             "#ed7953"
            ],
            [
             0.7777777777777778,
             "#fb9f3a"
            ],
            [
             0.8888888888888888,
             "#fdca26"
            ],
            [
             1,
             "#f0f921"
            ]
           ],
           "sequentialminus": [
            [
             0,
             "#0d0887"
            ],
            [
             0.1111111111111111,
             "#46039f"
            ],
            [
             0.2222222222222222,
             "#7201a8"
            ],
            [
             0.3333333333333333,
             "#9c179e"
            ],
            [
             0.4444444444444444,
             "#bd3786"
            ],
            [
             0.5555555555555556,
             "#d8576b"
            ],
            [
             0.6666666666666666,
             "#ed7953"
            ],
            [
             0.7777777777777778,
             "#fb9f3a"
            ],
            [
             0.8888888888888888,
             "#fdca26"
            ],
            [
             1,
             "#f0f921"
            ]
           ]
          },
          "colorway": [
           "#636efa",
           "#EF553B",
           "#00cc96",
           "#ab63fa",
           "#FFA15A",
           "#19d3f3",
           "#FF6692",
           "#B6E880",
           "#FF97FF",
           "#FECB52"
          ],
          "font": {
           "color": "#2a3f5f"
          },
          "geo": {
           "bgcolor": "white",
           "lakecolor": "white",
           "landcolor": "#E5ECF6",
           "showlakes": true,
           "showland": true,
           "subunitcolor": "white"
          },
          "hoverlabel": {
           "align": "left"
          },
          "hovermode": "closest",
          "mapbox": {
           "style": "light"
          },
          "paper_bgcolor": "white",
          "plot_bgcolor": "#E5ECF6",
          "polar": {
           "angularaxis": {
            "gridcolor": "white",
            "linecolor": "white",
            "ticks": ""
           },
           "bgcolor": "#E5ECF6",
           "radialaxis": {
            "gridcolor": "white",
            "linecolor": "white",
            "ticks": ""
           }
          },
          "scene": {
           "xaxis": {
            "backgroundcolor": "#E5ECF6",
            "gridcolor": "white",
            "gridwidth": 2,
            "linecolor": "white",
            "showbackground": true,
            "ticks": "",
            "zerolinecolor": "white"
           },
           "yaxis": {
            "backgroundcolor": "#E5ECF6",
            "gridcolor": "white",
            "gridwidth": 2,
            "linecolor": "white",
            "showbackground": true,
            "ticks": "",
            "zerolinecolor": "white"
           },
           "zaxis": {
            "backgroundcolor": "#E5ECF6",
            "gridcolor": "white",
            "gridwidth": 2,
            "linecolor": "white",
            "showbackground": true,
            "ticks": "",
            "zerolinecolor": "white"
           }
          },
          "shapedefaults": {
           "line": {
            "color": "#2a3f5f"
           }
          },
          "ternary": {
           "aaxis": {
            "gridcolor": "white",
            "linecolor": "white",
            "ticks": ""
           },
           "baxis": {
            "gridcolor": "white",
            "linecolor": "white",
            "ticks": ""
           },
           "bgcolor": "#E5ECF6",
           "caxis": {
            "gridcolor": "white",
            "linecolor": "white",
            "ticks": ""
           }
          },
          "title": {
           "x": 0.05
          },
          "xaxis": {
           "automargin": true,
           "gridcolor": "white",
           "linecolor": "white",
           "ticks": "",
           "title": {
            "standoff": 15
           },
           "zerolinecolor": "white",
           "zerolinewidth": 2
          },
          "yaxis": {
           "automargin": true,
           "gridcolor": "white",
           "linecolor": "white",
           "ticks": "",
           "title": {
            "standoff": 15
           },
           "zerolinecolor": "white",
           "zerolinewidth": 2
          }
         }
        }
       }
      },
      "text/html": [
       "<div>                            <div id=\"26e25c39-fe86-456a-a26d-2e58a05f3e56\" class=\"plotly-graph-div\" style=\"height:525px; width:100%;\"></div>            <script type=\"text/javascript\">                require([\"plotly\"], function(Plotly) {                    window.PLOTLYENV=window.PLOTLYENV || {};                                    if (document.getElementById(\"26e25c39-fe86-456a-a26d-2e58a05f3e56\")) {                    Plotly.newPlot(                        \"26e25c39-fe86-456a-a26d-2e58a05f3e56\",                        [{\"type\": \"scatter\", \"x\": [\"Jared Walsh\", \"Ryan Mountcastle\", \"Seth Brown\", \"Matt Vierling\", \"LaMonte Wade Jr.\", \"Alec Bohm\", \"Andrew Vaughn\", \"Jesus Aguilar\", \"Gavin Sheets\", \"Bobby Bradley\"], \"y\": [4.162144236534488, 3.4485064750104906, -10.336412927006986, -9.652086828891948, -10.345003376644284, -10.337913207697076, -12.321600644384995, -11.138587830908527, -10.196542232620473, -10.787844394195517]}],                        {\"template\": {\"data\": {\"bar\": [{\"error_x\": {\"color\": \"#2a3f5f\"}, \"error_y\": {\"color\": \"#2a3f5f\"}, \"marker\": {\"line\": {\"color\": \"#E5ECF6\", \"width\": 0.5}}, \"type\": \"bar\"}], \"barpolar\": [{\"marker\": {\"line\": {\"color\": \"#E5ECF6\", \"width\": 0.5}}, \"type\": \"barpolar\"}], \"carpet\": [{\"aaxis\": {\"endlinecolor\": \"#2a3f5f\", \"gridcolor\": \"white\", \"linecolor\": \"white\", \"minorgridcolor\": \"white\", \"startlinecolor\": \"#2a3f5f\"}, \"baxis\": {\"endlinecolor\": \"#2a3f5f\", \"gridcolor\": \"white\", \"linecolor\": \"white\", \"minorgridcolor\": \"white\", \"startlinecolor\": \"#2a3f5f\"}, \"type\": \"carpet\"}], \"choropleth\": [{\"colorbar\": {\"outlinewidth\": 0, \"ticks\": \"\"}, \"type\": \"choropleth\"}], \"contour\": [{\"colorbar\": {\"outlinewidth\": 0, \"ticks\": \"\"}, \"colorscale\": [[0.0, \"#0d0887\"], [0.1111111111111111, \"#46039f\"], [0.2222222222222222, \"#7201a8\"], [0.3333333333333333, \"#9c179e\"], [0.4444444444444444, \"#bd3786\"], [0.5555555555555556, \"#d8576b\"], [0.6666666666666666, \"#ed7953\"], [0.7777777777777778, \"#fb9f3a\"], [0.8888888888888888, \"#fdca26\"], [1.0, \"#f0f921\"]], \"type\": \"contour\"}], \"contourcarpet\": [{\"colorbar\": {\"outlinewidth\": 0, \"ticks\": \"\"}, \"type\": \"contourcarpet\"}], \"heatmap\": [{\"colorbar\": {\"outlinewidth\": 0, \"ticks\": \"\"}, \"colorscale\": [[0.0, \"#0d0887\"], [0.1111111111111111, \"#46039f\"], [0.2222222222222222, \"#7201a8\"], [0.3333333333333333, \"#9c179e\"], [0.4444444444444444, \"#bd3786\"], [0.5555555555555556, \"#d8576b\"], [0.6666666666666666, \"#ed7953\"], [0.7777777777777778, \"#fb9f3a\"], [0.8888888888888888, \"#fdca26\"], [1.0, \"#f0f921\"]], \"type\": \"heatmap\"}], \"heatmapgl\": [{\"colorbar\": {\"outlinewidth\": 0, \"ticks\": \"\"}, \"colorscale\": [[0.0, \"#0d0887\"], [0.1111111111111111, \"#46039f\"], [0.2222222222222222, \"#7201a8\"], [0.3333333333333333, \"#9c179e\"], [0.4444444444444444, \"#bd3786\"], [0.5555555555555556, \"#d8576b\"], [0.6666666666666666, \"#ed7953\"], [0.7777777777777778, \"#fb9f3a\"], [0.8888888888888888, \"#fdca26\"], [1.0, \"#f0f921\"]], \"type\": \"heatmapgl\"}], \"histogram\": [{\"marker\": {\"colorbar\": {\"outlinewidth\": 0, \"ticks\": \"\"}}, \"type\": \"histogram\"}], \"histogram2d\": [{\"colorbar\": {\"outlinewidth\": 0, \"ticks\": \"\"}, \"colorscale\": [[0.0, \"#0d0887\"], [0.1111111111111111, \"#46039f\"], [0.2222222222222222, \"#7201a8\"], [0.3333333333333333, \"#9c179e\"], [0.4444444444444444, \"#bd3786\"], [0.5555555555555556, \"#d8576b\"], [0.6666666666666666, \"#ed7953\"], [0.7777777777777778, \"#fb9f3a\"], [0.8888888888888888, \"#fdca26\"], [1.0, \"#f0f921\"]], \"type\": \"histogram2d\"}], \"histogram2dcontour\": [{\"colorbar\": {\"outlinewidth\": 0, \"ticks\": \"\"}, \"colorscale\": [[0.0, \"#0d0887\"], [0.1111111111111111, \"#46039f\"], [0.2222222222222222, \"#7201a8\"], [0.3333333333333333, \"#9c179e\"], [0.4444444444444444, \"#bd3786\"], [0.5555555555555556, \"#d8576b\"], [0.6666666666666666, \"#ed7953\"], [0.7777777777777778, \"#fb9f3a\"], [0.8888888888888888, \"#fdca26\"], [1.0, \"#f0f921\"]], \"type\": \"histogram2dcontour\"}], \"mesh3d\": [{\"colorbar\": {\"outlinewidth\": 0, \"ticks\": \"\"}, \"type\": \"mesh3d\"}], \"parcoords\": [{\"line\": {\"colorbar\": {\"outlinewidth\": 0, \"ticks\": \"\"}}, \"type\": \"parcoords\"}], \"pie\": [{\"automargin\": true, \"type\": \"pie\"}], \"scatter\": [{\"marker\": {\"colorbar\": {\"outlinewidth\": 0, \"ticks\": \"\"}}, \"type\": \"scatter\"}], \"scatter3d\": [{\"line\": {\"colorbar\": {\"outlinewidth\": 0, \"ticks\": \"\"}}, \"marker\": {\"colorbar\": {\"outlinewidth\": 0, \"ticks\": \"\"}}, \"type\": \"scatter3d\"}], \"scattercarpet\": [{\"marker\": {\"colorbar\": {\"outlinewidth\": 0, \"ticks\": \"\"}}, \"type\": \"scattercarpet\"}], \"scattergeo\": [{\"marker\": {\"colorbar\": {\"outlinewidth\": 0, \"ticks\": \"\"}}, \"type\": \"scattergeo\"}], \"scattergl\": [{\"marker\": {\"colorbar\": {\"outlinewidth\": 0, \"ticks\": \"\"}}, \"type\": \"scattergl\"}], \"scattermapbox\": [{\"marker\": {\"colorbar\": {\"outlinewidth\": 0, \"ticks\": \"\"}}, \"type\": \"scattermapbox\"}], \"scatterpolar\": [{\"marker\": {\"colorbar\": {\"outlinewidth\": 0, \"ticks\": \"\"}}, \"type\": \"scatterpolar\"}], \"scatterpolargl\": [{\"marker\": {\"colorbar\": {\"outlinewidth\": 0, \"ticks\": \"\"}}, \"type\": \"scatterpolargl\"}], \"scatterternary\": [{\"marker\": {\"colorbar\": {\"outlinewidth\": 0, \"ticks\": \"\"}}, \"type\": \"scatterternary\"}], \"surface\": [{\"colorbar\": {\"outlinewidth\": 0, \"ticks\": \"\"}, \"colorscale\": [[0.0, \"#0d0887\"], [0.1111111111111111, \"#46039f\"], [0.2222222222222222, \"#7201a8\"], [0.3333333333333333, \"#9c179e\"], [0.4444444444444444, \"#bd3786\"], [0.5555555555555556, \"#d8576b\"], [0.6666666666666666, \"#ed7953\"], [0.7777777777777778, \"#fb9f3a\"], [0.8888888888888888, \"#fdca26\"], [1.0, \"#f0f921\"]], \"type\": \"surface\"}], \"table\": [{\"cells\": {\"fill\": {\"color\": \"#EBF0F8\"}, \"line\": {\"color\": \"white\"}}, \"header\": {\"fill\": {\"color\": \"#C8D4E3\"}, \"line\": {\"color\": \"white\"}}, \"type\": \"table\"}]}, \"layout\": {\"annotationdefaults\": {\"arrowcolor\": \"#2a3f5f\", \"arrowhead\": 0, \"arrowwidth\": 1}, \"autotypenumbers\": \"strict\", \"coloraxis\": {\"colorbar\": {\"outlinewidth\": 0, \"ticks\": \"\"}}, \"colorscale\": {\"diverging\": [[0, \"#8e0152\"], [0.1, \"#c51b7d\"], [0.2, \"#de77ae\"], [0.3, \"#f1b6da\"], [0.4, \"#fde0ef\"], [0.5, \"#f7f7f7\"], [0.6, \"#e6f5d0\"], [0.7, \"#b8e186\"], [0.8, \"#7fbc41\"], [0.9, \"#4d9221\"], [1, \"#276419\"]], \"sequential\": [[0.0, \"#0d0887\"], [0.1111111111111111, \"#46039f\"], [0.2222222222222222, \"#7201a8\"], [0.3333333333333333, \"#9c179e\"], [0.4444444444444444, \"#bd3786\"], [0.5555555555555556, \"#d8576b\"], [0.6666666666666666, \"#ed7953\"], [0.7777777777777778, \"#fb9f3a\"], [0.8888888888888888, \"#fdca26\"], [1.0, \"#f0f921\"]], \"sequentialminus\": [[0.0, \"#0d0887\"], [0.1111111111111111, \"#46039f\"], [0.2222222222222222, \"#7201a8\"], [0.3333333333333333, \"#9c179e\"], [0.4444444444444444, \"#bd3786\"], [0.5555555555555556, \"#d8576b\"], [0.6666666666666666, \"#ed7953\"], [0.7777777777777778, \"#fb9f3a\"], [0.8888888888888888, \"#fdca26\"], [1.0, \"#f0f921\"]]}, \"colorway\": [\"#636efa\", \"#EF553B\", \"#00cc96\", \"#ab63fa\", \"#FFA15A\", \"#19d3f3\", \"#FF6692\", \"#B6E880\", \"#FF97FF\", \"#FECB52\"], \"font\": {\"color\": \"#2a3f5f\"}, \"geo\": {\"bgcolor\": \"white\", \"lakecolor\": \"white\", \"landcolor\": \"#E5ECF6\", \"showlakes\": true, \"showland\": true, \"subunitcolor\": \"white\"}, \"hoverlabel\": {\"align\": \"left\"}, \"hovermode\": \"closest\", \"mapbox\": {\"style\": \"light\"}, \"paper_bgcolor\": \"white\", \"plot_bgcolor\": \"#E5ECF6\", \"polar\": {\"angularaxis\": {\"gridcolor\": \"white\", \"linecolor\": \"white\", \"ticks\": \"\"}, \"bgcolor\": \"#E5ECF6\", \"radialaxis\": {\"gridcolor\": \"white\", \"linecolor\": \"white\", \"ticks\": \"\"}}, \"scene\": {\"xaxis\": {\"backgroundcolor\": \"#E5ECF6\", \"gridcolor\": \"white\", \"gridwidth\": 2, \"linecolor\": \"white\", \"showbackground\": true, \"ticks\": \"\", \"zerolinecolor\": \"white\"}, \"yaxis\": {\"backgroundcolor\": \"#E5ECF6\", \"gridcolor\": \"white\", \"gridwidth\": 2, \"linecolor\": \"white\", \"showbackground\": true, \"ticks\": \"\", \"zerolinecolor\": \"white\"}, \"zaxis\": {\"backgroundcolor\": \"#E5ECF6\", \"gridcolor\": \"white\", \"gridwidth\": 2, \"linecolor\": \"white\", \"showbackground\": true, \"ticks\": \"\", \"zerolinecolor\": \"white\"}}, \"shapedefaults\": {\"line\": {\"color\": \"#2a3f5f\"}}, \"ternary\": {\"aaxis\": {\"gridcolor\": \"white\", \"linecolor\": \"white\", \"ticks\": \"\"}, \"baxis\": {\"gridcolor\": \"white\", \"linecolor\": \"white\", \"ticks\": \"\"}, \"bgcolor\": \"#E5ECF6\", \"caxis\": {\"gridcolor\": \"white\", \"linecolor\": \"white\", \"ticks\": \"\"}}, \"title\": {\"x\": 0.05}, \"xaxis\": {\"automargin\": true, \"gridcolor\": \"white\", \"linecolor\": \"white\", \"ticks\": \"\", \"title\": {\"standoff\": 15}, \"zerolinecolor\": \"white\", \"zerolinewidth\": 2}, \"yaxis\": {\"automargin\": true, \"gridcolor\": \"white\", \"linecolor\": \"white\", \"ticks\": \"\", \"title\": {\"standoff\": 15}, \"zerolinecolor\": \"white\", \"zerolinewidth\": 2}}}},                        {\"responsive\": true}                    ).then(function(){\n",
       "                            \n",
       "var gd = document.getElementById('26e25c39-fe86-456a-a26d-2e58a05f3e56');\n",
       "var x = new MutationObserver(function (mutations, observer) {{\n",
       "        var display = window.getComputedStyle(gd).display;\n",
       "        if (!display || display === 'none') {{\n",
       "            console.log([gd, 'removed!']);\n",
       "            Plotly.purge(gd);\n",
       "            observer.disconnect();\n",
       "        }}\n",
       "}});\n",
       "\n",
       "// Listen for the removal of the full notebook cells\n",
       "var notebookContainer = gd.closest('#notebook-container');\n",
       "if (notebookContainer) {{\n",
       "    x.observe(notebookContainer, {childList: true});\n",
       "}}\n",
       "\n",
       "// Listen for the clearing of the current output cell\n",
       "var outputEl = gd.closest('.output');\n",
       "if (outputEl) {{\n",
       "    x.observe(outputEl, {childList: true});\n",
       "}}\n",
       "\n",
       "                        })                };                });            </script>        </div>"
      ]
     },
     "metadata": {},
     "output_type": "display_data"
    }
   ],
   "source": [
    "fig = go.Figure()\n",
    "fig.add_trace(\n",
    "    go.Scatter(\n",
    "        x=h[mask].sort_values('z', ascending=False)['Name'].head(10),\n",
    "        y=h[mask]['z'].head(10),\n",
    "    )\n",
    ")\n",
    "fig.show()"
   ]
  },
  {
   "cell_type": "code",
   "execution_count": 35,
   "id": "ad8625f5",
   "metadata": {},
   "outputs": [
    {
     "data": {
      "text/plain": [
       "[2.5489022252324927,\n",
       " 2.6696428571428577,\n",
       " 1.6788321167883213,\n",
       " 1.225,\n",
       " 0.4027777777777778]"
      ]
     },
     "execution_count": 35,
     "metadata": {},
     "output_type": "execute_result"
    }
   ],
   "source": [
    "h[single_player][['zBA', 'zR', 'zRBI', 'zHR', 'zSB']].values.tolist()[0]"
   ]
  },
  {
   "cell_type": "code",
   "execution_count": 43,
   "id": "30b5b74e",
   "metadata": {},
   "outputs": [
    {
     "data": {
      "application/vnd.plotly.v1+json": {
       "config": {
        "plotlyServerURL": "https://plot.ly"
       },
       "data": [
        {
         "fill": "toself",
         "r": [
          -0.062956105347165,
          -0.8987341772151891,
          -0.40506329113924083,
          0.15000000000000036,
          1.1857142857142857
         ],
         "theta": [
          "zBA",
          "zR",
          "zRBI",
          "zHR",
          "zSB"
         ],
         "type": "scatterpolar"
        }
       ],
       "layout": {
        "polar": {
         "radialaxis": {
          "visible": true
         }
        },
        "showlegend": false,
        "template": {
         "data": {
          "bar": [
           {
            "error_x": {
             "color": "#2a3f5f"
            },
            "error_y": {
             "color": "#2a3f5f"
            },
            "marker": {
             "line": {
              "color": "#E5ECF6",
              "width": 0.5
             }
            },
            "type": "bar"
           }
          ],
          "barpolar": [
           {
            "marker": {
             "line": {
              "color": "#E5ECF6",
              "width": 0.5
             }
            },
            "type": "barpolar"
           }
          ],
          "carpet": [
           {
            "aaxis": {
             "endlinecolor": "#2a3f5f",
             "gridcolor": "white",
             "linecolor": "white",
             "minorgridcolor": "white",
             "startlinecolor": "#2a3f5f"
            },
            "baxis": {
             "endlinecolor": "#2a3f5f",
             "gridcolor": "white",
             "linecolor": "white",
             "minorgridcolor": "white",
             "startlinecolor": "#2a3f5f"
            },
            "type": "carpet"
           }
          ],
          "choropleth": [
           {
            "colorbar": {
             "outlinewidth": 0,
             "ticks": ""
            },
            "type": "choropleth"
           }
          ],
          "contour": [
           {
            "colorbar": {
             "outlinewidth": 0,
             "ticks": ""
            },
            "colorscale": [
             [
              0,
              "#0d0887"
             ],
             [
              0.1111111111111111,
              "#46039f"
             ],
             [
              0.2222222222222222,
              "#7201a8"
             ],
             [
              0.3333333333333333,
              "#9c179e"
             ],
             [
              0.4444444444444444,
              "#bd3786"
             ],
             [
              0.5555555555555556,
              "#d8576b"
             ],
             [
              0.6666666666666666,
              "#ed7953"
             ],
             [
              0.7777777777777778,
              "#fb9f3a"
             ],
             [
              0.8888888888888888,
              "#fdca26"
             ],
             [
              1,
              "#f0f921"
             ]
            ],
            "type": "contour"
           }
          ],
          "contourcarpet": [
           {
            "colorbar": {
             "outlinewidth": 0,
             "ticks": ""
            },
            "type": "contourcarpet"
           }
          ],
          "heatmap": [
           {
            "colorbar": {
             "outlinewidth": 0,
             "ticks": ""
            },
            "colorscale": [
             [
              0,
              "#0d0887"
             ],
             [
              0.1111111111111111,
              "#46039f"
             ],
             [
              0.2222222222222222,
              "#7201a8"
             ],
             [
              0.3333333333333333,
              "#9c179e"
             ],
             [
              0.4444444444444444,
              "#bd3786"
             ],
             [
              0.5555555555555556,
              "#d8576b"
             ],
             [
              0.6666666666666666,
              "#ed7953"
             ],
             [
              0.7777777777777778,
              "#fb9f3a"
             ],
             [
              0.8888888888888888,
              "#fdca26"
             ],
             [
              1,
              "#f0f921"
             ]
            ],
            "type": "heatmap"
           }
          ],
          "heatmapgl": [
           {
            "colorbar": {
             "outlinewidth": 0,
             "ticks": ""
            },
            "colorscale": [
             [
              0,
              "#0d0887"
             ],
             [
              0.1111111111111111,
              "#46039f"
             ],
             [
              0.2222222222222222,
              "#7201a8"
             ],
             [
              0.3333333333333333,
              "#9c179e"
             ],
             [
              0.4444444444444444,
              "#bd3786"
             ],
             [
              0.5555555555555556,
              "#d8576b"
             ],
             [
              0.6666666666666666,
              "#ed7953"
             ],
             [
              0.7777777777777778,
              "#fb9f3a"
             ],
             [
              0.8888888888888888,
              "#fdca26"
             ],
             [
              1,
              "#f0f921"
             ]
            ],
            "type": "heatmapgl"
           }
          ],
          "histogram": [
           {
            "marker": {
             "colorbar": {
              "outlinewidth": 0,
              "ticks": ""
             }
            },
            "type": "histogram"
           }
          ],
          "histogram2d": [
           {
            "colorbar": {
             "outlinewidth": 0,
             "ticks": ""
            },
            "colorscale": [
             [
              0,
              "#0d0887"
             ],
             [
              0.1111111111111111,
              "#46039f"
             ],
             [
              0.2222222222222222,
              "#7201a8"
             ],
             [
              0.3333333333333333,
              "#9c179e"
             ],
             [
              0.4444444444444444,
              "#bd3786"
             ],
             [
              0.5555555555555556,
              "#d8576b"
             ],
             [
              0.6666666666666666,
              "#ed7953"
             ],
             [
              0.7777777777777778,
              "#fb9f3a"
             ],
             [
              0.8888888888888888,
              "#fdca26"
             ],
             [
              1,
              "#f0f921"
             ]
            ],
            "type": "histogram2d"
           }
          ],
          "histogram2dcontour": [
           {
            "colorbar": {
             "outlinewidth": 0,
             "ticks": ""
            },
            "colorscale": [
             [
              0,
              "#0d0887"
             ],
             [
              0.1111111111111111,
              "#46039f"
             ],
             [
              0.2222222222222222,
              "#7201a8"
             ],
             [
              0.3333333333333333,
              "#9c179e"
             ],
             [
              0.4444444444444444,
              "#bd3786"
             ],
             [
              0.5555555555555556,
              "#d8576b"
             ],
             [
              0.6666666666666666,
              "#ed7953"
             ],
             [
              0.7777777777777778,
              "#fb9f3a"
             ],
             [
              0.8888888888888888,
              "#fdca26"
             ],
             [
              1,
              "#f0f921"
             ]
            ],
            "type": "histogram2dcontour"
           }
          ],
          "mesh3d": [
           {
            "colorbar": {
             "outlinewidth": 0,
             "ticks": ""
            },
            "type": "mesh3d"
           }
          ],
          "parcoords": [
           {
            "line": {
             "colorbar": {
              "outlinewidth": 0,
              "ticks": ""
             }
            },
            "type": "parcoords"
           }
          ],
          "pie": [
           {
            "automargin": true,
            "type": "pie"
           }
          ],
          "scatter": [
           {
            "marker": {
             "colorbar": {
              "outlinewidth": 0,
              "ticks": ""
             }
            },
            "type": "scatter"
           }
          ],
          "scatter3d": [
           {
            "line": {
             "colorbar": {
              "outlinewidth": 0,
              "ticks": ""
             }
            },
            "marker": {
             "colorbar": {
              "outlinewidth": 0,
              "ticks": ""
             }
            },
            "type": "scatter3d"
           }
          ],
          "scattercarpet": [
           {
            "marker": {
             "colorbar": {
              "outlinewidth": 0,
              "ticks": ""
             }
            },
            "type": "scattercarpet"
           }
          ],
          "scattergeo": [
           {
            "marker": {
             "colorbar": {
              "outlinewidth": 0,
              "ticks": ""
             }
            },
            "type": "scattergeo"
           }
          ],
          "scattergl": [
           {
            "marker": {
             "colorbar": {
              "outlinewidth": 0,
              "ticks": ""
             }
            },
            "type": "scattergl"
           }
          ],
          "scattermapbox": [
           {
            "marker": {
             "colorbar": {
              "outlinewidth": 0,
              "ticks": ""
             }
            },
            "type": "scattermapbox"
           }
          ],
          "scatterpolar": [
           {
            "marker": {
             "colorbar": {
              "outlinewidth": 0,
              "ticks": ""
             }
            },
            "type": "scatterpolar"
           }
          ],
          "scatterpolargl": [
           {
            "marker": {
             "colorbar": {
              "outlinewidth": 0,
              "ticks": ""
             }
            },
            "type": "scatterpolargl"
           }
          ],
          "scatterternary": [
           {
            "marker": {
             "colorbar": {
              "outlinewidth": 0,
              "ticks": ""
             }
            },
            "type": "scatterternary"
           }
          ],
          "surface": [
           {
            "colorbar": {
             "outlinewidth": 0,
             "ticks": ""
            },
            "colorscale": [
             [
              0,
              "#0d0887"
             ],
             [
              0.1111111111111111,
              "#46039f"
             ],
             [
              0.2222222222222222,
              "#7201a8"
             ],
             [
              0.3333333333333333,
              "#9c179e"
             ],
             [
              0.4444444444444444,
              "#bd3786"
             ],
             [
              0.5555555555555556,
              "#d8576b"
             ],
             [
              0.6666666666666666,
              "#ed7953"
             ],
             [
              0.7777777777777778,
              "#fb9f3a"
             ],
             [
              0.8888888888888888,
              "#fdca26"
             ],
             [
              1,
              "#f0f921"
             ]
            ],
            "type": "surface"
           }
          ],
          "table": [
           {
            "cells": {
             "fill": {
              "color": "#EBF0F8"
             },
             "line": {
              "color": "white"
             }
            },
            "header": {
             "fill": {
              "color": "#C8D4E3"
             },
             "line": {
              "color": "white"
             }
            },
            "type": "table"
           }
          ]
         },
         "layout": {
          "annotationdefaults": {
           "arrowcolor": "#2a3f5f",
           "arrowhead": 0,
           "arrowwidth": 1
          },
          "autotypenumbers": "strict",
          "coloraxis": {
           "colorbar": {
            "outlinewidth": 0,
            "ticks": ""
           }
          },
          "colorscale": {
           "diverging": [
            [
             0,
             "#8e0152"
            ],
            [
             0.1,
             "#c51b7d"
            ],
            [
             0.2,
             "#de77ae"
            ],
            [
             0.3,
             "#f1b6da"
            ],
            [
             0.4,
             "#fde0ef"
            ],
            [
             0.5,
             "#f7f7f7"
            ],
            [
             0.6,
             "#e6f5d0"
            ],
            [
             0.7,
             "#b8e186"
            ],
            [
             0.8,
             "#7fbc41"
            ],
            [
             0.9,
             "#4d9221"
            ],
            [
             1,
             "#276419"
            ]
           ],
           "sequential": [
            [
             0,
             "#0d0887"
            ],
            [
             0.1111111111111111,
             "#46039f"
            ],
            [
             0.2222222222222222,
             "#7201a8"
            ],
            [
             0.3333333333333333,
             "#9c179e"
            ],
            [
             0.4444444444444444,
             "#bd3786"
            ],
            [
             0.5555555555555556,
             "#d8576b"
            ],
            [
             0.6666666666666666,
             "#ed7953"
            ],
            [
             0.7777777777777778,
             "#fb9f3a"
            ],
            [
             0.8888888888888888,
             "#fdca26"
            ],
            [
             1,
             "#f0f921"
            ]
           ],
           "sequentialminus": [
            [
             0,
             "#0d0887"
            ],
            [
             0.1111111111111111,
             "#46039f"
            ],
            [
             0.2222222222222222,
             "#7201a8"
            ],
            [
             0.3333333333333333,
             "#9c179e"
            ],
            [
             0.4444444444444444,
             "#bd3786"
            ],
            [
             0.5555555555555556,
             "#d8576b"
            ],
            [
             0.6666666666666666,
             "#ed7953"
            ],
            [
             0.7777777777777778,
             "#fb9f3a"
            ],
            [
             0.8888888888888888,
             "#fdca26"
            ],
            [
             1,
             "#f0f921"
            ]
           ]
          },
          "colorway": [
           "#636efa",
           "#EF553B",
           "#00cc96",
           "#ab63fa",
           "#FFA15A",
           "#19d3f3",
           "#FF6692",
           "#B6E880",
           "#FF97FF",
           "#FECB52"
          ],
          "font": {
           "color": "#2a3f5f"
          },
          "geo": {
           "bgcolor": "white",
           "lakecolor": "white",
           "landcolor": "#E5ECF6",
           "showlakes": true,
           "showland": true,
           "subunitcolor": "white"
          },
          "hoverlabel": {
           "align": "left"
          },
          "hovermode": "closest",
          "mapbox": {
           "style": "light"
          },
          "paper_bgcolor": "white",
          "plot_bgcolor": "#E5ECF6",
          "polar": {
           "angularaxis": {
            "gridcolor": "white",
            "linecolor": "white",
            "ticks": ""
           },
           "bgcolor": "#E5ECF6",
           "radialaxis": {
            "gridcolor": "white",
            "linecolor": "white",
            "ticks": ""
           }
          },
          "scene": {
           "xaxis": {
            "backgroundcolor": "#E5ECF6",
            "gridcolor": "white",
            "gridwidth": 2,
            "linecolor": "white",
            "showbackground": true,
            "ticks": "",
            "zerolinecolor": "white"
           },
           "yaxis": {
            "backgroundcolor": "#E5ECF6",
            "gridcolor": "white",
            "gridwidth": 2,
            "linecolor": "white",
            "showbackground": true,
            "ticks": "",
            "zerolinecolor": "white"
           },
           "zaxis": {
            "backgroundcolor": "#E5ECF6",
            "gridcolor": "white",
            "gridwidth": 2,
            "linecolor": "white",
            "showbackground": true,
            "ticks": "",
            "zerolinecolor": "white"
           }
          },
          "shapedefaults": {
           "line": {
            "color": "#2a3f5f"
           }
          },
          "ternary": {
           "aaxis": {
            "gridcolor": "white",
            "linecolor": "white",
            "ticks": ""
           },
           "baxis": {
            "gridcolor": "white",
            "linecolor": "white",
            "ticks": ""
           },
           "bgcolor": "#E5ECF6",
           "caxis": {
            "gridcolor": "white",
            "linecolor": "white",
            "ticks": ""
           }
          },
          "title": {
           "x": 0.05
          },
          "xaxis": {
           "automargin": true,
           "gridcolor": "white",
           "linecolor": "white",
           "ticks": "",
           "title": {
            "standoff": 15
           },
           "zerolinecolor": "white",
           "zerolinewidth": 2
          },
          "yaxis": {
           "automargin": true,
           "gridcolor": "white",
           "linecolor": "white",
           "ticks": "",
           "title": {
            "standoff": 15
           },
           "zerolinecolor": "white",
           "zerolinewidth": 2
          }
         }
        }
       }
      },
      "text/html": [
       "<div>                            <div id=\"a3378521-cc98-48cb-95a0-572764f2830d\" class=\"plotly-graph-div\" style=\"height:525px; width:100%;\"></div>            <script type=\"text/javascript\">                require([\"plotly\"], function(Plotly) {                    window.PLOTLYENV=window.PLOTLYENV || {};                                    if (document.getElementById(\"a3378521-cc98-48cb-95a0-572764f2830d\")) {                    Plotly.newPlot(                        \"a3378521-cc98-48cb-95a0-572764f2830d\",                        [{\"fill\": \"toself\", \"r\": [-0.062956105347165, -0.8987341772151891, -0.40506329113924083, 0.15000000000000036, 1.1857142857142857], \"theta\": [\"zBA\", \"zR\", \"zRBI\", \"zHR\", \"zSB\"], \"type\": \"scatterpolar\"}],                        {\"polar\": {\"radialaxis\": {\"visible\": true}}, \"showlegend\": false, \"template\": {\"data\": {\"bar\": [{\"error_x\": {\"color\": \"#2a3f5f\"}, \"error_y\": {\"color\": \"#2a3f5f\"}, \"marker\": {\"line\": {\"color\": \"#E5ECF6\", \"width\": 0.5}}, \"type\": \"bar\"}], \"barpolar\": [{\"marker\": {\"line\": {\"color\": \"#E5ECF6\", \"width\": 0.5}}, \"type\": \"barpolar\"}], \"carpet\": [{\"aaxis\": {\"endlinecolor\": \"#2a3f5f\", \"gridcolor\": \"white\", \"linecolor\": \"white\", \"minorgridcolor\": \"white\", \"startlinecolor\": \"#2a3f5f\"}, \"baxis\": {\"endlinecolor\": \"#2a3f5f\", \"gridcolor\": \"white\", \"linecolor\": \"white\", \"minorgridcolor\": \"white\", \"startlinecolor\": \"#2a3f5f\"}, \"type\": \"carpet\"}], \"choropleth\": [{\"colorbar\": {\"outlinewidth\": 0, \"ticks\": \"\"}, \"type\": \"choropleth\"}], \"contour\": [{\"colorbar\": {\"outlinewidth\": 0, \"ticks\": \"\"}, \"colorscale\": [[0.0, \"#0d0887\"], [0.1111111111111111, \"#46039f\"], [0.2222222222222222, \"#7201a8\"], [0.3333333333333333, \"#9c179e\"], [0.4444444444444444, \"#bd3786\"], [0.5555555555555556, \"#d8576b\"], [0.6666666666666666, \"#ed7953\"], [0.7777777777777778, \"#fb9f3a\"], [0.8888888888888888, \"#fdca26\"], [1.0, \"#f0f921\"]], \"type\": \"contour\"}], \"contourcarpet\": [{\"colorbar\": {\"outlinewidth\": 0, \"ticks\": \"\"}, \"type\": \"contourcarpet\"}], \"heatmap\": [{\"colorbar\": {\"outlinewidth\": 0, \"ticks\": \"\"}, \"colorscale\": [[0.0, \"#0d0887\"], [0.1111111111111111, \"#46039f\"], [0.2222222222222222, \"#7201a8\"], [0.3333333333333333, \"#9c179e\"], [0.4444444444444444, \"#bd3786\"], [0.5555555555555556, \"#d8576b\"], [0.6666666666666666, \"#ed7953\"], [0.7777777777777778, \"#fb9f3a\"], [0.8888888888888888, \"#fdca26\"], [1.0, \"#f0f921\"]], \"type\": \"heatmap\"}], \"heatmapgl\": [{\"colorbar\": {\"outlinewidth\": 0, \"ticks\": \"\"}, \"colorscale\": [[0.0, \"#0d0887\"], [0.1111111111111111, \"#46039f\"], [0.2222222222222222, \"#7201a8\"], [0.3333333333333333, \"#9c179e\"], [0.4444444444444444, \"#bd3786\"], [0.5555555555555556, \"#d8576b\"], [0.6666666666666666, \"#ed7953\"], [0.7777777777777778, \"#fb9f3a\"], [0.8888888888888888, \"#fdca26\"], [1.0, \"#f0f921\"]], \"type\": \"heatmapgl\"}], \"histogram\": [{\"marker\": {\"colorbar\": {\"outlinewidth\": 0, \"ticks\": \"\"}}, \"type\": \"histogram\"}], \"histogram2d\": [{\"colorbar\": {\"outlinewidth\": 0, \"ticks\": \"\"}, \"colorscale\": [[0.0, \"#0d0887\"], [0.1111111111111111, \"#46039f\"], [0.2222222222222222, \"#7201a8\"], [0.3333333333333333, \"#9c179e\"], [0.4444444444444444, \"#bd3786\"], [0.5555555555555556, \"#d8576b\"], [0.6666666666666666, \"#ed7953\"], [0.7777777777777778, \"#fb9f3a\"], [0.8888888888888888, \"#fdca26\"], [1.0, \"#f0f921\"]], \"type\": \"histogram2d\"}], \"histogram2dcontour\": [{\"colorbar\": {\"outlinewidth\": 0, \"ticks\": \"\"}, \"colorscale\": [[0.0, \"#0d0887\"], [0.1111111111111111, \"#46039f\"], [0.2222222222222222, \"#7201a8\"], [0.3333333333333333, \"#9c179e\"], [0.4444444444444444, \"#bd3786\"], [0.5555555555555556, \"#d8576b\"], [0.6666666666666666, \"#ed7953\"], [0.7777777777777778, \"#fb9f3a\"], [0.8888888888888888, \"#fdca26\"], [1.0, \"#f0f921\"]], \"type\": \"histogram2dcontour\"}], \"mesh3d\": [{\"colorbar\": {\"outlinewidth\": 0, \"ticks\": \"\"}, \"type\": \"mesh3d\"}], \"parcoords\": [{\"line\": {\"colorbar\": {\"outlinewidth\": 0, \"ticks\": \"\"}}, \"type\": \"parcoords\"}], \"pie\": [{\"automargin\": true, \"type\": \"pie\"}], \"scatter\": [{\"marker\": {\"colorbar\": {\"outlinewidth\": 0, \"ticks\": \"\"}}, \"type\": \"scatter\"}], \"scatter3d\": [{\"line\": {\"colorbar\": {\"outlinewidth\": 0, \"ticks\": \"\"}}, \"marker\": {\"colorbar\": {\"outlinewidth\": 0, \"ticks\": \"\"}}, \"type\": \"scatter3d\"}], \"scattercarpet\": [{\"marker\": {\"colorbar\": {\"outlinewidth\": 0, \"ticks\": \"\"}}, \"type\": \"scattercarpet\"}], \"scattergeo\": [{\"marker\": {\"colorbar\": {\"outlinewidth\": 0, \"ticks\": \"\"}}, \"type\": \"scattergeo\"}], \"scattergl\": [{\"marker\": {\"colorbar\": {\"outlinewidth\": 0, \"ticks\": \"\"}}, \"type\": \"scattergl\"}], \"scattermapbox\": [{\"marker\": {\"colorbar\": {\"outlinewidth\": 0, \"ticks\": \"\"}}, \"type\": \"scattermapbox\"}], \"scatterpolar\": [{\"marker\": {\"colorbar\": {\"outlinewidth\": 0, \"ticks\": \"\"}}, \"type\": \"scatterpolar\"}], \"scatterpolargl\": [{\"marker\": {\"colorbar\": {\"outlinewidth\": 0, \"ticks\": \"\"}}, \"type\": \"scatterpolargl\"}], \"scatterternary\": [{\"marker\": {\"colorbar\": {\"outlinewidth\": 0, \"ticks\": \"\"}}, \"type\": \"scatterternary\"}], \"surface\": [{\"colorbar\": {\"outlinewidth\": 0, \"ticks\": \"\"}, \"colorscale\": [[0.0, \"#0d0887\"], [0.1111111111111111, \"#46039f\"], [0.2222222222222222, \"#7201a8\"], [0.3333333333333333, \"#9c179e\"], [0.4444444444444444, \"#bd3786\"], [0.5555555555555556, \"#d8576b\"], [0.6666666666666666, \"#ed7953\"], [0.7777777777777778, \"#fb9f3a\"], [0.8888888888888888, \"#fdca26\"], [1.0, \"#f0f921\"]], \"type\": \"surface\"}], \"table\": [{\"cells\": {\"fill\": {\"color\": \"#EBF0F8\"}, \"line\": {\"color\": \"white\"}}, \"header\": {\"fill\": {\"color\": \"#C8D4E3\"}, \"line\": {\"color\": \"white\"}}, \"type\": \"table\"}]}, \"layout\": {\"annotationdefaults\": {\"arrowcolor\": \"#2a3f5f\", \"arrowhead\": 0, \"arrowwidth\": 1}, \"autotypenumbers\": \"strict\", \"coloraxis\": {\"colorbar\": {\"outlinewidth\": 0, \"ticks\": \"\"}}, \"colorscale\": {\"diverging\": [[0, \"#8e0152\"], [0.1, \"#c51b7d\"], [0.2, \"#de77ae\"], [0.3, \"#f1b6da\"], [0.4, \"#fde0ef\"], [0.5, \"#f7f7f7\"], [0.6, \"#e6f5d0\"], [0.7, \"#b8e186\"], [0.8, \"#7fbc41\"], [0.9, \"#4d9221\"], [1, \"#276419\"]], \"sequential\": [[0.0, \"#0d0887\"], [0.1111111111111111, \"#46039f\"], [0.2222222222222222, \"#7201a8\"], [0.3333333333333333, \"#9c179e\"], [0.4444444444444444, \"#bd3786\"], [0.5555555555555556, \"#d8576b\"], [0.6666666666666666, \"#ed7953\"], [0.7777777777777778, \"#fb9f3a\"], [0.8888888888888888, \"#fdca26\"], [1.0, \"#f0f921\"]], \"sequentialminus\": [[0.0, \"#0d0887\"], [0.1111111111111111, \"#46039f\"], [0.2222222222222222, \"#7201a8\"], [0.3333333333333333, \"#9c179e\"], [0.4444444444444444, \"#bd3786\"], [0.5555555555555556, \"#d8576b\"], [0.6666666666666666, \"#ed7953\"], [0.7777777777777778, \"#fb9f3a\"], [0.8888888888888888, \"#fdca26\"], [1.0, \"#f0f921\"]]}, \"colorway\": [\"#636efa\", \"#EF553B\", \"#00cc96\", \"#ab63fa\", \"#FFA15A\", \"#19d3f3\", \"#FF6692\", \"#B6E880\", \"#FF97FF\", \"#FECB52\"], \"font\": {\"color\": \"#2a3f5f\"}, \"geo\": {\"bgcolor\": \"white\", \"lakecolor\": \"white\", \"landcolor\": \"#E5ECF6\", \"showlakes\": true, \"showland\": true, \"subunitcolor\": \"white\"}, \"hoverlabel\": {\"align\": \"left\"}, \"hovermode\": \"closest\", \"mapbox\": {\"style\": \"light\"}, \"paper_bgcolor\": \"white\", \"plot_bgcolor\": \"#E5ECF6\", \"polar\": {\"angularaxis\": {\"gridcolor\": \"white\", \"linecolor\": \"white\", \"ticks\": \"\"}, \"bgcolor\": \"#E5ECF6\", \"radialaxis\": {\"gridcolor\": \"white\", \"linecolor\": \"white\", \"ticks\": \"\"}}, \"scene\": {\"xaxis\": {\"backgroundcolor\": \"#E5ECF6\", \"gridcolor\": \"white\", \"gridwidth\": 2, \"linecolor\": \"white\", \"showbackground\": true, \"ticks\": \"\", \"zerolinecolor\": \"white\"}, \"yaxis\": {\"backgroundcolor\": \"#E5ECF6\", \"gridcolor\": \"white\", \"gridwidth\": 2, \"linecolor\": \"white\", \"showbackground\": true, \"ticks\": \"\", \"zerolinecolor\": \"white\"}, \"zaxis\": {\"backgroundcolor\": \"#E5ECF6\", \"gridcolor\": \"white\", \"gridwidth\": 2, \"linecolor\": \"white\", \"showbackground\": true, \"ticks\": \"\", \"zerolinecolor\": \"white\"}}, \"shapedefaults\": {\"line\": {\"color\": \"#2a3f5f\"}}, \"ternary\": {\"aaxis\": {\"gridcolor\": \"white\", \"linecolor\": \"white\", \"ticks\": \"\"}, \"baxis\": {\"gridcolor\": \"white\", \"linecolor\": \"white\", \"ticks\": \"\"}, \"bgcolor\": \"#E5ECF6\", \"caxis\": {\"gridcolor\": \"white\", \"linecolor\": \"white\", \"ticks\": \"\"}}, \"title\": {\"x\": 0.05}, \"xaxis\": {\"automargin\": true, \"gridcolor\": \"white\", \"linecolor\": \"white\", \"ticks\": \"\", \"title\": {\"standoff\": 15}, \"zerolinecolor\": \"white\", \"zerolinewidth\": 2}, \"yaxis\": {\"automargin\": true, \"gridcolor\": \"white\", \"linecolor\": \"white\", \"ticks\": \"\", \"title\": {\"standoff\": 15}, \"zerolinecolor\": \"white\", \"zerolinewidth\": 2}}}},                        {\"responsive\": true}                    ).then(function(){\n",
       "                            \n",
       "var gd = document.getElementById('a3378521-cc98-48cb-95a0-572764f2830d');\n",
       "var x = new MutationObserver(function (mutations, observer) {{\n",
       "        var display = window.getComputedStyle(gd).display;\n",
       "        if (!display || display === 'none') {{\n",
       "            console.log([gd, 'removed!']);\n",
       "            Plotly.purge(gd);\n",
       "            observer.disconnect();\n",
       "        }}\n",
       "}});\n",
       "\n",
       "// Listen for the removal of the full notebook cells\n",
       "var notebookContainer = gd.closest('#notebook-container');\n",
       "if (notebookContainer) {{\n",
       "    x.observe(notebookContainer, {childList: true});\n",
       "}}\n",
       "\n",
       "// Listen for the clearing of the current output cell\n",
       "var outputEl = gd.closest('.output');\n",
       "if (outputEl) {{\n",
       "    x.observe(outputEl, {childList: true});\n",
       "}}\n",
       "\n",
       "                        })                };                });            </script>        </div>"
      ]
     },
     "metadata": {},
     "output_type": "display_data"
    }
   ],
   "source": [
    "single_player = (h['Name']=='Robert Witt')\n",
    "\n",
    "fig = go.Figure(data=go.Scatterpolar(\n",
    "  r=h[single_player][['zBA', 'zR', 'zRBI', 'zHR', 'zSB']].values.tolist()[0],\n",
    "  theta=['zBA', 'zR', 'zRBI', 'zHR', 'zSB'],\n",
    "  fill='toself',\n",
    "))\n",
    "\n",
    "fig.update_layout(\n",
    "  polar=dict(\n",
    "    radialaxis=dict(\n",
    "      visible=True\n",
    "    ),\n",
    "  ),\n",
    "  showlegend=False\n",
    ")\n",
    "\n",
    "fig.show()"
   ]
  },
  {
   "cell_type": "code",
   "execution_count": 72,
   "id": "39bb2348",
   "metadata": {},
   "outputs": [
    {
     "data": {
      "text/plain": [
       "<sqlalchemy.engine.cursor.LegacyCursorResult at 0x20b4f04ac40>"
      ]
     },
     "execution_count": 72,
     "metadata": {},
     "output_type": "execute_result"
    }
   ],
   "source": [
    "#conn.execute('ALTER TABLE hitting ADD COLUMN Paid Integer')"
   ]
  },
  {
   "cell_type": "code",
   "execution_count": 86,
   "id": "7d58f555",
   "metadata": {},
   "outputs": [
    {
     "data": {
      "text/plain": [
       "<sqlalchemy.engine.cursor.LegacyCursorResult at 0x20b49d73460>"
      ]
     },
     "execution_count": 86,
     "metadata": {},
     "output_type": "execute_result"
    }
   ],
   "source": [
    "#conn.execute('ALTER TABLE hitting DROP COLUMN Paid2')"
   ]
  },
  {
   "cell_type": "code",
   "execution_count": 102,
   "id": "f3144ee6",
   "metadata": {},
   "outputs": [
    {
     "data": {
      "text/plain": [
       "<sqlalchemy.engine.cursor.LegacyCursorResult at 0x20b4f218100>"
      ]
     },
     "execution_count": 102,
     "metadata": {},
     "output_type": "execute_result"
    }
   ],
   "source": [
    "#conn.execute('ALTER TABLE hitting ADD COLUMN Timestamp DATETIME')"
   ]
  },
  {
   "cell_type": "code",
   "execution_count": 75,
   "id": "6e76ada7",
   "metadata": {},
   "outputs": [],
   "source": [
    "conn.close()"
   ]
  }
 ],
 "metadata": {
  "hide_input": false,
  "kernelspec": {
   "display_name": "Python 3",
   "language": "python",
   "name": "python3"
  },
  "language_info": {
   "codemirror_mode": {
    "name": "ipython",
    "version": 3
   },
   "file_extension": ".py",
   "mimetype": "text/x-python",
   "name": "python",
   "nbconvert_exporter": "python",
   "pygments_lexer": "ipython3",
   "version": "3.7.4"
  }
 },
 "nbformat": 4,
 "nbformat_minor": 5
}
