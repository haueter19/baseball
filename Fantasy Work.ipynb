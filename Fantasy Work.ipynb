{
 "cells": [
  {
   "cell_type": "code",
   "execution_count": 1,
   "id": "fccbff49",
   "metadata": {},
   "outputs": [
    {
     "data": {
      "text/html": [
       "<style>.container { width:90% !important; }</style>"
      ],
      "text/plain": [
       "<IPython.core.display.HTML object>"
      ]
     },
     "metadata": {},
     "output_type": "display_data"
    }
   ],
   "source": [
    "from IPython.core.display import display, HTML\n",
    "display(HTML(\"<style>.container { width:90% !important; }</style>\"))\n",
    "import plotly.graph_objects as go\n",
    "import plotly.express as px\n",
    "import numpy as np\n",
    "import pandas as pd\n",
    "from datetime import datetime\n",
    "pd.options.display.max_columns = None\n",
    "from pybaseball import batting_stats, pitching_stats, cache, playerid_lookup, statcast_batter, statcast_pitcher\n",
    "\n",
    "cache.enable()\n",
    "cache.config.cache_type='csv'\n",
    "cache.config.save()"
   ]
  },
  {
   "cell_type": "code",
   "execution_count": 2,
   "id": "479e1744",
   "metadata": {},
   "outputs": [],
   "source": [
    "from sqlalchemy import MetaData, text, Column, Integer, String, ForeignKey, Table, create_engine, Float, Boolean, DateTime\n",
    "from sqlalchemy.orm import relationship, backref, sessionmaker\n",
    "from sqlalchemy.ext.declarative import declarative_base\n",
    "\n",
    "meta = MetaData()\n",
    "engine = create_engine('sqlite:///fantasy_data.db', echo=False)\n",
    "Session = sessionmaker(bind=engine)\n",
    "session = Session()\n",
    "Base = declarative_base()"
   ]
  },
  {
   "cell_type": "code",
   "execution_count": 190,
   "id": "d69750ff",
   "metadata": {},
   "outputs": [],
   "source": [
    "n_teams = 12\n",
    "tm_players = 23\n",
    "tm_dollars = 260\n",
    "player_split = .6\n",
    "pitcher_split = 1 - player_split\n",
    "tot_dollars = n_teams * tm_dollars\n",
    "tot_players = n_teams * tm_players\n",
    "tot_hitters = n_teams * 14\n",
    "tot_pitchers = n_teams * 9\n",
    "\n",
    "drafted_by_pos = {\n",
    "    'C':12,\n",
    "    '1B':18,\n",
    "    '2B':18,\n",
    "    '3B':18,\n",
    "    'SS':18,\n",
    "    'OF':5*12,\n",
    "    'MI':12,\n",
    "    'CI':12,\n",
    "    'DH':12*2, \n",
    "    'P':12*9,\n",
    "    'SP':12*6.5,\n",
    "    'RP':12*2.5,\n",
    "}\n",
    "\n",
    "def load_data():\n",
    "    atc = pd.read_csv('data/2022-atc-proj-h.csv')\n",
    "    dc = pd.read_csv('data/2022-dc-proj-h.csv')\n",
    "    steamer = pd.read_csv('data/2022-steamer-proj-h.csv')\n",
    "    val_h = pd.read_csv('data/2022-fangraphs-auction-calculator-h.csv')\n",
    "    val_h.rename(columns={'PlayerId':'playerid', 'POS':'Pos'},inplace=True)\n",
    "    h = atc.append(dc).append(steamer).sort_values('playerid')\n",
    "    h = h.merge(val_h[['playerid', 'Pos', 'Dollars']])\n",
    "    h.drop(columns=['wOBA', 'CS', 'Fld', 'BsR', 'ADP'],inplace=True)\n",
    "    h['Primary_Pos'] = h.apply(lambda x: find_primary_pos(x['Pos']), axis=1)\n",
    "    proj = pd.pivot_table(h, index='playerid', values=['G', 'PA', 'AB', 'H', 'HR', 'R', 'RBI', 'SB'], aggfunc='mean').merge(h[['playerid', 'Name', 'Team', 'Pos', 'Primary_Pos', 'Dollars']], on='playerid', how='inner').drop_duplicates()\n",
    "    proj['sorter'] = proj['HR']+proj['R']+proj['RBI']+proj['H']+proj['SB']\n",
    "    proj['BA'] = proj['H']/proj['AB']\n",
    "\n",
    "    atc = pd.read_csv('data/2022-atc-proj-p.csv')\n",
    "    dc = pd.read_csv('data/2022-dc-proj-p.csv')\n",
    "    steamer = pd.read_csv('data/2022-steamer-proj-p.csv')\n",
    "    val_p = pd.read_csv('data/2022-fangraphs-auction-calculator-p.csv')\n",
    "    val_p.rename(columns={'PlayerId':'playerid', 'POS':'Pos'},inplace=True)\n",
    "    p = atc.append(dc).append(steamer).sort_values('playerid')\n",
    "    p = p.merge(val_p[['playerid', 'Pos', 'Dollars']])\n",
    "    p.rename(columns={'H':'HA'},inplace=True)\n",
    "    p['Sv+Hld'] = p['SV']+p['HLD']\n",
    "    p['Primary_Pos'] = p['Pos'].apply(lambda x: ', '.join(x.split('/')))\n",
    "\n",
    "    pproj = pd.pivot_table(p, index='playerid', values=['GS', 'G', 'IP', 'ER', 'HA', 'SO', 'BB', 'W', 'SV', 'HLD', 'Sv+Hld'], aggfunc='mean').merge(p[['playerid', 'Name', 'Team', 'Pos', 'Dollars']], on='playerid', how='inner').drop_duplicates()\n",
    "    pproj['sorter'] = pproj['SO']+(pproj['Sv+Hld']*4)+pproj['W']\n",
    "    pproj['Primary_Pos'] = pproj.apply(lambda x: find_primary_pos(x['Pos']), axis=1)\n",
    "    #proj = proj.append(pproj)\n",
    "    pproj['IP'].fillna(0, inplace=True)\n",
    "    for i in ['PA', 'AB', 'G', 'H', 'HR', 'R', 'RBI', 'SB']:\n",
    "        proj[i].fillna(0,inplace=True)\n",
    "        proj[i] = proj[i].apply(lambda x: int(x))\n",
    "    for i in ['GS', 'G', 'HA', 'SO', 'ER', 'BB', 'W', 'SV', 'HLD', 'Sv+Hld']:\n",
    "        pproj[i].fillna(0,inplace=True)\n",
    "        pproj[i] = pproj[i].apply(lambda x: int(x))\n",
    "    pproj['ERA'] = pproj['ER']/pproj['IP']*9\n",
    "    pproj['WHIP'] = (pproj['HA']+pproj['BB'])/pproj['IP']\n",
    "    return proj.sort_values('Dollars', ascending=False), pproj.sort_values('Dollars', ascending=False)\n",
    "\n",
    "def calc_z(x, stat):\n",
    "    z = (x - drafted[stat].mean()) / drafted[stat].std()\n",
    "    return z\n",
    "\n",
    "def find_primary_pos(p):\n",
    "    pos_list = p.split('/')\n",
    "    pos_hierarchy = ['C', '3B', '2B', '1B', 'SS', 'OF', 'DH', 'SP', 'RP', 'P']\n",
    "    for i in pos_hierarchy:\n",
    "        if i in pos_list:\n",
    "            return i\n",
    "\n",
    "def check_roster_pos(roster, name, team_name, pos, eligible):\n",
    "    eligible_at = eligible.split('/')\n",
    "    eligibility = []\n",
    "    for p in eligible.split('/'):\n",
    "        if p=='C':\n",
    "            eligibility.extend(['C'])\n",
    "        if p=='1B':\n",
    "            eligibility.extend(['1B', 'CI'])\n",
    "        if p=='2B':\n",
    "            eligibility.extend(['2B', 'MI'])\n",
    "        if p=='3B':\n",
    "            eligibility.extend(['3B', 'CI'])\n",
    "        if p=='SS':\n",
    "            eligibility.extend(['SS', 'MI'])\n",
    "        if p=='OF':\n",
    "            eligibility.extend(['OF1', 'OF2', 'OF3', 'OF4', 'OF5'])\n",
    "        if p in ['SP', 'RP']:\n",
    "            eligibility.extend(['P1', 'P2', 'P3', 'P4', 'P5', 'P6', 'P7', 'P8', 'P9'])\n",
    "        \n",
    "    eligibility = list(dict.fromkeys(eligibility))\n",
    "    if 'SP' in eligible_at or 'RP' in eligible_at: \n",
    "        pos_list = eligibility\n",
    "    else:\n",
    "        pos_list = eligibility+['DH1', 'DH2']\n",
    "    for p in pos_list:\n",
    "        if roster.loc[p, team_name]==0:\n",
    "            roster.loc[p, team_name] = name\n",
    "            return p\n",
    "    \n",
    "    return pos_list\n",
    "\n",
    "def next_closest_in_tier(df, pos, playerid):\n",
    "    try:\n",
    "        i = df[(df['Primary_Pos']==pos) & (df['playerid']==playerid) & (df['Owner'].isna())].index[0]\n",
    "        val = df[(df['Primary_Pos']==pos) & (df['Owner'].isna()) & (df['playerid']==playerid)]['Value'].iloc[0]\n",
    "        return df[df['playerid']==playerid]['Value'].iloc[0] - df[(df['Primary_Pos']==pos) & (df['Owner'].isna()) & (df['Value']<=val)].iloc[1]['Value']\n",
    "    except:\n",
    "        return 0\n",
    "    \n",
    "def big_board(row, stat):\n",
    "    # qual_avgs comes from 2019 and 2021 qualified players' averages and stdevs for each stat\n",
    "    qual_avgs = {'G':[145.0, 10.8], 'PA':[600.4, 59.6], 'AB':[533.4, 53.6], 'H':[143.7, 22.5], 'HR':[24.4, 10.4], 'zlgBA':[0.20, 13.9],\n",
    "            'R':[82.5, 17.6], 'RBI':[78.9, 19.9], 'SB':[8.6, 8.8], 'AVG':[.269, .026], 'W':[6.1, 4.3], 'GS':[7.6, 13.5], 'Sv+Hld':[12.9, 11.6],\n",
    "            'ER':[37.3, 23.7], 'IP':[91.2, 53.2], 'SO':[95.7, 57.4], 'BB':[30.2, 15.7], 'HA':[79.7, 50.9], 'zlgERA':[.1235, 89.55], 'zlgWHIP':[-.1512, 17.63368]}\n",
    "    if stat == 'BA':\n",
    "        ba_pts = row['H']-(row['AB']*(qual_avgs['H'][0]/qual_avgs['AB'][0]))\n",
    "        zBA = (ba_pts-qual_avgs['zlgBA'][0])/qual_avgs['zlgBA'][1]\n",
    "        #return ((row['AB'] * (((row['H']/row['AB'])-qual_avgs['AVG'][0])/qual_avgs['AVG'][1])) - qual_avgs['zlgBA'][0])/qual_avgs['zlgBA'][1]\n",
    "        return zBA\n",
    "    elif stat=='ERA':\n",
    "        pts = ((row['ER']*9) - ((row['IP']*qual_avgs['ER'][0]*9)/qual_avgs['IP'][0])) * -1\n",
    "        zERA = (pts-qual_avgs['zlgERA'][0])/qual_avgs['zlgERA'][1]\n",
    "        return zERA\n",
    "    elif stat=='WHIP':\n",
    "        pts = ((row['HA']+row['BB'])-(row['IP']*((qual_avgs['HA'][0]+qual_avgs['BB'][0])/qual_avgs['IP'][0]))) * -1\n",
    "        zWHIP = (pts-qual_avgs['zlgWHIP'][0])/qual_avgs['zlgWHIP'][1]\n",
    "        return zWHIP\n",
    "    else:\n",
    "        return (row[stat] - qual_avgs[stat][0]) / qual_avgs[stat][1]"
   ]
  },
  {
   "cell_type": "code",
   "execution_count": 4,
   "id": "795a52c2",
   "metadata": {},
   "outputs": [],
   "source": [
    "h, p = load_data()"
   ]
  },
  {
   "cell_type": "code",
   "execution_count": 5,
   "id": "1e040a68",
   "metadata": {},
   "outputs": [
    {
     "name": "stdout",
     "output_type": "stream",
     "text": [
      "Positional adjustment applied by primary position\n",
      "C -5.862474643007073\n",
      "MI -3.196632956861173\n",
      "CI -1.7485226648701246\n",
      "OF -3.3351378850675966\n",
      "SP -1.7459132766717516\n",
      "RP -0.29847867246306425\n",
      "\n",
      "Total z: 621.8989553378836\n",
      "\n",
      "H/P split: 0.6524060504154386\n",
      "Conversion to $: 5.016892170698171\n"
     ]
    }
   ],
   "source": [
    "h['zR'] = h.apply(lambda row: big_board(row, 'R'), axis=1)\n",
    "h['zHR'] = h.apply(lambda row: big_board(row, 'HR'), axis=1)\n",
    "h['zRBI'] = h.apply(lambda row: big_board(row, 'RBI'), axis=1)\n",
    "h['zSB'] = h.apply(lambda row: big_board(row, 'SB'), axis=1)\n",
    "h['zBA'] = h.apply(lambda row: big_board(row, 'BA'), axis=1)\n",
    "h['BIGAA'] = h['zR']+h['zRBI']+h['zHR']+h['zSB']+h['zBA']\n",
    "\n",
    "p['zSO'] = p.apply(lambda row: big_board(row, 'SO'), axis=1)\n",
    "p['zW'] = p.apply(lambda row: big_board(row, 'W'), axis=1)\n",
    "p['zSv+Hld'] = p.apply(lambda row: big_board(row, 'Sv+Hld'), axis=1)\n",
    "p['zERA'] = p.apply(lambda row: big_board(row, 'ERA'), axis=1)\n",
    "p['zWHIP'] = p.apply(lambda row: big_board(row, 'WHIP'), axis=1)\n",
    "p['BIGAA'] = p['zSv+Hld']+p['zSO']+p['zW']+p['zERA']+p['zWHIP']\n",
    "\n",
    "print('Positional adjustment applied by primary position')\n",
    "c_adjust = abs(h[h['Primary_Pos']=='C'].sort_values('BIGAA',ascending=False).iloc[13]['BIGAA'])\n",
    "h.loc[h['Primary_Pos']=='C', 'Pos_adj'] = c_adjust\n",
    "ci_adjust = abs(h[h['Primary_Pos'].isin(['1B', '3B'])].sort_values('BIGAA',ascending=False).iloc[37]['BIGAA'])\n",
    "h.loc[h['Primary_Pos'].isin(['1B', '3B']), 'Pos_adj'] = ci_adjust\n",
    "mi_adjust = abs(h[h['Primary_Pos'].isin(['2B', 'SS'])].sort_values('BIGAA',ascending=False).iloc[37]['BIGAA'])\n",
    "h.loc[h['Primary_Pos'].isin(['2B', 'SS']), 'Pos_adj'] = mi_adjust\n",
    "of_adjust = abs(h[h['Primary_Pos'].isin(['OF', 'DH'])].sort_values('BIGAA',ascending=False).iloc[61]['BIGAA'])\n",
    "h.loc[h['Primary_Pos'].isin(['OF', 'DH']), 'Pos_adj'] = of_adjust\n",
    "\n",
    "print('C',h[h['Primary_Pos']=='C'].sort_values('BIGAA',ascending=False).iloc[13]['BIGAA'])\n",
    "print('MI',h[h['Primary_Pos'].isin(['2B', 'SS'])].sort_values('BIGAA',ascending=False).iloc[37]['BIGAA'])\n",
    "print('CI',h[h['Primary_Pos'].isin(['1B', '3B'])].sort_values('BIGAA',ascending=False).iloc[37]['BIGAA'])\n",
    "print('OF',h[h['Primary_Pos'].isin(['OF', 'DH'])].sort_values('BIGAA',ascending=False).iloc[61]['BIGAA'])\n",
    "\n",
    "sp_adjust = abs(p[p['Primary_Pos']=='SP'].sort_values('BIGAA',ascending=False).iloc[78]['BIGAA'])\n",
    "p.loc[p['Primary_Pos']=='SP', 'Pos_adj'] = sp_adjust\n",
    "rp_adjust = abs(p[p['Primary_Pos']=='RP'].sort_values('BIGAA',ascending=False).iloc[30]['BIGAA'])\n",
    "p.loc[p['Primary_Pos']=='RP', 'Pos_adj'] = rp_adjust\n",
    "print('SP',p[p['Primary_Pos'].isin(['SP'])].sort_values('BIGAA',ascending=False).iloc[78]['BIGAA'])\n",
    "print('RP',p[p['Primary_Pos'].isin(['RP'])].sort_values('BIGAA',ascending=False).iloc[30]['BIGAA'])\n",
    "\n",
    "# Apply Positional adjustment\n",
    "h['z'] = h['BIGAA'] + h['Pos_adj']\n",
    "p['z'] = p['BIGAA'] + p['Pos_adj']\n",
    "\n",
    "# Apply H/P split\n",
    "# Commented out the split conversion because the dollar converter works this in by using total dollar / total z of both hitters and pitchers\n",
    "#p['z'] = p['BIGAA']*(p[p['BIGAA']>0]['BIGAA'].sum()/(h[h['BIGAA']>0]['BIGAA'].sum()+p[p['BIGAA']>0]['BIGAA'].sum()))\n",
    "#h['z'] = h['BIGAA']*(h[h['BIGAA']>0]['BIGAA'].sum()/(h[h['BIGAA']>0]['BIGAA'].sum()+p[p['BIGAA']>0]['BIGAA'].sum()))\n",
    "#p['z'] = p['BIGAA']# * pitcher_split\n",
    "#h['z'] = h['BIGAA']# * player_split\n",
    "\n",
    "conv = (tm_dollars/tm_players)*(tot_players/(h[h['z']>0]['z'].sum()+p[p['z']>0]['z'].sum()))\n",
    "print('\\nTotal z:',h[h['z']>0]['z'].sum()+p[p['z']>0]['z'].sum())\n",
    "print('\\nH/P split:',h[h['z']>0]['z'].sum()/(h[h['z']>0]['z'].sum()+p[p['z']>0]['z'].sum()))\n",
    "print('Conversion to $:',conv)\n",
    "\n",
    "h['Value'] = h['z']*conv\n",
    "p['Value'] = p['z']*conv\n",
    "\n",
    "p.loc[p['Name']=='Shohei Ohtani', 'playerid'] = 'p19755'\n",
    "\n",
    "b = h.append(p)\n",
    "b['Outs'] = b['IP']*3\n",
    "b['K/9'] = b['SO']*9/(b['Outs']/3)\n",
    "b['Timestamp'] = None\n",
    "b['Paid'] = 0\n",
    "b['Owner'] = None\n",
    "b['Used'] = None\n",
    "\n",
    "#b.loc[b['Name']=='Fernando Tatis Jr.', 'Owner'] = 'Lima Time'\n",
    "#b.loc[b['Name']=='Fernando Tatis Jr.', 'Paid'] = 36\n",
    "#b.loc[b['Name']=='Fernando Tatis Jr.', 'Timestamp'] = datetime.now()"
   ]
  },
  {
   "cell_type": "code",
   "execution_count": 49,
   "id": "81474406",
   "metadata": {},
   "outputs": [],
   "source": [
    "# Uploads data to table\n",
    "#b.set_index('playerid')[['Name', 'Team', 'Pos', 'Primary_Pos', 'G', 'GS', 'PA', 'AB', 'H', 'HR', 'R', 'RBI', 'SB', 'BA', 'IP', 'Outs', 'HA', 'BB', 'ER', 'W', 'SO', 'Sv+Hld', 'ERA', 'WHIP', 'K/9', 'Dollars', 'z', 'Value', 'Paid', 'Owner', 'Used', 'Timestamp', 'zBA', 'zHR', 'zR', 'zRBI', 'zSB', 'zERA', 'zWHIP', 'zW', 'zSO', 'zSv+Hld']].to_sql('players', engine, if_exists='replace')"
   ]
  },
  {
   "cell_type": "code",
   "execution_count": 6,
   "id": "c1240c5b",
   "metadata": {},
   "outputs": [],
   "source": [
    "def owners():\n",
    "    df = pd.read_sql('players', engine)\n",
    "    owners_df = df.groupby('Owner').agg({'Name':'count', 'Paid':'sum', 'z':'sum', 'H':'sum', 'AB':'sum', 'HR':'sum', 'R':'sum', 'RBI':'sum', 'SB':'sum', 'W':'sum', 'Sv+Hld':'sum', 'SO':'sum'}).reset_index()\n",
    "    owners_df.rename(columns={'Name':'Drafted'},inplace=True)\n",
    "    owners_df['$/unit'] = owners_df['Paid']/owners_df['z']\n",
    "    owners_df['$ Left'] = tm_dollars - owners_df['Paid']\n",
    "    owners_df['$ Left / Plyr'] = owners_df['$ Left'] / (tm_players -owners_df['Drafted'])\n",
    "    owners_df['BA'] = owners_df['H']/owners_df['AB']\n",
    "    owners_df['Pts'] = 0\n",
    "    for i in ['BA', 'HR', 'R', 'RBI', 'SB', 'W', 'Sv+Hld', 'SO']:\n",
    "        owners_df['Pts'] += owners_df[i].rank()\n",
    "    owners_df['Rank'] = owners_df['Pts'].rank()\n",
    "    return df.sort_values('z', ascending=False), owners_df"
   ]
  },
  {
   "cell_type": "code",
   "execution_count": 129,
   "id": "229b25b7",
   "metadata": {},
   "outputs": [
    {
     "data": {
      "text/html": [
       "<div>\n",
       "<style scoped>\n",
       "    .dataframe tbody tr th:only-of-type {\n",
       "        vertical-align: middle;\n",
       "    }\n",
       "\n",
       "    .dataframe tbody tr th {\n",
       "        vertical-align: top;\n",
       "    }\n",
       "\n",
       "    .dataframe thead th {\n",
       "        text-align: right;\n",
       "    }\n",
       "</style>\n",
       "<table border=\"1\" class=\"dataframe\">\n",
       "  <thead>\n",
       "    <tr style=\"text-align: right;\">\n",
       "      <th></th>\n",
       "      <th>Owner</th>\n",
       "      <th>Drafted</th>\n",
       "      <th>Paid</th>\n",
       "      <th>z</th>\n",
       "      <th>H</th>\n",
       "      <th>AB</th>\n",
       "      <th>HR</th>\n",
       "      <th>R</th>\n",
       "      <th>RBI</th>\n",
       "      <th>SB</th>\n",
       "      <th>W</th>\n",
       "      <th>Sv+Hld</th>\n",
       "      <th>SO</th>\n",
       "      <th>$/unit</th>\n",
       "      <th>$ Left</th>\n",
       "      <th>$ Left / Plyr</th>\n",
       "      <th>BA</th>\n",
       "      <th>Pts</th>\n",
       "      <th>Rank</th>\n",
       "    </tr>\n",
       "  </thead>\n",
       "  <tbody>\n",
       "    <tr>\n",
       "      <th>0</th>\n",
       "      <td>Avg Joes</td>\n",
       "      <td>5</td>\n",
       "      <td>141</td>\n",
       "      <td>29.572630</td>\n",
       "      <td>586.0</td>\n",
       "      <td>2152.0</td>\n",
       "      <td>129.0</td>\n",
       "      <td>368.0</td>\n",
       "      <td>377.0</td>\n",
       "      <td>49.0</td>\n",
       "      <td>13.0</td>\n",
       "      <td>0.0</td>\n",
       "      <td>207.0</td>\n",
       "      <td>4.767922</td>\n",
       "      <td>119</td>\n",
       "      <td>6.611111</td>\n",
       "      <td>0.272305</td>\n",
       "      <td>60.5</td>\n",
       "      <td>9.5</td>\n",
       "    </tr>\n",
       "    <tr>\n",
       "      <th>1</th>\n",
       "      <td>Brewbirds</td>\n",
       "      <td>5</td>\n",
       "      <td>134</td>\n",
       "      <td>23.420286</td>\n",
       "      <td>610.0</td>\n",
       "      <td>2180.0</td>\n",
       "      <td>115.0</td>\n",
       "      <td>370.0</td>\n",
       "      <td>363.0</td>\n",
       "      <td>38.0</td>\n",
       "      <td>13.0</td>\n",
       "      <td>0.0</td>\n",
       "      <td>202.0</td>\n",
       "      <td>5.721536</td>\n",
       "      <td>126</td>\n",
       "      <td>7.000000</td>\n",
       "      <td>0.279817</td>\n",
       "      <td>59.5</td>\n",
       "      <td>8.0</td>\n",
       "    </tr>\n",
       "    <tr>\n",
       "      <th>2</th>\n",
       "      <td>Charmer</td>\n",
       "      <td>5</td>\n",
       "      <td>134</td>\n",
       "      <td>29.007400</td>\n",
       "      <td>476.0</td>\n",
       "      <td>1705.0</td>\n",
       "      <td>90.0</td>\n",
       "      <td>283.0</td>\n",
       "      <td>269.0</td>\n",
       "      <td>47.0</td>\n",
       "      <td>15.0</td>\n",
       "      <td>32.0</td>\n",
       "      <td>313.0</td>\n",
       "      <td>4.619511</td>\n",
       "      <td>126</td>\n",
       "      <td>7.000000</td>\n",
       "      <td>0.279179</td>\n",
       "      <td>63.0</td>\n",
       "      <td>12.0</td>\n",
       "    </tr>\n",
       "    <tr>\n",
       "      <th>3</th>\n",
       "      <td>Dirty Birds</td>\n",
       "      <td>5</td>\n",
       "      <td>113</td>\n",
       "      <td>20.809451</td>\n",
       "      <td>456.0</td>\n",
       "      <td>1671.0</td>\n",
       "      <td>87.0</td>\n",
       "      <td>260.0</td>\n",
       "      <td>268.0</td>\n",
       "      <td>24.0</td>\n",
       "      <td>23.0</td>\n",
       "      <td>0.0</td>\n",
       "      <td>409.0</td>\n",
       "      <td>5.430225</td>\n",
       "      <td>147</td>\n",
       "      <td>8.166667</td>\n",
       "      <td>0.272890</td>\n",
       "      <td>48.0</td>\n",
       "      <td>4.5</td>\n",
       "    </tr>\n",
       "    <tr>\n",
       "      <th>4</th>\n",
       "      <td>Harvey</td>\n",
       "      <td>5</td>\n",
       "      <td>112</td>\n",
       "      <td>24.735892</td>\n",
       "      <td>628.0</td>\n",
       "      <td>2281.0</td>\n",
       "      <td>131.0</td>\n",
       "      <td>369.0</td>\n",
       "      <td>396.0</td>\n",
       "      <td>23.0</td>\n",
       "      <td>13.0</td>\n",
       "      <td>0.0</td>\n",
       "      <td>234.0</td>\n",
       "      <td>4.527833</td>\n",
       "      <td>148</td>\n",
       "      <td>8.222222</td>\n",
       "      <td>0.275318</td>\n",
       "      <td>60.5</td>\n",
       "      <td>9.5</td>\n",
       "    </tr>\n",
       "    <tr>\n",
       "      <th>5</th>\n",
       "      <td>Lil Trump</td>\n",
       "      <td>5</td>\n",
       "      <td>138</td>\n",
       "      <td>30.251644</td>\n",
       "      <td>592.0</td>\n",
       "      <td>2176.0</td>\n",
       "      <td>128.0</td>\n",
       "      <td>370.0</td>\n",
       "      <td>378.0</td>\n",
       "      <td>29.0</td>\n",
       "      <td>14.0</td>\n",
       "      <td>0.0</td>\n",
       "      <td>259.0</td>\n",
       "      <td>4.561735</td>\n",
       "      <td>122</td>\n",
       "      <td>6.777778</td>\n",
       "      <td>0.272059</td>\n",
       "      <td>62.0</td>\n",
       "      <td>11.0</td>\n",
       "    </tr>\n",
       "    <tr>\n",
       "      <th>6</th>\n",
       "      <td>Lima Time</td>\n",
       "      <td>5</td>\n",
       "      <td>82</td>\n",
       "      <td>22.539234</td>\n",
       "      <td>452.0</td>\n",
       "      <td>1636.0</td>\n",
       "      <td>87.0</td>\n",
       "      <td>277.0</td>\n",
       "      <td>252.0</td>\n",
       "      <td>38.0</td>\n",
       "      <td>21.0</td>\n",
       "      <td>0.0</td>\n",
       "      <td>358.0</td>\n",
       "      <td>3.638101</td>\n",
       "      <td>178</td>\n",
       "      <td>9.888889</td>\n",
       "      <td>0.276284</td>\n",
       "      <td>52.5</td>\n",
       "      <td>7.0</td>\n",
       "    </tr>\n",
       "    <tr>\n",
       "      <th>7</th>\n",
       "      <td>Midnight</td>\n",
       "      <td>5</td>\n",
       "      <td>114</td>\n",
       "      <td>21.985278</td>\n",
       "      <td>287.0</td>\n",
       "      <td>1062.0</td>\n",
       "      <td>70.0</td>\n",
       "      <td>190.0</td>\n",
       "      <td>183.0</td>\n",
       "      <td>35.0</td>\n",
       "      <td>27.0</td>\n",
       "      <td>33.0</td>\n",
       "      <td>439.0</td>\n",
       "      <td>5.185288</td>\n",
       "      <td>146</td>\n",
       "      <td>8.111111</td>\n",
       "      <td>0.270245</td>\n",
       "      <td>51.0</td>\n",
       "      <td>6.0</td>\n",
       "    </tr>\n",
       "    <tr>\n",
       "      <th>8</th>\n",
       "      <td>Moms Cookin</td>\n",
       "      <td>5</td>\n",
       "      <td>95</td>\n",
       "      <td>17.715986</td>\n",
       "      <td>557.0</td>\n",
       "      <td>2119.0</td>\n",
       "      <td>126.0</td>\n",
       "      <td>359.0</td>\n",
       "      <td>349.0</td>\n",
       "      <td>17.0</td>\n",
       "      <td>11.0</td>\n",
       "      <td>0.0</td>\n",
       "      <td>208.0</td>\n",
       "      <td>5.362389</td>\n",
       "      <td>165</td>\n",
       "      <td>9.166667</td>\n",
       "      <td>0.262860</td>\n",
       "      <td>38.0</td>\n",
       "      <td>1.0</td>\n",
       "    </tr>\n",
       "    <tr>\n",
       "      <th>9</th>\n",
       "      <td>Roid Ragers</td>\n",
       "      <td>5</td>\n",
       "      <td>115</td>\n",
       "      <td>23.361938</td>\n",
       "      <td>616.0</td>\n",
       "      <td>2289.0</td>\n",
       "      <td>124.0</td>\n",
       "      <td>378.0</td>\n",
       "      <td>382.0</td>\n",
       "      <td>25.0</td>\n",
       "      <td>11.0</td>\n",
       "      <td>0.0</td>\n",
       "      <td>192.0</td>\n",
       "      <td>4.922537</td>\n",
       "      <td>145</td>\n",
       "      <td>8.055556</td>\n",
       "      <td>0.269113</td>\n",
       "      <td>48.0</td>\n",
       "      <td>4.5</td>\n",
       "    </tr>\n",
       "    <tr>\n",
       "      <th>10</th>\n",
       "      <td>Trouble</td>\n",
       "      <td>5</td>\n",
       "      <td>99</td>\n",
       "      <td>19.355269</td>\n",
       "      <td>542.0</td>\n",
       "      <td>2169.0</td>\n",
       "      <td>98.0</td>\n",
       "      <td>317.0</td>\n",
       "      <td>322.0</td>\n",
       "      <td>66.0</td>\n",
       "      <td>12.0</td>\n",
       "      <td>0.0</td>\n",
       "      <td>198.0</td>\n",
       "      <td>5.114886</td>\n",
       "      <td>161</td>\n",
       "      <td>8.944444</td>\n",
       "      <td>0.249885</td>\n",
       "      <td>41.5</td>\n",
       "      <td>3.0</td>\n",
       "    </tr>\n",
       "    <tr>\n",
       "      <th>11</th>\n",
       "      <td>Wu-Tang</td>\n",
       "      <td>5</td>\n",
       "      <td>88</td>\n",
       "      <td>20.136383</td>\n",
       "      <td>378.0</td>\n",
       "      <td>1437.0</td>\n",
       "      <td>75.0</td>\n",
       "      <td>231.0</td>\n",
       "      <td>229.0</td>\n",
       "      <td>24.0</td>\n",
       "      <td>23.0</td>\n",
       "      <td>0.0</td>\n",
       "      <td>411.0</td>\n",
       "      <td>4.370199</td>\n",
       "      <td>172</td>\n",
       "      <td>9.555556</td>\n",
       "      <td>0.263048</td>\n",
       "      <td>39.5</td>\n",
       "      <td>2.0</td>\n",
       "    </tr>\n",
       "  </tbody>\n",
       "</table>\n",
       "</div>"
      ],
      "text/plain": [
       "          Owner  Drafted  Paid          z      H      AB     HR      R    RBI  \\\n",
       "0      Avg Joes        5   141  29.572630  586.0  2152.0  129.0  368.0  377.0   \n",
       "1     Brewbirds        5   134  23.420286  610.0  2180.0  115.0  370.0  363.0   \n",
       "2       Charmer        5   134  29.007400  476.0  1705.0   90.0  283.0  269.0   \n",
       "3   Dirty Birds        5   113  20.809451  456.0  1671.0   87.0  260.0  268.0   \n",
       "4        Harvey        5   112  24.735892  628.0  2281.0  131.0  369.0  396.0   \n",
       "5     Lil Trump        5   138  30.251644  592.0  2176.0  128.0  370.0  378.0   \n",
       "6     Lima Time        5    82  22.539234  452.0  1636.0   87.0  277.0  252.0   \n",
       "7      Midnight        5   114  21.985278  287.0  1062.0   70.0  190.0  183.0   \n",
       "8   Moms Cookin        5    95  17.715986  557.0  2119.0  126.0  359.0  349.0   \n",
       "9   Roid Ragers        5   115  23.361938  616.0  2289.0  124.0  378.0  382.0   \n",
       "10      Trouble        5    99  19.355269  542.0  2169.0   98.0  317.0  322.0   \n",
       "11      Wu-Tang        5    88  20.136383  378.0  1437.0   75.0  231.0  229.0   \n",
       "\n",
       "      SB     W  Sv+Hld     SO    $/unit  $ Left  $ Left / Plyr        BA  \\\n",
       "0   49.0  13.0     0.0  207.0  4.767922     119       6.611111  0.272305   \n",
       "1   38.0  13.0     0.0  202.0  5.721536     126       7.000000  0.279817   \n",
       "2   47.0  15.0    32.0  313.0  4.619511     126       7.000000  0.279179   \n",
       "3   24.0  23.0     0.0  409.0  5.430225     147       8.166667  0.272890   \n",
       "4   23.0  13.0     0.0  234.0  4.527833     148       8.222222  0.275318   \n",
       "5   29.0  14.0     0.0  259.0  4.561735     122       6.777778  0.272059   \n",
       "6   38.0  21.0     0.0  358.0  3.638101     178       9.888889  0.276284   \n",
       "7   35.0  27.0    33.0  439.0  5.185288     146       8.111111  0.270245   \n",
       "8   17.0  11.0     0.0  208.0  5.362389     165       9.166667  0.262860   \n",
       "9   25.0  11.0     0.0  192.0  4.922537     145       8.055556  0.269113   \n",
       "10  66.0  12.0     0.0  198.0  5.114886     161       8.944444  0.249885   \n",
       "11  24.0  23.0     0.0  411.0  4.370199     172       9.555556  0.263048   \n",
       "\n",
       "     Pts  Rank  \n",
       "0   60.5   9.5  \n",
       "1   59.5   8.0  \n",
       "2   63.0  12.0  \n",
       "3   48.0   4.5  \n",
       "4   60.5   9.5  \n",
       "5   62.0  11.0  \n",
       "6   52.5   7.0  \n",
       "7   51.0   6.0  \n",
       "8   38.0   1.0  \n",
       "9   48.0   4.5  \n",
       "10  41.5   3.0  \n",
       "11  39.5   2.0  "
      ]
     },
     "execution_count": 129,
     "metadata": {},
     "output_type": "execute_result"
    }
   ],
   "source": [
    "df, owners_df = owners()\n",
    "owners_df"
   ]
  },
  {
   "cell_type": "code",
   "execution_count": 130,
   "id": "1e73bddb",
   "metadata": {},
   "outputs": [],
   "source": [
    "owner_list = ['Avg Joes', 'Brewbirds', 'Charmer', 'Dirty Birds', 'Harvey', 'Lil Trump', 'Lima Time', 'Midnight', 'Moms Cookin', 'Roid Ragers', 'Trouble', 'Wu-Tang']\n",
    "roster = pd.DataFrame(index=['C', '1B', '2B', '3B', 'SS', 'MI', 'CI', 'OF1', 'OF2', 'OF3', 'OF4', 'OF5', 'DH1', 'DH2', 'P1', 'P2', 'P3', 'P4', 'P5', 'P6', 'P7', 'P8', 'P9'], data=np.zeros((23,12)), columns=owner_list)"
   ]
  },
  {
   "cell_type": "code",
   "execution_count": 131,
   "id": "e26ecbe8",
   "metadata": {},
   "outputs": [],
   "source": [
    "def check_roster_pos(roster, name, team_name, pos, eligible):\n",
    "    eligible_at = eligible.split('/')\n",
    "    eligibility = []\n",
    "    for p in eligible.split('/'):\n",
    "        if p=='C':\n",
    "            eligibility.extend(['C'])\n",
    "        if p=='1B':\n",
    "            eligibility.extend(['1B', 'CI'])\n",
    "        if p=='2B':\n",
    "            eligibility.extend(['2B', 'MI'])\n",
    "        if p=='3B':\n",
    "            eligibility.extend(['3B', 'CI'])\n",
    "        if p=='SS':\n",
    "            eligibility.extend(['SS', 'MI'])\n",
    "        if p=='OF':\n",
    "            eligibility.extend(['OF1', 'OF2', 'OF3', 'OF4', 'OF5'])\n",
    "        if p in ['SP', 'RP']:\n",
    "            eligibility.extend(['P1', 'P2', 'P3', 'P4', 'P5', 'P6', 'P7', 'P8', 'P9'])\n",
    "        \n",
    "    eligibility = list(dict.fromkeys(eligibility))\n",
    "    if 'SP' in eligible_at or 'RP' in eligible_at: \n",
    "        pos_list = eligibility\n",
    "    else:\n",
    "        pos_list = eligibility+['DH1', 'DH2']\n",
    "    for p in pos_list:\n",
    "        if roster.loc[p, team_name]==0:\n",
    "            roster.loc[p, team_name] = name\n",
    "            return p\n",
    "    \n",
    "    return pos_list"
   ]
  },
  {
   "cell_type": "code",
   "execution_count": 132,
   "id": "ce72839d",
   "metadata": {},
   "outputs": [],
   "source": [
    "owner_list = ['Avg Joes', 'Brewbirds', 'Charmer', 'Dirty Birds', 'Harvey', 'Lil Trump', 'Lima Time', 'Midnight', 'Moms Cookin', 'Roid Ragers', 'Trouble', 'Wu-Tang']\n",
    "roster = pd.DataFrame(index=['C', '1B', '2B', '3B', 'SS', 'MI', 'CI', 'OF1', 'OF2', 'OF3', 'OF4', 'OF5', 'DH1', 'DH2', 'P1', 'P2', 'P3', 'P4', 'P5', 'P6', 'P7', 'P8', 'P9'], data=np.zeros((23,12)), columns=owner_list)\n",
    "for tm in owners_df.Owner.to_list():\n",
    "    for i, row in df[df['Owner']==tm][['Name', 'Owner', 'Primary_Pos', 'Pos', 'Timestamp']].sort_values(\"Timestamp\").iterrows():\n",
    "        check_roster_pos(roster, df.loc[i]['Name'], df.loc[i]['Owner'], df.loc[i]['Primary_Pos'], df.loc[i]['Pos'])"
   ]
  },
  {
   "cell_type": "code",
   "execution_count": 133,
   "id": "e602cf68",
   "metadata": {},
   "outputs": [
    {
     "data": {
      "text/html": [
       "<div>\n",
       "<style scoped>\n",
       "    .dataframe tbody tr th:only-of-type {\n",
       "        vertical-align: middle;\n",
       "    }\n",
       "\n",
       "    .dataframe tbody tr th {\n",
       "        vertical-align: top;\n",
       "    }\n",
       "\n",
       "    .dataframe thead th {\n",
       "        text-align: right;\n",
       "    }\n",
       "</style>\n",
       "<table border=\"1\" class=\"dataframe\">\n",
       "  <thead>\n",
       "    <tr style=\"text-align: right;\">\n",
       "      <th></th>\n",
       "      <th>Avg Joes</th>\n",
       "      <th>Brewbirds</th>\n",
       "      <th>Charmer</th>\n",
       "      <th>Dirty Birds</th>\n",
       "      <th>Harvey</th>\n",
       "      <th>Lil Trump</th>\n",
       "      <th>Lima Time</th>\n",
       "      <th>Midnight</th>\n",
       "      <th>Moms Cookin</th>\n",
       "      <th>Roid Ragers</th>\n",
       "      <th>Trouble</th>\n",
       "      <th>Wu-Tang</th>\n",
       "    </tr>\n",
       "  </thead>\n",
       "  <tbody>\n",
       "    <tr>\n",
       "      <th>C</th>\n",
       "      <td>Will Smith</td>\n",
       "      <td>0</td>\n",
       "      <td>0</td>\n",
       "      <td>0</td>\n",
       "      <td>0</td>\n",
       "      <td>Salvador Perez</td>\n",
       "      <td>0</td>\n",
       "      <td>0</td>\n",
       "      <td>0</td>\n",
       "      <td>0</td>\n",
       "      <td>J.T. Realmuto</td>\n",
       "      <td>Omar Narvaez</td>\n",
       "    </tr>\n",
       "    <tr>\n",
       "      <th>1B</th>\n",
       "      <td>0</td>\n",
       "      <td>Jared Walsh</td>\n",
       "      <td>0</td>\n",
       "      <td>0</td>\n",
       "      <td>Vladimir Guerrero Jr.</td>\n",
       "      <td>0</td>\n",
       "      <td>0</td>\n",
       "      <td>0</td>\n",
       "      <td>Matt Olson</td>\n",
       "      <td>Pete Alonso</td>\n",
       "      <td>0</td>\n",
       "      <td>0</td>\n",
       "    </tr>\n",
       "    <tr>\n",
       "      <th>2B</th>\n",
       "      <td>0</td>\n",
       "      <td>Trea Turner</td>\n",
       "      <td>0</td>\n",
       "      <td>0</td>\n",
       "      <td>0</td>\n",
       "      <td>Ozzie Albies</td>\n",
       "      <td>Marcus Semien</td>\n",
       "      <td>0</td>\n",
       "      <td>0</td>\n",
       "      <td>Mookie Betts</td>\n",
       "      <td>0</td>\n",
       "      <td>0</td>\n",
       "    </tr>\n",
       "    <tr>\n",
       "      <th>3B</th>\n",
       "      <td>Jose Ramirez</td>\n",
       "      <td>0</td>\n",
       "      <td>0</td>\n",
       "      <td>Rafael Devers</td>\n",
       "      <td>Austin Riley</td>\n",
       "      <td>Josh Donaldson</td>\n",
       "      <td>0</td>\n",
       "      <td>0</td>\n",
       "      <td>0</td>\n",
       "      <td>0</td>\n",
       "      <td>0</td>\n",
       "      <td>0</td>\n",
       "    </tr>\n",
       "    <tr>\n",
       "      <th>SS</th>\n",
       "      <td>Bo Bichette</td>\n",
       "      <td>Corey Seager</td>\n",
       "      <td>Tim Anderson</td>\n",
       "      <td>0</td>\n",
       "      <td>0</td>\n",
       "      <td>0</td>\n",
       "      <td>Fernando Tatis Jr.</td>\n",
       "      <td>0</td>\n",
       "      <td>0</td>\n",
       "      <td>Xander Bogaerts</td>\n",
       "      <td>Trevor Story</td>\n",
       "      <td>Carlos Correa</td>\n",
       "    </tr>\n",
       "    <tr>\n",
       "      <th>MI</th>\n",
       "      <td>0</td>\n",
       "      <td>0</td>\n",
       "      <td>0</td>\n",
       "      <td>0</td>\n",
       "      <td>0</td>\n",
       "      <td>0</td>\n",
       "      <td>0</td>\n",
       "      <td>0</td>\n",
       "      <td>0</td>\n",
       "      <td>0</td>\n",
       "      <td>0</td>\n",
       "      <td>0</td>\n",
       "    </tr>\n",
       "    <tr>\n",
       "      <th>CI</th>\n",
       "      <td>0</td>\n",
       "      <td>0</td>\n",
       "      <td>0</td>\n",
       "      <td>0</td>\n",
       "      <td>Jose Abreu</td>\n",
       "      <td>0</td>\n",
       "      <td>0</td>\n",
       "      <td>0</td>\n",
       "      <td>Anthony Rizzo</td>\n",
       "      <td>0</td>\n",
       "      <td>0</td>\n",
       "      <td>0</td>\n",
       "    </tr>\n",
       "    <tr>\n",
       "      <th>OF1</th>\n",
       "      <td>Aaron Judge</td>\n",
       "      <td>Mike Trout</td>\n",
       "      <td>Kyle Tucker</td>\n",
       "      <td>Alex Verdugo</td>\n",
       "      <td>Randy Arozarena</td>\n",
       "      <td>Juan Soto</td>\n",
       "      <td>Michael Brantley</td>\n",
       "      <td>Ronald Acuna Jr.</td>\n",
       "      <td>Jesse Winker</td>\n",
       "      <td>J.D. Martinez</td>\n",
       "      <td>Adam Duvall</td>\n",
       "      <td>Shohei Ohtani</td>\n",
       "    </tr>\n",
       "    <tr>\n",
       "      <th>OF2</th>\n",
       "      <td>0</td>\n",
       "      <td>0</td>\n",
       "      <td>Bryce Harper</td>\n",
       "      <td>Tyler O'Neill</td>\n",
       "      <td>0</td>\n",
       "      <td>0</td>\n",
       "      <td>0</td>\n",
       "      <td>Teoscar Hernandez</td>\n",
       "      <td>George Springer</td>\n",
       "      <td>0</td>\n",
       "      <td>Starling Marte</td>\n",
       "      <td>0</td>\n",
       "    </tr>\n",
       "    <tr>\n",
       "      <th>OF3</th>\n",
       "      <td>0</td>\n",
       "      <td>0</td>\n",
       "      <td>0</td>\n",
       "      <td>0</td>\n",
       "      <td>0</td>\n",
       "      <td>0</td>\n",
       "      <td>0</td>\n",
       "      <td>0</td>\n",
       "      <td>0</td>\n",
       "      <td>0</td>\n",
       "      <td>0</td>\n",
       "      <td>0</td>\n",
       "    </tr>\n",
       "    <tr>\n",
       "      <th>OF4</th>\n",
       "      <td>0</td>\n",
       "      <td>0</td>\n",
       "      <td>0</td>\n",
       "      <td>0</td>\n",
       "      <td>0</td>\n",
       "      <td>0</td>\n",
       "      <td>0</td>\n",
       "      <td>0</td>\n",
       "      <td>0</td>\n",
       "      <td>0</td>\n",
       "      <td>0</td>\n",
       "      <td>0</td>\n",
       "    </tr>\n",
       "    <tr>\n",
       "      <th>OF5</th>\n",
       "      <td>0</td>\n",
       "      <td>0</td>\n",
       "      <td>0</td>\n",
       "      <td>0</td>\n",
       "      <td>0</td>\n",
       "      <td>0</td>\n",
       "      <td>0</td>\n",
       "      <td>0</td>\n",
       "      <td>0</td>\n",
       "      <td>0</td>\n",
       "      <td>0</td>\n",
       "      <td>0</td>\n",
       "    </tr>\n",
       "    <tr>\n",
       "      <th>DH1</th>\n",
       "      <td>0</td>\n",
       "      <td>0</td>\n",
       "      <td>0</td>\n",
       "      <td>0</td>\n",
       "      <td>0</td>\n",
       "      <td>0</td>\n",
       "      <td>0</td>\n",
       "      <td>0</td>\n",
       "      <td>0</td>\n",
       "      <td>0</td>\n",
       "      <td>0</td>\n",
       "      <td>0</td>\n",
       "    </tr>\n",
       "    <tr>\n",
       "      <th>DH2</th>\n",
       "      <td>0</td>\n",
       "      <td>0</td>\n",
       "      <td>0</td>\n",
       "      <td>0</td>\n",
       "      <td>0</td>\n",
       "      <td>0</td>\n",
       "      <td>0</td>\n",
       "      <td>0</td>\n",
       "      <td>0</td>\n",
       "      <td>0</td>\n",
       "      <td>0</td>\n",
       "      <td>0</td>\n",
       "    </tr>\n",
       "    <tr>\n",
       "      <th>P1</th>\n",
       "      <td>Zack Wheeler</td>\n",
       "      <td>Walker Buehler</td>\n",
       "      <td>Aroldis Chapman</td>\n",
       "      <td>Shane Bieber</td>\n",
       "      <td>Max Scherzer</td>\n",
       "      <td>Gerrit Cole</td>\n",
       "      <td>Lance McCullers Jr.</td>\n",
       "      <td>Jose Berrios</td>\n",
       "      <td>Brandon Woodruff</td>\n",
       "      <td>Chris Sale</td>\n",
       "      <td>Lance Lynn</td>\n",
       "      <td>Corbin Burnes</td>\n",
       "    </tr>\n",
       "    <tr>\n",
       "      <th>P2</th>\n",
       "      <td>0</td>\n",
       "      <td>0</td>\n",
       "      <td>Jacob deGrom</td>\n",
       "      <td>Jack Flaherty</td>\n",
       "      <td>0</td>\n",
       "      <td>0</td>\n",
       "      <td>Justin Verlander</td>\n",
       "      <td>Clayton Kershaw</td>\n",
       "      <td>0</td>\n",
       "      <td>0</td>\n",
       "      <td>0</td>\n",
       "      <td>Frankie Montas</td>\n",
       "    </tr>\n",
       "    <tr>\n",
       "      <th>P3</th>\n",
       "      <td>0</td>\n",
       "      <td>0</td>\n",
       "      <td>0</td>\n",
       "      <td>0</td>\n",
       "      <td>0</td>\n",
       "      <td>0</td>\n",
       "      <td>0</td>\n",
       "      <td>Edwin Diaz</td>\n",
       "      <td>0</td>\n",
       "      <td>0</td>\n",
       "      <td>0</td>\n",
       "      <td>0</td>\n",
       "    </tr>\n",
       "    <tr>\n",
       "      <th>P4</th>\n",
       "      <td>0</td>\n",
       "      <td>0</td>\n",
       "      <td>0</td>\n",
       "      <td>0</td>\n",
       "      <td>0</td>\n",
       "      <td>0</td>\n",
       "      <td>0</td>\n",
       "      <td>0</td>\n",
       "      <td>0</td>\n",
       "      <td>0</td>\n",
       "      <td>0</td>\n",
       "      <td>0</td>\n",
       "    </tr>\n",
       "    <tr>\n",
       "      <th>P5</th>\n",
       "      <td>0</td>\n",
       "      <td>0</td>\n",
       "      <td>0</td>\n",
       "      <td>0</td>\n",
       "      <td>0</td>\n",
       "      <td>0</td>\n",
       "      <td>0</td>\n",
       "      <td>0</td>\n",
       "      <td>0</td>\n",
       "      <td>0</td>\n",
       "      <td>0</td>\n",
       "      <td>0</td>\n",
       "    </tr>\n",
       "    <tr>\n",
       "      <th>P6</th>\n",
       "      <td>0</td>\n",
       "      <td>0</td>\n",
       "      <td>0</td>\n",
       "      <td>0</td>\n",
       "      <td>0</td>\n",
       "      <td>0</td>\n",
       "      <td>0</td>\n",
       "      <td>0</td>\n",
       "      <td>0</td>\n",
       "      <td>0</td>\n",
       "      <td>0</td>\n",
       "      <td>0</td>\n",
       "    </tr>\n",
       "    <tr>\n",
       "      <th>P7</th>\n",
       "      <td>0</td>\n",
       "      <td>0</td>\n",
       "      <td>0</td>\n",
       "      <td>0</td>\n",
       "      <td>0</td>\n",
       "      <td>0</td>\n",
       "      <td>0</td>\n",
       "      <td>0</td>\n",
       "      <td>0</td>\n",
       "      <td>0</td>\n",
       "      <td>0</td>\n",
       "      <td>0</td>\n",
       "    </tr>\n",
       "    <tr>\n",
       "      <th>P8</th>\n",
       "      <td>0</td>\n",
       "      <td>0</td>\n",
       "      <td>0</td>\n",
       "      <td>0</td>\n",
       "      <td>0</td>\n",
       "      <td>0</td>\n",
       "      <td>0</td>\n",
       "      <td>0</td>\n",
       "      <td>0</td>\n",
       "      <td>0</td>\n",
       "      <td>0</td>\n",
       "      <td>0</td>\n",
       "    </tr>\n",
       "    <tr>\n",
       "      <th>P9</th>\n",
       "      <td>0</td>\n",
       "      <td>0</td>\n",
       "      <td>0</td>\n",
       "      <td>0</td>\n",
       "      <td>0</td>\n",
       "      <td>0</td>\n",
       "      <td>0</td>\n",
       "      <td>0</td>\n",
       "      <td>0</td>\n",
       "      <td>0</td>\n",
       "      <td>0</td>\n",
       "      <td>0</td>\n",
       "    </tr>\n",
       "  </tbody>\n",
       "</table>\n",
       "</div>"
      ],
      "text/plain": [
       "         Avg Joes       Brewbirds          Charmer    Dirty Birds  \\\n",
       "C      Will Smith               0                0              0   \n",
       "1B              0     Jared Walsh                0              0   \n",
       "2B              0     Trea Turner                0              0   \n",
       "3B   Jose Ramirez               0                0  Rafael Devers   \n",
       "SS    Bo Bichette    Corey Seager     Tim Anderson              0   \n",
       "MI              0               0                0              0   \n",
       "CI              0               0                0              0   \n",
       "OF1   Aaron Judge      Mike Trout      Kyle Tucker   Alex Verdugo   \n",
       "OF2             0               0     Bryce Harper  Tyler O'Neill   \n",
       "OF3             0               0                0              0   \n",
       "OF4             0               0                0              0   \n",
       "OF5             0               0                0              0   \n",
       "DH1             0               0                0              0   \n",
       "DH2             0               0                0              0   \n",
       "P1   Zack Wheeler  Walker Buehler  Aroldis Chapman   Shane Bieber   \n",
       "P2              0               0     Jacob deGrom  Jack Flaherty   \n",
       "P3              0               0                0              0   \n",
       "P4              0               0                0              0   \n",
       "P5              0               0                0              0   \n",
       "P6              0               0                0              0   \n",
       "P7              0               0                0              0   \n",
       "P8              0               0                0              0   \n",
       "P9              0               0                0              0   \n",
       "\n",
       "                    Harvey       Lil Trump            Lima Time  \\\n",
       "C                        0  Salvador Perez                    0   \n",
       "1B   Vladimir Guerrero Jr.               0                    0   \n",
       "2B                       0    Ozzie Albies        Marcus Semien   \n",
       "3B            Austin Riley  Josh Donaldson                    0   \n",
       "SS                       0               0   Fernando Tatis Jr.   \n",
       "MI                       0               0                    0   \n",
       "CI              Jose Abreu               0                    0   \n",
       "OF1        Randy Arozarena       Juan Soto     Michael Brantley   \n",
       "OF2                      0               0                    0   \n",
       "OF3                      0               0                    0   \n",
       "OF4                      0               0                    0   \n",
       "OF5                      0               0                    0   \n",
       "DH1                      0               0                    0   \n",
       "DH2                      0               0                    0   \n",
       "P1            Max Scherzer     Gerrit Cole  Lance McCullers Jr.   \n",
       "P2                       0               0     Justin Verlander   \n",
       "P3                       0               0                    0   \n",
       "P4                       0               0                    0   \n",
       "P5                       0               0                    0   \n",
       "P6                       0               0                    0   \n",
       "P7                       0               0                    0   \n",
       "P8                       0               0                    0   \n",
       "P9                       0               0                    0   \n",
       "\n",
       "              Midnight       Moms Cookin      Roid Ragers         Trouble  \\\n",
       "C                    0                 0                0   J.T. Realmuto   \n",
       "1B                   0        Matt Olson      Pete Alonso               0   \n",
       "2B                   0                 0     Mookie Betts               0   \n",
       "3B                   0                 0                0               0   \n",
       "SS                   0                 0  Xander Bogaerts    Trevor Story   \n",
       "MI                   0                 0                0               0   \n",
       "CI                   0     Anthony Rizzo                0               0   \n",
       "OF1   Ronald Acuna Jr.      Jesse Winker    J.D. Martinez     Adam Duvall   \n",
       "OF2  Teoscar Hernandez   George Springer                0  Starling Marte   \n",
       "OF3                  0                 0                0               0   \n",
       "OF4                  0                 0                0               0   \n",
       "OF5                  0                 0                0               0   \n",
       "DH1                  0                 0                0               0   \n",
       "DH2                  0                 0                0               0   \n",
       "P1        Jose Berrios  Brandon Woodruff       Chris Sale      Lance Lynn   \n",
       "P2     Clayton Kershaw                 0                0               0   \n",
       "P3          Edwin Diaz                 0                0               0   \n",
       "P4                   0                 0                0               0   \n",
       "P5                   0                 0                0               0   \n",
       "P6                   0                 0                0               0   \n",
       "P7                   0                 0                0               0   \n",
       "P8                   0                 0                0               0   \n",
       "P9                   0                 0                0               0   \n",
       "\n",
       "            Wu-Tang  \n",
       "C      Omar Narvaez  \n",
       "1B                0  \n",
       "2B                0  \n",
       "3B                0  \n",
       "SS    Carlos Correa  \n",
       "MI                0  \n",
       "CI                0  \n",
       "OF1   Shohei Ohtani  \n",
       "OF2               0  \n",
       "OF3               0  \n",
       "OF4               0  \n",
       "OF5               0  \n",
       "DH1               0  \n",
       "DH2               0  \n",
       "P1    Corbin Burnes  \n",
       "P2   Frankie Montas  \n",
       "P3                0  \n",
       "P4                0  \n",
       "P5                0  \n",
       "P6                0  \n",
       "P7                0  \n",
       "P8                0  \n",
       "P9                0  "
      ]
     },
     "execution_count": 133,
     "metadata": {},
     "output_type": "execute_result"
    }
   ],
   "source": [
    "roster"
   ]
  },
  {
   "cell_type": "code",
   "execution_count": 134,
   "id": "ad207d2b",
   "metadata": {},
   "outputs": [
    {
     "name": "stdout",
     "output_type": "stream",
     "text": [
      "# of Players Yet to be Drafted: 3252\n",
      "$ still available to be spent: 1755\n",
      "Initial $ per z rate: 5.01689217069817\n",
      "Current $ per z rate: 4.825173346222707\n",
      "Conversion Factor: 5.176875636148047\n"
     ]
    }
   ],
   "source": [
    "print('# of Players Yet to be Drafted:',(n_teams*tot_players) - owners_df.Drafted.sum())\n",
    "print('$ still available to be spent:', tot_dollars - owners_df.Paid.sum())\n",
    "print('Initial $ per z rate:',tot_dollars/df[df['z']>=0]['z'].sum())\n",
    "print('Current $ per z rate:',owners_df.Paid.sum() / owners_df.z.sum())\n",
    "conv_factor = (tot_dollars - owners_df.Paid.sum()) / (df[df['z']>0]['z'].sum()-owners_df['z'].sum())\n",
    "print('Conversion Factor:',conv_factor)"
   ]
  },
  {
   "cell_type": "code",
   "execution_count": 135,
   "id": "e6a06b33",
   "metadata": {},
   "outputs": [],
   "source": [
    "df['adjValue'] = df['z'] * conv_factor"
   ]
  },
  {
   "cell_type": "code",
   "execution_count": 136,
   "id": "360e4a28",
   "metadata": {},
   "outputs": [
    {
     "data": {
      "text/html": [
       "<div>\n",
       "<style scoped>\n",
       "    .dataframe tbody tr th:only-of-type {\n",
       "        vertical-align: middle;\n",
       "    }\n",
       "\n",
       "    .dataframe tbody tr th {\n",
       "        vertical-align: top;\n",
       "    }\n",
       "\n",
       "    .dataframe thead th {\n",
       "        text-align: right;\n",
       "    }\n",
       "</style>\n",
       "<table border=\"1\" class=\"dataframe\">\n",
       "  <thead>\n",
       "    <tr style=\"text-align: right;\">\n",
       "      <th></th>\n",
       "      <th>Name</th>\n",
       "      <th>z</th>\n",
       "      <th>Paid</th>\n",
       "      <th>Owner</th>\n",
       "      <th>Value</th>\n",
       "      <th>adjValue</th>\n",
       "      <th>Dollars</th>\n",
       "    </tr>\n",
       "  </thead>\n",
       "  <tbody>\n",
       "    <tr>\n",
       "      <th>0</th>\n",
       "      <td>Fernando Tatis Jr.</td>\n",
       "      <td>10.467208</td>\n",
       "      <td>36</td>\n",
       "      <td>Lima Time</td>\n",
       "      <td>52.512856</td>\n",
       "      <td>54.187436</td>\n",
       "      <td>40.784208</td>\n",
       "    </tr>\n",
       "    <tr>\n",
       "      <th>2</th>\n",
       "      <td>Juan Soto</td>\n",
       "      <td>9.390390</td>\n",
       "      <td>40</td>\n",
       "      <td>Lil Trump</td>\n",
       "      <td>47.110573</td>\n",
       "      <td>48.612880</td>\n",
       "      <td>37.932103</td>\n",
       "    </tr>\n",
       "    <tr>\n",
       "      <th>10</th>\n",
       "      <td>Ronald Acuna Jr.</td>\n",
       "      <td>8.211041</td>\n",
       "      <td>41</td>\n",
       "      <td>Midnight</td>\n",
       "      <td>41.193905</td>\n",
       "      <td>42.507536</td>\n",
       "      <td>26.025719</td>\n",
       "    </tr>\n",
       "    <tr>\n",
       "      <th>628</th>\n",
       "      <td>Jacob deGrom</td>\n",
       "      <td>8.188986</td>\n",
       "      <td>35</td>\n",
       "      <td>Charmer</td>\n",
       "      <td>41.083261</td>\n",
       "      <td>42.393363</td>\n",
       "      <td>41.513278</td>\n",
       "    </tr>\n",
       "    <tr>\n",
       "      <th>1</th>\n",
       "      <td>Vladimir Guerrero Jr.</td>\n",
       "      <td>8.064958</td>\n",
       "      <td>23</td>\n",
       "      <td>Harvey</td>\n",
       "      <td>40.461024</td>\n",
       "      <td>41.751283</td>\n",
       "      <td>40.252202</td>\n",
       "    </tr>\n",
       "  </tbody>\n",
       "</table>\n",
       "</div>"
      ],
      "text/plain": [
       "                      Name          z  Paid      Owner      Value   adjValue  \\\n",
       "0       Fernando Tatis Jr.  10.467208    36  Lima Time  52.512856  54.187436   \n",
       "2                Juan Soto   9.390390    40  Lil Trump  47.110573  48.612880   \n",
       "10        Ronald Acuna Jr.   8.211041    41   Midnight  41.193905  42.507536   \n",
       "628           Jacob deGrom   8.188986    35    Charmer  41.083261  42.393363   \n",
       "1    Vladimir Guerrero Jr.   8.064958    23     Harvey  40.461024  41.751283   \n",
       "\n",
       "       Dollars  \n",
       "0    40.784208  \n",
       "2    37.932103  \n",
       "10   26.025719  \n",
       "628  41.513278  \n",
       "1    40.252202  "
      ]
     },
     "execution_count": 136,
     "metadata": {},
     "output_type": "execute_result"
    }
   ],
   "source": [
    "df[['Name', 'z', 'Paid', 'Owner', 'Value', 'adjValue', 'Dollars']].head()"
   ]
  },
  {
   "cell_type": "code",
   "execution_count": 137,
   "id": "956d3948",
   "metadata": {},
   "outputs": [
    {
     "data": {
      "application/vnd.plotly.v1+json": {
       "config": {
        "plotlyServerURL": "https://plot.ly"
       },
       "data": [
        {
         "marker": {
          "color": [
           "gray",
           "gray",
           "gray",
           "gray",
           "gray",
           "gray",
           "gray",
           "gray",
           "gray",
           "gray",
           "gray",
           "gray",
           "gray",
           "gray",
           "gray",
           "gray",
           "gray",
           "blue",
           "gray",
           "blue",
           "gray",
           "gray",
           "gray",
           "gray",
           "gray",
           "gray",
           "gray",
           "gray",
           "blue",
           "gray",
           "blue",
           "blue",
           "gray",
           "gray",
           "gray",
           "blue",
           "blue",
           "gray",
           "gray",
           "blue",
           "blue",
           "blue",
           "gray",
           "gray",
           "gray",
           "blue",
           "gray",
           "blue",
           "gray",
           "blue",
           "gray",
           "blue",
           "blue",
           "gray",
           "blue",
           "blue",
           "blue",
           "blue",
           "blue",
           "blue",
           "gray",
           "gray",
           "blue",
           "blue",
           "gray",
           "blue",
           "gray",
           "gray",
           "blue",
           "gray",
           "gray",
           "blue",
           "blue",
           "blue",
           "blue",
           "blue",
           "blue",
           "blue",
           "blue",
           "blue",
           "blue",
           "blue",
           "blue",
           "blue",
           "blue",
           "gray",
           "blue",
           "blue",
           "blue",
           "blue",
           "blue",
           "gray",
           "blue",
           "blue",
           "blue",
           "blue",
           "gray",
           "blue",
           "blue",
           "blue",
           "blue",
           "blue",
           "blue",
           "blue",
           "blue",
           "blue",
           "blue",
           "gray",
           "blue",
           "blue",
           "blue",
           "blue",
           "blue",
           "blue",
           "gray",
           "gray",
           "blue",
           "blue",
           "blue",
           "gray",
           "gray",
           "blue",
           "blue",
           "gray",
           "blue",
           "blue",
           "blue",
           "blue",
           "blue",
           "blue",
           "blue",
           "blue",
           "blue",
           "blue",
           "gray",
           "blue",
           "blue",
           "blue",
           "blue",
           "blue",
           "blue",
           "blue",
           "blue",
           "blue",
           "blue",
           "blue",
           "blue",
           "blue",
           "blue",
           "blue",
           "blue",
           "blue",
           "blue",
           "blue",
           "blue",
           "blue",
           "blue",
           "blue",
           "blue",
           "blue",
           "blue",
           "blue",
           "blue",
           "blue",
           "blue",
           "blue",
           "blue",
           "blue",
           "blue",
           "blue",
           "blue",
           "blue",
           "blue",
           "blue",
           "blue",
           "blue",
           "blue",
           "blue",
           "blue",
           "blue",
           "blue",
           "blue",
           "blue",
           "blue",
           "blue",
           "blue",
           "blue",
           "blue",
           "blue",
           "blue",
           "blue",
           "gray",
           "gray",
           "blue",
           "blue",
           "blue",
           "blue",
           "blue",
           "blue",
           "blue",
           "gray",
           "blue",
           "blue",
           "blue",
           "blue",
           "blue",
           "blue",
           "blue",
           "blue",
           "blue",
           "blue",
           "blue",
           "blue",
           "blue",
           "blue",
           "blue",
           "blue",
           "blue",
           "blue",
           "blue",
           "blue",
           "blue",
           "blue",
           "blue",
           "blue",
           "blue",
           "blue",
           "blue",
           "blue",
           "blue",
           "blue",
           "blue",
           "blue",
           "blue",
           "blue",
           "blue",
           "blue",
           "blue",
           "blue",
           "blue",
           "blue",
           "blue",
           "blue",
           "blue",
           "blue",
           "blue",
           "blue",
           "blue",
           "blue",
           "blue",
           "blue",
           "blue",
           "blue",
           "blue",
           "blue",
           "blue",
           "blue",
           "blue",
           "blue",
           "blue",
           "blue",
           "blue",
           "blue",
           "blue",
           "blue",
           "blue",
           "blue",
           "blue",
           "blue",
           "blue",
           "blue",
           "blue",
           "blue",
           "blue",
           "blue",
           "blue",
           "blue",
           "blue",
           "blue",
           "blue",
           "blue",
           "blue",
           "blue",
           "blue",
           "blue",
           "blue",
           "blue",
           "blue",
           "blue",
           "blue",
           "blue",
           "blue",
           "blue",
           "blue",
           "blue",
           "blue",
           "blue",
           "blue",
           "blue",
           "blue",
           "blue",
           "blue",
           "blue",
           "blue",
           "blue",
           "blue",
           "blue",
           "blue",
           "blue",
           "blue",
           "blue",
           "blue",
           "blue",
           "blue",
           "blue",
           "blue",
           "blue",
           "blue",
           "blue",
           "blue",
           "blue",
           "blue",
           "blue",
           "blue",
           "blue",
           "blue",
           "blue",
           "blue",
           "blue",
           "gray",
           "blue",
           "blue",
           "blue",
           "blue",
           "blue",
           "blue",
           "blue",
           "blue",
           "blue",
           "blue",
           "blue",
           "blue",
           "blue",
           "blue",
           "blue",
           "blue",
           "blue",
           "blue",
           "blue",
           "blue",
           "blue",
           "blue",
           "blue",
           "blue",
           "blue",
           "blue",
           "blue",
           "blue",
           "blue",
           "blue",
           "blue",
           "blue",
           "blue",
           "blue",
           "blue",
           "blue",
           "blue",
           "blue",
           "blue",
           "blue",
           "blue",
           "blue",
           "blue",
           "blue",
           "blue",
           "blue",
           "blue",
           "blue",
           "blue",
           "blue",
           "blue",
           "blue",
           "blue",
           "blue",
           "blue",
           "blue",
           "blue",
           "blue",
           "blue",
           "blue",
           "blue",
           "blue",
           "blue",
           "blue",
           "blue",
           "blue",
           "blue",
           "blue",
           "blue",
           "blue",
           "blue",
           "blue",
           "blue",
           "blue",
           "blue",
           "blue",
           "blue",
           "blue",
           "blue",
           "blue",
           "blue",
           "blue",
           "blue",
           "blue",
           "blue",
           "blue",
           "blue",
           "blue",
           "blue",
           "blue",
           "blue",
           "blue",
           "blue",
           "blue",
           "blue",
           "blue",
           "blue",
           "blue",
           "blue",
           "blue",
           "blue",
           "blue",
           "blue",
           "blue",
           "blue",
           "blue",
           "blue",
           "blue",
           "blue",
           "blue",
           "blue",
           "blue",
           "blue",
           "blue",
           "blue",
           "blue",
           "blue",
           "blue",
           "blue",
           "blue",
           "blue",
           "blue",
           "blue",
           "blue",
           "blue",
           "blue",
           "blue",
           "blue",
           "blue",
           "blue",
           "blue",
           "blue",
           "blue",
           "blue",
           "blue",
           "blue",
           "blue",
           "blue",
           "blue",
           "blue",
           "blue",
           "blue",
           "blue",
           "blue",
           "blue",
           "blue",
           "blue",
           "blue",
           "blue",
           "blue",
           "blue",
           "blue",
           "blue",
           "blue",
           "blue",
           "blue",
           "blue",
           "blue",
           "blue",
           "blue",
           "blue",
           "blue",
           "blue",
           "blue",
           "blue",
           "blue",
           "blue",
           "blue",
           "blue",
           "blue",
           "blue",
           "blue",
           "blue",
           "blue",
           "blue",
           "blue",
           "blue",
           "blue",
           "blue",
           "blue",
           "blue",
           "blue",
           "blue",
           "blue",
           "blue",
           "blue",
           "blue",
           "blue",
           "blue",
           "blue",
           "blue",
           "blue",
           "blue",
           "blue",
           "blue",
           "blue",
           "blue",
           "blue",
           "blue",
           "blue",
           "blue",
           "blue",
           "blue",
           "blue",
           "blue",
           "blue",
           "blue",
           "blue",
           "blue",
           "blue",
           "blue",
           "blue",
           "blue",
           "blue",
           "blue",
           "blue",
           "blue",
           "blue",
           "blue",
           "blue",
           "blue",
           "blue",
           "blue",
           "blue",
           "blue",
           "blue",
           "blue",
           "blue",
           "blue",
           "blue",
           "blue",
           "blue",
           "blue",
           "blue",
           "blue",
           "blue",
           "blue",
           "blue",
           "blue",
           "blue",
           "blue",
           "blue",
           "blue",
           "blue",
           "blue",
           "blue",
           "blue",
           "blue",
           "blue",
           "blue",
           "blue",
           "blue",
           "blue",
           "blue",
           "blue",
           "blue",
           "blue",
           "blue",
           "blue",
           "blue",
           "blue",
           "blue",
           "blue",
           "blue",
           "blue",
           "blue",
           "blue",
           "blue",
           "blue",
           "blue",
           "blue",
           "blue",
           "blue",
           "blue",
           "blue",
           "blue",
           "blue",
           "blue",
           "blue",
           "blue",
           "blue",
           "blue",
           "blue",
           "blue",
           "blue",
           "blue",
           "blue",
           "blue",
           "blue",
           "blue",
           "blue",
           "blue",
           "blue",
           "blue",
           "blue",
           "blue",
           "blue",
           "blue",
           "blue",
           "blue",
           "blue",
           "blue",
           "blue",
           "blue",
           "blue",
           "blue",
           "blue",
           "blue",
           "blue",
           "blue",
           "blue",
           "blue",
           "blue",
           "blue",
           "blue",
           "blue",
           "blue",
           "blue",
           "blue",
           "blue",
           "blue",
           "blue",
           "blue",
           "blue",
           "blue",
           "blue",
           "blue",
           "blue",
           "blue",
           "blue",
           "blue",
           "blue",
           "blue",
           "blue",
           "blue",
           "blue",
           "blue",
           "blue",
           "blue",
           "blue",
           "blue",
           "blue",
           "blue",
           "blue",
           "blue",
           "blue",
           "blue",
           "blue",
           "blue",
           "blue",
           "blue",
           "blue",
           "blue",
           "blue",
           "blue",
           "blue",
           "blue",
           "blue",
           "blue",
           "blue",
           "blue",
           "blue",
           "blue",
           "blue",
           "blue",
           "blue",
           "blue",
           "blue",
           "blue",
           "blue",
           "blue",
           "blue",
           "blue",
           "blue",
           "blue",
           "blue",
           "blue",
           "blue",
           "blue",
           "blue",
           "blue",
           "blue",
           "blue",
           "blue",
           "blue",
           "blue",
           "blue",
           "blue",
           "blue",
           "blue",
           "blue",
           "blue",
           "blue",
           "blue",
           "blue",
           "blue",
           "blue",
           "blue",
           "blue",
           "blue",
           "blue",
           "blue",
           "blue",
           "blue",
           "blue",
           "blue",
           "blue",
           "blue",
           "blue",
           "blue",
           "blue",
           "blue",
           "blue",
           "blue",
           "blue",
           "blue",
           "blue",
           "blue",
           "blue",
           "blue",
           "blue",
           "blue",
           "blue",
           "blue",
           "blue",
           "blue",
           "blue",
           "blue",
           "blue",
           "blue",
           "blue",
           "blue",
           "blue",
           "blue",
           "blue",
           "blue",
           "blue",
           "blue",
           "blue",
           "blue",
           "blue",
           "blue",
           "blue",
           "blue",
           "blue",
           "blue",
           "blue",
           "blue",
           "blue",
           "blue",
           "blue",
           "blue",
           "blue",
           "blue",
           "blue",
           "blue",
           "blue",
           "blue",
           "blue",
           "blue",
           "blue",
           "blue",
           "blue",
           "blue",
           "blue",
           "blue",
           "blue",
           "blue",
           "blue",
           "blue",
           "blue",
           "blue",
           "blue",
           "blue",
           "blue",
           "blue",
           "blue",
           "blue",
           "blue",
           "blue",
           "blue",
           "blue",
           "blue",
           "blue",
           "blue",
           "blue",
           "blue",
           "blue",
           "blue",
           "blue",
           "blue",
           "blue",
           "blue",
           "blue",
           "blue",
           "blue",
           "blue",
           "blue",
           "blue",
           "blue",
           "blue",
           "blue",
           "blue",
           "blue",
           "blue",
           "blue",
           "blue",
           "blue",
           "blue",
           "blue",
           "blue",
           "blue",
           "blue",
           "blue",
           "blue",
           "blue",
           "blue",
           "blue",
           "blue",
           "blue",
           "blue",
           "blue",
           "blue",
           "blue",
           "blue",
           "blue",
           "blue",
           "blue",
           "blue",
           "blue",
           "blue",
           "blue",
           "blue",
           "blue",
           "blue",
           "blue",
           "blue",
           "blue",
           "blue",
           "blue",
           "blue",
           "blue",
           "blue",
           "blue",
           "blue",
           "blue",
           "blue",
           "blue",
           "blue",
           "blue",
           "blue",
           "blue",
           "blue",
           "blue",
           "blue",
           "blue",
           "blue",
           "blue",
           "blue",
           "blue",
           "blue",
           "blue",
           "blue",
           "blue",
           "blue",
           "blue",
           "blue",
           "blue",
           "blue",
           "blue",
           "blue",
           "blue",
           "blue",
           "blue",
           "blue",
           "blue",
           "blue",
           "blue",
           "blue",
           "blue",
           "blue",
           "blue",
           "blue",
           "blue",
           "blue",
           "blue",
           "blue",
           "blue",
           "blue",
           "blue",
           "blue",
           "blue",
           "blue",
           "blue",
           "blue",
           "blue",
           "blue",
           "blue",
           "blue",
           "blue",
           "blue",
           "blue",
           "blue",
           "blue",
           "blue",
           "blue",
           "blue",
           "blue",
           "blue",
           "blue",
           "blue",
           "blue",
           "blue",
           "blue",
           "blue",
           "blue",
           "blue",
           "blue",
           "blue",
           "blue",
           "blue",
           "blue",
           "blue",
           "blue",
           "blue",
           "blue",
           "blue",
           "blue",
           "blue",
           "blue",
           "blue",
           "blue",
           "blue",
           "blue",
           "blue",
           "blue",
           "blue",
           "blue",
           "blue",
           "blue",
           "blue",
           "blue",
           "blue",
           "blue",
           "blue",
           "blue",
           "blue",
           "blue",
           "blue",
           "blue",
           "blue",
           "blue",
           "blue",
           "blue",
           "blue",
           "blue",
           "blue",
           "blue",
           "blue",
           "blue",
           "blue",
           "blue",
           "blue",
           "blue",
           "blue",
           "blue",
           "blue",
           "blue",
           "blue",
           "blue",
           "blue",
           "blue",
           "blue",
           "blue",
           "blue",
           "blue",
           "blue",
           "blue",
           "blue",
           "blue",
           "blue",
           "blue",
           "blue",
           "blue",
           "blue",
           "blue",
           "blue",
           "blue",
           "blue",
           "blue",
           "blue",
           "blue",
           "blue",
           "blue",
           "blue",
           "blue",
           "blue",
           "blue",
           "blue",
           "blue",
           "blue",
           "blue",
           "blue",
           "blue",
           "blue",
           "blue",
           "blue",
           "blue",
           "blue",
           "blue",
           "blue",
           "blue",
           "blue",
           "blue",
           "blue",
           "blue",
           "blue",
           "blue",
           "blue",
           "blue",
           "blue",
           "blue",
           "blue",
           "blue",
           "blue",
           "blue",
           "blue",
           "blue",
           "blue",
           "blue",
           "blue",
           "blue",
           "blue",
           "blue",
           "blue",
           "blue",
           "blue",
           "blue",
           "blue",
           "blue",
           "blue",
           "blue",
           "blue",
           "blue",
           "blue",
           "blue",
           "blue",
           "blue",
           "blue",
           "blue",
           "blue",
           "blue",
           "blue",
           "blue",
           "blue",
           "blue",
           "blue",
           "blue",
           "blue",
           "blue",
           "blue",
           "blue",
           "blue",
           "blue",
           "blue",
           "blue",
           "blue",
           "blue",
           "blue",
           "blue",
           "blue",
           "blue",
           "blue",
           "blue",
           "blue",
           "blue",
           "blue",
           "blue",
           "blue",
           "blue",
           "blue",
           "blue",
           "blue",
           "blue",
           "blue",
           "blue",
           "blue",
           "blue",
           "blue",
           "blue",
           "blue",
           "blue",
           "blue",
           "blue",
           "blue",
           "blue",
           "blue",
           "blue",
           "blue",
           "blue",
           "blue",
           "blue",
           "blue",
           "blue",
           "blue",
           "blue",
           "blue",
           "blue",
           "blue",
           "blue",
           "blue",
           "blue",
           "blue",
           "blue",
           "blue",
           "blue",
           "blue",
           "blue",
           "blue",
           "blue",
           "blue",
           "blue",
           "blue",
           "blue",
           "blue",
           "blue",
           "blue",
           "blue",
           "blue",
           "blue",
           "blue",
           "blue",
           "blue",
           "blue",
           "blue",
           "blue",
           "blue",
           "blue",
           "blue",
           "blue",
           "blue",
           "blue",
           "blue",
           "blue",
           "blue",
           "blue",
           "blue",
           "blue",
           "blue",
           "blue",
           "blue",
           "blue",
           "blue",
           "blue",
           "blue",
           "blue",
           "blue",
           "blue",
           "blue",
           "blue",
           "blue",
           "blue",
           "blue",
           "blue",
           "blue",
           "blue",
           "blue",
           "blue",
           "blue",
           "blue",
           "blue",
           "blue",
           "blue",
           "blue",
           "blue",
           "blue",
           "blue",
           "blue",
           "blue",
           "blue",
           "blue",
           "blue",
           "blue",
           "blue",
           "blue",
           "blue",
           "blue",
           "blue",
           "blue"
          ]
         },
         "mode": "markers",
         "type": "scatter",
         "x": [
          "Fernando Tatis Jr.",
          "Juan Soto",
          "Ronald Acuna Jr.",
          "Jacob deGrom",
          "Vladimir Guerrero Jr.",
          "Gerrit Cole",
          "Trea Turner",
          "Shohei Ohtani",
          "Bo Bichette",
          "Bryce Harper",
          "Max Scherzer",
          "Aaron Judge",
          "Mookie Betts",
          "Salvador Perez",
          "Corbin Burnes",
          "Jose Ramirez",
          "Mike Trout",
          "Yordan Alvarez",
          "Kyle Tucker",
          "Luis Robert",
          "Shane Bieber",
          "Ozzie Albies",
          "Tim Anderson",
          "Teoscar Hernandez",
          "George Springer",
          "Zack Wheeler",
          "Rafael Devers",
          "Starling Marte",
          "Robbie Ray",
          "Tyler O'Neill",
          "Freddie Freeman",
          "Giancarlo Stanton",
          "J.T. Realmuto",
          "Justin Verlander",
          "Brandon Woodruff",
          "Cedric Mullins II",
          "Manny Machado",
          "Chris Sale",
          "Marcus Semien",
          "Jose Altuve",
          "Byron Buxton",
          "Nick Castellanos",
          "Trevor Story",
          "Pete Alonso",
          "Randy Arozarena",
          "Franmil Reyes",
          "J.D. Martinez",
          "Francisco Lindor",
          "Xander Bogaerts",
          "Whit Merrifield",
          "Will Smith",
          "Eloy Jimenez",
          "Kevin Gausman",
          "Matt Olson",
          "Christian Yelich",
          "Aaron Nola",
          "Carlos Rodon",
          "Ketel Marte",
          "Paul Goldschmidt",
          "Bryan Reynolds",
          "Walker Buehler",
          "Carlos Correa",
          "Charlie Morton",
          "Jorge Polanco",
          "Lance Lynn",
          "Sean Manaea",
          "Jose Berrios",
          "Frankie Montas",
          "Brandon Lowe",
          "Corey Seager",
          "Jesse Winker",
          "Liam Hendriks",
          "Lucas Giolito",
          "Shohei Ohtani",
          "Sandy Alcantara",
          "Yasmani Grandal",
          "Joe Musgrove",
          "Nelson Cruz",
          "Joey Gallo",
          "Robert Witt",
          "Gleyber Torres",
          "Max Fried",
          "Shane McClanahan",
          "Willson Contreras",
          "Nathan Eovaldi",
          "Austin Riley",
          "Trevor Rogers",
          "Josh Hader",
          "Javier Baez",
          "Dylan Cease",
          "Jonathan India",
          "Clayton Kershaw",
          "Freddy Peralta",
          "Yu Darvish",
          "Logan Webb",
          "Marcell Ozuna",
          "Jack Flaherty",
          "Pablo Lopez",
          "Eduardo Rodriguez",
          "Chris Bassitt",
          "Julio Urias",
          "Mitch Haniger",
          "Eddie Rosario",
          "Framber Valdez",
          "Adalberto Mondesi",
          "Michael Kopech",
          "Ian Happ",
          "Jose Abreu",
          "Nolan Arenado",
          "Keibert Ruiz",
          "Tommy Edman",
          "Cody Bellinger",
          "Blake Snell",
          "Wander Franco",
          "Edwin Diaz",
          "Jared Walsh",
          "Raisel Iglesias",
          "Austin Meadows",
          "Jorge Soler",
          "Lance McCullers Jr.",
          "Alex Verdugo",
          "Hunter Renfroe",
          "Alek Manoah",
          "Aroldis Chapman",
          "Avisail Garcia",
          "Shane Baz",
          "Emmanuel Clase",
          "Josh Bell",
          "Jazz Chisholm Jr.",
          "Trent Grisham",
          "Dansby Swanson",
          "Alex Bregman",
          "Michael Conforto",
          "Ryan Pressly",
          "Adam Duvall",
          "Mike Clevinger",
          "Jordan Romano",
          "Adolis Garcia",
          "Willy Adames",
          "Charlie Blackmon",
          "Jake Cronenworth",
          "Giovanny Gallegos",
          "Luis Castillo",
          "John Means",
          "Akil Baddoo",
          "Tarik Skubal",
          "Daulton Varsho",
          "Hyun-Jin Ryu",
          "Raimel Tapia",
          "Travis d'Arnaud",
          "Jean Segura",
          "Austin Hays",
          "Taylor Rogers",
          "A.J. Pollock",
          "Jonathan Schoop",
          "Oneil Cruz",
          "Alex Wood",
          "Ryan Mountcastle",
          "Luis Garcia",
          "C.J. Cron",
          "Logan Gilbert",
          "Brendan Rodgers",
          "Tommy Pham",
          "Joey Votto",
          "Jordan Montgomery",
          "Kolten Wong",
          "Andrew Benintendi",
          "Amed Rosario",
          "Dylan Carlson",
          "Blake Treinen",
          "Kyle Schwarber",
          "Luis Severino",
          "Enrique Hernandez",
          "Joe Ryan",
          "Patrick Sandoval",
          "Ramon Laureano",
          "DJ LeMahieu",
          "Max Muncy",
          "Max Kepler",
          "Jon Gray",
          "Brandon Nimmo",
          "Ranger Suarez",
          "Harrison Bader",
          "Steven Matz",
          "Anthony Santander",
          "Zac Gallen",
          "Garrett Whitlock",
          "Andrew Kittredge",
          "Carlos Carrasco",
          "Will Smith",
          "Aaron Ashby",
          "Anthony Rizzo",
          "Michael Brantley",
          "Tyler Stephenson",
          "Scott Barlow",
          "Justin Turner",
          "Wil Myers",
          "Jesus Sanchez",
          "Drew Rasmussen",
          "Robbie Grossman",
          "Josh Donaldson",
          "Chad Green",
          "Jarred Kelenic",
          "Adley Rutschman",
          "Brandon Crawford",
          "Lucas Sims",
          "Adam Wainwright",
          "Alex Cobb",
          "Tanner Houck",
          "Craig Kimbrel",
          "Kris Bryant",
          "Devin Williams",
          "Matt Barnes",
          "Bailey Ober",
          "Mike Minor",
          "Alejandro Kirk",
          "Aaron Bummer",
          "Lourdes Gurriel Jr.",
          "Paul Sewald",
          "David Bednar",
          "Tyler Mahle",
          "Rhys Hoskins",
          "Jo Adell",
          "Sonny Gray",
          "Ty France",
          "Mitch Garver",
          "Camilo Doval",
          "Luis Patino",
          "Miguel Sano",
          "Anthony Rendon",
          "Andrew Heaney",
          "Corey Knebel",
          "Pierce Johnson",
          "Frank Schwindel",
          "David Fletcher",
          "Jonathan Loaisiga",
          "Ke'Bryan Hayes",
          "Gregory Soto",
          "Anthony DeSclafani",
          "Yoan Moncada",
          "Ian Anderson",
          "Nathaniel Lowe",
          "James Karinchak",
          "Myles Straw",
          "Corey Kluber",
          "Jose Urquidy",
          "Yuli Gurriel",
          "Pete Fairbanks",
          "Mike Yastrzemski",
          "Danny Jansen",
          "Ryan McMahon",
          "Yusei Kikuchi",
          "J.P. Crawford",
          "Huascar Ynoa",
          "Trevor Bauer",
          "Andrew McCutchen",
          "Anthony Bender",
          "Didi Gregorius",
          "Sean Murphy",
          "Randal Grichuk",
          "Bobby Dalbec",
          "Tylor Megill",
          "Trevor May",
          "Trey Mancini",
          "Gary Sanchez",
          "Chris Flexen",
          "Diego Castillo",
          "Spencer Torkelson",
          "Mark Canha",
          "Tyler Naquin",
          "Stephen Strasburg",
          "Elieser Hernandez",
          "Nick Pivetta",
          "Nick Madrigal",
          "Luke Voit",
          "Cristian Javier"
         ],
         "y": [
          10.467208458687725,
          9.390389701629095,
          8.21104051096419,
          8.188986172098717,
          8.064957784232655,
          8.032952572613475,
          7.889998823936553,
          7.4783715711549945,
          7.361502055912652,
          7.248025674370064,
          7.070051295402825,
          6.859561324757497,
          6.44137079926052,
          6.407966853454112,
          6.290903384698932,
          6.258607045460826,
          6.2341782001036385,
          6.159641735640674,
          6.153412470888579,
          6.083746040034164,
          5.925917524790849,
          5.79474922069971,
          5.285968950885649,
          5.242687853796845,
          5.212707416698466,
          5.115441293711134,
          5.073217988973443,
          4.99573918970333,
          4.992351235648238,
          4.945308028593052,
          4.859707938541751,
          4.835602445012007,
          4.755548420547672,
          4.698431703592998,
          4.524207339259501,
          4.505819759447981,
          4.483346180033996,
          4.45619694157647,
          4.442995442107619,
          4.378218437944858,
          4.368808879788727,
          4.280219349495408,
          4.266510702133699,
          4.2401421357636755,
          4.220020479732765,
          4.1904267970039815,
          4.178968567354763,
          4.058161585111892,
          4.045259651047862,
          4.021099161512786,
          3.977517995600249,
          3.893644716415988,
          3.8824268542095983,
          3.8143127563753247,
          3.7975856141608415,
          3.724567898174764,
          3.7151475699213825,
          3.696715823847261,
          3.683766106464912,
          3.6685529632594447,
          3.6310392926524315,
          3.5947446417765203,
          3.594292716927179,
          3.559391388256298,
          3.516917333118792,
          3.511191568113304,
          3.5081623482135305,
          3.5073745801491643,
          3.4505594622517104,
          3.4196819919729347,
          3.4179463090796274,
          3.416091274787675,
          3.347435452059565,
          3.3373789235234117,
          3.270233164157835,
          3.2420461620005474,
          3.2343937073557223,
          3.165309465417322,
          3.121530209661448,
          3.1167071556509884,
          3.102696816739827,
          3.0568281807183224,
          3.038693355659026,
          3.0324783187769384,
          2.9485701048108,
          2.9305363447027486,
          2.9263487679923985,
          2.8802987683222634,
          2.8187127620936323,
          2.8163460049468085,
          2.7883563102972544,
          2.774909235737904,
          2.737849069050597,
          2.716230417932631,
          2.712443316433659,
          2.7002140328942565,
          2.6832793699047457,
          2.6243181148079557,
          2.6167199074884073,
          2.588958908967724,
          2.5801543342231916,
          2.5493764364920817,
          2.5114985210579435,
          2.5041716892902612,
          2.4971222292369255,
          2.494929524290743,
          2.478246601901363,
          2.4503260215507296,
          2.431927542583211,
          2.421008056451211,
          2.408073242907036,
          2.379731035580026,
          2.3769480778443577,
          2.3306876024898466,
          2.2484780956168047,
          2.2453873910852202,
          2.206471913487404,
          2.195977428688739,
          2.187905961274695,
          2.1875597116711223,
          2.18172790924867,
          2.1724854806443763,
          2.1415817871400735,
          2.1310070636130347,
          2.1172895789633173,
          2.1102798661159077,
          2.1080945297815794,
          2.0773140889837083,
          2.04696495225003,
          2.013136019198628,
          1.9710559790857756,
          1.9597579083772236,
          1.9593386044046968,
          1.8470546821539187,
          1.8205535946276474,
          1.8173297971372324,
          1.759260290894447,
          1.7432252362506429,
          1.7152020358274238,
          1.70124906746876,
          1.6994680042419934,
          1.6778915986587797,
          1.6181166065324333,
          1.615405704531761,
          1.586391919097265,
          1.5853315551999274,
          1.578083660098062,
          1.549214083832056,
          1.5107800691452016,
          1.4836433612946252,
          1.4724112678056325,
          1.4707835082587382,
          1.4660200685582718,
          1.4501476331972547,
          1.4305524327574535,
          1.4259113613046355,
          1.4160479556171865,
          1.4112113634291874,
          1.4090203184450174,
          1.4061115603899688,
          1.3980280779961927,
          1.3947784258311637,
          1.3641508387838877,
          1.3477452962796392,
          1.3133411353678088,
          1.2509850243717267,
          1.2447652585192372,
          1.2428775544859045,
          1.180972451191408,
          1.1166782257210968,
          1.1121984300821035,
          1.1069376335715735,
          1.0950562685663932,
          1.0870629161695462,
          1.0593983194954615,
          1.0101370072209725,
          1.0075261748388684,
          0.9789939228689305,
          0.9686827907441531,
          0.9619839106240465,
          0.9130067108368496,
          0.906631695992978,
          0.8900008477048051,
          0.8382292819404467,
          0.8370491833373914,
          0.8335376401878468,
          0.8328711302045351,
          0.8215264573644186,
          0.8011850068706137,
          0.7581474413839484,
          0.7577663093934186,
          0.7468117809404984,
          0.7430386407796603,
          0.7326889320388998,
          0.7213578817305589,
          0.7186100090606262,
          0.7167142464967178,
          0.6884705611933408,
          0.6594917642172711,
          0.6553367658050551,
          0.6255861406161487,
          0.615534059307931,
          0.5940889995511718,
          0.5814851225219995,
          0.5614944217008593,
          0.5511891463715544,
          0.5468575194760223,
          0.5380200982442545,
          0.5339165592934052,
          0.5137876114544679,
          0.50848590736842,
          0.49610216374390137,
          0.4809554879926494,
          0.46417249382622017,
          0.45810647098986834,
          0.4577561416200018,
          0.44875989805715993,
          0.44813535540747695,
          0.4338671816128219,
          0.4265797453544435,
          0.40304588184381385,
          0.4011133565457896,
          0.37092994525297707,
          0.3555736822593991,
          0.33279666220097104,
          0.32388312064286406,
          0.30120956495665263,
          0.2834540252402422,
          0.27727802703449855,
          0.2772700292894874,
          0.2597024868350388,
          0.2538321682275388,
          0.24926806780140034,
          0.24646644564070708,
          0.22830878752363626,
          0.21161252289251686,
          0.1652473807133057,
          0.15254901200249915,
          0.15098911920478075,
          0.1392863374692659,
          0.13698274668531996,
          0.11588104226742169,
          0.11082676092923024,
          0.10299344968623281,
          0.10032029632095152,
          0.09863693543102015,
          0.09801519075854803,
          0.08944750810066576,
          0.06645014404311533,
          0.030775458595035943,
          0.024421526028830964,
          0.023900184065304364,
          0.023730329118689664,
          0.023330978880212516,
          0.017353998608457877,
          0.011879118134314304,
          0,
          0,
          0,
          0,
          0,
          0,
          -0.01001465476286667,
          -0.019336440916384756,
          -0.024288892995318,
          -0.028886464341679075,
          -0.05364850362921347,
          -0.05923264341534673,
          -0.0874331794998282,
          -0.09412665453715352,
          -0.10081875005267227,
          -0.1347968713851735,
          -0.13845703898857042,
          -0.16607470031706972,
          -0.17497128927912708,
          -0.18200645998444198
         ]
        }
       ],
       "layout": {
        "template": {
         "data": {
          "bar": [
           {
            "error_x": {
             "color": "#2a3f5f"
            },
            "error_y": {
             "color": "#2a3f5f"
            },
            "marker": {
             "line": {
              "color": "#E5ECF6",
              "width": 0.5
             }
            },
            "type": "bar"
           }
          ],
          "barpolar": [
           {
            "marker": {
             "line": {
              "color": "#E5ECF6",
              "width": 0.5
             }
            },
            "type": "barpolar"
           }
          ],
          "carpet": [
           {
            "aaxis": {
             "endlinecolor": "#2a3f5f",
             "gridcolor": "white",
             "linecolor": "white",
             "minorgridcolor": "white",
             "startlinecolor": "#2a3f5f"
            },
            "baxis": {
             "endlinecolor": "#2a3f5f",
             "gridcolor": "white",
             "linecolor": "white",
             "minorgridcolor": "white",
             "startlinecolor": "#2a3f5f"
            },
            "type": "carpet"
           }
          ],
          "choropleth": [
           {
            "colorbar": {
             "outlinewidth": 0,
             "ticks": ""
            },
            "type": "choropleth"
           }
          ],
          "contour": [
           {
            "colorbar": {
             "outlinewidth": 0,
             "ticks": ""
            },
            "colorscale": [
             [
              0,
              "#0d0887"
             ],
             [
              0.1111111111111111,
              "#46039f"
             ],
             [
              0.2222222222222222,
              "#7201a8"
             ],
             [
              0.3333333333333333,
              "#9c179e"
             ],
             [
              0.4444444444444444,
              "#bd3786"
             ],
             [
              0.5555555555555556,
              "#d8576b"
             ],
             [
              0.6666666666666666,
              "#ed7953"
             ],
             [
              0.7777777777777778,
              "#fb9f3a"
             ],
             [
              0.8888888888888888,
              "#fdca26"
             ],
             [
              1,
              "#f0f921"
             ]
            ],
            "type": "contour"
           }
          ],
          "contourcarpet": [
           {
            "colorbar": {
             "outlinewidth": 0,
             "ticks": ""
            },
            "type": "contourcarpet"
           }
          ],
          "heatmap": [
           {
            "colorbar": {
             "outlinewidth": 0,
             "ticks": ""
            },
            "colorscale": [
             [
              0,
              "#0d0887"
             ],
             [
              0.1111111111111111,
              "#46039f"
             ],
             [
              0.2222222222222222,
              "#7201a8"
             ],
             [
              0.3333333333333333,
              "#9c179e"
             ],
             [
              0.4444444444444444,
              "#bd3786"
             ],
             [
              0.5555555555555556,
              "#d8576b"
             ],
             [
              0.6666666666666666,
              "#ed7953"
             ],
             [
              0.7777777777777778,
              "#fb9f3a"
             ],
             [
              0.8888888888888888,
              "#fdca26"
             ],
             [
              1,
              "#f0f921"
             ]
            ],
            "type": "heatmap"
           }
          ],
          "heatmapgl": [
           {
            "colorbar": {
             "outlinewidth": 0,
             "ticks": ""
            },
            "colorscale": [
             [
              0,
              "#0d0887"
             ],
             [
              0.1111111111111111,
              "#46039f"
             ],
             [
              0.2222222222222222,
              "#7201a8"
             ],
             [
              0.3333333333333333,
              "#9c179e"
             ],
             [
              0.4444444444444444,
              "#bd3786"
             ],
             [
              0.5555555555555556,
              "#d8576b"
             ],
             [
              0.6666666666666666,
              "#ed7953"
             ],
             [
              0.7777777777777778,
              "#fb9f3a"
             ],
             [
              0.8888888888888888,
              "#fdca26"
             ],
             [
              1,
              "#f0f921"
             ]
            ],
            "type": "heatmapgl"
           }
          ],
          "histogram": [
           {
            "marker": {
             "colorbar": {
              "outlinewidth": 0,
              "ticks": ""
             }
            },
            "type": "histogram"
           }
          ],
          "histogram2d": [
           {
            "colorbar": {
             "outlinewidth": 0,
             "ticks": ""
            },
            "colorscale": [
             [
              0,
              "#0d0887"
             ],
             [
              0.1111111111111111,
              "#46039f"
             ],
             [
              0.2222222222222222,
              "#7201a8"
             ],
             [
              0.3333333333333333,
              "#9c179e"
             ],
             [
              0.4444444444444444,
              "#bd3786"
             ],
             [
              0.5555555555555556,
              "#d8576b"
             ],
             [
              0.6666666666666666,
              "#ed7953"
             ],
             [
              0.7777777777777778,
              "#fb9f3a"
             ],
             [
              0.8888888888888888,
              "#fdca26"
             ],
             [
              1,
              "#f0f921"
             ]
            ],
            "type": "histogram2d"
           }
          ],
          "histogram2dcontour": [
           {
            "colorbar": {
             "outlinewidth": 0,
             "ticks": ""
            },
            "colorscale": [
             [
              0,
              "#0d0887"
             ],
             [
              0.1111111111111111,
              "#46039f"
             ],
             [
              0.2222222222222222,
              "#7201a8"
             ],
             [
              0.3333333333333333,
              "#9c179e"
             ],
             [
              0.4444444444444444,
              "#bd3786"
             ],
             [
              0.5555555555555556,
              "#d8576b"
             ],
             [
              0.6666666666666666,
              "#ed7953"
             ],
             [
              0.7777777777777778,
              "#fb9f3a"
             ],
             [
              0.8888888888888888,
              "#fdca26"
             ],
             [
              1,
              "#f0f921"
             ]
            ],
            "type": "histogram2dcontour"
           }
          ],
          "mesh3d": [
           {
            "colorbar": {
             "outlinewidth": 0,
             "ticks": ""
            },
            "type": "mesh3d"
           }
          ],
          "parcoords": [
           {
            "line": {
             "colorbar": {
              "outlinewidth": 0,
              "ticks": ""
             }
            },
            "type": "parcoords"
           }
          ],
          "pie": [
           {
            "automargin": true,
            "type": "pie"
           }
          ],
          "scatter": [
           {
            "marker": {
             "colorbar": {
              "outlinewidth": 0,
              "ticks": ""
             }
            },
            "type": "scatter"
           }
          ],
          "scatter3d": [
           {
            "line": {
             "colorbar": {
              "outlinewidth": 0,
              "ticks": ""
             }
            },
            "marker": {
             "colorbar": {
              "outlinewidth": 0,
              "ticks": ""
             }
            },
            "type": "scatter3d"
           }
          ],
          "scattercarpet": [
           {
            "marker": {
             "colorbar": {
              "outlinewidth": 0,
              "ticks": ""
             }
            },
            "type": "scattercarpet"
           }
          ],
          "scattergeo": [
           {
            "marker": {
             "colorbar": {
              "outlinewidth": 0,
              "ticks": ""
             }
            },
            "type": "scattergeo"
           }
          ],
          "scattergl": [
           {
            "marker": {
             "colorbar": {
              "outlinewidth": 0,
              "ticks": ""
             }
            },
            "type": "scattergl"
           }
          ],
          "scattermapbox": [
           {
            "marker": {
             "colorbar": {
              "outlinewidth": 0,
              "ticks": ""
             }
            },
            "type": "scattermapbox"
           }
          ],
          "scatterpolar": [
           {
            "marker": {
             "colorbar": {
              "outlinewidth": 0,
              "ticks": ""
             }
            },
            "type": "scatterpolar"
           }
          ],
          "scatterpolargl": [
           {
            "marker": {
             "colorbar": {
              "outlinewidth": 0,
              "ticks": ""
             }
            },
            "type": "scatterpolargl"
           }
          ],
          "scatterternary": [
           {
            "marker": {
             "colorbar": {
              "outlinewidth": 0,
              "ticks": ""
             }
            },
            "type": "scatterternary"
           }
          ],
          "surface": [
           {
            "colorbar": {
             "outlinewidth": 0,
             "ticks": ""
            },
            "colorscale": [
             [
              0,
              "#0d0887"
             ],
             [
              0.1111111111111111,
              "#46039f"
             ],
             [
              0.2222222222222222,
              "#7201a8"
             ],
             [
              0.3333333333333333,
              "#9c179e"
             ],
             [
              0.4444444444444444,
              "#bd3786"
             ],
             [
              0.5555555555555556,
              "#d8576b"
             ],
             [
              0.6666666666666666,
              "#ed7953"
             ],
             [
              0.7777777777777778,
              "#fb9f3a"
             ],
             [
              0.8888888888888888,
              "#fdca26"
             ],
             [
              1,
              "#f0f921"
             ]
            ],
            "type": "surface"
           }
          ],
          "table": [
           {
            "cells": {
             "fill": {
              "color": "#EBF0F8"
             },
             "line": {
              "color": "white"
             }
            },
            "header": {
             "fill": {
              "color": "#C8D4E3"
             },
             "line": {
              "color": "white"
             }
            },
            "type": "table"
           }
          ]
         },
         "layout": {
          "annotationdefaults": {
           "arrowcolor": "#2a3f5f",
           "arrowhead": 0,
           "arrowwidth": 1
          },
          "autotypenumbers": "strict",
          "coloraxis": {
           "colorbar": {
            "outlinewidth": 0,
            "ticks": ""
           }
          },
          "colorscale": {
           "diverging": [
            [
             0,
             "#8e0152"
            ],
            [
             0.1,
             "#c51b7d"
            ],
            [
             0.2,
             "#de77ae"
            ],
            [
             0.3,
             "#f1b6da"
            ],
            [
             0.4,
             "#fde0ef"
            ],
            [
             0.5,
             "#f7f7f7"
            ],
            [
             0.6,
             "#e6f5d0"
            ],
            [
             0.7,
             "#b8e186"
            ],
            [
             0.8,
             "#7fbc41"
            ],
            [
             0.9,
             "#4d9221"
            ],
            [
             1,
             "#276419"
            ]
           ],
           "sequential": [
            [
             0,
             "#0d0887"
            ],
            [
             0.1111111111111111,
             "#46039f"
            ],
            [
             0.2222222222222222,
             "#7201a8"
            ],
            [
             0.3333333333333333,
             "#9c179e"
            ],
            [
             0.4444444444444444,
             "#bd3786"
            ],
            [
             0.5555555555555556,
             "#d8576b"
            ],
            [
             0.6666666666666666,
             "#ed7953"
            ],
            [
             0.7777777777777778,
             "#fb9f3a"
            ],
            [
             0.8888888888888888,
             "#fdca26"
            ],
            [
             1,
             "#f0f921"
            ]
           ],
           "sequentialminus": [
            [
             0,
             "#0d0887"
            ],
            [
             0.1111111111111111,
             "#46039f"
            ],
            [
             0.2222222222222222,
             "#7201a8"
            ],
            [
             0.3333333333333333,
             "#9c179e"
            ],
            [
             0.4444444444444444,
             "#bd3786"
            ],
            [
             0.5555555555555556,
             "#d8576b"
            ],
            [
             0.6666666666666666,
             "#ed7953"
            ],
            [
             0.7777777777777778,
             "#fb9f3a"
            ],
            [
             0.8888888888888888,
             "#fdca26"
            ],
            [
             1,
             "#f0f921"
            ]
           ]
          },
          "colorway": [
           "#636efa",
           "#EF553B",
           "#00cc96",
           "#ab63fa",
           "#FFA15A",
           "#19d3f3",
           "#FF6692",
           "#B6E880",
           "#FF97FF",
           "#FECB52"
          ],
          "font": {
           "color": "#2a3f5f"
          },
          "geo": {
           "bgcolor": "white",
           "lakecolor": "white",
           "landcolor": "#E5ECF6",
           "showlakes": true,
           "showland": true,
           "subunitcolor": "white"
          },
          "hoverlabel": {
           "align": "left"
          },
          "hovermode": "closest",
          "mapbox": {
           "style": "light"
          },
          "paper_bgcolor": "white",
          "plot_bgcolor": "#E5ECF6",
          "polar": {
           "angularaxis": {
            "gridcolor": "white",
            "linecolor": "white",
            "ticks": ""
           },
           "bgcolor": "#E5ECF6",
           "radialaxis": {
            "gridcolor": "white",
            "linecolor": "white",
            "ticks": ""
           }
          },
          "scene": {
           "xaxis": {
            "backgroundcolor": "#E5ECF6",
            "gridcolor": "white",
            "gridwidth": 2,
            "linecolor": "white",
            "showbackground": true,
            "ticks": "",
            "zerolinecolor": "white"
           },
           "yaxis": {
            "backgroundcolor": "#E5ECF6",
            "gridcolor": "white",
            "gridwidth": 2,
            "linecolor": "white",
            "showbackground": true,
            "ticks": "",
            "zerolinecolor": "white"
           },
           "zaxis": {
            "backgroundcolor": "#E5ECF6",
            "gridcolor": "white",
            "gridwidth": 2,
            "linecolor": "white",
            "showbackground": true,
            "ticks": "",
            "zerolinecolor": "white"
           }
          },
          "shapedefaults": {
           "line": {
            "color": "#2a3f5f"
           }
          },
          "ternary": {
           "aaxis": {
            "gridcolor": "white",
            "linecolor": "white",
            "ticks": ""
           },
           "baxis": {
            "gridcolor": "white",
            "linecolor": "white",
            "ticks": ""
           },
           "bgcolor": "#E5ECF6",
           "caxis": {
            "gridcolor": "white",
            "linecolor": "white",
            "ticks": ""
           }
          },
          "title": {
           "x": 0.05
          },
          "xaxis": {
           "automargin": true,
           "gridcolor": "white",
           "linecolor": "white",
           "ticks": "",
           "title": {
            "standoff": 15
           },
           "zerolinecolor": "white",
           "zerolinewidth": 2
          },
          "yaxis": {
           "automargin": true,
           "gridcolor": "white",
           "linecolor": "white",
           "ticks": "",
           "title": {
            "standoff": 15
           },
           "zerolinecolor": "white",
           "zerolinewidth": 2
          }
         }
        }
       }
      },
      "text/html": [
       "<div>                            <div id=\"b3e088fe-0fcb-48e9-aefd-d5aa854d117e\" class=\"plotly-graph-div\" style=\"height:525px; width:100%;\"></div>            <script type=\"text/javascript\">                require([\"plotly\"], function(Plotly) {                    window.PLOTLYENV=window.PLOTLYENV || {};                                    if (document.getElementById(\"b3e088fe-0fcb-48e9-aefd-d5aa854d117e\")) {                    Plotly.newPlot(                        \"b3e088fe-0fcb-48e9-aefd-d5aa854d117e\",                        [{\"marker\": {\"color\": [\"gray\", \"gray\", \"gray\", \"gray\", \"gray\", \"gray\", \"gray\", \"gray\", \"gray\", \"gray\", \"gray\", \"gray\", \"gray\", \"gray\", \"gray\", \"gray\", \"gray\", \"blue\", \"gray\", \"blue\", \"gray\", \"gray\", \"gray\", \"gray\", \"gray\", \"gray\", \"gray\", \"gray\", \"blue\", \"gray\", \"blue\", \"blue\", \"gray\", \"gray\", \"gray\", \"blue\", \"blue\", \"gray\", \"gray\", \"blue\", \"blue\", \"blue\", \"gray\", \"gray\", \"gray\", \"blue\", \"gray\", \"blue\", \"gray\", \"blue\", \"gray\", \"blue\", \"blue\", \"gray\", \"blue\", \"blue\", \"blue\", \"blue\", \"blue\", \"blue\", \"gray\", \"gray\", \"blue\", \"blue\", \"gray\", \"blue\", \"gray\", \"gray\", \"blue\", \"gray\", \"gray\", \"blue\", \"blue\", \"blue\", \"blue\", \"blue\", \"blue\", \"blue\", \"blue\", \"blue\", \"blue\", \"blue\", \"blue\", \"blue\", \"blue\", \"gray\", \"blue\", \"blue\", \"blue\", \"blue\", \"blue\", \"gray\", \"blue\", \"blue\", \"blue\", \"blue\", \"gray\", \"blue\", \"blue\", \"blue\", \"blue\", \"blue\", \"blue\", \"blue\", \"blue\", \"blue\", \"blue\", \"gray\", \"blue\", \"blue\", \"blue\", \"blue\", \"blue\", \"blue\", \"gray\", \"gray\", \"blue\", \"blue\", \"blue\", \"gray\", \"gray\", \"blue\", \"blue\", \"gray\", \"blue\", \"blue\", \"blue\", \"blue\", \"blue\", \"blue\", \"blue\", \"blue\", \"blue\", \"blue\", \"gray\", \"blue\", \"blue\", \"blue\", \"blue\", \"blue\", \"blue\", \"blue\", \"blue\", \"blue\", \"blue\", \"blue\", \"blue\", \"blue\", \"blue\", \"blue\", \"blue\", \"blue\", \"blue\", \"blue\", \"blue\", \"blue\", \"blue\", \"blue\", \"blue\", \"blue\", \"blue\", \"blue\", \"blue\", \"blue\", \"blue\", \"blue\", \"blue\", \"blue\", \"blue\", \"blue\", \"blue\", \"blue\", \"blue\", \"blue\", \"blue\", \"blue\", \"blue\", \"blue\", \"blue\", \"blue\", \"blue\", \"blue\", \"blue\", \"blue\", \"blue\", \"blue\", \"blue\", \"blue\", \"blue\", \"blue\", \"blue\", \"gray\", \"gray\", \"blue\", \"blue\", \"blue\", \"blue\", \"blue\", \"blue\", \"blue\", \"gray\", \"blue\", \"blue\", \"blue\", \"blue\", \"blue\", \"blue\", \"blue\", \"blue\", \"blue\", \"blue\", \"blue\", \"blue\", \"blue\", \"blue\", \"blue\", \"blue\", \"blue\", \"blue\", \"blue\", \"blue\", \"blue\", \"blue\", \"blue\", \"blue\", \"blue\", \"blue\", \"blue\", \"blue\", \"blue\", \"blue\", \"blue\", \"blue\", \"blue\", \"blue\", \"blue\", \"blue\", \"blue\", \"blue\", \"blue\", \"blue\", \"blue\", \"blue\", \"blue\", \"blue\", \"blue\", \"blue\", \"blue\", \"blue\", \"blue\", \"blue\", \"blue\", \"blue\", \"blue\", \"blue\", \"blue\", \"blue\", \"blue\", \"blue\", \"blue\", \"blue\", \"blue\", \"blue\", \"blue\", \"blue\", \"blue\", \"blue\", \"blue\", \"blue\", \"blue\", \"blue\", \"blue\", \"blue\", \"blue\", \"blue\", \"blue\", \"blue\", \"blue\", \"blue\", \"blue\", \"blue\", \"blue\", \"blue\", \"blue\", \"blue\", \"blue\", \"blue\", \"blue\", \"blue\", \"blue\", \"blue\", \"blue\", \"blue\", \"blue\", \"blue\", \"blue\", \"blue\", \"blue\", \"blue\", \"blue\", \"blue\", \"blue\", \"blue\", \"blue\", \"blue\", \"blue\", \"blue\", \"blue\", \"blue\", \"blue\", \"blue\", \"blue\", \"blue\", \"blue\", \"blue\", \"blue\", \"blue\", \"blue\", \"blue\", \"blue\", \"blue\", \"blue\", \"blue\", \"blue\", \"blue\", \"blue\", \"blue\", \"blue\", \"blue\", \"gray\", \"blue\", \"blue\", \"blue\", \"blue\", \"blue\", \"blue\", \"blue\", \"blue\", \"blue\", \"blue\", \"blue\", \"blue\", \"blue\", \"blue\", \"blue\", \"blue\", \"blue\", \"blue\", \"blue\", \"blue\", \"blue\", \"blue\", \"blue\", \"blue\", \"blue\", \"blue\", \"blue\", \"blue\", \"blue\", \"blue\", \"blue\", \"blue\", \"blue\", \"blue\", \"blue\", \"blue\", \"blue\", \"blue\", \"blue\", \"blue\", \"blue\", \"blue\", \"blue\", \"blue\", \"blue\", \"blue\", \"blue\", \"blue\", \"blue\", \"blue\", \"blue\", \"blue\", \"blue\", \"blue\", \"blue\", \"blue\", \"blue\", \"blue\", \"blue\", \"blue\", \"blue\", \"blue\", \"blue\", \"blue\", \"blue\", \"blue\", \"blue\", \"blue\", \"blue\", \"blue\", \"blue\", \"blue\", \"blue\", \"blue\", \"blue\", \"blue\", \"blue\", \"blue\", \"blue\", \"blue\", \"blue\", \"blue\", \"blue\", \"blue\", \"blue\", \"blue\", \"blue\", \"blue\", \"blue\", \"blue\", \"blue\", \"blue\", \"blue\", \"blue\", \"blue\", \"blue\", \"blue\", \"blue\", \"blue\", \"blue\", \"blue\", \"blue\", \"blue\", \"blue\", \"blue\", \"blue\", \"blue\", \"blue\", \"blue\", \"blue\", \"blue\", \"blue\", \"blue\", \"blue\", \"blue\", \"blue\", \"blue\", \"blue\", \"blue\", \"blue\", \"blue\", \"blue\", \"blue\", \"blue\", \"blue\", \"blue\", \"blue\", \"blue\", \"blue\", \"blue\", \"blue\", \"blue\", \"blue\", \"blue\", \"blue\", \"blue\", \"blue\", \"blue\", \"blue\", \"blue\", \"blue\", \"blue\", \"blue\", \"blue\", \"blue\", \"blue\", \"blue\", \"blue\", \"blue\", \"blue\", \"blue\", \"blue\", \"blue\", \"blue\", \"blue\", \"blue\", \"blue\", \"blue\", \"blue\", \"blue\", \"blue\", \"blue\", \"blue\", \"blue\", \"blue\", \"blue\", \"blue\", \"blue\", \"blue\", \"blue\", \"blue\", \"blue\", \"blue\", \"blue\", \"blue\", \"blue\", \"blue\", \"blue\", \"blue\", \"blue\", \"blue\", \"blue\", \"blue\", \"blue\", \"blue\", \"blue\", \"blue\", \"blue\", \"blue\", \"blue\", \"blue\", \"blue\", \"blue\", \"blue\", \"blue\", \"blue\", \"blue\", \"blue\", \"blue\", \"blue\", \"blue\", \"blue\", \"blue\", \"blue\", \"blue\", \"blue\", \"blue\", \"blue\", \"blue\", \"blue\", \"blue\", \"blue\", \"blue\", \"blue\", \"blue\", \"blue\", \"blue\", \"blue\", \"blue\", \"blue\", \"blue\", \"blue\", \"blue\", \"blue\", \"blue\", \"blue\", \"blue\", \"blue\", \"blue\", \"blue\", \"blue\", \"blue\", \"blue\", \"blue\", \"blue\", \"blue\", \"blue\", \"blue\", \"blue\", \"blue\", \"blue\", \"blue\", \"blue\", \"blue\", \"blue\", \"blue\", \"blue\", \"blue\", \"blue\", \"blue\", \"blue\", \"blue\", \"blue\", \"blue\", \"blue\", \"blue\", \"blue\", \"blue\", \"blue\", \"blue\", \"blue\", \"blue\", \"blue\", \"blue\", \"blue\", \"blue\", \"blue\", \"blue\", \"blue\", \"blue\", \"blue\", \"blue\", \"blue\", \"blue\", \"blue\", \"blue\", \"blue\", \"blue\", \"blue\", \"blue\", \"blue\", \"blue\", \"blue\", \"blue\", \"blue\", \"blue\", \"blue\", \"blue\", \"blue\", \"blue\", \"blue\", \"blue\", \"blue\", \"blue\", \"blue\", \"blue\", \"blue\", \"blue\", \"blue\", \"blue\", \"blue\", \"blue\", \"blue\", \"blue\", \"blue\", \"blue\", \"blue\", \"blue\", \"blue\", \"blue\", \"blue\", \"blue\", \"blue\", \"blue\", \"blue\", \"blue\", \"blue\", \"blue\", \"blue\", \"blue\", \"blue\", \"blue\", \"blue\", \"blue\", \"blue\", \"blue\", \"blue\", \"blue\", \"blue\", \"blue\", \"blue\", \"blue\", \"blue\", \"blue\", \"blue\", \"blue\", \"blue\", \"blue\", \"blue\", \"blue\", \"blue\", \"blue\", \"blue\", \"blue\", \"blue\", \"blue\", \"blue\", \"blue\", \"blue\", \"blue\", \"blue\", \"blue\", \"blue\", \"blue\", \"blue\", \"blue\", \"blue\", \"blue\", \"blue\", \"blue\", \"blue\", \"blue\", \"blue\", \"blue\", \"blue\", \"blue\", \"blue\", \"blue\", \"blue\", \"blue\", \"blue\", \"blue\", \"blue\", \"blue\", \"blue\", \"blue\", \"blue\", \"blue\", \"blue\", \"blue\", \"blue\", \"blue\", \"blue\", \"blue\", \"blue\", \"blue\", \"blue\", \"blue\", \"blue\", \"blue\", \"blue\", \"blue\", \"blue\", \"blue\", \"blue\", \"blue\", \"blue\", \"blue\", \"blue\", \"blue\", \"blue\", \"blue\", \"blue\", \"blue\", \"blue\", \"blue\", \"blue\", \"blue\", \"blue\", \"blue\", \"blue\", \"blue\", \"blue\", \"blue\", \"blue\", \"blue\", \"blue\", \"blue\", \"blue\", \"blue\", \"blue\", \"blue\", \"blue\", \"blue\", \"blue\", \"blue\", \"blue\", \"blue\", \"blue\", \"blue\", \"blue\", \"blue\", \"blue\", \"blue\", \"blue\", \"blue\", \"blue\", \"blue\", \"blue\", \"blue\", \"blue\", \"blue\", \"blue\", \"blue\", \"blue\", \"blue\", \"blue\", \"blue\", \"blue\", \"blue\", \"blue\", \"blue\", \"blue\", \"blue\", \"blue\", \"blue\", \"blue\", \"blue\", \"blue\", \"blue\", \"blue\", \"blue\", \"blue\", \"blue\", \"blue\", \"blue\", \"blue\", \"blue\", \"blue\", \"blue\", \"blue\", \"blue\", \"blue\", \"blue\", \"blue\", \"blue\", \"blue\", \"blue\", \"blue\", \"blue\", \"blue\", \"blue\", \"blue\", \"blue\", \"blue\", \"blue\", \"blue\", \"blue\", \"blue\", \"blue\", \"blue\", \"blue\", \"blue\", \"blue\", \"blue\", \"blue\", \"blue\", \"blue\", \"blue\", \"blue\", \"blue\", \"blue\", \"blue\", \"blue\", \"blue\", \"blue\", \"blue\", \"blue\", \"blue\", \"blue\", \"blue\", \"blue\", \"blue\", \"blue\", \"blue\", \"blue\", \"blue\", \"blue\", \"blue\", \"blue\", \"blue\", \"blue\", \"blue\", \"blue\", \"blue\", \"blue\", \"blue\", \"blue\", \"blue\", \"blue\", \"blue\", \"blue\", \"blue\", \"blue\", \"blue\", \"blue\", \"blue\", \"blue\", \"blue\", \"blue\", \"blue\", \"blue\", \"blue\", \"blue\", \"blue\", \"blue\", \"blue\", \"blue\", \"blue\", \"blue\", \"blue\", \"blue\", \"blue\", \"blue\", \"blue\", \"blue\", \"blue\", \"blue\", \"blue\", \"blue\", \"blue\", \"blue\", \"blue\", \"blue\", \"blue\", \"blue\", \"blue\", \"blue\", \"blue\", \"blue\", \"blue\", \"blue\", \"blue\", \"blue\", \"blue\", \"blue\", \"blue\", \"blue\", \"blue\", \"blue\", \"blue\", \"blue\", \"blue\", \"blue\", \"blue\", \"blue\", \"blue\", \"blue\", \"blue\", \"blue\", \"blue\", \"blue\", \"blue\", \"blue\", \"blue\", \"blue\", \"blue\", \"blue\", \"blue\", \"blue\", \"blue\", \"blue\", \"blue\", \"blue\", \"blue\", \"blue\", \"blue\", \"blue\", \"blue\", \"blue\", \"blue\", \"blue\", \"blue\", \"blue\", \"blue\", \"blue\", \"blue\", \"blue\", \"blue\", \"blue\", \"blue\", \"blue\", \"blue\", \"blue\", \"blue\", \"blue\", \"blue\", \"blue\", \"blue\", \"blue\", \"blue\", \"blue\", \"blue\", \"blue\", \"blue\", \"blue\", \"blue\", \"blue\", \"blue\", \"blue\", \"blue\", \"blue\", \"blue\", \"blue\", \"blue\", \"blue\", \"blue\", \"blue\", \"blue\", \"blue\", \"blue\", \"blue\", \"blue\", \"blue\", \"blue\", \"blue\", \"blue\", \"blue\", \"blue\", \"blue\", \"blue\", \"blue\", \"blue\", \"blue\", \"blue\", \"blue\", \"blue\", \"blue\", \"blue\", \"blue\", \"blue\", \"blue\", \"blue\", \"blue\", \"blue\", \"blue\", \"blue\", \"blue\", \"blue\", \"blue\", \"blue\", \"blue\", \"blue\", \"blue\", \"blue\", \"blue\", \"blue\", \"blue\", \"blue\", \"blue\", \"blue\", \"blue\", \"blue\", \"blue\", \"blue\", \"blue\", \"blue\", \"blue\", \"blue\", \"blue\", \"blue\", \"blue\", \"blue\", \"blue\", \"blue\", \"blue\", \"blue\", \"blue\", \"blue\", \"blue\", \"blue\", \"blue\", \"blue\", \"blue\", \"blue\", \"blue\", \"blue\", \"blue\", \"blue\", \"blue\", \"blue\", \"blue\", \"blue\", \"blue\", \"blue\", \"blue\", \"blue\", \"blue\", \"blue\", \"blue\", \"blue\", \"blue\", \"blue\", \"blue\", \"blue\", \"blue\", \"blue\", \"blue\", \"blue\", \"blue\", \"blue\", \"blue\", \"blue\", \"blue\", \"blue\", \"blue\", \"blue\", \"blue\", \"blue\", \"blue\", \"blue\", \"blue\", \"blue\", \"blue\", \"blue\", \"blue\", \"blue\", \"blue\", \"blue\", \"blue\", \"blue\", \"blue\", \"blue\", \"blue\", \"blue\", \"blue\", \"blue\", \"blue\", \"blue\", \"blue\", \"blue\", \"blue\", \"blue\", \"blue\", \"blue\", \"blue\", \"blue\", \"blue\", \"blue\", \"blue\", \"blue\", \"blue\", \"blue\", \"blue\", \"blue\", \"blue\", \"blue\", \"blue\", \"blue\", \"blue\", \"blue\", \"blue\", \"blue\", \"blue\", \"blue\", \"blue\", \"blue\", \"blue\", \"blue\", \"blue\", \"blue\", \"blue\", \"blue\", \"blue\", \"blue\", \"blue\", \"blue\", \"blue\", \"blue\", \"blue\", \"blue\", \"blue\", \"blue\", \"blue\", \"blue\", \"blue\", \"blue\", \"blue\", \"blue\", \"blue\", \"blue\", \"blue\", \"blue\", \"blue\", \"blue\", \"blue\", \"blue\", \"blue\", \"blue\", \"blue\", \"blue\", \"blue\", \"blue\", \"blue\", \"blue\", \"blue\", \"blue\", \"blue\", \"blue\", \"blue\", \"blue\", \"blue\", \"blue\", \"blue\", \"blue\", \"blue\", \"blue\", \"blue\", \"blue\", \"blue\", \"blue\", \"blue\", \"blue\", \"blue\", \"blue\", \"blue\", \"blue\", \"blue\", \"blue\", \"blue\", \"blue\", \"blue\", \"blue\", \"blue\", \"blue\", \"blue\", \"blue\", \"blue\", \"blue\", \"blue\", \"blue\", \"blue\", \"blue\", \"blue\", \"blue\", \"blue\", \"blue\", \"blue\", \"blue\", \"blue\", \"blue\", \"blue\", \"blue\", \"blue\", \"blue\", \"blue\", \"blue\", \"blue\", \"blue\"]}, \"mode\": \"markers\", \"type\": \"scatter\", \"x\": [\"Fernando Tatis Jr.\", \"Juan Soto\", \"Ronald Acuna Jr.\", \"Jacob deGrom\", \"Vladimir Guerrero Jr.\", \"Gerrit Cole\", \"Trea Turner\", \"Shohei Ohtani\", \"Bo Bichette\", \"Bryce Harper\", \"Max Scherzer\", \"Aaron Judge\", \"Mookie Betts\", \"Salvador Perez\", \"Corbin Burnes\", \"Jose Ramirez\", \"Mike Trout\", \"Yordan Alvarez\", \"Kyle Tucker\", \"Luis Robert\", \"Shane Bieber\", \"Ozzie Albies\", \"Tim Anderson\", \"Teoscar Hernandez\", \"George Springer\", \"Zack Wheeler\", \"Rafael Devers\", \"Starling Marte\", \"Robbie Ray\", \"Tyler O'Neill\", \"Freddie Freeman\", \"Giancarlo Stanton\", \"J.T. Realmuto\", \"Justin Verlander\", \"Brandon Woodruff\", \"Cedric Mullins II\", \"Manny Machado\", \"Chris Sale\", \"Marcus Semien\", \"Jose Altuve\", \"Byron Buxton\", \"Nick Castellanos\", \"Trevor Story\", \"Pete Alonso\", \"Randy Arozarena\", \"Franmil Reyes\", \"J.D. Martinez\", \"Francisco Lindor\", \"Xander Bogaerts\", \"Whit Merrifield\", \"Will Smith\", \"Eloy Jimenez\", \"Kevin Gausman\", \"Matt Olson\", \"Christian Yelich\", \"Aaron Nola\", \"Carlos Rodon\", \"Ketel Marte\", \"Paul Goldschmidt\", \"Bryan Reynolds\", \"Walker Buehler\", \"Carlos Correa\", \"Charlie Morton\", \"Jorge Polanco\", \"Lance Lynn\", \"Sean Manaea\", \"Jose Berrios\", \"Frankie Montas\", \"Brandon Lowe\", \"Corey Seager\", \"Jesse Winker\", \"Liam Hendriks\", \"Lucas Giolito\", \"Shohei Ohtani\", \"Sandy Alcantara\", \"Yasmani Grandal\", \"Joe Musgrove\", \"Nelson Cruz\", \"Joey Gallo\", \"Robert Witt\", \"Gleyber Torres\", \"Max Fried\", \"Shane McClanahan\", \"Willson Contreras\", \"Nathan Eovaldi\", \"Austin Riley\", \"Trevor Rogers\", \"Josh Hader\", \"Javier Baez\", \"Dylan Cease\", \"Jonathan India\", \"Clayton Kershaw\", \"Freddy Peralta\", \"Yu Darvish\", \"Logan Webb\", \"Marcell Ozuna\", \"Jack Flaherty\", \"Pablo Lopez\", \"Eduardo Rodriguez\", \"Chris Bassitt\", \"Julio Urias\", \"Mitch Haniger\", \"Eddie Rosario\", \"Framber Valdez\", \"Adalberto Mondesi\", \"Michael Kopech\", \"Ian Happ\", \"Jose Abreu\", \"Nolan Arenado\", \"Keibert Ruiz\", \"Tommy Edman\", \"Cody Bellinger\", \"Blake Snell\", \"Wander Franco\", \"Edwin Diaz\", \"Jared Walsh\", \"Raisel Iglesias\", \"Austin Meadows\", \"Jorge Soler\", \"Lance McCullers Jr.\", \"Alex Verdugo\", \"Hunter Renfroe\", \"Alek Manoah\", \"Aroldis Chapman\", \"Avisail Garcia\", \"Shane Baz\", \"Emmanuel Clase\", \"Josh Bell\", \"Jazz Chisholm Jr.\", \"Trent Grisham\", \"Dansby Swanson\", \"Alex Bregman\", \"Michael Conforto\", \"Ryan Pressly\", \"Adam Duvall\", \"Mike Clevinger\", \"Jordan Romano\", \"Adolis Garcia\", \"Willy Adames\", \"Charlie Blackmon\", \"Jake Cronenworth\", \"Giovanny Gallegos\", \"Luis Castillo\", \"John Means\", \"Akil Baddoo\", \"Tarik Skubal\", \"Daulton Varsho\", \"Hyun-Jin Ryu\", \"Raimel Tapia\", \"Travis d'Arnaud\", \"Jean Segura\", \"Austin Hays\", \"Taylor Rogers\", \"A.J. Pollock\", \"Jonathan Schoop\", \"Oneil Cruz\", \"Alex Wood\", \"Ryan Mountcastle\", \"Luis Garcia\", \"C.J. Cron\", \"Logan Gilbert\", \"Brendan Rodgers\", \"Tommy Pham\", \"Joey Votto\", \"Jordan Montgomery\", \"Kolten Wong\", \"Andrew Benintendi\", \"Amed Rosario\", \"Dylan Carlson\", \"Blake Treinen\", \"Kyle Schwarber\", \"Luis Severino\", \"Enrique Hernandez\", \"Joe Ryan\", \"Patrick Sandoval\", \"Ramon Laureano\", \"DJ LeMahieu\", \"Max Muncy\", \"Max Kepler\", \"Jon Gray\", \"Brandon Nimmo\", \"Ranger Suarez\", \"Harrison Bader\", \"Steven Matz\", \"Anthony Santander\", \"Zac Gallen\", \"Garrett Whitlock\", \"Andrew Kittredge\", \"Carlos Carrasco\", \"Will Smith\", \"Aaron Ashby\", \"Anthony Rizzo\", \"Michael Brantley\", \"Tyler Stephenson\", \"Scott Barlow\", \"Justin Turner\", \"Wil Myers\", \"Jesus Sanchez\", \"Drew Rasmussen\", \"Robbie Grossman\", \"Josh Donaldson\", \"Chad Green\", \"Jarred Kelenic\", \"Adley Rutschman\", \"Brandon Crawford\", \"Lucas Sims\", \"Adam Wainwright\", \"Alex Cobb\", \"Tanner Houck\", \"Craig Kimbrel\", \"Kris Bryant\", \"Devin Williams\", \"Matt Barnes\", \"Bailey Ober\", \"Mike Minor\", \"Alejandro Kirk\", \"Aaron Bummer\", \"Lourdes Gurriel Jr.\", \"Paul Sewald\", \"David Bednar\", \"Tyler Mahle\", \"Rhys Hoskins\", \"Jo Adell\", \"Sonny Gray\", \"Ty France\", \"Mitch Garver\", \"Camilo Doval\", \"Luis Patino\", \"Miguel Sano\", \"Anthony Rendon\", \"Andrew Heaney\", \"Corey Knebel\", \"Pierce Johnson\", \"Frank Schwindel\", \"David Fletcher\", \"Jonathan Loaisiga\", \"Ke'Bryan Hayes\", \"Gregory Soto\", \"Anthony DeSclafani\", \"Yoan Moncada\", \"Ian Anderson\", \"Nathaniel Lowe\", \"James Karinchak\", \"Myles Straw\", \"Corey Kluber\", \"Jose Urquidy\", \"Yuli Gurriel\", \"Pete Fairbanks\", \"Mike Yastrzemski\", \"Danny Jansen\", \"Ryan McMahon\", \"Yusei Kikuchi\", \"J.P. Crawford\", \"Huascar Ynoa\", \"Trevor Bauer\", \"Andrew McCutchen\", \"Anthony Bender\", \"Didi Gregorius\", \"Sean Murphy\", \"Randal Grichuk\", \"Bobby Dalbec\", \"Tylor Megill\", \"Trevor May\", \"Trey Mancini\", \"Gary Sanchez\", \"Chris Flexen\", \"Diego Castillo\", \"Spencer Torkelson\", \"Mark Canha\", \"Tyler Naquin\", \"Stephen Strasburg\", \"Elieser Hernandez\", \"Nick Pivetta\", \"Nick Madrigal\", \"Luke Voit\", \"Cristian Javier\"], \"y\": [10.467208458687725, 9.390389701629095, 8.21104051096419, 8.188986172098717, 8.064957784232655, 8.032952572613475, 7.889998823936553, 7.4783715711549945, 7.361502055912652, 7.248025674370064, 7.070051295402825, 6.859561324757497, 6.44137079926052, 6.407966853454112, 6.290903384698932, 6.258607045460826, 6.2341782001036385, 6.159641735640674, 6.153412470888579, 6.083746040034164, 5.925917524790849, 5.79474922069971, 5.285968950885649, 5.242687853796845, 5.212707416698466, 5.115441293711134, 5.073217988973443, 4.99573918970333, 4.992351235648238, 4.945308028593052, 4.859707938541751, 4.835602445012007, 4.755548420547672, 4.698431703592998, 4.524207339259501, 4.505819759447981, 4.483346180033996, 4.45619694157647, 4.442995442107619, 4.378218437944858, 4.368808879788727, 4.280219349495408, 4.266510702133699, 4.2401421357636755, 4.220020479732765, 4.1904267970039815, 4.178968567354763, 4.058161585111892, 4.045259651047862, 4.021099161512786, 3.977517995600249, 3.893644716415988, 3.8824268542095983, 3.8143127563753247, 3.7975856141608415, 3.724567898174764, 3.7151475699213825, 3.696715823847261, 3.683766106464912, 3.6685529632594447, 3.6310392926524315, 3.5947446417765203, 3.594292716927179, 3.559391388256298, 3.516917333118792, 3.511191568113304, 3.5081623482135305, 3.5073745801491643, 3.4505594622517104, 3.4196819919729347, 3.4179463090796274, 3.416091274787675, 3.347435452059565, 3.3373789235234117, 3.270233164157835, 3.2420461620005474, 3.2343937073557223, 3.165309465417322, 3.121530209661448, 3.1167071556509884, 3.102696816739827, 3.0568281807183224, 3.038693355659026, 3.0324783187769384, 2.9485701048108, 2.9305363447027486, 2.9263487679923985, 2.8802987683222634, 2.8187127620936323, 2.8163460049468085, 2.7883563102972544, 2.774909235737904, 2.737849069050597, 2.716230417932631, 2.712443316433659, 2.7002140328942565, 2.6832793699047457, 2.6243181148079557, 2.6167199074884073, 2.588958908967724, 2.5801543342231916, 2.5493764364920817, 2.5114985210579435, 2.5041716892902612, 2.4971222292369255, 2.494929524290743, 2.478246601901363, 2.4503260215507296, 2.431927542583211, 2.421008056451211, 2.408073242907036, 2.379731035580026, 2.3769480778443577, 2.3306876024898466, 2.2484780956168047, 2.2453873910852202, 2.206471913487404, 2.195977428688739, 2.187905961274695, 2.1875597116711223, 2.18172790924867, 2.1724854806443763, 2.1415817871400735, 2.1310070636130347, 2.1172895789633173, 2.1102798661159077, 2.1080945297815794, 2.0773140889837083, 2.04696495225003, 2.013136019198628, 1.9710559790857756, 1.9597579083772236, 1.9593386044046968, 1.8470546821539187, 1.8205535946276474, 1.8173297971372324, 1.759260290894447, 1.7432252362506429, 1.7152020358274238, 1.70124906746876, 1.6994680042419934, 1.6778915986587797, 1.6181166065324333, 1.615405704531761, 1.586391919097265, 1.5853315551999274, 1.578083660098062, 1.549214083832056, 1.5107800691452016, 1.4836433612946252, 1.4724112678056325, 1.4707835082587382, 1.4660200685582718, 1.4501476331972547, 1.4305524327574535, 1.4259113613046355, 1.4160479556171865, 1.4112113634291874, 1.4090203184450174, 1.4061115603899688, 1.3980280779961927, 1.3947784258311637, 1.3641508387838877, 1.3477452962796392, 1.3133411353678088, 1.2509850243717267, 1.2447652585192372, 1.2428775544859045, 1.180972451191408, 1.1166782257210968, 1.1121984300821035, 1.1069376335715735, 1.0950562685663932, 1.0870629161695462, 1.0593983194954615, 1.0101370072209725, 1.0075261748388684, 0.9789939228689305, 0.9686827907441531, 0.9619839106240465, 0.9130067108368496, 0.906631695992978, 0.8900008477048051, 0.8382292819404467, 0.8370491833373914, 0.8335376401878468, 0.8328711302045351, 0.8215264573644186, 0.8011850068706137, 0.7581474413839484, 0.7577663093934186, 0.7468117809404984, 0.7430386407796603, 0.7326889320388998, 0.7213578817305589, 0.7186100090606262, 0.7167142464967178, 0.6884705611933408, 0.6594917642172711, 0.6553367658050551, 0.6255861406161487, 0.615534059307931, 0.5940889995511718, 0.5814851225219995, 0.5614944217008593, 0.5511891463715544, 0.5468575194760223, 0.5380200982442545, 0.5339165592934052, 0.5137876114544679, 0.50848590736842, 0.49610216374390137, 0.4809554879926494, 0.46417249382622017, 0.45810647098986834, 0.4577561416200018, 0.44875989805715993, 0.44813535540747695, 0.4338671816128219, 0.4265797453544435, 0.40304588184381385, 0.4011133565457896, 0.37092994525297707, 0.3555736822593991, 0.33279666220097104, 0.32388312064286406, 0.30120956495665263, 0.2834540252402422, 0.27727802703449855, 0.2772700292894874, 0.2597024868350388, 0.2538321682275388, 0.24926806780140034, 0.24646644564070708, 0.22830878752363626, 0.21161252289251686, 0.1652473807133057, 0.15254901200249915, 0.15098911920478075, 0.1392863374692659, 0.13698274668531996, 0.11588104226742169, 0.11082676092923024, 0.10299344968623281, 0.10032029632095152, 0.09863693543102015, 0.09801519075854803, 0.08944750810066576, 0.06645014404311533, 0.030775458595035943, 0.024421526028830964, 0.023900184065304364, 0.023730329118689664, 0.023330978880212516, 0.017353998608457877, 0.011879118134314304, 0.0, 0.0, 0.0, 0.0, 0.0, 0.0, -0.01001465476286667, -0.019336440916384756, -0.024288892995318, -0.028886464341679075, -0.05364850362921347, -0.05923264341534673, -0.0874331794998282, -0.09412665453715352, -0.10081875005267227, -0.1347968713851735, -0.13845703898857042, -0.16607470031706972, -0.17497128927912708, -0.18200645998444198]}],                        {\"template\": {\"data\": {\"bar\": [{\"error_x\": {\"color\": \"#2a3f5f\"}, \"error_y\": {\"color\": \"#2a3f5f\"}, \"marker\": {\"line\": {\"color\": \"#E5ECF6\", \"width\": 0.5}}, \"type\": \"bar\"}], \"barpolar\": [{\"marker\": {\"line\": {\"color\": \"#E5ECF6\", \"width\": 0.5}}, \"type\": \"barpolar\"}], \"carpet\": [{\"aaxis\": {\"endlinecolor\": \"#2a3f5f\", \"gridcolor\": \"white\", \"linecolor\": \"white\", \"minorgridcolor\": \"white\", \"startlinecolor\": \"#2a3f5f\"}, \"baxis\": {\"endlinecolor\": \"#2a3f5f\", \"gridcolor\": \"white\", \"linecolor\": \"white\", \"minorgridcolor\": \"white\", \"startlinecolor\": \"#2a3f5f\"}, \"type\": \"carpet\"}], \"choropleth\": [{\"colorbar\": {\"outlinewidth\": 0, \"ticks\": \"\"}, \"type\": \"choropleth\"}], \"contour\": [{\"colorbar\": {\"outlinewidth\": 0, \"ticks\": \"\"}, \"colorscale\": [[0.0, \"#0d0887\"], [0.1111111111111111, \"#46039f\"], [0.2222222222222222, \"#7201a8\"], [0.3333333333333333, \"#9c179e\"], [0.4444444444444444, \"#bd3786\"], [0.5555555555555556, \"#d8576b\"], [0.6666666666666666, \"#ed7953\"], [0.7777777777777778, \"#fb9f3a\"], [0.8888888888888888, \"#fdca26\"], [1.0, \"#f0f921\"]], \"type\": \"contour\"}], \"contourcarpet\": [{\"colorbar\": {\"outlinewidth\": 0, \"ticks\": \"\"}, \"type\": \"contourcarpet\"}], \"heatmap\": [{\"colorbar\": {\"outlinewidth\": 0, \"ticks\": \"\"}, \"colorscale\": [[0.0, \"#0d0887\"], [0.1111111111111111, \"#46039f\"], [0.2222222222222222, \"#7201a8\"], [0.3333333333333333, \"#9c179e\"], [0.4444444444444444, \"#bd3786\"], [0.5555555555555556, \"#d8576b\"], [0.6666666666666666, \"#ed7953\"], [0.7777777777777778, \"#fb9f3a\"], [0.8888888888888888, \"#fdca26\"], [1.0, \"#f0f921\"]], \"type\": \"heatmap\"}], \"heatmapgl\": [{\"colorbar\": {\"outlinewidth\": 0, \"ticks\": \"\"}, \"colorscale\": [[0.0, \"#0d0887\"], [0.1111111111111111, \"#46039f\"], [0.2222222222222222, \"#7201a8\"], [0.3333333333333333, \"#9c179e\"], [0.4444444444444444, \"#bd3786\"], [0.5555555555555556, \"#d8576b\"], [0.6666666666666666, \"#ed7953\"], [0.7777777777777778, \"#fb9f3a\"], [0.8888888888888888, \"#fdca26\"], [1.0, \"#f0f921\"]], \"type\": \"heatmapgl\"}], \"histogram\": [{\"marker\": {\"colorbar\": {\"outlinewidth\": 0, \"ticks\": \"\"}}, \"type\": \"histogram\"}], \"histogram2d\": [{\"colorbar\": {\"outlinewidth\": 0, \"ticks\": \"\"}, \"colorscale\": [[0.0, \"#0d0887\"], [0.1111111111111111, \"#46039f\"], [0.2222222222222222, \"#7201a8\"], [0.3333333333333333, \"#9c179e\"], [0.4444444444444444, \"#bd3786\"], [0.5555555555555556, \"#d8576b\"], [0.6666666666666666, \"#ed7953\"], [0.7777777777777778, \"#fb9f3a\"], [0.8888888888888888, \"#fdca26\"], [1.0, \"#f0f921\"]], \"type\": \"histogram2d\"}], \"histogram2dcontour\": [{\"colorbar\": {\"outlinewidth\": 0, \"ticks\": \"\"}, \"colorscale\": [[0.0, \"#0d0887\"], [0.1111111111111111, \"#46039f\"], [0.2222222222222222, \"#7201a8\"], [0.3333333333333333, \"#9c179e\"], [0.4444444444444444, \"#bd3786\"], [0.5555555555555556, \"#d8576b\"], [0.6666666666666666, \"#ed7953\"], [0.7777777777777778, \"#fb9f3a\"], [0.8888888888888888, \"#fdca26\"], [1.0, \"#f0f921\"]], \"type\": \"histogram2dcontour\"}], \"mesh3d\": [{\"colorbar\": {\"outlinewidth\": 0, \"ticks\": \"\"}, \"type\": \"mesh3d\"}], \"parcoords\": [{\"line\": {\"colorbar\": {\"outlinewidth\": 0, \"ticks\": \"\"}}, \"type\": \"parcoords\"}], \"pie\": [{\"automargin\": true, \"type\": \"pie\"}], \"scatter\": [{\"marker\": {\"colorbar\": {\"outlinewidth\": 0, \"ticks\": \"\"}}, \"type\": \"scatter\"}], \"scatter3d\": [{\"line\": {\"colorbar\": {\"outlinewidth\": 0, \"ticks\": \"\"}}, \"marker\": {\"colorbar\": {\"outlinewidth\": 0, \"ticks\": \"\"}}, \"type\": \"scatter3d\"}], \"scattercarpet\": [{\"marker\": {\"colorbar\": {\"outlinewidth\": 0, \"ticks\": \"\"}}, \"type\": \"scattercarpet\"}], \"scattergeo\": [{\"marker\": {\"colorbar\": {\"outlinewidth\": 0, \"ticks\": \"\"}}, \"type\": \"scattergeo\"}], \"scattergl\": [{\"marker\": {\"colorbar\": {\"outlinewidth\": 0, \"ticks\": \"\"}}, \"type\": \"scattergl\"}], \"scattermapbox\": [{\"marker\": {\"colorbar\": {\"outlinewidth\": 0, \"ticks\": \"\"}}, \"type\": \"scattermapbox\"}], \"scatterpolar\": [{\"marker\": {\"colorbar\": {\"outlinewidth\": 0, \"ticks\": \"\"}}, \"type\": \"scatterpolar\"}], \"scatterpolargl\": [{\"marker\": {\"colorbar\": {\"outlinewidth\": 0, \"ticks\": \"\"}}, \"type\": \"scatterpolargl\"}], \"scatterternary\": [{\"marker\": {\"colorbar\": {\"outlinewidth\": 0, \"ticks\": \"\"}}, \"type\": \"scatterternary\"}], \"surface\": [{\"colorbar\": {\"outlinewidth\": 0, \"ticks\": \"\"}, \"colorscale\": [[0.0, \"#0d0887\"], [0.1111111111111111, \"#46039f\"], [0.2222222222222222, \"#7201a8\"], [0.3333333333333333, \"#9c179e\"], [0.4444444444444444, \"#bd3786\"], [0.5555555555555556, \"#d8576b\"], [0.6666666666666666, \"#ed7953\"], [0.7777777777777778, \"#fb9f3a\"], [0.8888888888888888, \"#fdca26\"], [1.0, \"#f0f921\"]], \"type\": \"surface\"}], \"table\": [{\"cells\": {\"fill\": {\"color\": \"#EBF0F8\"}, \"line\": {\"color\": \"white\"}}, \"header\": {\"fill\": {\"color\": \"#C8D4E3\"}, \"line\": {\"color\": \"white\"}}, \"type\": \"table\"}]}, \"layout\": {\"annotationdefaults\": {\"arrowcolor\": \"#2a3f5f\", \"arrowhead\": 0, \"arrowwidth\": 1}, \"autotypenumbers\": \"strict\", \"coloraxis\": {\"colorbar\": {\"outlinewidth\": 0, \"ticks\": \"\"}}, \"colorscale\": {\"diverging\": [[0, \"#8e0152\"], [0.1, \"#c51b7d\"], [0.2, \"#de77ae\"], [0.3, \"#f1b6da\"], [0.4, \"#fde0ef\"], [0.5, \"#f7f7f7\"], [0.6, \"#e6f5d0\"], [0.7, \"#b8e186\"], [0.8, \"#7fbc41\"], [0.9, \"#4d9221\"], [1, \"#276419\"]], \"sequential\": [[0.0, \"#0d0887\"], [0.1111111111111111, \"#46039f\"], [0.2222222222222222, \"#7201a8\"], [0.3333333333333333, \"#9c179e\"], [0.4444444444444444, \"#bd3786\"], [0.5555555555555556, \"#d8576b\"], [0.6666666666666666, \"#ed7953\"], [0.7777777777777778, \"#fb9f3a\"], [0.8888888888888888, \"#fdca26\"], [1.0, \"#f0f921\"]], \"sequentialminus\": [[0.0, \"#0d0887\"], [0.1111111111111111, \"#46039f\"], [0.2222222222222222, \"#7201a8\"], [0.3333333333333333, \"#9c179e\"], [0.4444444444444444, \"#bd3786\"], [0.5555555555555556, \"#d8576b\"], [0.6666666666666666, \"#ed7953\"], [0.7777777777777778, \"#fb9f3a\"], [0.8888888888888888, \"#fdca26\"], [1.0, \"#f0f921\"]]}, \"colorway\": [\"#636efa\", \"#EF553B\", \"#00cc96\", \"#ab63fa\", \"#FFA15A\", \"#19d3f3\", \"#FF6692\", \"#B6E880\", \"#FF97FF\", \"#FECB52\"], \"font\": {\"color\": \"#2a3f5f\"}, \"geo\": {\"bgcolor\": \"white\", \"lakecolor\": \"white\", \"landcolor\": \"#E5ECF6\", \"showlakes\": true, \"showland\": true, \"subunitcolor\": \"white\"}, \"hoverlabel\": {\"align\": \"left\"}, \"hovermode\": \"closest\", \"mapbox\": {\"style\": \"light\"}, \"paper_bgcolor\": \"white\", \"plot_bgcolor\": \"#E5ECF6\", \"polar\": {\"angularaxis\": {\"gridcolor\": \"white\", \"linecolor\": \"white\", \"ticks\": \"\"}, \"bgcolor\": \"#E5ECF6\", \"radialaxis\": {\"gridcolor\": \"white\", \"linecolor\": \"white\", \"ticks\": \"\"}}, \"scene\": {\"xaxis\": {\"backgroundcolor\": \"#E5ECF6\", \"gridcolor\": \"white\", \"gridwidth\": 2, \"linecolor\": \"white\", \"showbackground\": true, \"ticks\": \"\", \"zerolinecolor\": \"white\"}, \"yaxis\": {\"backgroundcolor\": \"#E5ECF6\", \"gridcolor\": \"white\", \"gridwidth\": 2, \"linecolor\": \"white\", \"showbackground\": true, \"ticks\": \"\", \"zerolinecolor\": \"white\"}, \"zaxis\": {\"backgroundcolor\": \"#E5ECF6\", \"gridcolor\": \"white\", \"gridwidth\": 2, \"linecolor\": \"white\", \"showbackground\": true, \"ticks\": \"\", \"zerolinecolor\": \"white\"}}, \"shapedefaults\": {\"line\": {\"color\": \"#2a3f5f\"}}, \"ternary\": {\"aaxis\": {\"gridcolor\": \"white\", \"linecolor\": \"white\", \"ticks\": \"\"}, \"baxis\": {\"gridcolor\": \"white\", \"linecolor\": \"white\", \"ticks\": \"\"}, \"bgcolor\": \"#E5ECF6\", \"caxis\": {\"gridcolor\": \"white\", \"linecolor\": \"white\", \"ticks\": \"\"}}, \"title\": {\"x\": 0.05}, \"xaxis\": {\"automargin\": true, \"gridcolor\": \"white\", \"linecolor\": \"white\", \"ticks\": \"\", \"title\": {\"standoff\": 15}, \"zerolinecolor\": \"white\", \"zerolinewidth\": 2}, \"yaxis\": {\"automargin\": true, \"gridcolor\": \"white\", \"linecolor\": \"white\", \"ticks\": \"\", \"title\": {\"standoff\": 15}, \"zerolinecolor\": \"white\", \"zerolinewidth\": 2}}}},                        {\"responsive\": true}                    ).then(function(){\n",
       "                            \n",
       "var gd = document.getElementById('b3e088fe-0fcb-48e9-aefd-d5aa854d117e');\n",
       "var x = new MutationObserver(function (mutations, observer) {{\n",
       "        var display = window.getComputedStyle(gd).display;\n",
       "        if (!display || display === 'none') {{\n",
       "            console.log([gd, 'removed!']);\n",
       "            Plotly.purge(gd);\n",
       "            observer.disconnect();\n",
       "        }}\n",
       "}});\n",
       "\n",
       "// Listen for the removal of the full notebook cells\n",
       "var notebookContainer = gd.closest('#notebook-container');\n",
       "if (notebookContainer) {{\n",
       "    x.observe(notebookContainer, {childList: true});\n",
       "}}\n",
       "\n",
       "// Listen for the clearing of the current output cell\n",
       "var outputEl = gd.closest('.output');\n",
       "if (outputEl) {{\n",
       "    x.observe(outputEl, {childList: true});\n",
       "}}\n",
       "\n",
       "                        })                };                });            </script>        </div>"
      ]
     },
     "metadata": {},
     "output_type": "display_data"
    }
   ],
   "source": [
    "def set_color(x):\n",
    "    if(x == None):\n",
    "        return \"blue\"\n",
    "    else:\n",
    "        return \"gray\"\n",
    "\n",
    "        \n",
    "fig = go.Figure()\n",
    "fig.add_trace(\n",
    "    go.Scatter(\n",
    "        x=df['Name'].head(276),\n",
    "        y=df['z'].head(276),\n",
    "        mode='markers',\n",
    "        marker=dict(color=list(map(set_color,df['Owner'])))\n",
    "    )\n",
    ")\n",
    "fig.show()"
   ]
  },
  {
   "cell_type": "code",
   "execution_count": 138,
   "id": "cca432bf",
   "metadata": {},
   "outputs": [
    {
     "data": {
      "application/vnd.plotly.v1+json": {
       "config": {
        "plotlyServerURL": "https://plot.ly"
       },
       "data": [
        {
         "mode": "markers",
         "text": [
          "Fernando Tatis Jr.",
          "Vladimir Guerrero Jr.",
          "Juan Soto",
          "Shohei Ohtani",
          "Jose Ramirez",
          "Aaron Judge",
          "Trea Turner",
          "Bo Bichette",
          "Rafael Devers",
          "Bryce Harper",
          "Ronald Acuna Jr.",
          "Freddie Freeman",
          "Mike Trout",
          "Pete Alonso",
          "Kyle Tucker",
          "Luis Robert",
          "Yordan Alvarez",
          "Salvador Perez",
          "Manny Machado",
          "Mookie Betts",
          "Matt Olson",
          "Ozzie Albies",
          "Giancarlo Stanton",
          "Tyler O'Neill",
          "Paul Goldschmidt",
          "Teoscar Hernandez",
          "Austin Riley",
          "George Springer",
          "Tim Anderson",
          "Franmil Reyes",
          "Byron Buxton",
          "Cedric Mullins II",
          "J.D. Martinez",
          "Nolan Arenado",
          "Eloy Jimenez",
          "Adalberto Mondesi",
          "Xander Bogaerts",
          "Jared Walsh",
          "Marcus Semien",
          "Nick Castellanos",
          "Wander Franco",
          "Francisco Lindor",
          "Jose Abreu",
          "Randy Arozarena",
          "Gleyber Torres",
          "Jose Altuve",
          "Carlos Correa",
          "Trevor Story",
          "Robert Witt",
          "Bryan Reynolds",
          "Josh Bell",
          "Ryan Mountcastle",
          "Starling Marte",
          "Corey Seager",
          "Alex Bregman",
          "Nelson Cruz",
          "Christian Yelich",
          "Joey Gallo",
          "C.J. Cron",
          "Jorge Polanco",
          "Whit Merrifield",
          "Ketel Marte",
          "Rhys Hoskins",
          "Jesse Winker",
          "Eddie Rosario",
          "J.T. Realmuto",
          "Will Smith",
          "Joey Votto",
          "Brandon Lowe",
          "Kyle Schwarber",
          "Spencer Torkelson",
          "Ian Happ",
          "Yasmani Grandal",
          "Marcell Ozuna",
          "Max Muncy",
          "Jorge Soler",
          "Ty France",
          "Anthony Rizzo",
          "Josh Donaldson",
          "Lourdes Gurriel Jr.",
          "DJ LeMahieu",
          "Miguel Sano",
          "Cody Bellinger",
          "Jonathan India",
          "Javier Baez",
          "Trey Mancini",
          "Hunter Renfroe",
          "Frank Schwindel",
          "Avisail Garcia",
          "Mitch Haniger",
          "Alex Verdugo",
          "Justin Turner",
          "Austin Meadows",
          "Tommy Edman",
          "Bobby Dalbec",
          "Nathaniel Lowe",
          "Adam Duvall",
          "Michael Conforto",
          "Trent Grisham",
          "Austin Hays",
          "Oneil Cruz",
          "Luke Voit",
          "Anthony Rendon",
          "Yoan Moncada",
          "Kris Bryant",
          "Yuli Gurriel",
          "Dansby Swanson",
          "Eric Hosmer",
          "Enrique Hernandez",
          "Willy Adames",
          "A.J. Pollock",
          "Tommy Pham",
          "Daulton Varsho",
          "Adolis Garcia",
          "Willson Contreras",
          "Jake Cronenworth",
          "Akil Baddoo",
          "Travis d'Arnaud",
          "Jazz Chisholm Jr.",
          "Ryan McMahon",
          "Charlie Blackmon",
          "Jonathan Schoop",
          "Anthony Santander",
          "Brendan Rodgers",
          "Wil Myers",
          "Andrew Benintendi",
          "Jean Segura",
          "Harrison Bader",
          "Amed Rosario",
          "Chris Taylor",
          "Ke'Bryan Hayes",
          "Dylan Carlson",
          "Jesus Sanchez",
          "Keibert Ruiz",
          "Ramon Laureano",
          "Luis Arraez",
          "Michael Brantley",
          "Max Kepler",
          "Luis Urias",
          "Willie Calhoun",
          "Kolten Wong",
          "Gio Urshela",
          "Jo Adell",
          "Matt Chapman",
          "Jarred Kelenic",
          "Jeimer Candelario",
          "Brandon Crawford",
          "Alejandro Kirk",
          "Brandon Belt",
          "Brandon Nimmo",
          "Robbie Grossman",
          "Adley Rutschman",
          "Andrew McCutchen",
          "David Fletcher",
          "Patrick Wisdom",
          "Lorenzo Cain",
          "Manuel Margot",
          "Yandy Diaz",
          "Jesus Aguilar",
          "Tyler Stephenson",
          "Joc Pederson",
          "Nick Madrigal",
          "Alex Kirilloff",
          "Randal Grichuk",
          "Eugenio Suarez",
          "Eduardo Escobar",
          "Danny Jansen",
          "J.P. Crawford",
          "Mark Canha",
          "Raimel Tapia",
          "Mike Yastrzemski",
          "Jarren Duran",
          "Tyler Naquin",
          "Sean Murphy",
          "Andrew Vaughn",
          "Mitch Garver",
          "Orlando Arcia",
          "Gavin Sheets",
          "Yoshi Tsutsugo",
          "Kyle Lewis",
          "Nico Hoerner",
          "Myles Straw",
          "Aaron Hicks",
          "Nicky Lopez",
          "Rowdy Tellez",
          "Andres Gimenez",
          "Alec Bohm",
          "Gary Sanchez",
          "Miguel Rojas",
          "Lane Thomas",
          "Seth Brown",
          "Jose Miranda",
          "Rafael Ortega",
          "David Peralta",
          "Bobby Bradley",
          "Bryan De La Cruz",
          "Chad Pinder",
          "Joshua Jung",
          "Matt Vierling",
          "LaMonte Wade Jr.",
          "Tommy La Stella",
          "Carson Kelly",
          "Yadier Molina",
          "Miguel Cabrera",
          "Elias Diaz",
          "Michael A. Taylor",
          "Santiago Espinal",
          "Jonathan Villar",
          "Tony Kemp",
          "Adam Frazier",
          "Cesar Hernandez",
          "Didi Gregorius",
          "Josh Rojas",
          "Max Stassi",
          "Abraham Toro",
          "Garrett Hampson",
          "Josh Harrison",
          "Christian Vazquez",
          "Cavan Biggio",
          "Evan Longoria",
          "Jake Meyers",
          "Carter Kieboom",
          "Kyle Farmer",
          "Jorge Alfaro",
          "Paul DeJong",
          "Mike Zunino",
          "Brandon Marsh",
          "Kyle Isbel",
          "Stephen Piscotty",
          "Corey Dickerson",
          "Omar Narvaez",
          "Hunter Dozier",
          "Sam Hilliard",
          "Ramon Urias",
          "Jose Iglesias",
          "Anthony Alford",
          "Jacob Stallings",
          "Jurickson Profar",
          "Kole Calhoun",
          "Roberto Perez",
          "Connor Joe",
          "Kevin Kiermaier",
          "Ji-Man Choi",
          "Luis Garcia",
          "Jeff McNeil",
          "Jeremy Pena",
          "Mike Moustakas",
          "Jonah Heim",
          "Mitch Moreland",
          "Yadiel Hernandez",
          "James McCann",
          "Brian Anderson",
          "Austin Hedges",
          "Ben Gamel",
          "Nick Solak",
          "Steven Kwan",
          "Pavin Smith",
          "Martin Maldonado",
          "Andrelton Simmons",
          "Jake Fraley",
          "Eric Haase",
          "Austin Nola",
          "Robinson Cano",
          "Jed Lowrie",
          "Elvis Andrus",
          "Joey Bart",
          "Carlos Santana",
          "Luis Torrens",
          "Brad Miller",
          "Michael Chavis",
          "Cal Raleigh",
          "Kevin Smith",
          "Leury Garcia",
          "Darin Ruf",
          "Kevin Plawecki",
          "Christian Walker",
          "Adam Haseley",
          "Austin Allen",
          "Nick Ahmed",
          "Alcides Escobar",
          "Tyrone Taylor",
          "Gregory Polanco",
          "Yan Gomes",
          "Francisco Mejia",
          "Jason Heyward",
          "Donovan Solano",
          "Manny Pina",
          "Tucker Barnhart",
          "Jose Trevino",
          "Kyle Higashioka",
          "Adam Engel",
          "Wilmer Flores",
          "Taylor Walls",
          "Kevin Newman",
          "Rougned Odor",
          "T.J. Friedl",
          "Dexter Fowler",
          "Justin Upton",
          "Aledmys Diaz",
          "Kelvin Gutierrez",
          "Ha-seong Kim",
          "Odubel Herrera",
          "Tom Murphy",
          "Victor Robles",
          "Alex Dickerson",
          "Trevor Larnach",
          "Alan Trejo",
          "Pedro Severino",
          "Aristides Aquino",
          "Dylan Moore",
          "Joey Wendle",
          "Jordan Luplow",
          "Edmundo Sosa",
          "Victor Caratini",
          "Riley Adams",
          "Brett Gardner",
          "Andy Ibanez",
          "Jorge Mateo",
          "Wilson Ramos",
          "Dom Nunez",
          "Jake McCarthy",
          "Tyler Wade",
          "Colin Moran",
          "Cooper Hummel",
          "Isiah Kiner-Falefa",
          "Mickey Moniak",
          "Gavin Lux",
          "Ryan Jeffers",
          "Steven Duggar",
          "Jackie Bradley Jr.",
          "Kevin Pillar",
          "Bradley Zimmer",
          "Ryan Zimmerman",
          "Curt Casali",
          "Austin Slater",
          "Marwin Gonzalez",
          "Mervyl Melendez",
          "Bryson Stott",
          "Colton Welker",
          "Nicholas Pratto",
          "Austin Barnes",
          "Garrett Cooper",
          "Josh Naylor",
          "Brent Rooker",
          "Seth Beer",
          "Stephen Vogt",
          "Oscar Mercado",
          "Andrew Knizner",
          "Victor Reyes",
          "Tomas Nido",
          "Yonathan Daza",
          "Nick Fortes",
          "Chas McCormick",
          "Starlin Castro",
          "Yoenis Cespedes",
          "Lewin Diaz",
          "Riley Greene",
          "Jason Castro",
          "Khris Davis",
          "Kurt Suzuki",
          "Jose Siri",
          "Andrew Stevenson",
          "Albert Pujols",
          "Josh VanMeter",
          "Mike Brosseau",
          "Shed Long Jr.",
          "Matt Beaty",
          "Nomar Mazara",
          "Austin Romine",
          "Danny Santana",
          "Nolan Jones",
          "Michael Perez",
          "Thairo Estrada",
          "J.D. Davis",
          "Sandy Leon",
          "Robinson Chirinos",
          "Matt Duffy",
          "Cole Tucker",
          "Harold Ramirez",
          "Andrew Knapp",
          "Evan White",
          "Asdrubal Cabrera",
          "Luis Rengifo",
          "Christian Arroyo",
          "Justin Smoak",
          "Cam Gallagher",
          "Lars Nootbaar",
          "Brett Phillips",
          "Luke Williams",
          "Yu Chang",
          "Phil Gosselin",
          "Seby Zavala",
          "Zack Collins",
          "Ian Desmond",
          "Garrett Stubbs",
          "Ronald Guzman",
          "Adam Eaton",
          "Bryan Lavastida",
          "D.J. Stewart",
          "Cody Thomas",
          "Travis Shaw",
          "Jake Marisnick",
          "Lewis Brinson",
          "Reese McGuire",
          "Dominic Smith",
          "Ben Rortvedt",
          "Luke Maile",
          "Leody Taveras",
          "Alek Thomas",
          "Aaron Altherr",
          "Derek Hill",
          "Clint Frazier",
          "Estevan Florial",
          "Nick Gordon",
          "Nick Senzel",
          "Monte Harrison",
          "Jarrod Dyson",
          "Jake Lamb",
          "Johan Camargo",
          "Jake Rogers",
          "Anthony Bemboom",
          "Daniel Vogelbach",
          "Matt Thaiss",
          "Cristian Pache",
          "Niko Goodrum",
          "Nicholas Allen",
          "Greg Allen",
          "Tony Wolters",
          "Chance Sisco",
          "Vidal Brujan",
          "Brock Holt",
          "Matt Carpenter",
          "Shogo Akiyama",
          "Dustin Garneau",
          "David Bote",
          "Jace Peterson",
          "Miguel Andujar",
          "Jose Lobaton",
          "Rob Refsnyder",
          "Alex Jackson",
          "Rafael Marchan",
          "Drew Butera",
          "Zach McKinstry",
          "Jose Herrera",
          "Rylan Bannon",
          "Brian Goodwin",
          "James Ritchie",
          "Daz Cameron",
          "Chad Wallach",
          "Rene Pinto",
          "Tim Locastro",
          "Korey Lee",
          "William Contreras",
          "Mark Kolozsvary",
          "Brett Cumberland",
          "Keston Hiura",
          "Connor Wong",
          "Triston Casas",
          "Jake Bauers",
          "Juan Lagares",
          "Ali Sanchez",
          "Patrick Mazeika",
          "Max Schrock",
          "Michael Hermosillo",
          "Samuel Huff",
          "Charlie Culberson",
          "Payton Henry",
          "Tres Barrera",
          "Rob Brantly",
          "Luis Campusano",
          "Ronald Torreyes",
          "Brian Serven",
          "Jose Barrero",
          "Luis Barrera",
          "John Nogowski",
          "Fabian Pena",
          "Guillermo Heredia",
          "Sergio Alcantara",
          "Zach Reks",
          "P.J. Higgins",
          "Collin Theroux",
          "Joe Panik",
          "Steven Souza Jr.",
          "Sebastian Rivero",
          "Hunter Feduccia",
          "Ehire Adrianza",
          "Edward Olivares",
          "Chadwick Tromp",
          "Brett Sullivan",
          "Andrew Velazquez",
          "Heliot Ramos",
          "Eli White",
          "Romy Gonzalez",
          "Jack Mayfield",
          "Travis Swaggerty",
          "Danny Mendick",
          "Josh Reddick",
          "Matt Joyce",
          "Jon Berti",
          "Harold Castro",
          "Roman Quinn",
          "Nolan Gorman",
          "Eric Sogard",
          "Owen Miller",
          "Jordy Mercer",
          "Alfonso Rivas III",
          "Travis Jankowski",
          "Ryan Vilade",
          "Vimael Machin",
          "Andrew Waters",
          "Juan Yepez",
          "Jacob Nottingham",
          "Jose Peraza",
          "Christin Stewart",
          "Hoy Park",
          "Mason Martin",
          "Luis Guillorme",
          "Emmanuel Rivera",
          "Billy Hamilton",
          "Drew Ellis",
          "Renato Nunez",
          "Maikel Franco",
          "Chris Owings",
          "Scott Kingery",
          "Oswaldo Cabrera",
          "Luke Raley",
          "Jahmai Jones",
          "Daniel Robertson",
          "Josh Palacios",
          "Taylor Trammell",
          "Jose Rondon",
          "Wilmer Difo",
          "Nelson Velazquez",
          "Josh Lowe",
          "Jared Oliva",
          "Franchy Cordero",
          "Edwin Rios",
          "Ryan McKenna",
          "Jake Burger",
          "Jonathan Aranda",
          "Mauricio Dubon",
          "Richard Palacios",
          "Geraldo Perdomo",
          "Gilberto Celestino",
          "Tyler Nevin",
          "Michael Stefanic",
          "Donovan Casey",
          "Jaylin Davis",
          "Isaac Paredes",
          "Lucius Fox",
          "Isan Diaz",
          "Skye Bolt",
          "Jordan Groshans",
          "Taylor Jones",
          "Willi Castro",
          "Travis Demeritte",
          "Khalil Lee",
          "Brennen Davis",
          "Daniel Johnson",
          "Oswald Peraza",
          "Micker Adolfo",
          "Elehuris Montero",
          "Pablo Reyes",
          "Ryan O'Hearn",
          "Edmund Burdick",
          "Nick Maton",
          "Yusniel Diaz",
          "Ernie Clement",
          "Jake Cave",
          "Jason Vosler",
          "Ender Inciarte",
          "William Benson",
          "Jesus Quiroz",
          "Stuart Fairchild",
          "Jonathan Arauz",
          "Jeffrey Bleday",
          "Kevin Padlo",
          "Brendan Donovan",
          "Jonathan Davis",
          "Taylor Ward",
          "Yonny Hernandez",
          "Brendon Davis",
          "Logan Warmoth",
          "Michael Reed",
          "Kody Clemens",
          "Ryan Kreidler",
          "Tyler White",
          "Rodolfo Castro",
          "Corey Ray",
          "Kyle Garlick",
          "Clifton Kennedy",
          "Mark Vientos",
          "Greg Cullen",
          "Richie Martin",
          "Zack Short",
          "Jedd Gyorko",
          "Anthony Dungan",
          "Tucupita Marcano",
          "Alex De Goti",
          "Donovan Walton",
          "Diego Castillo",
          "Jose Rojas",
          "Simon Muzziotti",
          "Luis Liberato",
          "Jorge Ona",
          "Austin Dean",
          "David Dahl",
          "Andrew Bechtold",
          "Pedro Leon",
          "Lane Adams",
          "Blake Rutherford",
          "Travis Blankenhorn",
          "Kyle Stowers",
          "Anderson Tejeda",
          "Jake Noll",
          "Alejo Lopez",
          "Yolbert Sanchez",
          "Kyle Holder",
          "Jake Hager",
          "Spencer Steer",
          "Tim Lopes",
          "Miles Mastrobuoni",
          "Adrian Sanchez",
          "Jacob Amaya",
          "Trent Giambrone",
          "Jeter Downs",
          "Eguy Rosario",
          "Andy Young",
          "Jacob deGrom",
          "Max Scherzer",
          "Gerrit Cole",
          "Corbin Burnes",
          "Zack Wheeler",
          "Shane Bieber",
          "Brandon Woodruff",
          "Aaron Nola",
          "Justin Verlander",
          "Robbie Ray",
          "Charlie Morton",
          "Carlos Rodon",
          "Chris Sale",
          "Liam Hendriks",
          "Josh Hader",
          "Joe Musgrove",
          "Logan Webb",
          "Pablo Lopez",
          "Walker Buehler",
          "Edwin Diaz",
          "Sean Manaea",
          "Sandy Alcantara",
          "Kevin Gausman",
          "Trevor Rogers",
          "Max Fried",
          "Blake Snell",
          "Aroldis Chapman",
          "Yu Darvish",
          "Jack Flaherty",
          "Shohei Ohtani",
          "Frankie Montas",
          "Raisel Iglesias",
          "Emmanuel Clase",
          "Clayton Kershaw",
          "Mike Clevinger",
          "Julio Urias",
          "Freddy Peralta",
          "Shane McClanahan",
          "Jose Berrios",
          "Alex Wood",
          "Ryan Pressly",
          "Lucas Giolito",
          "Taylor Rogers",
          "Nathan Eovaldi",
          "Lance Lynn",
          "Jordan Romano",
          "Luis Castillo",
          "Eduardo Rodriguez",
          "Carlos Carrasco",
          "Giovanny Gallegos",
          "Dylan Cease",
          "Framber Valdez",
          "Blake Treinen",
          "Shane Baz",
          "Chris Bassitt",
          "Lance McCullers Jr.",
          "Will Smith",
          "Andrew Kittredge",
          "Lucas Sims",
          "Michael Kopech",
          "Zac Gallen",
          "Alex Cobb",
          "David Bednar",
          "Ranger Suarez",
          "Steven Matz",
          "Alek Manoah",
          "Hyun-Jin Ryu",
          "Camilo Doval",
          "Scott Barlow",
          "Tarik Skubal",
          "Tylor Megill",
          "Aaron Ashby",
          "Andrew Heaney",
          "Corey Knebel",
          "Gregory Soto",
          "Logan Gilbert",
          "Jordan Montgomery",
          "Garrett Whitlock",
          "Trevor Bauer",
          "Pierce Johnson",
          "Dinelson Lamet",
          "Tyler Mahle",
          "Devin Williams",
          "Matt Barnes",
          "Patrick Sandoval",
          "Jose Alvarado",
          "Rowan Wick",
          "Sixto Sanchez",
          "Yusei Kikuchi",
          "Huascar Ynoa",
          "Mark Melancon",
          "Elieser Hernandez",
          "Craig Kimbrel",
          "Pete Fairbanks",
          "Anthony Bender",
          "Tyler Wells",
          "Aaron Bummer",
          "Adam Wainwright",
          "Joe Ryan",
          "Brusdar Graterol",
          "Trevor May",
          "Ian Anderson",
          "Luis Severino",
          "Sonny Gray",
          "Seth Lugo",
          "Anthony DeSclafani",
          "Patrick Corbin",
          "Dylan Floro",
          "Jonathan Loaisiga",
          "Paul Sewald",
          "John Means",
          "Jake McGee",
          "Luis Garcia",
          "Dustin May",
          "Drew Rasmussen",
          "Tyler Matzek",
          "Kyle Finnegan",
          "Zach Eflin",
          "Stephen Strasburg",
          "Genesis Cabrera",
          "Chad Green",
          "Caleb Ferguson",
          "Mike Minor",
          "Tommy Kahnle",
          "Lou Trivino",
          "Jose Quintana",
          "James Karinchak",
          "Diego Castillo",
          "Matthew Boyd",
          "Danny Duffy",
          "Jake Diekman",
          "Chris Paddack",
          "Miles Mikolas",
          "Marcus Stroman",
          "Taijuan Walker",
          "Trevor Williams",
          "Garrett Crochet",
          "Daniel Hudson",
          "Tanner Houck",
          "Jon Gray",
          "Ken Giles",
          "Alex Reyes",
          "JT Brubaker",
          "A.J. Puk",
          "Jesus Luzardo",
          "Michael Fulmer",
          "Hector Neris",
          "David Peterson",
          "Luis Garcia",
          "Andres Munoz",
          "Bailey Ober",
          "Corey Kluber",
          "Sam Coonrod",
          "Richard Bleier",
          "Collin McHugh",
          "Bailey Falter",
          "Reid Detmers",
          "Jordan Hicks",
          "Luke Jackson",
          "Domingo German",
          "Art Warren",
          "Joe Barlow",
          "Alex Vesia",
          "David Price",
          "Luis Patino",
          "Jake Cousins",
          "Adbert Alzolay",
          "A.J. Minter",
          "Kirby Yates",
          "Tim Mayza",
          "Luke Weaver",
          "Matt Wisler",
          "Jake Odorizzi",
          "Tanner Scott",
          "Craig Stammen",
          "Tim Hill",
          "Nick Sandlin",
          "Brooks Raley",
          "Drew Steckenrider",
          "Brady Singer",
          "Kyle Gibson",
          "Eric Lauer",
          "Roansy Contreras",
          "Josh Taylor",
          "Emilio Pagan",
          "Miguel Castro",
          "Julian Merryweather",
          "JT Chargois",
          "Mike Mayers",
          "Zack Greinke",
          "Colin Poche",
          "Jorge Alcala",
          "Kendall Graveman",
          "Aaron Loup",
          "Steven Okert",
          "Mike Soroka",
          "Edward Cabrera",
          "Tanner Rainey",
          "Phil Bickford",
          "Jay Jackson",
          "Anthony Misiewicz",
          "Nicholas Lodolo",
          "Reynaldo Lopez",
          "Dominic Leone",
          "Ryne Stanek",
          "Jose Urquidy",
          "Chris Stratton",
          "Kenley Jansen",
          "Joe Kelly",
          "Austin Adams",
          "Brad Wieck",
          "Louis Head",
          "Ryan Thompson",
          "Matthew Brash",
          "Jorge Lopez",
          "Dane Dunning",
          "Daniel Norris",
          "Joely Rodriguez",
          "Ryan Tepera",
          "Josh Staumont",
          "Connor Brogdon",
          "Chris Flexen",
          "Nestor Cortes",
          "Michael King",
          "Tucker Davidson",
          "James Paxton",
          "Reiver Sanmartin",
          "Nate Pearson",
          "Jake Brentz",
          "Cole Sulser",
          "James Kaprielian",
          "Chris Martin",
          "Dylan Coleman",
          "Casey Sadler",
          "Caleb Thielbar",
          "Jose Leclerc",
          "David Robertson",
          "Brent Suter",
          "Cody Morris",
          "Andrew Chafin",
          "Javy Guerra",
          "Yonny Chirinos",
          "Sean Newcomb",
          "Carlos Estevez",
          "Jameson Taillon",
          "Tony Gonsolin",
          "Zack Littell",
          "Anthony Bass",
          "Jarlin Garcia",
          "Yimi Garcia",
          "Ian Kennedy",
          "Glenn Otto",
          "Dillon Peters",
          "Derek Holland",
          "Amir Garrett",
          "Cristian Javier",
          "Sammy Long",
          "Sam Howard",
          "Heath Hembree",
          "Brandon Williamson",
          "Triston McKenzie",
          "Josh Sborz",
          "Seranthony Dominguez",
          "Noah Syndergaard",
          "Christian Greene",
          "Ross Stripling",
          "Daulton Jefferies",
          "Matt Strahm",
          "Caleb Smith",
          "Sam Hentges",
          "Victor Gonzalez",
          "Jose Quijada",
          "Phil Maton",
          "Will Harris",
          "Patrick Murphy",
          "Erik Swanson",
          "Trevor Richards",
          "Brad Hand",
          "Trevor Rosenthal",
          "Touki Toussaint",
          "Hansel Robles",
          "Nick Pivetta",
          "Zach Pop",
          "John Brebbia",
          "Sean Reid-Foley",
          "Clay Holmes",
          "Griffin Canning",
          "Tyler Duffey",
          "John King",
          "Angel Perdomo",
          "Kent Emanuel",
          "Adam Ottavino",
          "Austin Voth",
          "Codi Heuer",
          "Justin Steele",
          "Ryan Helsley",
          "Jesse Chavez",
          "Matthew Liberatore",
          "Tony Santillan",
          "Jose Cisnero",
          "Mychal Givens",
          "Hunter Harvey",
          "Nick Nelson",
          "JC Mejia",
          "Kyle Wright",
          "Paul Blackburn",
          "Drew Smith",
          "Tyler Rogers",
          "Jeurys Familia",
          "T.J. Zeuch",
          "Anthony Banda",
          "Trevor Stephan",
          "Ross Detwiler",
          "Junior Fernandez",
          "Jonathan Hernandez",
          "Ryne Nelson",
          "MacKenzie Gore",
          "Manuel Rodriguez",
          "Sean Poppen",
          "Ryan Weathers",
          "Joe Ross",
          "Jeff Hoffman",
          "Ryan Borucki",
          "Domingo Acevedo",
          "Darwinzon Hernandez",
          "Paul Fry",
          "Nick Wittgren",
          "Nick Snyder",
          "Tony Watson",
          "Daniel Bard",
          "Dylan Lee",
          "Danny Coulombe",
          "Rafael Montero",
          "Justus Sheffield",
          "Evan Phillips",
          "Andrew Wantz",
          "Jose Alvarez",
          "Kervin Castro",
          "Lucas Luetge",
          "Anthony Castro",
          "German Marquez",
          "Adam Morgan",
          "Spencer Patton",
          "Joe Mantiply",
          "Brent Honeywell",
          "Sam Moll",
          "Luis Gil",
          "T.J. McFarland",
          "Blake Cederlind",
          "J.B. Wendelken",
          "Oliver Drake",
          "Deolis Guerra",
          "Luis Cessa",
          "Jose Ruiz",
          "Jalen Beeks",
          "Kyle McGowin",
          "Josh Fleming",
          "Brad Boxberger",
          "Grayson Rodriguez",
          "Brett Martin",
          "Trevor Gott",
          "Kodi Whitley",
          "Nicholas Mikolajchak",
          "Scott Effross",
          "Dillon Tate",
          "Josiah Gray",
          "Logan Allen",
          "Jackson Kowar",
          "Gabe Speier",
          "Jesse Hahn",
          "Michael Wacha",
          "Francisco Perez",
          "Justin Bruihl",
          "Oliver Perez",
          "Ethan Small",
          "Jakob Junis",
          "Jandel Gustave",
          "Dellin Betances",
          "Tommy Nance",
          "Eli Morgan",
          "Aaron Civale",
          "Joe Jimenez",
          "Tobias Myers",
          "Kyle Muller",
          "Scott Kazmir",
          "Ryan Sherriff",
          "Juan Minaya",
          "Taylor Widener",
          "Mitch Keller",
          "Jacob Webb",
          "Tyler Chatwood",
          "Fernando Abad",
          "Jake Reed",
          "Wandy Peralta",
          "Steven Cavalli",
          "Marco Gonzales",
          "Alex Colome",
          "Chaz Roe",
          "Michael Pineda",
          "Michael Rucker",
          "Jordan Yamamoto",
          "Jace Fry",
          "Hirokazu Sawamura",
          "Jimmy Lambert",
          "Cionel Perez",
          "Cody Stashak",
          "Sean Hjelle",
          "Austin Warren",
          "Chris Archer",
          "Sean Doolittle",
          "Casey Mize",
          "Wander Suero",
          "Paul Campbell",
          "Jovani Moran",
          "Cole Hamels",
          "Duane Underwood Jr.",
          "Merrill Kelly",
          "Kolby Allard",
          "Joe Smith",
          "Nick Mears",
          "Rafael Dolis",
          "Martin Perez",
          "Miguel Del Pozo",
          "Greg Holland",
          "Kwang-hyun Kim",
          "Ryan Hendrix",
          "Tyler Alexander",
          "Zach Thompson",
          "Dauri Moreta",
          "Shane Greene",
          "Dillon Maples",
          "Jose Suarez",
          "Jordan Holloway",
          "Robert Stephenson",
          "Justin Wilson",
          "Jon Heasley",
          "Justin Anderson",
          "Noe Ramirez",
          "Thyago Vieira",
          "Blake Parker",
          "Paolo Espino",
          "Hunter Strickland",
          "Alex Claudio",
          "Richard Rodriguez",
          "Brad Brach",
          "Drew Smyly",
          "Kyle Tyler",
          "Kyle Funkhouser",
          "J.P. Feyereisen",
          "J.B. Bukauskas",
          "Spencer Howard",
          "Kyle Hendricks",
          "Adrian Houser",
          "Adam Cimber",
          "Tommy Hunter",
          "Wil Crowe",
          "Andrew Miller",
          "Ryan Brasier",
          "Michael Feliz",
          "Daniel Lynch",
          "Alexander Wells",
          "Matt Peacock",
          "Joel Payamps",
          "Albert Abreu",
          "Jake Woodford",
          "Ervin Santana",
          "Chad Kuhl",
          "Austin Davis",
          "Ryan Burr",
          "Cole Irvin",
          "Mason Thompson",
          "Kris Bubic",
          "Vince Velasquez",
          "Ryne Harper",
          "Blake Taylor",
          "Andre Jackson",
          "Robert Gsellman",
          "Adam Kolarek",
          "Nick Neidert",
          "Harrison Holmes",
          "Alex Lange",
          "Kyle Bradish",
          "Brandon Kintzler",
          "Caleb Baragar",
          "Jason Foley",
          "Zach Plesac",
          "Brandon Workman",
          "Dennis Santana",
          "Hunter Stratton",
          "Hans Crouse",
          "Taylor Clarke",
          "Junior Guerra",
          "Demarcus Evans",
          "Josh Tomlin",
          "Tyler Clippard",
          "Matt Shoemaker",
          "Erick Fedde",
          "Sergio Romo",
          "Yency Almonte",
          "Archie Bradley",
          "Chasen Shreve",
          "Madison Bumgarner",
          "Eric Hanhold",
          "Matt Harvey",
          "Jharel Cotton",
          "Andres Machado",
          "Dakota Hudson",
          "Jimmy Herget",
          "Keegan Thompson",
          "Tanner Roark",
          "Alec Mills",
          "Dan Winkler",
          "Ryan Yarbrough",
          "Justin Dunn",
          "Cole Winn",
          "AJ Ramos",
          "Joey Krehbiel",
          "Wade Miley",
          "Tyler Beede",
          "Brad Keller",
          "Cal Quantrill",
          "Bryan Shaw",
          "Phillips Valdez",
          "Trevor Cahill",
          "Felix Bautista",
          "Brett Anderson",
          "Jaime Barria",
          "Corbin Martin",
          "Jordan Balazovic",
          "Johnny Cueto",
          "Garrett Richards",
          "J.A. Happ",
          "Domingo Tapia",
          "Wade LeBlanc",
          "Lewis Thorpe",
          "Tyler Kinley",
          "Tyler Anderson",
          "Dean Kremer",
          "Michael Lorenzen",
          "Jhoulys Chacin",
          "Keegan Akin",
          "Pedro Baez",
          "Steve Cishek",
          "Bryan Garcia",
          "Nick Martinez",
          "Mike Baumann",
          "Ralph Garza",
          "Rich Hill",
          "Tyler Gilbert",
          "Josh Winder",
          "Bruce Zimmermann",
          "Ryan Rolison",
          "Zac Lowther",
          "Taylor Hearn",
          "Dylan Bundy",
          "Justin Lawrence",
          "Jake Arrieta",
          "Joseph Wentz",
          "Yusmeiro Petit",
          "Carlos Hernandez",
          "Jose Urena",
          "Randy Dobnak",
          "Lucas Gilbreath",
          "Matt Manning",
          "Josh Rogers",
          "Ryan Feltner",
          "Bryse Wilson",
          "Jordan Sheffield",
          "Austin Gomber",
          "Steven Brault",
          "Wily Peralta",
          "Peter Lambert",
          "Mike Foltynewicz",
          "Julio Teheran",
          "Matt Moore",
          "Carlos Martinez",
          "Aaron Sanchez",
          "Dallas Keuchel",
          "Robert Suarez",
          "Anthony Gose",
          "A.J. Alexy",
          "Chase Anderson",
          "Griffin Jax",
          "Jon Lester",
          "Dan Straily",
          "Kyle Freeland",
          "Vladimir Gutierrez",
          "Mike Fiers",
          "Zach Davies",
          "Jordan Lyles",
          "Antonio Senzatela"
         ],
         "type": "scatter",
         "x": [
          "SS",
          "1B",
          "OF",
          "OF",
          "3B",
          "OF",
          "2B",
          "SS",
          "3B",
          "OF",
          "OF",
          "1B",
          "OF",
          "1B",
          "OF",
          "OF",
          "OF",
          "C",
          "3B",
          "2B",
          "1B",
          "2B",
          "OF",
          "OF",
          "1B",
          "OF",
          "3B",
          "OF",
          "SS",
          "OF",
          "OF",
          "OF",
          "OF",
          "3B",
          "OF",
          "3B",
          "SS",
          "1B",
          "2B",
          "OF",
          "3B",
          "SS",
          "1B",
          "OF",
          "2B",
          "2B",
          "SS",
          "SS",
          "SS",
          "OF",
          "1B",
          "1B",
          "OF",
          "SS",
          "3B",
          "DH",
          "OF",
          "OF",
          "1B",
          "2B",
          "2B",
          "2B",
          "1B",
          "OF",
          "OF",
          "C",
          "C",
          "1B",
          "2B",
          "1B",
          "3B",
          "2B",
          "C",
          "OF",
          "3B",
          "OF",
          "3B",
          "1B",
          "3B",
          "1B",
          "3B",
          "3B",
          "OF",
          "2B",
          "2B",
          "1B",
          "OF",
          "1B",
          "OF",
          "OF",
          "OF",
          "3B",
          "OF",
          "2B",
          "3B",
          "1B",
          "OF",
          "OF",
          "OF",
          "OF",
          "SS",
          "1B",
          "3B",
          "3B",
          "3B",
          "1B",
          "SS",
          "1B",
          "2B",
          "SS",
          "OF",
          "OF",
          "C",
          "OF",
          "C",
          "2B",
          "OF",
          "C",
          "2B",
          "3B",
          "OF",
          "2B",
          "OF",
          "2B",
          "OF",
          "OF",
          "2B",
          "OF",
          "SS",
          "3B",
          "3B",
          "OF",
          "OF",
          "C",
          "OF",
          "3B",
          "OF",
          "OF",
          "3B",
          "OF",
          "2B",
          "3B",
          "OF",
          "3B",
          "OF",
          "3B",
          "SS",
          "C",
          "1B",
          "OF",
          "OF",
          "C",
          "OF",
          "2B",
          "3B",
          "OF",
          "OF",
          "3B",
          "1B",
          "C",
          "OF",
          "2B",
          "1B",
          "OF",
          "3B",
          "3B",
          "C",
          "SS",
          "OF",
          "OF",
          "OF",
          "OF",
          "OF",
          "C",
          "1B",
          "C",
          "SS",
          "1B",
          "1B",
          "OF",
          "2B",
          "OF",
          "OF",
          "SS",
          "1B",
          "2B",
          "3B",
          "C",
          "SS",
          "OF",
          "1B",
          "3B",
          "OF",
          "OF",
          "1B",
          "OF",
          "3B",
          "3B",
          "1B",
          "1B",
          "3B",
          "C",
          "C",
          "1B",
          "C",
          "OF",
          "3B",
          "3B",
          "2B",
          "2B",
          "2B",
          "SS",
          "3B",
          "C",
          "3B",
          "2B",
          "3B",
          "C",
          "3B",
          "3B",
          "OF",
          "3B",
          "3B",
          "C",
          "SS",
          "C",
          "OF",
          "OF",
          "OF",
          "OF",
          "C",
          "3B",
          "OF",
          "3B",
          "2B",
          "OF",
          "C",
          "2B",
          "OF",
          "C",
          "1B",
          "OF",
          "1B",
          "2B",
          "2B",
          "SS",
          "3B",
          "C",
          "1B",
          "OF",
          "C",
          "3B",
          "C",
          "OF",
          "2B",
          "OF",
          "1B",
          "C",
          "SS",
          "OF",
          "C",
          "C",
          "2B",
          "2B",
          "SS",
          "C",
          "1B",
          "C",
          "3B",
          "2B",
          "C",
          "3B",
          "3B",
          "1B",
          "C",
          "1B",
          "OF",
          "C",
          "SS",
          "2B",
          "OF",
          "OF",
          "C",
          "C",
          "OF",
          "2B",
          "C",
          "C",
          "C",
          "C",
          "OF",
          "3B",
          "SS",
          "2B",
          "3B",
          "OF",
          "OF",
          "OF",
          "3B",
          "3B",
          "3B",
          "OF",
          "C",
          "OF",
          "OF",
          "OF",
          "2B",
          "C",
          "OF",
          "3B",
          "3B",
          "1B",
          "3B",
          "C",
          "C",
          "OF",
          "3B",
          "3B",
          "C",
          "C",
          "OF",
          "3B",
          "1B",
          "C",
          "SS",
          "OF",
          "2B",
          "C",
          "OF",
          "OF",
          "OF",
          "OF",
          "1B",
          "C",
          "OF",
          "3B",
          "C",
          "SS",
          "3B",
          "1B",
          "C",
          "1B",
          "1B",
          "OF",
          "1B",
          "C",
          "OF",
          "C",
          "OF",
          "C",
          "OF",
          "C",
          "OF",
          "3B",
          "OF",
          "1B",
          "OF",
          "C",
          "DH",
          "C",
          "OF",
          "OF",
          "1B",
          "3B",
          "3B",
          "2B",
          "3B",
          "OF",
          "C",
          "1B",
          "3B",
          "C",
          "2B",
          "3B",
          "C",
          "C",
          "3B",
          "2B",
          "OF",
          "C",
          "1B",
          "3B",
          "3B",
          "2B",
          "1B",
          "C",
          "OF",
          "OF",
          "3B",
          "3B",
          "3B",
          "C",
          "C",
          "SS",
          "C",
          "1B",
          "OF",
          "C",
          "OF",
          "OF",
          "3B",
          "OF",
          "OF",
          "C",
          "1B",
          "C",
          "C",
          "OF",
          "OF",
          "OF",
          "OF",
          "OF",
          "OF",
          "2B",
          "2B",
          "OF",
          "OF",
          "3B",
          "3B",
          "C",
          "C",
          "1B",
          "1B",
          "OF",
          "2B",
          "SS",
          "OF",
          "C",
          "C",
          "2B",
          "3B",
          "3B",
          "OF",
          "C",
          "3B",
          "3B",
          "OF",
          "C",
          "OF",
          "C",
          "C",
          "C",
          "3B",
          "C",
          "3B",
          "OF",
          "C",
          "OF",
          "C",
          "C",
          "OF",
          "C",
          "C",
          "C",
          "C",
          "2B",
          "C",
          "1B",
          "1B",
          "OF",
          "C",
          "C",
          "3B",
          "OF",
          "C",
          "3B",
          "C",
          "C",
          "C",
          "C",
          "3B",
          "C",
          "SS",
          "OF",
          "1B",
          "C",
          "OF",
          "2B",
          "OF",
          "C",
          "C",
          "3B",
          "OF",
          "C",
          "C",
          "3B",
          "OF",
          "C",
          "C",
          "SS",
          "OF",
          "OF",
          "3B",
          "3B",
          "OF",
          "2B",
          "OF",
          "OF",
          "3B",
          "3B",
          "OF",
          "3B",
          "3B",
          "3B",
          "3B",
          "1B",
          "OF",
          "OF",
          "SS",
          "OF",
          "3B",
          "DH",
          "3B",
          "OF",
          "3B",
          "1B",
          "3B",
          "3B",
          "OF",
          "3B",
          "1B",
          "3B",
          "OF",
          "OF",
          "3B",
          "OF",
          "2B",
          "3B",
          "OF",
          "OF",
          "3B",
          "3B",
          "OF",
          "OF",
          "OF",
          "1B",
          "3B",
          "OF",
          "3B",
          "2B",
          "3B",
          "2B",
          "SS",
          "OF",
          "1B",
          "2B",
          "OF",
          "OF",
          "3B",
          "SS",
          "3B",
          "OF",
          "3B",
          "1B",
          "2B",
          "OF",
          "OF",
          "OF",
          "OF",
          "SS",
          "OF",
          "3B",
          "3B",
          "1B",
          "OF",
          "2B",
          "OF",
          "3B",
          "OF",
          "3B",
          "OF",
          "OF",
          "2B",
          "OF",
          "2B",
          "OF",
          "3B",
          "2B",
          "OF",
          "OF",
          "3B",
          "3B",
          "SS",
          "OF",
          "2B",
          "SS",
          "1B",
          "3B",
          "OF",
          "OF",
          "3B",
          "3B",
          "2B",
          "SS",
          "SS",
          "3B",
          "2B",
          "2B",
          "2B",
          "2B",
          "2B",
          "3B",
          "OF",
          "OF",
          "DH",
          "OF",
          "OF",
          "3B",
          "SS",
          "OF",
          "OF",
          "2B",
          "OF",
          "3B",
          "1B",
          "3B",
          "2B",
          "SS",
          "2B",
          "3B",
          "2B",
          "2B",
          "2B",
          "SS",
          "2B",
          "2B",
          "3B",
          "2B",
          "SP",
          "SP",
          "SP",
          "SP",
          "SP",
          "SP",
          "SP",
          "SP",
          "SP",
          "SP",
          "SP",
          "SP",
          "SP",
          "RP",
          "RP",
          "SP",
          "SP",
          "SP",
          "SP",
          "RP",
          "SP",
          "SP",
          "SP",
          "SP",
          "SP",
          "SP",
          "RP",
          "SP",
          "SP",
          "SP",
          "SP",
          "RP",
          "RP",
          "SP",
          "SP",
          "SP",
          "SP",
          "SP",
          "SP",
          "SP",
          "RP",
          "SP",
          "RP",
          "SP",
          "SP",
          "RP",
          "SP",
          "SP",
          "SP",
          "RP",
          "SP",
          "SP",
          "RP",
          "SP",
          "SP",
          "SP",
          "RP",
          "RP",
          "RP",
          "SP",
          "SP",
          "SP",
          "RP",
          "SP",
          "SP",
          "SP",
          "SP",
          "RP",
          "RP",
          "SP",
          "SP",
          "SP",
          "SP",
          "RP",
          "RP",
          "SP",
          "SP",
          "RP",
          "SP",
          "RP",
          "RP",
          "SP",
          "RP",
          "RP",
          "SP",
          "RP",
          "RP",
          "SP",
          "SP",
          "SP",
          "RP",
          "SP",
          "RP",
          "RP",
          "RP",
          "RP",
          "RP",
          "SP",
          "SP",
          "RP",
          "RP",
          "SP",
          "SP",
          "SP",
          "RP",
          "SP",
          "SP",
          "RP",
          "RP",
          "RP",
          "SP",
          "RP",
          "SP",
          "SP",
          "SP",
          "RP",
          "RP",
          "SP",
          "SP",
          "RP",
          "RP",
          "RP",
          "SP",
          "RP",
          "RP",
          "SP",
          "RP",
          "RP",
          "SP",
          "SP",
          "RP",
          "SP",
          "SP",
          "SP",
          "SP",
          "SP",
          "RP",
          "RP",
          "SP",
          "SP",
          "RP",
          "RP",
          "SP",
          "RP",
          "SP",
          "RP",
          "RP",
          "SP",
          "RP",
          "RP",
          "SP",
          "SP",
          "RP",
          "RP",
          "RP",
          "SP",
          "SP",
          "RP",
          "RP",
          "SP",
          "RP",
          "RP",
          "RP",
          "SP",
          "SP",
          "RP",
          "SP",
          "RP",
          "RP",
          "RP",
          "SP",
          "RP",
          "SP",
          "RP",
          "RP",
          "RP",
          "RP",
          "RP",
          "RP",
          "SP",
          "SP",
          "SP",
          "SP",
          "RP",
          "RP",
          "RP",
          "RP",
          "RP",
          "RP",
          "SP",
          "RP",
          "RP",
          "RP",
          "RP",
          "RP",
          "SP",
          "SP",
          "RP",
          "RP",
          "RP",
          "RP",
          "SP",
          "SP",
          "RP",
          "RP",
          "SP",
          "RP",
          "RP",
          "RP",
          "RP",
          "RP",
          "RP",
          "RP",
          "SP",
          "RP",
          "SP",
          "RP",
          "RP",
          "RP",
          "RP",
          "RP",
          "SP",
          "SP",
          "SP",
          "SP",
          "SP",
          "SP",
          "SP",
          "RP",
          "RP",
          "SP",
          "RP",
          "RP",
          "RP",
          "RP",
          "RP",
          "RP",
          "RP",
          "RP",
          "RP",
          "RP",
          "SP",
          "RP",
          "RP",
          "SP",
          "SP",
          "RP",
          "RP",
          "RP",
          "RP",
          "RP",
          "SP",
          "SP",
          "RP",
          "RP",
          "SP",
          "SP",
          "RP",
          "RP",
          "SP",
          "SP",
          "RP",
          "RP",
          "SP",
          "SP",
          "SP",
          "SP",
          "RP",
          "RP",
          "SP",
          "RP",
          "RP",
          "RP",
          "RP",
          "RP",
          "RP",
          "RP",
          "RP",
          "RP",
          "SP",
          "RP",
          "SP",
          "RP",
          "RP",
          "RP",
          "RP",
          "SP",
          "RP",
          "RP",
          "RP",
          "RP",
          "RP",
          "RP",
          "RP",
          "SP",
          "RP",
          "RP",
          "SP",
          "SP",
          "RP",
          "RP",
          "RP",
          "RP",
          "SP",
          "SP",
          "SP",
          "RP",
          "RP",
          "RP",
          "SP",
          "RP",
          "RP",
          "RP",
          "RP",
          "RP",
          "SP",
          "SP",
          "RP",
          "RP",
          "SP",
          "SP",
          "SP",
          "RP",
          "RP",
          "RP",
          "RP",
          "RP",
          "RP",
          "RP",
          "RP",
          "RP",
          "RP",
          "RP",
          "SP",
          "RP",
          "RP",
          "RP",
          "RP",
          "RP",
          "RP",
          "SP",
          "RP",
          "RP",
          "RP",
          "SP",
          "RP",
          "SP",
          "RP",
          "RP",
          "RP",
          "RP",
          "RP",
          "RP",
          "RP",
          "RP",
          "RP",
          "SP",
          "RP",
          "SP",
          "RP",
          "RP",
          "RP",
          "RP",
          "RP",
          "RP",
          "SP",
          "SP",
          "SP",
          "RP",
          "RP",
          "SP",
          "RP",
          "RP",
          "RP",
          "SP",
          "SP",
          "RP",
          "RP",
          "RP",
          "SP",
          "SP",
          "RP",
          "RP",
          "SP",
          "SP",
          "RP",
          "RP",
          "SP",
          "SP",
          "RP",
          "RP",
          "RP",
          "RP",
          "RP",
          "SP",
          "SP",
          "RP",
          "RP",
          "SP",
          "RP",
          "SP",
          "RP",
          "RP",
          "SP",
          "RP",
          "RP",
          "SP",
          "RP",
          "SP",
          "RP",
          "SP",
          "RP",
          "RP",
          "RP",
          "SP",
          "RP",
          "SP",
          "SP",
          "RP",
          "RP",
          "RP",
          "SP",
          "RP",
          "RP",
          "SP",
          "RP",
          "SP",
          "SP",
          "RP",
          "RP",
          "RP",
          "SP",
          "RP",
          "RP",
          "RP",
          "SP",
          "RP",
          "RP",
          "RP",
          "RP",
          "SP",
          "RP",
          "RP",
          "RP",
          "RP",
          "SP",
          "RP",
          "RP",
          "RP",
          "RP",
          "SP",
          "SP",
          "SP",
          "RP",
          "RP",
          "SP",
          "RP",
          "RP",
          "RP",
          "SP",
          "SP",
          "RP",
          "RP",
          "RP",
          "SP",
          "RP",
          "SP",
          "RP",
          "RP",
          "SP",
          "RP",
          "SP",
          "SP",
          "RP",
          "RP",
          "RP",
          "RP",
          "RP",
          "SP",
          "RP",
          "RP",
          "RP",
          "RP",
          "RP",
          "RP",
          "SP",
          "RP",
          "RP",
          "RP",
          "SP",
          "RP",
          "RP",
          "RP",
          "RP",
          "RP",
          "SP",
          "SP",
          "RP",
          "RP",
          "RP",
          "RP",
          "SP",
          "RP",
          "SP",
          "RP",
          "RP",
          "SP",
          "RP",
          "SP",
          "SP",
          "SP",
          "RP",
          "SP",
          "SP",
          "SP",
          "RP",
          "RP",
          "SP",
          "RP",
          "SP",
          "SP",
          "RP",
          "RP",
          "SP",
          "RP",
          "SP",
          "SP",
          "SP",
          "SP",
          "SP",
          "SP",
          "SP",
          "RP",
          "SP",
          "SP",
          "RP",
          "SP",
          "SP",
          "SP",
          "RP",
          "SP",
          "RP",
          "RP",
          "RP",
          "SP",
          "RP",
          "RP",
          "SP",
          "SP",
          "SP",
          "SP",
          "SP",
          "SP",
          "SP",
          "SP",
          "RP",
          "SP",
          "SP",
          "RP",
          "SP",
          "SP",
          "SP",
          "RP",
          "SP",
          "SP",
          "SP",
          "SP",
          "RP",
          "SP",
          "SP",
          "SP",
          "SP",
          "SP",
          "SP",
          "SP",
          "SP",
          "SP",
          "SP",
          "RP",
          "RP",
          "SP",
          "SP",
          "SP",
          "SP",
          "SP",
          "SP",
          "SP",
          "SP",
          "SP",
          "SP",
          "SP"
         ],
         "y": [
          10.467208458687725,
          8.064957784232655,
          9.390389701629095,
          7.4783715711549945,
          6.258607045460826,
          6.859561324757497,
          7.889998823936553,
          7.361502055912652,
          5.073217988973443,
          7.248025674370064,
          8.21104051096419,
          4.859707938541751,
          6.2341782001036385,
          4.2401421357636755,
          6.153412470888579,
          6.083746040034164,
          6.159641735640674,
          6.407966853454112,
          4.483346180033996,
          6.44137079926052,
          3.8143127563753247,
          5.79474922069971,
          4.835602445012007,
          4.945308028593052,
          3.683766106464912,
          5.242687853796845,
          2.9305363447027486,
          5.212707416698466,
          5.285968950885649,
          4.1904267970039815,
          4.368808879788727,
          4.505819759447981,
          4.178968567354763,
          2.431927542583211,
          3.893644716415988,
          2.4971222292369255,
          4.045259651047862,
          2.2453873910852202,
          4.442995442107619,
          4.280219349495408,
          2.3306876024898466,
          4.058161585111892,
          2.4503260215507296,
          4.220020479732765,
          3.102696816739827,
          4.378218437944858,
          3.5947446417765203,
          4.266510702133699,
          3.1167071556509884,
          3.6685529632594447,
          2.0773140889837083,
          1.4112113634291874,
          4.99573918970333,
          3.4196819919729347,
          1.9597579083772236,
          3.165309465417322,
          3.7975856141608415,
          3.121530209661448,
          1.4061115603899688,
          3.559391388256298,
          4.021099161512786,
          3.696715823847261,
          0.4011133565457896,
          3.4179463090796274,
          2.5114985210579435,
          4.755548420547672,
          3.977517995600249,
          1.3477452962796392,
          3.4505594622517104,
          1.1121984300821035,
          2.478246601901363,
          3.2420461620005474,
          2.7002140328942565,
          0.9789939228689305,
          2.187905961274695,
          0.33279666220097104,
          0.7468117809404984,
          0.6255861406161487,
          0.44813535540747695,
          1.0075261748388684,
          0.27727802703449855,
          2.379731035580026,
          2.7883563102972544,
          2.8187127620936323,
          2.1724854806443763,
          0.24646644564070708,
          2.1172895789633173,
          2.5493764364920817,
          2.18172790924867,
          0.7186100090606262,
          2.195977428688739,
          2.408073242907036,
          0,
          0.11588104226742169,
          1.8205535946276474,
          1.9593386044046968,
          2.013136019198628,
          1.4707835082587382,
          1.4259113613046355,
          0.2772700292894874,
          0.1392863374692659,
          0.50848590736842,
          0.09801519075854803,
          1.9710559790857756,
          1.0950562685663932,
          1.7152020358274238,
          1.4501476331972547,
          1.3641508387838877,
          1.578083660098062,
          1.7432252362506429,
          3.0324783187769384,
          1.6994680042419934,
          1.586391919097265,
          1.4836433612946252,
          2.04696495225003,
          0.024421526028830964,
          1.70124906746876,
          1.4305524327574535,
          0.8370491833373914,
          1.3947784258311637,
          0.7167142464967178,
          1.2447652585192372,
          1.4724112678056325,
          0.8900008477048051,
          1.2428775544859045,
          0.1652473807133057,
          1.180972451191408,
          0.6884705611933408,
          2.421008056451211,
          1.0101370072209725,
          0.7430386407796603,
          0.9686827907441531,
          1.2509850243717267,
          0.37092994525297707,
          0.5940889995511718,
          0.5614944217008593,
          0.4577561416200018,
          0.9130067108368496,
          0.6553367658050551,
          0.5814851225219995,
          0.011879118134314304,
          0.22830878752363626,
          0.7326889320388998,
          0,
          0.030775458595035943,
          0.023730329118689664,
          1.5107800691452016,
          0.06645014404311533,
          0,
          0.32388312064286406,
          0.10299344968623281,
          0,
          8.188986172098717,
          7.070051295402825,
          8.032952572613475,
          6.290903384698932,
          5.115441293711134,
          5.925917524790849,
          4.524207339259501,
          3.724567898174764,
          4.698431703592998,
          4.992351235648238,
          3.594292716927179,
          3.7151475699213825,
          4.45619694157647,
          3.416091274787675,
          2.8802987683222634,
          3.2343937073557223,
          2.712443316433659,
          2.6243181148079557,
          3.6310392926524315,
          2.2484780956168047,
          3.511191568113304,
          3.270233164157835,
          3.8824268542095983,
          2.9263487679923985,
          3.0568281807183224,
          2.3769480778443577,
          2.1310070636130347,
          2.716230417932631,
          2.6832793699047457,
          3.3373789235234117,
          3.5073745801491643,
          2.206471913487404,
          2.1080945297815794,
          2.774909235737904,
          1.8173297971372324,
          2.5801543342231916,
          2.737849069050597,
          3.038693355659026,
          3.5081623482135305,
          1.4160479556171865,
          1.8470546821539187,
          3.347435452059565,
          1.4660200685582718,
          2.9485701048108,
          3.516917333118792,
          1.759260290894447,
          1.6181166065324333,
          2.6167199074884073,
          0.8011850068706137,
          1.6778915986587797,
          2.8163460049468085,
          2.5041716892902612,
          1.1166782257210968,
          2.1102798661159077,
          2.588958908967724,
          2.1875597116711223,
          0.7581474413839484,
          0.8215264573644186,
          0.5511891463715544,
          2.494929524290743,
          0.8335376401878468,
          0.5380200982442545,
          0.4265797453544435,
          0.906631695992978,
          0.8382292819404467,
          2.1415817871400735,
          1.549214083832056,
          0.30120956495665263,
          0.7213578817305589,
          1.5853315551999274,
          0,
          0.7577663093934186,
          0.2597024868350388,
          0.2538321682275388,
          0.15254901200249915,
          1.3980280779961927,
          1.3133411353678088,
          0.8328711302045351,
          0.017353998608457877,
          0.24926806780140034,
          0.40304588184381385,
          0.49610216374390137,
          0.4809554879926494,
          1.0593983194954615,
          0.023900184065304364,
          0.023330978880212516,
          0.5137876114544679,
          0.08944750810066576,
          0,
          0.44875989805715993,
          0.5468575194760223,
          1.0870629161695462,
          0.13698274668531996,
          1.1069376335715735,
          0.3555736822593991,
          0.15098911920478075,
          0.21161252289251686,
          0.4338671816128219,
          1.615405704531761,
          1.4090203184450174,
          0.6594917642172711,
          0.615534059307931,
          0.45810647098986834,
          0.11082676092923024,
          0.5339165592934052,
          0.9619839106240465,
          0.46417249382622017,
          0.10032029632095152,
          0.2834540252402422,
          0.09863693543102015
         ]
        }
       ],
       "layout": {
        "template": {
         "data": {
          "bar": [
           {
            "error_x": {
             "color": "#2a3f5f"
            },
            "error_y": {
             "color": "#2a3f5f"
            },
            "marker": {
             "line": {
              "color": "#E5ECF6",
              "width": 0.5
             }
            },
            "type": "bar"
           }
          ],
          "barpolar": [
           {
            "marker": {
             "line": {
              "color": "#E5ECF6",
              "width": 0.5
             }
            },
            "type": "barpolar"
           }
          ],
          "carpet": [
           {
            "aaxis": {
             "endlinecolor": "#2a3f5f",
             "gridcolor": "white",
             "linecolor": "white",
             "minorgridcolor": "white",
             "startlinecolor": "#2a3f5f"
            },
            "baxis": {
             "endlinecolor": "#2a3f5f",
             "gridcolor": "white",
             "linecolor": "white",
             "minorgridcolor": "white",
             "startlinecolor": "#2a3f5f"
            },
            "type": "carpet"
           }
          ],
          "choropleth": [
           {
            "colorbar": {
             "outlinewidth": 0,
             "ticks": ""
            },
            "type": "choropleth"
           }
          ],
          "contour": [
           {
            "colorbar": {
             "outlinewidth": 0,
             "ticks": ""
            },
            "colorscale": [
             [
              0,
              "#0d0887"
             ],
             [
              0.1111111111111111,
              "#46039f"
             ],
             [
              0.2222222222222222,
              "#7201a8"
             ],
             [
              0.3333333333333333,
              "#9c179e"
             ],
             [
              0.4444444444444444,
              "#bd3786"
             ],
             [
              0.5555555555555556,
              "#d8576b"
             ],
             [
              0.6666666666666666,
              "#ed7953"
             ],
             [
              0.7777777777777778,
              "#fb9f3a"
             ],
             [
              0.8888888888888888,
              "#fdca26"
             ],
             [
              1,
              "#f0f921"
             ]
            ],
            "type": "contour"
           }
          ],
          "contourcarpet": [
           {
            "colorbar": {
             "outlinewidth": 0,
             "ticks": ""
            },
            "type": "contourcarpet"
           }
          ],
          "heatmap": [
           {
            "colorbar": {
             "outlinewidth": 0,
             "ticks": ""
            },
            "colorscale": [
             [
              0,
              "#0d0887"
             ],
             [
              0.1111111111111111,
              "#46039f"
             ],
             [
              0.2222222222222222,
              "#7201a8"
             ],
             [
              0.3333333333333333,
              "#9c179e"
             ],
             [
              0.4444444444444444,
              "#bd3786"
             ],
             [
              0.5555555555555556,
              "#d8576b"
             ],
             [
              0.6666666666666666,
              "#ed7953"
             ],
             [
              0.7777777777777778,
              "#fb9f3a"
             ],
             [
              0.8888888888888888,
              "#fdca26"
             ],
             [
              1,
              "#f0f921"
             ]
            ],
            "type": "heatmap"
           }
          ],
          "heatmapgl": [
           {
            "colorbar": {
             "outlinewidth": 0,
             "ticks": ""
            },
            "colorscale": [
             [
              0,
              "#0d0887"
             ],
             [
              0.1111111111111111,
              "#46039f"
             ],
             [
              0.2222222222222222,
              "#7201a8"
             ],
             [
              0.3333333333333333,
              "#9c179e"
             ],
             [
              0.4444444444444444,
              "#bd3786"
             ],
             [
              0.5555555555555556,
              "#d8576b"
             ],
             [
              0.6666666666666666,
              "#ed7953"
             ],
             [
              0.7777777777777778,
              "#fb9f3a"
             ],
             [
              0.8888888888888888,
              "#fdca26"
             ],
             [
              1,
              "#f0f921"
             ]
            ],
            "type": "heatmapgl"
           }
          ],
          "histogram": [
           {
            "marker": {
             "colorbar": {
              "outlinewidth": 0,
              "ticks": ""
             }
            },
            "type": "histogram"
           }
          ],
          "histogram2d": [
           {
            "colorbar": {
             "outlinewidth": 0,
             "ticks": ""
            },
            "colorscale": [
             [
              0,
              "#0d0887"
             ],
             [
              0.1111111111111111,
              "#46039f"
             ],
             [
              0.2222222222222222,
              "#7201a8"
             ],
             [
              0.3333333333333333,
              "#9c179e"
             ],
             [
              0.4444444444444444,
              "#bd3786"
             ],
             [
              0.5555555555555556,
              "#d8576b"
             ],
             [
              0.6666666666666666,
              "#ed7953"
             ],
             [
              0.7777777777777778,
              "#fb9f3a"
             ],
             [
              0.8888888888888888,
              "#fdca26"
             ],
             [
              1,
              "#f0f921"
             ]
            ],
            "type": "histogram2d"
           }
          ],
          "histogram2dcontour": [
           {
            "colorbar": {
             "outlinewidth": 0,
             "ticks": ""
            },
            "colorscale": [
             [
              0,
              "#0d0887"
             ],
             [
              0.1111111111111111,
              "#46039f"
             ],
             [
              0.2222222222222222,
              "#7201a8"
             ],
             [
              0.3333333333333333,
              "#9c179e"
             ],
             [
              0.4444444444444444,
              "#bd3786"
             ],
             [
              0.5555555555555556,
              "#d8576b"
             ],
             [
              0.6666666666666666,
              "#ed7953"
             ],
             [
              0.7777777777777778,
              "#fb9f3a"
             ],
             [
              0.8888888888888888,
              "#fdca26"
             ],
             [
              1,
              "#f0f921"
             ]
            ],
            "type": "histogram2dcontour"
           }
          ],
          "mesh3d": [
           {
            "colorbar": {
             "outlinewidth": 0,
             "ticks": ""
            },
            "type": "mesh3d"
           }
          ],
          "parcoords": [
           {
            "line": {
             "colorbar": {
              "outlinewidth": 0,
              "ticks": ""
             }
            },
            "type": "parcoords"
           }
          ],
          "pie": [
           {
            "automargin": true,
            "type": "pie"
           }
          ],
          "scatter": [
           {
            "marker": {
             "colorbar": {
              "outlinewidth": 0,
              "ticks": ""
             }
            },
            "type": "scatter"
           }
          ],
          "scatter3d": [
           {
            "line": {
             "colorbar": {
              "outlinewidth": 0,
              "ticks": ""
             }
            },
            "marker": {
             "colorbar": {
              "outlinewidth": 0,
              "ticks": ""
             }
            },
            "type": "scatter3d"
           }
          ],
          "scattercarpet": [
           {
            "marker": {
             "colorbar": {
              "outlinewidth": 0,
              "ticks": ""
             }
            },
            "type": "scattercarpet"
           }
          ],
          "scattergeo": [
           {
            "marker": {
             "colorbar": {
              "outlinewidth": 0,
              "ticks": ""
             }
            },
            "type": "scattergeo"
           }
          ],
          "scattergl": [
           {
            "marker": {
             "colorbar": {
              "outlinewidth": 0,
              "ticks": ""
             }
            },
            "type": "scattergl"
           }
          ],
          "scattermapbox": [
           {
            "marker": {
             "colorbar": {
              "outlinewidth": 0,
              "ticks": ""
             }
            },
            "type": "scattermapbox"
           }
          ],
          "scatterpolar": [
           {
            "marker": {
             "colorbar": {
              "outlinewidth": 0,
              "ticks": ""
             }
            },
            "type": "scatterpolar"
           }
          ],
          "scatterpolargl": [
           {
            "marker": {
             "colorbar": {
              "outlinewidth": 0,
              "ticks": ""
             }
            },
            "type": "scatterpolargl"
           }
          ],
          "scatterternary": [
           {
            "marker": {
             "colorbar": {
              "outlinewidth": 0,
              "ticks": ""
             }
            },
            "type": "scatterternary"
           }
          ],
          "surface": [
           {
            "colorbar": {
             "outlinewidth": 0,
             "ticks": ""
            },
            "colorscale": [
             [
              0,
              "#0d0887"
             ],
             [
              0.1111111111111111,
              "#46039f"
             ],
             [
              0.2222222222222222,
              "#7201a8"
             ],
             [
              0.3333333333333333,
              "#9c179e"
             ],
             [
              0.4444444444444444,
              "#bd3786"
             ],
             [
              0.5555555555555556,
              "#d8576b"
             ],
             [
              0.6666666666666666,
              "#ed7953"
             ],
             [
              0.7777777777777778,
              "#fb9f3a"
             ],
             [
              0.8888888888888888,
              "#fdca26"
             ],
             [
              1,
              "#f0f921"
             ]
            ],
            "type": "surface"
           }
          ],
          "table": [
           {
            "cells": {
             "fill": {
              "color": "#EBF0F8"
             },
             "line": {
              "color": "white"
             }
            },
            "header": {
             "fill": {
              "color": "#C8D4E3"
             },
             "line": {
              "color": "white"
             }
            },
            "type": "table"
           }
          ]
         },
         "layout": {
          "annotationdefaults": {
           "arrowcolor": "#2a3f5f",
           "arrowhead": 0,
           "arrowwidth": 1
          },
          "autotypenumbers": "strict",
          "coloraxis": {
           "colorbar": {
            "outlinewidth": 0,
            "ticks": ""
           }
          },
          "colorscale": {
           "diverging": [
            [
             0,
             "#8e0152"
            ],
            [
             0.1,
             "#c51b7d"
            ],
            [
             0.2,
             "#de77ae"
            ],
            [
             0.3,
             "#f1b6da"
            ],
            [
             0.4,
             "#fde0ef"
            ],
            [
             0.5,
             "#f7f7f7"
            ],
            [
             0.6,
             "#e6f5d0"
            ],
            [
             0.7,
             "#b8e186"
            ],
            [
             0.8,
             "#7fbc41"
            ],
            [
             0.9,
             "#4d9221"
            ],
            [
             1,
             "#276419"
            ]
           ],
           "sequential": [
            [
             0,
             "#0d0887"
            ],
            [
             0.1111111111111111,
             "#46039f"
            ],
            [
             0.2222222222222222,
             "#7201a8"
            ],
            [
             0.3333333333333333,
             "#9c179e"
            ],
            [
             0.4444444444444444,
             "#bd3786"
            ],
            [
             0.5555555555555556,
             "#d8576b"
            ],
            [
             0.6666666666666666,
             "#ed7953"
            ],
            [
             0.7777777777777778,
             "#fb9f3a"
            ],
            [
             0.8888888888888888,
             "#fdca26"
            ],
            [
             1,
             "#f0f921"
            ]
           ],
           "sequentialminus": [
            [
             0,
             "#0d0887"
            ],
            [
             0.1111111111111111,
             "#46039f"
            ],
            [
             0.2222222222222222,
             "#7201a8"
            ],
            [
             0.3333333333333333,
             "#9c179e"
            ],
            [
             0.4444444444444444,
             "#bd3786"
            ],
            [
             0.5555555555555556,
             "#d8576b"
            ],
            [
             0.6666666666666666,
             "#ed7953"
            ],
            [
             0.7777777777777778,
             "#fb9f3a"
            ],
            [
             0.8888888888888888,
             "#fdca26"
            ],
            [
             1,
             "#f0f921"
            ]
           ]
          },
          "colorway": [
           "#636efa",
           "#EF553B",
           "#00cc96",
           "#ab63fa",
           "#FFA15A",
           "#19d3f3",
           "#FF6692",
           "#B6E880",
           "#FF97FF",
           "#FECB52"
          ],
          "font": {
           "color": "#2a3f5f"
          },
          "geo": {
           "bgcolor": "white",
           "lakecolor": "white",
           "landcolor": "#E5ECF6",
           "showlakes": true,
           "showland": true,
           "subunitcolor": "white"
          },
          "hoverlabel": {
           "align": "left"
          },
          "hovermode": "closest",
          "mapbox": {
           "style": "light"
          },
          "paper_bgcolor": "white",
          "plot_bgcolor": "#E5ECF6",
          "polar": {
           "angularaxis": {
            "gridcolor": "white",
            "linecolor": "white",
            "ticks": ""
           },
           "bgcolor": "#E5ECF6",
           "radialaxis": {
            "gridcolor": "white",
            "linecolor": "white",
            "ticks": ""
           }
          },
          "scene": {
           "xaxis": {
            "backgroundcolor": "#E5ECF6",
            "gridcolor": "white",
            "gridwidth": 2,
            "linecolor": "white",
            "showbackground": true,
            "ticks": "",
            "zerolinecolor": "white"
           },
           "yaxis": {
            "backgroundcolor": "#E5ECF6",
            "gridcolor": "white",
            "gridwidth": 2,
            "linecolor": "white",
            "showbackground": true,
            "ticks": "",
            "zerolinecolor": "white"
           },
           "zaxis": {
            "backgroundcolor": "#E5ECF6",
            "gridcolor": "white",
            "gridwidth": 2,
            "linecolor": "white",
            "showbackground": true,
            "ticks": "",
            "zerolinecolor": "white"
           }
          },
          "shapedefaults": {
           "line": {
            "color": "#2a3f5f"
           }
          },
          "ternary": {
           "aaxis": {
            "gridcolor": "white",
            "linecolor": "white",
            "ticks": ""
           },
           "baxis": {
            "gridcolor": "white",
            "linecolor": "white",
            "ticks": ""
           },
           "bgcolor": "#E5ECF6",
           "caxis": {
            "gridcolor": "white",
            "linecolor": "white",
            "ticks": ""
           }
          },
          "title": {
           "x": 0.05
          },
          "xaxis": {
           "automargin": true,
           "gridcolor": "white",
           "linecolor": "white",
           "ticks": "",
           "title": {
            "standoff": 15
           },
           "zerolinecolor": "white",
           "zerolinewidth": 2
          },
          "yaxis": {
           "automargin": true,
           "gridcolor": "white",
           "linecolor": "white",
           "ticks": "",
           "title": {
            "standoff": 15
           },
           "zerolinecolor": "white",
           "zerolinewidth": 2
          }
         }
        }
       }
      },
      "text/html": [
       "<div>                            <div id=\"007a543e-b5fc-4483-8721-680ee98fa49a\" class=\"plotly-graph-div\" style=\"height:525px; width:100%;\"></div>            <script type=\"text/javascript\">                require([\"plotly\"], function(Plotly) {                    window.PLOTLYENV=window.PLOTLYENV || {};                                    if (document.getElementById(\"007a543e-b5fc-4483-8721-680ee98fa49a\")) {                    Plotly.newPlot(                        \"007a543e-b5fc-4483-8721-680ee98fa49a\",                        [{\"mode\": \"markers\", \"text\": [\"Fernando Tatis Jr.\", \"Vladimir Guerrero Jr.\", \"Juan Soto\", \"Shohei Ohtani\", \"Jose Ramirez\", \"Aaron Judge\", \"Trea Turner\", \"Bo Bichette\", \"Rafael Devers\", \"Bryce Harper\", \"Ronald Acuna Jr.\", \"Freddie Freeman\", \"Mike Trout\", \"Pete Alonso\", \"Kyle Tucker\", \"Luis Robert\", \"Yordan Alvarez\", \"Salvador Perez\", \"Manny Machado\", \"Mookie Betts\", \"Matt Olson\", \"Ozzie Albies\", \"Giancarlo Stanton\", \"Tyler O'Neill\", \"Paul Goldschmidt\", \"Teoscar Hernandez\", \"Austin Riley\", \"George Springer\", \"Tim Anderson\", \"Franmil Reyes\", \"Byron Buxton\", \"Cedric Mullins II\", \"J.D. Martinez\", \"Nolan Arenado\", \"Eloy Jimenez\", \"Adalberto Mondesi\", \"Xander Bogaerts\", \"Jared Walsh\", \"Marcus Semien\", \"Nick Castellanos\", \"Wander Franco\", \"Francisco Lindor\", \"Jose Abreu\", \"Randy Arozarena\", \"Gleyber Torres\", \"Jose Altuve\", \"Carlos Correa\", \"Trevor Story\", \"Robert Witt\", \"Bryan Reynolds\", \"Josh Bell\", \"Ryan Mountcastle\", \"Starling Marte\", \"Corey Seager\", \"Alex Bregman\", \"Nelson Cruz\", \"Christian Yelich\", \"Joey Gallo\", \"C.J. Cron\", \"Jorge Polanco\", \"Whit Merrifield\", \"Ketel Marte\", \"Rhys Hoskins\", \"Jesse Winker\", \"Eddie Rosario\", \"J.T. Realmuto\", \"Will Smith\", \"Joey Votto\", \"Brandon Lowe\", \"Kyle Schwarber\", \"Spencer Torkelson\", \"Ian Happ\", \"Yasmani Grandal\", \"Marcell Ozuna\", \"Max Muncy\", \"Jorge Soler\", \"Ty France\", \"Anthony Rizzo\", \"Josh Donaldson\", \"Lourdes Gurriel Jr.\", \"DJ LeMahieu\", \"Miguel Sano\", \"Cody Bellinger\", \"Jonathan India\", \"Javier Baez\", \"Trey Mancini\", \"Hunter Renfroe\", \"Frank Schwindel\", \"Avisail Garcia\", \"Mitch Haniger\", \"Alex Verdugo\", \"Justin Turner\", \"Austin Meadows\", \"Tommy Edman\", \"Bobby Dalbec\", \"Nathaniel Lowe\", \"Adam Duvall\", \"Michael Conforto\", \"Trent Grisham\", \"Austin Hays\", \"Oneil Cruz\", \"Luke Voit\", \"Anthony Rendon\", \"Yoan Moncada\", \"Kris Bryant\", \"Yuli Gurriel\", \"Dansby Swanson\", \"Eric Hosmer\", \"Enrique Hernandez\", \"Willy Adames\", \"A.J. Pollock\", \"Tommy Pham\", \"Daulton Varsho\", \"Adolis Garcia\", \"Willson Contreras\", \"Jake Cronenworth\", \"Akil Baddoo\", \"Travis d'Arnaud\", \"Jazz Chisholm Jr.\", \"Ryan McMahon\", \"Charlie Blackmon\", \"Jonathan Schoop\", \"Anthony Santander\", \"Brendan Rodgers\", \"Wil Myers\", \"Andrew Benintendi\", \"Jean Segura\", \"Harrison Bader\", \"Amed Rosario\", \"Chris Taylor\", \"Ke'Bryan Hayes\", \"Dylan Carlson\", \"Jesus Sanchez\", \"Keibert Ruiz\", \"Ramon Laureano\", \"Luis Arraez\", \"Michael Brantley\", \"Max Kepler\", \"Luis Urias\", \"Willie Calhoun\", \"Kolten Wong\", \"Gio Urshela\", \"Jo Adell\", \"Matt Chapman\", \"Jarred Kelenic\", \"Jeimer Candelario\", \"Brandon Crawford\", \"Alejandro Kirk\", \"Brandon Belt\", \"Brandon Nimmo\", \"Robbie Grossman\", \"Adley Rutschman\", \"Andrew McCutchen\", \"David Fletcher\", \"Patrick Wisdom\", \"Lorenzo Cain\", \"Manuel Margot\", \"Yandy Diaz\", \"Jesus Aguilar\", \"Tyler Stephenson\", \"Joc Pederson\", \"Nick Madrigal\", \"Alex Kirilloff\", \"Randal Grichuk\", \"Eugenio Suarez\", \"Eduardo Escobar\", \"Danny Jansen\", \"J.P. Crawford\", \"Mark Canha\", \"Raimel Tapia\", \"Mike Yastrzemski\", \"Jarren Duran\", \"Tyler Naquin\", \"Sean Murphy\", \"Andrew Vaughn\", \"Mitch Garver\", \"Orlando Arcia\", \"Gavin Sheets\", \"Yoshi Tsutsugo\", \"Kyle Lewis\", \"Nico Hoerner\", \"Myles Straw\", \"Aaron Hicks\", \"Nicky Lopez\", \"Rowdy Tellez\", \"Andres Gimenez\", \"Alec Bohm\", \"Gary Sanchez\", \"Miguel Rojas\", \"Lane Thomas\", \"Seth Brown\", \"Jose Miranda\", \"Rafael Ortega\", \"David Peralta\", \"Bobby Bradley\", \"Bryan De La Cruz\", \"Chad Pinder\", \"Joshua Jung\", \"Matt Vierling\", \"LaMonte Wade Jr.\", \"Tommy La Stella\", \"Carson Kelly\", \"Yadier Molina\", \"Miguel Cabrera\", \"Elias Diaz\", \"Michael A. Taylor\", \"Santiago Espinal\", \"Jonathan Villar\", \"Tony Kemp\", \"Adam Frazier\", \"Cesar Hernandez\", \"Didi Gregorius\", \"Josh Rojas\", \"Max Stassi\", \"Abraham Toro\", \"Garrett Hampson\", \"Josh Harrison\", \"Christian Vazquez\", \"Cavan Biggio\", \"Evan Longoria\", \"Jake Meyers\", \"Carter Kieboom\", \"Kyle Farmer\", \"Jorge Alfaro\", \"Paul DeJong\", \"Mike Zunino\", \"Brandon Marsh\", \"Kyle Isbel\", \"Stephen Piscotty\", \"Corey Dickerson\", \"Omar Narvaez\", \"Hunter Dozier\", \"Sam Hilliard\", \"Ramon Urias\", \"Jose Iglesias\", \"Anthony Alford\", \"Jacob Stallings\", \"Jurickson Profar\", \"Kole Calhoun\", \"Roberto Perez\", \"Connor Joe\", \"Kevin Kiermaier\", \"Ji-Man Choi\", \"Luis Garcia\", \"Jeff McNeil\", \"Jeremy Pena\", \"Mike Moustakas\", \"Jonah Heim\", \"Mitch Moreland\", \"Yadiel Hernandez\", \"James McCann\", \"Brian Anderson\", \"Austin Hedges\", \"Ben Gamel\", \"Nick Solak\", \"Steven Kwan\", \"Pavin Smith\", \"Martin Maldonado\", \"Andrelton Simmons\", \"Jake Fraley\", \"Eric Haase\", \"Austin Nola\", \"Robinson Cano\", \"Jed Lowrie\", \"Elvis Andrus\", \"Joey Bart\", \"Carlos Santana\", \"Luis Torrens\", \"Brad Miller\", \"Michael Chavis\", \"Cal Raleigh\", \"Kevin Smith\", \"Leury Garcia\", \"Darin Ruf\", \"Kevin Plawecki\", \"Christian Walker\", \"Adam Haseley\", \"Austin Allen\", \"Nick Ahmed\", \"Alcides Escobar\", \"Tyrone Taylor\", \"Gregory Polanco\", \"Yan Gomes\", \"Francisco Mejia\", \"Jason Heyward\", \"Donovan Solano\", \"Manny Pina\", \"Tucker Barnhart\", \"Jose Trevino\", \"Kyle Higashioka\", \"Adam Engel\", \"Wilmer Flores\", \"Taylor Walls\", \"Kevin Newman\", \"Rougned Odor\", \"T.J. Friedl\", \"Dexter Fowler\", \"Justin Upton\", \"Aledmys Diaz\", \"Kelvin Gutierrez\", \"Ha-seong Kim\", \"Odubel Herrera\", \"Tom Murphy\", \"Victor Robles\", \"Alex Dickerson\", \"Trevor Larnach\", \"Alan Trejo\", \"Pedro Severino\", \"Aristides Aquino\", \"Dylan Moore\", \"Joey Wendle\", \"Jordan Luplow\", \"Edmundo Sosa\", \"Victor Caratini\", \"Riley Adams\", \"Brett Gardner\", \"Andy Ibanez\", \"Jorge Mateo\", \"Wilson Ramos\", \"Dom Nunez\", \"Jake McCarthy\", \"Tyler Wade\", \"Colin Moran\", \"Cooper Hummel\", \"Isiah Kiner-Falefa\", \"Mickey Moniak\", \"Gavin Lux\", \"Ryan Jeffers\", \"Steven Duggar\", \"Jackie Bradley Jr.\", \"Kevin Pillar\", \"Bradley Zimmer\", \"Ryan Zimmerman\", \"Curt Casali\", \"Austin Slater\", \"Marwin Gonzalez\", \"Mervyl Melendez\", \"Bryson Stott\", \"Colton Welker\", \"Nicholas Pratto\", \"Austin Barnes\", \"Garrett Cooper\", \"Josh Naylor\", \"Brent Rooker\", \"Seth Beer\", \"Stephen Vogt\", \"Oscar Mercado\", \"Andrew Knizner\", \"Victor Reyes\", \"Tomas Nido\", \"Yonathan Daza\", \"Nick Fortes\", \"Chas McCormick\", \"Starlin Castro\", \"Yoenis Cespedes\", \"Lewin Diaz\", \"Riley Greene\", \"Jason Castro\", \"Khris Davis\", \"Kurt Suzuki\", \"Jose Siri\", \"Andrew Stevenson\", \"Albert Pujols\", \"Josh VanMeter\", \"Mike Brosseau\", \"Shed Long Jr.\", \"Matt Beaty\", \"Nomar Mazara\", \"Austin Romine\", \"Danny Santana\", \"Nolan Jones\", \"Michael Perez\", \"Thairo Estrada\", \"J.D. Davis\", \"Sandy Leon\", \"Robinson Chirinos\", \"Matt Duffy\", \"Cole Tucker\", \"Harold Ramirez\", \"Andrew Knapp\", \"Evan White\", \"Asdrubal Cabrera\", \"Luis Rengifo\", \"Christian Arroyo\", \"Justin Smoak\", \"Cam Gallagher\", \"Lars Nootbaar\", \"Brett Phillips\", \"Luke Williams\", \"Yu Chang\", \"Phil Gosselin\", \"Seby Zavala\", \"Zack Collins\", \"Ian Desmond\", \"Garrett Stubbs\", \"Ronald Guzman\", \"Adam Eaton\", \"Bryan Lavastida\", \"D.J. Stewart\", \"Cody Thomas\", \"Travis Shaw\", \"Jake Marisnick\", \"Lewis Brinson\", \"Reese McGuire\", \"Dominic Smith\", \"Ben Rortvedt\", \"Luke Maile\", \"Leody Taveras\", \"Alek Thomas\", \"Aaron Altherr\", \"Derek Hill\", \"Clint Frazier\", \"Estevan Florial\", \"Nick Gordon\", \"Nick Senzel\", \"Monte Harrison\", \"Jarrod Dyson\", \"Jake Lamb\", \"Johan Camargo\", \"Jake Rogers\", \"Anthony Bemboom\", \"Daniel Vogelbach\", \"Matt Thaiss\", \"Cristian Pache\", \"Niko Goodrum\", \"Nicholas Allen\", \"Greg Allen\", \"Tony Wolters\", \"Chance Sisco\", \"Vidal Brujan\", \"Brock Holt\", \"Matt Carpenter\", \"Shogo Akiyama\", \"Dustin Garneau\", \"David Bote\", \"Jace Peterson\", \"Miguel Andujar\", \"Jose Lobaton\", \"Rob Refsnyder\", \"Alex Jackson\", \"Rafael Marchan\", \"Drew Butera\", \"Zach McKinstry\", \"Jose Herrera\", \"Rylan Bannon\", \"Brian Goodwin\", \"James Ritchie\", \"Daz Cameron\", \"Chad Wallach\", \"Rene Pinto\", \"Tim Locastro\", \"Korey Lee\", \"William Contreras\", \"Mark Kolozsvary\", \"Brett Cumberland\", \"Keston Hiura\", \"Connor Wong\", \"Triston Casas\", \"Jake Bauers\", \"Juan Lagares\", \"Ali Sanchez\", \"Patrick Mazeika\", \"Max Schrock\", \"Michael Hermosillo\", \"Samuel Huff\", \"Charlie Culberson\", \"Payton Henry\", \"Tres Barrera\", \"Rob Brantly\", \"Luis Campusano\", \"Ronald Torreyes\", \"Brian Serven\", \"Jose Barrero\", \"Luis Barrera\", \"John Nogowski\", \"Fabian Pena\", \"Guillermo Heredia\", \"Sergio Alcantara\", \"Zach Reks\", \"P.J. Higgins\", \"Collin Theroux\", \"Joe Panik\", \"Steven Souza Jr.\", \"Sebastian Rivero\", \"Hunter Feduccia\", \"Ehire Adrianza\", \"Edward Olivares\", \"Chadwick Tromp\", \"Brett Sullivan\", \"Andrew Velazquez\", \"Heliot Ramos\", \"Eli White\", \"Romy Gonzalez\", \"Jack Mayfield\", \"Travis Swaggerty\", \"Danny Mendick\", \"Josh Reddick\", \"Matt Joyce\", \"Jon Berti\", \"Harold Castro\", \"Roman Quinn\", \"Nolan Gorman\", \"Eric Sogard\", \"Owen Miller\", \"Jordy Mercer\", \"Alfonso Rivas III\", \"Travis Jankowski\", \"Ryan Vilade\", \"Vimael Machin\", \"Andrew Waters\", \"Juan Yepez\", \"Jacob Nottingham\", \"Jose Peraza\", \"Christin Stewart\", \"Hoy Park\", \"Mason Martin\", \"Luis Guillorme\", \"Emmanuel Rivera\", \"Billy Hamilton\", \"Drew Ellis\", \"Renato Nunez\", \"Maikel Franco\", \"Chris Owings\", \"Scott Kingery\", \"Oswaldo Cabrera\", \"Luke Raley\", \"Jahmai Jones\", \"Daniel Robertson\", \"Josh Palacios\", \"Taylor Trammell\", \"Jose Rondon\", \"Wilmer Difo\", \"Nelson Velazquez\", \"Josh Lowe\", \"Jared Oliva\", \"Franchy Cordero\", \"Edwin Rios\", \"Ryan McKenna\", \"Jake Burger\", \"Jonathan Aranda\", \"Mauricio Dubon\", \"Richard Palacios\", \"Geraldo Perdomo\", \"Gilberto Celestino\", \"Tyler Nevin\", \"Michael Stefanic\", \"Donovan Casey\", \"Jaylin Davis\", \"Isaac Paredes\", \"Lucius Fox\", \"Isan Diaz\", \"Skye Bolt\", \"Jordan Groshans\", \"Taylor Jones\", \"Willi Castro\", \"Travis Demeritte\", \"Khalil Lee\", \"Brennen Davis\", \"Daniel Johnson\", \"Oswald Peraza\", \"Micker Adolfo\", \"Elehuris Montero\", \"Pablo Reyes\", \"Ryan O'Hearn\", \"Edmund Burdick\", \"Nick Maton\", \"Yusniel Diaz\", \"Ernie Clement\", \"Jake Cave\", \"Jason Vosler\", \"Ender Inciarte\", \"William Benson\", \"Jesus Quiroz\", \"Stuart Fairchild\", \"Jonathan Arauz\", \"Jeffrey Bleday\", \"Kevin Padlo\", \"Brendan Donovan\", \"Jonathan Davis\", \"Taylor Ward\", \"Yonny Hernandez\", \"Brendon Davis\", \"Logan Warmoth\", \"Michael Reed\", \"Kody Clemens\", \"Ryan Kreidler\", \"Tyler White\", \"Rodolfo Castro\", \"Corey Ray\", \"Kyle Garlick\", \"Clifton Kennedy\", \"Mark Vientos\", \"Greg Cullen\", \"Richie Martin\", \"Zack Short\", \"Jedd Gyorko\", \"Anthony Dungan\", \"Tucupita Marcano\", \"Alex De Goti\", \"Donovan Walton\", \"Diego Castillo\", \"Jose Rojas\", \"Simon Muzziotti\", \"Luis Liberato\", \"Jorge Ona\", \"Austin Dean\", \"David Dahl\", \"Andrew Bechtold\", \"Pedro Leon\", \"Lane Adams\", \"Blake Rutherford\", \"Travis Blankenhorn\", \"Kyle Stowers\", \"Anderson Tejeda\", \"Jake Noll\", \"Alejo Lopez\", \"Yolbert Sanchez\", \"Kyle Holder\", \"Jake Hager\", \"Spencer Steer\", \"Tim Lopes\", \"Miles Mastrobuoni\", \"Adrian Sanchez\", \"Jacob Amaya\", \"Trent Giambrone\", \"Jeter Downs\", \"Eguy Rosario\", \"Andy Young\", \"Jacob deGrom\", \"Max Scherzer\", \"Gerrit Cole\", \"Corbin Burnes\", \"Zack Wheeler\", \"Shane Bieber\", \"Brandon Woodruff\", \"Aaron Nola\", \"Justin Verlander\", \"Robbie Ray\", \"Charlie Morton\", \"Carlos Rodon\", \"Chris Sale\", \"Liam Hendriks\", \"Josh Hader\", \"Joe Musgrove\", \"Logan Webb\", \"Pablo Lopez\", \"Walker Buehler\", \"Edwin Diaz\", \"Sean Manaea\", \"Sandy Alcantara\", \"Kevin Gausman\", \"Trevor Rogers\", \"Max Fried\", \"Blake Snell\", \"Aroldis Chapman\", \"Yu Darvish\", \"Jack Flaherty\", \"Shohei Ohtani\", \"Frankie Montas\", \"Raisel Iglesias\", \"Emmanuel Clase\", \"Clayton Kershaw\", \"Mike Clevinger\", \"Julio Urias\", \"Freddy Peralta\", \"Shane McClanahan\", \"Jose Berrios\", \"Alex Wood\", \"Ryan Pressly\", \"Lucas Giolito\", \"Taylor Rogers\", \"Nathan Eovaldi\", \"Lance Lynn\", \"Jordan Romano\", \"Luis Castillo\", \"Eduardo Rodriguez\", \"Carlos Carrasco\", \"Giovanny Gallegos\", \"Dylan Cease\", \"Framber Valdez\", \"Blake Treinen\", \"Shane Baz\", \"Chris Bassitt\", \"Lance McCullers Jr.\", \"Will Smith\", \"Andrew Kittredge\", \"Lucas Sims\", \"Michael Kopech\", \"Zac Gallen\", \"Alex Cobb\", \"David Bednar\", \"Ranger Suarez\", \"Steven Matz\", \"Alek Manoah\", \"Hyun-Jin Ryu\", \"Camilo Doval\", \"Scott Barlow\", \"Tarik Skubal\", \"Tylor Megill\", \"Aaron Ashby\", \"Andrew Heaney\", \"Corey Knebel\", \"Gregory Soto\", \"Logan Gilbert\", \"Jordan Montgomery\", \"Garrett Whitlock\", \"Trevor Bauer\", \"Pierce Johnson\", \"Dinelson Lamet\", \"Tyler Mahle\", \"Devin Williams\", \"Matt Barnes\", \"Patrick Sandoval\", \"Jose Alvarado\", \"Rowan Wick\", \"Sixto Sanchez\", \"Yusei Kikuchi\", \"Huascar Ynoa\", \"Mark Melancon\", \"Elieser Hernandez\", \"Craig Kimbrel\", \"Pete Fairbanks\", \"Anthony Bender\", \"Tyler Wells\", \"Aaron Bummer\", \"Adam Wainwright\", \"Joe Ryan\", \"Brusdar Graterol\", \"Trevor May\", \"Ian Anderson\", \"Luis Severino\", \"Sonny Gray\", \"Seth Lugo\", \"Anthony DeSclafani\", \"Patrick Corbin\", \"Dylan Floro\", \"Jonathan Loaisiga\", \"Paul Sewald\", \"John Means\", \"Jake McGee\", \"Luis Garcia\", \"Dustin May\", \"Drew Rasmussen\", \"Tyler Matzek\", \"Kyle Finnegan\", \"Zach Eflin\", \"Stephen Strasburg\", \"Genesis Cabrera\", \"Chad Green\", \"Caleb Ferguson\", \"Mike Minor\", \"Tommy Kahnle\", \"Lou Trivino\", \"Jose Quintana\", \"James Karinchak\", \"Diego Castillo\", \"Matthew Boyd\", \"Danny Duffy\", \"Jake Diekman\", \"Chris Paddack\", \"Miles Mikolas\", \"Marcus Stroman\", \"Taijuan Walker\", \"Trevor Williams\", \"Garrett Crochet\", \"Daniel Hudson\", \"Tanner Houck\", \"Jon Gray\", \"Ken Giles\", \"Alex Reyes\", \"JT Brubaker\", \"A.J. Puk\", \"Jesus Luzardo\", \"Michael Fulmer\", \"Hector Neris\", \"David Peterson\", \"Luis Garcia\", \"Andres Munoz\", \"Bailey Ober\", \"Corey Kluber\", \"Sam Coonrod\", \"Richard Bleier\", \"Collin McHugh\", \"Bailey Falter\", \"Reid Detmers\", \"Jordan Hicks\", \"Luke Jackson\", \"Domingo German\", \"Art Warren\", \"Joe Barlow\", \"Alex Vesia\", \"David Price\", \"Luis Patino\", \"Jake Cousins\", \"Adbert Alzolay\", \"A.J. Minter\", \"Kirby Yates\", \"Tim Mayza\", \"Luke Weaver\", \"Matt Wisler\", \"Jake Odorizzi\", \"Tanner Scott\", \"Craig Stammen\", \"Tim Hill\", \"Nick Sandlin\", \"Brooks Raley\", \"Drew Steckenrider\", \"Brady Singer\", \"Kyle Gibson\", \"Eric Lauer\", \"Roansy Contreras\", \"Josh Taylor\", \"Emilio Pagan\", \"Miguel Castro\", \"Julian Merryweather\", \"JT Chargois\", \"Mike Mayers\", \"Zack Greinke\", \"Colin Poche\", \"Jorge Alcala\", \"Kendall Graveman\", \"Aaron Loup\", \"Steven Okert\", \"Mike Soroka\", \"Edward Cabrera\", \"Tanner Rainey\", \"Phil Bickford\", \"Jay Jackson\", \"Anthony Misiewicz\", \"Nicholas Lodolo\", \"Reynaldo Lopez\", \"Dominic Leone\", \"Ryne Stanek\", \"Jose Urquidy\", \"Chris Stratton\", \"Kenley Jansen\", \"Joe Kelly\", \"Austin Adams\", \"Brad Wieck\", \"Louis Head\", \"Ryan Thompson\", \"Matthew Brash\", \"Jorge Lopez\", \"Dane Dunning\", \"Daniel Norris\", \"Joely Rodriguez\", \"Ryan Tepera\", \"Josh Staumont\", \"Connor Brogdon\", \"Chris Flexen\", \"Nestor Cortes\", \"Michael King\", \"Tucker Davidson\", \"James Paxton\", \"Reiver Sanmartin\", \"Nate Pearson\", \"Jake Brentz\", \"Cole Sulser\", \"James Kaprielian\", \"Chris Martin\", \"Dylan Coleman\", \"Casey Sadler\", \"Caleb Thielbar\", \"Jose Leclerc\", \"David Robertson\", \"Brent Suter\", \"Cody Morris\", \"Andrew Chafin\", \"Javy Guerra\", \"Yonny Chirinos\", \"Sean Newcomb\", \"Carlos Estevez\", \"Jameson Taillon\", \"Tony Gonsolin\", \"Zack Littell\", \"Anthony Bass\", \"Jarlin Garcia\", \"Yimi Garcia\", \"Ian Kennedy\", \"Glenn Otto\", \"Dillon Peters\", \"Derek Holland\", \"Amir Garrett\", \"Cristian Javier\", \"Sammy Long\", \"Sam Howard\", \"Heath Hembree\", \"Brandon Williamson\", \"Triston McKenzie\", \"Josh Sborz\", \"Seranthony Dominguez\", \"Noah Syndergaard\", \"Christian Greene\", \"Ross Stripling\", \"Daulton Jefferies\", \"Matt Strahm\", \"Caleb Smith\", \"Sam Hentges\", \"Victor Gonzalez\", \"Jose Quijada\", \"Phil Maton\", \"Will Harris\", \"Patrick Murphy\", \"Erik Swanson\", \"Trevor Richards\", \"Brad Hand\", \"Trevor Rosenthal\", \"Touki Toussaint\", \"Hansel Robles\", \"Nick Pivetta\", \"Zach Pop\", \"John Brebbia\", \"Sean Reid-Foley\", \"Clay Holmes\", \"Griffin Canning\", \"Tyler Duffey\", \"John King\", \"Angel Perdomo\", \"Kent Emanuel\", \"Adam Ottavino\", \"Austin Voth\", \"Codi Heuer\", \"Justin Steele\", \"Ryan Helsley\", \"Jesse Chavez\", \"Matthew Liberatore\", \"Tony Santillan\", \"Jose Cisnero\", \"Mychal Givens\", \"Hunter Harvey\", \"Nick Nelson\", \"JC Mejia\", \"Kyle Wright\", \"Paul Blackburn\", \"Drew Smith\", \"Tyler Rogers\", \"Jeurys Familia\", \"T.J. Zeuch\", \"Anthony Banda\", \"Trevor Stephan\", \"Ross Detwiler\", \"Junior Fernandez\", \"Jonathan Hernandez\", \"Ryne Nelson\", \"MacKenzie Gore\", \"Manuel Rodriguez\", \"Sean Poppen\", \"Ryan Weathers\", \"Joe Ross\", \"Jeff Hoffman\", \"Ryan Borucki\", \"Domingo Acevedo\", \"Darwinzon Hernandez\", \"Paul Fry\", \"Nick Wittgren\", \"Nick Snyder\", \"Tony Watson\", \"Daniel Bard\", \"Dylan Lee\", \"Danny Coulombe\", \"Rafael Montero\", \"Justus Sheffield\", \"Evan Phillips\", \"Andrew Wantz\", \"Jose Alvarez\", \"Kervin Castro\", \"Lucas Luetge\", \"Anthony Castro\", \"German Marquez\", \"Adam Morgan\", \"Spencer Patton\", \"Joe Mantiply\", \"Brent Honeywell\", \"Sam Moll\", \"Luis Gil\", \"T.J. McFarland\", \"Blake Cederlind\", \"J.B. Wendelken\", \"Oliver Drake\", \"Deolis Guerra\", \"Luis Cessa\", \"Jose Ruiz\", \"Jalen Beeks\", \"Kyle McGowin\", \"Josh Fleming\", \"Brad Boxberger\", \"Grayson Rodriguez\", \"Brett Martin\", \"Trevor Gott\", \"Kodi Whitley\", \"Nicholas Mikolajchak\", \"Scott Effross\", \"Dillon Tate\", \"Josiah Gray\", \"Logan Allen\", \"Jackson Kowar\", \"Gabe Speier\", \"Jesse Hahn\", \"Michael Wacha\", \"Francisco Perez\", \"Justin Bruihl\", \"Oliver Perez\", \"Ethan Small\", \"Jakob Junis\", \"Jandel Gustave\", \"Dellin Betances\", \"Tommy Nance\", \"Eli Morgan\", \"Aaron Civale\", \"Joe Jimenez\", \"Tobias Myers\", \"Kyle Muller\", \"Scott Kazmir\", \"Ryan Sherriff\", \"Juan Minaya\", \"Taylor Widener\", \"Mitch Keller\", \"Jacob Webb\", \"Tyler Chatwood\", \"Fernando Abad\", \"Jake Reed\", \"Wandy Peralta\", \"Steven Cavalli\", \"Marco Gonzales\", \"Alex Colome\", \"Chaz Roe\", \"Michael Pineda\", \"Michael Rucker\", \"Jordan Yamamoto\", \"Jace Fry\", \"Hirokazu Sawamura\", \"Jimmy Lambert\", \"Cionel Perez\", \"Cody Stashak\", \"Sean Hjelle\", \"Austin Warren\", \"Chris Archer\", \"Sean Doolittle\", \"Casey Mize\", \"Wander Suero\", \"Paul Campbell\", \"Jovani Moran\", \"Cole Hamels\", \"Duane Underwood Jr.\", \"Merrill Kelly\", \"Kolby Allard\", \"Joe Smith\", \"Nick Mears\", \"Rafael Dolis\", \"Martin Perez\", \"Miguel Del Pozo\", \"Greg Holland\", \"Kwang-hyun Kim\", \"Ryan Hendrix\", \"Tyler Alexander\", \"Zach Thompson\", \"Dauri Moreta\", \"Shane Greene\", \"Dillon Maples\", \"Jose Suarez\", \"Jordan Holloway\", \"Robert Stephenson\", \"Justin Wilson\", \"Jon Heasley\", \"Justin Anderson\", \"Noe Ramirez\", \"Thyago Vieira\", \"Blake Parker\", \"Paolo Espino\", \"Hunter Strickland\", \"Alex Claudio\", \"Richard Rodriguez\", \"Brad Brach\", \"Drew Smyly\", \"Kyle Tyler\", \"Kyle Funkhouser\", \"J.P. Feyereisen\", \"J.B. Bukauskas\", \"Spencer Howard\", \"Kyle Hendricks\", \"Adrian Houser\", \"Adam Cimber\", \"Tommy Hunter\", \"Wil Crowe\", \"Andrew Miller\", \"Ryan Brasier\", \"Michael Feliz\", \"Daniel Lynch\", \"Alexander Wells\", \"Matt Peacock\", \"Joel Payamps\", \"Albert Abreu\", \"Jake Woodford\", \"Ervin Santana\", \"Chad Kuhl\", \"Austin Davis\", \"Ryan Burr\", \"Cole Irvin\", \"Mason Thompson\", \"Kris Bubic\", \"Vince Velasquez\", \"Ryne Harper\", \"Blake Taylor\", \"Andre Jackson\", \"Robert Gsellman\", \"Adam Kolarek\", \"Nick Neidert\", \"Harrison Holmes\", \"Alex Lange\", \"Kyle Bradish\", \"Brandon Kintzler\", \"Caleb Baragar\", \"Jason Foley\", \"Zach Plesac\", \"Brandon Workman\", \"Dennis Santana\", \"Hunter Stratton\", \"Hans Crouse\", \"Taylor Clarke\", \"Junior Guerra\", \"Demarcus Evans\", \"Josh Tomlin\", \"Tyler Clippard\", \"Matt Shoemaker\", \"Erick Fedde\", \"Sergio Romo\", \"Yency Almonte\", \"Archie Bradley\", \"Chasen Shreve\", \"Madison Bumgarner\", \"Eric Hanhold\", \"Matt Harvey\", \"Jharel Cotton\", \"Andres Machado\", \"Dakota Hudson\", \"Jimmy Herget\", \"Keegan Thompson\", \"Tanner Roark\", \"Alec Mills\", \"Dan Winkler\", \"Ryan Yarbrough\", \"Justin Dunn\", \"Cole Winn\", \"AJ Ramos\", \"Joey Krehbiel\", \"Wade Miley\", \"Tyler Beede\", \"Brad Keller\", \"Cal Quantrill\", \"Bryan Shaw\", \"Phillips Valdez\", \"Trevor Cahill\", \"Felix Bautista\", \"Brett Anderson\", \"Jaime Barria\", \"Corbin Martin\", \"Jordan Balazovic\", \"Johnny Cueto\", \"Garrett Richards\", \"J.A. Happ\", \"Domingo Tapia\", \"Wade LeBlanc\", \"Lewis Thorpe\", \"Tyler Kinley\", \"Tyler Anderson\", \"Dean Kremer\", \"Michael Lorenzen\", \"Jhoulys Chacin\", \"Keegan Akin\", \"Pedro Baez\", \"Steve Cishek\", \"Bryan Garcia\", \"Nick Martinez\", \"Mike Baumann\", \"Ralph Garza\", \"Rich Hill\", \"Tyler Gilbert\", \"Josh Winder\", \"Bruce Zimmermann\", \"Ryan Rolison\", \"Zac Lowther\", \"Taylor Hearn\", \"Dylan Bundy\", \"Justin Lawrence\", \"Jake Arrieta\", \"Joseph Wentz\", \"Yusmeiro Petit\", \"Carlos Hernandez\", \"Jose Urena\", \"Randy Dobnak\", \"Lucas Gilbreath\", \"Matt Manning\", \"Josh Rogers\", \"Ryan Feltner\", \"Bryse Wilson\", \"Jordan Sheffield\", \"Austin Gomber\", \"Steven Brault\", \"Wily Peralta\", \"Peter Lambert\", \"Mike Foltynewicz\", \"Julio Teheran\", \"Matt Moore\", \"Carlos Martinez\", \"Aaron Sanchez\", \"Dallas Keuchel\", \"Robert Suarez\", \"Anthony Gose\", \"A.J. Alexy\", \"Chase Anderson\", \"Griffin Jax\", \"Jon Lester\", \"Dan Straily\", \"Kyle Freeland\", \"Vladimir Gutierrez\", \"Mike Fiers\", \"Zach Davies\", \"Jordan Lyles\", \"Antonio Senzatela\"], \"type\": \"scatter\", \"x\": [\"SS\", \"1B\", \"OF\", \"OF\", \"3B\", \"OF\", \"2B\", \"SS\", \"3B\", \"OF\", \"OF\", \"1B\", \"OF\", \"1B\", \"OF\", \"OF\", \"OF\", \"C\", \"3B\", \"2B\", \"1B\", \"2B\", \"OF\", \"OF\", \"1B\", \"OF\", \"3B\", \"OF\", \"SS\", \"OF\", \"OF\", \"OF\", \"OF\", \"3B\", \"OF\", \"3B\", \"SS\", \"1B\", \"2B\", \"OF\", \"3B\", \"SS\", \"1B\", \"OF\", \"2B\", \"2B\", \"SS\", \"SS\", \"SS\", \"OF\", \"1B\", \"1B\", \"OF\", \"SS\", \"3B\", \"DH\", \"OF\", \"OF\", \"1B\", \"2B\", \"2B\", \"2B\", \"1B\", \"OF\", \"OF\", \"C\", \"C\", \"1B\", \"2B\", \"1B\", \"3B\", \"2B\", \"C\", \"OF\", \"3B\", \"OF\", \"3B\", \"1B\", \"3B\", \"1B\", \"3B\", \"3B\", \"OF\", \"2B\", \"2B\", \"1B\", \"OF\", \"1B\", \"OF\", \"OF\", \"OF\", \"3B\", \"OF\", \"2B\", \"3B\", \"1B\", \"OF\", \"OF\", \"OF\", \"OF\", \"SS\", \"1B\", \"3B\", \"3B\", \"3B\", \"1B\", \"SS\", \"1B\", \"2B\", \"SS\", \"OF\", \"OF\", \"C\", \"OF\", \"C\", \"2B\", \"OF\", \"C\", \"2B\", \"3B\", \"OF\", \"2B\", \"OF\", \"2B\", \"OF\", \"OF\", \"2B\", \"OF\", \"SS\", \"3B\", \"3B\", \"OF\", \"OF\", \"C\", \"OF\", \"3B\", \"OF\", \"OF\", \"3B\", \"OF\", \"2B\", \"3B\", \"OF\", \"3B\", \"OF\", \"3B\", \"SS\", \"C\", \"1B\", \"OF\", \"OF\", \"C\", \"OF\", \"2B\", \"3B\", \"OF\", \"OF\", \"3B\", \"1B\", \"C\", \"OF\", \"2B\", \"1B\", \"OF\", \"3B\", \"3B\", \"C\", \"SS\", \"OF\", \"OF\", \"OF\", \"OF\", \"OF\", \"C\", \"1B\", \"C\", \"SS\", \"1B\", \"1B\", \"OF\", \"2B\", \"OF\", \"OF\", \"SS\", \"1B\", \"2B\", \"3B\", \"C\", \"SS\", \"OF\", \"1B\", \"3B\", \"OF\", \"OF\", \"1B\", \"OF\", \"3B\", \"3B\", \"1B\", \"1B\", \"3B\", \"C\", \"C\", \"1B\", \"C\", \"OF\", \"3B\", \"3B\", \"2B\", \"2B\", \"2B\", \"SS\", \"3B\", \"C\", \"3B\", \"2B\", \"3B\", \"C\", \"3B\", \"3B\", \"OF\", \"3B\", \"3B\", \"C\", \"SS\", \"C\", \"OF\", \"OF\", \"OF\", \"OF\", \"C\", \"3B\", \"OF\", \"3B\", \"2B\", \"OF\", \"C\", \"2B\", \"OF\", \"C\", \"1B\", \"OF\", \"1B\", \"2B\", \"2B\", \"SS\", \"3B\", \"C\", \"1B\", \"OF\", \"C\", \"3B\", \"C\", \"OF\", \"2B\", \"OF\", \"1B\", \"C\", \"SS\", \"OF\", \"C\", \"C\", \"2B\", \"2B\", \"SS\", \"C\", \"1B\", \"C\", \"3B\", \"2B\", \"C\", \"3B\", \"3B\", \"1B\", \"C\", \"1B\", \"OF\", \"C\", \"SS\", \"2B\", \"OF\", \"OF\", \"C\", \"C\", \"OF\", \"2B\", \"C\", \"C\", \"C\", \"C\", \"OF\", \"3B\", \"SS\", \"2B\", \"3B\", \"OF\", \"OF\", \"OF\", \"3B\", \"3B\", \"3B\", \"OF\", \"C\", \"OF\", \"OF\", \"OF\", \"2B\", \"C\", \"OF\", \"3B\", \"3B\", \"1B\", \"3B\", \"C\", \"C\", \"OF\", \"3B\", \"3B\", \"C\", \"C\", \"OF\", \"3B\", \"1B\", \"C\", \"SS\", \"OF\", \"2B\", \"C\", \"OF\", \"OF\", \"OF\", \"OF\", \"1B\", \"C\", \"OF\", \"3B\", \"C\", \"SS\", \"3B\", \"1B\", \"C\", \"1B\", \"1B\", \"OF\", \"1B\", \"C\", \"OF\", \"C\", \"OF\", \"C\", \"OF\", \"C\", \"OF\", \"3B\", \"OF\", \"1B\", \"OF\", \"C\", \"DH\", \"C\", \"OF\", \"OF\", \"1B\", \"3B\", \"3B\", \"2B\", \"3B\", \"OF\", \"C\", \"1B\", \"3B\", \"C\", \"2B\", \"3B\", \"C\", \"C\", \"3B\", \"2B\", \"OF\", \"C\", \"1B\", \"3B\", \"3B\", \"2B\", \"1B\", \"C\", \"OF\", \"OF\", \"3B\", \"3B\", \"3B\", \"C\", \"C\", \"SS\", \"C\", \"1B\", \"OF\", \"C\", \"OF\", \"OF\", \"3B\", \"OF\", \"OF\", \"C\", \"1B\", \"C\", \"C\", \"OF\", \"OF\", \"OF\", \"OF\", \"OF\", \"OF\", \"2B\", \"2B\", \"OF\", \"OF\", \"3B\", \"3B\", \"C\", \"C\", \"1B\", \"1B\", \"OF\", \"2B\", \"SS\", \"OF\", \"C\", \"C\", \"2B\", \"3B\", \"3B\", \"OF\", \"C\", \"3B\", \"3B\", \"OF\", \"C\", \"OF\", \"C\", \"C\", \"C\", \"3B\", \"C\", \"3B\", \"OF\", \"C\", \"OF\", \"C\", \"C\", \"OF\", \"C\", \"C\", \"C\", \"C\", \"2B\", \"C\", \"1B\", \"1B\", \"OF\", \"C\", \"C\", \"3B\", \"OF\", \"C\", \"3B\", \"C\", \"C\", \"C\", \"C\", \"3B\", \"C\", \"SS\", \"OF\", \"1B\", \"C\", \"OF\", \"2B\", \"OF\", \"C\", \"C\", \"3B\", \"OF\", \"C\", \"C\", \"3B\", \"OF\", \"C\", \"C\", \"SS\", \"OF\", \"OF\", \"3B\", \"3B\", \"OF\", \"2B\", \"OF\", \"OF\", \"3B\", \"3B\", \"OF\", \"3B\", \"3B\", \"3B\", \"3B\", \"1B\", \"OF\", \"OF\", \"SS\", \"OF\", \"3B\", \"DH\", \"3B\", \"OF\", \"3B\", \"1B\", \"3B\", \"3B\", \"OF\", \"3B\", \"1B\", \"3B\", \"OF\", \"OF\", \"3B\", \"OF\", \"2B\", \"3B\", \"OF\", \"OF\", \"3B\", \"3B\", \"OF\", \"OF\", \"OF\", \"1B\", \"3B\", \"OF\", \"3B\", \"2B\", \"3B\", \"2B\", \"SS\", \"OF\", \"1B\", \"2B\", \"OF\", \"OF\", \"3B\", \"SS\", \"3B\", \"OF\", \"3B\", \"1B\", \"2B\", \"OF\", \"OF\", \"OF\", \"OF\", \"SS\", \"OF\", \"3B\", \"3B\", \"1B\", \"OF\", \"2B\", \"OF\", \"3B\", \"OF\", \"3B\", \"OF\", \"OF\", \"2B\", \"OF\", \"2B\", \"OF\", \"3B\", \"2B\", \"OF\", \"OF\", \"3B\", \"3B\", \"SS\", \"OF\", \"2B\", \"SS\", \"1B\", \"3B\", \"OF\", \"OF\", \"3B\", \"3B\", \"2B\", \"SS\", \"SS\", \"3B\", \"2B\", \"2B\", \"2B\", \"2B\", \"2B\", \"3B\", \"OF\", \"OF\", \"DH\", \"OF\", \"OF\", \"3B\", \"SS\", \"OF\", \"OF\", \"2B\", \"OF\", \"3B\", \"1B\", \"3B\", \"2B\", \"SS\", \"2B\", \"3B\", \"2B\", \"2B\", \"2B\", \"SS\", \"2B\", \"2B\", \"3B\", \"2B\", \"SP\", \"SP\", \"SP\", \"SP\", \"SP\", \"SP\", \"SP\", \"SP\", \"SP\", \"SP\", \"SP\", \"SP\", \"SP\", \"RP\", \"RP\", \"SP\", \"SP\", \"SP\", \"SP\", \"RP\", \"SP\", \"SP\", \"SP\", \"SP\", \"SP\", \"SP\", \"RP\", \"SP\", \"SP\", \"SP\", \"SP\", \"RP\", \"RP\", \"SP\", \"SP\", \"SP\", \"SP\", \"SP\", \"SP\", \"SP\", \"RP\", \"SP\", \"RP\", \"SP\", \"SP\", \"RP\", \"SP\", \"SP\", \"SP\", \"RP\", \"SP\", \"SP\", \"RP\", \"SP\", \"SP\", \"SP\", \"RP\", \"RP\", \"RP\", \"SP\", \"SP\", \"SP\", \"RP\", \"SP\", \"SP\", \"SP\", \"SP\", \"RP\", \"RP\", \"SP\", \"SP\", \"SP\", \"SP\", \"RP\", \"RP\", \"SP\", \"SP\", \"RP\", \"SP\", \"RP\", \"RP\", \"SP\", \"RP\", \"RP\", \"SP\", \"RP\", \"RP\", \"SP\", \"SP\", \"SP\", \"RP\", \"SP\", \"RP\", \"RP\", \"RP\", \"RP\", \"RP\", \"SP\", \"SP\", \"RP\", \"RP\", \"SP\", \"SP\", \"SP\", \"RP\", \"SP\", \"SP\", \"RP\", \"RP\", \"RP\", \"SP\", \"RP\", \"SP\", \"SP\", \"SP\", \"RP\", \"RP\", \"SP\", \"SP\", \"RP\", \"RP\", \"RP\", \"SP\", \"RP\", \"RP\", \"SP\", \"RP\", \"RP\", \"SP\", \"SP\", \"RP\", \"SP\", \"SP\", \"SP\", \"SP\", \"SP\", \"RP\", \"RP\", \"SP\", \"SP\", \"RP\", \"RP\", \"SP\", \"RP\", \"SP\", \"RP\", \"RP\", \"SP\", \"RP\", \"RP\", \"SP\", \"SP\", \"RP\", \"RP\", \"RP\", \"SP\", \"SP\", \"RP\", \"RP\", \"SP\", \"RP\", \"RP\", \"RP\", \"SP\", \"SP\", \"RP\", \"SP\", \"RP\", \"RP\", \"RP\", \"SP\", \"RP\", \"SP\", \"RP\", \"RP\", \"RP\", \"RP\", \"RP\", \"RP\", \"SP\", \"SP\", \"SP\", \"SP\", \"RP\", \"RP\", \"RP\", \"RP\", \"RP\", \"RP\", \"SP\", \"RP\", \"RP\", \"RP\", \"RP\", \"RP\", \"SP\", \"SP\", \"RP\", \"RP\", \"RP\", \"RP\", \"SP\", \"SP\", \"RP\", \"RP\", \"SP\", \"RP\", \"RP\", \"RP\", \"RP\", \"RP\", \"RP\", \"RP\", \"SP\", \"RP\", \"SP\", \"RP\", \"RP\", \"RP\", \"RP\", \"RP\", \"SP\", \"SP\", \"SP\", \"SP\", \"SP\", \"SP\", \"SP\", \"RP\", \"RP\", \"SP\", \"RP\", \"RP\", \"RP\", \"RP\", \"RP\", \"RP\", \"RP\", \"RP\", \"RP\", \"RP\", \"SP\", \"RP\", \"RP\", \"SP\", \"SP\", \"RP\", \"RP\", \"RP\", \"RP\", \"RP\", \"SP\", \"SP\", \"RP\", \"RP\", \"SP\", \"SP\", \"RP\", \"RP\", \"SP\", \"SP\", \"RP\", \"RP\", \"SP\", \"SP\", \"SP\", \"SP\", \"RP\", \"RP\", \"SP\", \"RP\", \"RP\", \"RP\", \"RP\", \"RP\", \"RP\", \"RP\", \"RP\", \"RP\", \"SP\", \"RP\", \"SP\", \"RP\", \"RP\", \"RP\", \"RP\", \"SP\", \"RP\", \"RP\", \"RP\", \"RP\", \"RP\", \"RP\", \"RP\", \"SP\", \"RP\", \"RP\", \"SP\", \"SP\", \"RP\", \"RP\", \"RP\", \"RP\", \"SP\", \"SP\", \"SP\", \"RP\", \"RP\", \"RP\", \"SP\", \"RP\", \"RP\", \"RP\", \"RP\", \"RP\", \"SP\", \"SP\", \"RP\", \"RP\", \"SP\", \"SP\", \"SP\", \"RP\", \"RP\", \"RP\", \"RP\", \"RP\", \"RP\", \"RP\", \"RP\", \"RP\", \"RP\", \"RP\", \"SP\", \"RP\", \"RP\", \"RP\", \"RP\", \"RP\", \"RP\", \"SP\", \"RP\", \"RP\", \"RP\", \"SP\", \"RP\", \"SP\", \"RP\", \"RP\", \"RP\", \"RP\", \"RP\", \"RP\", \"RP\", \"RP\", \"RP\", \"SP\", \"RP\", \"SP\", \"RP\", \"RP\", \"RP\", \"RP\", \"RP\", \"RP\", \"SP\", \"SP\", \"SP\", \"RP\", \"RP\", \"SP\", \"RP\", \"RP\", \"RP\", \"SP\", \"SP\", \"RP\", \"RP\", \"RP\", \"SP\", \"SP\", \"RP\", \"RP\", \"SP\", \"SP\", \"RP\", \"RP\", \"SP\", \"SP\", \"RP\", \"RP\", \"RP\", \"RP\", \"RP\", \"SP\", \"SP\", \"RP\", \"RP\", \"SP\", \"RP\", \"SP\", \"RP\", \"RP\", \"SP\", \"RP\", \"RP\", \"SP\", \"RP\", \"SP\", \"RP\", \"SP\", \"RP\", \"RP\", \"RP\", \"SP\", \"RP\", \"SP\", \"SP\", \"RP\", \"RP\", \"RP\", \"SP\", \"RP\", \"RP\", \"SP\", \"RP\", \"SP\", \"SP\", \"RP\", \"RP\", \"RP\", \"SP\", \"RP\", \"RP\", \"RP\", \"SP\", \"RP\", \"RP\", \"RP\", \"RP\", \"SP\", \"RP\", \"RP\", \"RP\", \"RP\", \"SP\", \"RP\", \"RP\", \"RP\", \"RP\", \"SP\", \"SP\", \"SP\", \"RP\", \"RP\", \"SP\", \"RP\", \"RP\", \"RP\", \"SP\", \"SP\", \"RP\", \"RP\", \"RP\", \"SP\", \"RP\", \"SP\", \"RP\", \"RP\", \"SP\", \"RP\", \"SP\", \"SP\", \"RP\", \"RP\", \"RP\", \"RP\", \"RP\", \"SP\", \"RP\", \"RP\", \"RP\", \"RP\", \"RP\", \"RP\", \"SP\", \"RP\", \"RP\", \"RP\", \"SP\", \"RP\", \"RP\", \"RP\", \"RP\", \"RP\", \"SP\", \"SP\", \"RP\", \"RP\", \"RP\", \"RP\", \"SP\", \"RP\", \"SP\", \"RP\", \"RP\", \"SP\", \"RP\", \"SP\", \"SP\", \"SP\", \"RP\", \"SP\", \"SP\", \"SP\", \"RP\", \"RP\", \"SP\", \"RP\", \"SP\", \"SP\", \"RP\", \"RP\", \"SP\", \"RP\", \"SP\", \"SP\", \"SP\", \"SP\", \"SP\", \"SP\", \"SP\", \"RP\", \"SP\", \"SP\", \"RP\", \"SP\", \"SP\", \"SP\", \"RP\", \"SP\", \"RP\", \"RP\", \"RP\", \"SP\", \"RP\", \"RP\", \"SP\", \"SP\", \"SP\", \"SP\", \"SP\", \"SP\", \"SP\", \"SP\", \"RP\", \"SP\", \"SP\", \"RP\", \"SP\", \"SP\", \"SP\", \"RP\", \"SP\", \"SP\", \"SP\", \"SP\", \"RP\", \"SP\", \"SP\", \"SP\", \"SP\", \"SP\", \"SP\", \"SP\", \"SP\", \"SP\", \"SP\", \"RP\", \"RP\", \"SP\", \"SP\", \"SP\", \"SP\", \"SP\", \"SP\", \"SP\", \"SP\", \"SP\", \"SP\", \"SP\"], \"y\": [10.467208458687725, 8.064957784232655, 9.390389701629095, 7.4783715711549945, 6.258607045460826, 6.859561324757497, 7.889998823936553, 7.361502055912652, 5.073217988973443, 7.248025674370064, 8.21104051096419, 4.859707938541751, 6.2341782001036385, 4.2401421357636755, 6.153412470888579, 6.083746040034164, 6.159641735640674, 6.407966853454112, 4.483346180033996, 6.44137079926052, 3.8143127563753247, 5.79474922069971, 4.835602445012007, 4.945308028593052, 3.683766106464912, 5.242687853796845, 2.9305363447027486, 5.212707416698466, 5.285968950885649, 4.1904267970039815, 4.368808879788727, 4.505819759447981, 4.178968567354763, 2.431927542583211, 3.893644716415988, 2.4971222292369255, 4.045259651047862, 2.2453873910852202, 4.442995442107619, 4.280219349495408, 2.3306876024898466, 4.058161585111892, 2.4503260215507296, 4.220020479732765, 3.102696816739827, 4.378218437944858, 3.5947446417765203, 4.266510702133699, 3.1167071556509884, 3.6685529632594447, 2.0773140889837083, 1.4112113634291874, 4.99573918970333, 3.4196819919729347, 1.9597579083772236, 3.165309465417322, 3.7975856141608415, 3.121530209661448, 1.4061115603899688, 3.559391388256298, 4.021099161512786, 3.696715823847261, 0.4011133565457896, 3.4179463090796274, 2.5114985210579435, 4.755548420547672, 3.977517995600249, 1.3477452962796392, 3.4505594622517104, 1.1121984300821035, 2.478246601901363, 3.2420461620005474, 2.7002140328942565, 0.9789939228689305, 2.187905961274695, 0.33279666220097104, 0.7468117809404984, 0.6255861406161487, 0.44813535540747695, 1.0075261748388684, 0.27727802703449855, 2.379731035580026, 2.7883563102972544, 2.8187127620936323, 2.1724854806443763, 0.24646644564070708, 2.1172895789633173, 2.5493764364920817, 2.18172790924867, 0.7186100090606262, 2.195977428688739, 2.408073242907036, 0.0, 0.11588104226742169, 1.8205535946276474, 1.9593386044046968, 2.013136019198628, 1.4707835082587382, 1.4259113613046355, 0.2772700292894874, 0.1392863374692659, 0.50848590736842, 0.09801519075854803, 1.9710559790857756, 1.0950562685663932, 1.7152020358274238, 1.4501476331972547, 1.3641508387838877, 1.578083660098062, 1.7432252362506429, 3.0324783187769384, 1.6994680042419934, 1.586391919097265, 1.4836433612946252, 2.04696495225003, 0.024421526028830964, 1.70124906746876, 1.4305524327574535, 0.8370491833373914, 1.3947784258311637, 0.7167142464967178, 1.2447652585192372, 1.4724112678056325, 0.8900008477048051, 1.2428775544859045, 0.1652473807133057, 1.180972451191408, 0.6884705611933408, 2.421008056451211, 1.0101370072209725, 0.7430386407796603, 0.9686827907441531, 1.2509850243717267, 0.37092994525297707, 0.5940889995511718, 0.5614944217008593, 0.4577561416200018, 0.9130067108368496, 0.6553367658050551, 0.5814851225219995, 0.011879118134314304, 0.22830878752363626, 0.7326889320388998, 0.0, 0.030775458595035943, 0.023730329118689664, 1.5107800691452016, 0.06645014404311533, 0.0, 0.32388312064286406, 0.10299344968623281, 0.0, 8.188986172098717, 7.070051295402825, 8.032952572613475, 6.290903384698932, 5.115441293711134, 5.925917524790849, 4.524207339259501, 3.724567898174764, 4.698431703592998, 4.992351235648238, 3.594292716927179, 3.7151475699213825, 4.45619694157647, 3.416091274787675, 2.8802987683222634, 3.2343937073557223, 2.712443316433659, 2.6243181148079557, 3.6310392926524315, 2.2484780956168047, 3.511191568113304, 3.270233164157835, 3.8824268542095983, 2.9263487679923985, 3.0568281807183224, 2.3769480778443577, 2.1310070636130347, 2.716230417932631, 2.6832793699047457, 3.3373789235234117, 3.5073745801491643, 2.206471913487404, 2.1080945297815794, 2.774909235737904, 1.8173297971372324, 2.5801543342231916, 2.737849069050597, 3.038693355659026, 3.5081623482135305, 1.4160479556171865, 1.8470546821539187, 3.347435452059565, 1.4660200685582718, 2.9485701048108, 3.516917333118792, 1.759260290894447, 1.6181166065324333, 2.6167199074884073, 0.8011850068706137, 1.6778915986587797, 2.8163460049468085, 2.5041716892902612, 1.1166782257210968, 2.1102798661159077, 2.588958908967724, 2.1875597116711223, 0.7581474413839484, 0.8215264573644186, 0.5511891463715544, 2.494929524290743, 0.8335376401878468, 0.5380200982442545, 0.4265797453544435, 0.906631695992978, 0.8382292819404467, 2.1415817871400735, 1.549214083832056, 0.30120956495665263, 0.7213578817305589, 1.5853315551999274, 0.0, 0.7577663093934186, 0.2597024868350388, 0.2538321682275388, 0.15254901200249915, 1.3980280779961927, 1.3133411353678088, 0.8328711302045351, 0.017353998608457877, 0.24926806780140034, 0.40304588184381385, 0.49610216374390137, 0.4809554879926494, 1.0593983194954615, 0.023900184065304364, 0.023330978880212516, 0.5137876114544679, 0.08944750810066576, 0.0, 0.44875989805715993, 0.5468575194760223, 1.0870629161695462, 0.13698274668531996, 1.1069376335715735, 0.3555736822593991, 0.15098911920478075, 0.21161252289251686, 0.4338671816128219, 1.615405704531761, 1.4090203184450174, 0.6594917642172711, 0.615534059307931, 0.45810647098986834, 0.11082676092923024, 0.5339165592934052, 0.9619839106240465, 0.46417249382622017, 0.10032029632095152, 0.2834540252402422, 0.09863693543102015]}],                        {\"template\": {\"data\": {\"bar\": [{\"error_x\": {\"color\": \"#2a3f5f\"}, \"error_y\": {\"color\": \"#2a3f5f\"}, \"marker\": {\"line\": {\"color\": \"#E5ECF6\", \"width\": 0.5}}, \"type\": \"bar\"}], \"barpolar\": [{\"marker\": {\"line\": {\"color\": \"#E5ECF6\", \"width\": 0.5}}, \"type\": \"barpolar\"}], \"carpet\": [{\"aaxis\": {\"endlinecolor\": \"#2a3f5f\", \"gridcolor\": \"white\", \"linecolor\": \"white\", \"minorgridcolor\": \"white\", \"startlinecolor\": \"#2a3f5f\"}, \"baxis\": {\"endlinecolor\": \"#2a3f5f\", \"gridcolor\": \"white\", \"linecolor\": \"white\", \"minorgridcolor\": \"white\", \"startlinecolor\": \"#2a3f5f\"}, \"type\": \"carpet\"}], \"choropleth\": [{\"colorbar\": {\"outlinewidth\": 0, \"ticks\": \"\"}, \"type\": \"choropleth\"}], \"contour\": [{\"colorbar\": {\"outlinewidth\": 0, \"ticks\": \"\"}, \"colorscale\": [[0.0, \"#0d0887\"], [0.1111111111111111, \"#46039f\"], [0.2222222222222222, \"#7201a8\"], [0.3333333333333333, \"#9c179e\"], [0.4444444444444444, \"#bd3786\"], [0.5555555555555556, \"#d8576b\"], [0.6666666666666666, \"#ed7953\"], [0.7777777777777778, \"#fb9f3a\"], [0.8888888888888888, \"#fdca26\"], [1.0, \"#f0f921\"]], \"type\": \"contour\"}], \"contourcarpet\": [{\"colorbar\": {\"outlinewidth\": 0, \"ticks\": \"\"}, \"type\": \"contourcarpet\"}], \"heatmap\": [{\"colorbar\": {\"outlinewidth\": 0, \"ticks\": \"\"}, \"colorscale\": [[0.0, \"#0d0887\"], [0.1111111111111111, \"#46039f\"], [0.2222222222222222, \"#7201a8\"], [0.3333333333333333, \"#9c179e\"], [0.4444444444444444, \"#bd3786\"], [0.5555555555555556, \"#d8576b\"], [0.6666666666666666, \"#ed7953\"], [0.7777777777777778, \"#fb9f3a\"], [0.8888888888888888, \"#fdca26\"], [1.0, \"#f0f921\"]], \"type\": \"heatmap\"}], \"heatmapgl\": [{\"colorbar\": {\"outlinewidth\": 0, \"ticks\": \"\"}, \"colorscale\": [[0.0, \"#0d0887\"], [0.1111111111111111, \"#46039f\"], [0.2222222222222222, \"#7201a8\"], [0.3333333333333333, \"#9c179e\"], [0.4444444444444444, \"#bd3786\"], [0.5555555555555556, \"#d8576b\"], [0.6666666666666666, \"#ed7953\"], [0.7777777777777778, \"#fb9f3a\"], [0.8888888888888888, \"#fdca26\"], [1.0, \"#f0f921\"]], \"type\": \"heatmapgl\"}], \"histogram\": [{\"marker\": {\"colorbar\": {\"outlinewidth\": 0, \"ticks\": \"\"}}, \"type\": \"histogram\"}], \"histogram2d\": [{\"colorbar\": {\"outlinewidth\": 0, \"ticks\": \"\"}, \"colorscale\": [[0.0, \"#0d0887\"], [0.1111111111111111, \"#46039f\"], [0.2222222222222222, \"#7201a8\"], [0.3333333333333333, \"#9c179e\"], [0.4444444444444444, \"#bd3786\"], [0.5555555555555556, \"#d8576b\"], [0.6666666666666666, \"#ed7953\"], [0.7777777777777778, \"#fb9f3a\"], [0.8888888888888888, \"#fdca26\"], [1.0, \"#f0f921\"]], \"type\": \"histogram2d\"}], \"histogram2dcontour\": [{\"colorbar\": {\"outlinewidth\": 0, \"ticks\": \"\"}, \"colorscale\": [[0.0, \"#0d0887\"], [0.1111111111111111, \"#46039f\"], [0.2222222222222222, \"#7201a8\"], [0.3333333333333333, \"#9c179e\"], [0.4444444444444444, \"#bd3786\"], [0.5555555555555556, \"#d8576b\"], [0.6666666666666666, \"#ed7953\"], [0.7777777777777778, \"#fb9f3a\"], [0.8888888888888888, \"#fdca26\"], [1.0, \"#f0f921\"]], \"type\": \"histogram2dcontour\"}], \"mesh3d\": [{\"colorbar\": {\"outlinewidth\": 0, \"ticks\": \"\"}, \"type\": \"mesh3d\"}], \"parcoords\": [{\"line\": {\"colorbar\": {\"outlinewidth\": 0, \"ticks\": \"\"}}, \"type\": \"parcoords\"}], \"pie\": [{\"automargin\": true, \"type\": \"pie\"}], \"scatter\": [{\"marker\": {\"colorbar\": {\"outlinewidth\": 0, \"ticks\": \"\"}}, \"type\": \"scatter\"}], \"scatter3d\": [{\"line\": {\"colorbar\": {\"outlinewidth\": 0, \"ticks\": \"\"}}, \"marker\": {\"colorbar\": {\"outlinewidth\": 0, \"ticks\": \"\"}}, \"type\": \"scatter3d\"}], \"scattercarpet\": [{\"marker\": {\"colorbar\": {\"outlinewidth\": 0, \"ticks\": \"\"}}, \"type\": \"scattercarpet\"}], \"scattergeo\": [{\"marker\": {\"colorbar\": {\"outlinewidth\": 0, \"ticks\": \"\"}}, \"type\": \"scattergeo\"}], \"scattergl\": [{\"marker\": {\"colorbar\": {\"outlinewidth\": 0, \"ticks\": \"\"}}, \"type\": \"scattergl\"}], \"scattermapbox\": [{\"marker\": {\"colorbar\": {\"outlinewidth\": 0, \"ticks\": \"\"}}, \"type\": \"scattermapbox\"}], \"scatterpolar\": [{\"marker\": {\"colorbar\": {\"outlinewidth\": 0, \"ticks\": \"\"}}, \"type\": \"scatterpolar\"}], \"scatterpolargl\": [{\"marker\": {\"colorbar\": {\"outlinewidth\": 0, \"ticks\": \"\"}}, \"type\": \"scatterpolargl\"}], \"scatterternary\": [{\"marker\": {\"colorbar\": {\"outlinewidth\": 0, \"ticks\": \"\"}}, \"type\": \"scatterternary\"}], \"surface\": [{\"colorbar\": {\"outlinewidth\": 0, \"ticks\": \"\"}, \"colorscale\": [[0.0, \"#0d0887\"], [0.1111111111111111, \"#46039f\"], [0.2222222222222222, \"#7201a8\"], [0.3333333333333333, \"#9c179e\"], [0.4444444444444444, \"#bd3786\"], [0.5555555555555556, \"#d8576b\"], [0.6666666666666666, \"#ed7953\"], [0.7777777777777778, \"#fb9f3a\"], [0.8888888888888888, \"#fdca26\"], [1.0, \"#f0f921\"]], \"type\": \"surface\"}], \"table\": [{\"cells\": {\"fill\": {\"color\": \"#EBF0F8\"}, \"line\": {\"color\": \"white\"}}, \"header\": {\"fill\": {\"color\": \"#C8D4E3\"}, \"line\": {\"color\": \"white\"}}, \"type\": \"table\"}]}, \"layout\": {\"annotationdefaults\": {\"arrowcolor\": \"#2a3f5f\", \"arrowhead\": 0, \"arrowwidth\": 1}, \"autotypenumbers\": \"strict\", \"coloraxis\": {\"colorbar\": {\"outlinewidth\": 0, \"ticks\": \"\"}}, \"colorscale\": {\"diverging\": [[0, \"#8e0152\"], [0.1, \"#c51b7d\"], [0.2, \"#de77ae\"], [0.3, \"#f1b6da\"], [0.4, \"#fde0ef\"], [0.5, \"#f7f7f7\"], [0.6, \"#e6f5d0\"], [0.7, \"#b8e186\"], [0.8, \"#7fbc41\"], [0.9, \"#4d9221\"], [1, \"#276419\"]], \"sequential\": [[0.0, \"#0d0887\"], [0.1111111111111111, \"#46039f\"], [0.2222222222222222, \"#7201a8\"], [0.3333333333333333, \"#9c179e\"], [0.4444444444444444, \"#bd3786\"], [0.5555555555555556, \"#d8576b\"], [0.6666666666666666, \"#ed7953\"], [0.7777777777777778, \"#fb9f3a\"], [0.8888888888888888, \"#fdca26\"], [1.0, \"#f0f921\"]], \"sequentialminus\": [[0.0, \"#0d0887\"], [0.1111111111111111, \"#46039f\"], [0.2222222222222222, \"#7201a8\"], [0.3333333333333333, \"#9c179e\"], [0.4444444444444444, \"#bd3786\"], [0.5555555555555556, \"#d8576b\"], [0.6666666666666666, \"#ed7953\"], [0.7777777777777778, \"#fb9f3a\"], [0.8888888888888888, \"#fdca26\"], [1.0, \"#f0f921\"]]}, \"colorway\": [\"#636efa\", \"#EF553B\", \"#00cc96\", \"#ab63fa\", \"#FFA15A\", \"#19d3f3\", \"#FF6692\", \"#B6E880\", \"#FF97FF\", \"#FECB52\"], \"font\": {\"color\": \"#2a3f5f\"}, \"geo\": {\"bgcolor\": \"white\", \"lakecolor\": \"white\", \"landcolor\": \"#E5ECF6\", \"showlakes\": true, \"showland\": true, \"subunitcolor\": \"white\"}, \"hoverlabel\": {\"align\": \"left\"}, \"hovermode\": \"closest\", \"mapbox\": {\"style\": \"light\"}, \"paper_bgcolor\": \"white\", \"plot_bgcolor\": \"#E5ECF6\", \"polar\": {\"angularaxis\": {\"gridcolor\": \"white\", \"linecolor\": \"white\", \"ticks\": \"\"}, \"bgcolor\": \"#E5ECF6\", \"radialaxis\": {\"gridcolor\": \"white\", \"linecolor\": \"white\", \"ticks\": \"\"}}, \"scene\": {\"xaxis\": {\"backgroundcolor\": \"#E5ECF6\", \"gridcolor\": \"white\", \"gridwidth\": 2, \"linecolor\": \"white\", \"showbackground\": true, \"ticks\": \"\", \"zerolinecolor\": \"white\"}, \"yaxis\": {\"backgroundcolor\": \"#E5ECF6\", \"gridcolor\": \"white\", \"gridwidth\": 2, \"linecolor\": \"white\", \"showbackground\": true, \"ticks\": \"\", \"zerolinecolor\": \"white\"}, \"zaxis\": {\"backgroundcolor\": \"#E5ECF6\", \"gridcolor\": \"white\", \"gridwidth\": 2, \"linecolor\": \"white\", \"showbackground\": true, \"ticks\": \"\", \"zerolinecolor\": \"white\"}}, \"shapedefaults\": {\"line\": {\"color\": \"#2a3f5f\"}}, \"ternary\": {\"aaxis\": {\"gridcolor\": \"white\", \"linecolor\": \"white\", \"ticks\": \"\"}, \"baxis\": {\"gridcolor\": \"white\", \"linecolor\": \"white\", \"ticks\": \"\"}, \"bgcolor\": \"#E5ECF6\", \"caxis\": {\"gridcolor\": \"white\", \"linecolor\": \"white\", \"ticks\": \"\"}}, \"title\": {\"x\": 0.05}, \"xaxis\": {\"automargin\": true, \"gridcolor\": \"white\", \"linecolor\": \"white\", \"ticks\": \"\", \"title\": {\"standoff\": 15}, \"zerolinecolor\": \"white\", \"zerolinewidth\": 2}, \"yaxis\": {\"automargin\": true, \"gridcolor\": \"white\", \"linecolor\": \"white\", \"ticks\": \"\", \"title\": {\"standoff\": 15}, \"zerolinecolor\": \"white\", \"zerolinewidth\": 2}}}},                        {\"responsive\": true}                    ).then(function(){\n",
       "                            \n",
       "var gd = document.getElementById('007a543e-b5fc-4483-8721-680ee98fa49a');\n",
       "var x = new MutationObserver(function (mutations, observer) {{\n",
       "        var display = window.getComputedStyle(gd).display;\n",
       "        if (!display || display === 'none') {{\n",
       "            console.log([gd, 'removed!']);\n",
       "            Plotly.purge(gd);\n",
       "            observer.disconnect();\n",
       "        }}\n",
       "}});\n",
       "\n",
       "// Listen for the removal of the full notebook cells\n",
       "var notebookContainer = gd.closest('#notebook-container');\n",
       "if (notebookContainer) {{\n",
       "    x.observe(notebookContainer, {childList: true});\n",
       "}}\n",
       "\n",
       "// Listen for the clearing of the current output cell\n",
       "var outputEl = gd.closest('.output');\n",
       "if (outputEl) {{\n",
       "    x.observe(outputEl, {childList: true});\n",
       "}}\n",
       "\n",
       "                        })                };                });            </script>        </div>"
      ]
     },
     "metadata": {},
     "output_type": "display_data"
    }
   ],
   "source": [
    "fig = go.Figure()\n",
    "fig.add_trace(\n",
    "    go.Scatter(\n",
    "        x=b['Primary_Pos'],\n",
    "        y=b.query('z>=0')['z'],\n",
    "        text=b['Name'],\n",
    "        mode='markers',\n",
    "    )\n",
    ")"
   ]
  },
  {
   "cell_type": "markdown",
   "id": "206b64ff",
   "metadata": {},
   "source": [
    "#### Next Closest in Tier"
   ]
  },
  {
   "cell_type": "code",
   "execution_count": 139,
   "id": "1897df73",
   "metadata": {},
   "outputs": [
    {
     "name": "stdout",
     "output_type": "stream",
     "text": [
      "-5.9\n"
     ]
    },
    {
     "data": {
      "text/html": [
       "<div>\n",
       "<style scoped>\n",
       "    .dataframe tbody tr th:only-of-type {\n",
       "        vertical-align: middle;\n",
       "    }\n",
       "\n",
       "    .dataframe tbody tr th {\n",
       "        vertical-align: top;\n",
       "    }\n",
       "\n",
       "    .dataframe thead th {\n",
       "        text-align: right;\n",
       "    }\n",
       "</style>\n",
       "<table border=\"1\" class=\"dataframe\">\n",
       "  <thead>\n",
       "    <tr style=\"text-align: right;\">\n",
       "      <th></th>\n",
       "      <th>Name</th>\n",
       "      <th>Pos</th>\n",
       "      <th>z</th>\n",
       "      <th>Value</th>\n",
       "      <th>HR</th>\n",
       "      <th>SB</th>\n",
       "      <th>RBI</th>\n",
       "      <th>R</th>\n",
       "      <th>BA</th>\n",
       "    </tr>\n",
       "  </thead>\n",
       "  <tbody>\n",
       "    <tr>\n",
       "      <th>11</th>\n",
       "      <td>Freddie Freeman</td>\n",
       "      <td>1B</td>\n",
       "      <td>4.859708</td>\n",
       "      <td>24.380631</td>\n",
       "      <td>30.0</td>\n",
       "      <td>6.0</td>\n",
       "      <td>95.0</td>\n",
       "      <td>103.0</td>\n",
       "      <td>0.292442</td>\n",
       "    </tr>\n",
       "    <tr>\n",
       "      <th>24</th>\n",
       "      <td>Paul Goldschmidt</td>\n",
       "      <td>1B</td>\n",
       "      <td>3.683766</td>\n",
       "      <td>18.481057</td>\n",
       "      <td>30.0</td>\n",
       "      <td>7.0</td>\n",
       "      <td>90.0</td>\n",
       "      <td>97.0</td>\n",
       "      <td>0.275586</td>\n",
       "    </tr>\n",
       "    <tr>\n",
       "      <th>50</th>\n",
       "      <td>Josh Bell</td>\n",
       "      <td>1B/OF/DH</td>\n",
       "      <td>2.077314</td>\n",
       "      <td>10.421661</td>\n",
       "      <td>30.0</td>\n",
       "      <td>0.0</td>\n",
       "      <td>97.0</td>\n",
       "      <td>85.0</td>\n",
       "      <td>0.262315</td>\n",
       "    </tr>\n",
       "    <tr>\n",
       "      <th>51</th>\n",
       "      <td>Ryan Mountcastle</td>\n",
       "      <td>1B/OF/DH</td>\n",
       "      <td>1.411211</td>\n",
       "      <td>7.079895</td>\n",
       "      <td>30.0</td>\n",
       "      <td>4.0</td>\n",
       "      <td>87.0</td>\n",
       "      <td>77.0</td>\n",
       "      <td>0.259390</td>\n",
       "    </tr>\n",
       "    <tr>\n",
       "      <th>58</th>\n",
       "      <td>C.J. Cron</td>\n",
       "      <td>1B</td>\n",
       "      <td>1.406112</td>\n",
       "      <td>7.054310</td>\n",
       "      <td>29.0</td>\n",
       "      <td>1.0</td>\n",
       "      <td>89.0</td>\n",
       "      <td>76.0</td>\n",
       "      <td>0.267965</td>\n",
       "    </tr>\n",
       "    <tr>\n",
       "      <th>67</th>\n",
       "      <td>Joey Votto</td>\n",
       "      <td>1B</td>\n",
       "      <td>1.347745</td>\n",
       "      <td>6.761493</td>\n",
       "      <td>30.0</td>\n",
       "      <td>1.0</td>\n",
       "      <td>89.0</td>\n",
       "      <td>86.0</td>\n",
       "      <td>0.249225</td>\n",
       "    </tr>\n",
       "  </tbody>\n",
       "</table>\n",
       "</div>"
      ],
      "text/plain": [
       "                Name       Pos         z      Value    HR   SB   RBI      R  \\\n",
       "11   Freddie Freeman        1B  4.859708  24.380631  30.0  6.0  95.0  103.0   \n",
       "24  Paul Goldschmidt        1B  3.683766  18.481057  30.0  7.0  90.0   97.0   \n",
       "50         Josh Bell  1B/OF/DH  2.077314  10.421661  30.0  0.0  97.0   85.0   \n",
       "51  Ryan Mountcastle  1B/OF/DH  1.411211   7.079895  30.0  4.0  87.0   77.0   \n",
       "58         C.J. Cron        1B  1.406112   7.054310  29.0  1.0  89.0   76.0   \n",
       "67        Joey Votto        1B  1.347745   6.761493  30.0  1.0  89.0   86.0   \n",
       "\n",
       "          BA  \n",
       "11  0.292442  \n",
       "24  0.275586  \n",
       "50  0.262315  \n",
       "51  0.259390  \n",
       "58  0.267965  \n",
       "67  0.249225  "
      ]
     },
     "execution_count": 139,
     "metadata": {},
     "output_type": "execute_result"
    }
   ],
   "source": [
    "tier_pos = df[df['Name']=='Freddie Freeman']['Primary_Pos'].iloc[0]\n",
    "drop_in_tier = round(df[(df['Primary_Pos']==tier_pos) & (df['Owner'].isna())].iloc[1]['Value'] - df[(df['Primary_Pos']==tier_pos) & (df['Owner'].isna())].iloc[0]['Value'],1)\n",
    "print(drop_in_tier)\n",
    "df[(df['Primary_Pos']==tier_pos) & (df['Owner'].isna())].iloc[:6][['Name', 'Pos', 'z', 'Value', 'HR', 'SB', 'RBI', 'R', 'BA']]"
   ]
  },
  {
   "cell_type": "code",
   "execution_count": 176,
   "id": "ab8eff4c",
   "metadata": {},
   "outputs": [
    {
     "data": {
      "text/plain": [
       "8.604983664708165"
      ]
     },
     "execution_count": 176,
     "metadata": {},
     "output_type": "execute_result"
    }
   ],
   "source": [
    "i = df[(df['Primary_Pos']=='SS') & (df['playerid']=='18314') & (df['Owner'].isna())].index[0]\n",
    "v = df[(df['Primary_Pos']=='SS') & (df['Owner'].isna()) & (df['playerid']=='18314')]['Value'].iloc[0]\n",
    "df[(df['Primary_Pos']=='SS') & (df['Owner'].isna()) & (df['Value']<=v)].iloc[1]['Value']"
   ]
  },
  {
   "cell_type": "code",
   "execution_count": 188,
   "id": "21b4d27d",
   "metadata": {},
   "outputs": [],
   "source": [
    "df['next_in_tier'] = df.apply(lambda x: next_closest_in_tier(df, x['Primary_Pos'], x['playerid']),axis=1)"
   ]
  },
  {
   "cell_type": "code",
   "execution_count": 21,
   "id": "b4651bea",
   "metadata": {},
   "outputs": [
    {
     "data": {
      "text/plain": [
       "<AxesSubplot:>"
      ]
     },
     "execution_count": 21,
     "metadata": {},
     "output_type": "execute_result"
    },
    {
     "data": {
      "image/png": "[encoded data removed]",
      "text/plain": [
       "<Figure size 432x288 with 1 Axes>"
      ]
     },
     "metadata": {
      "needs_background": "light"
     },
     "output_type": "display_data"
    }
   ],
   "source": [
    "df[(df['Primary_Pos']==tier_pos) & (df['z']>0)]['Value'].hist()"
   ]
  },
  {
   "cell_type": "markdown",
   "id": "07379319",
   "metadata": {},
   "source": [
    "## ------ End of New Work"
   ]
  },
  {
   "cell_type": "code",
   "execution_count": null,
   "id": "59d6d2e2",
   "metadata": {},
   "outputs": [],
   "source": [
    "def process_top_hitters():\n",
    "    # Define two empty dicts\n",
    "    pos_avg = {}\n",
    "    pos_std = {}\n",
    "    # Create Used field and set to False, for tracking which players are considered drafted\n",
    "    h['Used'] = False\n",
    "    # For each of these positions, define a mask to isolate the unused players who are eligible at that position\n",
    "    for position in ['C', '2B', '1B', 'OF', '3B', 'SS']:\n",
    "        mask = (h['Pos'].str.contains(position)) & (h['Used']==False)\n",
    "        pos_avg[position], pos_std[position] = {}, {}\n",
    "        \n",
    "        # Rate stats first\n",
    "        # Calculate the BA Z score. Because it is a rate, it takes a different formula: H - (AB * (lgH/lgAB))\n",
    "        pos_index_list = h[mask].index[:drafted_by_pos[position]]\n",
    "        h.loc[pos_index_list, 'BA'] = (h[mask]['H'] - (h[mask]['AB'] * (h[mask]['H'].sum()/h[mask]['AB'].sum())))\n",
    "        \n",
    "        # For each stat category, fill in the dictionaries with an average and standard deviation using the top N players\n",
    "        # where N is established by the number of drafted players at that position by the league (eg 1B = 12, OF=60)\n",
    "        for stat in ['PA', 'AB', 'BA', 'HR', 'RBI', 'R', 'SB']:\n",
    "            pos_avg[position][stat] = round(h.loc[h[mask].index[:drafted_by_pos[position]], stat].mean(),1)\n",
    "            pos_std[position][stat] = round(h.loc[h[mask].index[:drafted_by_pos[position]], stat].std(),1)\n",
    "            # Using the player's stat projection, calculate their Z score among the top players\n",
    "            for j in h[mask].index[:drafted_by_pos[position]]:\n",
    "                h.loc[j, 'z'+stat] = (h.loc[j][stat] - pos_avg[position][stat]) / pos_std[position][stat]\n",
    "        \n",
    "        # Sum the 5 stat category Z scores\n",
    "        h.loc[h[mask].index[:drafted_by_pos[position]], 'z'] = h['zR'] + h['zRBI'] + h['zHR'] + h['zBA'] + h['zSB']\n",
    "        # Make the last player's Z score equal 0, then adjust the rest by that same amount\n",
    "        if h.loc[h[mask].index[:drafted_by_pos[position]]].sort_values('z')['z'].iloc[0] < 0:\n",
    "            h.loc[h[mask].index[:drafted_by_pos[position]], 'z'] += abs(h.loc[h[mask].index[:drafted_by_pos[position]]].sort_values('z')['z'].iloc[0])\n",
    "        else:\n",
    "            h.loc[h[mask].index[:drafted_by_pos[position]], 'z'] -= h.loc[h[mask].index[:drafted_by_pos[position]]].sort_values('z')['z'].iloc[0]\n",
    "        # Assign the current position as the player's Primary_Pos\n",
    "        h.loc[h[mask].index[:drafted_by_pos[position]], 'Primary_Pos'] = position\n",
    "        #print(position+':\\n',h.loc[h[mask].index[:drafted_by_pos[position]]]['Name'].unique())\n",
    "        # Mark these players as Used so they do not get used in another position\n",
    "        h.loc[h[mask].index[:drafted_by_pos[position]], 'Used'] = True\n",
    "\n",
    "    # This is the same process as above except it does it for the MI and CI categories which means you have to find the \n",
    "    # top 12 middle/corner infielders available\n",
    "    for position in ['MI', 'CI']:\n",
    "        if position == 'MI':\n",
    "            pos_avg[position], pos_std[position] = {}, {}\n",
    "            mask = ((h['Pos'].str.contains('SS')) & (h['Used']==False)) | ((h['Pos'].str.contains('2B')) & (h['Used']==False))\n",
    "            \n",
    "            pos_index_list = h[mask].index[:drafted_by_pos[position]]\n",
    "            h.loc[pos_index_list, 'BA'] = (h[mask]['H'] - (h[mask]['AB'] * (h[mask]['H'].sum()/h[mask]['AB'].sum())))\n",
    "        \n",
    "            for stat in ['PA', 'AB', 'BA', 'HR', 'RBI', 'R', 'SB']:\n",
    "                pos_avg[position][stat] = round(h.loc[h[mask].index[:drafted_by_pos[position]], stat].mean(),1)\n",
    "                pos_std[position][stat] = round(h.loc[h[mask].index[:drafted_by_pos[position]], stat].std(),1)\n",
    "                for j in h[mask].index[:drafted_by_pos[position]]:\n",
    "                    h.loc[j, 'z'+stat] = (h.loc[j][stat] - pos_avg[position][stat]) / pos_std[position][stat]\n",
    "\n",
    "            h.loc[h[mask].index[:drafted_by_pos[position]], 'z'] = h['zR'] + h['zRBI'] + h['zHR'] + h['zBA'] + h['zSB']\n",
    "            h.loc[h[mask].index[:drafted_by_pos[position]], 'z'] += abs(h.loc[h[mask].index[:drafted_by_pos[position]]].sort_values('z')['z'].iloc[0])\n",
    "            h.loc[h[mask].index[:drafted_by_pos[position]], 'Primary_Pos'] = position\n",
    "            #print(position+':\\n',h.loc[h[mask].index[:12]]['Name'].unique())\n",
    "            h.loc[h[mask].index[:drafted_by_pos[position]], 'Used'] = True\n",
    "\n",
    "        elif position == 'CI':\n",
    "            pos_avg[position], pos_std[position] = {}, {}\n",
    "            mask = ((h['Pos'].str.contains('1B')) & (h['Used']==False)) | ((h['Pos'].str.contains('3B')) & (h['Used']==False))\n",
    "            \n",
    "            pos_index_list = h[mask].index[:drafted_by_pos[position]]\n",
    "            h.loc[pos_index_list, 'BA'] = (h[mask]['H'] - (h[mask]['AB'] * (h[mask]['H'].sum()/h[mask]['AB'].sum())))\n",
    "            \n",
    "            for stat in ['PA', 'AB', 'BA', 'HR', 'RBI', 'R', 'SB']:\n",
    "                pos_avg[position][stat] = round(h.loc[h[mask].index[:drafted_by_pos[position]], stat].mean(),1)\n",
    "                pos_std[position][stat] = round(h.loc[h[mask].index[:drafted_by_pos[position]], stat].std(),1)\n",
    "                for j in h[mask].index[:drafted_by_pos[position]]:\n",
    "                    h.loc[j, 'z'+stat] = (h.loc[j][stat] - pos_avg[position][stat]) / pos_std[position][stat]\n",
    "\n",
    "            h.loc[h[mask].index[:drafted_by_pos[position]], 'z'] = h['zR'] + h['zRBI'] + h['zHR'] + h['zBA'] + h['zSB']\n",
    "            h.loc[h[mask].index[:drafted_by_pos[position]], 'z'] += abs(h.loc[h[mask].index[:drafted_by_pos[position]]].sort_values('z')['z'].iloc[0])\n",
    "            h.loc[h[mask].index[:drafted_by_pos[position]], 'Primary_Pos'] = position\n",
    "            #print(position+':\\n',h.loc[h[mask].index[:12]]['Name'].unique())\n",
    "            h.loc[h[mask].index[:drafted_by_pos[position]], 'Used'] = True\n",
    "\n",
    "    # Same process again but uses all remaining hitters and takes the top 12. Expect to see the true DHs at the top\n",
    "    pos_avg['DH'], pos_std['DH'] = {}, {}\n",
    "    mask = (h['Used']==False)\n",
    "    \n",
    "    pos_index_list = h[mask].index[:drafted_by_pos[position]]\n",
    "    h.loc[pos_index_list, 'BA'] = (h[mask]['H'] - (h[mask]['AB'] * (h[mask]['H'].sum()/h[mask]['AB'].sum())))\n",
    "        \n",
    "    for stat in ['PA', 'AB', 'BA', 'HR', 'RBI', 'R', 'SB']:\n",
    "        pos_avg['DH'][stat] = round(h.loc[h[mask].index[:24], stat].mean(),1)\n",
    "        pos_std['DH'][stat] = round(h.loc[h[mask].index[:24], stat].std(),1)\n",
    "        for j in h[mask].index[:24]:\n",
    "                h.loc[j, 'z'+stat] = (h.loc[j][stat] - pos_avg['DH'][stat]) / pos_std['DH'][stat]\n",
    "\n",
    "    h.loc[h[mask].index[:24], 'z'] = h['zR'] + h['zRBI'] + h['zHR'] + h['zBA'] + h['zSB']\n",
    "    h.loc[h[mask].index[:24], 'z'] += abs(h.loc[h[mask].index[:24]].sort_values('z')['z'].iloc[0])\n",
    "    h.loc[h[mask].index[:24], 'Primary_Pos'] = 'DH'\n",
    "    #print('DH:\\n',h.loc[h[mask].index[:24]]['Name'].unique())\n",
    "    #print('DH:\\n',h.loc[h[mask].index[:24]].index)\n",
    "    sub_mask = h.loc[h[mask].index[:24]].index\n",
    "    h.loc[h[mask].index[:24], 'Used'] = True\n",
    "    \n",
    "    if len(h[h['Used']==True])!=14*num_teams:\n",
    "        print('drafted list not right')\n",
    "    return pos_avg, pos_std\n"
   ]
  },
  {
   "cell_type": "code",
   "execution_count": null,
   "id": "2a18c91b",
   "metadata": {},
   "outputs": [],
   "source": [
    "def process_rem_hitters(pos_avg, pos_std):\n",
    "    for position in ['C', '2B', '1B', 'OF', '3B', 'SS']:\n",
    "        mask = (h['Used']==False) & (h['Primary_Pos']==position)\n",
    "        h.loc[mask, 'BA'] = (h[mask]['H'] - (h[mask]['AB'] * (h[(h['Used']==True) & (h['Primary_Pos']==position)]['H'].sum()/h[(h['Used']==True) & (h['Primary_Pos']==position)]['AB'].sum())))\n",
    "        for stat in ['PA', 'AB', 'BA', 'HR', 'RBI', 'R', 'SB']:\n",
    "            h.loc[mask, 'z'+stat] = (h[stat] - pos_avg[position][stat]) / pos_std[position][stat]\n",
    "\n",
    "    h.loc[h['Used']==False, 'z'] = h['zBA'] + h['zHR'] + h['zRBI'] + h['zR'] + h['zSB']\n",
    "    return"
   ]
  },
  {
   "cell_type": "code",
   "execution_count": null,
   "id": "7d38e787",
   "metadata": {},
   "outputs": [],
   "source": [
    "def process_pitchers():\n",
    "    #(p['ER']*9) - (p['IP'] * ((lgERsum * 9)/(lgIPsum))) * -1\n",
    "    p['xER'] = ((p['ER']*9) - (p['IP'] * (p['ER'].iloc[:108].sum()*9)/p['IP'].iloc[:108].sum())) * -1\n",
    "    p['xWHIP'] = ((p['H']+p['BB']) - (p['IP'] * ((p['H'].iloc[:108].sum()+p['BB'].iloc[:108].sum()) / p['IP'].iloc[:108].sum()))) * -1\n",
    "    p_avg = p.iloc[:108][['W', 'SO', 'Sv+Hld', 'xER', 'xWHIP']].mean()\n",
    "    p_std = p.iloc[:108][['W', 'SO', 'Sv+Hld', 'xER', 'xWHIP']].std()\n",
    "    for i in ['W', 'SO', 'Sv+Hld', 'xER', 'xWHIP']:\n",
    "        p['z'+i] = p[i].apply(lambda x: (x - p_avg[i]) / p_std[i])\n",
    "    p['z'] = p['zW'] + p['zSO'] + p['zSv+Hld'] + p['zxER'] + p['zxWHIP']\n",
    "    p_adjustment_value = abs(p.sort_values('z', ascending=False).iloc[107]['z'])\n",
    "    p['z'] = p['z'].apply(lambda x: x+p_adjustment_value)\n",
    "    return"
   ]
  },
  {
   "cell_type": "code",
   "execution_count": null,
   "id": "45e87405",
   "metadata": {
    "scrolled": false
   },
   "outputs": [],
   "source": [
    "### Old way ###\n",
    "h, p = load_data()\n",
    "h['Primary_Pos'] = h['Pos'].apply(lambda x: find_primary_pos(x))\n",
    "p['Primary_Pos'] = p['Pos'].apply(lambda x: find_primary_pos(x))\n",
    "pos_avg, pos_std = process_top_hitters()\n",
    "process_rem_hitters(pos_avg, pos_std)\n",
    "tot_z = h[h['Used']==True]['z'].sum()\n",
    "h['Value'] = (h['z'] / tot_z) * tot_dollars * player_split\n",
    "h.sort_values('Value', ascending=False).head(10)\n",
    "h['Owner'] = None\n",
    "h['Paid'] = None"
   ]
  },
  {
   "cell_type": "code",
   "execution_count": null,
   "id": "a7708b93",
   "metadata": {},
   "outputs": [],
   "source": [
    "#(p['ER']*9) - (p['IP'] * ((lgERsum * 9)/(lgIPsum))) * -1\n",
    "p['xER'] = ((p['ER']*9) - (p['IP'] * (p['ER'].iloc[:108].sum()*9)/p['IP'].iloc[:108].sum())) * -1"
   ]
  },
  {
   "cell_type": "code",
   "execution_count": null,
   "id": "defa715e",
   "metadata": {},
   "outputs": [],
   "source": [
    "p['xWHIP'] = ((p['H']+p['BB']) - (p['IP'] * ((p['H'].iloc[:108].sum()+p['BB'].iloc[:108].sum()) / p['IP'].iloc[:108].sum()))) * -1"
   ]
  },
  {
   "cell_type": "code",
   "execution_count": null,
   "id": "4bd0687f",
   "metadata": {},
   "outputs": [],
   "source": [
    "p_avg = p.iloc[:108][['W', 'SO', 'Sv+Hld', 'xER', 'xWHIP']].mean()\n",
    "p_std = p.iloc[:108][['W', 'SO', 'Sv+Hld', 'xER', 'xWHIP']].std()"
   ]
  },
  {
   "cell_type": "code",
   "execution_count": null,
   "id": "634d315e",
   "metadata": {},
   "outputs": [],
   "source": [
    "for i in ['W', 'SO', 'Sv+Hld', 'xER', 'xWHIP']:\n",
    "    p['z'+i] = p[i].apply(lambda x: (x - p_avg[i]) / p_std[i])"
   ]
  },
  {
   "cell_type": "code",
   "execution_count": null,
   "id": "61f3ccc7",
   "metadata": {},
   "outputs": [],
   "source": [
    "p['z'] = p['zW'] + p['zSO'] + p['zSv+Hld'] + p['zxER'] + p['zxWHIP']"
   ]
  },
  {
   "cell_type": "code",
   "execution_count": null,
   "id": "e7ca2cec",
   "metadata": {},
   "outputs": [],
   "source": [
    "p_adjustment_value = abs(p.sort_values('z', ascending=False).iloc[107]['z'])\n",
    "p['z'] = p['z'].apply(lambda x: x+p_adjustment_value)"
   ]
  },
  {
   "cell_type": "code",
   "execution_count": null,
   "id": "afcbb673",
   "metadata": {},
   "outputs": [],
   "source": [
    "from sqlalchemy import text\n",
    "pid = '19611'\n",
    "price = 38\n",
    "owner = 'Harvey'\n",
    "t = text(\"UPDATE hitting SET Owner='\"+owner+\"', Paid=\"+str(price)+\" WHERE playerid='\"+pid+\"'\")\n",
    "result = conn.execute(t)\n",
    "result"
   ]
  },
  {
   "cell_type": "raw",
   "id": "56ba3f85",
   "metadata": {},
   "source": [
    "h.to_sql('hitting', conn, if_exists='replace')"
   ]
  },
  {
   "cell_type": "markdown",
   "id": "3200b728",
   "metadata": {},
   "source": [
    "https://leportella.com/sqlalchemy-tutorial/"
   ]
  },
  {
   "cell_type": "code",
   "execution_count": null,
   "id": "8d216f32",
   "metadata": {},
   "outputs": [],
   "source": [
    "#Creates a table on the DB\n",
    "meta = MetaData()\n",
    "hitters = Table('hitting', meta,\n",
    "                Column('playerid', String, primary_key=True),\n",
    "                #Column('name', String(50)),\n",
    "                #Column('team', String(20)),\n",
    "                #Column('pa', Integer),\n",
    "                #Column('ab', Integer),\n",
    "                #Column('ba', Float),\n",
    "                #Column('h', Integer),\n",
    "                #Column('hr', Integer),\n",
    "                #Column('r', Integer),\n",
    "                #Column('rbi', Integer),\n",
    "                #Column('sb', Integer),\n",
    "                Column('Paid', Integer),\n",
    "                Column('Owner', String(25)),\n",
    "                Column('Used', Boolean)\n",
    ")\n",
    "meta.create_all(engine)"
   ]
  },
  {
   "cell_type": "code",
   "execution_count": null,
   "id": "427147c5",
   "metadata": {},
   "outputs": [],
   "source": [
    "conn = engine.connect()"
   ]
  },
  {
   "cell_type": "code",
   "execution_count": null,
   "id": "0bf755cb",
   "metadata": {},
   "outputs": [],
   "source": [
    "#conn.execute(hitters.delete().where(hitters.c.Used==None))"
   ]
  },
  {
   "cell_type": "code",
   "execution_count": null,
   "id": "e3f62268",
   "metadata": {},
   "outputs": [],
   "source": [
    "conn.execute(hitters.update().values(Paid=15, Owner='Harvey').where(hitters.c.playerid=='15172'))\n",
    "conn.execute(hitters.update().values(Paid=1, Owner='Harvey').where(hitters.c.playerid=='16375'))"
   ]
  },
  {
   "cell_type": "code",
   "execution_count": null,
   "id": "28434830",
   "metadata": {},
   "outputs": [],
   "source": [
    "import json\n",
    "j = h.sort_values('z', ascending=False).to_json(orient='records')\n",
    "j = json.loads(j)\n",
    "j"
   ]
  },
  {
   "cell_type": "code",
   "execution_count": 34,
   "id": "85a14614",
   "metadata": {},
   "outputs": [
    {
     "data": {
      "text/html": [
       "<div>\n",
       "<style scoped>\n",
       "    .dataframe tbody tr th:only-of-type {\n",
       "        vertical-align: middle;\n",
       "    }\n",
       "\n",
       "    .dataframe tbody tr th {\n",
       "        vertical-align: top;\n",
       "    }\n",
       "\n",
       "    .dataframe thead th {\n",
       "        text-align: right;\n",
       "    }\n",
       "</style>\n",
       "<table border=\"1\" class=\"dataframe\">\n",
       "  <thead>\n",
       "    <tr style=\"text-align: right;\">\n",
       "      <th></th>\n",
       "      <th>Name</th>\n",
       "      <th>z</th>\n",
       "      <th>Dollars</th>\n",
       "      <th>Pos</th>\n",
       "    </tr>\n",
       "  </thead>\n",
       "  <tbody>\n",
       "    <tr>\n",
       "      <th>2</th>\n",
       "      <td>Juan Soto</td>\n",
       "      <td>9.390390</td>\n",
       "      <td>37.932103</td>\n",
       "      <td>OF</td>\n",
       "    </tr>\n",
       "    <tr>\n",
       "      <th>10</th>\n",
       "      <td>Ronald Acuna Jr.</td>\n",
       "      <td>8.211041</td>\n",
       "      <td>26.025719</td>\n",
       "      <td>OF</td>\n",
       "    </tr>\n",
       "    <tr>\n",
       "      <th>9</th>\n",
       "      <td>Bryce Harper</td>\n",
       "      <td>7.248026</td>\n",
       "      <td>27.485023</td>\n",
       "      <td>OF</td>\n",
       "    </tr>\n",
       "    <tr>\n",
       "      <th>12</th>\n",
       "      <td>Mike Trout</td>\n",
       "      <td>6.234178</td>\n",
       "      <td>25.942635</td>\n",
       "      <td>OF</td>\n",
       "    </tr>\n",
       "    <tr>\n",
       "      <th>16</th>\n",
       "      <td>Yordan Alvarez</td>\n",
       "      <td>6.159642</td>\n",
       "      <td>25.272377</td>\n",
       "      <td>OF/DH</td>\n",
       "    </tr>\n",
       "    <tr>\n",
       "      <th>14</th>\n",
       "      <td>Kyle Tucker</td>\n",
       "      <td>6.153412</td>\n",
       "      <td>25.381511</td>\n",
       "      <td>OF</td>\n",
       "    </tr>\n",
       "    <tr>\n",
       "      <th>15</th>\n",
       "      <td>Luis Robert</td>\n",
       "      <td>6.083746</td>\n",
       "      <td>25.322911</td>\n",
       "      <td>OF</td>\n",
       "    </tr>\n",
       "    <tr>\n",
       "      <th>27</th>\n",
       "      <td>George Springer</td>\n",
       "      <td>5.212707</td>\n",
       "      <td>20.240662</td>\n",
       "      <td>OF/DH</td>\n",
       "    </tr>\n",
       "    <tr>\n",
       "      <th>52</th>\n",
       "      <td>Starling Marte</td>\n",
       "      <td>4.995739</td>\n",
       "      <td>14.836125</td>\n",
       "      <td>OF</td>\n",
       "    </tr>\n",
       "    <tr>\n",
       "      <th>23</th>\n",
       "      <td>Tyler O'Neill</td>\n",
       "      <td>4.945308</td>\n",
       "      <td>21.173880</td>\n",
       "      <td>OF</td>\n",
       "    </tr>\n",
       "  </tbody>\n",
       "</table>\n",
       "</div>"
      ],
      "text/plain": [
       "                Name         z    Dollars    Pos\n",
       "2          Juan Soto  9.390390  37.932103     OF\n",
       "10  Ronald Acuna Jr.  8.211041  26.025719     OF\n",
       "9       Bryce Harper  7.248026  27.485023     OF\n",
       "12        Mike Trout  6.234178  25.942635     OF\n",
       "16    Yordan Alvarez  6.159642  25.272377  OF/DH\n",
       "14       Kyle Tucker  6.153412  25.381511     OF\n",
       "15       Luis Robert  6.083746  25.322911     OF\n",
       "27   George Springer  5.212707  20.240662  OF/DH\n",
       "52    Starling Marte  4.995739  14.836125     OF\n",
       "23     Tyler O'Neill  4.945308  21.173880     OF"
      ]
     },
     "execution_count": 34,
     "metadata": {},
     "output_type": "execute_result"
    }
   ],
   "source": [
    "mask = (df['Owner'].isna()) & (df['Primary_Pos']=='OF')\n",
    "df[mask][['Name', 'z', 'Dollars', 'Pos']].sort_values('z', ascending=False).head(10)"
   ]
  },
  {
   "cell_type": "code",
   "execution_count": 35,
   "id": "30b5b74e",
   "metadata": {},
   "outputs": [
    {
     "data": {
      "application/vnd.plotly.v1+json": {
       "config": {
        "plotlyServerURL": "https://plot.ly"
       },
       "data": [
        {
         "fill": "toself",
         "r": [
          -0.21435450065144687,
          -0.5397727272727272,
          -0.1457286432160807,
          -0.13461538461538447,
          0.9545454545454545
         ],
         "theta": [
          "zBA",
          "zR",
          "zRBI",
          "zHR",
          "zSB"
         ],
         "type": "scatterpolar"
        }
       ],
       "layout": {
        "polar": {
         "radialaxis": {
          "visible": true
         }
        },
        "showlegend": false,
        "template": {
         "data": {
          "bar": [
           {
            "error_x": {
             "color": "#2a3f5f"
            },
            "error_y": {
             "color": "#2a3f5f"
            },
            "marker": {
             "line": {
              "color": "#E5ECF6",
              "width": 0.5
             },
             "pattern": {
              "fillmode": "overlay",
              "size": 10,
              "solidity": 0.2
             }
            },
            "type": "bar"
           }
          ],
          "barpolar": [
           {
            "marker": {
             "line": {
              "color": "#E5ECF6",
              "width": 0.5
             },
             "pattern": {
              "fillmode": "overlay",
              "size": 10,
              "solidity": 0.2
             }
            },
            "type": "barpolar"
           }
          ],
          "carpet": [
           {
            "aaxis": {
             "endlinecolor": "#2a3f5f",
             "gridcolor": "white",
             "linecolor": "white",
             "minorgridcolor": "white",
             "startlinecolor": "#2a3f5f"
            },
            "baxis": {
             "endlinecolor": "#2a3f5f",
             "gridcolor": "white",
             "linecolor": "white",
             "minorgridcolor": "white",
             "startlinecolor": "#2a3f5f"
            },
            "type": "carpet"
           }
          ],
          "choropleth": [
           {
            "colorbar": {
             "outlinewidth": 0,
             "ticks": ""
            },
            "type": "choropleth"
           }
          ],
          "contour": [
           {
            "colorbar": {
             "outlinewidth": 0,
             "ticks": ""
            },
            "colorscale": [
             [
              0,
              "#0d0887"
             ],
             [
              0.1111111111111111,
              "#46039f"
             ],
             [
              0.2222222222222222,
              "#7201a8"
             ],
             [
              0.3333333333333333,
              "#9c179e"
             ],
             [
              0.4444444444444444,
              "#bd3786"
             ],
             [
              0.5555555555555556,
              "#d8576b"
             ],
             [
              0.6666666666666666,
              "#ed7953"
             ],
             [
              0.7777777777777778,
              "#fb9f3a"
             ],
             [
              0.8888888888888888,
              "#fdca26"
             ],
             [
              1,
              "#f0f921"
             ]
            ],
            "type": "contour"
           }
          ],
          "contourcarpet": [
           {
            "colorbar": {
             "outlinewidth": 0,
             "ticks": ""
            },
            "type": "contourcarpet"
           }
          ],
          "heatmap": [
           {
            "colorbar": {
             "outlinewidth": 0,
             "ticks": ""
            },
            "colorscale": [
             [
              0,
              "#0d0887"
             ],
             [
              0.1111111111111111,
              "#46039f"
             ],
             [
              0.2222222222222222,
              "#7201a8"
             ],
             [
              0.3333333333333333,
              "#9c179e"
             ],
             [
              0.4444444444444444,
              "#bd3786"
             ],
             [
              0.5555555555555556,
              "#d8576b"
             ],
             [
              0.6666666666666666,
              "#ed7953"
             ],
             [
              0.7777777777777778,
              "#fb9f3a"
             ],
             [
              0.8888888888888888,
              "#fdca26"
             ],
             [
              1,
              "#f0f921"
             ]
            ],
            "type": "heatmap"
           }
          ],
          "heatmapgl": [
           {
            "colorbar": {
             "outlinewidth": 0,
             "ticks": ""
            },
            "colorscale": [
             [
              0,
              "#0d0887"
             ],
             [
              0.1111111111111111,
              "#46039f"
             ],
             [
              0.2222222222222222,
              "#7201a8"
             ],
             [
              0.3333333333333333,
              "#9c179e"
             ],
             [
              0.4444444444444444,
              "#bd3786"
             ],
             [
              0.5555555555555556,
              "#d8576b"
             ],
             [
              0.6666666666666666,
              "#ed7953"
             ],
             [
              0.7777777777777778,
              "#fb9f3a"
             ],
             [
              0.8888888888888888,
              "#fdca26"
             ],
             [
              1,
              "#f0f921"
             ]
            ],
            "type": "heatmapgl"
           }
          ],
          "histogram": [
           {
            "marker": {
             "pattern": {
              "fillmode": "overlay",
              "size": 10,
              "solidity": 0.2
             }
            },
            "type": "histogram"
           }
          ],
          "histogram2d": [
           {
            "colorbar": {
             "outlinewidth": 0,
             "ticks": ""
            },
            "colorscale": [
             [
              0,
              "#0d0887"
             ],
             [
              0.1111111111111111,
              "#46039f"
             ],
             [
              0.2222222222222222,
              "#7201a8"
             ],
             [
              0.3333333333333333,
              "#9c179e"
             ],
             [
              0.4444444444444444,
              "#bd3786"
             ],
             [
              0.5555555555555556,
              "#d8576b"
             ],
             [
              0.6666666666666666,
              "#ed7953"
             ],
             [
              0.7777777777777778,
              "#fb9f3a"
             ],
             [
              0.8888888888888888,
              "#fdca26"
             ],
             [
              1,
              "#f0f921"
             ]
            ],
            "type": "histogram2d"
           }
          ],
          "histogram2dcontour": [
           {
            "colorbar": {
             "outlinewidth": 0,
             "ticks": ""
            },
            "colorscale": [
             [
              0,
              "#0d0887"
             ],
             [
              0.1111111111111111,
              "#46039f"
             ],
             [
              0.2222222222222222,
              "#7201a8"
             ],
             [
              0.3333333333333333,
              "#9c179e"
             ],
             [
              0.4444444444444444,
              "#bd3786"
             ],
             [
              0.5555555555555556,
              "#d8576b"
             ],
             [
              0.6666666666666666,
              "#ed7953"
             ],
             [
              0.7777777777777778,
              "#fb9f3a"
             ],
             [
              0.8888888888888888,
              "#fdca26"
             ],
             [
              1,
              "#f0f921"
             ]
            ],
            "type": "histogram2dcontour"
           }
          ],
          "mesh3d": [
           {
            "colorbar": {
             "outlinewidth": 0,
             "ticks": ""
            },
            "type": "mesh3d"
           }
          ],
          "parcoords": [
           {
            "line": {
             "colorbar": {
              "outlinewidth": 0,
              "ticks": ""
             }
            },
            "type": "parcoords"
           }
          ],
          "pie": [
           {
            "automargin": true,
            "type": "pie"
           }
          ],
          "scatter": [
           {
            "marker": {
             "colorbar": {
              "outlinewidth": 0,
              "ticks": ""
             }
            },
            "type": "scatter"
           }
          ],
          "scatter3d": [
           {
            "line": {
             "colorbar": {
              "outlinewidth": 0,
              "ticks": ""
             }
            },
            "marker": {
             "colorbar": {
              "outlinewidth": 0,
              "ticks": ""
             }
            },
            "type": "scatter3d"
           }
          ],
          "scattercarpet": [
           {
            "marker": {
             "colorbar": {
              "outlinewidth": 0,
              "ticks": ""
             }
            },
            "type": "scattercarpet"
           }
          ],
          "scattergeo": [
           {
            "marker": {
             "colorbar": {
              "outlinewidth": 0,
              "ticks": ""
             }
            },
            "type": "scattergeo"
           }
          ],
          "scattergl": [
           {
            "marker": {
             "colorbar": {
              "outlinewidth": 0,
              "ticks": ""
             }
            },
            "type": "scattergl"
           }
          ],
          "scattermapbox": [
           {
            "marker": {
             "colorbar": {
              "outlinewidth": 0,
              "ticks": ""
             }
            },
            "type": "scattermapbox"
           }
          ],
          "scatterpolar": [
           {
            "marker": {
             "colorbar": {
              "outlinewidth": 0,
              "ticks": ""
             }
            },
            "type": "scatterpolar"
           }
          ],
          "scatterpolargl": [
           {
            "marker": {
             "colorbar": {
              "outlinewidth": 0,
              "ticks": ""
             }
            },
            "type": "scatterpolargl"
           }
          ],
          "scatterternary": [
           {
            "marker": {
             "colorbar": {
              "outlinewidth": 0,
              "ticks": ""
             }
            },
            "type": "scatterternary"
           }
          ],
          "surface": [
           {
            "colorbar": {
             "outlinewidth": 0,
             "ticks": ""
            },
            "colorscale": [
             [
              0,
              "#0d0887"
             ],
             [
              0.1111111111111111,
              "#46039f"
             ],
             [
              0.2222222222222222,
              "#7201a8"
             ],
             [
              0.3333333333333333,
              "#9c179e"
             ],
             [
              0.4444444444444444,
              "#bd3786"
             ],
             [
              0.5555555555555556,
              "#d8576b"
             ],
             [
              0.6666666666666666,
              "#ed7953"
             ],
             [
              0.7777777777777778,
              "#fb9f3a"
             ],
             [
              0.8888888888888888,
              "#fdca26"
             ],
             [
              1,
              "#f0f921"
             ]
            ],
            "type": "surface"
           }
          ],
          "table": [
           {
            "cells": {
             "fill": {
              "color": "#EBF0F8"
             },
             "line": {
              "color": "white"
             }
            },
            "header": {
             "fill": {
              "color": "#C8D4E3"
             },
             "line": {
              "color": "white"
             }
            },
            "type": "table"
           }
          ]
         },
         "layout": {
          "annotationdefaults": {
           "arrowcolor": "#2a3f5f",
           "arrowhead": 0,
           "arrowwidth": 1
          },
          "autotypenumbers": "strict",
          "coloraxis": {
           "colorbar": {
            "outlinewidth": 0,
            "ticks": ""
           }
          },
          "colorscale": {
           "diverging": [
            [
             0,
             "#8e0152"
            ],
            [
             0.1,
             "#c51b7d"
            ],
            [
             0.2,
             "#de77ae"
            ],
            [
             0.3,
             "#f1b6da"
            ],
            [
             0.4,
             "#fde0ef"
            ],
            [
             0.5,
             "#f7f7f7"
            ],
            [
             0.6,
             "#e6f5d0"
            ],
            [
             0.7,
             "#b8e186"
            ],
            [
             0.8,
             "#7fbc41"
            ],
            [
             0.9,
             "#4d9221"
            ],
            [
             1,
             "#276419"
            ]
           ],
           "sequential": [
            [
             0,
             "#0d0887"
            ],
            [
             0.1111111111111111,
             "#46039f"
            ],
            [
             0.2222222222222222,
             "#7201a8"
            ],
            [
             0.3333333333333333,
             "#9c179e"
            ],
            [
             0.4444444444444444,
             "#bd3786"
            ],
            [
             0.5555555555555556,
             "#d8576b"
            ],
            [
             0.6666666666666666,
             "#ed7953"
            ],
            [
             0.7777777777777778,
             "#fb9f3a"
            ],
            [
             0.8888888888888888,
             "#fdca26"
            ],
            [
             1,
             "#f0f921"
            ]
           ],
           "sequentialminus": [
            [
             0,
             "#0d0887"
            ],
            [
             0.1111111111111111,
             "#46039f"
            ],
            [
             0.2222222222222222,
             "#7201a8"
            ],
            [
             0.3333333333333333,
             "#9c179e"
            ],
            [
             0.4444444444444444,
             "#bd3786"
            ],
            [
             0.5555555555555556,
             "#d8576b"
            ],
            [
             0.6666666666666666,
             "#ed7953"
            ],
            [
             0.7777777777777778,
             "#fb9f3a"
            ],
            [
             0.8888888888888888,
             "#fdca26"
            ],
            [
             1,
             "#f0f921"
            ]
           ]
          },
          "colorway": [
           "#636efa",
           "#EF553B",
           "#00cc96",
           "#ab63fa",
           "#FFA15A",
           "#19d3f3",
           "#FF6692",
           "#B6E880",
           "#FF97FF",
           "#FECB52"
          ],
          "font": {
           "color": "#2a3f5f"
          },
          "geo": {
           "bgcolor": "white",
           "lakecolor": "white",
           "landcolor": "#E5ECF6",
           "showlakes": true,
           "showland": true,
           "subunitcolor": "white"
          },
          "hoverlabel": {
           "align": "left"
          },
          "hovermode": "closest",
          "mapbox": {
           "style": "light"
          },
          "paper_bgcolor": "white",
          "plot_bgcolor": "#E5ECF6",
          "polar": {
           "angularaxis": {
            "gridcolor": "white",
            "linecolor": "white",
            "ticks": ""
           },
           "bgcolor": "#E5ECF6",
           "radialaxis": {
            "gridcolor": "white",
            "linecolor": "white",
            "ticks": ""
           }
          },
          "scene": {
           "xaxis": {
            "backgroundcolor": "#E5ECF6",
            "gridcolor": "white",
            "gridwidth": 2,
            "linecolor": "white",
            "showbackground": true,
            "ticks": "",
            "zerolinecolor": "white"
           },
           "yaxis": {
            "backgroundcolor": "#E5ECF6",
            "gridcolor": "white",
            "gridwidth": 2,
            "linecolor": "white",
            "showbackground": true,
            "ticks": "",
            "zerolinecolor": "white"
           },
           "zaxis": {
            "backgroundcolor": "#E5ECF6",
            "gridcolor": "white",
            "gridwidth": 2,
            "linecolor": "white",
            "showbackground": true,
            "ticks": "",
            "zerolinecolor": "white"
           }
          },
          "shapedefaults": {
           "line": {
            "color": "#2a3f5f"
           }
          },
          "ternary": {
           "aaxis": {
            "gridcolor": "white",
            "linecolor": "white",
            "ticks": ""
           },
           "baxis": {
            "gridcolor": "white",
            "linecolor": "white",
            "ticks": ""
           },
           "bgcolor": "#E5ECF6",
           "caxis": {
            "gridcolor": "white",
            "linecolor": "white",
            "ticks": ""
           }
          },
          "title": {
           "x": 0.05
          },
          "xaxis": {
           "automargin": true,
           "gridcolor": "white",
           "linecolor": "white",
           "ticks": "",
           "title": {
            "standoff": 15
           },
           "zerolinecolor": "white",
           "zerolinewidth": 2
          },
          "yaxis": {
           "automargin": true,
           "gridcolor": "white",
           "linecolor": "white",
           "ticks": "",
           "title": {
            "standoff": 15
           },
           "zerolinecolor": "white",
           "zerolinewidth": 2
          }
         }
        }
       }
      },
      "text/html": [
       "<div>                            <div id=\"a24d56ff-9e8c-40c4-9c5f-f27a10898977\" class=\"plotly-graph-div\" style=\"height:525px; width:100%;\"></div>            <script type=\"text/javascript\">                require([\"plotly\"], function(Plotly) {                    window.PLOTLYENV=window.PLOTLYENV || {};                                    if (document.getElementById(\"a24d56ff-9e8c-40c4-9c5f-f27a10898977\")) {                    Plotly.newPlot(                        \"a24d56ff-9e8c-40c4-9c5f-f27a10898977\",                        [{\"fill\":\"toself\",\"r\":[-0.21435450065144687,-0.5397727272727272,-0.1457286432160807,-0.13461538461538447,0.9545454545454545],\"theta\":[\"zBA\",\"zR\",\"zRBI\",\"zHR\",\"zSB\"],\"type\":\"scatterpolar\"}],                        {\"polar\":{\"radialaxis\":{\"visible\":true}},\"showlegend\":false,\"template\":{\"data\":{\"bar\":[{\"error_x\":{\"color\":\"#2a3f5f\"},\"error_y\":{\"color\":\"#2a3f5f\"},\"marker\":{\"line\":{\"color\":\"#E5ECF6\",\"width\":0.5},\"pattern\":{\"fillmode\":\"overlay\",\"size\":10,\"solidity\":0.2}},\"type\":\"bar\"}],\"barpolar\":[{\"marker\":{\"line\":{\"color\":\"#E5ECF6\",\"width\":0.5},\"pattern\":{\"fillmode\":\"overlay\",\"size\":10,\"solidity\":0.2}},\"type\":\"barpolar\"}],\"carpet\":[{\"aaxis\":{\"endlinecolor\":\"#2a3f5f\",\"gridcolor\":\"white\",\"linecolor\":\"white\",\"minorgridcolor\":\"white\",\"startlinecolor\":\"#2a3f5f\"},\"baxis\":{\"endlinecolor\":\"#2a3f5f\",\"gridcolor\":\"white\",\"linecolor\":\"white\",\"minorgridcolor\":\"white\",\"startlinecolor\":\"#2a3f5f\"},\"type\":\"carpet\"}],\"choropleth\":[{\"colorbar\":{\"outlinewidth\":0,\"ticks\":\"\"},\"type\":\"choropleth\"}],\"contour\":[{\"colorbar\":{\"outlinewidth\":0,\"ticks\":\"\"},\"colorscale\":[[0.0,\"#0d0887\"],[0.1111111111111111,\"#46039f\"],[0.2222222222222222,\"#7201a8\"],[0.3333333333333333,\"#9c179e\"],[0.4444444444444444,\"#bd3786\"],[0.5555555555555556,\"#d8576b\"],[0.6666666666666666,\"#ed7953\"],[0.7777777777777778,\"#fb9f3a\"],[0.8888888888888888,\"#fdca26\"],[1.0,\"#f0f921\"]],\"type\":\"contour\"}],\"contourcarpet\":[{\"colorbar\":{\"outlinewidth\":0,\"ticks\":\"\"},\"type\":\"contourcarpet\"}],\"heatmap\":[{\"colorbar\":{\"outlinewidth\":0,\"ticks\":\"\"},\"colorscale\":[[0.0,\"#0d0887\"],[0.1111111111111111,\"#46039f\"],[0.2222222222222222,\"#7201a8\"],[0.3333333333333333,\"#9c179e\"],[0.4444444444444444,\"#bd3786\"],[0.5555555555555556,\"#d8576b\"],[0.6666666666666666,\"#ed7953\"],[0.7777777777777778,\"#fb9f3a\"],[0.8888888888888888,\"#fdca26\"],[1.0,\"#f0f921\"]],\"type\":\"heatmap\"}],\"heatmapgl\":[{\"colorbar\":{\"outlinewidth\":0,\"ticks\":\"\"},\"colorscale\":[[0.0,\"#0d0887\"],[0.1111111111111111,\"#46039f\"],[0.2222222222222222,\"#7201a8\"],[0.3333333333333333,\"#9c179e\"],[0.4444444444444444,\"#bd3786\"],[0.5555555555555556,\"#d8576b\"],[0.6666666666666666,\"#ed7953\"],[0.7777777777777778,\"#fb9f3a\"],[0.8888888888888888,\"#fdca26\"],[1.0,\"#f0f921\"]],\"type\":\"heatmapgl\"}],\"histogram\":[{\"marker\":{\"pattern\":{\"fillmode\":\"overlay\",\"size\":10,\"solidity\":0.2}},\"type\":\"histogram\"}],\"histogram2d\":[{\"colorbar\":{\"outlinewidth\":0,\"ticks\":\"\"},\"colorscale\":[[0.0,\"#0d0887\"],[0.1111111111111111,\"#46039f\"],[0.2222222222222222,\"#7201a8\"],[0.3333333333333333,\"#9c179e\"],[0.4444444444444444,\"#bd3786\"],[0.5555555555555556,\"#d8576b\"],[0.6666666666666666,\"#ed7953\"],[0.7777777777777778,\"#fb9f3a\"],[0.8888888888888888,\"#fdca26\"],[1.0,\"#f0f921\"]],\"type\":\"histogram2d\"}],\"histogram2dcontour\":[{\"colorbar\":{\"outlinewidth\":0,\"ticks\":\"\"},\"colorscale\":[[0.0,\"#0d0887\"],[0.1111111111111111,\"#46039f\"],[0.2222222222222222,\"#7201a8\"],[0.3333333333333333,\"#9c179e\"],[0.4444444444444444,\"#bd3786\"],[0.5555555555555556,\"#d8576b\"],[0.6666666666666666,\"#ed7953\"],[0.7777777777777778,\"#fb9f3a\"],[0.8888888888888888,\"#fdca26\"],[1.0,\"#f0f921\"]],\"type\":\"histogram2dcontour\"}],\"mesh3d\":[{\"colorbar\":{\"outlinewidth\":0,\"ticks\":\"\"},\"type\":\"mesh3d\"}],\"parcoords\":[{\"line\":{\"colorbar\":{\"outlinewidth\":0,\"ticks\":\"\"}},\"type\":\"parcoords\"}],\"pie\":[{\"automargin\":true,\"type\":\"pie\"}],\"scatter\":[{\"marker\":{\"colorbar\":{\"outlinewidth\":0,\"ticks\":\"\"}},\"type\":\"scatter\"}],\"scatter3d\":[{\"line\":{\"colorbar\":{\"outlinewidth\":0,\"ticks\":\"\"}},\"marker\":{\"colorbar\":{\"outlinewidth\":0,\"ticks\":\"\"}},\"type\":\"scatter3d\"}],\"scattercarpet\":[{\"marker\":{\"colorbar\":{\"outlinewidth\":0,\"ticks\":\"\"}},\"type\":\"scattercarpet\"}],\"scattergeo\":[{\"marker\":{\"colorbar\":{\"outlinewidth\":0,\"ticks\":\"\"}},\"type\":\"scattergeo\"}],\"scattergl\":[{\"marker\":{\"colorbar\":{\"outlinewidth\":0,\"ticks\":\"\"}},\"type\":\"scattergl\"}],\"scattermapbox\":[{\"marker\":{\"colorbar\":{\"outlinewidth\":0,\"ticks\":\"\"}},\"type\":\"scattermapbox\"}],\"scatterpolar\":[{\"marker\":{\"colorbar\":{\"outlinewidth\":0,\"ticks\":\"\"}},\"type\":\"scatterpolar\"}],\"scatterpolargl\":[{\"marker\":{\"colorbar\":{\"outlinewidth\":0,\"ticks\":\"\"}},\"type\":\"scatterpolargl\"}],\"scatterternary\":[{\"marker\":{\"colorbar\":{\"outlinewidth\":0,\"ticks\":\"\"}},\"type\":\"scatterternary\"}],\"surface\":[{\"colorbar\":{\"outlinewidth\":0,\"ticks\":\"\"},\"colorscale\":[[0.0,\"#0d0887\"],[0.1111111111111111,\"#46039f\"],[0.2222222222222222,\"#7201a8\"],[0.3333333333333333,\"#9c179e\"],[0.4444444444444444,\"#bd3786\"],[0.5555555555555556,\"#d8576b\"],[0.6666666666666666,\"#ed7953\"],[0.7777777777777778,\"#fb9f3a\"],[0.8888888888888888,\"#fdca26\"],[1.0,\"#f0f921\"]],\"type\":\"surface\"}],\"table\":[{\"cells\":{\"fill\":{\"color\":\"#EBF0F8\"},\"line\":{\"color\":\"white\"}},\"header\":{\"fill\":{\"color\":\"#C8D4E3\"},\"line\":{\"color\":\"white\"}},\"type\":\"table\"}]},\"layout\":{\"annotationdefaults\":{\"arrowcolor\":\"#2a3f5f\",\"arrowhead\":0,\"arrowwidth\":1},\"autotypenumbers\":\"strict\",\"coloraxis\":{\"colorbar\":{\"outlinewidth\":0,\"ticks\":\"\"}},\"colorscale\":{\"diverging\":[[0,\"#8e0152\"],[0.1,\"#c51b7d\"],[0.2,\"#de77ae\"],[0.3,\"#f1b6da\"],[0.4,\"#fde0ef\"],[0.5,\"#f7f7f7\"],[0.6,\"#e6f5d0\"],[0.7,\"#b8e186\"],[0.8,\"#7fbc41\"],[0.9,\"#4d9221\"],[1,\"#276419\"]],\"sequential\":[[0.0,\"#0d0887\"],[0.1111111111111111,\"#46039f\"],[0.2222222222222222,\"#7201a8\"],[0.3333333333333333,\"#9c179e\"],[0.4444444444444444,\"#bd3786\"],[0.5555555555555556,\"#d8576b\"],[0.6666666666666666,\"#ed7953\"],[0.7777777777777778,\"#fb9f3a\"],[0.8888888888888888,\"#fdca26\"],[1.0,\"#f0f921\"]],\"sequentialminus\":[[0.0,\"#0d0887\"],[0.1111111111111111,\"#46039f\"],[0.2222222222222222,\"#7201a8\"],[0.3333333333333333,\"#9c179e\"],[0.4444444444444444,\"#bd3786\"],[0.5555555555555556,\"#d8576b\"],[0.6666666666666666,\"#ed7953\"],[0.7777777777777778,\"#fb9f3a\"],[0.8888888888888888,\"#fdca26\"],[1.0,\"#f0f921\"]]},\"colorway\":[\"#636efa\",\"#EF553B\",\"#00cc96\",\"#ab63fa\",\"#FFA15A\",\"#19d3f3\",\"#FF6692\",\"#B6E880\",\"#FF97FF\",\"#FECB52\"],\"font\":{\"color\":\"#2a3f5f\"},\"geo\":{\"bgcolor\":\"white\",\"lakecolor\":\"white\",\"landcolor\":\"#E5ECF6\",\"showlakes\":true,\"showland\":true,\"subunitcolor\":\"white\"},\"hoverlabel\":{\"align\":\"left\"},\"hovermode\":\"closest\",\"mapbox\":{\"style\":\"light\"},\"paper_bgcolor\":\"white\",\"plot_bgcolor\":\"#E5ECF6\",\"polar\":{\"angularaxis\":{\"gridcolor\":\"white\",\"linecolor\":\"white\",\"ticks\":\"\"},\"bgcolor\":\"#E5ECF6\",\"radialaxis\":{\"gridcolor\":\"white\",\"linecolor\":\"white\",\"ticks\":\"\"}},\"scene\":{\"xaxis\":{\"backgroundcolor\":\"#E5ECF6\",\"gridcolor\":\"white\",\"gridwidth\":2,\"linecolor\":\"white\",\"showbackground\":true,\"ticks\":\"\",\"zerolinecolor\":\"white\"},\"yaxis\":{\"backgroundcolor\":\"#E5ECF6\",\"gridcolor\":\"white\",\"gridwidth\":2,\"linecolor\":\"white\",\"showbackground\":true,\"ticks\":\"\",\"zerolinecolor\":\"white\"},\"zaxis\":{\"backgroundcolor\":\"#E5ECF6\",\"gridcolor\":\"white\",\"gridwidth\":2,\"linecolor\":\"white\",\"showbackground\":true,\"ticks\":\"\",\"zerolinecolor\":\"white\"}},\"shapedefaults\":{\"line\":{\"color\":\"#2a3f5f\"}},\"ternary\":{\"aaxis\":{\"gridcolor\":\"white\",\"linecolor\":\"white\",\"ticks\":\"\"},\"baxis\":{\"gridcolor\":\"white\",\"linecolor\":\"white\",\"ticks\":\"\"},\"bgcolor\":\"#E5ECF6\",\"caxis\":{\"gridcolor\":\"white\",\"linecolor\":\"white\",\"ticks\":\"\"}},\"title\":{\"x\":0.05},\"xaxis\":{\"automargin\":true,\"gridcolor\":\"white\",\"linecolor\":\"white\",\"ticks\":\"\",\"title\":{\"standoff\":15},\"zerolinecolor\":\"white\",\"zerolinewidth\":2},\"yaxis\":{\"automargin\":true,\"gridcolor\":\"white\",\"linecolor\":\"white\",\"ticks\":\"\",\"title\":{\"standoff\":15},\"zerolinecolor\":\"white\",\"zerolinewidth\":2}}}},                        {\"responsive\": true}                    ).then(function(){\n",
       "                            \n",
       "var gd = document.getElementById('a24d56ff-9e8c-40c4-9c5f-f27a10898977');\n",
       "var x = new MutationObserver(function (mutations, observer) {{\n",
       "        var display = window.getComputedStyle(gd).display;\n",
       "        if (!display || display === 'none') {{\n",
       "            console.log([gd, 'removed!']);\n",
       "            Plotly.purge(gd);\n",
       "            observer.disconnect();\n",
       "        }}\n",
       "}});\n",
       "\n",
       "// Listen for the removal of the full notebook cells\n",
       "var notebookContainer = gd.closest('#notebook-container');\n",
       "if (notebookContainer) {{\n",
       "    x.observe(notebookContainer, {childList: true});\n",
       "}}\n",
       "\n",
       "// Listen for the clearing of the current output cell\n",
       "var outputEl = gd.closest('.output');\n",
       "if (outputEl) {{\n",
       "    x.observe(outputEl, {childList: true});\n",
       "}}\n",
       "\n",
       "                        })                };                });            </script>        </div>"
      ]
     },
     "metadata": {},
     "output_type": "display_data"
    }
   ],
   "source": [
    "single_player = (h['Name']=='Robert Witt')\n",
    "\n",
    "fig = go.Figure(data=go.Scatterpolar(\n",
    "  r=h[single_player][['zBA', 'zR', 'zRBI', 'zHR', 'zSB']].values.tolist()[0],\n",
    "  theta=['zBA', 'zR', 'zRBI', 'zHR', 'zSB'],\n",
    "  fill='toself',\n",
    "))\n",
    "\n",
    "fig.update_layout(\n",
    "  polar=dict(\n",
    "    radialaxis=dict(\n",
    "      visible=True\n",
    "    ),\n",
    "  ),\n",
    "  showlegend=False\n",
    ")\n",
    "\n",
    "fig.show()"
   ]
  },
  {
   "cell_type": "code",
   "execution_count": 36,
   "id": "a138c5d0",
   "metadata": {},
   "outputs": [
    {
     "data": {
      "application/vnd.plotly.v1+json": {
       "config": {
        "plotlyServerURL": "https://plot.ly"
       },
       "data": [
        {
         "type": "bar",
         "x": [
          "Charmer",
          "Dirty Birds",
          "Harvey",
          "Lil Trump",
          "Lima Time",
          "Midnight",
          "Moms Cookin",
          "Roid Ragers",
          "Trouble",
          "Wu-Tang"
         ],
         "y": [
          19,
          20,
          20,
          32,
          42.5,
          14.5,
          24,
          40,
          29.5,
          33.5
         ]
        }
       ],
       "layout": {
        "template": {
         "data": {
          "bar": [
           {
            "error_x": {
             "color": "#2a3f5f"
            },
            "error_y": {
             "color": "#2a3f5f"
            },
            "marker": {
             "line": {
              "color": "#E5ECF6",
              "width": 0.5
             },
             "pattern": {
              "fillmode": "overlay",
              "size": 10,
              "solidity": 0.2
             }
            },
            "type": "bar"
           }
          ],
          "barpolar": [
           {
            "marker": {
             "line": {
              "color": "#E5ECF6",
              "width": 0.5
             },
             "pattern": {
              "fillmode": "overlay",
              "size": 10,
              "solidity": 0.2
             }
            },
            "type": "barpolar"
           }
          ],
          "carpet": [
           {
            "aaxis": {
             "endlinecolor": "#2a3f5f",
             "gridcolor": "white",
             "linecolor": "white",
             "minorgridcolor": "white",
             "startlinecolor": "#2a3f5f"
            },
            "baxis": {
             "endlinecolor": "#2a3f5f",
             "gridcolor": "white",
             "linecolor": "white",
             "minorgridcolor": "white",
             "startlinecolor": "#2a3f5f"
            },
            "type": "carpet"
           }
          ],
          "choropleth": [
           {
            "colorbar": {
             "outlinewidth": 0,
             "ticks": ""
            },
            "type": "choropleth"
           }
          ],
          "contour": [
           {
            "colorbar": {
             "outlinewidth": 0,
             "ticks": ""
            },
            "colorscale": [
             [
              0,
              "#0d0887"
             ],
             [
              0.1111111111111111,
              "#46039f"
             ],
             [
              0.2222222222222222,
              "#7201a8"
             ],
             [
              0.3333333333333333,
              "#9c179e"
             ],
             [
              0.4444444444444444,
              "#bd3786"
             ],
             [
              0.5555555555555556,
              "#d8576b"
             ],
             [
              0.6666666666666666,
              "#ed7953"
             ],
             [
              0.7777777777777778,
              "#fb9f3a"
             ],
             [
              0.8888888888888888,
              "#fdca26"
             ],
             [
              1,
              "#f0f921"
             ]
            ],
            "type": "contour"
           }
          ],
          "contourcarpet": [
           {
            "colorbar": {
             "outlinewidth": 0,
             "ticks": ""
            },
            "type": "contourcarpet"
           }
          ],
          "heatmap": [
           {
            "colorbar": {
             "outlinewidth": 0,
             "ticks": ""
            },
            "colorscale": [
             [
              0,
              "#0d0887"
             ],
             [
              0.1111111111111111,
              "#46039f"
             ],
             [
              0.2222222222222222,
              "#7201a8"
             ],
             [
              0.3333333333333333,
              "#9c179e"
             ],
             [
              0.4444444444444444,
              "#bd3786"
             ],
             [
              0.5555555555555556,
              "#d8576b"
             ],
             [
              0.6666666666666666,
              "#ed7953"
             ],
             [
              0.7777777777777778,
              "#fb9f3a"
             ],
             [
              0.8888888888888888,
              "#fdca26"
             ],
             [
              1,
              "#f0f921"
             ]
            ],
            "type": "heatmap"
           }
          ],
          "heatmapgl": [
           {
            "colorbar": {
             "outlinewidth": 0,
             "ticks": ""
            },
            "colorscale": [
             [
              0,
              "#0d0887"
             ],
             [
              0.1111111111111111,
              "#46039f"
             ],
             [
              0.2222222222222222,
              "#7201a8"
             ],
             [
              0.3333333333333333,
              "#9c179e"
             ],
             [
              0.4444444444444444,
              "#bd3786"
             ],
             [
              0.5555555555555556,
              "#d8576b"
             ],
             [
              0.6666666666666666,
              "#ed7953"
             ],
             [
              0.7777777777777778,
              "#fb9f3a"
             ],
             [
              0.8888888888888888,
              "#fdca26"
             ],
             [
              1,
              "#f0f921"
             ]
            ],
            "type": "heatmapgl"
           }
          ],
          "histogram": [
           {
            "marker": {
             "pattern": {
              "fillmode": "overlay",
              "size": 10,
              "solidity": 0.2
             }
            },
            "type": "histogram"
           }
          ],
          "histogram2d": [
           {
            "colorbar": {
             "outlinewidth": 0,
             "ticks": ""
            },
            "colorscale": [
             [
              0,
              "#0d0887"
             ],
             [
              0.1111111111111111,
              "#46039f"
             ],
             [
              0.2222222222222222,
              "#7201a8"
             ],
             [
              0.3333333333333333,
              "#9c179e"
             ],
             [
              0.4444444444444444,
              "#bd3786"
             ],
             [
              0.5555555555555556,
              "#d8576b"
             ],
             [
              0.6666666666666666,
              "#ed7953"
             ],
             [
              0.7777777777777778,
              "#fb9f3a"
             ],
             [
              0.8888888888888888,
              "#fdca26"
             ],
             [
              1,
              "#f0f921"
             ]
            ],
            "type": "histogram2d"
           }
          ],
          "histogram2dcontour": [
           {
            "colorbar": {
             "outlinewidth": 0,
             "ticks": ""
            },
            "colorscale": [
             [
              0,
              "#0d0887"
             ],
             [
              0.1111111111111111,
              "#46039f"
             ],
             [
              0.2222222222222222,
              "#7201a8"
             ],
             [
              0.3333333333333333,
              "#9c179e"
             ],
             [
              0.4444444444444444,
              "#bd3786"
             ],
             [
              0.5555555555555556,
              "#d8576b"
             ],
             [
              0.6666666666666666,
              "#ed7953"
             ],
             [
              0.7777777777777778,
              "#fb9f3a"
             ],
             [
              0.8888888888888888,
              "#fdca26"
             ],
             [
              1,
              "#f0f921"
             ]
            ],
            "type": "histogram2dcontour"
           }
          ],
          "mesh3d": [
           {
            "colorbar": {
             "outlinewidth": 0,
             "ticks": ""
            },
            "type": "mesh3d"
           }
          ],
          "parcoords": [
           {
            "line": {
             "colorbar": {
              "outlinewidth": 0,
              "ticks": ""
             }
            },
            "type": "parcoords"
           }
          ],
          "pie": [
           {
            "automargin": true,
            "type": "pie"
           }
          ],
          "scatter": [
           {
            "marker": {
             "colorbar": {
              "outlinewidth": 0,
              "ticks": ""
             }
            },
            "type": "scatter"
           }
          ],
          "scatter3d": [
           {
            "line": {
             "colorbar": {
              "outlinewidth": 0,
              "ticks": ""
             }
            },
            "marker": {
             "colorbar": {
              "outlinewidth": 0,
              "ticks": ""
             }
            },
            "type": "scatter3d"
           }
          ],
          "scattercarpet": [
           {
            "marker": {
             "colorbar": {
              "outlinewidth": 0,
              "ticks": ""
             }
            },
            "type": "scattercarpet"
           }
          ],
          "scattergeo": [
           {
            "marker": {
             "colorbar": {
              "outlinewidth": 0,
              "ticks": ""
             }
            },
            "type": "scattergeo"
           }
          ],
          "scattergl": [
           {
            "marker": {
             "colorbar": {
              "outlinewidth": 0,
              "ticks": ""
             }
            },
            "type": "scattergl"
           }
          ],
          "scattermapbox": [
           {
            "marker": {
             "colorbar": {
              "outlinewidth": 0,
              "ticks": ""
             }
            },
            "type": "scattermapbox"
           }
          ],
          "scatterpolar": [
           {
            "marker": {
             "colorbar": {
              "outlinewidth": 0,
              "ticks": ""
             }
            },
            "type": "scatterpolar"
           }
          ],
          "scatterpolargl": [
           {
            "marker": {
             "colorbar": {
              "outlinewidth": 0,
              "ticks": ""
             }
            },
            "type": "scatterpolargl"
           }
          ],
          "scatterternary": [
           {
            "marker": {
             "colorbar": {
              "outlinewidth": 0,
              "ticks": ""
             }
            },
            "type": "scatterternary"
           }
          ],
          "surface": [
           {
            "colorbar": {
             "outlinewidth": 0,
             "ticks": ""
            },
            "colorscale": [
             [
              0,
              "#0d0887"
             ],
             [
              0.1111111111111111,
              "#46039f"
             ],
             [
              0.2222222222222222,
              "#7201a8"
             ],
             [
              0.3333333333333333,
              "#9c179e"
             ],
             [
              0.4444444444444444,
              "#bd3786"
             ],
             [
              0.5555555555555556,
              "#d8576b"
             ],
             [
              0.6666666666666666,
              "#ed7953"
             ],
             [
              0.7777777777777778,
              "#fb9f3a"
             ],
             [
              0.8888888888888888,
              "#fdca26"
             ],
             [
              1,
              "#f0f921"
             ]
            ],
            "type": "surface"
           }
          ],
          "table": [
           {
            "cells": {
             "fill": {
              "color": "#EBF0F8"
             },
             "line": {
              "color": "white"
             }
            },
            "header": {
             "fill": {
              "color": "#C8D4E3"
             },
             "line": {
              "color": "white"
             }
            },
            "type": "table"
           }
          ]
         },
         "layout": {
          "annotationdefaults": {
           "arrowcolor": "#2a3f5f",
           "arrowhead": 0,
           "arrowwidth": 1
          },
          "autotypenumbers": "strict",
          "coloraxis": {
           "colorbar": {
            "outlinewidth": 0,
            "ticks": ""
           }
          },
          "colorscale": {
           "diverging": [
            [
             0,
             "#8e0152"
            ],
            [
             0.1,
             "#c51b7d"
            ],
            [
             0.2,
             "#de77ae"
            ],
            [
             0.3,
             "#f1b6da"
            ],
            [
             0.4,
             "#fde0ef"
            ],
            [
             0.5,
             "#f7f7f7"
            ],
            [
             0.6,
             "#e6f5d0"
            ],
            [
             0.7,
             "#b8e186"
            ],
            [
             0.8,
             "#7fbc41"
            ],
            [
             0.9,
             "#4d9221"
            ],
            [
             1,
             "#276419"
            ]
           ],
           "sequential": [
            [
             0,
             "#0d0887"
            ],
            [
             0.1111111111111111,
             "#46039f"
            ],
            [
             0.2222222222222222,
             "#7201a8"
            ],
            [
             0.3333333333333333,
             "#9c179e"
            ],
            [
             0.4444444444444444,
             "#bd3786"
            ],
            [
             0.5555555555555556,
             "#d8576b"
            ],
            [
             0.6666666666666666,
             "#ed7953"
            ],
            [
             0.7777777777777778,
             "#fb9f3a"
            ],
            [
             0.8888888888888888,
             "#fdca26"
            ],
            [
             1,
             "#f0f921"
            ]
           ],
           "sequentialminus": [
            [
             0,
             "#0d0887"
            ],
            [
             0.1111111111111111,
             "#46039f"
            ],
            [
             0.2222222222222222,
             "#7201a8"
            ],
            [
             0.3333333333333333,
             "#9c179e"
            ],
            [
             0.4444444444444444,
             "#bd3786"
            ],
            [
             0.5555555555555556,
             "#d8576b"
            ],
            [
             0.6666666666666666,
             "#ed7953"
            ],
            [
             0.7777777777777778,
             "#fb9f3a"
            ],
            [
             0.8888888888888888,
             "#fdca26"
            ],
            [
             1,
             "#f0f921"
            ]
           ]
          },
          "colorway": [
           "#636efa",
           "#EF553B",
           "#00cc96",
           "#ab63fa",
           "#FFA15A",
           "#19d3f3",
           "#FF6692",
           "#B6E880",
           "#FF97FF",
           "#FECB52"
          ],
          "font": {
           "color": "#2a3f5f"
          },
          "geo": {
           "bgcolor": "white",
           "lakecolor": "white",
           "landcolor": "#E5ECF6",
           "showlakes": true,
           "showland": true,
           "subunitcolor": "white"
          },
          "hoverlabel": {
           "align": "left"
          },
          "hovermode": "closest",
          "mapbox": {
           "style": "light"
          },
          "paper_bgcolor": "white",
          "plot_bgcolor": "#E5ECF6",
          "polar": {
           "angularaxis": {
            "gridcolor": "white",
            "linecolor": "white",
            "ticks": ""
           },
           "bgcolor": "#E5ECF6",
           "radialaxis": {
            "gridcolor": "white",
            "linecolor": "white",
            "ticks": ""
           }
          },
          "scene": {
           "xaxis": {
            "backgroundcolor": "#E5ECF6",
            "gridcolor": "white",
            "gridwidth": 2,
            "linecolor": "white",
            "showbackground": true,
            "ticks": "",
            "zerolinecolor": "white"
           },
           "yaxis": {
            "backgroundcolor": "#E5ECF6",
            "gridcolor": "white",
            "gridwidth": 2,
            "linecolor": "white",
            "showbackground": true,
            "ticks": "",
            "zerolinecolor": "white"
           },
           "zaxis": {
            "backgroundcolor": "#E5ECF6",
            "gridcolor": "white",
            "gridwidth": 2,
            "linecolor": "white",
            "showbackground": true,
            "ticks": "",
            "zerolinecolor": "white"
           }
          },
          "shapedefaults": {
           "line": {
            "color": "#2a3f5f"
           }
          },
          "ternary": {
           "aaxis": {
            "gridcolor": "white",
            "linecolor": "white",
            "ticks": ""
           },
           "baxis": {
            "gridcolor": "white",
            "linecolor": "white",
            "ticks": ""
           },
           "bgcolor": "#E5ECF6",
           "caxis": {
            "gridcolor": "white",
            "linecolor": "white",
            "ticks": ""
           }
          },
          "title": {
           "x": 0.05
          },
          "xaxis": {
           "automargin": true,
           "gridcolor": "white",
           "linecolor": "white",
           "ticks": "",
           "title": {
            "standoff": 15
           },
           "zerolinecolor": "white",
           "zerolinewidth": 2
          },
          "yaxis": {
           "automargin": true,
           "gridcolor": "white",
           "linecolor": "white",
           "ticks": "",
           "title": {
            "standoff": 15
           },
           "zerolinecolor": "white",
           "zerolinewidth": 2
          }
         }
        }
       }
      },
      "text/html": [
       "<div>                            <div id=\"9f93aad6-f483-4d74-b47b-d99936354570\" class=\"plotly-graph-div\" style=\"height:525px; width:100%;\"></div>            <script type=\"text/javascript\">                require([\"plotly\"], function(Plotly) {                    window.PLOTLYENV=window.PLOTLYENV || {};                                    if (document.getElementById(\"9f93aad6-f483-4d74-b47b-d99936354570\")) {                    Plotly.newPlot(                        \"9f93aad6-f483-4d74-b47b-d99936354570\",                        [{\"type\":\"bar\",\"x\":[\"Charmer\",\"Dirty Birds\",\"Harvey\",\"Lil Trump\",\"Lima Time\",\"Midnight\",\"Moms Cookin\",\"Roid Ragers\",\"Trouble\",\"Wu-Tang\"],\"y\":[19.0,20.0,20.0,32.0,42.5,14.5,24.0,40.0,29.5,33.5]}],                        {\"template\":{\"data\":{\"bar\":[{\"error_x\":{\"color\":\"#2a3f5f\"},\"error_y\":{\"color\":\"#2a3f5f\"},\"marker\":{\"line\":{\"color\":\"#E5ECF6\",\"width\":0.5},\"pattern\":{\"fillmode\":\"overlay\",\"size\":10,\"solidity\":0.2}},\"type\":\"bar\"}],\"barpolar\":[{\"marker\":{\"line\":{\"color\":\"#E5ECF6\",\"width\":0.5},\"pattern\":{\"fillmode\":\"overlay\",\"size\":10,\"solidity\":0.2}},\"type\":\"barpolar\"}],\"carpet\":[{\"aaxis\":{\"endlinecolor\":\"#2a3f5f\",\"gridcolor\":\"white\",\"linecolor\":\"white\",\"minorgridcolor\":\"white\",\"startlinecolor\":\"#2a3f5f\"},\"baxis\":{\"endlinecolor\":\"#2a3f5f\",\"gridcolor\":\"white\",\"linecolor\":\"white\",\"minorgridcolor\":\"white\",\"startlinecolor\":\"#2a3f5f\"},\"type\":\"carpet\"}],\"choropleth\":[{\"colorbar\":{\"outlinewidth\":0,\"ticks\":\"\"},\"type\":\"choropleth\"}],\"contour\":[{\"colorbar\":{\"outlinewidth\":0,\"ticks\":\"\"},\"colorscale\":[[0.0,\"#0d0887\"],[0.1111111111111111,\"#46039f\"],[0.2222222222222222,\"#7201a8\"],[0.3333333333333333,\"#9c179e\"],[0.4444444444444444,\"#bd3786\"],[0.5555555555555556,\"#d8576b\"],[0.6666666666666666,\"#ed7953\"],[0.7777777777777778,\"#fb9f3a\"],[0.8888888888888888,\"#fdca26\"],[1.0,\"#f0f921\"]],\"type\":\"contour\"}],\"contourcarpet\":[{\"colorbar\":{\"outlinewidth\":0,\"ticks\":\"\"},\"type\":\"contourcarpet\"}],\"heatmap\":[{\"colorbar\":{\"outlinewidth\":0,\"ticks\":\"\"},\"colorscale\":[[0.0,\"#0d0887\"],[0.1111111111111111,\"#46039f\"],[0.2222222222222222,\"#7201a8\"],[0.3333333333333333,\"#9c179e\"],[0.4444444444444444,\"#bd3786\"],[0.5555555555555556,\"#d8576b\"],[0.6666666666666666,\"#ed7953\"],[0.7777777777777778,\"#fb9f3a\"],[0.8888888888888888,\"#fdca26\"],[1.0,\"#f0f921\"]],\"type\":\"heatmap\"}],\"heatmapgl\":[{\"colorbar\":{\"outlinewidth\":0,\"ticks\":\"\"},\"colorscale\":[[0.0,\"#0d0887\"],[0.1111111111111111,\"#46039f\"],[0.2222222222222222,\"#7201a8\"],[0.3333333333333333,\"#9c179e\"],[0.4444444444444444,\"#bd3786\"],[0.5555555555555556,\"#d8576b\"],[0.6666666666666666,\"#ed7953\"],[0.7777777777777778,\"#fb9f3a\"],[0.8888888888888888,\"#fdca26\"],[1.0,\"#f0f921\"]],\"type\":\"heatmapgl\"}],\"histogram\":[{\"marker\":{\"pattern\":{\"fillmode\":\"overlay\",\"size\":10,\"solidity\":0.2}},\"type\":\"histogram\"}],\"histogram2d\":[{\"colorbar\":{\"outlinewidth\":0,\"ticks\":\"\"},\"colorscale\":[[0.0,\"#0d0887\"],[0.1111111111111111,\"#46039f\"],[0.2222222222222222,\"#7201a8\"],[0.3333333333333333,\"#9c179e\"],[0.4444444444444444,\"#bd3786\"],[0.5555555555555556,\"#d8576b\"],[0.6666666666666666,\"#ed7953\"],[0.7777777777777778,\"#fb9f3a\"],[0.8888888888888888,\"#fdca26\"],[1.0,\"#f0f921\"]],\"type\":\"histogram2d\"}],\"histogram2dcontour\":[{\"colorbar\":{\"outlinewidth\":0,\"ticks\":\"\"},\"colorscale\":[[0.0,\"#0d0887\"],[0.1111111111111111,\"#46039f\"],[0.2222222222222222,\"#7201a8\"],[0.3333333333333333,\"#9c179e\"],[0.4444444444444444,\"#bd3786\"],[0.5555555555555556,\"#d8576b\"],[0.6666666666666666,\"#ed7953\"],[0.7777777777777778,\"#fb9f3a\"],[0.8888888888888888,\"#fdca26\"],[1.0,\"#f0f921\"]],\"type\":\"histogram2dcontour\"}],\"mesh3d\":[{\"colorbar\":{\"outlinewidth\":0,\"ticks\":\"\"},\"type\":\"mesh3d\"}],\"parcoords\":[{\"line\":{\"colorbar\":{\"outlinewidth\":0,\"ticks\":\"\"}},\"type\":\"parcoords\"}],\"pie\":[{\"automargin\":true,\"type\":\"pie\"}],\"scatter\":[{\"marker\":{\"colorbar\":{\"outlinewidth\":0,\"ticks\":\"\"}},\"type\":\"scatter\"}],\"scatter3d\":[{\"line\":{\"colorbar\":{\"outlinewidth\":0,\"ticks\":\"\"}},\"marker\":{\"colorbar\":{\"outlinewidth\":0,\"ticks\":\"\"}},\"type\":\"scatter3d\"}],\"scattercarpet\":[{\"marker\":{\"colorbar\":{\"outlinewidth\":0,\"ticks\":\"\"}},\"type\":\"scattercarpet\"}],\"scattergeo\":[{\"marker\":{\"colorbar\":{\"outlinewidth\":0,\"ticks\":\"\"}},\"type\":\"scattergeo\"}],\"scattergl\":[{\"marker\":{\"colorbar\":{\"outlinewidth\":0,\"ticks\":\"\"}},\"type\":\"scattergl\"}],\"scattermapbox\":[{\"marker\":{\"colorbar\":{\"outlinewidth\":0,\"ticks\":\"\"}},\"type\":\"scattermapbox\"}],\"scatterpolar\":[{\"marker\":{\"colorbar\":{\"outlinewidth\":0,\"ticks\":\"\"}},\"type\":\"scatterpolar\"}],\"scatterpolargl\":[{\"marker\":{\"colorbar\":{\"outlinewidth\":0,\"ticks\":\"\"}},\"type\":\"scatterpolargl\"}],\"scatterternary\":[{\"marker\":{\"colorbar\":{\"outlinewidth\":0,\"ticks\":\"\"}},\"type\":\"scatterternary\"}],\"surface\":[{\"colorbar\":{\"outlinewidth\":0,\"ticks\":\"\"},\"colorscale\":[[0.0,\"#0d0887\"],[0.1111111111111111,\"#46039f\"],[0.2222222222222222,\"#7201a8\"],[0.3333333333333333,\"#9c179e\"],[0.4444444444444444,\"#bd3786\"],[0.5555555555555556,\"#d8576b\"],[0.6666666666666666,\"#ed7953\"],[0.7777777777777778,\"#fb9f3a\"],[0.8888888888888888,\"#fdca26\"],[1.0,\"#f0f921\"]],\"type\":\"surface\"}],\"table\":[{\"cells\":{\"fill\":{\"color\":\"#EBF0F8\"},\"line\":{\"color\":\"white\"}},\"header\":{\"fill\":{\"color\":\"#C8D4E3\"},\"line\":{\"color\":\"white\"}},\"type\":\"table\"}]},\"layout\":{\"annotationdefaults\":{\"arrowcolor\":\"#2a3f5f\",\"arrowhead\":0,\"arrowwidth\":1},\"autotypenumbers\":\"strict\",\"coloraxis\":{\"colorbar\":{\"outlinewidth\":0,\"ticks\":\"\"}},\"colorscale\":{\"diverging\":[[0,\"#8e0152\"],[0.1,\"#c51b7d\"],[0.2,\"#de77ae\"],[0.3,\"#f1b6da\"],[0.4,\"#fde0ef\"],[0.5,\"#f7f7f7\"],[0.6,\"#e6f5d0\"],[0.7,\"#b8e186\"],[0.8,\"#7fbc41\"],[0.9,\"#4d9221\"],[1,\"#276419\"]],\"sequential\":[[0.0,\"#0d0887\"],[0.1111111111111111,\"#46039f\"],[0.2222222222222222,\"#7201a8\"],[0.3333333333333333,\"#9c179e\"],[0.4444444444444444,\"#bd3786\"],[0.5555555555555556,\"#d8576b\"],[0.6666666666666666,\"#ed7953\"],[0.7777777777777778,\"#fb9f3a\"],[0.8888888888888888,\"#fdca26\"],[1.0,\"#f0f921\"]],\"sequentialminus\":[[0.0,\"#0d0887\"],[0.1111111111111111,\"#46039f\"],[0.2222222222222222,\"#7201a8\"],[0.3333333333333333,\"#9c179e\"],[0.4444444444444444,\"#bd3786\"],[0.5555555555555556,\"#d8576b\"],[0.6666666666666666,\"#ed7953\"],[0.7777777777777778,\"#fb9f3a\"],[0.8888888888888888,\"#fdca26\"],[1.0,\"#f0f921\"]]},\"colorway\":[\"#636efa\",\"#EF553B\",\"#00cc96\",\"#ab63fa\",\"#FFA15A\",\"#19d3f3\",\"#FF6692\",\"#B6E880\",\"#FF97FF\",\"#FECB52\"],\"font\":{\"color\":\"#2a3f5f\"},\"geo\":{\"bgcolor\":\"white\",\"lakecolor\":\"white\",\"landcolor\":\"#E5ECF6\",\"showlakes\":true,\"showland\":true,\"subunitcolor\":\"white\"},\"hoverlabel\":{\"align\":\"left\"},\"hovermode\":\"closest\",\"mapbox\":{\"style\":\"light\"},\"paper_bgcolor\":\"white\",\"plot_bgcolor\":\"#E5ECF6\",\"polar\":{\"angularaxis\":{\"gridcolor\":\"white\",\"linecolor\":\"white\",\"ticks\":\"\"},\"bgcolor\":\"#E5ECF6\",\"radialaxis\":{\"gridcolor\":\"white\",\"linecolor\":\"white\",\"ticks\":\"\"}},\"scene\":{\"xaxis\":{\"backgroundcolor\":\"#E5ECF6\",\"gridcolor\":\"white\",\"gridwidth\":2,\"linecolor\":\"white\",\"showbackground\":true,\"ticks\":\"\",\"zerolinecolor\":\"white\"},\"yaxis\":{\"backgroundcolor\":\"#E5ECF6\",\"gridcolor\":\"white\",\"gridwidth\":2,\"linecolor\":\"white\",\"showbackground\":true,\"ticks\":\"\",\"zerolinecolor\":\"white\"},\"zaxis\":{\"backgroundcolor\":\"#E5ECF6\",\"gridcolor\":\"white\",\"gridwidth\":2,\"linecolor\":\"white\",\"showbackground\":true,\"ticks\":\"\",\"zerolinecolor\":\"white\"}},\"shapedefaults\":{\"line\":{\"color\":\"#2a3f5f\"}},\"ternary\":{\"aaxis\":{\"gridcolor\":\"white\",\"linecolor\":\"white\",\"ticks\":\"\"},\"baxis\":{\"gridcolor\":\"white\",\"linecolor\":\"white\",\"ticks\":\"\"},\"bgcolor\":\"#E5ECF6\",\"caxis\":{\"gridcolor\":\"white\",\"linecolor\":\"white\",\"ticks\":\"\"}},\"title\":{\"x\":0.05},\"xaxis\":{\"automargin\":true,\"gridcolor\":\"white\",\"linecolor\":\"white\",\"ticks\":\"\",\"title\":{\"standoff\":15},\"zerolinecolor\":\"white\",\"zerolinewidth\":2},\"yaxis\":{\"automargin\":true,\"gridcolor\":\"white\",\"linecolor\":\"white\",\"ticks\":\"\",\"title\":{\"standoff\":15},\"zerolinecolor\":\"white\",\"zerolinewidth\":2}}}},                        {\"responsive\": true}                    ).then(function(){\n",
       "                            \n",
       "var gd = document.getElementById('9f93aad6-f483-4d74-b47b-d99936354570');\n",
       "var x = new MutationObserver(function (mutations, observer) {{\n",
       "        var display = window.getComputedStyle(gd).display;\n",
       "        if (!display || display === 'none') {{\n",
       "            console.log([gd, 'removed!']);\n",
       "            Plotly.purge(gd);\n",
       "            observer.disconnect();\n",
       "        }}\n",
       "}});\n",
       "\n",
       "// Listen for the removal of the full notebook cells\n",
       "var notebookContainer = gd.closest('#notebook-container');\n",
       "if (notebookContainer) {{\n",
       "    x.observe(notebookContainer, {childList: true});\n",
       "}}\n",
       "\n",
       "// Listen for the clearing of the current output cell\n",
       "var outputEl = gd.closest('.output');\n",
       "if (outputEl) {{\n",
       "    x.observe(outputEl, {childList: true});\n",
       "}}\n",
       "\n",
       "                        })                };                });            </script>        </div>"
      ]
     },
     "metadata": {},
     "output_type": "display_data"
    }
   ],
   "source": [
    "fig = go.Figure()\n",
    "fig.add_trace(\n",
    "    go.Bar(\n",
    "        x=owners_df['Owner'],\n",
    "        y=owners_df['Pts'],\n",
    "    )\n",
    ")\n",
    "fig.show()"
   ]
  },
  {
   "cell_type": "code",
   "execution_count": 38,
   "id": "7beb17f3",
   "metadata": {},
   "outputs": [
    {
     "data": {
      "application/vnd.plotly.v1+json": {
       "config": {
        "plotlyServerURL": "https://plot.ly"
       },
       "data": [
        {
         "hovertemplate": "$ Left=%{x}<br>Pts=%{y}<extra></extra>",
         "legendgroup": "",
         "marker": {
          "color": "#636efa",
          "opacity": 0.65,
          "symbol": "circle"
         },
         "mode": "markers",
         "name": "",
         "orientation": "v",
         "showlegend": false,
         "type": "scatter",
         "x": [
          244,
          249,
          208,
          211,
          208,
          241,
          232,
          217,
          207,
          232
         ],
         "xaxis": "x",
         "y": [
          19,
          20,
          20,
          32,
          42.5,
          14.5,
          24,
          40,
          29.5,
          33.5
         ],
         "yaxis": "y"
        },
        {
         "hovertemplate": "<b>OLS trendline</b><br>Pts = -0.349994 * $ Left + 106.214<br>R<sup>2</sup>=0.372099<br><br>$ Left=%{x}<br>Pts=%{y} <b>(trend)</b><extra></extra>",
         "legendgroup": "",
         "line": {
          "color": "darkblue"
         },
         "marker": {
          "color": "#636efa",
          "symbol": "circle"
         },
         "mode": "lines",
         "name": "",
         "showlegend": false,
         "type": "scatter",
         "x": [
          207,
          208,
          208,
          211,
          217,
          232,
          232,
          241,
          244,
          249
         ],
         "xaxis": "x",
         "y": [
          33.76489053773078,
          33.41489665294135,
          33.41489665294135,
          32.364914998573056,
          30.264951689836465,
          25.01504341799499,
          25.01504341799499,
          21.865098454890102,
          20.815116800521807,
          19.065147376574643
         ],
         "yaxis": "y"
        }
       ],
       "layout": {
        "legend": {
         "tracegroupgap": 0
        },
        "margin": {
         "t": 60
        },
        "template": {
         "data": {
          "bar": [
           {
            "error_x": {
             "color": "#2a3f5f"
            },
            "error_y": {
             "color": "#2a3f5f"
            },
            "marker": {
             "line": {
              "color": "#E5ECF6",
              "width": 0.5
             },
             "pattern": {
              "fillmode": "overlay",
              "size": 10,
              "solidity": 0.2
             }
            },
            "type": "bar"
           }
          ],
          "barpolar": [
           {
            "marker": {
             "line": {
              "color": "#E5ECF6",
              "width": 0.5
             },
             "pattern": {
              "fillmode": "overlay",
              "size": 10,
              "solidity": 0.2
             }
            },
            "type": "barpolar"
           }
          ],
          "carpet": [
           {
            "aaxis": {
             "endlinecolor": "#2a3f5f",
             "gridcolor": "white",
             "linecolor": "white",
             "minorgridcolor": "white",
             "startlinecolor": "#2a3f5f"
            },
            "baxis": {
             "endlinecolor": "#2a3f5f",
             "gridcolor": "white",
             "linecolor": "white",
             "minorgridcolor": "white",
             "startlinecolor": "#2a3f5f"
            },
            "type": "carpet"
           }
          ],
          "choropleth": [
           {
            "colorbar": {
             "outlinewidth": 0,
             "ticks": ""
            },
            "type": "choropleth"
           }
          ],
          "contour": [
           {
            "colorbar": {
             "outlinewidth": 0,
             "ticks": ""
            },
            "colorscale": [
             [
              0,
              "#0d0887"
             ],
             [
              0.1111111111111111,
              "#46039f"
             ],
             [
              0.2222222222222222,
              "#7201a8"
             ],
             [
              0.3333333333333333,
              "#9c179e"
             ],
             [
              0.4444444444444444,
              "#bd3786"
             ],
             [
              0.5555555555555556,
              "#d8576b"
             ],
             [
              0.6666666666666666,
              "#ed7953"
             ],
             [
              0.7777777777777778,
              "#fb9f3a"
             ],
             [
              0.8888888888888888,
              "#fdca26"
             ],
             [
              1,
              "#f0f921"
             ]
            ],
            "type": "contour"
           }
          ],
          "contourcarpet": [
           {
            "colorbar": {
             "outlinewidth": 0,
             "ticks": ""
            },
            "type": "contourcarpet"
           }
          ],
          "heatmap": [
           {
            "colorbar": {
             "outlinewidth": 0,
             "ticks": ""
            },
            "colorscale": [
             [
              0,
              "#0d0887"
             ],
             [
              0.1111111111111111,
              "#46039f"
             ],
             [
              0.2222222222222222,
              "#7201a8"
             ],
             [
              0.3333333333333333,
              "#9c179e"
             ],
             [
              0.4444444444444444,
              "#bd3786"
             ],
             [
              0.5555555555555556,
              "#d8576b"
             ],
             [
              0.6666666666666666,
              "#ed7953"
             ],
             [
              0.7777777777777778,
              "#fb9f3a"
             ],
             [
              0.8888888888888888,
              "#fdca26"
             ],
             [
              1,
              "#f0f921"
             ]
            ],
            "type": "heatmap"
           }
          ],
          "heatmapgl": [
           {
            "colorbar": {
             "outlinewidth": 0,
             "ticks": ""
            },
            "colorscale": [
             [
              0,
              "#0d0887"
             ],
             [
              0.1111111111111111,
              "#46039f"
             ],
             [
              0.2222222222222222,
              "#7201a8"
             ],
             [
              0.3333333333333333,
              "#9c179e"
             ],
             [
              0.4444444444444444,
              "#bd3786"
             ],
             [
              0.5555555555555556,
              "#d8576b"
             ],
             [
              0.6666666666666666,
              "#ed7953"
             ],
             [
              0.7777777777777778,
              "#fb9f3a"
             ],
             [
              0.8888888888888888,
              "#fdca26"
             ],
             [
              1,
              "#f0f921"
             ]
            ],
            "type": "heatmapgl"
           }
          ],
          "histogram": [
           {
            "marker": {
             "pattern": {
              "fillmode": "overlay",
              "size": 10,
              "solidity": 0.2
             }
            },
            "type": "histogram"
           }
          ],
          "histogram2d": [
           {
            "colorbar": {
             "outlinewidth": 0,
             "ticks": ""
            },
            "colorscale": [
             [
              0,
              "#0d0887"
             ],
             [
              0.1111111111111111,
              "#46039f"
             ],
             [
              0.2222222222222222,
              "#7201a8"
             ],
             [
              0.3333333333333333,
              "#9c179e"
             ],
             [
              0.4444444444444444,
              "#bd3786"
             ],
             [
              0.5555555555555556,
              "#d8576b"
             ],
             [
              0.6666666666666666,
              "#ed7953"
             ],
             [
              0.7777777777777778,
              "#fb9f3a"
             ],
             [
              0.8888888888888888,
              "#fdca26"
             ],
             [
              1,
              "#f0f921"
             ]
            ],
            "type": "histogram2d"
           }
          ],
          "histogram2dcontour": [
           {
            "colorbar": {
             "outlinewidth": 0,
             "ticks": ""
            },
            "colorscale": [
             [
              0,
              "#0d0887"
             ],
             [
              0.1111111111111111,
              "#46039f"
             ],
             [
              0.2222222222222222,
              "#7201a8"
             ],
             [
              0.3333333333333333,
              "#9c179e"
             ],
             [
              0.4444444444444444,
              "#bd3786"
             ],
             [
              0.5555555555555556,
              "#d8576b"
             ],
             [
              0.6666666666666666,
              "#ed7953"
             ],
             [
              0.7777777777777778,
              "#fb9f3a"
             ],
             [
              0.8888888888888888,
              "#fdca26"
             ],
             [
              1,
              "#f0f921"
             ]
            ],
            "type": "histogram2dcontour"
           }
          ],
          "mesh3d": [
           {
            "colorbar": {
             "outlinewidth": 0,
             "ticks": ""
            },
            "type": "mesh3d"
           }
          ],
          "parcoords": [
           {
            "line": {
             "colorbar": {
              "outlinewidth": 0,
              "ticks": ""
             }
            },
            "type": "parcoords"
           }
          ],
          "pie": [
           {
            "automargin": true,
            "type": "pie"
           }
          ],
          "scatter": [
           {
            "marker": {
             "colorbar": {
              "outlinewidth": 0,
              "ticks": ""
             }
            },
            "type": "scatter"
           }
          ],
          "scatter3d": [
           {
            "line": {
             "colorbar": {
              "outlinewidth": 0,
              "ticks": ""
             }
            },
            "marker": {
             "colorbar": {
              "outlinewidth": 0,
              "ticks": ""
             }
            },
            "type": "scatter3d"
           }
          ],
          "scattercarpet": [
           {
            "marker": {
             "colorbar": {
              "outlinewidth": 0,
              "ticks": ""
             }
            },
            "type": "scattercarpet"
           }
          ],
          "scattergeo": [
           {
            "marker": {
             "colorbar": {
              "outlinewidth": 0,
              "ticks": ""
             }
            },
            "type": "scattergeo"
           }
          ],
          "scattergl": [
           {
            "marker": {
             "colorbar": {
              "outlinewidth": 0,
              "ticks": ""
             }
            },
            "type": "scattergl"
           }
          ],
          "scattermapbox": [
           {
            "marker": {
             "colorbar": {
              "outlinewidth": 0,
              "ticks": ""
             }
            },
            "type": "scattermapbox"
           }
          ],
          "scatterpolar": [
           {
            "marker": {
             "colorbar": {
              "outlinewidth": 0,
              "ticks": ""
             }
            },
            "type": "scatterpolar"
           }
          ],
          "scatterpolargl": [
           {
            "marker": {
             "colorbar": {
              "outlinewidth": 0,
              "ticks": ""
             }
            },
            "type": "scatterpolargl"
           }
          ],
          "scatterternary": [
           {
            "marker": {
             "colorbar": {
              "outlinewidth": 0,
              "ticks": ""
             }
            },
            "type": "scatterternary"
           }
          ],
          "surface": [
           {
            "colorbar": {
             "outlinewidth": 0,
             "ticks": ""
            },
            "colorscale": [
             [
              0,
              "#0d0887"
             ],
             [
              0.1111111111111111,
              "#46039f"
             ],
             [
              0.2222222222222222,
              "#7201a8"
             ],
             [
              0.3333333333333333,
              "#9c179e"
             ],
             [
              0.4444444444444444,
              "#bd3786"
             ],
             [
              0.5555555555555556,
              "#d8576b"
             ],
             [
              0.6666666666666666,
              "#ed7953"
             ],
             [
              0.7777777777777778,
              "#fb9f3a"
             ],
             [
              0.8888888888888888,
              "#fdca26"
             ],
             [
              1,
              "#f0f921"
             ]
            ],
            "type": "surface"
           }
          ],
          "table": [
           {
            "cells": {
             "fill": {
              "color": "#EBF0F8"
             },
             "line": {
              "color": "white"
             }
            },
            "header": {
             "fill": {
              "color": "#C8D4E3"
             },
             "line": {
              "color": "white"
             }
            },
            "type": "table"
           }
          ]
         },
         "layout": {
          "annotationdefaults": {
           "arrowcolor": "#2a3f5f",
           "arrowhead": 0,
           "arrowwidth": 1
          },
          "autotypenumbers": "strict",
          "coloraxis": {
           "colorbar": {
            "outlinewidth": 0,
            "ticks": ""
           }
          },
          "colorscale": {
           "diverging": [
            [
             0,
             "#8e0152"
            ],
            [
             0.1,
             "#c51b7d"
            ],
            [
             0.2,
             "#de77ae"
            ],
            [
             0.3,
             "#f1b6da"
            ],
            [
             0.4,
             "#fde0ef"
            ],
            [
             0.5,
             "#f7f7f7"
            ],
            [
             0.6,
             "#e6f5d0"
            ],
            [
             0.7,
             "#b8e186"
            ],
            [
             0.8,
             "#7fbc41"
            ],
            [
             0.9,
             "#4d9221"
            ],
            [
             1,
             "#276419"
            ]
           ],
           "sequential": [
            [
             0,
             "#0d0887"
            ],
            [
             0.1111111111111111,
             "#46039f"
            ],
            [
             0.2222222222222222,
             "#7201a8"
            ],
            [
             0.3333333333333333,
             "#9c179e"
            ],
            [
             0.4444444444444444,
             "#bd3786"
            ],
            [
             0.5555555555555556,
             "#d8576b"
            ],
            [
             0.6666666666666666,
             "#ed7953"
            ],
            [
             0.7777777777777778,
             "#fb9f3a"
            ],
            [
             0.8888888888888888,
             "#fdca26"
            ],
            [
             1,
             "#f0f921"
            ]
           ],
           "sequentialminus": [
            [
             0,
             "#0d0887"
            ],
            [
             0.1111111111111111,
             "#46039f"
            ],
            [
             0.2222222222222222,
             "#7201a8"
            ],
            [
             0.3333333333333333,
             "#9c179e"
            ],
            [
             0.4444444444444444,
             "#bd3786"
            ],
            [
             0.5555555555555556,
             "#d8576b"
            ],
            [
             0.6666666666666666,
             "#ed7953"
            ],
            [
             0.7777777777777778,
             "#fb9f3a"
            ],
            [
             0.8888888888888888,
             "#fdca26"
            ],
            [
             1,
             "#f0f921"
            ]
           ]
          },
          "colorway": [
           "#636efa",
           "#EF553B",
           "#00cc96",
           "#ab63fa",
           "#FFA15A",
           "#19d3f3",
           "#FF6692",
           "#B6E880",
           "#FF97FF",
           "#FECB52"
          ],
          "font": {
           "color": "#2a3f5f"
          },
          "geo": {
           "bgcolor": "white",
           "lakecolor": "white",
           "landcolor": "#E5ECF6",
           "showlakes": true,
           "showland": true,
           "subunitcolor": "white"
          },
          "hoverlabel": {
           "align": "left"
          },
          "hovermode": "closest",
          "mapbox": {
           "style": "light"
          },
          "paper_bgcolor": "white",
          "plot_bgcolor": "#E5ECF6",
          "polar": {
           "angularaxis": {
            "gridcolor": "white",
            "linecolor": "white",
            "ticks": ""
           },
           "bgcolor": "#E5ECF6",
           "radialaxis": {
            "gridcolor": "white",
            "linecolor": "white",
            "ticks": ""
           }
          },
          "scene": {
           "xaxis": {
            "backgroundcolor": "#E5ECF6",
            "gridcolor": "white",
            "gridwidth": 2,
            "linecolor": "white",
            "showbackground": true,
            "ticks": "",
            "zerolinecolor": "white"
           },
           "yaxis": {
            "backgroundcolor": "#E5ECF6",
            "gridcolor": "white",
            "gridwidth": 2,
            "linecolor": "white",
            "showbackground": true,
            "ticks": "",
            "zerolinecolor": "white"
           },
           "zaxis": {
            "backgroundcolor": "#E5ECF6",
            "gridcolor": "white",
            "gridwidth": 2,
            "linecolor": "white",
            "showbackground": true,
            "ticks": "",
            "zerolinecolor": "white"
           }
          },
          "shapedefaults": {
           "line": {
            "color": "#2a3f5f"
           }
          },
          "ternary": {
           "aaxis": {
            "gridcolor": "white",
            "linecolor": "white",
            "ticks": ""
           },
           "baxis": {
            "gridcolor": "white",
            "linecolor": "white",
            "ticks": ""
           },
           "bgcolor": "#E5ECF6",
           "caxis": {
            "gridcolor": "white",
            "linecolor": "white",
            "ticks": ""
           }
          },
          "title": {
           "x": 0.05
          },
          "xaxis": {
           "automargin": true,
           "gridcolor": "white",
           "linecolor": "white",
           "ticks": "",
           "title": {
            "standoff": 15
           },
           "zerolinecolor": "white",
           "zerolinewidth": 2
          },
          "yaxis": {
           "automargin": true,
           "gridcolor": "white",
           "linecolor": "white",
           "ticks": "",
           "title": {
            "standoff": 15
           },
           "zerolinecolor": "white",
           "zerolinewidth": 2
          }
         }
        },
        "xaxis": {
         "anchor": "y",
         "domain": [
          0,
          1
         ],
         "title": {
          "text": "$ Left"
         }
        },
        "yaxis": {
         "anchor": "x",
         "domain": [
          0,
          1
         ],
         "title": {
          "text": "Pts"
         }
        }
       }
      },
      "text/html": [
       "<div>                            <div id=\"e6511f91-e634-4979-9484-5b8022c09e43\" class=\"plotly-graph-div\" style=\"height:525px; width:100%;\"></div>            <script type=\"text/javascript\">                require([\"plotly\"], function(Plotly) {                    window.PLOTLYENV=window.PLOTLYENV || {};                                    if (document.getElementById(\"e6511f91-e634-4979-9484-5b8022c09e43\")) {                    Plotly.newPlot(                        \"e6511f91-e634-4979-9484-5b8022c09e43\",                        [{\"hovertemplate\":\"$ Left=%{x}<br>Pts=%{y}<extra></extra>\",\"legendgroup\":\"\",\"marker\":{\"color\":\"#636efa\",\"opacity\":0.65,\"symbol\":\"circle\"},\"mode\":\"markers\",\"name\":\"\",\"orientation\":\"v\",\"showlegend\":false,\"type\":\"scatter\",\"x\":[244,249,208,211,208,241,232,217,207,232],\"xaxis\":\"x\",\"y\":[19.0,20.0,20.0,32.0,42.5,14.5,24.0,40.0,29.5,33.5],\"yaxis\":\"y\"},{\"hovertemplate\":\"<b>OLS trendline</b><br>Pts = -0.349994 * $ Left + 106.214<br>R<sup>2</sup>=0.372099<br><br>$ Left=%{x}<br>Pts=%{y} <b>(trend)</b><extra></extra>\",\"legendgroup\":\"\",\"line\":{\"color\":\"darkblue\"},\"marker\":{\"color\":\"#636efa\",\"symbol\":\"circle\"},\"mode\":\"lines\",\"name\":\"\",\"showlegend\":false,\"type\":\"scatter\",\"x\":[207,208,208,211,217,232,232,241,244,249],\"xaxis\":\"x\",\"y\":[33.76489053773078,33.41489665294135,33.41489665294135,32.364914998573056,30.264951689836465,25.01504341799499,25.01504341799499,21.865098454890102,20.815116800521807,19.065147376574643],\"yaxis\":\"y\"}],                        {\"legend\":{\"tracegroupgap\":0},\"margin\":{\"t\":60},\"template\":{\"data\":{\"bar\":[{\"error_x\":{\"color\":\"#2a3f5f\"},\"error_y\":{\"color\":\"#2a3f5f\"},\"marker\":{\"line\":{\"color\":\"#E5ECF6\",\"width\":0.5},\"pattern\":{\"fillmode\":\"overlay\",\"size\":10,\"solidity\":0.2}},\"type\":\"bar\"}],\"barpolar\":[{\"marker\":{\"line\":{\"color\":\"#E5ECF6\",\"width\":0.5},\"pattern\":{\"fillmode\":\"overlay\",\"size\":10,\"solidity\":0.2}},\"type\":\"barpolar\"}],\"carpet\":[{\"aaxis\":{\"endlinecolor\":\"#2a3f5f\",\"gridcolor\":\"white\",\"linecolor\":\"white\",\"minorgridcolor\":\"white\",\"startlinecolor\":\"#2a3f5f\"},\"baxis\":{\"endlinecolor\":\"#2a3f5f\",\"gridcolor\":\"white\",\"linecolor\":\"white\",\"minorgridcolor\":\"white\",\"startlinecolor\":\"#2a3f5f\"},\"type\":\"carpet\"}],\"choropleth\":[{\"colorbar\":{\"outlinewidth\":0,\"ticks\":\"\"},\"type\":\"choropleth\"}],\"contour\":[{\"colorbar\":{\"outlinewidth\":0,\"ticks\":\"\"},\"colorscale\":[[0.0,\"#0d0887\"],[0.1111111111111111,\"#46039f\"],[0.2222222222222222,\"#7201a8\"],[0.3333333333333333,\"#9c179e\"],[0.4444444444444444,\"#bd3786\"],[0.5555555555555556,\"#d8576b\"],[0.6666666666666666,\"#ed7953\"],[0.7777777777777778,\"#fb9f3a\"],[0.8888888888888888,\"#fdca26\"],[1.0,\"#f0f921\"]],\"type\":\"contour\"}],\"contourcarpet\":[{\"colorbar\":{\"outlinewidth\":0,\"ticks\":\"\"},\"type\":\"contourcarpet\"}],\"heatmap\":[{\"colorbar\":{\"outlinewidth\":0,\"ticks\":\"\"},\"colorscale\":[[0.0,\"#0d0887\"],[0.1111111111111111,\"#46039f\"],[0.2222222222222222,\"#7201a8\"],[0.3333333333333333,\"#9c179e\"],[0.4444444444444444,\"#bd3786\"],[0.5555555555555556,\"#d8576b\"],[0.6666666666666666,\"#ed7953\"],[0.7777777777777778,\"#fb9f3a\"],[0.8888888888888888,\"#fdca26\"],[1.0,\"#f0f921\"]],\"type\":\"heatmap\"}],\"heatmapgl\":[{\"colorbar\":{\"outlinewidth\":0,\"ticks\":\"\"},\"colorscale\":[[0.0,\"#0d0887\"],[0.1111111111111111,\"#46039f\"],[0.2222222222222222,\"#7201a8\"],[0.3333333333333333,\"#9c179e\"],[0.4444444444444444,\"#bd3786\"],[0.5555555555555556,\"#d8576b\"],[0.6666666666666666,\"#ed7953\"],[0.7777777777777778,\"#fb9f3a\"],[0.8888888888888888,\"#fdca26\"],[1.0,\"#f0f921\"]],\"type\":\"heatmapgl\"}],\"histogram\":[{\"marker\":{\"pattern\":{\"fillmode\":\"overlay\",\"size\":10,\"solidity\":0.2}},\"type\":\"histogram\"}],\"histogram2d\":[{\"colorbar\":{\"outlinewidth\":0,\"ticks\":\"\"},\"colorscale\":[[0.0,\"#0d0887\"],[0.1111111111111111,\"#46039f\"],[0.2222222222222222,\"#7201a8\"],[0.3333333333333333,\"#9c179e\"],[0.4444444444444444,\"#bd3786\"],[0.5555555555555556,\"#d8576b\"],[0.6666666666666666,\"#ed7953\"],[0.7777777777777778,\"#fb9f3a\"],[0.8888888888888888,\"#fdca26\"],[1.0,\"#f0f921\"]],\"type\":\"histogram2d\"}],\"histogram2dcontour\":[{\"colorbar\":{\"outlinewidth\":0,\"ticks\":\"\"},\"colorscale\":[[0.0,\"#0d0887\"],[0.1111111111111111,\"#46039f\"],[0.2222222222222222,\"#7201a8\"],[0.3333333333333333,\"#9c179e\"],[0.4444444444444444,\"#bd3786\"],[0.5555555555555556,\"#d8576b\"],[0.6666666666666666,\"#ed7953\"],[0.7777777777777778,\"#fb9f3a\"],[0.8888888888888888,\"#fdca26\"],[1.0,\"#f0f921\"]],\"type\":\"histogram2dcontour\"}],\"mesh3d\":[{\"colorbar\":{\"outlinewidth\":0,\"ticks\":\"\"},\"type\":\"mesh3d\"}],\"parcoords\":[{\"line\":{\"colorbar\":{\"outlinewidth\":0,\"ticks\":\"\"}},\"type\":\"parcoords\"}],\"pie\":[{\"automargin\":true,\"type\":\"pie\"}],\"scatter\":[{\"marker\":{\"colorbar\":{\"outlinewidth\":0,\"ticks\":\"\"}},\"type\":\"scatter\"}],\"scatter3d\":[{\"line\":{\"colorbar\":{\"outlinewidth\":0,\"ticks\":\"\"}},\"marker\":{\"colorbar\":{\"outlinewidth\":0,\"ticks\":\"\"}},\"type\":\"scatter3d\"}],\"scattercarpet\":[{\"marker\":{\"colorbar\":{\"outlinewidth\":0,\"ticks\":\"\"}},\"type\":\"scattercarpet\"}],\"scattergeo\":[{\"marker\":{\"colorbar\":{\"outlinewidth\":0,\"ticks\":\"\"}},\"type\":\"scattergeo\"}],\"scattergl\":[{\"marker\":{\"colorbar\":{\"outlinewidth\":0,\"ticks\":\"\"}},\"type\":\"scattergl\"}],\"scattermapbox\":[{\"marker\":{\"colorbar\":{\"outlinewidth\":0,\"ticks\":\"\"}},\"type\":\"scattermapbox\"}],\"scatterpolar\":[{\"marker\":{\"colorbar\":{\"outlinewidth\":0,\"ticks\":\"\"}},\"type\":\"scatterpolar\"}],\"scatterpolargl\":[{\"marker\":{\"colorbar\":{\"outlinewidth\":0,\"ticks\":\"\"}},\"type\":\"scatterpolargl\"}],\"scatterternary\":[{\"marker\":{\"colorbar\":{\"outlinewidth\":0,\"ticks\":\"\"}},\"type\":\"scatterternary\"}],\"surface\":[{\"colorbar\":{\"outlinewidth\":0,\"ticks\":\"\"},\"colorscale\":[[0.0,\"#0d0887\"],[0.1111111111111111,\"#46039f\"],[0.2222222222222222,\"#7201a8\"],[0.3333333333333333,\"#9c179e\"],[0.4444444444444444,\"#bd3786\"],[0.5555555555555556,\"#d8576b\"],[0.6666666666666666,\"#ed7953\"],[0.7777777777777778,\"#fb9f3a\"],[0.8888888888888888,\"#fdca26\"],[1.0,\"#f0f921\"]],\"type\":\"surface\"}],\"table\":[{\"cells\":{\"fill\":{\"color\":\"#EBF0F8\"},\"line\":{\"color\":\"white\"}},\"header\":{\"fill\":{\"color\":\"#C8D4E3\"},\"line\":{\"color\":\"white\"}},\"type\":\"table\"}]},\"layout\":{\"annotationdefaults\":{\"arrowcolor\":\"#2a3f5f\",\"arrowhead\":0,\"arrowwidth\":1},\"autotypenumbers\":\"strict\",\"coloraxis\":{\"colorbar\":{\"outlinewidth\":0,\"ticks\":\"\"}},\"colorscale\":{\"diverging\":[[0,\"#8e0152\"],[0.1,\"#c51b7d\"],[0.2,\"#de77ae\"],[0.3,\"#f1b6da\"],[0.4,\"#fde0ef\"],[0.5,\"#f7f7f7\"],[0.6,\"#e6f5d0\"],[0.7,\"#b8e186\"],[0.8,\"#7fbc41\"],[0.9,\"#4d9221\"],[1,\"#276419\"]],\"sequential\":[[0.0,\"#0d0887\"],[0.1111111111111111,\"#46039f\"],[0.2222222222222222,\"#7201a8\"],[0.3333333333333333,\"#9c179e\"],[0.4444444444444444,\"#bd3786\"],[0.5555555555555556,\"#d8576b\"],[0.6666666666666666,\"#ed7953\"],[0.7777777777777778,\"#fb9f3a\"],[0.8888888888888888,\"#fdca26\"],[1.0,\"#f0f921\"]],\"sequentialminus\":[[0.0,\"#0d0887\"],[0.1111111111111111,\"#46039f\"],[0.2222222222222222,\"#7201a8\"],[0.3333333333333333,\"#9c179e\"],[0.4444444444444444,\"#bd3786\"],[0.5555555555555556,\"#d8576b\"],[0.6666666666666666,\"#ed7953\"],[0.7777777777777778,\"#fb9f3a\"],[0.8888888888888888,\"#fdca26\"],[1.0,\"#f0f921\"]]},\"colorway\":[\"#636efa\",\"#EF553B\",\"#00cc96\",\"#ab63fa\",\"#FFA15A\",\"#19d3f3\",\"#FF6692\",\"#B6E880\",\"#FF97FF\",\"#FECB52\"],\"font\":{\"color\":\"#2a3f5f\"},\"geo\":{\"bgcolor\":\"white\",\"lakecolor\":\"white\",\"landcolor\":\"#E5ECF6\",\"showlakes\":true,\"showland\":true,\"subunitcolor\":\"white\"},\"hoverlabel\":{\"align\":\"left\"},\"hovermode\":\"closest\",\"mapbox\":{\"style\":\"light\"},\"paper_bgcolor\":\"white\",\"plot_bgcolor\":\"#E5ECF6\",\"polar\":{\"angularaxis\":{\"gridcolor\":\"white\",\"linecolor\":\"white\",\"ticks\":\"\"},\"bgcolor\":\"#E5ECF6\",\"radialaxis\":{\"gridcolor\":\"white\",\"linecolor\":\"white\",\"ticks\":\"\"}},\"scene\":{\"xaxis\":{\"backgroundcolor\":\"#E5ECF6\",\"gridcolor\":\"white\",\"gridwidth\":2,\"linecolor\":\"white\",\"showbackground\":true,\"ticks\":\"\",\"zerolinecolor\":\"white\"},\"yaxis\":{\"backgroundcolor\":\"#E5ECF6\",\"gridcolor\":\"white\",\"gridwidth\":2,\"linecolor\":\"white\",\"showbackground\":true,\"ticks\":\"\",\"zerolinecolor\":\"white\"},\"zaxis\":{\"backgroundcolor\":\"#E5ECF6\",\"gridcolor\":\"white\",\"gridwidth\":2,\"linecolor\":\"white\",\"showbackground\":true,\"ticks\":\"\",\"zerolinecolor\":\"white\"}},\"shapedefaults\":{\"line\":{\"color\":\"#2a3f5f\"}},\"ternary\":{\"aaxis\":{\"gridcolor\":\"white\",\"linecolor\":\"white\",\"ticks\":\"\"},\"baxis\":{\"gridcolor\":\"white\",\"linecolor\":\"white\",\"ticks\":\"\"},\"bgcolor\":\"#E5ECF6\",\"caxis\":{\"gridcolor\":\"white\",\"linecolor\":\"white\",\"ticks\":\"\"}},\"title\":{\"x\":0.05},\"xaxis\":{\"automargin\":true,\"gridcolor\":\"white\",\"linecolor\":\"white\",\"ticks\":\"\",\"title\":{\"standoff\":15},\"zerolinecolor\":\"white\",\"zerolinewidth\":2},\"yaxis\":{\"automargin\":true,\"gridcolor\":\"white\",\"linecolor\":\"white\",\"ticks\":\"\",\"title\":{\"standoff\":15},\"zerolinecolor\":\"white\",\"zerolinewidth\":2}}},\"xaxis\":{\"anchor\":\"y\",\"domain\":[0.0,1.0],\"title\":{\"text\":\"$ Left\"}},\"yaxis\":{\"anchor\":\"x\",\"domain\":[0.0,1.0],\"title\":{\"text\":\"Pts\"}}},                        {\"responsive\": true}                    ).then(function(){\n",
       "                            \n",
       "var gd = document.getElementById('e6511f91-e634-4979-9484-5b8022c09e43');\n",
       "var x = new MutationObserver(function (mutations, observer) {{\n",
       "        var display = window.getComputedStyle(gd).display;\n",
       "        if (!display || display === 'none') {{\n",
       "            console.log([gd, 'removed!']);\n",
       "            Plotly.purge(gd);\n",
       "            observer.disconnect();\n",
       "        }}\n",
       "}});\n",
       "\n",
       "// Listen for the removal of the full notebook cells\n",
       "var notebookContainer = gd.closest('#notebook-container');\n",
       "if (notebookContainer) {{\n",
       "    x.observe(notebookContainer, {childList: true});\n",
       "}}\n",
       "\n",
       "// Listen for the clearing of the current output cell\n",
       "var outputEl = gd.closest('.output');\n",
       "if (outputEl) {{\n",
       "    x.observe(outputEl, {childList: true});\n",
       "}}\n",
       "\n",
       "                        })                };                });            </script>        </div>"
      ]
     },
     "metadata": {},
     "output_type": "display_data"
    }
   ],
   "source": [
    "fig = px.scatter(\n",
    "    owners_df, x='$ Left', y='Pts', opacity=0.65,\n",
    "    trendline='ols', trendline_color_override='darkblue'\n",
    ")\n",
    "fig.show()"
   ]
  },
  {
   "cell_type": "code",
   "execution_count": 23,
   "id": "02d359df",
   "metadata": {},
   "outputs": [],
   "source": [
    "from sklearn.preprocessing import MinMaxScaler\n",
    "from scipy.stats.stats import pearsonr\n",
    "def scale_data(df, cols):\n",
    "    \"\"\"\n",
    "    INPUT: \n",
    "        df: original dataframe\n",
    "        list: subset of columns to scale\n",
    "    OUTPUT:\n",
    "        df: scaled data\n",
    "    \"\"\"\n",
    "    scaler = MinMaxScaler()\n",
    "    scaler.fit(df[cols])\n",
    "    scaled_df = scaler.transform(df[cols])\n",
    "    scaled_df = pd.DataFrame(scaled_df, index=df.index)\n",
    "    scaled_df.columns=[df[cols].columns.tolist()]\n",
    "    return scaled_df"
   ]
  },
  {
   "cell_type": "code",
   "execution_count": 24,
   "id": "81577d29",
   "metadata": {},
   "outputs": [
    {
     "data": {
      "text/plain": [
       "BA     0.814794\n",
       "R      0.794643\n",
       "RBI    0.845455\n",
       "HR     0.707317\n",
       "SB     0.071429\n",
       "Name: 11737, dtype: float64"
      ]
     },
     "execution_count": 24,
     "metadata": {},
     "output_type": "execute_result"
    }
   ],
   "source": [
    "cols = ['BA', 'R', 'RBI', 'HR', 'SB']\n",
    "scaled_df = scale_data(df[df['Owner'].isna()].set_index('playerid'), cols)\n",
    "scaled_df.loc['11737', cols]"
   ]
  },
  {
   "cell_type": "code",
   "execution_count": 25,
   "id": "7a6419af",
   "metadata": {},
   "outputs": [],
   "source": [
    "def add_distance_metrics(h, player_id, col_list):\n",
    "    scaled_df = scale_data(h[h['Owner'].isna()].set_index('playerid'), col_list)\n",
    "    df2 = h[h['Owner'].isna()].loc[:,['playerid', 'Name', 'Pos', 'z']+col_list].set_index('playerid')\n",
    "    for j, row in scaled_df.iterrows():\n",
    "        #df2.at[j,'corr'] = pearsonr(scaled_df.loc[player_id,col_list],row[col_list])[0]\n",
    "        df2.at[j,'eucl_dist'] = np.linalg.norm(scaled_df.loc[player_id,col_list] - row[col_list])\n",
    "        #df2.at[j,'manh_dist']= sum(abs(e - s) for s, e in zip(scaled_df.loc[player_id,col_list], row[col_list]))\n",
    "    return df2.sort_values('eucl_dist').iloc[1:6]"
   ]
  },
  {
   "cell_type": "code",
   "execution_count": 29,
   "id": "526fe73e",
   "metadata": {},
   "outputs": [
    {
     "data": {
      "text/html": [
       "<div>\n",
       "<style scoped>\n",
       "    .dataframe tbody tr th:only-of-type {\n",
       "        vertical-align: middle;\n",
       "    }\n",
       "\n",
       "    .dataframe tbody tr th {\n",
       "        vertical-align: top;\n",
       "    }\n",
       "\n",
       "    .dataframe thead th {\n",
       "        text-align: right;\n",
       "    }\n",
       "</style>\n",
       "<table border=\"1\" class=\"dataframe\">\n",
       "  <thead>\n",
       "    <tr style=\"text-align: right;\">\n",
       "      <th></th>\n",
       "      <th>Name</th>\n",
       "      <th>Pos</th>\n",
       "      <th>z</th>\n",
       "      <th>BA</th>\n",
       "      <th>R</th>\n",
       "      <th>RBI</th>\n",
       "      <th>HR</th>\n",
       "      <th>SB</th>\n",
       "      <th>eucl_dist</th>\n",
       "    </tr>\n",
       "    <tr>\n",
       "      <th>playerid</th>\n",
       "      <th></th>\n",
       "      <th></th>\n",
       "      <th></th>\n",
       "      <th></th>\n",
       "      <th></th>\n",
       "      <th></th>\n",
       "      <th></th>\n",
       "      <th></th>\n",
       "      <th></th>\n",
       "    </tr>\n",
       "  </thead>\n",
       "  <tbody>\n",
       "    <tr>\n",
       "      <th>5361</th>\n",
       "      <td>Freddie Freeman</td>\n",
       "      <td>1B</td>\n",
       "      <td>4.859708</td>\n",
       "      <td>0.292442</td>\n",
       "      <td>103.0</td>\n",
       "      <td>95.0</td>\n",
       "      <td>30.0</td>\n",
       "      <td>6.0</td>\n",
       "      <td>0.089777</td>\n",
       "    </tr>\n",
       "    <tr>\n",
       "      <th>11737</th>\n",
       "      <td>Nick Castellanos</td>\n",
       "      <td>OF</td>\n",
       "      <td>4.280219</td>\n",
       "      <td>0.271598</td>\n",
       "      <td>89.0</td>\n",
       "      <td>93.0</td>\n",
       "      <td>29.0</td>\n",
       "      <td>3.0</td>\n",
       "      <td>0.125117</td>\n",
       "    </tr>\n",
       "    <tr>\n",
       "      <th>18882</th>\n",
       "      <td>Brandon Lowe</td>\n",
       "      <td>2B/OF</td>\n",
       "      <td>3.450559</td>\n",
       "      <td>0.247494</td>\n",
       "      <td>88.0</td>\n",
       "      <td>87.0</td>\n",
       "      <td>32.0</td>\n",
       "      <td>6.0</td>\n",
       "      <td>0.131340</td>\n",
       "    </tr>\n",
       "    <tr>\n",
       "      <th>12856</th>\n",
       "      <td>George Springer</td>\n",
       "      <td>OF/DH</td>\n",
       "      <td>5.212707</td>\n",
       "      <td>0.259904</td>\n",
       "      <td>100.0</td>\n",
       "      <td>88.0</td>\n",
       "      <td>35.0</td>\n",
       "      <td>7.0</td>\n",
       "      <td>0.134661</td>\n",
       "    </tr>\n",
       "    <tr>\n",
       "      <th>11493</th>\n",
       "      <td>Manny Machado</td>\n",
       "      <td>3B</td>\n",
       "      <td>4.483346</td>\n",
       "      <td>0.273769</td>\n",
       "      <td>92.0</td>\n",
       "      <td>102.0</td>\n",
       "      <td>32.0</td>\n",
       "      <td>10.0</td>\n",
       "      <td>0.146305</td>\n",
       "    </tr>\n",
       "  </tbody>\n",
       "</table>\n",
       "</div>"
      ],
      "text/plain": [
       "                      Name    Pos         z        BA      R    RBI    HR  \\\n",
       "playerid                                                                    \n",
       "5361       Freddie Freeman     1B  4.859708  0.292442  103.0   95.0  30.0   \n",
       "11737     Nick Castellanos     OF  4.280219  0.271598   89.0   93.0  29.0   \n",
       "18882         Brandon Lowe  2B/OF  3.450559  0.247494   88.0   87.0  32.0   \n",
       "12856      George Springer  OF/DH  5.212707  0.259904  100.0   88.0  35.0   \n",
       "11493        Manny Machado     3B  4.483346  0.273769   92.0  102.0  32.0   \n",
       "\n",
       "            SB  eucl_dist  \n",
       "playerid                   \n",
       "5361       6.0   0.089777  \n",
       "11737      3.0   0.125117  \n",
       "18882      6.0   0.131340  \n",
       "12856      7.0   0.134661  \n",
       "11493     10.0   0.146305  "
      ]
     },
     "execution_count": 29,
     "metadata": {},
     "output_type": "execute_result"
    }
   ],
   "source": [
    "add_distance_metrics(df, '9218', cols)"
   ]
  },
  {
   "cell_type": "code",
   "execution_count": null,
   "id": "60ff9c8f",
   "metadata": {},
   "outputs": [],
   "source": [
    "mask = (df['Pos'].str.contains('C')) & (df['Owner'].isna())\n",
    "df[mask][['Name', 'z', 'Dollars', 'HR', 'R', 'RBI', 'SB', 'BA']].sort_values('z', ascending=False).head(10)"
   ]
  },
  {
   "cell_type": "code",
   "execution_count": null,
   "id": "244f6fd6",
   "metadata": {},
   "outputs": [],
   "source": [
    "# (Tm 1 $/plyr left / Tm 2 $/plyr left) * suggested price = equivalent comfort level\n",
    "pp = 5\n",
    "f'If the price is {pp}, Tm 1 can afford to pay up to {round((10.125 / 6.9) * pp,1)} at the same comfort level as Tm 2'"
   ]
  },
  {
   "cell_type": "code",
   "execution_count": null,
   "id": "34b42ec4",
   "metadata": {},
   "outputs": [],
   "source": [
    "fig = go.Figure()\n",
    "fig.add_trace(go.Scatter(\n",
    "    x=b['Dollars'],\n",
    "    y=b['Value'],\n",
    "    mode='markers',\n",
    "    text=b['Name']\n",
    ")\n",
    ")\n",
    "fig.show()"
   ]
  },
  {
   "cell_type": "code",
   "execution_count": null,
   "id": "714bbc3b",
   "metadata": {},
   "outputs": [],
   "source": [
    "#Creates a table on the DB\n",
    "meta = MetaData()\n",
    "players = Table('players', meta,\n",
    "                Column('playerid', String, primary_key=True),\n",
    "                Column('Name', String(50)),\n",
    "                Column('Team', String(20)),\n",
    "                Column('Pos', String(30)),\n",
    "                Column('Primary_Pos', String(10)),\n",
    "                Column('G', Integer),\n",
    "                Column('GS', Integer),\n",
    "                Column('PA', Integer),\n",
    "                Column('AB', Integer),\n",
    "                Column('H', Integer),\n",
    "                Column('HR', Integer),\n",
    "                Column('R', Integer),\n",
    "                Column('RBI', Integer),\n",
    "                Column('SB', Integer),\n",
    "                Column('BA', Float),\n",
    "                Column('OBP', Float),\n",
    "                Column('SLG', Float),\n",
    "                Column('OPS', Float),\n",
    "                Column('IP', Float),\n",
    "                Column('Outs', Integer),\n",
    "                Column('HA', Integer),\n",
    "                Column('BB', Integer),\n",
    "                Column('ER', Integer),\n",
    "                Column('SV', Integer),\n",
    "                Column('HLD', Integer),\n",
    "                Column('Sv+Hld', Integer),\n",
    "                Column('W', Integer),\n",
    "                Column('SO', Integer),\n",
    "                Column('ERA', Float),\n",
    "                Column('WHIP', Float),\n",
    "                Column('K/9', Float),\n",
    "                Column('Dollars', Float),\n",
    "                Column('z', Float),\n",
    "                Column('Value', Float),\n",
    "                Column('Paid', Integer),\n",
    "                Column('Owner', String(25)),\n",
    "                Column('Used', Boolean),\n",
    "                Column('Timestamp', DateTime)\n",
    ")\n",
    "meta.create_all(engine)"
   ]
  },
  {
   "cell_type": "code",
   "execution_count": null,
   "id": "39bb2348",
   "metadata": {},
   "outputs": [],
   "source": [
    "conn.execute('ALTER TABLE hitting ADD COLUMN WHIP Float')"
   ]
  },
  {
   "cell_type": "code",
   "execution_count": null,
   "id": "959ded8a",
   "metadata": {},
   "outputs": [],
   "source": [
    "#conn.execute('DROP Table players')"
   ]
  },
  {
   "cell_type": "code",
   "execution_count": null,
   "id": "7d58f555",
   "metadata": {},
   "outputs": [],
   "source": [
    "#conn.execute('ALTER TABLE hitting DROP COLUMN Paid2')"
   ]
  },
  {
   "cell_type": "code",
   "execution_count": null,
   "id": "f3144ee6",
   "metadata": {},
   "outputs": [],
   "source": [
    "#conn.execute('ALTER TABLE hitting ADD COLUMN Timestamp DATETIME')"
   ]
  },
  {
   "cell_type": "code",
   "execution_count": null,
   "id": "6e76ada7",
   "metadata": {},
   "outputs": [],
   "source": [
    "conn.close()"
   ]
  }
 ],
 "metadata": {
  "hide_input": false,
  "kernelspec": {
   "display_name": "Python 3",
   "language": "python",
   "name": "python3"
  },
  "language_info": {
   "codemirror_mode": {
    "name": "ipython",
    "version": 3
   },
   "file_extension": ".py",
   "mimetype": "text/x-python",
   "name": "python",
   "nbconvert_exporter": "python",
   "pygments_lexer": "ipython3",
   "version": "3.7.4"
  }
 },
 "nbformat": 4,
 "nbformat_minor": 5
}
