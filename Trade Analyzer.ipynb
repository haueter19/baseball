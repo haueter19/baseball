{
 "cells": [
  {
   "cell_type": "code",
   "execution_count": 1,
   "id": "3fb162cc",
   "metadata": {},
   "outputs": [],
   "source": [
    "#import lxml.html\n",
    "#import requests\n",
    "import numpy as np\n",
    "import pandas as pd\n",
    "pd.set_option('display.max_columns', None)\n",
    "import time\n",
    "#import math\n",
    "import re\n",
    "import json\n",
    "import plotly.graph_objects as go\n",
    "import plotly.express as px\n",
    "#from bs4 import BeautifulSoup as bs4\n",
    "#from selenium.webdriver import Chrome\n",
    "#from selenium import webdriver\n",
    "#from selenium.webdriver.common.by import By\n",
    "from datetime import datetime, timedelta\n",
    "\n",
    "import optimize_lineup as ol\n",
    "import fantasy_utils as fu"
   ]
  },
  {
   "cell_type": "code",
   "execution_count": 2,
   "id": "bf1f7c2b",
   "metadata": {},
   "outputs": [],
   "source": [
    "team_list = ['Lima Time!', 'Ugly Spuds', 'Harveys Wallbangers', 'Roid Ragers', 'Charmer', 'Wiscompton Wu-Tang', '10 O\\'Clock Madness', 'Brewbirds', 'Trouble With The Curve', 'Lil Trump & The Ivanabees', 'Dirty Birds', 'Young Guns'] \n",
    "eligibility_url_dict = {\"8 Grand Kids\":'30', 'Brewbirds':'3', 'Charmer':'36', 'Dirty Birds':'41', \"Harveys Wallbangers\":'4', 'Lil Trump & the Ivanabees':'27', 'Lima Time!':'38', \n",
    "                        'Roid Ragers':'44', 'Trouble with the Curve':'1', 'Ugly Spuds':'29', 'Wiscompton Wu-Tang':'42', 'Young Guns':'45'}\n",
    "stat_list = ['BA', 'HR', 'R', 'RBI', 'SB', 'ERA', 'Sv+Hld', 'SO', 'W', 'WHIP']"
   ]
  },
  {
   "cell_type": "code",
   "execution_count": 13,
   "id": "a2eab445",
   "metadata": {},
   "outputs": [],
   "source": [
    "def load():\n",
    "    df = pd.read_csv('data\\\\period_6_ros_projections_.csv')\n",
    "    df.loc[df['Player'].isin(['Nico Hoerner', 'Bryson Stott']), 'all_pos'] = \"['2B', 'SS', 'MI', 'DH']\"\n",
    "    df.loc[df['Player'].isin(['Isaac Paredes', ]), 'all_pos'] = \"['2B', '3B', '1B', 'MI', 'CI']\"\n",
    "    df.loc[df['Player'].isin(['Max Muncy', ]), 'all_pos'] = \"['2B', '3B', 'MI', 'CI']\"\n",
    "    return df"
   ]
  },
  {
   "cell_type": "code",
   "execution_count": 4,
   "id": "46129a37",
   "metadata": {},
   "outputs": [
    {
     "data": {
      "text/html": [
       "<div>\n",
       "<style scoped>\n",
       "    .dataframe tbody tr th:only-of-type {\n",
       "        vertical-align: middle;\n",
       "    }\n",
       "\n",
       "    .dataframe tbody tr th {\n",
       "        vertical-align: top;\n",
       "    }\n",
       "\n",
       "    .dataframe thead th {\n",
       "        text-align: right;\n",
       "    }\n",
       "</style>\n",
       "<table border=\"1\" class=\"dataframe\">\n",
       "  <thead>\n",
       "    <tr style=\"text-align: right;\">\n",
       "      <th></th>\n",
       "      <th>BA</th>\n",
       "      <th>HR</th>\n",
       "      <th>SB</th>\n",
       "      <th>R</th>\n",
       "      <th>RBI</th>\n",
       "      <th>W</th>\n",
       "      <th>SO</th>\n",
       "      <th>S</th>\n",
       "      <th>ERA</th>\n",
       "      <th>WHIP</th>\n",
       "    </tr>\n",
       "    <tr>\n",
       "      <th>Owner</th>\n",
       "      <th></th>\n",
       "      <th></th>\n",
       "      <th></th>\n",
       "      <th></th>\n",
       "      <th></th>\n",
       "      <th></th>\n",
       "      <th></th>\n",
       "      <th></th>\n",
       "      <th></th>\n",
       "      <th></th>\n",
       "    </tr>\n",
       "  </thead>\n",
       "  <tbody>\n",
       "    <tr>\n",
       "      <th>Brewbirds</th>\n",
       "      <td>0.277</td>\n",
       "      <td>237.0</td>\n",
       "      <td>137.0</td>\n",
       "      <td>914.0</td>\n",
       "      <td>850.0</td>\n",
       "      <td>75.0</td>\n",
       "      <td>1134.0</td>\n",
       "      <td>51.0</td>\n",
       "      <td>3.36</td>\n",
       "      <td>1.15</td>\n",
       "    </tr>\n",
       "    <tr>\n",
       "      <th>Charmer</th>\n",
       "      <td>0.276</td>\n",
       "      <td>273.0</td>\n",
       "      <td>116.0</td>\n",
       "      <td>858.0</td>\n",
       "      <td>905.0</td>\n",
       "      <td>73.0</td>\n",
       "      <td>1128.0</td>\n",
       "      <td>53.0</td>\n",
       "      <td>3.33</td>\n",
       "      <td>1.14</td>\n",
       "    </tr>\n",
       "    <tr>\n",
       "      <th>Dirty Birds</th>\n",
       "      <td>0.283</td>\n",
       "      <td>226.0</td>\n",
       "      <td>153.0</td>\n",
       "      <td>915.0</td>\n",
       "      <td>846.0</td>\n",
       "      <td>57.0</td>\n",
       "      <td>1045.0</td>\n",
       "      <td>91.0</td>\n",
       "      <td>3.11</td>\n",
       "      <td>1.17</td>\n",
       "    </tr>\n",
       "    <tr>\n",
       "      <th>Harvey</th>\n",
       "      <td>0.271</td>\n",
       "      <td>284.0</td>\n",
       "      <td>165.0</td>\n",
       "      <td>949.0</td>\n",
       "      <td>880.0</td>\n",
       "      <td>85.0</td>\n",
       "      <td>1036.0</td>\n",
       "      <td>22.0</td>\n",
       "      <td>3.20</td>\n",
       "      <td>1.14</td>\n",
       "    </tr>\n",
       "    <tr>\n",
       "      <th>Lil Trump</th>\n",
       "      <td>0.262</td>\n",
       "      <td>266.0</td>\n",
       "      <td>54.0</td>\n",
       "      <td>851.0</td>\n",
       "      <td>891.0</td>\n",
       "      <td>59.0</td>\n",
       "      <td>1043.0</td>\n",
       "      <td>79.0</td>\n",
       "      <td>3.44</td>\n",
       "      <td>1.12</td>\n",
       "    </tr>\n",
       "    <tr>\n",
       "      <th>Lima Time</th>\n",
       "      <td>0.279</td>\n",
       "      <td>254.0</td>\n",
       "      <td>102.0</td>\n",
       "      <td>853.0</td>\n",
       "      <td>859.0</td>\n",
       "      <td>91.0</td>\n",
       "      <td>1286.0</td>\n",
       "      <td>0.0</td>\n",
       "      <td>3.37</td>\n",
       "      <td>1.20</td>\n",
       "    </tr>\n",
       "    <tr>\n",
       "      <th>Madness</th>\n",
       "      <td>0.285</td>\n",
       "      <td>239.0</td>\n",
       "      <td>151.0</td>\n",
       "      <td>924.0</td>\n",
       "      <td>880.0</td>\n",
       "      <td>60.0</td>\n",
       "      <td>985.0</td>\n",
       "      <td>96.0</td>\n",
       "      <td>3.36</td>\n",
       "      <td>1.14</td>\n",
       "    </tr>\n",
       "    <tr>\n",
       "      <th>Roiders</th>\n",
       "      <td>0.285</td>\n",
       "      <td>270.0</td>\n",
       "      <td>89.0</td>\n",
       "      <td>938.0</td>\n",
       "      <td>921.0</td>\n",
       "      <td>76.0</td>\n",
       "      <td>1080.0</td>\n",
       "      <td>66.0</td>\n",
       "      <td>3.12</td>\n",
       "      <td>1.13</td>\n",
       "    </tr>\n",
       "    <tr>\n",
       "      <th>Trouble</th>\n",
       "      <td>0.266</td>\n",
       "      <td>266.0</td>\n",
       "      <td>132.0</td>\n",
       "      <td>894.0</td>\n",
       "      <td>897.0</td>\n",
       "      <td>67.0</td>\n",
       "      <td>1021.0</td>\n",
       "      <td>91.0</td>\n",
       "      <td>3.49</td>\n",
       "      <td>1.18</td>\n",
       "    </tr>\n",
       "    <tr>\n",
       "      <th>Ugly Spuds</th>\n",
       "      <td>0.278</td>\n",
       "      <td>244.0</td>\n",
       "      <td>72.0</td>\n",
       "      <td>905.0</td>\n",
       "      <td>881.0</td>\n",
       "      <td>77.0</td>\n",
       "      <td>1077.0</td>\n",
       "      <td>24.0</td>\n",
       "      <td>3.25</td>\n",
       "      <td>1.16</td>\n",
       "    </tr>\n",
       "    <tr>\n",
       "      <th>Wu Tang</th>\n",
       "      <td>0.275</td>\n",
       "      <td>250.0</td>\n",
       "      <td>145.0</td>\n",
       "      <td>855.0</td>\n",
       "      <td>806.0</td>\n",
       "      <td>87.0</td>\n",
       "      <td>1358.0</td>\n",
       "      <td>0.0</td>\n",
       "      <td>3.27</td>\n",
       "      <td>1.16</td>\n",
       "    </tr>\n",
       "    <tr>\n",
       "      <th>Young Guns</th>\n",
       "      <td>0.277</td>\n",
       "      <td>235.0</td>\n",
       "      <td>105.0</td>\n",
       "      <td>880.0</td>\n",
       "      <td>855.0</td>\n",
       "      <td>50.0</td>\n",
       "      <td>973.0</td>\n",
       "      <td>131.0</td>\n",
       "      <td>3.30</td>\n",
       "      <td>1.14</td>\n",
       "    </tr>\n",
       "  </tbody>\n",
       "</table>\n",
       "</div>"
      ],
      "text/plain": [
       "                BA     HR     SB      R    RBI     W      SO      S   ERA  \\\n",
       "Owner                                                                       \n",
       "Brewbirds    0.277  237.0  137.0  914.0  850.0  75.0  1134.0   51.0  3.36   \n",
       "Charmer      0.276  273.0  116.0  858.0  905.0  73.0  1128.0   53.0  3.33   \n",
       "Dirty Birds  0.283  226.0  153.0  915.0  846.0  57.0  1045.0   91.0  3.11   \n",
       "Harvey       0.271  284.0  165.0  949.0  880.0  85.0  1036.0   22.0  3.20   \n",
       "Lil Trump    0.262  266.0   54.0  851.0  891.0  59.0  1043.0   79.0  3.44   \n",
       "Lima Time    0.279  254.0  102.0  853.0  859.0  91.0  1286.0    0.0  3.37   \n",
       "Madness      0.285  239.0  151.0  924.0  880.0  60.0   985.0   96.0  3.36   \n",
       "Roiders      0.285  270.0   89.0  938.0  921.0  76.0  1080.0   66.0  3.12   \n",
       "Trouble      0.266  266.0  132.0  894.0  897.0  67.0  1021.0   91.0  3.49   \n",
       "Ugly Spuds   0.278  244.0   72.0  905.0  881.0  77.0  1077.0   24.0  3.25   \n",
       "Wu Tang      0.275  250.0  145.0  855.0  806.0  87.0  1358.0    0.0  3.27   \n",
       "Young Guns   0.277  235.0  105.0  880.0  855.0  50.0   973.0  131.0  3.30   \n",
       "\n",
       "             WHIP  \n",
       "Owner              \n",
       "Brewbirds    1.15  \n",
       "Charmer      1.14  \n",
       "Dirty Birds  1.17  \n",
       "Harvey       1.14  \n",
       "Lil Trump    1.12  \n",
       "Lima Time    1.20  \n",
       "Madness      1.14  \n",
       "Roiders      1.13  \n",
       "Trouble      1.18  \n",
       "Ugly Spuds   1.16  \n",
       "Wu Tang      1.16  \n",
       "Young Guns   1.14  "
      ]
     },
     "execution_count": 4,
     "metadata": {},
     "output_type": "execute_result"
    }
   ],
   "source": [
    "df[(df['Start']==1)].groupby('Owner').apply(lambda s: pd.Series({\n",
    "    'BA':round(s['H'].sum()/s['AB'].sum(),3),\n",
    "    'HR':s['HR'].sum(),\n",
    "    'SB':s['SB'].sum(),\n",
    "    'R':s['R'].sum(),\n",
    "    'RBI':s['RBI'].sum(),\n",
    "    'W': s['W'].sum(),\n",
    "    'SO':s['SO'].sum(),\n",
    "    'S':s['S'].sum()+s['HD'].sum(),\n",
    "    'ERA':round(s['ER'].sum()/s['IP'].sum()*9,2),\n",
    "    'WHIP':round((s['Ha'].sum()+s['BBa'].sum())/s['IP'].sum(),2),\n",
    "}))"
   ]
  },
  {
   "cell_type": "code",
   "execution_count": 5,
   "id": "733a42ae",
   "metadata": {},
   "outputs": [],
   "source": [
    "def optimize_team(tm):\n",
    "    w = ol.Optimized_Lineups(tm, df[df['Owner']==tm])\n",
    "    print(tm)\n",
    "    w._make_pitcher_combos()\n",
    "    w._make_hitter_combos()\n",
    "    print(w.pitcher_optimized_z, w.pitcher_optimized_lineup)\n",
    "    print(w.hitter_optimized_z, w.hitter_optimized_lineup)\n",
    "    return w"
   ]
  },
  {
   "cell_type": "code",
   "execution_count": 59,
   "id": "d0001eb9",
   "metadata": {},
   "outputs": [],
   "source": [
    "h = ol.Optimized_Lineups('Harvey', df[df['Owner']=='Harvey'])\n",
    "w = ol.Optimized_Lineups('Wu Tang', df[df['Owner']=='Wu Tang'])\n",
    "l = ol.Optimized_Lineups('Lima Time', df[df['Owner']=='Lima Time'])\n",
    "t = ol.Optimized_Lineups('Trouble', df[df['Owner']=='Trouble'])\n",
    "u = ol.Optimized_Lineups('Ugly Spuds', df[df['Owner']=='Ugly Spuds'])"
   ]
  },
  {
   "cell_type": "code",
   "execution_count": 6,
   "id": "9b0128da",
   "metadata": {},
   "outputs": [
    {
     "name": "stdout",
     "output_type": "stream",
     "text": [
      "Lima Time\n",
      "169632\n",
      "169632\n",
      "5.520648398669712 ('Justin Verlander', 'Shane McClanahan', 'Cristian Javier', 'Lucas Giolito', 'Charlie Morton', 'Justin Steele', 'Jordan Montgomery', 'Erik Swanson', 'Jason Adam')\n",
      "-4.403569986971904 ['Adley Rutschman', 'Vinnie Pasquantino', 'Max Muncy', 'Xander Bogaerts', 'Jake Burger', 'Ryan McMahon', 'Alec Bohm', 'Kyle Tucker', \"Tyler O'Neill\", 'Alex Verdugo', 'Andrew Benintendi', 'Ji-Hwan Bae', 'Jose Altuve', 'Josh Naylor']\n"
     ]
    }
   ],
   "source": [
    "tm = 'Lima Time'\n",
    "l = optimize_team(tm)"
   ]
  },
  {
   "cell_type": "code",
   "execution_count": 7,
   "id": "21a5df48",
   "metadata": {},
   "outputs": [
    {
     "name": "stdout",
     "output_type": "stream",
     "text": [
      "Harvey\n",
      "12096\n",
      "12096\n",
      "2.689226586203938 ('Dustin May', 'Tony Gonsolin', 'Nestor Cortes', 'Edward Cabrera', 'Jon Gray', 'Kyle Wright', 'George Kirby', 'Anthony DeSclafani', 'Alex Lange')\n",
      "10.897993058261724 ['William Contreras', 'Jose Abreu', 'Jonathan India', 'Anthony Volpe', 'Rafael Devers', 'Amed Rosario', 'Brian Anderson', 'Fernando Tatis', 'Jazz Chisholm', 'Kyle Schwarber', 'Corbin Carroll', 'James Outman', 'Julio Rodriguez', 'Patrick Wisdom']\n"
     ]
    }
   ],
   "source": [
    "h = optimize_team('Harvey')"
   ]
  },
  {
   "cell_type": "code",
   "execution_count": 7,
   "id": "25797f05",
   "metadata": {},
   "outputs": [
    {
     "name": "stdout",
     "output_type": "stream",
     "text": [
      "Wu Tang\n",
      "2856\n",
      "2856\n",
      "10.277189317526803 ('Sandy Alcantara', 'Spencer Strider', 'Shane Bieber', 'Bryce Elder', 'Blake Snell', 'Chris Bassitt', 'Sean Manaea', 'Michael King', 'Adam Ottavino')\n",
      "-5.417515519971084 ['Cal Raleigh', 'Nate Lowe', 'Nico Hoerner', 'Bryson Stott', 'Manny Machado', 'Kolten Wong', 'Wil Myers', 'Mike Trout', 'Luis Robert', 'Cody Bellinger', 'Masataka Yoshida', 'Brent Rooker', 'Ronald Acuna', 'Ramon Laureano']\n"
     ]
    }
   ],
   "source": [
    "w = optimize_team('Wu Tang')"
   ]
  },
  {
   "cell_type": "code",
   "execution_count": 8,
   "id": "1613098a",
   "metadata": {},
   "outputs": [
    {
     "name": "stdout",
     "output_type": "stream",
     "text": [
      "Ugly Spuds\n",
      "84672\n",
      "84672\n",
      "0.7489042405110831 ('Yu Darvish', 'Framber Valdez', 'Luis Castillo', 'Drew Rasmussen', 'Brandon Woodruff', 'Tyler Mahle', 'Giovanny Gallegos', 'Jorge Lopez', 'James Karinchak')\n",
      "-6.706208028133138 ['Will Smith', 'C.J. Cron', 'Isaac Paredes', 'Bo Bichette', 'Alex Bregman', 'Corey Seager', 'Josh Jung', 'Nick Castellanos', 'Mike Yastrzemski', 'Christian Yelich', 'Jack Suwinski', 'Oscar Gonzalez', 'Harrison Bader', 'Harold Ramirez']\n"
     ]
    }
   ],
   "source": [
    "u = optimize_team('Ugly Spuds')"
   ]
  },
  {
   "cell_type": "code",
   "execution_count": 11,
   "id": "eb0a1708",
   "metadata": {},
   "outputs": [],
   "source": [
    "df.loc[df['Player'].isin(['Ryan McMahon', \"Tyler O'Neill\"]), 'Owner'] = 'Wu Tang'\n",
    "df.loc[df['Player'].isin(['Sandy Alcantara', 'Andrew Chafin']), 'Owner'] = 'Lima Time'"
   ]
  },
  {
   "cell_type": "code",
   "execution_count": 12,
   "id": "fb1564fd",
   "metadata": {},
   "outputs": [
    {
     "name": "stdout",
     "output_type": "stream",
     "text": [
      "Lima Time\n",
      "3360\n",
      "3360\n",
      "12.310923108959017 ('Justin Verlander', 'Shane McClanahan', 'Cristian Javier', 'Lucas Giolito', 'Charlie Morton', 'Justin Steele', 'Erik Swanson', 'Jason Adam', 'Sandy Alcantara')\n",
      "-13.945197960182128 ['Adley Rutschman', 'Josh Naylor', 'Max Muncy', 'Xander Bogaerts', 'Jake Burger', 'Ji-Hwan Bae', 'Vinnie Pasquantino', 'Kyle Tucker', 'Alex Verdugo', 'Andrew Benintendi', 'TJ Friedl', 'Trevor Larnach', 'Jose Altuve', 'Alec Bohm']\n",
      "\n",
      "\n",
      "Wu Tang\n",
      "104160\n",
      "104160\n",
      "2.7421537317212508 ('Spencer Strider', 'Shane Bieber', 'Bryce Elder', 'Blake Snell', 'Chris Bassitt', 'Sean Manaea', 'Hunter Greene', 'Michael King', 'Adam Ottavino')\n",
      "3.162005395564864 ['Cal Raleigh', 'Nate Lowe', 'Nico Hoerner', 'Bryson Stott', 'Ryan McMahon', 'Kolten Wong', 'Manny Machado', \"Tyler O'Neill\", 'Mike Trout', 'Ronald Acuna', 'Ramon Laureano', 'Cody Bellinger', 'Luis Robert', 'Masataka Yoshida']\n"
     ]
    }
   ],
   "source": [
    "l2 = optimize_team('Lima Time')\n",
    "print('\\n')\n",
    "w2 = optimize_team('Wu Tang')"
   ]
  },
  {
   "cell_type": "code",
   "execution_count": 16,
   "id": "1d5c632b",
   "metadata": {},
   "outputs": [],
   "source": [
    "df = load()\n",
    "df.loc[df['Player'].isin(['Alex Bregman', 'Yu Darvish']), 'Owner'] = 'Lima Time'\n",
    "df.loc[df['Player'].isin(['Alec Bohm', 'Justin Verlander']), 'Owner'] = 'Ugly Spuds'"
   ]
  },
  {
   "cell_type": "code",
   "execution_count": 17,
   "id": "4ac38661",
   "metadata": {},
   "outputs": [
    {
     "name": "stdout",
     "output_type": "stream",
     "text": [
      "Lima Time\n",
      "124956\n",
      "124956\n",
      "4.403550267253626 ('Shane McClanahan', 'Cristian Javier', 'Lucas Giolito', 'Charlie Morton', 'Justin Steele', 'Jordan Montgomery', 'Erik Swanson', 'Jason Adam', 'Yu Darvish')\n",
      "-1.5287369643198963 ['Adley Rutschman', 'Vinnie Pasquantino', 'Max Muncy', 'Xander Bogaerts', 'Jake Burger', 'Ryan McMahon', 'Alex Bregman', 'Kyle Tucker', \"Tyler O'Neill\", 'Alex Verdugo', 'Andrew Benintendi', 'Ji-Hwan Bae', 'Jose Altuve', 'Josh Naylor']\n",
      "\n",
      "\n",
      "Ugly Spuds\n",
      "141120\n",
      "141120\n",
      "1.8660023719271694 ('Justin Verlander', 'Framber Valdez', 'Luis Castillo', 'Drew Rasmussen', 'Brandon Woodruff', 'Tyler Mahle', 'Giovanny Gallegos', 'Jorge Lopez', 'James Karinchak')\n",
      "-9.581041050785146 ['Will Smith', 'Alec Bohm', 'Isaac Paredes', 'Corey Seager', 'Josh Jung', 'Bo Bichette', 'C.J. Cron', 'Nick Castellanos', 'Mike Yastrzemski', 'Christian Yelich', 'Jack Suwinski', 'Oscar Gonzalez', 'Harrison Bader', 'Harold Ramirez']\n"
     ]
    }
   ],
   "source": [
    "l2 = optimize_team('Lima Time')\n",
    "print('\\n')\n",
    "w2 = optimize_team('Ugly Spuds')"
   ]
  },
  {
   "cell_type": "code",
   "execution_count": 15,
   "id": "9a2c3fcb",
   "metadata": {},
   "outputs": [
    {
     "name": "stdout",
     "output_type": "stream",
     "text": [
      "Lima Time\n",
      "2520\n",
      "2520\n",
      "11.193824977542931 ('Shane McClanahan', 'Cristian Javier', 'Lucas Giolito', 'Charlie Morton', 'Justin Steele', 'Erik Swanson', 'Jason Adam', 'Yu Darvish', 'Sandy Alcantara')\n",
      "-11.070364937530119 ['Adley Rutschman', 'Josh Naylor', 'Max Muncy', 'Xander Bogaerts', 'Jake Burger', 'Ji-Hwan Bae', 'Vinnie Pasquantino', 'Kyle Tucker', 'Alex Verdugo', 'Andrew Benintendi', 'TJ Friedl', 'Trevor Larnach', 'Jose Altuve', 'Alex Bregman']\n",
      "\n",
      "\n",
      "Ugly Spuds\n",
      "141120\n",
      "141120\n",
      "1.8660023719271694 ('Justin Verlander', 'Framber Valdez', 'Luis Castillo', 'Drew Rasmussen', 'Brandon Woodruff', 'Tyler Mahle', 'Giovanny Gallegos', 'Jorge Lopez', 'James Karinchak')\n",
      "-9.581041050785146 ['Will Smith', 'Alec Bohm', 'Isaac Paredes', 'Corey Seager', 'Josh Jung', 'Bo Bichette', 'C.J. Cron', 'Nick Castellanos', 'Mike Yastrzemski', 'Christian Yelich', 'Jack Suwinski', 'Oscar Gonzalez', 'Harrison Bader', 'Harold Ramirez']\n"
     ]
    }
   ],
   "source": [
    "l3 = optimize_team('Lima Time')\n",
    "print('\\n')\n",
    "w3 = optimize_team('Ugly Spuds')"
   ]
  },
  {
   "cell_type": "code",
   "execution_count": 14,
   "id": "247cad5e",
   "metadata": {},
   "outputs": [],
   "source": [
    "df = load()\n",
    "df.loc[df['Player'].isin(['Grayson Rodriguez']), 'Owner'] = 'Harvey'\n",
    "df.loc[df['Player'].isin(['James Outman']), 'Owner'] = 'Lima Time'"
   ]
  },
  {
   "cell_type": "code",
   "execution_count": 15,
   "id": "5bd1a772",
   "metadata": {},
   "outputs": [
    {
     "name": "stdout",
     "output_type": "stream",
     "text": [
      "Lima Time\n",
      "598192\n",
      "598192\n",
      "5.520648398669712 ('Justin Verlander', 'Shane McClanahan', 'Cristian Javier', 'Lucas Giolito', 'Charlie Morton', 'Justin Steele', 'Jordan Montgomery', 'Erik Swanson', 'Jason Adam')\n",
      "-2.8852745859699453 ['Adley Rutschman', 'Vinnie Pasquantino', 'Max Muncy', 'Xander Bogaerts', 'Ryan McMahon', 'Ji-Hwan Bae', 'Alec Bohm', 'James Outman', 'Kyle Tucker', \"Tyler O'Neill\", 'Alex Verdugo', 'Andrew Benintendi', 'Jose Altuve', 'Josh Naylor']\n",
      "\n",
      "\n",
      "Harvey\n",
      "2328\n",
      "2328\n",
      "2.689226586203938 ('Dustin May', 'Tony Gonsolin', 'Nestor Cortes', 'Edward Cabrera', 'Jon Gray', 'Kyle Wright', 'George Kirby', 'Anthony DeSclafani', 'Alex Lange')\n",
      "6.998851462626627 ['William Contreras', 'Jose Abreu', 'Jonathan India', 'Anthony Volpe', 'Rafael Devers', 'Amed Rosario', 'Triston Casas', 'Fernando Tatis', 'Jazz Chisholm', 'Kyle Schwarber', 'Corbin Carroll', 'Brian Anderson', 'Julio Rodriguez', 'Patrick Wisdom']\n"
     ]
    }
   ],
   "source": [
    "l4 = optimize_team('Lima Time')\n",
    "print('\\n')\n",
    "h4 = optimize_team('Harvey')"
   ]
  },
  {
   "cell_type": "code",
   "execution_count": null,
   "id": "8b775a83",
   "metadata": {},
   "outputs": [],
   "source": [
    "df[['Player', 'BA', 'HR', 'SB', 'R', 'RBI', 'z']].sort_values('z', ascending=False)"
   ]
  },
  {
   "cell_type": "code",
   "execution_count": null,
   "id": "3b332d0c",
   "metadata": {},
   "outputs": [],
   "source": []
  },
  {
   "cell_type": "code",
   "execution_count": 91,
   "id": "71996e7b",
   "metadata": {
    "scrolled": false
   },
   "outputs": [
    {
     "data": {
      "text/html": [
       "<div>\n",
       "<style scoped>\n",
       "    .dataframe tbody tr th:only-of-type {\n",
       "        vertical-align: middle;\n",
       "    }\n",
       "\n",
       "    .dataframe tbody tr th {\n",
       "        vertical-align: top;\n",
       "    }\n",
       "\n",
       "    .dataframe thead th {\n",
       "        text-align: right;\n",
       "    }\n",
       "</style>\n",
       "<table border=\"1\" class=\"dataframe\">\n",
       "  <thead>\n",
       "    <tr style=\"text-align: right;\">\n",
       "      <th></th>\n",
       "      <th></th>\n",
       "      <th>HR</th>\n",
       "      <th>SB</th>\n",
       "      <th>R</th>\n",
       "      <th>RBI</th>\n",
       "      <th>BA</th>\n",
       "      <th>z</th>\n",
       "      <th>IP</th>\n",
       "      <th>ERA</th>\n",
       "      <th>WHIP</th>\n",
       "      <th>W</th>\n",
       "      <th>SO</th>\n",
       "      <th>Sv+Hld</th>\n",
       "    </tr>\n",
       "    <tr>\n",
       "      <th>Owner</th>\n",
       "      <th>Player</th>\n",
       "      <th></th>\n",
       "      <th></th>\n",
       "      <th></th>\n",
       "      <th></th>\n",
       "      <th></th>\n",
       "      <th></th>\n",
       "      <th></th>\n",
       "      <th></th>\n",
       "      <th></th>\n",
       "      <th></th>\n",
       "      <th></th>\n",
       "      <th></th>\n",
       "    </tr>\n",
       "  </thead>\n",
       "  <tbody>\n",
       "    <tr>\n",
       "      <th rowspan=\"2\" valign=\"top\">Lima Time</th>\n",
       "      <th>Alex Bregman</th>\n",
       "      <td>19.0</td>\n",
       "      <td>1.0</td>\n",
       "      <td>78.0</td>\n",
       "      <td>73.0</td>\n",
       "      <td>0.271</td>\n",
       "      <td>0.694379</td>\n",
       "      <td>0.0</td>\n",
       "      <td>0.00</td>\n",
       "      <td>0.00</td>\n",
       "      <td>0.0</td>\n",
       "      <td>0.0</td>\n",
       "      <td>0.0</td>\n",
       "    </tr>\n",
       "    <tr>\n",
       "      <th>Yu Darvish</th>\n",
       "      <td>0.0</td>\n",
       "      <td>0.0</td>\n",
       "      <td>0.0</td>\n",
       "      <td>0.0</td>\n",
       "      <td>0.000</td>\n",
       "      <td>2.272376</td>\n",
       "      <td>157.0</td>\n",
       "      <td>3.21</td>\n",
       "      <td>1.11</td>\n",
       "      <td>11.0</td>\n",
       "      <td>163.0</td>\n",
       "      <td>0.0</td>\n",
       "    </tr>\n",
       "    <tr>\n",
       "      <th rowspan=\"2\" valign=\"top\">Ugly Spuds</th>\n",
       "      <th>Alec Bohm</th>\n",
       "      <td>11.0</td>\n",
       "      <td>2.0</td>\n",
       "      <td>52.0</td>\n",
       "      <td>67.0</td>\n",
       "      <td>0.282</td>\n",
       "      <td>-2.180454</td>\n",
       "      <td>0.0</td>\n",
       "      <td>0.00</td>\n",
       "      <td>0.00</td>\n",
       "      <td>0.0</td>\n",
       "      <td>0.0</td>\n",
       "      <td>0.0</td>\n",
       "    </tr>\n",
       "    <tr>\n",
       "      <th>Justin Verlander</th>\n",
       "      <td>0.0</td>\n",
       "      <td>0.0</td>\n",
       "      <td>0.0</td>\n",
       "      <td>0.0</td>\n",
       "      <td>0.000</td>\n",
       "      <td>3.389474</td>\n",
       "      <td>151.0</td>\n",
       "      <td>2.80</td>\n",
       "      <td>1.16</td>\n",
       "      <td>14.0</td>\n",
       "      <td>156.0</td>\n",
       "      <td>0.0</td>\n",
       "    </tr>\n",
       "  </tbody>\n",
       "</table>\n",
       "</div>"
      ],
      "text/plain": [
       "                               HR   SB     R   RBI     BA         z     IP  \\\n",
       "Owner      Player                                                            \n",
       "Lima Time  Alex Bregman      19.0  1.0  78.0  73.0  0.271  0.694379    0.0   \n",
       "           Yu Darvish         0.0  0.0   0.0   0.0  0.000  2.272376  157.0   \n",
       "Ugly Spuds Alec Bohm         11.0  2.0  52.0  67.0  0.282 -2.180454    0.0   \n",
       "           Justin Verlander   0.0  0.0   0.0   0.0  0.000  3.389474  151.0   \n",
       "\n",
       "                              ERA  WHIP     W     SO  Sv+Hld  \n",
       "Owner      Player                                             \n",
       "Lima Time  Alex Bregman      0.00  0.00   0.0    0.0     0.0  \n",
       "           Yu Darvish        3.21  1.11  11.0  163.0     0.0  \n",
       "Ugly Spuds Alec Bohm         0.00  0.00   0.0    0.0     0.0  \n",
       "           Justin Verlander  2.80  1.16  14.0  156.0     0.0  "
      ]
     },
     "execution_count": 91,
     "metadata": {},
     "output_type": "execute_result"
    }
   ],
   "source": [
    "df[df['Player'].isin(['Justin Verlander', 'Alec Bohm', 'Alex Bregman', 'Yu Darvish'])] .groupby(['Owner', 'Player'])[['HR', 'SB', 'R', 'RBI', 'BA', 'z', 'IP', 'ERA', \n",
    "                                                                         'WHIP', 'W', 'SO', 'Sv+Hld']].sum()"
   ]
  },
  {
   "cell_type": "code",
   "execution_count": null,
   "id": "0bd25873",
   "metadata": {},
   "outputs": [],
   "source": [
    "df.loc[df['Player']=='Grayson Rodriguez', ['W', 'SO', 'ERA', 'WHIP']] = [7, 131, 3.8, 1.2]"
   ]
  },
  {
   "cell_type": "code",
   "execution_count": null,
   "id": "c968d584",
   "metadata": {
    "scrolled": false
   },
   "outputs": [],
   "source": [
    "df[df['Player'].isin(w.pitcher_optimized_lineup+l.pitcher_optimized_lineup)].groupby('Owner').apply(lambda s: pd.Series({\n",
    "    'W': s['W'].sum(),\n",
    "    'SO':s['SO'].sum(),\n",
    "    'S':s['S'].sum()+s['HD'].sum(),\n",
    "    'ERA':round(s['ER'].sum()/s['IP'].sum()*9,2),\n",
    "    'WHIP':round((s['Ha'].sum()+s['BBa'].sum())/s['IP'].sum(),2),\n",
    "}))"
   ]
  },
  {
   "cell_type": "code",
   "execution_count": null,
   "id": "85b20151",
   "metadata": {},
   "outputs": [],
   "source": [
    "df[df['Player'].isin(['Jose Abreu', 'Vinnie Pasquantino', 'Justin Steele', 'Brian Anderson', 'Amed Rosario', \n",
    "                      'Reynaldo Lopez'])] .groupby(['Owner', 'Player'])[['AB','HR', 'SB', 'R', 'RBI', 'BA', 'z', 'IP', 'ERA', \n",
    "                                                                         'WHIP', 'W', 'SO', 'Sv+Hld']].sum()"
   ]
  },
  {
   "cell_type": "code",
   "execution_count": null,
   "id": "0cc5d0c3",
   "metadata": {},
   "outputs": [],
   "source": [
    "df[df['Player'].isin(['Jose Abreu', 'Vinnie Pasquantino', 'Justin Steele', 'Brian Anderson', 'Amed Rosario', \n",
    "                      'Reynaldo Lopez'])] .groupby('Owner')[['AB','HR', 'SB', 'R', 'RBI', 'BA', 'z', 'IP', 'ERA', \n",
    "                                                                         'WHIP', 'W', 'SO', 'Sv+Hld']].sum()"
   ]
  },
  {
   "cell_type": "code",
   "execution_count": null,
   "id": "d9f59632",
   "metadata": {},
   "outputs": [],
   "source": [
    "h.pitcher_optimized_lineup, l.pitcher_optimized_lineup"
   ]
  },
  {
   "cell_type": "code",
   "execution_count": null,
   "id": "5a7ba84d",
   "metadata": {},
   "outputs": [],
   "source": [
    "print(f\"Harvey\\nhitting: {h.hitter_optimized_z}\\npitching: {h.pitcher_optimized_z}\")\n",
    "#print(f\"Lima\\nhitting: {l.hitter_optimized_z}\\npitching: {l.pitcher_optimized_z}\")"
   ]
  },
  {
   "cell_type": "code",
   "execution_count": 75,
   "id": "2b61887d",
   "metadata": {},
   "outputs": [
    {
     "name": "stdout",
     "output_type": "stream",
     "text": [
      "Brewbirds\n",
      "21060\n",
      "21060\n",
      "Offense: 0.31308555284945294\n",
      "Pitching: 1.9621198543214435\n",
      "Total z: 2.2752054071708967\n",
      "Charmer\n",
      "66000\n",
      "66000\n",
      "Offense: -6.1254861692331515\n",
      "Pitching: 7.284372059363754\n",
      "Total z: 1.1588858901306027\n",
      "Dirty Birds\n",
      "72720\n",
      "72720\n",
      "Offense: 3.7647123877350834\n",
      "Pitching: -0.5255299489434608\n",
      "Total z: 3.2391824387916226\n",
      "Harvey\n",
      "12096\n",
      "12096\n",
      "Offense: 10.897993058261724\n",
      "Pitching: 2.689226586203938\n",
      "Total z: 13.587219644465662\n",
      "Lil Trump\n",
      "0\n",
      "0\n"
     ]
    },
    {
     "ename": "ValueError",
     "evalue": "attempt to get argmax of an empty sequence",
     "output_type": "error",
     "traceback": [
      "\u001b[1;31m---------------------------------------------------------------------------\u001b[0m",
      "\u001b[1;31mValueError\u001b[0m                                Traceback (most recent call last)",
      "\u001b[1;32m~\\AppData\\Local\\Temp\\ipykernel_8240\\3197949698.py\u001b[0m in \u001b[0;36m<module>\u001b[1;34m\u001b[0m\n\u001b[0;32m      4\u001b[0m     \u001b[0mol_dict\u001b[0m\u001b[1;33m[\u001b[0m\u001b[0mt\u001b[0m\u001b[1;33m]\u001b[0m \u001b[1;33m=\u001b[0m \u001b[0mol\u001b[0m\u001b[1;33m.\u001b[0m\u001b[0mOptimized_Lineups\u001b[0m\u001b[1;33m(\u001b[0m\u001b[0mt\u001b[0m\u001b[1;33m,\u001b[0m \u001b[0mdf\u001b[0m\u001b[1;33m[\u001b[0m\u001b[0mdf\u001b[0m\u001b[1;33m[\u001b[0m\u001b[1;34m'Owner'\u001b[0m\u001b[1;33m]\u001b[0m\u001b[1;33m==\u001b[0m\u001b[0mt\u001b[0m\u001b[1;33m]\u001b[0m\u001b[1;33m)\u001b[0m\u001b[1;33m\u001b[0m\u001b[1;33m\u001b[0m\u001b[0m\n\u001b[0;32m      5\u001b[0m     \u001b[0mol_dict\u001b[0m\u001b[1;33m[\u001b[0m\u001b[0mt\u001b[0m\u001b[1;33m]\u001b[0m\u001b[1;33m.\u001b[0m\u001b[0m_make_pitcher_combos\u001b[0m\u001b[1;33m(\u001b[0m\u001b[1;33m)\u001b[0m\u001b[1;33m\u001b[0m\u001b[1;33m\u001b[0m\u001b[0m\n\u001b[1;32m----> 6\u001b[1;33m     \u001b[0mol_dict\u001b[0m\u001b[1;33m[\u001b[0m\u001b[0mt\u001b[0m\u001b[1;33m]\u001b[0m\u001b[1;33m.\u001b[0m\u001b[0m_make_hitter_combos\u001b[0m\u001b[1;33m(\u001b[0m\u001b[1;33m)\u001b[0m\u001b[1;33m\u001b[0m\u001b[1;33m\u001b[0m\u001b[0m\n\u001b[0m\u001b[0;32m      7\u001b[0m     \u001b[0mprint\u001b[0m\u001b[1;33m(\u001b[0m\u001b[1;34mf'Offense: {ol_dict[t].hitter_optimized_z}'\u001b[0m\u001b[1;33m)\u001b[0m\u001b[1;33m\u001b[0m\u001b[1;33m\u001b[0m\u001b[0m\n\u001b[0;32m      8\u001b[0m     \u001b[0mprint\u001b[0m\u001b[1;33m(\u001b[0m\u001b[1;34mf'Pitching: {ol_dict[t].pitcher_optimized_z}'\u001b[0m\u001b[1;33m)\u001b[0m\u001b[1;33m\u001b[0m\u001b[1;33m\u001b[0m\u001b[0m\n",
      "\u001b[1;32m~\\Documents\\GitHub\\baseball\\optimize_lineup.py\u001b[0m in \u001b[0;36m_make_hitter_combos\u001b[1;34m(self)\u001b[0m\n\u001b[0;32m     58\u001b[0m         \u001b[0mself\u001b[0m\u001b[1;33m.\u001b[0m\u001b[0mhitter_z_list\u001b[0m \u001b[1;33m=\u001b[0m \u001b[0mself\u001b[0m\u001b[1;33m.\u001b[0m\u001b[0m_z_list\u001b[0m\u001b[1;33m(\u001b[0m\u001b[0mself\u001b[0m\u001b[1;33m.\u001b[0m\u001b[0mhitter_combos\u001b[0m\u001b[1;33m,\u001b[0m \u001b[0mself\u001b[0m\u001b[1;33m.\u001b[0m\u001b[0mh_dict\u001b[0m\u001b[1;33m)\u001b[0m\u001b[1;33m\u001b[0m\u001b[1;33m\u001b[0m\u001b[0m\n\u001b[0;32m     59\u001b[0m         \u001b[0mprint\u001b[0m\u001b[1;33m(\u001b[0m\u001b[0mlen\u001b[0m\u001b[1;33m(\u001b[0m\u001b[0mself\u001b[0m\u001b[1;33m.\u001b[0m\u001b[0mhitter_z_list\u001b[0m\u001b[1;33m)\u001b[0m\u001b[1;33m)\u001b[0m\u001b[1;33m\u001b[0m\u001b[1;33m\u001b[0m\u001b[0m\n\u001b[1;32m---> 60\u001b[1;33m         \u001b[0mself\u001b[0m\u001b[1;33m.\u001b[0m\u001b[0mhitter_idx\u001b[0m \u001b[1;33m=\u001b[0m \u001b[0mnp\u001b[0m\u001b[1;33m.\u001b[0m\u001b[0margmax\u001b[0m\u001b[1;33m(\u001b[0m\u001b[0mself\u001b[0m\u001b[1;33m.\u001b[0m\u001b[0mhitter_z_list\u001b[0m\u001b[1;33m)\u001b[0m\u001b[1;33m\u001b[0m\u001b[1;33m\u001b[0m\u001b[0m\n\u001b[0m\u001b[0;32m     61\u001b[0m         \u001b[0mself\u001b[0m\u001b[1;33m.\u001b[0m\u001b[0mhitter_optimized_z\u001b[0m \u001b[1;33m=\u001b[0m \u001b[0mself\u001b[0m\u001b[1;33m.\u001b[0m\u001b[0mhitter_z_list\u001b[0m\u001b[1;33m[\u001b[0m\u001b[0mself\u001b[0m\u001b[1;33m.\u001b[0m\u001b[0mhitter_idx\u001b[0m\u001b[1;33m]\u001b[0m\u001b[1;33m\u001b[0m\u001b[1;33m\u001b[0m\u001b[0m\n\u001b[0;32m     62\u001b[0m         \u001b[0mself\u001b[0m\u001b[1;33m.\u001b[0m\u001b[0mhitter_optimized_lineup\u001b[0m \u001b[1;33m=\u001b[0m \u001b[0mself\u001b[0m\u001b[1;33m.\u001b[0m\u001b[0mhitter_combos\u001b[0m\u001b[1;33m[\u001b[0m\u001b[0mself\u001b[0m\u001b[1;33m.\u001b[0m\u001b[0mhitter_idx\u001b[0m\u001b[1;33m]\u001b[0m\u001b[1;33m\u001b[0m\u001b[1;33m\u001b[0m\u001b[0m\n",
      "\u001b[1;32m<__array_function__ internals>\u001b[0m in \u001b[0;36margmax\u001b[1;34m(*args, **kwargs)\u001b[0m\n",
      "\u001b[1;32mC:\\ProgramData\\Anaconda3\\lib\\site-packages\\numpy\\core\\fromnumeric.py\u001b[0m in \u001b[0;36margmax\u001b[1;34m(a, axis, out)\u001b[0m\n\u001b[0;32m   1193\u001b[0m \u001b[1;33m\u001b[0m\u001b[0m\n\u001b[0;32m   1194\u001b[0m     \"\"\"\n\u001b[1;32m-> 1195\u001b[1;33m     \u001b[1;32mreturn\u001b[0m \u001b[0m_wrapfunc\u001b[0m\u001b[1;33m(\u001b[0m\u001b[0ma\u001b[0m\u001b[1;33m,\u001b[0m \u001b[1;34m'argmax'\u001b[0m\u001b[1;33m,\u001b[0m \u001b[0maxis\u001b[0m\u001b[1;33m=\u001b[0m\u001b[0maxis\u001b[0m\u001b[1;33m,\u001b[0m \u001b[0mout\u001b[0m\u001b[1;33m=\u001b[0m\u001b[0mout\u001b[0m\u001b[1;33m)\u001b[0m\u001b[1;33m\u001b[0m\u001b[1;33m\u001b[0m\u001b[0m\n\u001b[0m\u001b[0;32m   1196\u001b[0m \u001b[1;33m\u001b[0m\u001b[0m\n\u001b[0;32m   1197\u001b[0m \u001b[1;33m\u001b[0m\u001b[0m\n",
      "\u001b[1;32mC:\\ProgramData\\Anaconda3\\lib\\site-packages\\numpy\\core\\fromnumeric.py\u001b[0m in \u001b[0;36m_wrapfunc\u001b[1;34m(obj, method, *args, **kwds)\u001b[0m\n\u001b[0;32m     52\u001b[0m     \u001b[0mbound\u001b[0m \u001b[1;33m=\u001b[0m \u001b[0mgetattr\u001b[0m\u001b[1;33m(\u001b[0m\u001b[0mobj\u001b[0m\u001b[1;33m,\u001b[0m \u001b[0mmethod\u001b[0m\u001b[1;33m,\u001b[0m \u001b[1;32mNone\u001b[0m\u001b[1;33m)\u001b[0m\u001b[1;33m\u001b[0m\u001b[1;33m\u001b[0m\u001b[0m\n\u001b[0;32m     53\u001b[0m     \u001b[1;32mif\u001b[0m \u001b[0mbound\u001b[0m \u001b[1;32mis\u001b[0m \u001b[1;32mNone\u001b[0m\u001b[1;33m:\u001b[0m\u001b[1;33m\u001b[0m\u001b[1;33m\u001b[0m\u001b[0m\n\u001b[1;32m---> 54\u001b[1;33m         \u001b[1;32mreturn\u001b[0m \u001b[0m_wrapit\u001b[0m\u001b[1;33m(\u001b[0m\u001b[0mobj\u001b[0m\u001b[1;33m,\u001b[0m \u001b[0mmethod\u001b[0m\u001b[1;33m,\u001b[0m \u001b[1;33m*\u001b[0m\u001b[0margs\u001b[0m\u001b[1;33m,\u001b[0m \u001b[1;33m**\u001b[0m\u001b[0mkwds\u001b[0m\u001b[1;33m)\u001b[0m\u001b[1;33m\u001b[0m\u001b[1;33m\u001b[0m\u001b[0m\n\u001b[0m\u001b[0;32m     55\u001b[0m \u001b[1;33m\u001b[0m\u001b[0m\n\u001b[0;32m     56\u001b[0m     \u001b[1;32mtry\u001b[0m\u001b[1;33m:\u001b[0m\u001b[1;33m\u001b[0m\u001b[1;33m\u001b[0m\u001b[0m\n",
      "\u001b[1;32mC:\\ProgramData\\Anaconda3\\lib\\site-packages\\numpy\\core\\fromnumeric.py\u001b[0m in \u001b[0;36m_wrapit\u001b[1;34m(obj, method, *args, **kwds)\u001b[0m\n\u001b[0;32m     41\u001b[0m     \u001b[1;32mexcept\u001b[0m \u001b[0mAttributeError\u001b[0m\u001b[1;33m:\u001b[0m\u001b[1;33m\u001b[0m\u001b[1;33m\u001b[0m\u001b[0m\n\u001b[0;32m     42\u001b[0m         \u001b[0mwrap\u001b[0m \u001b[1;33m=\u001b[0m \u001b[1;32mNone\u001b[0m\u001b[1;33m\u001b[0m\u001b[1;33m\u001b[0m\u001b[0m\n\u001b[1;32m---> 43\u001b[1;33m     \u001b[0mresult\u001b[0m \u001b[1;33m=\u001b[0m \u001b[0mgetattr\u001b[0m\u001b[1;33m(\u001b[0m\u001b[0masarray\u001b[0m\u001b[1;33m(\u001b[0m\u001b[0mobj\u001b[0m\u001b[1;33m)\u001b[0m\u001b[1;33m,\u001b[0m \u001b[0mmethod\u001b[0m\u001b[1;33m)\u001b[0m\u001b[1;33m(\u001b[0m\u001b[1;33m*\u001b[0m\u001b[0margs\u001b[0m\u001b[1;33m,\u001b[0m \u001b[1;33m**\u001b[0m\u001b[0mkwds\u001b[0m\u001b[1;33m)\u001b[0m\u001b[1;33m\u001b[0m\u001b[1;33m\u001b[0m\u001b[0m\n\u001b[0m\u001b[0;32m     44\u001b[0m     \u001b[1;32mif\u001b[0m \u001b[0mwrap\u001b[0m\u001b[1;33m:\u001b[0m\u001b[1;33m\u001b[0m\u001b[1;33m\u001b[0m\u001b[0m\n\u001b[0;32m     45\u001b[0m         \u001b[1;32mif\u001b[0m \u001b[1;32mnot\u001b[0m \u001b[0misinstance\u001b[0m\u001b[1;33m(\u001b[0m\u001b[0mresult\u001b[0m\u001b[1;33m,\u001b[0m \u001b[0mmu\u001b[0m\u001b[1;33m.\u001b[0m\u001b[0mndarray\u001b[0m\u001b[1;33m)\u001b[0m\u001b[1;33m:\u001b[0m\u001b[1;33m\u001b[0m\u001b[1;33m\u001b[0m\u001b[0m\n",
      "\u001b[1;31mValueError\u001b[0m: attempt to get argmax of an empty sequence"
     ]
    }
   ],
   "source": [
    "ol_dict = {}\n",
    "for t in df.Owner.sort_values().unique():\n",
    "    print(t)\n",
    "    ol_dict[t] = ol.Optimized_Lineups(t, df[df['Owner']==t])\n",
    "    ol_dict[t]._make_pitcher_combos()\n",
    "    ol_dict[t]._make_hitter_combos()\n",
    "    print(f'Offense: {ol_dict[t].hitter_optimized_z}')\n",
    "    print(f'Pitching: {ol_dict[t].pitcher_optimized_z}')\n",
    "    print(f'Total z: {ol_dict[t].pitcher_optimized_z + ol_dict[t].hitter_optimized_z}')"
   ]
  },
  {
   "cell_type": "code",
   "execution_count": null,
   "id": "bfea7fbb",
   "metadata": {},
   "outputs": [],
   "source": [
    "for k, v in ol_dict['Brewbirds'].h_dict.items():\n",
    "    print(k,v['all_pos'])\n",
    "    if \"OF\" in v['all_pos']:#.replace('[','').replace(']','').replace('\\'','').split(\", \"):\n",
    "        print('yes')"
   ]
  },
  {
   "cell_type": "code",
   "execution_count": null,
   "id": "a5c6d11d",
   "metadata": {},
   "outputs": [],
   "source": []
  },
  {
   "cell_type": "code",
   "execution_count": null,
   "id": "d915de87",
   "metadata": {},
   "outputs": [],
   "source": [
    "def get_team_projections(owner):\n",
    "    b = pd.read_html(str(soup.find_all('table')[1]), header=1, converters={'AB':str_2_int,'H':str_2_int, 'R':str_2_int,'HR':str_2_int,'RBI':str_2_int,'SB':str_2_int})[0].drop(columns='Edit')\n",
    "    b = b[b['Pos']!='Reserves'].reset_index(drop=False).drop(columns='index')\n",
    "    b.loc[b.index<14, 'Status'] = 'Start'\n",
    "    b.loc[b.index>=14, 'Status'] = 'Bench'\n",
    "    b['Name'] = b.Players.apply(lambda x: parse_name(x))\n",
    "    b['Elig'] = b.Players.apply(lambda x: parse_pos(x))\n",
    "    b['Team'] = b.Players.apply(lambda x: parse_team(x))\n",
    "    b['Owner'] = owner\n",
    "    \n",
    "    p = pd.read_html(str(soup.find_all('table')[2]), header=1, converters={'INNs':str_2_int,'BBI':str_2_int, 'HA':str_2_int, 'W':str_2_int,'S':str_2_int,'K':str_2_int})[0].drop(columns='Edit')\n",
    "    p = p[~p['Pos'].str.contains('Reserve')].reset_index(drop=False).drop(columns='index')\n",
    "    p['ER'] = (p['ERA'].astype(float)/9)*p['INNs'].astype(float)\n",
    "    p.loc[p.index<9, 'Status'] = 'Start'\n",
    "    p.loc[p.index>=9, 'Status'] = 'Bench'\n",
    "    p['Name'] = p.Players.apply(lambda x: parse_name(x))\n",
    "    p['Elig'] = p.Players.apply(lambda x: parse_pos(x))\n",
    "    p['Team'] = p.Players.apply(lambda x: parse_team(x))\n",
    "    p['Owner'] = owner\n",
    "    return b, p"
   ]
  },
  {
   "cell_type": "code",
   "execution_count": null,
   "id": "ed82ecc6",
   "metadata": {},
   "outputs": [],
   "source": [
    "#df = b[b['Status']=='Start'].groupby('Owner').agg({'R':'sum', 'RBI':'sum', 'HR':'sum', 'SB':'sum', 'H':'sum', 'AB':'sum'})\n",
    "def get_proj_batting_stats_by_owner(b):\n",
    "    df = b[b['Status']=='Start'].groupby(\"Owner\").apply(lambda s: pd.Series({ \n",
    "        \"HR\": s[\"HR\"].sum(), \n",
    "        \"R\": s[\"R\"].sum(),\n",
    "        'RBI': s['RBI'].sum(),\n",
    "        'SB': s['SB'].sum(),\n",
    "        \"BA\": s[\"H\"].sum()/s[\"AB\"].sum(),\n",
    "        'H': s['H'].sum(),\n",
    "        'AB': s['AB'].sum()\n",
    "    }))\n",
    "    return df\n",
    "\n",
    "def get_batting_ranks(proj):\n",
    "    b_ranks = proj.drop(columns=['H', 'AB']).rank()\n",
    "    b_ranks['Pts'] = b_ranks.sum(axis=1)\n",
    "    return b_ranks\n",
    "\n",
    "proj_batting_stats_by_owner = get_proj_batting_stats_by_owner(b)\n",
    "b_ranks = get_batting_ranks(proj_batting_stats_by_owner)"
   ]
  },
  {
   "cell_type": "code",
   "execution_count": null,
   "id": "245eed26",
   "metadata": {},
   "outputs": [],
   "source": [
    "dfp = p[p['Status']=='Start'].groupby(\"Owner\").apply(lambda s: pd.Series({ \n",
    "    \"W\": s[\"W\"].sum(), \n",
    "    \"K\": s[\"K\"].sum(),\n",
    "    'S': s['S'].sum(),\n",
    "    'ERA': s['ER'].sum()/s['INNs'].sum()*9,\n",
    "    \"WHIP\": (s[\"HA\"].sum()+s['BBI'].sum())/s[\"INNs\"].sum(),\n",
    "}))\n",
    "\n",
    "p_ranks = dfp.rank()\n",
    "p_ranks['Pts'] = p_ranks.sum(axis=1)\n",
    "p_ranks.sort_values('Pts', ascending=False)"
   ]
  },
  {
   "cell_type": "code",
   "execution_count": null,
   "id": "1d2ce8f6",
   "metadata": {},
   "outputs": [],
   "source": [
    "dfp.sort_values('W', ascending=False)"
   ]
  },
  {
   "cell_type": "code",
   "execution_count": null,
   "id": "3962b73f",
   "metadata": {},
   "outputs": [],
   "source": [
    "(b_ranks['Pts']+p_ranks['Pts']).sort_values().plot(kind='bar')"
   ]
  },
  {
   "cell_type": "code",
   "execution_count": null,
   "id": "9e6b5fd7",
   "metadata": {},
   "outputs": [],
   "source": [
    "z_table = b[b['Status']=='Start'].agg({'HR':['mean','std'], 'R':['mean', 'std'], 'RBI':['mean','std'], 'SB':['mean','std'], 'H':['mean','std'], 'AB':['mean','std']})\n",
    "z_table = z_table.join(p[p['Status']=='Start'].agg({'W':['mean','std'], 'K':['mean', 'std'], 'S':['mean','std'], 'ER':['mean','std'], 'HA':['mean','std'], 'BBI':['mean','std'], 'INNs':['mean', 'std']}))\n",
    "z_table"
   ]
  },
  {
   "cell_type": "code",
   "execution_count": null,
   "id": "3dd73430",
   "metadata": {},
   "outputs": [],
   "source": [
    "for stat in ['R', 'HR', 'RBI', 'SB']:\n",
    "    b['z'+stat] = (b[stat]-z_table[stat]['mean']) / z_table[stat]['std']\n",
    "\n",
    "b['zBA'] = b['H']-(b['AB']*(z_table['H']['mean']) / z_table['AB']['mean'])\n",
    "b['zBA'] = (b['zBA']-b['zBA'].mean())/b['zBA'].std()\n",
    "b['z'] = b['zBA'] + b['zHR'] + b['zR'] + b['zRBI'] + b['zSB']\n",
    "\n",
    "for stat in ['W', 'K', 'S']:\n",
    "    p['z'+stat] = (p[stat]-z_table[stat]['mean']) / z_table[stat]['std']\n",
    "\n",
    "p['zER'] = ((p['ER']*9) - ((p['INNs'] * z_table['ER']['mean'] * 9) / z_table['INNs']['mean'])) * -1\n",
    "p['zERA'] = (p['zER'] - p['zER'].mean()) / p['zER'].std()\n",
    "p['zH+BB'] = ((p['HA']+p['BBI']) - (p['INNs'] * ((z_table['HA']['mean'] + z_table['BBI']['mean']) / z_table['INNs']['mean']))) * -1\n",
    "p['zWHIP'] = (p['zH+BB'] - p['zH+BB'].mean()) / p['zH+BB'].std()\n",
    "p['z'] = p['zERA'] + p['zWHIP'] + p['zW'] + p['zS'] + p['zK']"
   ]
  },
  {
   "cell_type": "code",
   "execution_count": null,
   "id": "532eac13",
   "metadata": {},
   "outputs": [],
   "source": [
    "p['zER'].mean(), p['zER'].std()\n",
    "p.sort_values('z').tail(15)"
   ]
  },
  {
   "cell_type": "code",
   "execution_count": null,
   "id": "4eeb8a6b",
   "metadata": {},
   "outputs": [],
   "source": [
    "conv = (260*12)/(b[b['z']>0].z.sum() + p[p['z']>0].z.sum())\n",
    "conv"
   ]
  },
  {
   "cell_type": "code",
   "execution_count": null,
   "id": "10dd56e4",
   "metadata": {},
   "outputs": [],
   "source": [
    "b['$'] = b['z'] * conv *.65\n",
    "p['$'] = p['z'] * conv *.35"
   ]
  },
  {
   "cell_type": "code",
   "execution_count": null,
   "id": "bc74e761",
   "metadata": {},
   "outputs": [],
   "source": [
    "b[b['Status']=='Start'].groupby('Owner')['$'].sum()"
   ]
  },
  {
   "cell_type": "code",
   "execution_count": null,
   "id": "d9b80145",
   "metadata": {},
   "outputs": [],
   "source": [
    "#ba_pts = row['H']-(row['AB']*(qual_avgs['H'][0]/qual_avgs['AB'][0]))\n",
    "#zBA = (ba_pts-qual_avgs['zlgBA'][0])/qual_avgs['zlgBA'][1]\n",
    "play = b[(b['Owner']=='Lima Time') & (b['Status']=='Start')]\n",
    "bench = b[(b['Owner']=='Lima Time') & (b['Status']=='Bench')]"
   ]
  },
  {
   "cell_type": "code",
   "execution_count": null,
   "id": "a707cfb8",
   "metadata": {},
   "outputs": [],
   "source": [
    "play"
   ]
  },
  {
   "cell_type": "code",
   "execution_count": null,
   "id": "2bcc7e18",
   "metadata": {},
   "outputs": [],
   "source": [
    "bench"
   ]
  },
  {
   "cell_type": "code",
   "execution_count": null,
   "id": "b1cd4088",
   "metadata": {},
   "outputs": [],
   "source": [
    "def get_position_list(player):\n",
    "    elig = player.split(',')\n",
    "    for pos in elig:\n",
    "        if pos in ['1B', '3B']:\n",
    "            elig.extend(['CI'])\n",
    "        elif pos in ['2B', 'SS']:\n",
    "            elig.extend(['MI'])\n",
    "    elig.extend(['DH'])\n",
    "    return list(dict.fromkeys(elig))\n",
    "\n",
    "def check_if_better(cur, new):\n",
    "    if new > cur:\n",
    "        return new\n",
    "    else:\n",
    "        return cur"
   ]
  },
  {
   "cell_type": "code",
   "execution_count": null,
   "id": "4c1dfb92",
   "metadata": {},
   "outputs": [],
   "source": [
    "# Line-up Optimization Algorithm\n",
    "base_z = play['z'].sum()\n",
    "\n",
    "for bench_spot in range(bench.shape[0]):\n",
    "    optimal_z = play['z'].sum()\n",
    "\n",
    "    for i in get_position_list(bench['Elig'].iloc[bench_spot]):\n",
    "        mask = (play['Pos']==i)\n",
    "        if i in ['C', '1B', '2B', 'SS', '3B', 'MI', 'CI']:\n",
    "            optimal_z = check_if_better(base_z + bench.iloc[bench_spot]['z'] - play[mask]['z'].iloc[0], optimal_z)\n",
    "        if i=='OF':\n",
    "            optimal_z = check_if_better(base_z + bench.iloc[bench_spot]['z'] - play[mask]['z'].iloc[0], optimal_z)\n",
    "            optimal_z = check_if_better(base_z + bench.iloc[bench_spot]['z'] - play[mask]['z'].iloc[1], optimal_z)\n",
    "            optimal_z = check_if_better(base_z + bench.iloc[bench_spot]['z'] - play[mask]['z'].iloc[2], optimal_z)\n",
    "            optimal_z = check_if_better(base_z + bench.iloc[bench_spot]['z'] - play[mask]['z'].iloc[3], optimal_z)\n",
    "            optimal_z = check_if_better(base_z + bench.iloc[bench_spot]['z'] - play[mask]['z'].iloc[4], optimal_z)\n",
    "        if i=='DH':\n",
    "            optimal_z = check_if_better(base_z + bench.iloc[bench_spot]['z'] - play[mask]['z'].iloc[0], optimal_z)\n",
    "            optimal_z = check_if_better(base_z + bench.iloc[bench_spot]['z'] - play[mask]['z'].iloc[1], optimal_z)\n",
    "    \n",
    "    if optimal_z > play['z'].sum():\n",
    "        print('The line-up is not optimal.',bench.iloc[bench_spot]['Name'],'should go in.')\n",
    "    else:\n",
    "        print('The line-up is already optimal.',bench.iloc[bench_spot]['Name'],'should stay on the bench.')"
   ]
  },
  {
   "cell_type": "code",
   "execution_count": null,
   "id": "d40cb82c",
   "metadata": {},
   "outputs": [],
   "source": [
    "b[b['Elig'].str.contains('OF')].groupby('Owner')['z'].mean()"
   ]
  },
  {
   "cell_type": "code",
   "execution_count": null,
   "id": "c8033829",
   "metadata": {},
   "outputs": [],
   "source": [
    "b[b['Owner']=='Brewbirds']"
   ]
  },
  {
   "cell_type": "code",
   "execution_count": null,
   "id": "c61548d2",
   "metadata": {},
   "outputs": [],
   "source": [
    "trade = b.copy()"
   ]
  },
  {
   "cell_type": "code",
   "execution_count": null,
   "id": "7fbc562a",
   "metadata": {},
   "outputs": [],
   "source": [
    "trade.loc[trade['Name']=='Nolan Arenado', 'Owner'] = 'Lima Time'\n",
    "trade.loc[trade['Name']=='Tyler O\\'Neill', 'Owner'] = 'Dirty Birds'"
   ]
  },
  {
   "cell_type": "code",
   "execution_count": null,
   "id": "25505f58",
   "metadata": {},
   "outputs": [],
   "source": [
    "trade[trade['Name'].isin(['Ryan McMahon', 'Tyler O\\'Neill'])]"
   ]
  },
  {
   "cell_type": "code",
   "execution_count": null,
   "id": "ee7cf690",
   "metadata": {},
   "outputs": [],
   "source": [
    "get_proj_batting_stats_by_owner(trade)"
   ]
  },
  {
   "cell_type": "code",
   "execution_count": null,
   "id": "db092f5d",
   "metadata": {},
   "outputs": [],
   "source": [
    "proj_batting_stats_by_owner"
   ]
  },
  {
   "cell_type": "code",
   "execution_count": null,
   "id": "e7b3a901",
   "metadata": {},
   "outputs": [],
   "source": [
    "get_batting_ranks(get_proj_batting_stats_by_owner(trade)).sort_values('Pts', ascending=False)"
   ]
  },
  {
   "cell_type": "code",
   "execution_count": null,
   "id": "d80b066c",
   "metadata": {},
   "outputs": [],
   "source": [
    "from pybaseball.analysis.projections.marcels import MarcelProjectionsPitching\n",
    "from pybaseball.analysis.projections.marcels import MarcelProjectionsBatting\n",
    "from pybaseball.lahman import people"
   ]
  },
  {
   "cell_type": "code",
   "execution_count": null,
   "id": "ec2d664b",
   "metadata": {},
   "outputs": [],
   "source": [
    "ppl = people()  # for merging player names onto the projections\n",
    "ppl['Player'] = ppl['nameFirst'].str.cat(ppl['nameLast'], ' ')\n",
    "marcel_batting = MarcelProjectionsBatting()\n",
    "marcel_pitching = MarcelProjectionsPitching()"
   ]
  },
  {
   "cell_type": "code",
   "execution_count": null,
   "id": "06c8bf6a",
   "metadata": {},
   "outputs": [],
   "source": [
    "pitchers = marcel_pitching.projections(2022)\n",
    "batters = marcel_batting.projections(2022)\n",
    "pitchers = pd.merge(ppl[['playerID', 'Player']], pitchers, on='playerID', how='right')\n",
    "batters = pd.merge(ppl[['playerID', 'Player']], batters, on='playerID', how='right')"
   ]
  },
  {
   "cell_type": "code",
   "execution_count": null,
   "id": "242e19f4",
   "metadata": {},
   "outputs": [],
   "source": [
    "pitchers.sort_values('SO', ascending=False).head()"
   ]
  },
  {
   "cell_type": "code",
   "execution_count": null,
   "id": "670e360e",
   "metadata": {},
   "outputs": [],
   "source": [
    "batters.sort_values('HR', ascending=False).head(20)"
   ]
  },
  {
   "cell_type": "code",
   "execution_count": null,
   "id": "405acc5e",
   "metadata": {},
   "outputs": [],
   "source": []
  }
 ],
 "metadata": {
  "hide_input": false,
  "kernelspec": {
   "display_name": "Python 3 (ipykernel)",
   "language": "python",
   "name": "python3"
  },
  "language_info": {
   "codemirror_mode": {
    "name": "ipython",
    "version": 3
   },
   "file_extension": ".py",
   "mimetype": "text/x-python",
   "name": "python",
   "nbconvert_exporter": "python",
   "pygments_lexer": "ipython3",
   "version": "3.7.4"
  }
 },
 "nbformat": 4,
 "nbformat_minor": 5
}
